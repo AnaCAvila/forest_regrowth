{
 "cells": [
  {
   "cell_type": "markdown",
   "id": "b1fb7c7e-6db0-4fc0-94a6-2cc612941dfa",
   "metadata": {
    "id": "WS0xSMYLdJp8"
   },
   "source": [
    "## Climate\n",
    "\n",
    "### CWD\n",
    "\n",
    "Calculate mean AET from MODIS and calculate CWD from the precipitation values as in Celso\n",
    "\n",
    "Since MODIS only goes back to 2000, for now we are stuck with a fixed value for ET\n"
   ]
  },
  {
   "cell_type": "code",
   "execution_count": 113,
   "id": "2ac8cc03-b766-4f99-8a8c-4cec68e3a37b",
   "metadata": {
    "colab": {
     "base_uri": "https://localhost:8080/",
     "height": 17
    },
    "id": "FpDIKBQNAsdq",
    "outputId": "41bd5088-d521-4492-ae87-ce706e3ee93a"
   },
   "outputs": [
    {
     "data": {
      "text/html": [
       "\n",
       "            <style>\n",
       "                .geemap-dark {\n",
       "                    --jp-widgets-color: white;\n",
       "                    --jp-widgets-label-color: white;\n",
       "                    --jp-ui-font-color1: white;\n",
       "                    --jp-layout-color2: #454545;\n",
       "                    background-color: #383838;\n",
       "                }\n",
       "                    \n",
       "                .geemap-dark .jupyter-button {\n",
       "                    --jp-layout-color3: #383838;\n",
       "                }\n",
       "                \n",
       "                .geemap-colab {\n",
       "                    background-color: var(--colab-primary-surface-color, white);\n",
       "                }\n",
       "                    \n",
       "                .geemap-colab .jupyter-button {\n",
       "                    --jp-layout-color3: var(--colab-primary-surface-color, white);\n",
       "                }\n",
       "            </style>\n",
       "            "
      ],
      "text/plain": [
       "<IPython.core.display.HTML object>"
      ]
     },
     "metadata": {},
     "output_type": "display_data"
    }
   ],
   "source": [
    "# Function to calculate mean AET and add year property\n",
    "# select for mature forests since the values can be put off by deforestation (causes lower ET)\n",
    "\n",
    "start = \"2002-01-01\"\n",
    "end = \"2020-12-01\"\n",
    "\n",
    "modis = ee.ImageCollection(\"MODIS/061/MOD16A2GF\") \\\n",
    "         .filterDate(start, end) \\\n",
    "         .select('ET', 'ET_QC').map(lambda image: image.clip(roi).updateMask(mature_mask)\n",
    "         .reproject(scale = 10000, crs = 'EPSG:4326').reduceResolution(ee.Reducer.median()))\n",
    "\n",
    "months = ee.List.sequence(1, 12)\n",
    "years = ee.List.sequence(1985, 2019)"
   ]
  },
  {
   "cell_type": "code",
   "execution_count": 114,
   "id": "a113e577-d866-42f5-8ae4-fd33fc44a176",
   "metadata": {},
   "outputs": [
    {
     "data": {
      "text/html": [
       "\n",
       "            <style>\n",
       "                .geemap-dark {\n",
       "                    --jp-widgets-color: white;\n",
       "                    --jp-widgets-label-color: white;\n",
       "                    --jp-ui-font-color1: white;\n",
       "                    --jp-layout-color2: #454545;\n",
       "                    background-color: #383838;\n",
       "                }\n",
       "                    \n",
       "                .geemap-dark .jupyter-button {\n",
       "                    --jp-layout-color3: #383838;\n",
       "                }\n",
       "                \n",
       "                .geemap-colab {\n",
       "                    background-color: var(--colab-primary-surface-color, white);\n",
       "                }\n",
       "                    \n",
       "                .geemap-colab .jupyter-button {\n",
       "                    --jp-layout-color3: var(--colab-primary-surface-color, white);\n",
       "                }\n",
       "            </style>\n",
       "            "
      ],
      "text/plain": [
       "<IPython.core.display.HTML object>"
      ]
     },
     "metadata": {},
     "output_type": "display_data"
    }
   ],
   "source": [
    "# code sourced from https://spatialthoughts.com/2021/08/19/qa-bands-bitmasks-gee/\n",
    "def bitwise_extract(input, from_bit, to_bit):\n",
    "   mask_size = ee.Number(1).add(to_bit).subtract(from_bit)\n",
    "   mask = ee.Number(1).leftShift(mask_size).subtract(1)\n",
    "   return input.rightShift(from_bit).bitwiseAnd(mask)\n",
    "\n",
    "def apply_QA_mask (image):\n",
    "    QA = image.select('ET_QC')\n",
    "    ET = image.select('ET').multiply(0.0125)  # multiply by the scale 0.1, divide by 8 to get daily info\n",
    "    cloud_mask = bitwise_extract(QA, 3, 4).lte(0)\n",
    "    qa_mask = bitwise_extract(QA, 5, 7).lte(1)\n",
    "    mask = cloud_mask.And(qa_mask)\n",
    "    return ET.updateMask(mask).set('system:time_start', image.get('system:time_start'))\n",
    "\n",
    "# mask quality of pixels\n",
    "modis_masked = modis.map(apply_QA_mask)\n",
    "\n",
    "# Loop through the months and filter images\n",
    "def et_monthly(month):\n",
    "    eight_day_images = modis_masked.select('ET').filter(ee.Filter.calendarRange(month, month, 'month'))\n",
    "    monthly_et = eight_day_images.median().multiply(30).reduceRegions(ecoregions, \\\n",
    "                                                                      reducer = ee.Reducer.median(), scale = 10000)\n",
    "    return monthly_et.set('month', month)\n",
    "\n",
    "monthly_et_list = ee.List(months.map(et_monthly))"
   ]
  },
  {
   "cell_type": "markdown",
   "id": "d6ccc307-4b62-4618-8c4b-d5c3a76906c1",
   "metadata": {},
   "source": [
    "### Terraclim and seasonality\n",
    "\n",
    "Bring temperature and precipitation and calculate seasonality"
   ]
  },
  {
   "cell_type": "code",
   "execution_count": 115,
   "id": "0404e057-97ff-45b2-92da-0a71181256ea",
   "metadata": {
    "colab": {
     "base_uri": "https://localhost:8080/",
     "height": 17
    },
    "id": "cxW0T6D7uEbA",
    "outputId": "2b0937e4-cd42-4cbd-be70-938a32cfaea6"
   },
   "outputs": [
    {
     "data": {
      "text/html": [
       "\n",
       "            <style>\n",
       "                .geemap-dark {\n",
       "                    --jp-widgets-color: white;\n",
       "                    --jp-widgets-label-color: white;\n",
       "                    --jp-ui-font-color1: white;\n",
       "                    --jp-layout-color2: #454545;\n",
       "                    background-color: #383838;\n",
       "                }\n",
       "                    \n",
       "                .geemap-dark .jupyter-button {\n",
       "                    --jp-layout-color3: #383838;\n",
       "                }\n",
       "                \n",
       "                .geemap-colab {\n",
       "                    background-color: var(--colab-primary-surface-color, white);\n",
       "                }\n",
       "                    \n",
       "                .geemap-colab .jupyter-button {\n",
       "                    --jp-layout-color3: var(--colab-primary-surface-color, white);\n",
       "                }\n",
       "            </style>\n",
       "            "
      ],
      "text/plain": [
       "<IPython.core.display.HTML object>"
      ]
     },
     "metadata": {},
     "output_type": "display_data"
    }
   ],
   "source": [
    "terraclim = ee.ImageCollection('IDAHO_EPSCOR/TERRACLIMATE') \\\n",
    "              .filterDate('1985-01-01', '2019-12-31') \\\n",
    "              .map(lambda image : image.clip(roi) \\\n",
    "                  .reproject(scale = 10000, crs = 'EPSG:4326').reduceResolution(ee.Reducer.median()))\n",
    "\n",
    "maxtemp = terraclim.select('tmmx').map(lambda image: image.multiply(0.1))\n",
    "mintemp = terraclim.select('tmmn').map(lambda image: image.multiply(0.1))\n",
    "radiation = terraclim.select('srad').map(lambda image: image.multiply(0.1))\n",
    "prec = terraclim.select('pr')"
   ]
  },
  {
   "cell_type": "code",
   "execution_count": 110,
   "id": "cfd3960f-da72-4a59-a253-7679500161a4",
   "metadata": {},
   "outputs": [
    {
     "data": {
      "text/html": [
       "\n",
       "            <style>\n",
       "                .geemap-dark {\n",
       "                    --jp-widgets-color: white;\n",
       "                    --jp-widgets-label-color: white;\n",
       "                    --jp-ui-font-color1: white;\n",
       "                    --jp-layout-color2: #454545;\n",
       "                    background-color: #383838;\n",
       "                }\n",
       "                    \n",
       "                .geemap-dark .jupyter-button {\n",
       "                    --jp-layout-color3: #383838;\n",
       "                }\n",
       "                \n",
       "                .geemap-colab {\n",
       "                    background-color: var(--colab-primary-surface-color, white);\n",
       "                }\n",
       "                    \n",
       "                .geemap-colab .jupyter-button {\n",
       "                    --jp-layout-color3: var(--colab-primary-surface-color, white);\n",
       "                }\n",
       "            </style>\n",
       "            "
      ],
      "text/plain": [
       "<IPython.core.display.HTML object>"
      ]
     },
     "metadata": {},
     "output_type": "display_data"
    }
   ],
   "source": [
    "monthly_wd = prec.map(lambda image: image.subtract(100))\n",
    "# monthly_wd_list = monthly_wd.toList(monthly_wd.size())\n",
    "\n",
    "\n",
    "\n",
    "def cwd_monthly(current_image, previous_dict):\n",
    "    current_image = ee.Image(current_image)\n",
    "    previous_dict = ee.Dictionary(previous_dict)\n",
    "    previous_image = ee.Image(previous_dict.get('result_image'))\n",
    "    result_image = previous_image.add(current_image).where(previous_image.gt(0), 0) \\\n",
    "                                   .set('system:time_start', current_image.get('system:time_start'))\n",
    "    return ee.Dictionary({\n",
    "        'result_image': ee.Image(result_image),\n",
    "        'cwd_list': ee.List(previous_dict.get('cwd_list')).add(result_image)})\n",
    "\n",
    "# Use iterate to apply the function to each image\n",
    "cwd_dict = ee.Dictionary(water_deficit.iterate(cwd_monthly, ee.Dictionary({'result_image': ee.Image(0),\n",
    "                                                               'cwd_list': ee.List([])})))\n",
    "cwd_list = ee.List(cwd_dict.get('cwd_list'))\n",
    "\n",
    "\n",
    "def mcwd_yearly(year):\n",
    "    # Calculate the start and end indices for the current year\n",
    "    start = ee.Number(year).subtract(1985).multiply(12)\n",
    "    end = start.add(12)\n",
    "    # Slice the list to get the images for the current year\n",
    "    yr = ee.List(cwd_list).slice(start, end)\n",
    "    cwd_a = ee.ImageCollection.fromImages(yr)\n",
    "    mcwd_a = cwd_a.reduce(ee.Reducer.min())\n",
    "    return mcwd_a.set('year', year)\n",
    "\n",
    "# Map the function over the range\n",
    "annual_mcwd = ee.ImageCollection.fromImages(years.map(mcwd_yearly))"
   ]
  },
  {
   "cell_type": "code",
   "execution_count": 98,
   "id": "b750f3b8-4e47-4df7-92a2-f2bdd7a5a479",
   "metadata": {},
   "outputs": [
    {
     "data": {
      "text/html": [
       "\n",
       "            <style>\n",
       "                .geemap-dark {\n",
       "                    --jp-widgets-color: white;\n",
       "                    --jp-widgets-label-color: white;\n",
       "                    --jp-ui-font-color1: white;\n",
       "                    --jp-layout-color2: #454545;\n",
       "                    background-color: #383838;\n",
       "                }\n",
       "                    \n",
       "                .geemap-dark .jupyter-button {\n",
       "                    --jp-layout-color3: #383838;\n",
       "                }\n",
       "                \n",
       "                .geemap-colab {\n",
       "                    background-color: var(--colab-primary-surface-color, white);\n",
       "                }\n",
       "                    \n",
       "                .geemap-colab .jupyter-button {\n",
       "                    --jp-layout-color3: var(--colab-primary-surface-color, white);\n",
       "                }\n",
       "            </style>\n",
       "            "
      ],
      "text/plain": [
       "<IPython.core.display.HTML object>"
      ]
     },
     "metadata": {},
     "output_type": "display_data"
    }
   ],
   "source": [
    "def seasonality_calc(y):\n",
    "    yr_prec = prec.filter(ee.Filter.calendarRange(y, y, 'year'))\n",
    "    # get mean monthly precipitation for the year\n",
    "    mean_prec = yr_prec.reduce(ee.Reducer.mean())\n",
    "    # Calculate absolute deviations of monthly precipitation from mean\n",
    "    deviations = yr_prec.map(lambda month:month.subtract(mean_prec).abs())\n",
    "    # Calculate sum of absolute deviations for each month\n",
    "    sum_deviations = deviations.reduce(ee.Reducer.sum())\n",
    "    # Calculate total annual precipitation\n",
    "    total_annual_prec = yr_prec.reduce(ee.Reducer.sum())\n",
    "    # Calculate Seasonality Index (SI)\n",
    "    seasonality_index = sum_deviations.divide(total_annual_prec)\n",
    "    return seasonality_index\n",
    "\n",
    "yearly_SI = ee.ImageCollection.fromImages(years.map(seasonality_calc))"
   ]
  },
  {
   "cell_type": "code",
   "execution_count": 102,
   "id": "b6ff2b2c-8275-4aaf-a815-2f6fb44bbedb",
   "metadata": {},
   "outputs": [
    {
     "data": {
      "text/html": [
       "\n",
       "            <style>\n",
       "                .geemap-dark {\n",
       "                    --jp-widgets-color: white;\n",
       "                    --jp-widgets-label-color: white;\n",
       "                    --jp-ui-font-color1: white;\n",
       "                    --jp-layout-color2: #454545;\n",
       "                    background-color: #383838;\n",
       "                }\n",
       "                    \n",
       "                .geemap-dark .jupyter-button {\n",
       "                    --jp-layout-color3: #383838;\n",
       "                }\n",
       "                \n",
       "                .geemap-colab {\n",
       "                    background-color: var(--colab-primary-surface-color, white);\n",
       "                }\n",
       "                    \n",
       "                .geemap-colab .jupyter-button {\n",
       "                    --jp-layout-color3: var(--colab-primary-surface-color, white);\n",
       "                }\n",
       "            </style>\n",
       "            "
      ],
      "text/plain": [
       "<IPython.core.display.HTML object>"
      ]
     },
     "metadata": {},
     "output_type": "display_data"
    }
   ],
   "source": [
    "def meantemp_calc(y):\n",
    "    # Filter both maxtemp and mintemp ImageCollections by year at once\n",
    "    yearly_maxtemp = maxtemp.filter(ee.Filter.calendarRange(y, y, 'year'))\n",
    "    yearly_mintemp = mintemp.filter(ee.Filter.calendarRange(y, y, 'year'))\n",
    "    # Calculate the mean temperature directly\n",
    "    mean_temp = yearly_maxtemp.reduce(ee.Reducer.mean()).add(yearly_mintemp.reduce(ee.Reducer.mean())).divide(2)\n",
    "    return mean_temp\n",
    "\n",
    "# Map the function over the years\n",
    "mean_temp = ee.ImageCollection.fromImages(years.map(meantemp_calc))"
   ]
  }
 ],
 "metadata": {
  "kernelspec": {
   "display_name": "Python 3 (ipykernel)",
   "language": "python",
   "name": "python3"
  },
  "language_info": {
   "codemirror_mode": {
    "name": "ipython",
    "version": 3
   },
   "file_extension": ".py",
   "mimetype": "text/x-python",
   "name": "python",
   "nbconvert_exporter": "python",
   "pygments_lexer": "ipython3",
   "version": "3.11.5"
  }
 },
 "nbformat": 4,
 "nbformat_minor": 5
}
