{
 "cells": [
  {
   "cell_type": "markdown",
   "id": "33f2c521-2e73-4e6a-ae0a-1078a2ef877e",
   "metadata": {
    "id": "tXMqSCNSHiOm"
   },
   "source": [
    "## Ages\n",
    "\n",
    "Rewriting the code for \"Benchmark maps of 33 years of secondary forest age for Brazil\" to run with Collection 8 and include only class 3."
   ]
  },
  {
   "cell_type": "code",
   "execution_count": null,
   "id": "ef90a139-38f3-400f-83a2-128d45d00c80",
   "metadata": {
    "colab": {
     "base_uri": "https://localhost:8080/",
     "height": 17
    },
    "id": "_n39m7fpatWT",
    "outputId": "5ca67d2b-8e3d-47e2-b8ca-a259dc6c4c39"
   },
   "outputs": [
    {
     "data": {
      "text/html": [
       "\n",
       "            <style>\n",
       "                .geemap-dark {\n",
       "                    --jp-widgets-color: white;\n",
       "                    --jp-widgets-label-color: white;\n",
       "                    --jp-ui-font-color1: white;\n",
       "                    --jp-layout-color2: #454545;\n",
       "                    background-color: #383838;\n",
       "                }\n",
       "                    \n",
       "                .geemap-dark .jupyter-button {\n",
       "                    --jp-layout-color3: #383838;\n",
       "                }\n",
       "                \n",
       "                .geemap-colab {\n",
       "                    background-color: var(--colab-primary-surface-color, white);\n",
       "                }\n",
       "                    \n",
       "                .geemap-colab .jupyter-button {\n",
       "                    --jp-layout-color3: var(--colab-primary-surface-color, white);\n",
       "                }\n",
       "            </style>\n",
       "            "
      ],
      "text/plain": [
       "<IPython.core.display.HTML object>"
      ]
     },
     "metadata": {},
     "output_type": "display_data"
    }
   ],
   "source": [
    "# making masks\n",
    "# Anthropic, urban and Water Mask\n",
    "\n",
    "LU_index = [15, 39, 20, 40, 62, 41, 46, 47, 35, 48, 9]\n",
    "# INDEX ## 3 = forest\n",
    "# 15 = pasture\n",
    "# 39 = soy\n",
    "# 20 = sugar cane\n",
    "# 40 = rice\n",
    "# 62 = cotton\n",
    "# 41 = other temporary crop\n",
    "# 46 = coffee\n",
    "# 47 = citrus\n",
    "# 35 = palm oil\n",
    "# 48 = other perennial crop\n",
    "# 9 = forest plantation\n",
    "lulc_palette = [\"#f1c232\", \"#FFFFB2\", \"#FFD966\", \"#E974ED\", \"#D5A6BD\", \"#e075ad\", \"#C27BA0\", \"#982c9e\", \"#e787f8\", \"#cd49e4\", \"#ad4413\"]\n",
    "\n",
    "empty = ee.Image().byte()\n",
    "\n",
    "for i in range(first_year, last_year + 1):\n",
    "    year = 'classification_' + str(i)\n",
    "    anthropic = lulc.select(year).remap(LU_index, [1] * len(LU_index), 0).rename(year)\n",
    "    empty = empty.addBands(anthropic)\n",
    "\n",
    "anthropic_mask = empty.select(empty.bandNames().slice(1)) # we only want areas that DO show anthropic activity this year\n",
    "\n",
    "# Replace 'YOUR_WATER_IMAGE_ID' with the actual water image ID you are working with\n",
    "w_mask  = ee.Image(\"JRC/GSW1_4/GlobalSurfaceWater\").select(\"max_extent\").clip(roi).remap([0,1],[1,0]);\n",
    "\n",
    "urban = ee.Image(\"DLR/WSF/WSF2015/v1\").clip(roi)\n",
    "inverse_mask = urban.eq(1).Not()  # This will invert the mask, city pixels will be False (or 0) and non-urban pixels will be True (or 1)\n",
    "urban = urban.updateMask(inverse_mask)  # This will replace 1 values (city pixels) with NA\n",
    "urban_mask = urban.unmask(1)  # This will replace NA values (non-urban pixels) with 1\n",
    "\n",
    "# Define a color palette\n",
    "# palette = ['blue', 'red']  # Blue for 0, Red for 1\n",
    "# vizpar2 = {'min': 1, 'max': len(LU_index), 'palette': ['blue', 'red']}  # Blue for 0, Red for 1\n",
    "# Add the layer to the map with the color palette\n",
    "# Map.addLayer(w_mask, {'min': 0, 'max': 1, 'palette': palette}, 'w_mask')\n",
    "# Map.addLayer(urban_mask, {'palette': palette}, 'urban_mask')\n",
    "# Map.addLayer(anthropic_mask.select('classification_2020'), vizpar2, \"anthropic\")\n",
    "# Map"
   ]
  },
  {
   "cell_type": "code",
   "execution_count": null,
   "id": "abc48fcc-a6ba-4b36-9a0b-89d7bed018a1",
   "metadata": {
    "colab": {
     "base_uri": "https://localhost:8080/",
     "height": 17
    },
    "id": "jl-zsxXycgUv",
    "outputId": "d1771936-ebde-4d26-d708-461ee69a99bc"
   },
   "outputs": [
    {
     "data": {
      "text/html": [
       "\n",
       "            <style>\n",
       "                .geemap-dark {\n",
       "                    --jp-widgets-color: white;\n",
       "                    --jp-widgets-label-color: white;\n",
       "                    --jp-ui-font-color1: white;\n",
       "                    --jp-layout-color2: #454545;\n",
       "                    background-color: #383838;\n",
       "                }\n",
       "                    \n",
       "                .geemap-dark .jupyter-button {\n",
       "                    --jp-layout-color3: #383838;\n",
       "                }\n",
       "                \n",
       "                .geemap-colab {\n",
       "                    background-color: var(--colab-primary-surface-color, white);\n",
       "                }\n",
       "                    \n",
       "                .geemap-colab .jupyter-button {\n",
       "                    --jp-layout-color3: var(--colab-primary-surface-color, white);\n",
       "                }\n",
       "            </style>\n",
       "            "
      ],
      "text/plain": [
       "<IPython.core.display.HTML object>"
      ]
     },
     "metadata": {},
     "output_type": "display_data"
    }
   ],
   "source": [
    "# 1. Reclassifying MapBiomas Data # Step 1\n",
    "empty = ee.Image().byte();\n",
    "\n",
    "for i in range(first_year, last_year+1):\n",
    "    year = 'classification_' + str(i)\n",
    "    forest = lulc.select(year)\n",
    "    forest = forest.remap([3,6], [1,1], 0) # Forest Formation and Flooded Forest classes from MapBiomas Project\n",
    "    empty = empty.addBands(forest.rename(ee.String(year)))\n",
    "\n",
    "mapbiomas_forest = empty.select(empty.bandNames().slice(1))"
   ]
  },
  {
   "cell_type": "code",
   "execution_count": null,
   "id": "07231896-9c64-4c2e-a5f1-3615cdb2aa5f",
   "metadata": {
    "colab": {
     "base_uri": "https://localhost:8080/",
     "height": 17
    },
    "id": "RVug9E1vQ2Tk",
    "outputId": "7c747465-736d-4924-ce11-03d6efaec979"
   },
   "outputs": [
    {
     "data": {
      "text/html": [
       "\n",
       "            <style>\n",
       "                .geemap-dark {\n",
       "                    --jp-widgets-color: white;\n",
       "                    --jp-widgets-label-color: white;\n",
       "                    --jp-ui-font-color1: white;\n",
       "                    --jp-layout-color2: #454545;\n",
       "                    background-color: #383838;\n",
       "                }\n",
       "                    \n",
       "                .geemap-dark .jupyter-button {\n",
       "                    --jp-layout-color3: #383838;\n",
       "                }\n",
       "                \n",
       "                .geemap-colab {\n",
       "                    background-color: var(--colab-primary-surface-color, white);\n",
       "                }\n",
       "                    \n",
       "                .geemap-colab .jupyter-button {\n",
       "                    --jp-layout-color3: var(--colab-primary-surface-color, white);\n",
       "                }\n",
       "            </style>\n",
       "            "
      ],
      "text/plain": [
       "<IPython.core.display.HTML object>"
      ]
     },
     "metadata": {},
     "output_type": "display_data"
    }
   ],
   "source": [
    "# 2. Mapping the Annual Increment of Secondary Forests # Step 2\n",
    "regro = ee.Image().byte()\n",
    "defor = ee.Image().byte()\n",
    "\n",
    "for i in range(first_year, last_year):  # 1986-2020\n",
    "    year1 = f'classification_{i}'\n",
    "    year2 = f'classification_{i + 1}'\n",
    "    a_mask = anthropic_mask.select(year1);\n",
    "    forest1 = mapbiomas_forest.select(year1).remap([0, 1], [0, 2])  # Change forest pixels in 1985 to 2 years old\n",
    "    forest2 = mapbiomas_forest.select(year2)\n",
    "    # addition is 0 if was nonforest before and after; 1 if it was gained; 2 if it was forest before and then was lost; 3 if it was forest in both.\n",
    "    sforest = forest1.add(forest2).multiply(a_mask).multiply(w_mask).multiply(urban_mask)\n",
    "    for_gain = sforest.remap([0, 1, 2, 3], [0, 1, 0, 0]).rename(year2)\n",
    "    for_loss = sforest.remap([0, 1, 2, 3], [0, 0, 1, 0]).rename(year2)\n",
    "    regro = regro.addBands(for_gain)\n",
    "    defor = defor.addBands(for_loss)\n",
    "\n",
    "regro = regro.select(regro.bandNames().slice(1))  # Shows all years in which forest was gained.\n",
    "# here, we could just mask by pixels that are forest in 2020 and find the year of last gain."
   ]
  },
  {
   "cell_type": "code",
   "execution_count": null,
   "id": "00f119c1-bc87-47ee-ba48-7c0aea115be5",
   "metadata": {
    "colab": {
     "base_uri": "https://localhost:8080/",
     "height": 17
    },
    "id": "-oeXAPoLRFSy",
    "outputId": "3fd990f7-d8da-4047-cc1f-64cb778612a5"
   },
   "outputs": [
    {
     "data": {
      "text/html": [
       "\n",
       "            <style>\n",
       "                .geemap-dark {\n",
       "                    --jp-widgets-color: white;\n",
       "                    --jp-widgets-label-color: white;\n",
       "                    --jp-ui-font-color1: white;\n",
       "                    --jp-layout-color2: #454545;\n",
       "                    background-color: #383838;\n",
       "                }\n",
       "                    \n",
       "                .geemap-dark .jupyter-button {\n",
       "                    --jp-layout-color3: #383838;\n",
       "                }\n",
       "                \n",
       "                .geemap-colab {\n",
       "                    background-color: var(--colab-primary-surface-color, white);\n",
       "                }\n",
       "                    \n",
       "                .geemap-colab .jupyter-button {\n",
       "                    --jp-layout-color3: var(--colab-primary-surface-color, white);\n",
       "                }\n",
       "            </style>\n",
       "            "
      ],
      "text/plain": [
       "<IPython.core.display.HTML object>"
      ]
     },
     "metadata": {},
     "output_type": "display_data"
    }
   ],
   "source": [
    "# 3. Mapping the Annual Extent of Secondary Forests # Step 3\n",
    "extent = ee.Image().byte()\n",
    "# add pixels that gained forest in 1986\n",
    "extent = extent.addBands(regro.select('classification_1986').rename('classification_1986'))\n",
    "\n",
    "for i in range(first_year + 1, last_year): #1987 to 2020\n",
    "    year = f'classification_{i}' #1986\n",
    "    year2 = f'classification_{i + 1}' #1987\n",
    "    for_gain = regro.select(year2)\n",
    "    acm_forest = extent.select(year).add(for_gain) #pixels that gained forest in 1986 + pixels that gained forest in 1987\n",
    "    old_values = list(range(37))\n",
    "    new_values = [0, 1] + [1] * 35\n",
    "    remap = acm_forest.remap(old_values, new_values)\n",
    "    # mask (multiply) by pixels that were shown to be forest in 1987, hence eliminating any that may have regrown in 1986 but lost cover in 1987\n",
    "    extent = extent.addBands(remap.multiply(mapbiomas_forest.select(year2)).rename(year2))\n",
    "\n",
    "extent = extent.select(extent.bandNames().slice(1))"
   ]
  },
  {
   "cell_type": "code",
   "execution_count": null,
   "id": "e5c2f0cc-6db9-40bc-989d-c9e708bd8ab6",
   "metadata": {
    "colab": {
     "base_uri": "https://localhost:8080/",
     "height": 17
    },
    "id": "Gw2gpMcSRx6k",
    "outputId": "23fb2e4b-af2a-4cb9-df62-f89799ad80e5"
   },
   "outputs": [
    {
     "data": {
      "text/html": [
       "\n",
       "            <style>\n",
       "                .geemap-dark {\n",
       "                    --jp-widgets-color: white;\n",
       "                    --jp-widgets-label-color: white;\n",
       "                    --jp-ui-font-color1: white;\n",
       "                    --jp-layout-color2: #454545;\n",
       "                    background-color: #383838;\n",
       "                }\n",
       "                    \n",
       "                .geemap-dark .jupyter-button {\n",
       "                    --jp-layout-color3: #383838;\n",
       "                }\n",
       "                \n",
       "                .geemap-colab {\n",
       "                    background-color: var(--colab-primary-surface-color, white);\n",
       "                }\n",
       "                    \n",
       "                .geemap-colab .jupyter-button {\n",
       "                    --jp-layout-color3: var(--colab-primary-surface-color, white);\n",
       "                }\n",
       "            </style>\n",
       "            "
      ],
      "text/plain": [
       "<IPython.core.display.HTML object>"
      ]
     },
     "metadata": {},
     "output_type": "display_data"
    }
   ],
   "source": [
    "# 4. Calculating and Mapping the Age of Secondary Forests # Step 4\n",
    "ages = ee.Image().byte()\n",
    "ages = ages.addBands(extent.select('classification_1986').rename('classification_1986'))\n",
    "ages = ages.slice(1) # remove \"constant\" band\n",
    "age_total = ages # will use this as the \"last total age\" to keep iteratively adding values\n",
    "\n",
    "for i in range(first_year + 1, last_year):\n",
    "    year = f'classification_{i + 1}'# 1987-2020\n",
    "    sforest = extent.select(year) # forest cover in 1987\n",
    "    age_total = age_total.add(sforest) # 1 year old forests in 1986 + cover in 1987\n",
    "    f_year = mapbiomas_forest.select(year)\n",
    "    age_total = age_total.multiply(f_year) # mask by pixels that were forest that year, removing any forest loss\n",
    "    ages = ages.addBands(age_total.rename(year))\n",
    "\n",
    "ages = ages.updateMask(ages) #keep only values as ages or NA\n",
    "\n",
    "#ages range from 1 for those regrown in 2019-2020 to 35 for those regrown in 1985-1986\n",
    "age = ages.select('classification_2020').rename('age')\n",
    "\n",
    "# vizpar = {'min': 1, 'max': last_year - first_year, 'palette': ['blue', 'red']}  # Blue for 0, Red for 1\n",
    "# Map = geemap.Map(center=[-10, -40], zoom=4)\n",
    "# Map.addLayer(age, vizpar, \"ages\")\n",
    "# Map"
   ]
  }
 ],
 "metadata": {
  "kernelspec": {
   "display_name": "Python 3 (ipykernel)",
   "language": "python",
   "name": "python3"
  },
  "language_info": {
   "codemirror_mode": {
    "name": "ipython",
    "version": 3
   },
   "file_extension": ".py",
   "mimetype": "text/x-python",
   "name": "python",
   "nbconvert_exporter": "python",
   "pygments_lexer": "ipython3",
   "version": "3.11.5"
  }
 },
 "nbformat": 4,
 "nbformat_minor": 5
}
