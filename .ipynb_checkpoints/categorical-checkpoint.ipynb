{
 "cells": [
  {
   "cell_type": "markdown",
   "id": "732540fb-8c7e-4d1a-b0b4-dde2d564ce90",
   "metadata": {
    "id": "dDZeM0WiqXHT"
   },
   "source": [
    "## Categorical Variables\n",
    "Indigenous land, ecoregion, and soil type."
   ]
  },
  {
   "cell_type": "code",
   "execution_count": 25,
   "id": "8c5792c8-846e-4bd0-b1ab-40aaa43f7769",
   "metadata": {
    "colab": {
     "base_uri": "https://localhost:8080/",
     "height": 17
    },
    "id": "Awk9nNDkqVQQ",
    "outputId": "a176e4db-968d-4d59-b46e-2b6ace635c09"
   },
   "outputs": [
    {
     "data": {
      "text/html": [
       "\n",
       "            <style>\n",
       "                .geemap-dark {\n",
       "                    --jp-widgets-color: white;\n",
       "                    --jp-widgets-label-color: white;\n",
       "                    --jp-ui-font-color1: white;\n",
       "                    --jp-layout-color2: #454545;\n",
       "                    background-color: #383838;\n",
       "                }\n",
       "                    \n",
       "                .geemap-dark .jupyter-button {\n",
       "                    --jp-layout-color3: #383838;\n",
       "                }\n",
       "                \n",
       "                .geemap-colab {\n",
       "                    background-color: var(--colab-primary-surface-color, white);\n",
       "                }\n",
       "                    \n",
       "                .geemap-colab .jupyter-button {\n",
       "                    --jp-layout-color3: var(--colab-primary-surface-color, white);\n",
       "                }\n",
       "            </style>\n",
       "            "
      ],
      "text/plain": [
       "<IPython.core.display.HTML object>"
      ]
     },
     "metadata": {},
     "output_type": "display_data"
    }
   ],
   "source": [
    "ecoregions = (ee.FeatureCollection(\"RESOLVE/ECOREGIONS/2017\").filterBounds(roi)\n",
    "                .map(lambda feature: feature.intersection(roi)))\n",
    "ecoregions_img = ecoregions.reduceToImage(['ECO_ID'], ee.Reducer.first()).rename('ecoreg')\n",
    "\n",
    "indig_land = ee.FeatureCollection(\"projects/ee-ana-zonia/assets/indig_land\").filterBounds(roi)\n",
    "indig_land_img = ee.Image().byte().paint(indig_land, 'gid').rename(\"indig\").mask()"
   ]
  },
  {
   "cell_type": "markdown",
   "id": "62710f8f-b34d-4ad2-bd2e-6770effda8e1",
   "metadata": {
    "id": "VZIGY-RFuJtx"
   },
   "source": [
    "Soil categories are strings, which Image objects can't handle. To transform the feature collection into an image, we convert the strings to integers by creating a dictionary."
   ]
  },
  {
   "cell_type": "code",
   "execution_count": 26,
   "id": "ea0392fe-64a5-4283-9320-97ee9be28298",
   "metadata": {
    "colab": {
     "base_uri": "https://localhost:8080/",
     "height": 17
    },
    "id": "emB75_jOwuWu",
    "outputId": "90a03ac3-fd04-49ad-81ee-e0e5356aa307"
   },
   "outputs": [
    {
     "data": {
      "text/html": [
       "\n",
       "            <style>\n",
       "                .geemap-dark {\n",
       "                    --jp-widgets-color: white;\n",
       "                    --jp-widgets-label-color: white;\n",
       "                    --jp-ui-font-color1: white;\n",
       "                    --jp-layout-color2: #454545;\n",
       "                    background-color: #383838;\n",
       "                }\n",
       "                    \n",
       "                .geemap-dark .jupyter-button {\n",
       "                    --jp-layout-color3: #383838;\n",
       "                }\n",
       "                \n",
       "                .geemap-colab {\n",
       "                    background-color: var(--colab-primary-surface-color, white);\n",
       "                }\n",
       "                    \n",
       "                .geemap-colab .jupyter-button {\n",
       "                    --jp-layout-color3: var(--colab-primary-surface-color, white);\n",
       "                }\n",
       "            </style>\n",
       "            "
      ],
      "text/plain": [
       "<IPython.core.display.HTML object>"
      ]
     },
     "metadata": {},
     "output_type": "display_data"
    }
   ],
   "source": [
    "soil = (ee.FeatureCollection('projects/ee-ana-zonia/assets/DSMW').filterBounds(roi)\n",
    "                .map(lambda feature: feature.intersection(roi)))\n",
    "\n",
    "unique_domsoi = soil.aggregate_array('DOMSOI').distinct()\n",
    "\n",
    "domsoi_dict = ee.Dictionary.fromLists(unique_domsoi, ee.List.sequence(1, unique_domsoi.length()))\n",
    "\n",
    "soil = soil.remap(unique_domsoi, domsoi_dict.values(), 'DOMSOI')\n",
    "\n",
    "soil_img = soil.reduceToImage(['DOMSOI'], ee.Reducer.first()).rename('soil')"
   ]
  }
 ],
 "metadata": {
  "kernelspec": {
   "display_name": "Python 3 (ipykernel)",
   "language": "python",
   "name": "python3"
  },
  "language_info": {
   "codemirror_mode": {
    "name": "ipython",
    "version": 3
   },
   "file_extension": ".py",
   "mimetype": "text/x-python",
   "name": "python",
   "nbconvert_exporter": "python",
   "pygments_lexer": "ipython3",
   "version": "3.11.5"
  }
 },
 "nbformat": 4,
 "nbformat_minor": 5
}
