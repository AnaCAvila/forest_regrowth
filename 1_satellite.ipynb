{
 "cells": [
  {
   "cell_type": "markdown",
   "metadata": {},
   "source": [
    "## Satellite Data\n",
    "\n",
    "This script outputs the satellite-based rasters into the Google Earth Engine Cloud.\n",
    "\n",
    "Inputs:\n",
    "\n",
    "    - From MAPBIOMAS:\n",
    "        - secondary forest age\n",
    "        - land use land cover\n",
    "        - fire\n",
    "    - From ESA CCI Biomass:\n",
    "        - biomass (Mg C/hectare)\n",
    "\n",
    "Outputs:\n",
    "\n",
    "    - From MAPBIOMAS:\n",
    "        - last observed land use type\n",
    "        - number of years under each land use type\n",
    "        - number of fires\n",
    "        - time since last fire\n",
    "        - fallow period length\n"
   ]
  },
  {
   "cell_type": "code",
   "execution_count": 2,
   "metadata": {
    "id": "cOBmvER1OjFM"
   },
   "outputs": [],
   "source": [
    "import ee\n",
    "import geemap\n",
    "# import export_image\n",
    "\n",
    "# Authenticate to Earth Engine\n",
    "try:\n",
    "    ee.Initialize()\n",
    "except Exception as e:\n",
    "    ee.Authenticate()\n",
    "    ee.Initialize()\n",
    "\n",
    "first_year = 1985\n",
    "last_year = 2020\n",
    "# 1986 - 2019, years included in analysis\n",
    "years = range((first_year + 1), last_year)\n",
    "raw_data_folder = \"projects/amazon-forest-regrowth/assets/raw\"\n",
    "\n",
    "mask_1985 = False\n",
    "history_interval = 10\n",
    "\n",
    "export_age_agbd = False\n",
    "export_area = False\n",
    "export_land_use = False\n",
    "export_mature_forests = False\n",
    "export_age_area_mask = False"
   ]
  },
  {
   "cell_type": "code",
   "execution_count": 2,
   "metadata": {},
   "outputs": [
    {
     "data": {
      "text/html": [
       "\n",
       "            <style>\n",
       "                .geemap-dark {\n",
       "                    --jp-widgets-color: white;\n",
       "                    --jp-widgets-label-color: white;\n",
       "                    --jp-ui-font-color1: white;\n",
       "                    --jp-layout-color2: #454545;\n",
       "                    background-color: #383838;\n",
       "                }\n",
       "\n",
       "                .geemap-dark .jupyter-button {\n",
       "                    --jp-layout-color3: #383838;\n",
       "                }\n",
       "\n",
       "                .geemap-colab {\n",
       "                    background-color: var(--colab-primary-surface-color, white);\n",
       "                }\n",
       "\n",
       "                .geemap-colab .jupyter-button {\n",
       "                    --jp-layout-color3: var(--colab-primary-surface-color, white);\n",
       "                }\n",
       "            </style>\n",
       "            "
      ],
      "text/plain": [
       "<IPython.core.display.HTML object>"
      ]
     },
     "metadata": {},
     "output_type": "display_data"
    }
   ],
   "source": [
    "# import ages from MapBiomas\n",
    "age = ee.Image(\n",
    "    \"projects/mapbiomas-workspace/public/collection8/mapbiomas_collection80_secondary_vegetation_age_v1\"\n",
    ").select(\"secondary_vegetation_age_2020\")\n",
    "\n",
    "# Load images from MapBiomas Collection 8 for Land Use Land Cover and Burned Area\n",
    "lulc_all = (\n",
    "    ee.Image(\n",
    "        \"projects/mapbiomas-workspace/public/collection8/mapbiomas_collection80_integration_v1\"\n",
    "    )\n",
    "    .select([f\"classification_{year}\" for year in range(first_year, last_year + 1)])\n",
    "    .byte()\n",
    "    .rename([str(year) for year in range(first_year, last_year + 1)])\n",
    ")\n",
    "\n",
    "# restricting to only the land use in pixels classified as secondary forests in 2020:\n",
    "lulc = lulc_all.updateMask(age)\n",
    "\n",
    "fire = (\n",
    "    ee.Image(\n",
    "        \"projects/mapbiomas-workspace/public/collection7_1/mapbiomas-fire-collection2-annual-burned-coverage-1\"\n",
    "    )\n",
    "    .select([f\"burned_coverage_{year}\" for year in range(first_year, last_year)])\n",
    "    .byte()\n",
    "    .rename([str(year) for year in range(first_year, last_year)])\n",
    "    .updateMask(age)\n",
    ")\n",
    "\n",
    "# Shapefile of Brazil (area of study)\n",
    "roi = ee.FeatureCollection(f\"{raw_data_folder}/biomes_br\").geometry().dissolve()\n",
    "\n",
    "\n",
    "def export_image(img, name, scale):\n",
    "    # Create the export task\n",
    "    task = ee.batch.Export.image.toAsset(\n",
    "        image=img,\n",
    "        description=f\"{name}\",\n",
    "        assetId=f\"projects/amazon-forest-regrowth/assets/{name}\",\n",
    "        scale=scale,\n",
    "        crs=\"EPSG:4326\",\n",
    "        maxPixels=4e12,\n",
    "    )\n",
    "    # Start the export task\n",
    "    task.start()"
   ]
  },
  {
   "cell_type": "markdown",
   "metadata": {},
   "source": [
    "## Removing pixels with undesired land use categories\n",
    "\n",
    "Some land use categories are not relevant to the model (such as rocky surfaces or mangroves)\n",
    "\n",
    "All pixels with **at least one observation of the undesired land use history** are used to make a mask, to leave behind only pixels with occurrences of only desired land use types.\n",
    "\n",
    "\n",
    "Land use types we are interested in:\n",
    "\n",
    "    3 = forest\n",
    "    15 = pasture\n",
    "    39 = soy\n",
    "    20 = sugar cane\n",
    "    21 = mosaic of uses\n",
    "    40 = rice\n",
    "    62 = cotton\n",
    "    41 = other temporary crop\n",
    "    46 = coffee\n",
    "    47 = citrus\n",
    "    35 = palm oil\n",
    "    48 = other perennial crop\n",
    "    9 = forest plantationantation"
   ]
  },
  {
   "cell_type": "code",
   "execution_count": 18,
   "metadata": {},
   "outputs": [
    {
     "data": {
      "text/html": [
       "\n",
       "            <style>\n",
       "                .geemap-dark {\n",
       "                    --jp-widgets-color: white;\n",
       "                    --jp-widgets-label-color: white;\n",
       "                    --jp-ui-font-color1: white;\n",
       "                    --jp-layout-color2: #454545;\n",
       "                    background-color: #383838;\n",
       "                }\n",
       "\n",
       "                .geemap-dark .jupyter-button {\n",
       "                    --jp-layout-color3: #383838;\n",
       "                }\n",
       "\n",
       "                .geemap-colab {\n",
       "                    background-color: var(--colab-primary-surface-color, white);\n",
       "                }\n",
       "\n",
       "                .geemap-colab .jupyter-button {\n",
       "                    --jp-layout-color3: var(--colab-primary-surface-color, white);\n",
       "                }\n",
       "            </style>\n",
       "            "
      ],
      "text/plain": [
       "<IPython.core.display.HTML object>"
      ]
     },
     "metadata": {},
     "output_type": "display_data"
    }
   ],
   "source": [
    "# List the categories that are DESIRED to be maintained\n",
    "desired_values = ee.List([3, 15, 39, 20, 40, 62, 41, 46, 47, 35, 48, 9, 21])\n",
    "mask_all_ones = ee.List.repeat(1, desired_values.size())\n",
    "\n",
    "\n",
    "# For each band, convert pixels with desired land use types to 1 - undesired types to zero\n",
    "def remap_band(band_name):\n",
    "    band = lulc.select(ee.String(band_name))\n",
    "    new_band = band.remap(desired_values, mask_all_ones, 0)\n",
    "    return new_band.rename(ee.String(band_name))\n",
    "\n",
    "\n",
    "# Map the function over the band names\n",
    "remapped_image = lulc.bandNames().map(remap_band)\n",
    "# make mask by adding all pixels that add up to the total number of years (all pixels with desired categories)\n",
    "remapped_image = ee.ImageCollection(remapped_image).toBands()\n",
    "desired_mask = remapped_image.reduce(\"sum\").eq(lulc.bandNames().size().getInfo())\n",
    "\n",
    "age = age.updateMask(desired_mask).rename(\"age\")\n",
    "lulc = lulc.updateMask(desired_mask)\n",
    "fire = fire.updateMask(desired_mask)"
   ]
  },
  {
   "cell_type": "markdown",
   "metadata": {},
   "source": [
    "## Biomass - Export age_agbd\n",
    "\n",
    "Biomass data is in hectares, but mapbiomas data is 30m resolution.\n",
    "\n",
    "To deal with edge pixels, we reproject biomass values to 10m resolution and then reaggregate to 30m by using the mean (so there is a buffer for land use pixels caught in between two biomass values)."
   ]
  },
  {
   "cell_type": "code",
   "execution_count": 3,
   "metadata": {},
   "outputs": [
    {
     "data": {
      "text/html": [
       "\n",
       "            <style>\n",
       "                .geemap-dark {\n",
       "                    --jp-widgets-color: white;\n",
       "                    --jp-widgets-label-color: white;\n",
       "                    --jp-ui-font-color1: white;\n",
       "                    --jp-layout-color2: #454545;\n",
       "                    background-color: #383838;\n",
       "                }\n",
       "\n",
       "                .geemap-dark .jupyter-button {\n",
       "                    --jp-layout-color3: #383838;\n",
       "                }\n",
       "\n",
       "                .geemap-colab {\n",
       "                    background-color: var(--colab-primary-surface-color, white);\n",
       "                }\n",
       "\n",
       "                .geemap-colab .jupyter-button {\n",
       "                    --jp-layout-color3: var(--colab-primary-surface-color, white);\n",
       "                }\n",
       "            </style>\n",
       "            "
      ],
      "text/plain": [
       "<IPython.core.display.HTML object>"
      ]
     },
     "metadata": {},
     "output_type": "display_data"
    },
    {
     "ename": "NameError",
     "evalue": "name 'age' is not defined",
     "output_type": "error",
     "traceback": [
      "\u001b[0;31m---------------------------------------------------------------------------\u001b[0m",
      "\u001b[0;31mNameError\u001b[0m                                 Traceback (most recent call last)",
      "Cell \u001b[0;32mIn[3], line 6\u001b[0m\n\u001b[1;32m      3\u001b[0m proj \u001b[38;5;241m=\u001b[39m biomass_all\u001b[38;5;241m.\u001b[39mprojection()\u001b[38;5;241m.\u001b[39mgetInfo()\n\u001b[1;32m      5\u001b[0m \u001b[38;5;66;03m# Reproject to 10m\u001b[39;00m\n\u001b[0;32m----> 6\u001b[0m biomass \u001b[38;5;241m=\u001b[39m biomass_all\u001b[38;5;241m.\u001b[39mreproject(crs\u001b[38;5;241m=\u001b[39m\u001b[43mage\u001b[49m\u001b[38;5;241m.\u001b[39mprojection(), scale\u001b[38;5;241m=\u001b[39m\u001b[38;5;241m10\u001b[39m)\n\u001b[1;32m      7\u001b[0m \u001b[38;5;66;03m# Reaggregate to 30m (mean value)\u001b[39;00m\n\u001b[1;32m      8\u001b[0m biomass \u001b[38;5;241m=\u001b[39m biomass\u001b[38;5;241m.\u001b[39mreduceResolution(reducer\u001b[38;5;241m=\u001b[39mee\u001b[38;5;241m.\u001b[39mReducer\u001b[38;5;241m.\u001b[39mmean())\u001b[38;5;241m.\u001b[39mreproject(\n\u001b[1;32m      9\u001b[0m     crs \u001b[38;5;241m=\u001b[39m age\u001b[38;5;241m.\u001b[39mprojection()\n\u001b[1;32m     10\u001b[0m )\n",
      "\u001b[0;31mNameError\u001b[0m: name 'age' is not defined"
     ]
    }
   ],
   "source": [
    "# biomass for 2020 comes from CCI Biomass\n",
    "biomass_all = ee.Image(f\"{raw_data_folder}/biomass\")\n",
    "proj = biomass_all.projection().getInfo()\n",
    "\n",
    "# Reproject to 10m\n",
    "biomass = biomass_all.reproject(crs=age.projection(), scale=10)\n",
    "# Reaggregate to 30m (mean value)\n",
    "biomass = biomass.reduceResolution(reducer=ee.Reducer.mean()).reproject(\n",
    "    crs = age.projection()\n",
    ")\n",
    "# Mask only to regions with age greater than zero (secondary forests)\n",
    "biomass = biomass.updateMask(age).int16().rename(\"agbd\")\n",
    "\n",
    "age_agbd = age.updateMask(biomass).addBands(biomass).addBands(age.pixelLonLat().float())\n",
    "\n",
    "if export_age_agbd:\n",
    "    export_image(age_agbd, f\"age_agbd\", scale=30)"
   ]
  },
  {
   "cell_type": "markdown",
   "metadata": {},
   "source": [
    "## Remove isolated pixels - Export one_hectare_mask\n",
    "\n",
    "In the map, there were isolated pixels, often around the edges of forest patches. These would likely be due to misclassification, or follow different behaviors due to edge effects.\n",
    "\n",
    "To avoid this issue, a kernel is applied here to include only secondary forest patches that are mostly surrounded by other secondary forest pixels."
   ]
  },
  {
   "cell_type": "code",
   "execution_count": 21,
   "metadata": {},
   "outputs": [
    {
     "data": {
      "text/html": [
       "\n",
       "            <style>\n",
       "                .geemap-dark {\n",
       "                    --jp-widgets-color: white;\n",
       "                    --jp-widgets-label-color: white;\n",
       "                    --jp-ui-font-color1: white;\n",
       "                    --jp-layout-color2: #454545;\n",
       "                    background-color: #383838;\n",
       "                }\n",
       "\n",
       "                .geemap-dark .jupyter-button {\n",
       "                    --jp-layout-color3: #383838;\n",
       "                }\n",
       "\n",
       "                .geemap-colab {\n",
       "                    background-color: var(--colab-primary-surface-color, white);\n",
       "                }\n",
       "\n",
       "                .geemap-colab .jupyter-button {\n",
       "                    --jp-layout-color3: var(--colab-primary-surface-color, white);\n",
       "                }\n",
       "            </style>\n",
       "            "
      ],
      "text/plain": [
       "<IPython.core.display.HTML object>"
      ]
     },
     "metadata": {},
     "output_type": "display_data"
    }
   ],
   "source": [
    "# convert non-forest pixels from NA to zero\n",
    "# check what is the most frequent value within each hectare - if it's zero, it means the pixel is surrounded by non-forest cover\n",
    "one_hectare_mask = age.unmask(0).focalMode(kernelType = \"circle\", radius = 100, units = \"meters\").selfMask()\n",
    "\n",
    "if export_age_area_mask:\n",
    "    export_image(one_hectare_mask, \"one_hectare_mask\", scale=30)"
   ]
  },
  {
   "cell_type": "markdown",
   "metadata": {},
   "source": [
    "## Land Use Land Cover\n",
    "\n",
    "### Restricting history to n years before abandonment\n",
    "\n",
    "Since we only have land use history dating back to 1985, the data is censored. In order to restrict history to exclude pixels with possible long histories of anthropogenic use pre-1985 which could not be included in the analysis:\n",
    "\n",
    "- Make a mask with regrowing pixels that were forested in 1985 (keep only the patches that were forested in 1985, then subsequently deforested, and regrew after that).\n",
    "\n",
    "- Making a mask including only pixels that have a specified number of bands (hist_interval) between the first and the last occurrence of an anthropogenic pixel (desired extent of land use history to include)\n"
   ]
  },
  {
   "cell_type": "code",
   "execution_count": 22,
   "metadata": {},
   "outputs": [
    {
     "data": {
      "text/html": [
       "\n",
       "            <style>\n",
       "                .geemap-dark {\n",
       "                    --jp-widgets-color: white;\n",
       "                    --jp-widgets-label-color: white;\n",
       "                    --jp-ui-font-color1: white;\n",
       "                    --jp-layout-color2: #454545;\n",
       "                    background-color: #383838;\n",
       "                }\n",
       "\n",
       "                .geemap-dark .jupyter-button {\n",
       "                    --jp-layout-color3: #383838;\n",
       "                }\n",
       "\n",
       "                .geemap-colab {\n",
       "                    background-color: var(--colab-primary-surface-color, white);\n",
       "                }\n",
       "\n",
       "                .geemap-colab .jupyter-button {\n",
       "                    --jp-layout-color3: var(--colab-primary-surface-color, white);\n",
       "                }\n",
       "            </style>\n",
       "            "
      ],
      "text/plain": [
       "<IPython.core.display.HTML object>"
      ]
     },
     "metadata": {},
     "output_type": "display_data"
    }
   ],
   "source": [
    "\n",
    "# for each year, make a mask for all anthropogenic pixels, and multiply by the year to have the\n",
    "# pixel value be the year of observation of that land use type.\n",
    "non_forest_years = ee.Image()\n",
    "for yr in years:\n",
    "    year = f\"{yr}\"\n",
    "    lu_yr = lulc.select(year).neq(3).multiply(yr)\n",
    "    non_forest_years = non_forest_years.addBands(lu_yr)\n",
    "\n",
    "# find the minimum and maximum non-zero value per pixel across all bands\n",
    "# (first and last year of anthropogenic land use)\n",
    "first_anthro = non_forest_years.selfMask().reduce(ee.Reducer.min())\n",
    "\n",
    "if mask_1985:\n",
    "    last_anthro = non_forest_years.reduce(ee.Reducer.max())\n",
    "    # get total of continuous years from the first and last observation of anthropogenic land use\n",
    "    anthro_gaps = last_anthro.subtract(first_anthro).add(1)\n",
    "\n",
    "    # select pixels that were forested in 1985\n",
    "    lulc = lulc.updateMask(lulc.select(\"1985\").eq(3)).selfMask() \\\n",
    "    .updateMask(age.lt(35-history_interval)).updateMask(anthro_gaps.lte(history_interval))\n"
   ]
  },
  {
   "cell_type": "markdown",
   "metadata": {},
   "source": [
    "### Total sum of years under each desired land use type\n",
    "\n",
    "For each desired land use type, the total occurrences per pixel are summed"
   ]
  },
  {
   "cell_type": "code",
   "execution_count": 20,
   "metadata": {},
   "outputs": [
    {
     "data": {
      "text/html": [
       "\n",
       "            <style>\n",
       "                .geemap-dark {\n",
       "                    --jp-widgets-color: white;\n",
       "                    --jp-widgets-label-color: white;\n",
       "                    --jp-ui-font-color1: white;\n",
       "                    --jp-layout-color2: #454545;\n",
       "                    background-color: #383838;\n",
       "                }\n",
       "\n",
       "                .geemap-dark .jupyter-button {\n",
       "                    --jp-layout-color3: #383838;\n",
       "                }\n",
       "\n",
       "                .geemap-colab {\n",
       "                    background-color: var(--colab-primary-surface-color, white);\n",
       "                }\n",
       "\n",
       "                .geemap-colab .jupyter-button {\n",
       "                    --jp-layout-color3: var(--colab-primary-surface-color, white);\n",
       "                }\n",
       "            </style>\n",
       "            "
      ],
      "text/plain": [
       "<IPython.core.display.HTML object>"
      ]
     },
     "metadata": {},
     "output_type": "display_data"
    }
   ],
   "source": [
    "# Listing land use types that are NOT forest\n",
    "LU_index = [15, 39, 20, 40, 62, 41, 46, 47, 35, 48, 9, 21]\n",
    "\n",
    "LU_sum = ee.Image()\n",
    "for val in LU_index:\n",
    "    lulc_val = lulc.eq(val)\n",
    "    num_cells = lulc_val.reduce(ee.Reducer.sum()).rename(f\"lulc_sum_{val}\")\n",
    "    LU_sum = LU_sum.addBands(num_cells)\n",
    "\n",
    "# removes the first (empty) band\n",
    "LU_sum = LU_sum.slice(1).byte()"
   ]
  },
  {
   "cell_type": "markdown",
   "metadata": {},
   "source": [
    "### Last Land Use Type\n",
    "\n",
    "Finds what was the last land use type observed before abandonment."
   ]
  },
  {
   "cell_type": "code",
   "execution_count": 23,
   "metadata": {},
   "outputs": [
    {
     "data": {
      "text/html": [
       "\n",
       "            <style>\n",
       "                .geemap-dark {\n",
       "                    --jp-widgets-color: white;\n",
       "                    --jp-widgets-label-color: white;\n",
       "                    --jp-ui-font-color1: white;\n",
       "                    --jp-layout-color2: #454545;\n",
       "                    background-color: #383838;\n",
       "                }\n",
       "\n",
       "                .geemap-dark .jupyter-button {\n",
       "                    --jp-layout-color3: #383838;\n",
       "                }\n",
       "\n",
       "                .geemap-colab {\n",
       "                    background-color: var(--colab-primary-surface-color, white);\n",
       "                }\n",
       "\n",
       "                .geemap-colab .jupyter-button {\n",
       "                    --jp-layout-color3: var(--colab-primary-surface-color, white);\n",
       "                }\n",
       "            </style>\n",
       "            "
      ],
      "text/plain": [
       "<IPython.core.display.HTML object>"
      ]
     },
     "metadata": {},
     "output_type": "display_data"
    }
   ],
   "source": [
    "# for each forest age, mask the lulc of the year immediately preceding abandonment\n",
    "last_LU = ee.Image()\n",
    "for yr in years:\n",
    "    year = f\"{yr}\"\n",
    "    lu_yr = lulc.select(year)\n",
    "    age_mask = age.eq(last_year - yr)\n",
    "    last_LU = last_LU.addBands(lu_yr.updateMask(age_mask))\n",
    "\n",
    "# remove first empty band\n",
    "# merge all images by adding them up\n",
    "last_LU = last_LU.slice(1).reduce(ee.Reducer.sum()).rename(\"last_LU\").byte()"
   ]
  },
  {
   "cell_type": "markdown",
   "metadata": {},
   "source": [
    "### Fallow period length\n",
    "\n",
    "Finds the total number of years that land was left fallow (classified as forest before regrowth)"
   ]
  },
  {
   "cell_type": "code",
   "execution_count": 25,
   "metadata": {},
   "outputs": [
    {
     "data": {
      "text/html": [
       "\n",
       "            <style>\n",
       "                .geemap-dark {\n",
       "                    --jp-widgets-color: white;\n",
       "                    --jp-widgets-label-color: white;\n",
       "                    --jp-ui-font-color1: white;\n",
       "                    --jp-layout-color2: #454545;\n",
       "                    background-color: #383838;\n",
       "                }\n",
       "\n",
       "                .geemap-dark .jupyter-button {\n",
       "                    --jp-layout-color3: #383838;\n",
       "                }\n",
       "\n",
       "                .geemap-colab {\n",
       "                    background-color: var(--colab-primary-surface-color, white);\n",
       "                }\n",
       "\n",
       "                .geemap-colab .jupyter-button {\n",
       "                    --jp-layout-color3: var(--colab-primary-surface-color, white);\n",
       "                }\n",
       "            </style>\n",
       "            "
      ],
      "text/plain": [
       "<IPython.core.display.HTML object>"
      ]
     },
     "metadata": {},
     "output_type": "display_data"
    }
   ],
   "source": [
    "nat_cover = lulc.eq(3)\n",
    "total_nat_cover = nat_cover.reduce(ee.Reducer.sum())\n",
    "mat_for_years = first_anthro.subtract(1985).rename(\"mature_forest_years\").unmask(0).byte()\n",
    "fallow = total_nat_cover.subtract(age).subtract(mat_for_years).rename(\"fallow\").byte()\n",
    "\n",
    "nat_cover = fallow.addBands(mat_for_years)\n"
   ]
  },
  {
   "cell_type": "markdown",
   "metadata": {
    "id": "c-achWUrvWPn"
   },
   "source": [
    "## Fire\n",
    "\n",
    "### Total number of fires per pixel\n",
    "\n",
    "Each burned pixel contains the value of the land use type that burned (such as the desired_values vector specified in the land use section) - unburned pixels are zero.\n",
    "\n",
    "There are instances of fires:\n",
    "- after the first observation of anthropogenic land use\n",
    "- before the first observation of anthropogenic land use (forest fire)\n",
    "- after the last observation of anthropogenic land use (burn in regrowing forest)\n",
    "\n",
    "*Note that fire has different transform than lulc, and the projections will be adjusted when exporting.*\n",
    "\n",
    "### How many years ago was the last fire?\n",
    "\n",
    "Make one image with 34 bands, each with the number of years from the instance of burn to 2020.\n",
    "Each pixel is 0 if unburned, and \"time since fire\" in number of years if it's burned."
   ]
  },
  {
   "cell_type": "code",
   "execution_count": 24,
   "metadata": {},
   "outputs": [
    {
     "data": {
      "text/html": [
       "\n",
       "            <style>\n",
       "                .geemap-dark {\n",
       "                    --jp-widgets-color: white;\n",
       "                    --jp-widgets-label-color: white;\n",
       "                    --jp-ui-font-color1: white;\n",
       "                    --jp-layout-color2: #454545;\n",
       "                    background-color: #383838;\n",
       "                }\n",
       "\n",
       "                .geemap-dark .jupyter-button {\n",
       "                    --jp-layout-color3: #383838;\n",
       "                }\n",
       "\n",
       "                .geemap-colab {\n",
       "                    background-color: var(--colab-primary-surface-color, white);\n",
       "                }\n",
       "\n",
       "                .geemap-colab .jupyter-button {\n",
       "                    --jp-layout-color3: var(--colab-primary-surface-color, white);\n",
       "                }\n",
       "            </style>\n",
       "            "
      ],
      "text/plain": [
       "<IPython.core.display.HTML object>"
      ]
     },
     "metadata": {},
     "output_type": "display_data"
    }
   ],
   "source": [
    "# Making a fire mask with pixels of value 1 for burned pixels and 0 otherwise instead:\n",
    "fire = fire.gt(0)\n",
    "\n",
    "\"\"\"\n",
    "Establishing a specific range for land use history for analysis, the ages of forests regrowing are also restricted.\n",
    "For example, if we have a fixed 10 years of history:\n",
    "1985 ---------- 10 years ----------- 1995 ----------- 25 years -----------2020\n",
    "the regrowing forests have started regrowing in 1995 at the very earliest.\n",
    "\n",
    "Then, the years of regrowth considered are:\n",
    "\"\"\"\n",
    "\n",
    "if mask_1985 == True:\n",
    "    first_year_anthro = first_year + 1 + history_interval\n",
    "    years_regrowth_considered = range((first_year_anthro), last_year)\n",
    "else:\n",
    "    years_regrowth_considered = years\n",
    "\n",
    "# Initialize images\n",
    "num_fires_before_regrowth = ee.Image()\n",
    "num_fires_after_regrowth = ee.Image()\n",
    "\n",
    "ts_fire_before_regrowth = ee.Image()\n",
    "ts_fire_after_regrowth = ee.Image()\n",
    "\n",
    "num_fires_before_first_anthro = ee.Image()\n",
    "num_fires_during_anthro = ee.Image()\n",
    "\n",
    "ts_all_fires = ee.Image()\n",
    "\n",
    "\"\"\"\n",
    "for each year, multiply the fire mask by the year to have the pixel value be the year of observation of each fire\n",
    "\"\"\"\n",
    "for yr in range(1985, 2020):\n",
    "    ts_all_fires = ts_all_fires.addBands(\n",
    "        fire.select([f\"{yr}\"]).multiply(last_year - yr)\n",
    "    )\n",
    "\n",
    "\n",
    "def add_fire_bands(image, start_year, end_year, mask, input):\n",
    "    \"\"\"\n",
    "    Adds bands to an image for a range of years, applying a mask and a reducer.\n",
    "    \"\"\"\n",
    "\n",
    "    bands = input.select(\n",
    "        [f\"{year}\" for year in range(start_year, end_year)]\n",
    "    ).updateMask(mask)\n",
    "\n",
    "    if input == ts_all_fires:\n",
    "        return image.addBands(bands.reduce(ee.Reducer.lastNonNull()).byte())\n",
    "    else:\n",
    "        return image.addBands(bands.reduce(ee.Reducer.sum()).byte())\n",
    "\n",
    "\n",
    "\"\"\"\n",
    "Calculate burn information and add yearly bands to the corresponding images\n",
    "\"\"\"\n",
    "for yr in years_regrowth_considered:\n",
    "    yrs_ago = last_year - yr\n",
    "    age_mask = age.eq(yrs_ago)\n",
    "\n",
    "    # Add bands for after regrowth\n",
    "    num_fires_after_regrowth = add_fire_bands(\n",
    "        num_fires_after_regrowth, yr, last_year, age_mask, fire\n",
    "    )\n",
    "    # Add bands for before regrowth\n",
    "    num_fires_before_regrowth = add_fire_bands(\n",
    "        num_fires_before_regrowth, first_year, yr, age_mask, fire\n",
    "    )\n",
    "\n",
    "    # Add bands for after regrowth\n",
    "    ts_fire_after_regrowth = add_fire_bands(\n",
    "        ts_fire_after_regrowth, yr, last_year, age_mask, ts_all_fires\n",
    "    )\n",
    "    # Add bands for before regrowth\n",
    "    ts_fire_before_regrowth = add_fire_bands(\n",
    "        ts_fire_before_regrowth, first_year, yr, age_mask, ts_all_fires\n",
    "    )\n",
    "\n",
    "    if mask_1985:\n",
    "        # Add bands for before first anthro\n",
    "        num_fires_before_first_anthro = add_fire_bands(\n",
    "            num_fires_before_first_anthro,\n",
    "            first_year,\n",
    "            yr - history_interval,\n",
    "            age_mask,\n",
    "            fire,\n",
    "        )\n",
    "        # Add bands for during anthro\n",
    "        num_fires_during_anthro = add_fire_bands(\n",
    "            num_fires_during_anthro, yr - history_interval, yr, age_mask, fire\n",
    "        )\n",
    "\n",
    "def process_band(band, name):\n",
    "    \"\"\"\n",
    "    For all images, we have one band per year. Across these bands, there is only one value per pixel.\n",
    "    To get all the pixels into a single layer, we can sum the values across bands.\n",
    "    \"\"\"\n",
    "    return band.slice(1).reduce(ee.Reducer.sum()).rename(name)\n",
    "\n",
    "\n",
    "# Apply the helper function to each band\n",
    "fires = (\n",
    "    process_band(num_fires_after_regrowth, \"num_fires_after_regrowth\")\n",
    "    .addBands(\n",
    "        [\n",
    "            process_band(num_fires_before_regrowth, \"num_fires_before_regrowth\"),\n",
    "            process_band(ts_fire_before_regrowth, \"ts_fire_before_regrowth\"),\n",
    "            process_band(ts_fire_after_regrowth, \"ts_fire_after_regrowth\"),\n",
    "        ]\n",
    "    )\n",
    "    .byte()\n",
    ")\n",
    "\n",
    "# Slice and reduce the final image\n",
    "if mask_1985:\n",
    "    fires = fires.addBands(\n",
    "        [\n",
    "            process_band(num_fires_during_anthro, \"num_fires_during_anthro\"),\n",
    "            process_band(\n",
    "                num_fires_before_first_anthro, \"num_fires_before_first_anthro\"\n",
    "            ),\n",
    "        ]\n",
    "    ).byte()\n",
    "\n",
    "\n",
    "fires = fires.unmask(0)"
   ]
  },
  {
   "cell_type": "markdown",
   "metadata": {},
   "source": [
    "### Export land_use"
   ]
  },
  {
   "cell_type": "code",
   "execution_count": 27,
   "metadata": {},
   "outputs": [
    {
     "data": {
      "text/html": [
       "\n",
       "            <style>\n",
       "                .geemap-dark {\n",
       "                    --jp-widgets-color: white;\n",
       "                    --jp-widgets-label-color: white;\n",
       "                    --jp-ui-font-color1: white;\n",
       "                    --jp-layout-color2: #454545;\n",
       "                    background-color: #383838;\n",
       "                }\n",
       "\n",
       "                .geemap-dark .jupyter-button {\n",
       "                    --jp-layout-color3: #383838;\n",
       "                }\n",
       "\n",
       "                .geemap-colab {\n",
       "                    background-color: var(--colab-primary-surface-color, white);\n",
       "                }\n",
       "\n",
       "                .geemap-colab .jupyter-button {\n",
       "                    --jp-layout-color3: var(--colab-primary-surface-color, white);\n",
       "                }\n",
       "            </style>\n",
       "            "
      ],
      "text/plain": [
       "<IPython.core.display.HTML object>"
      ]
     },
     "metadata": {},
     "output_type": "display_data"
    }
   ],
   "source": [
    "land_use = LU_sum.addBands([last_LU, nat_cover, fires])\n",
    "\n",
    "if export_land_use:\n",
    "    if mask_1985:\n",
    "        export_image(land_use, f\"land_use_{history_interval}_years\", scale=30)\n",
    "    else:\n",
    "        export_image(land_use, \"land_use\", scale=30)\n"
   ]
  },
  {
   "cell_type": "markdown",
   "metadata": {},
   "source": [
    "## Surrounding mature forests\n",
    "\n",
    "- Mean biomass of surrounding mature forests (interpolated with Gaussian kernel)\n",
    "- Mean fragmentation of surrounding mature forests (interpolated with Gaussian kernel)\n",
    "- Total surrounding mature forest cover (normalized from 0-1)"
   ]
  },
  {
   "cell_type": "code",
   "execution_count": 26,
   "metadata": {},
   "outputs": [
    {
     "data": {
      "text/html": [
       "\n",
       "            <style>\n",
       "                .geemap-dark {\n",
       "                    --jp-widgets-color: white;\n",
       "                    --jp-widgets-label-color: white;\n",
       "                    --jp-ui-font-color1: white;\n",
       "                    --jp-layout-color2: #454545;\n",
       "                    background-color: #383838;\n",
       "                }\n",
       "\n",
       "                .geemap-dark .jupyter-button {\n",
       "                    --jp-layout-color3: #383838;\n",
       "                }\n",
       "\n",
       "                .geemap-colab {\n",
       "                    background-color: var(--colab-primary-surface-color, white);\n",
       "                }\n",
       "\n",
       "                .geemap-colab .jupyter-button {\n",
       "                    --jp-layout-color3: var(--colab-primary-surface-color, white);\n",
       "                }\n",
       "            </style>\n",
       "            "
      ],
      "text/plain": [
       "<IPython.core.display.HTML object>"
      ]
     },
     "metadata": {},
     "output_type": "display_data"
    }
   ],
   "source": [
    "mature_mask = lulc_all.eq(3).reduce(ee.Reducer.allNonZero()).selfMask()\n",
    "edge_detec = mature_mask.unmask(-1).zeroCrossing()\n",
    "distance_to_edge = edge_detec.fastDistanceTransform().sqrt() \\\n",
    "    .multiply(ee.Image.pixelArea().sqrt()).rename(\"distance_to_edge\")\n",
    "distance_to_edge = distance_to_edge.gt(1000).selfMask()\n",
    "distance_to_edge = distance_to_edge.updateMask(mature_mask)\n",
    "mature_biomass = biomass_all.updateMask(distance_to_edge).rename(\"mature_biomass\")\n",
    "\n",
    "if export_mature_forests:\n",
    "    export_image(mature_biomass, \"mature_biomass_1km\", scale=30)"
   ]
  },
  {
   "cell_type": "code",
   "execution_count": 6,
   "metadata": {},
   "outputs": [
    {
     "data": {
      "text/html": [
       "\n",
       "            <style>\n",
       "                .geemap-dark {\n",
       "                    --jp-widgets-color: white;\n",
       "                    --jp-widgets-label-color: white;\n",
       "                    --jp-ui-font-color1: white;\n",
       "                    --jp-layout-color2: #454545;\n",
       "                    background-color: #383838;\n",
       "                }\n",
       "\n",
       "                .geemap-dark .jupyter-button {\n",
       "                    --jp-layout-color3: #383838;\n",
       "                }\n",
       "\n",
       "                .geemap-colab {\n",
       "                    background-color: var(--colab-primary-surface-color, white);\n",
       "                }\n",
       "\n",
       "                .geemap-colab .jupyter-button {\n",
       "                    --jp-layout-color3: var(--colab-primary-surface-color, white);\n",
       "                }\n",
       "            </style>\n",
       "            "
      ],
      "text/plain": [
       "<IPython.core.display.HTML object>"
      ]
     },
     "metadata": {},
     "output_type": "display_data"
    }
   ],
   "source": [
    "data_folder = \"projects/amazon-forest-regrowth/assets\"\n",
    "\n",
    "mature_biomass = ee.Image(f\"{data_folder}/mature_biomass_1km\").reproject(\n",
    "    crs = proj[\"crs\"], crsTransform = proj[\"transform\"]\n",
    ")\n",
    "\n",
    "# scale = biomass_all.projection().nominalScale().getInfo()\n",
    "# export_image(mature_biomass, \"mature_biomass_1km_100m\", scale = scale)"
   ]
  },
  {
   "cell_type": "code",
   "execution_count": 20,
   "metadata": {},
   "outputs": [
    {
     "data": {
      "text/html": [
       "\n",
       "            <style>\n",
       "                .geemap-dark {\n",
       "                    --jp-widgets-color: white;\n",
       "                    --jp-widgets-label-color: white;\n",
       "                    --jp-ui-font-color1: white;\n",
       "                    --jp-layout-color2: #454545;\n",
       "                    background-color: #383838;\n",
       "                }\n",
       "\n",
       "                .geemap-dark .jupyter-button {\n",
       "                    --jp-layout-color3: #383838;\n",
       "                }\n",
       "\n",
       "                .geemap-colab {\n",
       "                    background-color: var(--colab-primary-surface-color, white);\n",
       "                }\n",
       "\n",
       "                .geemap-colab .jupyter-button {\n",
       "                    --jp-layout-color3: var(--colab-primary-surface-color, white);\n",
       "                }\n",
       "            </style>\n",
       "            "
      ],
      "text/plain": [
       "<IPython.core.display.HTML object>"
      ]
     },
     "metadata": {},
     "output_type": "display_data"
    }
   ],
   "source": [
    "data_folder = \"projects/amazon-forest-regrowth/assets\"\n",
    "\n",
    "# roi = ee.FeatureCollection(f\"{data_folder}/raw/biomes_br\").filter(ee.Filter.eq(\"CD_Bioma\", 1)).geometry()\n",
    "# # roi = ee.FeatureCollection(f\"{data_folder}/raw/biomes_br\").filter(ee.Filter.eq(\"CD_Bioma\", 3)).geometry()\n",
    "\n",
    "age_agbd = ee.Image(f\"{data_folder}/age_agbd\")\n",
    "mature_biomass_1k = ee.Image(f\"{data_folder}/mature_biomass_1km_100m\").clip(roi)\n",
    "mature_biomass_1k_reduced = mature_biomass_1k.reduceResolution(reducer=ee.Reducer.mean()).reproject(\n",
    "    crs = age_agbd.projection(), scale = 500\n",
    ")\n",
    "\n",
    "distance = mature_biomass_1k.fastDistanceTransform().sqrt() \\\n",
    "    .multiply(ee.Image.pixelArea().sqrt()).rename(\"distance\") \\\n",
    "    .updateMask(age_agbd.select(\"age\")).float().clip(roi)\n",
    "\n",
    "# Create the export task\n",
    "task = ee.batch.Export.image.toAsset(\n",
    "    image=distance,\n",
    "    description=\"distance\",\n",
    "    assetId=\"projects/amazon-forest-regrowth/assets/distance_amaz_100\",\n",
    "    region = distance.geometry(),\n",
    "    crs=\"EPSG:4326\",\n",
    "    scale = 100,\n",
    "    maxPixels=5e10\n",
    ")\n",
    "\n",
    "# # Start the export task\n",
    "task.start()\n",
    "\n",
    "# distance2 = ee.Image(f\"{data_folder}/distance_amaz_shrd\")\n",
    "# distance = ee.Image(f\"{data_folder}/distance_amaz_500\")\n",
    "\n",
    "# distance.projection().nominalScale().getInfo()\n",
    "# disconsider those near the border\n",
    "\n",
    "# distance.projection().nominalScale().getInfo()\n",
    "\n",
    "# distance2 = distance.reduceResolution(reducer = ee.Reducer.mean()).reproject(\n",
    "#     crs = age_agbd.projection(), scale = 200\n",
    "# )\n",
    "\n",
    "# map = geemap.Map()\n",
    "# # map.addLayer(mature_biomass_1k, {\"min\": 0, \"max\": 400, \"palette\":[\"red\", \"blue\"]}, \"mature_biomass\")\n",
    "# # map.addLayer(mature_biomass_1k_reduced, {\"min\": 0, \"max\": 400, \"palette\":[\"red\", \"blue\"]}, \"mature_biomass_1k_reduced\")\n",
    "# # map.addLayer(euclidean_dist, {\"min\": 0, \"max\": 10000, \"palette\":[\"green\", \"yellow\"]}, \"euclidean_dist\")\n",
    "# map.addLayer(distance, {\"min\": 0, \"max\": 170000, \"palette\":[\"green\", \"yellow\"]}, \"distance\")\n",
    "# # map.addLayer(distance2, {\"min\": 0, \"max\": 400000, \"palette\":[\"green\", \"yellow\"]}, \"distance2\")\n",
    "# map"
   ]
  },
  {
   "cell_type": "code",
   "execution_count": null,
   "metadata": {},
   "outputs": [],
   "source": [
    "\n",
    "# distance.projection().nominalScale().getInfo()\n",
    "# disconsider those near the border\n",
    "\n",
    "# distance.projection().nominalScale().getInfo()\n",
    "\n",
    "# distance2 = distance.reduceResolution(reducer = ee.Reducer.mean()).reproject(\n",
    "#     crs = age_agbd.projection(), scale = 200\n",
    "# )\n",
    "\n",
    "# map = geemap.Map()\n",
    "# map.addLayer(mature_biomass_1k, {\"min\": 0, \"max\": 400, \"palette\":[\"red\", \"blue\"]}, \"mature_biomass\")\n",
    "# map.addLayer(mature_biomass_1k_reduced, {\"min\": 0, \"max\": 400, \"palette\":[\"red\", \"blue\"]}, \"mature_biomass_1k_reduced\")\n",
    "# map.addLayer(euclidean_dist, {\"min\": 0, \"max\": 10000, \"palette\":[\"green\", \"yellow\"]}, \"euclidean_dist\")\n",
    "map.addLayer(distance, {\"min\": 0, \"max\": 400000, \"palette\":[\"green\", \"yellow\"]}, \"distance\")\n",
    "map.addLayer(distance2, {\"min\": 0, \"max\": 400000, \"palette\":[\"green\", \"yellow\"]}, \"distance2\")\n",
    "# map"
   ]
  },
  {
   "cell_type": "code",
   "execution_count": 16,
   "metadata": {},
   "outputs": [
    {
     "data": {
      "text/html": [
       "\n",
       "            <style>\n",
       "                .geemap-dark {\n",
       "                    --jp-widgets-color: white;\n",
       "                    --jp-widgets-label-color: white;\n",
       "                    --jp-ui-font-color1: white;\n",
       "                    --jp-layout-color2: #454545;\n",
       "                    background-color: #383838;\n",
       "                }\n",
       "\n",
       "                .geemap-dark .jupyter-button {\n",
       "                    --jp-layout-color3: #383838;\n",
       "                }\n",
       "\n",
       "                .geemap-colab {\n",
       "                    background-color: var(--colab-primary-surface-color, white);\n",
       "                }\n",
       "\n",
       "                .geemap-colab .jupyter-button {\n",
       "                    --jp-layout-color3: var(--colab-primary-surface-color, white);\n",
       "                }\n",
       "            </style>\n",
       "            "
      ],
      "text/plain": [
       "<IPython.core.display.HTML object>"
      ]
     },
     "metadata": {},
     "output_type": "display_data"
    }
   ],
   "source": [
    "task = ee.batch.Export.image.toDrive(\n",
    "    image=mature_biomass_1k,\n",
    "    description='mature_biomass_1k',\n",
    "    region=mature_biomass_1k.geometry(),\n",
    "    scale=100,\n",
    "    maxPixels=1e13\n",
    ")\n",
    "task.start()\n"
   ]
  },
  {
   "cell_type": "code",
   "execution_count": 42,
   "metadata": {},
   "outputs": [
    {
     "data": {
      "text/html": [
       "\n",
       "            <style>\n",
       "                .geemap-dark {\n",
       "                    --jp-widgets-color: white;\n",
       "                    --jp-widgets-label-color: white;\n",
       "                    --jp-ui-font-color1: white;\n",
       "                    --jp-layout-color2: #454545;\n",
       "                    background-color: #383838;\n",
       "                }\n",
       "\n",
       "                .geemap-dark .jupyter-button {\n",
       "                    --jp-layout-color3: #383838;\n",
       "                }\n",
       "\n",
       "                .geemap-colab {\n",
       "                    background-color: var(--colab-primary-surface-color, white);\n",
       "                }\n",
       "\n",
       "                .geemap-colab .jupyter-button {\n",
       "                    --jp-layout-color3: var(--colab-primary-surface-color, white);\n",
       "                }\n",
       "            </style>\n",
       "            "
      ],
      "text/plain": [
       "<IPython.core.display.HTML object>"
      ]
     },
     "metadata": {},
     "output_type": "display_data"
    }
   ],
   "source": [
    "# Create the export task\n",
    "task = ee.batch.Export.image.toAsset(\n",
    "    image=distance,\n",
    "    description=\"distance\",\n",
    "    assetId=\"projects/amazon-forest-regrowth/assets/distance_eucl_amaz_60000\",\n",
    "    region = distance.geometry(),\n",
    "    crs=\"EPSG:4326\",\n",
    "    scale = distance.projection().nominalScale().getInfo(),\n",
    "    maxPixels=5e10\n",
    "    # shardSize = 600\n",
    ")\n",
    "\n",
    "# # Start the export task\n",
    "task.start()\n"
   ]
  },
  {
   "cell_type": "code",
   "execution_count": 66,
   "metadata": {},
   "outputs": [
    {
     "data": {
      "text/html": [
       "\n",
       "            <style>\n",
       "                .geemap-dark {\n",
       "                    --jp-widgets-color: white;\n",
       "                    --jp-widgets-label-color: white;\n",
       "                    --jp-ui-font-color1: white;\n",
       "                    --jp-layout-color2: #454545;\n",
       "                    background-color: #383838;\n",
       "                }\n",
       "\n",
       "                .geemap-dark .jupyter-button {\n",
       "                    --jp-layout-color3: #383838;\n",
       "                }\n",
       "\n",
       "                .geemap-colab {\n",
       "                    background-color: var(--colab-primary-surface-color, white);\n",
       "                }\n",
       "\n",
       "                .geemap-colab .jupyter-button {\n",
       "                    --jp-layout-color3: var(--colab-primary-surface-color, white);\n",
       "                }\n",
       "            </style>\n",
       "            "
      ],
      "text/plain": [
       "<IPython.core.display.HTML object>"
      ]
     },
     "metadata": {},
     "output_type": "display_data"
    }
   ],
   "source": [
    "gaus_kernel = ee.Kernel.gaussian(radius=1000, sigma=200, units=\"meters\")\n",
    "mat_gaus_ker = (\n",
    "    mature_biomass.focalMean(\n",
    "        radius = 1000, units = \"meters\", kernel = gaus_kernel, iterations = 1\n",
    "    )\n",
    "    .rename(\"mat_biomass\")\n",
    "    .float()\n",
    ")"
   ]
  },
  {
   "cell_type": "code",
   "execution_count": null,
   "metadata": {},
   "outputs": [],
   "source": [
    "\n",
    "# the fragmentation data also does not cover the entire landscape - it is targeted towards mature forests.\n",
    "# frag file from Ma et al was originally reprojected in QGIS into WGS84 (original projection is not compatible with google earth engine)\n",
    "# frag values vary from 0 to 1\n",
    "frag = ee.Image(f\"{raw_data_folder}/frag\").rename(\"frag\").clip(roi)\n",
    "frag_ker = frag.focalMean(radius=5000, units=\"meters\").rename(\"frag\")\n",
    "\n",
    "sur_cover = mature_mask.unmask(0).focalMean(radius=1000, units=\"meters\")\n",
    "\n",
    "if export_mature_forests:\n",
    "    export_image(sur_cover, \"sur_cover\", scale=30)\n",
    "    export_image(mat_gaus_ker, \"mat_gaus_ker\", scale=30)\n",
    "    export_image(frag_ker, \"frag_ker\", scale=30)\n"
   ]
  }
 ],
 "metadata": {
  "colab": {
   "provenance": []
  },
  "kernelspec": {
   "display_name": "Python 3 (ipykernel)",
   "language": "python",
   "name": "python3"
  },
  "language_info": {
   "codemirror_mode": {
    "name": "ipython",
    "version": 3
   },
   "file_extension": ".py",
   "mimetype": "text/x-python",
   "name": "python",
   "nbconvert_exporter": "python",
   "pygments_lexer": "ipython3",
   "version": "3.12.4"
  }
 },
 "nbformat": 4,
 "nbformat_minor": 4
}
