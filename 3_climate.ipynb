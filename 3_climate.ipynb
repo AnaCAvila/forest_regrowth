{
 "cells": [
  {
   "cell_type": "markdown",
   "id": "78575f01-dc60-42bf-bee3-e7d3b867635e",
   "metadata": {},
   "source": [
    "## Climatic data\n",
    "\n"
   ]
  },
  {
   "cell_type": "code",
   "execution_count": 1,
   "id": "06daa541-4195-4a5e-895f-b520ffa5c523",
   "metadata": {},
   "outputs": [],
   "source": [
    "import ee\n",
    "import geemap\n",
    "\n",
    "# Authenticate to Earth Engine\n",
    "try:\n",
    "  ee.Initialize()\n",
    "except Exception as e:\n",
    "  ee.Authenticate()\n",
    "  ee.Initialize()\n",
    "\n",
    "from utils import export_image\n",
    "from utils import map_image\n",
    "\n",
    "# data_folder = 'projects/amazon-forest-regrowth/assets'\n",
    "roi = ee.FeatureCollection(\"projects/amazon-forest-regrowth/assets/raw/biomes_br\").geometry().dissolve()\n",
    "\n",
    "months = ee.List.sequence(1, 12)\n",
    "years = ee.List.sequence(1985, 2019)\n",
    "\n",
    "ecoregions = (ee.FeatureCollection(\"RESOLVE/ECOREGIONS/2017\").filterBounds(roi)\n",
    "                .map(lambda feature: feature.intersection(roi)))"
   ]
  },
  {
   "cell_type": "markdown",
   "id": "6a7c1cd4-3269-43eb-bac3-0699320107df",
   "metadata": {},
   "source": [
    "# Terraclim\n",
    "https://developers.google.com/earth-engine/datasets/catalog/IDAHO_EPSCOR_TERRACLIMATE\n",
    "Bring temperature and precipitation and calculate seasonality"
   ]
  },
  {
   "cell_type": "code",
   "execution_count": 3,
   "id": "9c416d85-0b1a-4da3-9f28-d498990b0860",
   "metadata": {
    "colab": {
     "base_uri": "https://localhost:8080/",
     "height": 17
    },
    "id": "cxW0T6D7uEbA",
    "outputId": "2b0937e4-cd42-4cbd-be70-938a32cfaea6"
   },
   "outputs": [
    {
     "data": {
      "text/html": [
       "\n",
       "            <style>\n",
       "                .geemap-dark {\n",
       "                    --jp-widgets-color: white;\n",
       "                    --jp-widgets-label-color: white;\n",
       "                    --jp-ui-font-color1: white;\n",
       "                    --jp-layout-color2: #454545;\n",
       "                    background-color: #383838;\n",
       "                }\n",
       "\n",
       "                .geemap-dark .jupyter-button {\n",
       "                    --jp-layout-color3: #383838;\n",
       "                }\n",
       "\n",
       "                .geemap-colab {\n",
       "                    background-color: var(--colab-primary-surface-color, white);\n",
       "                }\n",
       "\n",
       "                .geemap-colab .jupyter-button {\n",
       "                    --jp-layout-color3: var(--colab-primary-surface-color, white);\n",
       "                }\n",
       "            </style>\n",
       "            "
      ],
      "text/plain": [
       "<IPython.core.display.HTML object>"
      ]
     },
     "metadata": {},
     "output_type": "display_data"
    }
   ],
   "source": [
    "terraclim = ee.ImageCollection('IDAHO_EPSCOR/TERRACLIMATE') \\\n",
    "              .filterDate('1985-01-01', '2019-12-31') \\\n",
    "              .map(lambda image : image.clip(roi)) \\\n",
    "              .map(lambda image: image.reduceResolution(ee.Reducer.median(), bestEffort=True, maxPixels=1024) \\\n",
    "                                       .reproject(crs='EPSG:4326', scale=10000))\n",
    "\n",
    "# scaling to 0.1\n",
    "maxtemp = terraclim.select('tmmx').map(lambda image: image.multiply(0.1))\n",
    "mintemp = terraclim.select('tmmn').map(lambda image: image.multiply(0.1))\n",
    "radiation = terraclim.select('srad').map(lambda image: image.multiply(0.1))\n",
    "prec = terraclim.select('pr')"
   ]
  },
  {
   "cell_type": "markdown",
   "id": "1b944ae7-309b-484a-bf38-907b582ccd77",
   "metadata": {},
   "source": [
    "## Precipitation\n",
    "\n",
    "For each regrowing forest pixel, we only consider rainfall AFTER the regrowth moment.\n",
    "- Make a raster with mean yearly precipitation, temperature, and precipitation\n",
    "- select only the values for years after regrowth. For years before regrowth, change the values to zero."
   ]
  },
  {
   "attachments": {},
   "cell_type": "markdown",
   "id": "86c662b3-c1e5-4e48-bd37-9e09c5c0b958",
   "metadata": {},
   "source": [
    "## Seasonality index\n",
    "\n",
    "Walsh and Lawler 1981"
   ]
  },
  {
   "cell_type": "code",
   "execution_count": null,
   "id": "3b4fad9e-c719-4259-8b6f-9d648589af48",
   "metadata": {},
   "outputs": [],
   "source": [
    "yearlist = range(1985, 2020) # Generate a list of years from 1985 to 2019\n",
    "\n",
    "def seasonality_calc(year):\n",
    "    # get mean monthly precipitation for the year\n",
    "    yr_prec = prec.filter(ee.Filter.calendarRange(year, year, 'year'))\n",
    "    mean_prec = yr_prec.reduce(ee.Reducer.mean())\n",
    "    # Calculate absolute deviations of monthly precipitation from mean\n",
    "    deviations = yr_prec.map(lambda month:month.subtract(mean_prec).abs())\n",
    "    # Calculate sum of absolute deviations for each month\n",
    "    sum_deviations = deviations.reduce(ee.Reducer.sum())\n",
    "    # Calculate total annual precipitation\n",
    "    total_annual_prec = yr_prec.reduce(ee.Reducer.sum())\n",
    "    # Calculate Seasonality Index (SI)\n",
    "    seasonality_index = sum_deviations.divide(total_annual_prec)\n",
    "    return seasonality_index\n",
    "\n",
    "tst = years.map(seasonality_calc)\n",
    "yearly_SI = ee.ImageCollection.fromImages(tst)\n",
    "\n",
    "# Convert ImageCollection to single Image\n",
    "yearly_SI_image = yearly_SI.toBands()\n",
    "new_band_names = ['si_{}'.format(year) for year in yearlist] # Append 'si_' to each year\n",
    "yearly_SI_image = yearly_SI_image.rename(new_band_names)\n",
    "# export_image(yearly_SI_image, \"yearly_si\")"
   ]
  },
  {
   "cell_type": "code",
   "execution_count": null,
   "id": "0722a989-2a89-4ec5-be13-111178ad747c",
   "metadata": {},
   "outputs": [],
   "source": [
    "def meantemp_calc(year):\n",
    "    # Filter both maxtemp and mintemp ImageCollections by year at once\n",
    "    yearly_maxtemp = maxtemp.filter(ee.Filter.calendarRange(year, year, 'year')).reduce(ee.Reducer.mean())\n",
    "    yearly_mintemp = mintemp.filter(ee.Filter.calendarRange(year, year, 'year')).reduce(ee.Reducer.mean())\n",
    "    # Calculate the mean temperature directly\n",
    "    mean_temp = yearly_maxtemp.add(yearly_mintemp).divide(2)\n",
    "    return mean_temp\n",
    "\n",
    "# Map the function over the years\n",
    "mean_temp = ee.ImageCollection.fromImages(years.map(meantemp_calc)).toBands()\n",
    "\n",
    "new_band_names = ['mean_temp_{}'.format(year) for year in yearlist] # Append 'si_' to each year\n",
    "mean_temp = mean_temp.rename(new_band_names)"
   ]
  },
  {
   "cell_type": "code",
   "execution_count": 4,
   "id": "5959e43e-74fd-4c36-9dc9-21ff23b0f63d",
   "metadata": {},
   "outputs": [
    {
     "data": {
      "text/html": [
       "\n",
       "            <style>\n",
       "                .geemap-dark {\n",
       "                    --jp-widgets-color: white;\n",
       "                    --jp-widgets-label-color: white;\n",
       "                    --jp-ui-font-color1: white;\n",
       "                    --jp-layout-color2: #454545;\n",
       "                    background-color: #383838;\n",
       "                }\n",
       "\n",
       "                .geemap-dark .jupyter-button {\n",
       "                    --jp-layout-color3: #383838;\n",
       "                }\n",
       "\n",
       "                .geemap-colab {\n",
       "                    background-color: var(--colab-primary-surface-color, white);\n",
       "                }\n",
       "\n",
       "                .geemap-colab .jupyter-button {\n",
       "                    --jp-layout-color3: var(--colab-primary-surface-color, white);\n",
       "                }\n",
       "            </style>\n",
       "            "
      ],
      "text/plain": [
       "<IPython.core.display.HTML object>"
      ]
     },
     "metadata": {},
     "output_type": "display_data"
    }
   ],
   "source": [
    "def mean_yearly(year, imgcol):\n",
    "    mean_year = imgcol.filter(ee.Filter.calendarRange(year, year, 'year')).reduce(ee.Reducer.mean())\n",
    "    return mean_year.set('year', year)\n",
    "\n",
    "mean_prec = ee.ImageCollection.fromImages(years.map(prec)).toBands()\n",
    "\n",
    "yearlist = range(1985, 2020) # Generate a list of years from 1985 to 2019\n",
    "new_band_names = ['prec_{}'.format(year) for year in yearlist]\n",
    "mean_prec = mean_prec.rename(new_band_names)\n",
    "\n",
    "export_image(mean_prec, \"mean_prec\")"
   ]
  },
  {
   "cell_type": "markdown",
   "id": "71821788-5a9d-41cc-9c46-1bdd7c8eef24",
   "metadata": {},
   "source": [
    "## Yearly CWD\n",
    "\n",
    "Calculated as in Malhi et al 2009 and Aragão et al 2007, considering ET fixed as 100mm/month.\n",
    "\n",
    "[equations](https://imgur.com/o4lVmM7)"
   ]
  },
  {
   "cell_type": "code",
   "execution_count": 3,
   "id": "07820bed-1135-492b-9c17-0ae2b5273ec4",
   "metadata": {},
   "outputs": [
    {
     "data": {
      "text/html": [
       "\n",
       "            <style>\n",
       "                .geemap-dark {\n",
       "                    --jp-widgets-color: white;\n",
       "                    --jp-widgets-label-color: white;\n",
       "                    --jp-ui-font-color1: white;\n",
       "                    --jp-layout-color2: #454545;\n",
       "                    background-color: #383838;\n",
       "                }\n",
       "                    \n",
       "                .geemap-dark .jupyter-button {\n",
       "                    --jp-layout-color3: #383838;\n",
       "                }\n",
       "                \n",
       "                .geemap-colab {\n",
       "                    background-color: var(--colab-primary-surface-color, white);\n",
       "                }\n",
       "                    \n",
       "                .geemap-colab .jupyter-button {\n",
       "                    --jp-layout-color3: var(--colab-primary-surface-color, white);\n",
       "                }\n",
       "            </style>\n",
       "            "
      ],
      "text/plain": [
       "<IPython.core.display.HTML object>"
      ]
     },
     "metadata": {},
     "output_type": "display_data"
    }
   ],
   "source": [
    "\"\"\"\n",
    "Calculate monthly cumulative water deficit\n",
    "\"\"\"\n",
    "def cwd_monthly(current_image, previous_dict):\n",
    "    current_image = ee.Image(current_image)\n",
    "    previous_dict = ee.Dictionary(previous_dict)\n",
    "    previous_image = ee.Image(previous_dict.get('result_image'))\n",
    "    result_image = previous_image.add(current_image).subtract(100)\n",
    "    result_image = result_image.where(result_image.gt(0), 0) \\\n",
    "                                   .set('system:time_start', current_image.get('system:time_start'))\n",
    "    return ee.Dictionary({\n",
    "        'result_image': ee.Image(result_image).toFloat(),\n",
    "        'cwd_list': ee.List(previous_dict.get('cwd_list')).add(result_image)})\n",
    "\n",
    "# Use iterate to apply the function to each image\n",
    "cwd_dict = ee.Dictionary(prec.iterate(cwd_monthly, ee.Dictionary({'result_image': ee.Image(0).toFloat(),\n",
    "                                                               'cwd_list': ee.List([])})))\n",
    "cwd_list = ee.List(cwd_dict.get('cwd_list'))\n",
    "# cwd_list = cwd_list.map(lambda image: image.toFloat())\n",
    "\n",
    "\"\"\"\n",
    "\n",
    "\"\"\"\n",
    "def mcwd_yearly(year):\n",
    "    # Calculate the start and end indices for the current year\n",
    "    start = ee.Number(year).subtract(1985).multiply(12)\n",
    "    end = start.add(12)\n",
    "    # Slice the list to get the images for the current year\n",
    "    yr = ee.List(cwd_list).slice(start, end)\n",
    "    cwd_a = ee.ImageCollection.fromImages(yr)\n",
    "    mcwd_a = cwd_a.reduce(ee.Reducer.min())\n",
    "    return mcwd_a.set('year', year)\n",
    "\n",
    "# Map the function over the range\n",
    "yearly_mcwd_img = ee.ImageCollection.fromImages(years.map(mcwd_yearly)).toBands()\n",
    "\n",
    "yearlist = range(1985, 2020) # Generate a list of years from 1985 to 2019\n",
    "new_band_names = ['mcwd_{}'.format(year) for year in yearlist] # Append 'si_' to each year\n",
    "yearly_mcwd_img = yearly_mcwd_img.rename(new_band_names)\n"
   ]
  }
 ],
 "metadata": {
  "kernelspec": {
   "display_name": "Python 3 (ipykernel)",
   "language": "python",
   "name": "python3"
  },
  "language_info": {
   "codemirror_mode": {
    "name": "ipython",
    "version": 3
   },
   "file_extension": ".py",
   "mimetype": "text/x-python",
   "name": "python",
   "nbconvert_exporter": "python",
   "pygments_lexer": "ipython3",
   "version": "3.11.5"
  }
 },
 "nbformat": 4,
 "nbformat_minor": 5
}
