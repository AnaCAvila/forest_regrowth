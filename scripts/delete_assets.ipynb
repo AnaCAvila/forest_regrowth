{
 "cells": [
  {
   "cell_type": "markdown",
   "id": "35baa65f-9929-4bc6-bf47-d7885819aba1",
   "metadata": {},
   "source": [
    "Deleting assets in bulk from projects. Taken from https://gis.stackexchange.com/questions/467363/batch-deleting-of-earth-engine-assets"
   ]
  },
  {
   "cell_type": "code",
   "execution_count": null,
   "id": "bfa44723-09e9-449a-bcee-7464dd7c3126",
   "metadata": {},
   "outputs": [],
   "source": [
    "asset_list = ee.data.listAssets(\"projects/ee-ana-zonia/assets\")[\"assets\"]\n",
    "asset_list\n",
    "\n",
    "def conditional_asset_rm(x, starts_with):\n",
    "    \"\"\"Deletes asset if starts with starts_with \"\"\"\n",
    "    id = x[\"id\"]              # users/username/file  or projects/project-name/assets/file\n",
    "    findex = 5 if id.startswith(\"users\") else 3\n",
    "    name = x[\"name\"]          # projects/earthengine-legacy/assets/users/username/file or projects/project-name/assets/file\n",
    "    f = name.split(\"/\")[findex]  # file\n",
    "    if (f.startswith(starts_with)):\n",
    "        ee.data.deleteAsset(id)\n",
    "        return f\"Deleted asset {id}\"\n",
    "    \n",
    "    # return 0\n",
    "\n",
    "\n",
    "[conditional_asset_rm(x, \"unif\") for x in asset_list]\n",
    "\n"
   ]
  }
 ],
 "metadata": {
  "kernelspec": {
   "display_name": "Python 3 (ipykernel)",
   "language": "python",
   "name": "python3"
  },
  "language_info": {
   "codemirror_mode": {
    "name": "ipython",
    "version": 3
   },
   "file_extension": ".py",
   "mimetype": "text/x-python",
   "name": "python",
   "nbconvert_exporter": "python",
   "pygments_lexer": "ipython3",
   "version": "3.11.5"
  }
 },
 "nbformat": 4,
 "nbformat_minor": 5
}
