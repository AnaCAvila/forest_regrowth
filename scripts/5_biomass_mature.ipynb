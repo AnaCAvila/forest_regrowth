{
 "cells": [
  {
   "cell_type": "code",
   "execution_count": 45,
   "id": "95f838ce-8f56-46b6-922f-7a7eddab0c74",
   "metadata": {},
   "outputs": [
    {
     "data": {
      "text/html": [
       "\n",
       "            <style>\n",
       "                .geemap-dark {\n",
       "                    --jp-widgets-color: white;\n",
       "                    --jp-widgets-label-color: white;\n",
       "                    --jp-ui-font-color1: white;\n",
       "                    --jp-layout-color2: #454545;\n",
       "                    background-color: #383838;\n",
       "                }\n",
       "                    \n",
       "                .geemap-dark .jupyter-button {\n",
       "                    --jp-layout-color3: #383838;\n",
       "                }\n",
       "                \n",
       "                .geemap-colab {\n",
       "                    background-color: var(--colab-primary-surface-color, white);\n",
       "                }\n",
       "                    \n",
       "                .geemap-colab .jupyter-button {\n",
       "                    --jp-layout-color3: var(--colab-primary-surface-color, white);\n",
       "                }\n",
       "            </style>\n",
       "            "
      ],
      "text/plain": [
       "<IPython.core.display.HTML object>"
      ]
     },
     "metadata": {},
     "output_type": "display_data"
    }
   ],
   "source": [
    "import ee\n",
    "import geemap\n",
    "\n",
    "# Authenticate to Earth Engine\n",
    "try:\n",
    "  ee.Initialize()\n",
    "except Exception as e:\n",
    "  ee.Authenticate()\n",
    "  ee.Initialize(project='ee-ana-zonia')\n",
    "\n",
    "from utils import import_roi\n",
    "from utils import export_image_as_grid\n",
    "\n",
    "# roi = import_roi('br_amazon')   .filter(ee.Filter.neq(\"id\", 18413))\n",
    "roi = ee.FeatureCollection(\"projects/ee-ana-zonia/assets/br_biomes\").geometry().dissolve()\n",
    "first_year = 1985\n",
    "last_year = 2020"
   ]
  },
  {
   "cell_type": "markdown",
   "id": "c446381f-ac94-4334-bcbc-c49c718c7520",
   "metadata": {
    "id": "dQ6tNIlXrmSJ"
   },
   "source": [
    "## Biomass\n",
    "Get mean biomass for edge pixels"
   ]
  },
  {
   "cell_type": "code",
   "execution_count": 46,
   "id": "b57623f0-336e-42bd-9118-4232bb567f89",
   "metadata": {
    "colab": {
     "base_uri": "https://localhost:8080/",
     "height": 17
    },
    "id": "_vrTeyuJrlev",
    "outputId": "1bdc3fc5-219e-4fea-b057-6c4ee2f1d909"
   },
   "outputs": [
    {
     "data": {
      "text/html": [
       "\n",
       "            <style>\n",
       "                .geemap-dark {\n",
       "                    --jp-widgets-color: white;\n",
       "                    --jp-widgets-label-color: white;\n",
       "                    --jp-ui-font-color1: white;\n",
       "                    --jp-layout-color2: #454545;\n",
       "                    background-color: #383838;\n",
       "                }\n",
       "                    \n",
       "                .geemap-dark .jupyter-button {\n",
       "                    --jp-layout-color3: #383838;\n",
       "                }\n",
       "                \n",
       "                .geemap-colab {\n",
       "                    background-color: var(--colab-primary-surface-color, white);\n",
       "                }\n",
       "                    \n",
       "                .geemap-colab .jupyter-button {\n",
       "                    --jp-layout-color3: var(--colab-primary-surface-color, white);\n",
       "                }\n",
       "            </style>\n",
       "            "
      ],
      "text/plain": [
       "<IPython.core.display.HTML object>"
      ]
     },
     "metadata": {},
     "output_type": "display_data"
    },
    {
     "data": {
      "application/vnd.jupyter.widget-view+json": {
       "model_id": "96d2bdd781f544118bde582fe1ce4de0",
       "version_major": 2,
       "version_minor": 0
      },
      "text/plain": [
       "Map(center=[0, 0], controls=(WidgetControl(options=['position', 'transparent_bg'], widget=SearchDataGUI(childr…"
      ]
     },
     "execution_count": 46,
     "metadata": {},
     "output_type": "execute_result"
    }
   ],
   "source": [
    "biomass_1 = ee.Image(\"projects/ee-ana-zonia/assets/biomass_2020\")\n",
    "biomass = ee.Image(\"projects/ee-ana-zonia/assets/BIOMASS2\").clip(roi)\n",
    "\n",
    "# Reproject to 10m\n",
    "biomass = biomass.reproject(crs=age.projection(), scale=10)\n",
    "# Reaggregate to 30m (mean value)\n",
    "biomass = biomass.reduceResolution(reducer=ee.Reducer.mean()).reproject(crs=age.projection())\n",
    "# Mask only to regions with age greater than zero (secondary forests)\n",
    "biomass = biomass.updateMask(age).int16().rename('agbd')\n",
    "\n",
    "vis = {\n",
    "    'min': 0,\n",
    "    'max': 420,\n",
    "    'palette': ['blue', 'red'],\n",
    "}\n",
    "   \n",
    "Map = geemap.Map()\n",
    "Map.addLayer(biomass.geometry(), {})\n",
    "Map"
   ]
  },
  {
   "cell_type": "markdown",
   "id": "bdf2ecf8-812f-4f3e-9c4a-73e5a717f25a",
   "metadata": {
    "id": "xq8psIdotwxG"
   },
   "source": [
    "## Mature Forests"
   ]
  },
  {
   "cell_type": "code",
   "execution_count": 44,
   "id": "191a8d63-a5f9-4902-b219-3bf3ab6945c5",
   "metadata": {
    "colab": {
     "base_uri": "https://localhost:8080/",
     "height": 17
    },
    "id": "rJzutbQTf76-",
    "outputId": "f15c5af8-75e4-4d4f-f161-fb71d9ec68bb"
   },
   "outputs": [
    {
     "data": {
      "text/html": [
       "\n",
       "            <style>\n",
       "                .geemap-dark {\n",
       "                    --jp-widgets-color: white;\n",
       "                    --jp-widgets-label-color: white;\n",
       "                    --jp-ui-font-color1: white;\n",
       "                    --jp-layout-color2: #454545;\n",
       "                    background-color: #383838;\n",
       "                }\n",
       "                    \n",
       "                .geemap-dark .jupyter-button {\n",
       "                    --jp-layout-color3: #383838;\n",
       "                }\n",
       "                \n",
       "                .geemap-colab {\n",
       "                    background-color: var(--colab-primary-surface-color, white);\n",
       "                }\n",
       "                    \n",
       "                .geemap-colab .jupyter-button {\n",
       "                    --jp-layout-color3: var(--colab-primary-surface-color, white);\n",
       "                }\n",
       "            </style>\n",
       "            "
      ],
      "text/plain": [
       "<IPython.core.display.HTML object>"
      ]
     },
     "metadata": {},
     "output_type": "display_data"
    }
   ],
   "source": [
    "ecoregions = ee.FeatureCollection(\"RESOLVE/ECOREGIONS/2017\").filterBounds(roi) \\\n",
    "                .map(lambda feature: feature.intersection(roi))\n",
    "\n",
    "lulc = ee.Image(\"projects/mapbiomas-workspace/public/collection8/mapbiomas_collection80_integration_v1\") \\\n",
    "  .select([f\"classification_{year}\" for year in range(first_year, last_year+1)]).byte()\n",
    "# how many meters around a secondary forest is considered a \"neighborhood\" for mature forest calculations\n",
    "# mat_neighbor = 1000\n",
    "\n",
    "mature_mask = lulc.eq(3)\n",
    "# # Mask the image to keep only pixels with the value 3 in all bands\n",
    "mature_mask = mature_mask.reduce(ee.Reducer.allNonZero()).selfMask()\n",
    "\n",
    "mature_biomass = biomass.updateMask(mature_mask).int16().rename('mat_biomass')\n",
    "# # # Compute the median biomass values for mature forest per ecoregion.\n",
    "# median_mature = mature_biomass.reduceRegions(ecoregions, reducer=ee.Reducer.median(), \\\n",
    "#                                              scale = 10000, crs = mature_biomass.projection().crs())\n",
    "\n",
    "# # Convert the FeatureCollection to an image.\n",
    "# median_mature = median_mature.reduceToImage(['mat_biomass'], ee.Reducer.first())\n",
    "\n",
    "# Define the export parameters\n",
    "export_params = {\n",
    "    'image': mature_biomass,\n",
    "    'description': 'mature_biomass',\n",
    "    'assetId': 'projects/ee-ana-zonia/assets/mature_biomass_1',\n",
    "    'scale': 10000,\n",
    "    'crs': 'EPSG:4326'\n",
    "}\n",
    "\n",
    "# Create the export task\n",
    "task = ee.batch.Export.image.toAsset(**export_params)\n",
    "\n",
    "# Start the export task\n",
    "task.start()\n",
    "\n",
    "# frag = ee.Image('projects/ee-ana-zonia/assets/frag_2020').updateMask(age).rename('frag')\n",
    "\n",
    "# Compute sum over round kernel\n",
    "# assuming that 99.7% of seeds come from forests within mat_neighbor distance, that's 3 standard deviations\n",
    "# sd = mat_neighbor/3\n",
    "# kernel = ee.Kernel.gaussian(radius = mat_neighbor, sigma = sd, units='meters', normalize = True)\n",
    "# weighed_sum_mature = mature_biomass.convolve(kernel).rename('weighted_sum_mature')\n",
    "# weighed_sum_mature\n",
    "\n"
   ]
  }
 ],
 "metadata": {
  "kernelspec": {
   "display_name": "Python 3 (ipykernel)",
   "language": "python",
   "name": "python3"
  },
  "language_info": {
   "codemirror_mode": {
    "name": "ipython",
    "version": 3
   },
   "file_extension": ".py",
   "mimetype": "text/x-python",
   "name": "python",
   "nbconvert_exporter": "python",
   "pygments_lexer": "ipython3",
   "version": "3.11.5"
  }
 },
 "nbformat": 4,
 "nbformat_minor": 5
}
