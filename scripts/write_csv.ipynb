{
 "cells": [
  {
   "cell_type": "code",
   "execution_count": 3,
   "id": "a9594018-621b-427e-89d3-0633de81979a",
   "metadata": {},
   "outputs": [],
   "source": [
    "import ee\n",
    "import geemap\n",
    "\n",
    "# Authenticate to Earth Engine\n",
    "try:\n",
    "  ee.Initialize(project='ee-ana-zonia')\n",
    "except Exception as e:\n",
    "  ee.Authenticate()\n",
    "  ee.Initialize(project='ee-ana-zonia')"
   ]
  },
  {
   "cell_type": "code",
   "execution_count": 16,
   "id": "4c45c5d6-0cf7-452d-bdbc-9b376d241d4d",
   "metadata": {},
   "outputs": [
    {
     "data": {
      "text/html": [
       "\n",
       "            <style>\n",
       "                .geemap-dark {\n",
       "                    --jp-widgets-color: white;\n",
       "                    --jp-widgets-label-color: white;\n",
       "                    --jp-ui-font-color1: white;\n",
       "                    --jp-layout-color2: #454545;\n",
       "                    background-color: #383838;\n",
       "                }\n",
       "                    \n",
       "                .geemap-dark .jupyter-button {\n",
       "                    --jp-layout-color3: #383838;\n",
       "                }\n",
       "                \n",
       "                .geemap-colab {\n",
       "                    background-color: var(--colab-primary-surface-color, white);\n",
       "                }\n",
       "                    \n",
       "                .geemap-colab .jupyter-button {\n",
       "                    --jp-layout-color3: var(--colab-primary-surface-color, white);\n",
       "                }\n",
       "            </style>\n",
       "            "
      ],
      "text/plain": [
       "<IPython.core.display.HTML object>"
      ]
     },
     "metadata": {},
     "output_type": "display_data"
    }
   ],
   "source": [
    "# region of interest is the entire country\n",
    "roi = ee.FeatureCollection(\"projects/ee-ana-zonia/assets/br_biomes\").geometry().dissolve()\n",
    "# select ecoregions to run analysis\n",
    "ecoregions = ee.FeatureCollection(\"RESOLVE/ECOREGIONS/2017\").filterBounds(roi) \\\n",
    "                .map(lambda feature: feature.intersection(roi))\n",
    "\n",
    "img = ee.Image('projects/ee-ana-zonia/assets/lulc')\n",
    "\n",
    "## create an empty object to hold stratified points\n",
    "empty_br = ee.Image().byte().paint(ecoregions, \"ecoregion\").rename(\"ecoregion\")"
   ]
  },
  {
   "cell_type": "code",
   "execution_count": 17,
   "id": "17274e78-0e1d-41df-87ff-08a3c2309f75",
   "metadata": {},
   "outputs": [
    {
     "data": {
      "text/html": [
       "\n",
       "            <style>\n",
       "                .geemap-dark {\n",
       "                    --jp-widgets-color: white;\n",
       "                    --jp-widgets-label-color: white;\n",
       "                    --jp-ui-font-color1: white;\n",
       "                    --jp-layout-color2: #454545;\n",
       "                    background-color: #383838;\n",
       "                }\n",
       "                    \n",
       "                .geemap-dark .jupyter-button {\n",
       "                    --jp-layout-color3: #383838;\n",
       "                }\n",
       "                \n",
       "                .geemap-colab {\n",
       "                    background-color: var(--colab-primary-surface-color, white);\n",
       "                }\n",
       "                    \n",
       "                .geemap-colab .jupyter-button {\n",
       "                    --jp-layout-color3: var(--colab-primary-surface-color, white);\n",
       "                }\n",
       "            </style>\n",
       "            "
      ],
      "text/plain": [
       "<IPython.core.display.HTML object>"
      ]
     },
     "metadata": {},
     "output_type": "display_data"
    }
   ],
   "source": [
    "## stratify sample points per feature\n",
    "stratified = empty_br.addBands(ee.Image.pixelLonLat()).stratifiedSample(\n",
    "      numPoints = 1000,\n",
    "      classBand = 'ecoregion',\n",
    "      projection = 'EPSG:4326',\n",
    "      scale = 30,\n",
    "      region = ecoregions\n",
    ")"
   ]
  },
  {
   "cell_type": "code",
   "execution_count": 19,
   "id": "ecac20f9-5954-423b-ba9c-42d8ce919d97",
   "metadata": {},
   "outputs": [
    {
     "data": {
      "text/html": [
       "\n",
       "            <style>\n",
       "                .geemap-dark {\n",
       "                    --jp-widgets-color: white;\n",
       "                    --jp-widgets-label-color: white;\n",
       "                    --jp-ui-font-color1: white;\n",
       "                    --jp-layout-color2: #454545;\n",
       "                    background-color: #383838;\n",
       "                }\n",
       "                    \n",
       "                .geemap-dark .jupyter-button {\n",
       "                    --jp-layout-color3: #383838;\n",
       "                }\n",
       "                \n",
       "                .geemap-colab {\n",
       "                    background-color: var(--colab-primary-surface-color, white);\n",
       "                }\n",
       "                    \n",
       "                .geemap-colab .jupyter-button {\n",
       "                    --jp-layout-color3: var(--colab-primary-surface-color, white);\n",
       "                }\n",
       "            </style>\n",
       "            "
      ],
      "text/plain": [
       "<IPython.core.display.HTML object>"
      ]
     },
     "metadata": {},
     "output_type": "display_data"
    },
    {
     "data": {
      "text/html": [
       "<pre>&lt;ee.featurecollection.FeatureCollection object at 0x0000022192AE2F90&gt;</pre>"
      ],
      "text/plain": [
       "<ee.featurecollection.FeatureCollection at 0x22192ae2f90>"
      ]
     },
     "execution_count": 19,
     "metadata": {},
     "output_type": "execute_result"
    }
   ],
   "source": [
    "## sample image using stratified points ('random' is the default column name given by randomColumn)\n",
    "sample = img.sampleRegions(collection=stratified, properties=['ecoregion', 'random'], scale=30)"
   ]
  },
  {
   "cell_type": "code",
   "execution_count": 20,
   "id": "eae71648-d2dc-44db-9c24-94bc228b1b87",
   "metadata": {},
   "outputs": [
    {
     "data": {
      "text/html": [
       "\n",
       "            <style>\n",
       "                .geemap-dark {\n",
       "                    --jp-widgets-color: white;\n",
       "                    --jp-widgets-label-color: white;\n",
       "                    --jp-ui-font-color1: white;\n",
       "                    --jp-layout-color2: #454545;\n",
       "                    background-color: #383838;\n",
       "                }\n",
       "                    \n",
       "                .geemap-dark .jupyter-button {\n",
       "                    --jp-layout-color3: #383838;\n",
       "                }\n",
       "                \n",
       "                .geemap-colab {\n",
       "                    background-color: var(--colab-primary-surface-color, white);\n",
       "                }\n",
       "                    \n",
       "                .geemap-colab .jupyter-button {\n",
       "                    --jp-layout-color3: var(--colab-primary-surface-color, white);\n",
       "                }\n",
       "            </style>\n",
       "            "
      ],
      "text/plain": [
       "<IPython.core.display.HTML object>"
      ]
     },
     "metadata": {},
     "output_type": "display_data"
    }
   ],
   "source": [
    "task = ee.batch.Export.table.toDrive(\n",
    "    collection = sample,\n",
    "    description = 'lulc_sampled',\n",
    "    folder = 'datasheets'\n",
    ")\n",
    "\n",
    "task.start()\n"
   ]
  },
  {
   "cell_type": "code",
   "execution_count": null,
   "id": "713f7879-6ed1-4b8c-a638-abd8fe97d0b4",
   "metadata": {},
   "outputs": [],
   "source": [
    "frag = ee.Image('projects/ee-ana-zonia/assets/frag_2020')\n",
    "land_use = LU_sum.addBands([last_LU, last_fire, num_fires, frag, median_mature])\n",
    "\n",
    "ecoreg = ee.Image(\"projects/ee-ana-zonia/assets/ecoregions_br\")\n",
    "indig = ee.Image(\"projects/ee-ana-zonia/assets/indig\")\n",
    "soil = ee.Image(\"projects/ee-ana-zonia/assets/soil\")\n",
    "protec = ee.Image(\"projects/ee-ana-zonia/assets/protec\")\n",
    "biomes = ee.Image(\"projects/ee-ana-zonia/assets/biome_br\")\n",
    "categorical = ecoreg.addBands([indig, soil, protec, biomes])\n",
    "\n",
    "yearly_si = ee.Image(\"projects/ee-ana-zonia/assets/yearly_si\")\n",
    "mean_prec = ee.Image(\"projects/ee-ana-zonia/assets/mean_prec\")\n",
    "cwd_chave = ee.Image(\"projects/ee-ana-zonia/assets/cwd_chave\").clip(roi)\n",
    "climate = yearly_si.addBands([mean_prec, cwd_chave])\n"
   ]
  }
 ],
 "metadata": {
  "kernelspec": {
   "display_name": "Python 3 (ipykernel)",
   "language": "python",
   "name": "python3"
  },
  "language_info": {
   "codemirror_mode": {
    "name": "ipython",
    "version": 3
   },
   "file_extension": ".py",
   "mimetype": "text/x-python",
   "name": "python",
   "nbconvert_exporter": "python",
   "pygments_lexer": "ipython3",
   "version": "3.11.5"
  }
 },
 "nbformat": 4,
 "nbformat_minor": 5
}
