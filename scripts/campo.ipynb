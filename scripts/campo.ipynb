{
 "cells": [
  {
   "cell_type": "code",
   "execution_count": 17,
   "metadata": {
    "id": "cOBmvER1OjFM"
   },
   "outputs": [
    {
     "data": {
      "text/html": [
       "\n",
       "            <style>\n",
       "                .geemap-dark {\n",
       "                    --jp-widgets-color: white;\n",
       "                    --jp-widgets-label-color: white;\n",
       "                    --jp-ui-font-color1: white;\n",
       "                    --jp-layout-color2: #454545;\n",
       "                    background-color: #383838;\n",
       "                }\n",
       "                    \n",
       "                .geemap-dark .jupyter-button {\n",
       "                    --jp-layout-color3: #383838;\n",
       "                }\n",
       "                \n",
       "                .geemap-colab {\n",
       "                    background-color: var(--colab-primary-surface-color, white);\n",
       "                }\n",
       "                    \n",
       "                .geemap-colab .jupyter-button {\n",
       "                    --jp-layout-color3: var(--colab-primary-surface-color, white);\n",
       "                }\n",
       "            </style>\n",
       "            "
      ],
      "text/plain": [
       "<IPython.core.display.HTML object>"
      ]
     },
     "metadata": {},
     "output_type": "display_data"
    }
   ],
   "source": [
    "\"\"\"\n",
    "Generating data for \"Predicting Forest Regrowth in Amazonia given Land Use History\"\n",
    "Author: Ana Catarina Avila\n",
    "Date: Dec 2023\n",
    "\"\"\"\n",
    "\n",
    "import ee\n",
    "import geemap\n",
    "#from geetools import batchvamo\n",
    "# import pandas as pd\n",
    "import numpy as np\n",
    "# from osgeo import gdal\n",
    "# import os\n",
    "# import datetime\n",
    "\n",
    "# Authenticate to Earth Engine\n",
    "try:\n",
    "  ee.Initialize()\n",
    "except Exception as e:\n",
    "  ee.Authenticate()\n",
    "  ee.Initialize(project='ee-ana-zonia')\n"
   ]
  },
  {
   "cell_type": "code",
   "execution_count": 18,
   "metadata": {
    "colab": {
     "base_uri": "https://localhost:8080/",
     "height": 17
    },
    "id": "9U1KEjuZlfgL",
    "outputId": "9964e001-f4a7-4846-bf9f-2c603a7a6588"
   },
   "outputs": [
    {
     "data": {
      "text/html": [
       "\n",
       "            <style>\n",
       "                .geemap-dark {\n",
       "                    --jp-widgets-color: white;\n",
       "                    --jp-widgets-label-color: white;\n",
       "                    --jp-ui-font-color1: white;\n",
       "                    --jp-layout-color2: #454545;\n",
       "                    background-color: #383838;\n",
       "                }\n",
       "                    \n",
       "                .geemap-dark .jupyter-button {\n",
       "                    --jp-layout-color3: #383838;\n",
       "                }\n",
       "                \n",
       "                .geemap-colab {\n",
       "                    background-color: var(--colab-primary-surface-color, white);\n",
       "                }\n",
       "                    \n",
       "                .geemap-colab .jupyter-button {\n",
       "                    --jp-layout-color3: var(--colab-primary-surface-color, white);\n",
       "                }\n",
       "            </style>\n",
       "            "
      ],
      "text/plain": [
       "<IPython.core.display.HTML object>"
      ]
     },
     "metadata": {},
     "output_type": "display_data"
    }
   ],
   "source": [
    "# Switches\n",
    "region = \"br_amazon\"\n",
    "\n",
    "# Choose year range\n",
    "first_year = 1985\n",
    "last_year = 2020 # year of biomass data\n",
    "\n",
    "# how many meters around a secondary forest is considered a \"neighborhood\" for mature forest calculations\n",
    "mat_neighbor = 1000\n",
    "\n",
    "plot_region = ee.Geometry.Rectangle([-47, -3.5, -46, -2.5])\n",
    "Map = geemap.Map()\n",
    "Map.center_object(plot_region, zoom=9)"
   ]
  },
  {
   "cell_type": "code",
   "execution_count": 19,
   "metadata": {
    "colab": {
     "base_uri": "https://localhost:8080/",
     "height": 17
    },
    "id": "Js9LsEZy3v5r",
    "outputId": "c4b4d401-3e5e-4d12-e544-585dce15e5b3"
   },
   "outputs": [
    {
     "data": {
      "text/html": [
       "\n",
       "            <style>\n",
       "                .geemap-dark {\n",
       "                    --jp-widgets-color: white;\n",
       "                    --jp-widgets-label-color: white;\n",
       "                    --jp-ui-font-color1: white;\n",
       "                    --jp-layout-color2: #454545;\n",
       "                    background-color: #383838;\n",
       "                }\n",
       "                    \n",
       "                .geemap-dark .jupyter-button {\n",
       "                    --jp-layout-color3: #383838;\n",
       "                }\n",
       "                \n",
       "                .geemap-colab {\n",
       "                    background-color: var(--colab-primary-surface-color, white);\n",
       "                }\n",
       "                    \n",
       "                .geemap-colab .jupyter-button {\n",
       "                    --jp-layout-color3: var(--colab-primary-surface-color, white);\n",
       "                }\n",
       "            </style>\n",
       "            "
      ],
      "text/plain": [
       "<IPython.core.display.HTML object>"
      ]
     },
     "metadata": {},
     "output_type": "display_data"
    }
   ],
   "source": [
    "if region == \"br_amazon\":\n",
    "    roi = ee.FeatureCollection(\"projects/ee-ana-zonia/assets/br_biomes\").filter(ee.Filter.eq(\"id\", 18413)).geometry()\n",
    "elif region == \"br\":\n",
    "    roi = ee.FeatureCollection(\"projects/ee-ana-zonia/assets/br_shapefile\").geometry()\n",
    "else:\n",
    "    # land use for the pan amazonian dataset (spanning all amazonian countries)\n",
    "    lulc = ee.Image(\"projects/mapbiomas-raisg/public/collection1/mapbiomas_raisg_panamazonia_collection1_integration_v1\").byte()\n",
    "    # note: there's less land use categories here than for the Brazilian territory.\n",
    "\n",
    "# Load the images and feature collections\n",
    "if not region == \"panamaz\":\n",
    "  lulc = (ee.Image(\"projects/mapbiomas-workspace/public/collection8/mapbiomas_collection80_integration_v1\")\n",
    "      .clip(roi)\n",
    "      .select([f\"classification_{year}\" for year in range(first_year, last_year+1)])).byte()\n",
    "  fire = (ee.Image(\"projects/mapbiomas-workspace/public/collection7_1/mapbiomas-fire-collection2-annual-burned-coverage-1\")\n",
    "      .clip(roi)\n",
    "      .select([f\"burned_coverage_{year}\" for year in range(first_year, last_year)])).byte()"
   ]
  },
  {
   "cell_type": "markdown",
   "metadata": {
    "id": "dDZeM0WiqXHT"
   },
   "source": [
    "## Categorical Variables\n",
    "Indigenous land, ecoregion, and soil type."
   ]
  },
  {
   "cell_type": "code",
   "execution_count": 25,
   "metadata": {
    "colab": {
     "base_uri": "https://localhost:8080/",
     "height": 17
    },
    "id": "Awk9nNDkqVQQ",
    "outputId": "a176e4db-968d-4d59-b46e-2b6ace635c09"
   },
   "outputs": [
    {
     "data": {
      "text/html": [
       "\n",
       "            <style>\n",
       "                .geemap-dark {\n",
       "                    --jp-widgets-color: white;\n",
       "                    --jp-widgets-label-color: white;\n",
       "                    --jp-ui-font-color1: white;\n",
       "                    --jp-layout-color2: #454545;\n",
       "                    background-color: #383838;\n",
       "                }\n",
       "                    \n",
       "                .geemap-dark .jupyter-button {\n",
       "                    --jp-layout-color3: #383838;\n",
       "                }\n",
       "                \n",
       "                .geemap-colab {\n",
       "                    background-color: var(--colab-primary-surface-color, white);\n",
       "                }\n",
       "                    \n",
       "                .geemap-colab .jupyter-button {\n",
       "                    --jp-layout-color3: var(--colab-primary-surface-color, white);\n",
       "                }\n",
       "            </style>\n",
       "            "
      ],
      "text/plain": [
       "<IPython.core.display.HTML object>"
      ]
     },
     "metadata": {},
     "output_type": "display_data"
    }
   ],
   "source": [
    "ecoregions = (ee.FeatureCollection(\"RESOLVE/ECOREGIONS/2017\").filterBounds(roi)\n",
    "                .map(lambda feature: feature.intersection(roi)))\n",
    "ecoregions_img = ecoregions.reduceToImage(['ECO_ID'], ee.Reducer.first()).rename('ecoreg')\n",
    "\n",
    "indig_land = ee.FeatureCollection(\"projects/ee-ana-zonia/assets/indig_land\").filterBounds(roi)\n",
    "indig_land_img = ee.Image().byte().paint(indig_land, 'gid').rename(\"indig\").mask()"
   ]
  },
  {
   "cell_type": "markdown",
   "metadata": {
    "id": "VZIGY-RFuJtx"
   },
   "source": [
    "Soil categories are strings, which Image objects can't handle. To transform the feature collection into an image, we convert the strings to integers by creating a dictionary."
   ]
  },
  {
   "cell_type": "code",
   "execution_count": 26,
   "metadata": {
    "colab": {
     "base_uri": "https://localhost:8080/",
     "height": 17
    },
    "id": "emB75_jOwuWu",
    "outputId": "90a03ac3-fd04-49ad-81ee-e0e5356aa307"
   },
   "outputs": [
    {
     "data": {
      "text/html": [
       "\n",
       "            <style>\n",
       "                .geemap-dark {\n",
       "                    --jp-widgets-color: white;\n",
       "                    --jp-widgets-label-color: white;\n",
       "                    --jp-ui-font-color1: white;\n",
       "                    --jp-layout-color2: #454545;\n",
       "                    background-color: #383838;\n",
       "                }\n",
       "                    \n",
       "                .geemap-dark .jupyter-button {\n",
       "                    --jp-layout-color3: #383838;\n",
       "                }\n",
       "                \n",
       "                .geemap-colab {\n",
       "                    background-color: var(--colab-primary-surface-color, white);\n",
       "                }\n",
       "                    \n",
       "                .geemap-colab .jupyter-button {\n",
       "                    --jp-layout-color3: var(--colab-primary-surface-color, white);\n",
       "                }\n",
       "            </style>\n",
       "            "
      ],
      "text/plain": [
       "<IPython.core.display.HTML object>"
      ]
     },
     "metadata": {},
     "output_type": "display_data"
    }
   ],
   "source": [
    "soil = (ee.FeatureCollection('projects/ee-ana-zonia/assets/DSMW').filterBounds(roi)\n",
    "                .map(lambda feature: feature.intersection(roi)))\n",
    "\n",
    "unique_domsoi = soil.aggregate_array('DOMSOI').distinct()\n",
    "\n",
    "domsoi_dict = ee.Dictionary.fromLists(unique_domsoi, ee.List.sequence(1, unique_domsoi.length()))\n",
    "\n",
    "soil = soil.remap(unique_domsoi, domsoi_dict.values(), 'DOMSOI')\n",
    "\n",
    "soil_img = soil.reduceToImage(['DOMSOI'], ee.Reducer.first()).rename('soil')"
   ]
  },
  {
   "cell_type": "markdown",
   "metadata": {
    "id": "dQ6tNIlXrmSJ"
   },
   "source": [
    "## Biomass Edge Pixels\n",
    "Get mean biomass for edge pixels"
   ]
  },
  {
   "cell_type": "code",
   "execution_count": 27,
   "metadata": {
    "colab": {
     "base_uri": "https://localhost:8080/",
     "height": 17
    },
    "id": "_vrTeyuJrlev",
    "outputId": "1bdc3fc5-219e-4fea-b057-6c4ee2f1d909"
   },
   "outputs": [
    {
     "data": {
      "text/html": [
       "\n",
       "            <style>\n",
       "                .geemap-dark {\n",
       "                    --jp-widgets-color: white;\n",
       "                    --jp-widgets-label-color: white;\n",
       "                    --jp-ui-font-color1: white;\n",
       "                    --jp-layout-color2: #454545;\n",
       "                    background-color: #383838;\n",
       "                }\n",
       "                    \n",
       "                .geemap-dark .jupyter-button {\n",
       "                    --jp-layout-color3: #383838;\n",
       "                }\n",
       "                \n",
       "                .geemap-colab {\n",
       "                    background-color: var(--colab-primary-surface-color, white);\n",
       "                }\n",
       "                    \n",
       "                .geemap-colab .jupyter-button {\n",
       "                    --jp-layout-color3: var(--colab-primary-surface-color, white);\n",
       "                }\n",
       "            </style>\n",
       "            "
      ],
      "text/plain": [
       "<IPython.core.display.HTML object>"
      ]
     },
     "metadata": {},
     "output_type": "display_data"
    }
   ],
   "source": [
    "biomass = ee.Image(\"projects/ee-ana-zonia/assets/biomass_2020\").clip(roi)\n",
    "\n",
    "# Reproject to 10m\n",
    "biomass = biomass.reproject(crs=age.projection(), scale=10)\n",
    "# Reaggregate to 30m (mean value)\n",
    "biomass = biomass.reduceResolution(reducer=ee.Reducer.mean()).reproject(crs=age.projection())\n",
    "# Mask only to regions with age greater than zero (secondary forests)\n",
    "biomass = biomass.updateMask(age).float().rename('agbd')"
   ]
  },
  {
   "cell_type": "markdown",
   "metadata": {
    "id": "xq8psIdotwxG"
   },
   "source": [
    "## Mature Forests"
   ]
  },
  {
   "cell_type": "code",
   "execution_count": 28,
   "metadata": {
    "colab": {
     "base_uri": "https://localhost:8080/",
     "height": 17
    },
    "id": "rJzutbQTf76-",
    "outputId": "f15c5af8-75e4-4d4f-f161-fb71d9ec68bb"
   },
   "outputs": [
    {
     "data": {
      "text/html": [
       "\n",
       "            <style>\n",
       "                .geemap-dark {\n",
       "                    --jp-widgets-color: white;\n",
       "                    --jp-widgets-label-color: white;\n",
       "                    --jp-ui-font-color1: white;\n",
       "                    --jp-layout-color2: #454545;\n",
       "                    background-color: #383838;\n",
       "                }\n",
       "                    \n",
       "                .geemap-dark .jupyter-button {\n",
       "                    --jp-layout-color3: #383838;\n",
       "                }\n",
       "                \n",
       "                .geemap-colab {\n",
       "                    background-color: var(--colab-primary-surface-color, white);\n",
       "                }\n",
       "                    \n",
       "                .geemap-colab .jupyter-button {\n",
       "                    --jp-layout-color3: var(--colab-primary-surface-color, white);\n",
       "                }\n",
       "            </style>\n",
       "            "
      ],
      "text/plain": [
       "<IPython.core.display.HTML object>"
      ]
     },
     "metadata": {},
     "output_type": "display_data"
    }
   ],
   "source": [
    "mature_mask = lulc.eq(3)\n",
    "# Mask the image to keep only pixels with the value 3 in all bands\n",
    "mature_mask = mature_mask.reduce(ee.Reducer.allNonZero())\n",
    "mature_biomass = biomass.updateMask(mature_mask).rename('mat_biomass')\n",
    "\n",
    "# # Compute the median biomass values for mature forest per ecoregion.\n",
    "median_mature = mature_biomass.reduceRegions(ecoregions, reducer=ee.Reducer.median(), scale = 30, crs = mature_biomass.projection().crs())\n",
    "# Convert the FeatureCollection to an image.\n",
    "median_mature = median_mature.reduceToImage(['mat_biomass'], ee.Reducer.first())\n",
    "\n",
    "# Compute sum over round kernel\n",
    "# assuming that 99.7% of seeds come from forests within mat_neighbor distance, that's 3 standard deviations\n",
    "# sd = mat_neighbor/3\n",
    "# kernel = ee.Kernel.gaussian(radius = mat_neighbor, sigma = sd, units='meters', normalize = True)\n",
    "# weighed_sum_mature = mature_biomass.convolve(kernel).rename('weighted_sum_mature')\n",
    "# weighed_sum_mature\n",
    "\n",
    "projects/ee-ana-zonia/assets/frag_2020\n"
   ]
  },
  {
   "cell_type": "markdown",
   "metadata": {
    "id": "aqktfGhDhqAN",
    "jp-MarkdownHeadingCollapsed": true
   },
   "source": [
    "## Land use and land cover"
   ]
  },
  {
   "cell_type": "code",
   "execution_count": 29,
   "metadata": {
    "colab": {
     "base_uri": "https://localhost:8080/",
     "height": 17
    },
    "id": "dy2ERYALlCx5",
    "outputId": "2035c8db-13a4-4c0f-fb50-ba82a0652c78"
   },
   "outputs": [
    {
     "data": {
      "text/html": [
       "\n",
       "            <style>\n",
       "                .geemap-dark {\n",
       "                    --jp-widgets-color: white;\n",
       "                    --jp-widgets-label-color: white;\n",
       "                    --jp-ui-font-color1: white;\n",
       "                    --jp-layout-color2: #454545;\n",
       "                    background-color: #383838;\n",
       "                }\n",
       "                    \n",
       "                .geemap-dark .jupyter-button {\n",
       "                    --jp-layout-color3: #383838;\n",
       "                }\n",
       "                \n",
       "                .geemap-colab {\n",
       "                    background-color: var(--colab-primary-surface-color, white);\n",
       "                }\n",
       "                    \n",
       "                .geemap-colab .jupyter-button {\n",
       "                    --jp-layout-color3: var(--colab-primary-surface-color, white);\n",
       "                }\n",
       "            </style>\n",
       "            "
      ],
      "text/plain": [
       "<IPython.core.display.HTML object>"
      ]
     },
     "metadata": {},
     "output_type": "display_data"
    }
   ],
   "source": [
    "#   last observed land use type - given secondary ages, get\n",
    "# if age is 1 in 2020, it was not forest in 2019\n",
    "# which means I want category in 2019\n",
    "# if age is 35 in 2020, it was not forest in 1985\n",
    "# which means I want category in 1985\n",
    "lulc_masked = lulc.updateMask(age)\n",
    "\n",
    "last_LU = ee.Image().constant(0).byte().rename('last_LU')\n",
    "\n",
    "for i in range(first_year + 1, last_year):  # 1986-2020\n",
    "  year = f'classification_{i}'\n",
    "  age_mask = age.eq(last_year-i); #keep only the pixels with age equivalent to the correspondent year\n",
    "  last_LU_observation = lulc.select(year).updateMask(age_mask) #keeps only land use classes of the year before abandonment\n",
    "  last_LU = last_LU.add(last_LU_observation)"
   ]
  },
  {
   "cell_type": "code",
   "execution_count": 30,
   "metadata": {
    "colab": {
     "base_uri": "https://localhost:8080/",
     "height": 17
    },
    "id": "nnifp814e-6h",
    "outputId": "8f5925fb-7658-4984-dc43-0e831db5d8ec"
   },
   "outputs": [
    {
     "data": {
      "text/html": [
       "\n",
       "            <style>\n",
       "                .geemap-dark {\n",
       "                    --jp-widgets-color: white;\n",
       "                    --jp-widgets-label-color: white;\n",
       "                    --jp-ui-font-color1: white;\n",
       "                    --jp-layout-color2: #454545;\n",
       "                    background-color: #383838;\n",
       "                }\n",
       "                    \n",
       "                .geemap-dark .jupyter-button {\n",
       "                    --jp-layout-color3: #383838;\n",
       "                }\n",
       "                \n",
       "                .geemap-colab {\n",
       "                    background-color: var(--colab-primary-surface-color, white);\n",
       "                }\n",
       "                    \n",
       "                .geemap-colab .jupyter-button {\n",
       "                    --jp-layout-color3: var(--colab-primary-surface-color, white);\n",
       "                }\n",
       "            </style>\n",
       "            "
      ],
      "text/plain": [
       "<IPython.core.display.HTML object>"
      ]
     },
     "metadata": {},
     "output_type": "display_data"
    }
   ],
   "source": [
    "LU_sum = ee.Image().byte()\n",
    "\n",
    "for val in LU_index:\n",
    "  lulc_val = lulc_masked.eq(val)\n",
    "  lulc_val_mask = lulc_val.mask()\n",
    "  num_cells = lulc_val.reduce(ee.Reducer.sum()).rename(f'lulc_sum_{val}')\n",
    "  LU_sum = LU_sum.addBands(num_cells)\n",
    "\n",
    "LU_sum = LU_sum.slice(1).rename('LU_sum')\n",
    "\n",
    "# Map = geemap.Map(center=[-10, -40], zoom=4)\n",
    "# vizpar_age = {'min': 1, 'max': last_year - first_year, 'palette': ['blue', 'red']}  # Blue for 0, Red for 1\n",
    "#vizpar_lulc = {'min': 1, 'max': max(LU_index), 'palette': lulc_palette}\n",
    "# Map.addLayer(age, vizpar_age, \"ages\")\n",
    "# Map.addLayer(num_cells, vizpar_age, \"lulc_masked\")\n",
    "# Map\n",
    "#img_export = img_export + [last_LU, LU_sum]"
   ]
  },
  {
   "cell_type": "markdown",
   "metadata": {
    "id": "c-achWUrvWPn"
   },
   "source": [
    "### Fire\n",
    "Note that fire has different transform than lulc, so the projection will need to be adjusted when exporting."
   ]
  },
  {
   "cell_type": "code",
   "execution_count": 31,
   "metadata": {
    "colab": {
     "base_uri": "https://localhost:8080/",
     "height": 17
    },
    "id": "qT39hKV1Z4J8",
    "outputId": "f8dc4425-8982-42be-df4d-b7e19e028d07"
   },
   "outputs": [
    {
     "data": {
      "text/html": [
       "\n",
       "            <style>\n",
       "                .geemap-dark {\n",
       "                    --jp-widgets-color: white;\n",
       "                    --jp-widgets-label-color: white;\n",
       "                    --jp-ui-font-color1: white;\n",
       "                    --jp-layout-color2: #454545;\n",
       "                    background-color: #383838;\n",
       "                }\n",
       "                    \n",
       "                .geemap-dark .jupyter-button {\n",
       "                    --jp-layout-color3: #383838;\n",
       "                }\n",
       "                \n",
       "                .geemap-colab {\n",
       "                    background-color: var(--colab-primary-surface-color, white);\n",
       "                }\n",
       "                    \n",
       "                .geemap-colab .jupyter-button {\n",
       "                    --jp-layout-color3: var(--colab-primary-surface-color, white);\n",
       "                }\n",
       "            </style>\n",
       "            "
      ],
      "text/plain": [
       "<IPython.core.display.HTML object>"
      ]
     },
     "metadata": {},
     "output_type": "display_data"
    }
   ],
   "source": [
    "# fire has the value of the land use type that burned.\n",
    "# Transforming into a fire mask:\n",
    "fire = fire.gt(0)\n",
    "num_fires = fire.reduce(ee.Reducer.sum()).rename('num_fires')\n",
    "\n",
    "# get fire frequency data from Mapbiomas - double check it.\n",
    "# fire_freq = ee.Image(\"projects/mapbiomas-workspace/public/collection7_1/mapbiomas-fire-collection2-fire-frequency-1\").clip(roi)\n",
    "# fire_freq = fire_freq.select('fire_frequency_1985_2020')\n",
    "\n",
    "# how many years ago was each fire? #############################\n",
    "# Get the number of bands\n",
    "num_bands = fire.bandNames().size()\n",
    "# Create a sequence of numbers from 1 to num_bands\n",
    "years_ago = ee.List.sequence(1, num_bands)\n",
    "years_ago = years_ago.reverse()\n",
    "\n",
    "# # # Map over the image and set values based on the band index\n",
    "constant_images = ee.ImageCollection.fromImages(\n",
    "    years_ago.map(lambda year: ee.Image.constant(year))).toBands()\n",
    "\n",
    "time_since_all_fires = fire.multiply(constant_images)\n",
    "\n",
    "old_names = time_since_all_fires.bandNames().getInfo()\n",
    "new_names = [name.replace('burned_coverage', 'time_since_fire') for name in old_names]\n",
    "time_since_all_fires = time_since_all_fires.select(old_names).rename(new_names)\n",
    "\n",
    "# how many years ago was the LAST fire? #############################\n",
    "last_fire = time_since_all_fires.reduce(ee.Reducer.lastNonNull()).rename('last_fire')\n",
    "\n",
    "# Map = geemap.Map(center=[-10, -40], zoom=4)\n",
    "# Map.addLayer(num_fires, {'min':0, 'max':35}, 'num_fires')\n",
    "# Map\n",
    "\n",
    "# img_export = img_export + [num_fires, time_since_all_fires, last_fire]"
   ]
  },
  {
   "cell_type": "markdown",
   "metadata": {
    "id": "WS0xSMYLdJp8"
   },
   "source": [
    "## Climate\n",
    "\n",
    "### CWD\n",
    "\n",
    "Calculate mean AET from MODIS and calculate CWD from the precipitation values as in Celso\n",
    "\n",
    "Since MODIS only goes back to 2000, for now we are stuck with a fixed value for ET\n"
   ]
  },
  {
   "cell_type": "code",
   "execution_count": 113,
   "metadata": {
    "colab": {
     "base_uri": "https://localhost:8080/",
     "height": 17
    },
    "id": "FpDIKBQNAsdq",
    "outputId": "41bd5088-d521-4492-ae87-ce706e3ee93a"
   },
   "outputs": [
    {
     "data": {
      "text/html": [
       "\n",
       "            <style>\n",
       "                .geemap-dark {\n",
       "                    --jp-widgets-color: white;\n",
       "                    --jp-widgets-label-color: white;\n",
       "                    --jp-ui-font-color1: white;\n",
       "                    --jp-layout-color2: #454545;\n",
       "                    background-color: #383838;\n",
       "                }\n",
       "                    \n",
       "                .geemap-dark .jupyter-button {\n",
       "                    --jp-layout-color3: #383838;\n",
       "                }\n",
       "                \n",
       "                .geemap-colab {\n",
       "                    background-color: var(--colab-primary-surface-color, white);\n",
       "                }\n",
       "                    \n",
       "                .geemap-colab .jupyter-button {\n",
       "                    --jp-layout-color3: var(--colab-primary-surface-color, white);\n",
       "                }\n",
       "            </style>\n",
       "            "
      ],
      "text/plain": [
       "<IPython.core.display.HTML object>"
      ]
     },
     "metadata": {},
     "output_type": "display_data"
    }
   ],
   "source": [
    "# Function to calculate mean AET and add year property\n",
    "# select for mature forests since the values can be put off by deforestation (causes lower ET)\n",
    "\n",
    "start = \"2002-01-01\"\n",
    "end = \"2020-12-01\"\n",
    "\n",
    "modis = ee.ImageCollection(\"MODIS/061/MOD16A2GF\") \\\n",
    "         .filterDate(start, end) \\\n",
    "         .select('ET', 'ET_QC').map(lambda image: image.clip(roi).updateMask(mature_mask)\n",
    "         .reproject(scale = 10000, crs = 'EPSG:4326').reduceResolution(ee.Reducer.median()))\n",
    "\n",
    "months = ee.List.sequence(1, 12)\n",
    "years = ee.List.sequence(1985, 2019)"
   ]
  },
  {
   "cell_type": "code",
   "execution_count": 114,
   "metadata": {},
   "outputs": [
    {
     "data": {
      "text/html": [
       "\n",
       "            <style>\n",
       "                .geemap-dark {\n",
       "                    --jp-widgets-color: white;\n",
       "                    --jp-widgets-label-color: white;\n",
       "                    --jp-ui-font-color1: white;\n",
       "                    --jp-layout-color2: #454545;\n",
       "                    background-color: #383838;\n",
       "                }\n",
       "                    \n",
       "                .geemap-dark .jupyter-button {\n",
       "                    --jp-layout-color3: #383838;\n",
       "                }\n",
       "                \n",
       "                .geemap-colab {\n",
       "                    background-color: var(--colab-primary-surface-color, white);\n",
       "                }\n",
       "                    \n",
       "                .geemap-colab .jupyter-button {\n",
       "                    --jp-layout-color3: var(--colab-primary-surface-color, white);\n",
       "                }\n",
       "            </style>\n",
       "            "
      ],
      "text/plain": [
       "<IPython.core.display.HTML object>"
      ]
     },
     "metadata": {},
     "output_type": "display_data"
    }
   ],
   "source": [
    "# code sourced from https://spatialthoughts.com/2021/08/19/qa-bands-bitmasks-gee/\n",
    "def bitwise_extract(input, from_bit, to_bit):\n",
    "   mask_size = ee.Number(1).add(to_bit).subtract(from_bit)\n",
    "   mask = ee.Number(1).leftShift(mask_size).subtract(1)\n",
    "   return input.rightShift(from_bit).bitwiseAnd(mask)\n",
    "\n",
    "def apply_QA_mask (image):\n",
    "    QA = image.select('ET_QC')\n",
    "    ET = image.select('ET').multiply(0.0125)  # multiply by the scale 0.1, divide by 8 to get daily info\n",
    "    cloud_mask = bitwise_extract(QA, 3, 4).lte(0)\n",
    "    qa_mask = bitwise_extract(QA, 5, 7).lte(1)\n",
    "    mask = cloud_mask.And(qa_mask)\n",
    "    return ET.updateMask(mask).set('system:time_start', image.get('system:time_start'))\n",
    "\n",
    "# mask quality of pixels\n",
    "modis_masked = modis.map(apply_QA_mask)\n",
    "\n",
    "# Loop through the months and filter images\n",
    "def et_monthly(month):\n",
    "    eight_day_images = modis_masked.select('ET').filter(ee.Filter.calendarRange(month, month, 'month'))\n",
    "    monthly_et = eight_day_images.median().multiply(30).reduceRegions(ecoregions, \\\n",
    "                                                                      reducer = ee.Reducer.median(), scale = 10000)\n",
    "    return monthly_et.set('month', month)\n",
    "\n",
    "monthly_et_list = ee.List(months.map(et_monthly))"
   ]
  },
  {
   "cell_type": "markdown",
   "metadata": {},
   "source": [
    "### Terraclim and seasonality\n",
    "\n",
    "Bring temperature and precipitation and calculate seasonality"
   ]
  },
  {
   "cell_type": "code",
   "execution_count": 115,
   "metadata": {
    "colab": {
     "base_uri": "https://localhost:8080/",
     "height": 17
    },
    "id": "cxW0T6D7uEbA",
    "outputId": "2b0937e4-cd42-4cbd-be70-938a32cfaea6"
   },
   "outputs": [
    {
     "data": {
      "text/html": [
       "\n",
       "            <style>\n",
       "                .geemap-dark {\n",
       "                    --jp-widgets-color: white;\n",
       "                    --jp-widgets-label-color: white;\n",
       "                    --jp-ui-font-color1: white;\n",
       "                    --jp-layout-color2: #454545;\n",
       "                    background-color: #383838;\n",
       "                }\n",
       "                    \n",
       "                .geemap-dark .jupyter-button {\n",
       "                    --jp-layout-color3: #383838;\n",
       "                }\n",
       "                \n",
       "                .geemap-colab {\n",
       "                    background-color: var(--colab-primary-surface-color, white);\n",
       "                }\n",
       "                    \n",
       "                .geemap-colab .jupyter-button {\n",
       "                    --jp-layout-color3: var(--colab-primary-surface-color, white);\n",
       "                }\n",
       "            </style>\n",
       "            "
      ],
      "text/plain": [
       "<IPython.core.display.HTML object>"
      ]
     },
     "metadata": {},
     "output_type": "display_data"
    }
   ],
   "source": [
    "terraclim = ee.ImageCollection('IDAHO_EPSCOR/TERRACLIMATE') \\\n",
    "              .filterDate('1985-01-01', '2019-12-31') \\\n",
    "              .map(lambda image : image.clip(roi) \\\n",
    "                  .reproject(scale = 10000, crs = 'EPSG:4326').reduceResolution(ee.Reducer.median()))\n",
    "\n",
    "maxtemp = terraclim.select('tmmx').map(lambda image: image.multiply(0.1))\n",
    "mintemp = terraclim.select('tmmn').map(lambda image: image.multiply(0.1))\n",
    "radiation = terraclim.select('srad').map(lambda image: image.multiply(0.1))\n",
    "prec = terraclim.select('pr')"
   ]
  },
  {
   "cell_type": "code",
   "execution_count": 110,
   "metadata": {},
   "outputs": [
    {
     "data": {
      "text/html": [
       "\n",
       "            <style>\n",
       "                .geemap-dark {\n",
       "                    --jp-widgets-color: white;\n",
       "                    --jp-widgets-label-color: white;\n",
       "                    --jp-ui-font-color1: white;\n",
       "                    --jp-layout-color2: #454545;\n",
       "                    background-color: #383838;\n",
       "                }\n",
       "                    \n",
       "                .geemap-dark .jupyter-button {\n",
       "                    --jp-layout-color3: #383838;\n",
       "                }\n",
       "                \n",
       "                .geemap-colab {\n",
       "                    background-color: var(--colab-primary-surface-color, white);\n",
       "                }\n",
       "                    \n",
       "                .geemap-colab .jupyter-button {\n",
       "                    --jp-layout-color3: var(--colab-primary-surface-color, white);\n",
       "                }\n",
       "            </style>\n",
       "            "
      ],
      "text/plain": [
       "<IPython.core.display.HTML object>"
      ]
     },
     "metadata": {},
     "output_type": "display_data"
    }
   ],
   "source": [
    "monthly_wd = prec.map(lambda image: image.subtract(100))\n",
    "# monthly_wd_list = monthly_wd.toList(monthly_wd.size())\n",
    "\n",
    "\n",
    "\n",
    "def cwd_monthly(current_image, previous_dict):\n",
    "    current_image = ee.Image(current_image)\n",
    "    previous_dict = ee.Dictionary(previous_dict)\n",
    "    previous_image = ee.Image(previous_dict.get('result_image'))\n",
    "    result_image = previous_image.add(current_image).where(previous_image.gt(0), 0) \\\n",
    "                                   .set('system:time_start', current_image.get('system:time_start'))\n",
    "    return ee.Dictionary({\n",
    "        'result_image': ee.Image(result_image),\n",
    "        'cwd_list': ee.List(previous_dict.get('cwd_list')).add(result_image)})\n",
    "\n",
    "# Use iterate to apply the function to each image\n",
    "cwd_dict = ee.Dictionary(water_deficit.iterate(cwd_monthly, ee.Dictionary({'result_image': ee.Image(0),\n",
    "                                                               'cwd_list': ee.List([])})))\n",
    "cwd_list = ee.List(cwd_dict.get('cwd_list'))\n",
    "\n",
    "\n",
    "def mcwd_yearly(year):\n",
    "    # Calculate the start and end indices for the current year\n",
    "    start = ee.Number(year).subtract(1985).multiply(12)\n",
    "    end = start.add(12)\n",
    "    # Slice the list to get the images for the current year\n",
    "    yr = ee.List(cwd_list).slice(start, end)\n",
    "    cwd_a = ee.ImageCollection.fromImages(yr)\n",
    "    mcwd_a = cwd_a.reduce(ee.Reducer.min())\n",
    "    return mcwd_a.set('year', year)\n",
    "\n",
    "# Map the function over the range\n",
    "annual_mcwd = ee.ImageCollection.fromImages(years.map(mcwd_yearly))"
   ]
  },
  {
   "cell_type": "code",
   "execution_count": 98,
   "metadata": {},
   "outputs": [
    {
     "data": {
      "text/html": [
       "\n",
       "            <style>\n",
       "                .geemap-dark {\n",
       "                    --jp-widgets-color: white;\n",
       "                    --jp-widgets-label-color: white;\n",
       "                    --jp-ui-font-color1: white;\n",
       "                    --jp-layout-color2: #454545;\n",
       "                    background-color: #383838;\n",
       "                }\n",
       "                    \n",
       "                .geemap-dark .jupyter-button {\n",
       "                    --jp-layout-color3: #383838;\n",
       "                }\n",
       "                \n",
       "                .geemap-colab {\n",
       "                    background-color: var(--colab-primary-surface-color, white);\n",
       "                }\n",
       "                    \n",
       "                .geemap-colab .jupyter-button {\n",
       "                    --jp-layout-color3: var(--colab-primary-surface-color, white);\n",
       "                }\n",
       "            </style>\n",
       "            "
      ],
      "text/plain": [
       "<IPython.core.display.HTML object>"
      ]
     },
     "metadata": {},
     "output_type": "display_data"
    }
   ],
   "source": [
    "def seasonality_calc(y):\n",
    "    yr_prec = prec.filter(ee.Filter.calendarRange(y, y, 'year'))\n",
    "    # get mean monthly precipitation for the year\n",
    "    mean_prec = yr_prec.reduce(ee.Reducer.mean())\n",
    "    # Calculate absolute deviations of monthly precipitation from mean\n",
    "    deviations = yr_prec.map(lambda month:month.subtract(mean_prec).abs())\n",
    "    # Calculate sum of absolute deviations for each month\n",
    "    sum_deviations = deviations.reduce(ee.Reducer.sum())\n",
    "    # Calculate total annual precipitation\n",
    "    total_annual_prec = yr_prec.reduce(ee.Reducer.sum())\n",
    "    # Calculate Seasonality Index (SI)\n",
    "    seasonality_index = sum_deviations.divide(total_annual_prec)\n",
    "    return seasonality_index\n",
    "\n",
    "yearly_SI = ee.ImageCollection.fromImages(years.map(seasonality_calc))"
   ]
  },
  {
   "cell_type": "code",
   "execution_count": 102,
   "metadata": {},
   "outputs": [
    {
     "data": {
      "text/html": [
       "\n",
       "            <style>\n",
       "                .geemap-dark {\n",
       "                    --jp-widgets-color: white;\n",
       "                    --jp-widgets-label-color: white;\n",
       "                    --jp-ui-font-color1: white;\n",
       "                    --jp-layout-color2: #454545;\n",
       "                    background-color: #383838;\n",
       "                }\n",
       "                    \n",
       "                .geemap-dark .jupyter-button {\n",
       "                    --jp-layout-color3: #383838;\n",
       "                }\n",
       "                \n",
       "                .geemap-colab {\n",
       "                    background-color: var(--colab-primary-surface-color, white);\n",
       "                }\n",
       "                    \n",
       "                .geemap-colab .jupyter-button {\n",
       "                    --jp-layout-color3: var(--colab-primary-surface-color, white);\n",
       "                }\n",
       "            </style>\n",
       "            "
      ],
      "text/plain": [
       "<IPython.core.display.HTML object>"
      ]
     },
     "metadata": {},
     "output_type": "display_data"
    }
   ],
   "source": [
    "def meantemp_calc(y):\n",
    "    # Filter both maxtemp and mintemp ImageCollections by year at once\n",
    "    yearly_maxtemp = maxtemp.filter(ee.Filter.calendarRange(y, y, 'year'))\n",
    "    yearly_mintemp = mintemp.filter(ee.Filter.calendarRange(y, y, 'year'))\n",
    "    # Calculate the mean temperature directly\n",
    "    mean_temp = yearly_maxtemp.reduce(ee.Reducer.mean()).add(yearly_mintemp.reduce(ee.Reducer.mean())).divide(2)\n",
    "    return mean_temp\n",
    "\n",
    "# Map the function over the years\n",
    "mean_temp = ee.ImageCollection.fromImages(years.map(meantemp_calc))"
   ]
  },
  {
   "cell_type": "markdown",
   "metadata": {},
   "source": [
    "## Unify"
   ]
  },
  {
   "cell_type": "code",
   "execution_count": null,
   "metadata": {},
   "outputs": [],
   "source": [
    "# cwd = ee.Image('projects/ee-ana-zonia/assets/cwd_chave').rename('cwd')\n",
    "# proj = age.projection().getInfo()\n",
    "\n",
    "#img_export.append(cwd)\n",
    "# Add the 'ECO_ID' property of ecoregions as a new band in the 'age' image.\n",
    "img_export = [age.pixelLonLat().float(), biomass, num_fires, last_fire, last_LU, ecoregions_img, indig_land_img]\n",
    "# for eco_id in ecoregions.aggregate_array(\"ECO_ID\").getInfo():\n",
    "#     ecoreg =  ecoregions.filter(ee.Filter.eq(\"ECO_ID\",eco_id))"
   ]
  },
  {
   "cell_type": "markdown",
   "metadata": {
    "id": "7f5Xf6aEthTJ"
   },
   "source": [
    "## Export"
   ]
  },
  {
   "cell_type": "code",
   "execution_count": 80,
   "metadata": {},
   "outputs": [
    {
     "data": {
      "text/html": [
       "\n",
       "            <style>\n",
       "                .geemap-dark {\n",
       "                    --jp-widgets-color: white;\n",
       "                    --jp-widgets-label-color: white;\n",
       "                    --jp-ui-font-color1: white;\n",
       "                    --jp-layout-color2: #454545;\n",
       "                    background-color: #383838;\n",
       "                }\n",
       "                    \n",
       "                .geemap-dark .jupyter-button {\n",
       "                    --jp-layout-color3: #383838;\n",
       "                }\n",
       "                \n",
       "                .geemap-colab {\n",
       "                    background-color: var(--colab-primary-surface-color, white);\n",
       "                }\n",
       "                    \n",
       "                .geemap-colab .jupyter-button {\n",
       "                    --jp-layout-color3: var(--colab-primary-surface-color, white);\n",
       "                }\n",
       "            </style>\n",
       "            "
      ],
      "text/plain": [
       "<IPython.core.display.HTML object>"
      ]
     },
     "metadata": {},
     "output_type": "display_data"
    }
   ],
   "source": [
    "img_export = age.addBands(biomass).selfMask().float()\n",
    "\n",
    "fishnet = geemap.fishnet(roi, h_interval=2.0, v_interval=2.0, delta=0.5)\n",
    "# Set 'id' as a property of the features\n",
    "fishnet = fishnet.map(lambda feature: feature.set('id', feature.id()))\n",
    "fishnet_info = fishnet.getInfo()['features']\n",
    "\n",
    "for feature in fishnet_info:\n",
    "    id = feature['id']\n",
    "    grid_cell = fishnet.filter(ee.Filter.eq('id', id))\n",
    "    img = img_export.clip(grid_cell)\n",
    "    img = img.sample(grid_cell, scale = 30)\n",
    "    task = ee.batch.Export.table.toDrive(\n",
    "    collection=img,\n",
    "    description=f'{id}_age_agbd',\n",
    "    folder='drive_export',\n",
    "    fileFormat='CSV')\n",
    "    task.start()"
   ]
  }
 ],
 "metadata": {
  "colab": {
   "provenance": []
  },
  "kernelspec": {
   "display_name": "Python 3 (ipykernel)",
   "language": "python",
   "name": "python3"
  },
  "language_info": {
   "codemirror_mode": {
    "name": "ipython",
    "version": 3
   },
   "file_extension": ".py",
   "mimetype": "text/x-python",
   "name": "python",
   "nbconvert_exporter": "python",
   "pygments_lexer": "ipython3",
   "version": "3.11.5"
  }
 },
 "nbformat": 4,
 "nbformat_minor": 4
}
