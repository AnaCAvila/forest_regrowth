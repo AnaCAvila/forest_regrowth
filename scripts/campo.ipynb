{
 "cells": [
  {
   "cell_type": "code",
   "execution_count": 7,
   "metadata": {
    "id": "cOBmvER1OjFM"
   },
   "outputs": [
    {
     "data": {
      "text/html": [
       "\n",
       "            <style>\n",
       "                .geemap-dark {\n",
       "                    --jp-widgets-color: white;\n",
       "                    --jp-widgets-label-color: white;\n",
       "                    --jp-ui-font-color1: white;\n",
       "                    --jp-layout-color2: #454545;\n",
       "                    background-color: #383838;\n",
       "                }\n",
       "                    \n",
       "                .geemap-dark .jupyter-button {\n",
       "                    --jp-layout-color3: #383838;\n",
       "                }\n",
       "                \n",
       "                .geemap-colab {\n",
       "                    background-color: var(--colab-primary-surface-color, white);\n",
       "                }\n",
       "                    \n",
       "                .geemap-colab .jupyter-button {\n",
       "                    --jp-layout-color3: var(--colab-primary-surface-color, white);\n",
       "                }\n",
       "            </style>\n",
       "            "
      ],
      "text/plain": [
       "<IPython.core.display.HTML object>"
      ]
     },
     "metadata": {},
     "output_type": "display_data"
    }
   ],
   "source": [
    "\"\"\"\n",
    "Generating data for \"Predicting Forest Regrowth in Amazonia given Land Use History\"\n",
    "Author: Ana Catarina Avila\n",
    "Date: Dec 2023\n",
    "\"\"\"\n",
    "\n",
    "import ee\n",
    "import geemap\n",
    "from utils import import_roi\n",
    "\n",
    "# Authenticate to Earth Engine\n",
    "try:\n",
    "  ee.Initialize()\n",
    "except Exception as e:\n",
    "  ee.Authenticate()\n",
    "  ee.Initialize(project='ee-ana-zonia')\n",
    "\n",
    "# specifies region around Paragominas for visualization and testing\n",
    "plot_region = ee.Geometry.Rectangle([-47, -3.5, -46, -2.5])\n",
    "\n",
    "roi = import_roi('br_amazon')"
   ]
  },
  {
   "cell_type": "code",
   "execution_count": 22,
   "metadata": {},
   "outputs": [
    {
     "data": {
      "text/html": [
       "\n",
       "            <style>\n",
       "                .geemap-dark {\n",
       "                    --jp-widgets-color: white;\n",
       "                    --jp-widgets-label-color: white;\n",
       "                    --jp-ui-font-color1: white;\n",
       "                    --jp-layout-color2: #454545;\n",
       "                    background-color: #383838;\n",
       "                }\n",
       "                    \n",
       "                .geemap-dark .jupyter-button {\n",
       "                    --jp-layout-color3: #383838;\n",
       "                }\n",
       "                \n",
       "                .geemap-colab {\n",
       "                    background-color: var(--colab-primary-surface-color, white);\n",
       "                }\n",
       "                    \n",
       "                .geemap-colab .jupyter-button {\n",
       "                    --jp-layout-color3: var(--colab-primary-surface-color, white);\n",
       "                }\n",
       "            </style>\n",
       "            "
      ],
      "text/plain": [
       "<IPython.core.display.HTML object>"
      ]
     },
     "metadata": {},
     "output_type": "display_data"
    }
   ],
   "source": [
    "agbd = ee.Image(\"projects/ee-ana-zonia/assets/agbd\")\n",
    "age = ee.Image(\"projects/ee-ana-zonia/assets/age\")\n",
    "\n",
    "ecoreg = ee.Image(\"projects/ee-ana-zonia/assets/ecoreg\")\n",
    "indig = ee.Image(\"projects/ee-ana-zonia/assets/indig\")\n",
    "soil = ee.Image(\"projects/ee-ana-zonia/assets/soil\")\n",
    "protec = ee.Image(\"projects/ee-ana-zonia/assets/protec\")\n",
    "\n",
    "LU_sum = ee.Image(\"projects/ee-ana-zonia/assets/LU_sum\")\n",
    "last_fire = ee.Image(\"projects/ee-ana-zonia/assets/last_fire\")\n",
    "num_fires = ee.Image(\"projects/ee-ana-zonia/assets/num_fires\")\n",
    "mat_agbd = ee.Image(\"projects/ee-ana-zonia/assets/mature_biomass\")\n",
    "\n",
    "yearly_si = ee.Image(\"projects/ee-ana-zonia/assets/yearly_si\")\n",
    "mean_prec = ee.Image(\"projects/ee-ana-zonia/assets/mean_prec\")\n",
    "# mean_temp = ee.Image(\"projects/ee-ana-zonia/assets/mean_temp\")\n",
    "# yearly_anom = ee.Image(\"projects/ee-ana-zonia/assets/yearly_anom\")\n",
    "\n",
    "fc_sampled = age.addBands([agbd, ecoreg, indig, soil, protec, LU_sum, last_fire, num_fires, \\\n",
    "                    mat_agbd, yearly_si, mean_prec, age.pixelLonLat()]).updateMask(age)\n",
    "#                    .stratifiedSample(10000, 'ecoreg')\n",
    "\n",
    "task = ee.batch.Export.table.toDrive(\n",
    "    collection = fc_sampled,\n",
    "    description = 'tst',\n",
    "    folder = 'fishnet_tiles'\n",
    ")\n",
    "\n",
    "task.start()\n",
    "\n",
    "\n",
    "# fishnet = geemap.fishnet(roi, h_interval=2.0, v_interval=2.0, delta=0.5)\n",
    "# fishnet = fishnet.map(lambda feature: feature.set('id', feature.id()))\n",
    "# fishnet_info = fishnet.getInfo()['features']\n",
    "\n",
    "# for grid_cell in fishnet_info[1:3]:\n",
    "#     id = grid_cell['id']\n",
    "#     grid_cell = fishnet.filter(ee.Filter.eq('id', id))\n",
    "#     fc_export = fc_sampled.filterBounds(grid_cell.geometry())\n",
    "    \n",
    "#     task = ee.batch.Export.table.toDrive(\n",
    "#         collection = fc_export,\n",
    "#         description = f'{id}_tst',\n",
    "#         folder = 'fishnet_tiles'\n",
    "#     )\n",
    "    \n",
    "#     task.start()"
   ]
  }
 ],
 "metadata": {
  "colab": {
   "provenance": []
  },
  "kernelspec": {
   "display_name": "Python 3 (ipykernel)",
   "language": "python",
   "name": "python3"
  },
  "language_info": {
   "codemirror_mode": {
    "name": "ipython",
    "version": 3
   },
   "file_extension": ".py",
   "mimetype": "text/x-python",
   "name": "python",
   "nbconvert_exporter": "python",
   "pygments_lexer": "ipython3",
   "version": "3.11.5"
  }
 },
 "nbformat": 4,
 "nbformat_minor": 4
}
