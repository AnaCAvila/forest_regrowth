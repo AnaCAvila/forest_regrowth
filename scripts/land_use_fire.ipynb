{
 "cells": [
  {
   "cell_type": "markdown",
   "id": "9c5e446e-6636-4d35-b549-e915e1208d52",
   "metadata": {
    "id": "aqktfGhDhqAN"
   },
   "source": [
    "## Land use and land cover"
   ]
  },
  {
   "cell_type": "code",
   "execution_count": 29,
   "id": "d974e77d-bea2-4dc0-bbd5-4d466f1e39fd",
   "metadata": {
    "colab": {
     "base_uri": "https://localhost:8080/",
     "height": 17
    },
    "id": "dy2ERYALlCx5",
    "outputId": "2035c8db-13a4-4c0f-fb50-ba82a0652c78"
   },
   "outputs": [
    {
     "data": {
      "text/html": [
       "\n",
       "            <style>\n",
       "                .geemap-dark {\n",
       "                    --jp-widgets-color: white;\n",
       "                    --jp-widgets-label-color: white;\n",
       "                    --jp-ui-font-color1: white;\n",
       "                    --jp-layout-color2: #454545;\n",
       "                    background-color: #383838;\n",
       "                }\n",
       "                    \n",
       "                .geemap-dark .jupyter-button {\n",
       "                    --jp-layout-color3: #383838;\n",
       "                }\n",
       "                \n",
       "                .geemap-colab {\n",
       "                    background-color: var(--colab-primary-surface-color, white);\n",
       "                }\n",
       "                    \n",
       "                .geemap-colab .jupyter-button {\n",
       "                    --jp-layout-color3: var(--colab-primary-surface-color, white);\n",
       "                }\n",
       "            </style>\n",
       "            "
      ],
      "text/plain": [
       "<IPython.core.display.HTML object>"
      ]
     },
     "metadata": {},
     "output_type": "display_data"
    }
   ],
   "source": [
    "#   last observed land use type - given secondary ages, get\n",
    "# if age is 1 in 2020, it was not forest in 2019\n",
    "# which means I want category in 2019\n",
    "# if age is 35 in 2020, it was not forest in 1985\n",
    "# which means I want category in 1985\n",
    "lulc_masked = lulc.updateMask(age)\n",
    "\n",
    "last_LU = ee.Image().constant(0).byte().rename('last_LU')\n",
    "\n",
    "for i in range(first_year + 1, last_year):  # 1986-2020\n",
    "  year = f'classification_{i}'\n",
    "  age_mask = age.eq(last_year-i); #keep only the pixels with age equivalent to the correspondent year\n",
    "  last_LU_observation = lulc.select(year).updateMask(age_mask) #keeps only land use classes of the year before abandonment\n",
    "  last_LU = last_LU.add(last_LU_observation)"
   ]
  },
  {
   "cell_type": "code",
   "execution_count": 30,
   "id": "4c51186a-34f9-4ea2-851b-cbd60bdde074",
   "metadata": {
    "colab": {
     "base_uri": "https://localhost:8080/",
     "height": 17
    },
    "id": "nnifp814e-6h",
    "outputId": "8f5925fb-7658-4984-dc43-0e831db5d8ec"
   },
   "outputs": [
    {
     "data": {
      "text/html": [
       "\n",
       "            <style>\n",
       "                .geemap-dark {\n",
       "                    --jp-widgets-color: white;\n",
       "                    --jp-widgets-label-color: white;\n",
       "                    --jp-ui-font-color1: white;\n",
       "                    --jp-layout-color2: #454545;\n",
       "                    background-color: #383838;\n",
       "                }\n",
       "                    \n",
       "                .geemap-dark .jupyter-button {\n",
       "                    --jp-layout-color3: #383838;\n",
       "                }\n",
       "                \n",
       "                .geemap-colab {\n",
       "                    background-color: var(--colab-primary-surface-color, white);\n",
       "                }\n",
       "                    \n",
       "                .geemap-colab .jupyter-button {\n",
       "                    --jp-layout-color3: var(--colab-primary-surface-color, white);\n",
       "                }\n",
       "            </style>\n",
       "            "
      ],
      "text/plain": [
       "<IPython.core.display.HTML object>"
      ]
     },
     "metadata": {},
     "output_type": "display_data"
    }
   ],
   "source": [
    "LU_sum = ee.Image().byte()\n",
    "\n",
    "for val in LU_index:\n",
    "  lulc_val = lulc_masked.eq(val)\n",
    "  lulc_val_mask = lulc_val.mask()\n",
    "  num_cells = lulc_val.reduce(ee.Reducer.sum()).rename(f'lulc_sum_{val}')\n",
    "  LU_sum = LU_sum.addBands(num_cells)\n",
    "\n",
    "LU_sum = LU_sum.slice(1).rename('LU_sum')\n",
    "\n",
    "# Map = geemap.Map(center=[-10, -40], zoom=4)\n",
    "# vizpar_age = {'min': 1, 'max': last_year - first_year, 'palette': ['blue', 'red']}  # Blue for 0, Red for 1\n",
    "#vizpar_lulc = {'min': 1, 'max': max(LU_index), 'palette': lulc_palette}\n",
    "# Map.addLayer(age, vizpar_age, \"ages\")\n",
    "# Map.addLayer(num_cells, vizpar_age, \"lulc_masked\")\n",
    "# Map\n",
    "#img_export = img_export + [last_LU, LU_sum]"
   ]
  },
  {
   "cell_type": "markdown",
   "id": "9da8c7df-9810-49f9-8c08-373107b95804",
   "metadata": {
    "id": "c-achWUrvWPn"
   },
   "source": [
    "### Fire\n",
    "Note that fire has different transform than lulc, so the projection will need to be adjusted when exporting."
   ]
  },
  {
   "cell_type": "code",
   "execution_count": 31,
   "id": "74ca7b4e-9f9f-4092-af79-07e593a2659c",
   "metadata": {
    "colab": {
     "base_uri": "https://localhost:8080/",
     "height": 17
    },
    "id": "qT39hKV1Z4J8",
    "outputId": "f8dc4425-8982-42be-df4d-b7e19e028d07"
   },
   "outputs": [
    {
     "data": {
      "text/html": [
       "\n",
       "            <style>\n",
       "                .geemap-dark {\n",
       "                    --jp-widgets-color: white;\n",
       "                    --jp-widgets-label-color: white;\n",
       "                    --jp-ui-font-color1: white;\n",
       "                    --jp-layout-color2: #454545;\n",
       "                    background-color: #383838;\n",
       "                }\n",
       "                    \n",
       "                .geemap-dark .jupyter-button {\n",
       "                    --jp-layout-color3: #383838;\n",
       "                }\n",
       "                \n",
       "                .geemap-colab {\n",
       "                    background-color: var(--colab-primary-surface-color, white);\n",
       "                }\n",
       "                    \n",
       "                .geemap-colab .jupyter-button {\n",
       "                    --jp-layout-color3: var(--colab-primary-surface-color, white);\n",
       "                }\n",
       "            </style>\n",
       "            "
      ],
      "text/plain": [
       "<IPython.core.display.HTML object>"
      ]
     },
     "metadata": {},
     "output_type": "display_data"
    }
   ],
   "source": [
    "# fire has the value of the land use type that burned.\n",
    "# Transforming into a fire mask:\n",
    "fire = fire.gt(0)\n",
    "num_fires = fire.reduce(ee.Reducer.sum()).rename('num_fires')\n",
    "\n",
    "# get fire frequency data from Mapbiomas - double check it.\n",
    "# fire_freq = ee.Image(\"projects/mapbiomas-workspace/public/collection7_1/mapbiomas-fire-collection2-fire-frequency-1\").clip(roi)\n",
    "# fire_freq = fire_freq.select('fire_frequency_1985_2020')\n",
    "\n",
    "# how many years ago was each fire? #############################\n",
    "# Get the number of bands\n",
    "num_bands = fire.bandNames().size()\n",
    "# Create a sequence of numbers from 1 to num_bands\n",
    "years_ago = ee.List.sequence(1, num_bands)\n",
    "years_ago = years_ago.reverse()\n",
    "\n",
    "# # # Map over the image and set values based on the band index\n",
    "constant_images = ee.ImageCollection.fromImages(\n",
    "    years_ago.map(lambda year: ee.Image.constant(year))).toBands()\n",
    "\n",
    "time_since_all_fires = fire.multiply(constant_images)\n",
    "\n",
    "old_names = time_since_all_fires.bandNames().getInfo()\n",
    "new_names = [name.replace('burned_coverage', 'time_since_fire') for name in old_names]\n",
    "time_since_all_fires = time_since_all_fires.select(old_names).rename(new_names)\n",
    "\n",
    "# how many years ago was the LAST fire? #############################\n",
    "last_fire = time_since_all_fires.reduce(ee.Reducer.lastNonNull()).rename('last_fire')\n",
    "\n",
    "# Map = geemap.Map(center=[-10, -40], zoom=4)\n",
    "# Map.addLayer(num_fires, {'min':0, 'max':35}, 'num_fires')\n",
    "# Map\n",
    "\n",
    "# img_export = img_export + [num_fires, time_since_all_fires, last_fire]"
   ]
  }
 ],
 "metadata": {
  "kernelspec": {
   "display_name": "Python 3 (ipykernel)",
   "language": "python",
   "name": "python3"
  },
  "language_info": {
   "codemirror_mode": {
    "name": "ipython",
    "version": 3
   },
   "file_extension": ".py",
   "mimetype": "text/x-python",
   "name": "python",
   "nbconvert_exporter": "python",
   "pygments_lexer": "ipython3",
   "version": "3.11.5"
  }
 },
 "nbformat": 4,
 "nbformat_minor": 5
}
