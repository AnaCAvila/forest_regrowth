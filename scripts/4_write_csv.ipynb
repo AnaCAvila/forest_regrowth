{
 "cells": [
  {
   "cell_type": "markdown",
   "id": "956cff3f-99f1-45ca-b0b0-90c38a6e2c08",
   "metadata": {},
   "source": [
    "# Processing the final dataset\n",
    "\n"
   ]
  },
  {
   "cell_type": "code",
   "execution_count": 2,
   "id": "a9594018-621b-427e-89d3-0633de81979a",
   "metadata": {},
   "outputs": [],
   "source": [
    "import ee\n",
    "import geemap\n",
    "\n",
    "# Authenticate to Earth Engine\n",
    "try:\n",
    "    ee.Initialize()\n",
    "except Exception as e:\n",
    "    ee.Authenticate()\n",
    "    ee.Initialize()\n",
    "\n",
    "data_folder = \"projects/amazon-forest-regrowth/assets\""
   ]
  },
  {
   "cell_type": "code",
   "execution_count": 3,
   "id": "713f7879-6ed1-4b8c-a638-abd8fe97d0b4",
   "metadata": {},
   "outputs": [
    {
     "data": {
      "text/html": [
       "\n",
       "            <style>\n",
       "                .geemap-dark {\n",
       "                    --jp-widgets-color: white;\n",
       "                    --jp-widgets-label-color: white;\n",
       "                    --jp-ui-font-color1: white;\n",
       "                    --jp-layout-color2: #454545;\n",
       "                    background-color: #383838;\n",
       "                }\n",
       "\n",
       "                .geemap-dark .jupyter-button {\n",
       "                    --jp-layout-color3: #383838;\n",
       "                }\n",
       "\n",
       "                .geemap-colab {\n",
       "                    background-color: var(--colab-primary-surface-color, white);\n",
       "                }\n",
       "\n",
       "                .geemap-colab .jupyter-button {\n",
       "                    --jp-layout-color3: var(--colab-primary-surface-color, white);\n",
       "                }\n",
       "            </style>\n",
       "            "
      ],
      "text/plain": [
       "<IPython.core.display.HTML object>"
      ]
     },
     "metadata": {},
     "output_type": "display_data"
    }
   ],
   "source": [
    "# region of interest is Amazonia\n",
    "roi = ee.FeatureCollection(f\"{data_folder}/raw/biomes_br\").first().geometry()\n",
    "# For specific biomes, the feature \"CD_Bioma\" is:\n",
    "# 0 = Amazonia\n",
    "# 1 = Caatinga\n",
    "# 2 = Cerrado\n",
    "# 3 = Mata Atlantica\n",
    "# 4 = Pampa\n",
    "# 5 = Pantanal\n",
    "\n",
    "# dist = ee.Image(\"projects/amazon-forest-regrowth/assets/distance_mat_1km\")\n",
    "# age_agbd = ee.Image(f\"{data_folder}/age_agbd\")\n",
    "\n",
    "# dist_sec = dist.updateMask(age_agbd.select(\"age\"))\n",
    "# dist_sec\n",
    "# map = geemap.Map()\n",
    "# map.centerObject(roi, 5)\n",
    "# map.addLayer(dist_sec, {\"min\": 0, \"max\": 5000}, \"Distance\")\n",
    "# map\n"
   ]
  },
  {
   "cell_type": "code",
   "execution_count": 4,
   "id": "7e05edb2",
   "metadata": {},
   "outputs": [
    {
     "data": {
      "text/html": [
       "\n",
       "            <style>\n",
       "                .geemap-dark {\n",
       "                    --jp-widgets-color: white;\n",
       "                    --jp-widgets-label-color: white;\n",
       "                    --jp-ui-font-color1: white;\n",
       "                    --jp-layout-color2: #454545;\n",
       "                    background-color: #383838;\n",
       "                }\n",
       "\n",
       "                .geemap-dark .jupyter-button {\n",
       "                    --jp-layout-color3: #383838;\n",
       "                }\n",
       "\n",
       "                .geemap-colab {\n",
       "                    background-color: var(--colab-primary-surface-color, white);\n",
       "                }\n",
       "\n",
       "                .geemap-colab .jupyter-button {\n",
       "                    --jp-layout-color3: var(--colab-primary-surface-color, white);\n",
       "                }\n",
       "            </style>\n",
       "            "
      ],
      "text/plain": [
       "<IPython.core.display.HTML object>"
      ]
     },
     "metadata": {},
     "output_type": "display_data"
    }
   ],
   "source": [
    "years = 0\n",
    "\n",
    "age_agbd = ee.Image(f\"{data_folder}/age_agbd\")\n",
    "categorical = ee.Image(f\"{data_folder}/categorical\")\n",
    "sur_cover = ee.Image(f\"{data_folder}/sur_cover\").rename(\"sur_cover\")\n",
    "one_hectare_mask = ee.Image(f\"{data_folder}/one_hectare_mask\")\n",
    "mature_biomass = ee.Image(f\"{data_folder}/mature_biomass_1km\")\n",
    "cwd = ee.Image(f\"{data_folder}/raw/cwd_chave\").float().rename(\"cwd\")\n",
    "yearly_mean_prec = ee.Image(f\"{data_folder}/yearly_mean_prec\")\n",
    "yearly_SI = ee.Image(f\"{data_folder}/yearly_SI\")\n",
    "\n",
    "distance = mature_biomass.fastDistanceTransform().sqrt().multiply(ee.Image.pixelArea().sqrt()).rename(\"distance\")\n",
    "\n",
    "# Function to buffer and calculate mean\n",
    "def buffer_and_calculate_mean(f):\n",
    "    distance = ee.Number(f.get('distance'))\n",
    "    buffered = ee.Feature(f.buffer(distance.add(100), 1))\n",
    "    mean_value = mature_biomass.reduceRegion(ee.Reducer.mean().unweighted(), buffered.geometry(), 100,  maxPixels=1e13)\n",
    "    return buffered.set(mean_value)\n",
    "\n",
    "if (years == 0):\n",
    "    land_use_years = ee.Image(f\"{data_folder}/land_use\")\n",
    "    name = \"all_LULC\"\n",
    "else:\n",
    "    land_use_years = ee.Image(f\"{data_folder}/land_use_{years}_years\")\n",
    "    name = f\"{years}y_LULC\"\n",
    "\n",
    "combined_mask = one_hectare_mask.And(land_use_years.select(\"last_LU\")) \\\n",
    "    .And(distance.gt(100).And(distance.lt(5000)))\n",
    "\n",
    "unified_data = (\n",
    "    age_agbd.addBands(\n",
    "        [land_use_years, cwd, categorical, sur_cover, yearly_mean_prec, yearly_SI]\n",
    "    )\n",
    "    .updateMask(combined_mask)\n",
    ")\n",
    "\n",
    "unified_data_fc = unified_data.stratifiedSample(\n",
    "    numPoints = 5000, classBand = 'ecoreg', region = unified_data.geometry(), geometries=True\n",
    ")\n",
    "\n",
    "pts = distance.reduceRegions(unified_data_fc, ee.Reducer.first().setOutputs([\"distance\"]))\n",
    "\n",
    "pts = pts.map(buffer_and_calculate_mean)\n",
    "\n",
    "# Export an ee.FeatureCollection to Google Drive, adjusting the description based on the years\n",
    "task = ee.batch.Export.table.toDrive(\n",
    "    collection=pts, description=name\n",
    ")\n",
    "\n",
    "task.start()\n"
   ]
  },
  {
   "cell_type": "code",
   "execution_count": 18,
   "id": "d8b08277",
   "metadata": {},
   "outputs": [
    {
     "data": {
      "text/html": [
       "\n",
       "            <style>\n",
       "                .geemap-dark {\n",
       "                    --jp-widgets-color: white;\n",
       "                    --jp-widgets-label-color: white;\n",
       "                    --jp-ui-font-color1: white;\n",
       "                    --jp-layout-color2: #454545;\n",
       "                    background-color: #383838;\n",
       "                }\n",
       "\n",
       "                .geemap-dark .jupyter-button {\n",
       "                    --jp-layout-color3: #383838;\n",
       "                }\n",
       "\n",
       "                .geemap-colab {\n",
       "                    background-color: var(--colab-primary-surface-color, white);\n",
       "                }\n",
       "\n",
       "                .geemap-colab .jupyter-button {\n",
       "                    --jp-layout-color3: var(--colab-primary-surface-color, white);\n",
       "                }\n",
       "            </style>\n",
       "            "
      ],
      "text/plain": [
       "<IPython.core.display.HTML object>"
      ]
     },
     "metadata": {},
     "output_type": "display_data"
    }
   ],
   "source": [
    "years = 15\n",
    "\n",
    "if (years == 0):\n",
    "    land_use_years = ee.Image(f\"{data_folder}/land_use\")\n",
    "    name = \"all_LULC_1km\"\n",
    "else:\n",
    "    land_use_years = ee.Image(f\"{data_folder}/land_use_{years}_years\")\n",
    "    name = f\"{years}y_LULC_1km_30m\"\n",
    "\n",
    "age_agbd = ee.Image(f\"{data_folder}/age_agbd\")\n",
    "categorical = ee.Image(f\"{data_folder}/categorical\")\n",
    "sur_cover = ee.Image(f\"{data_folder}/sur_cover\").rename(\"sur_cover\")\n",
    "one_hectare_mask = ee.Image(f\"{data_folder}/one_hectare_mask\")\n",
    "cwd = ee.Image(f\"{data_folder}/raw/cwd_chave\").float().rename(\"cwd\")\n",
    "yearly_mean_prec = ee.Image(f\"{data_folder}/yearly_mean_prec\")\n",
    "yearly_SI = ee.Image(f\"{data_folder}/yearly_SI\")\n",
    "mature_biomass = ee.Image(\"projects/amazon-forest-regrowth/assets/mature_biomass_1km\")\n",
    "\n",
    "distance = mature_biomass.fastDistanceTransform().sqrt() \\\n",
    "    .multiply(ee.Image.pixelArea().sqrt()).rename(\"distance\")\n",
    "\n",
    "\n",
    "unified_data = (\n",
    "    age_agbd.addBands([\n",
    "        categorical, land_use_years, cwd, sur_cover, yearly_mean_prec, yearly_SI]\n",
    "    )\n",
    "    .updateMask(one_hectare_mask).updateMask(land_use_years.select(\"last_LU\"))\n",
    ").clip(roi)\n",
    "\n",
    "unified_data_fc = unified_data.stratifiedSample(\n",
    "    numPoints = 100, classBand = 'ecoreg', region = unified_data.geometry(), geometries=True\n",
    ")\n",
    "\n",
    "pts = distance.reduceRegions(unified_data_fc, ee.Reducer.first().setOutputs([\"distance\"]))\n",
    "\n",
    "# Function to buffer and calculate mean\n",
    "def buffer_and_calculate_mean(f):\n",
    "    distance = ee.Number(f.get('distance'))\n",
    "    f = ee.Feature(f.buffer(distance.add(100), 1))\n",
    "    mean_value = mature_biomass.reduceRegion(ee.Reducer.mean().unweighted(), \\\n",
    "                                             f.geometry(), 30, maxPixels=1e13)\n",
    "    return f.set(mean_value)#.centroid()\n",
    "\n",
    "pts = pts.map(buffer_and_calculate_mean)\n",
    "\n",
    "# # Export an ee.FeatureCollection to Google Drive, adjusting the description based on the years\n",
    "task = ee.batch.Export.table.toDrive(\n",
    "    collection = pts, description = name\n",
    ")\n",
    "\n",
    "task.start()\n",
    "\n",
    "# Export an ee.FeatureCollection as an Earth Engine asset.\n",
    "# task = ee.batch.Export.table.toAsset(\n",
    "#     collection = pts, assetId = f\"{data_folder}/15y_LULC_1km\"\n",
    "# )\n",
    "\n",
    "# task.start()\n",
    "\n"
   ]
  },
  {
   "cell_type": "code",
   "execution_count": 45,
   "id": "2344bc71",
   "metadata": {},
   "outputs": [
    {
     "data": {
      "text/html": [
       "\n",
       "            <style>\n",
       "                .geemap-dark {\n",
       "                    --jp-widgets-color: white;\n",
       "                    --jp-widgets-label-color: white;\n",
       "                    --jp-ui-font-color1: white;\n",
       "                    --jp-layout-color2: #454545;\n",
       "                    background-color: #383838;\n",
       "                }\n",
       "\n",
       "                .geemap-dark .jupyter-button {\n",
       "                    --jp-layout-color3: #383838;\n",
       "                }\n",
       "\n",
       "                .geemap-colab {\n",
       "                    background-color: var(--colab-primary-surface-color, white);\n",
       "                }\n",
       "\n",
       "                .geemap-colab .jupyter-button {\n",
       "                    --jp-layout-color3: var(--colab-primary-surface-color, white);\n",
       "                }\n",
       "            </style>\n",
       "            "
      ],
      "text/plain": [
       "<IPython.core.display.HTML object>"
      ]
     },
     "metadata": {},
     "output_type": "display_data"
    },
    {
     "data": {
      "image/png": "[encoded data removed]",
      "text/plain": [
       "<Figure size 640x480 with 1 Axes>"
      ]
     },
     "metadata": {},
     "output_type": "display_data"
    }
   ],
   "source": [
    "\n",
    "import matplotlib.pyplot as plt\n",
    "\n",
    "pts = ee.FeatureCollection(f\"{data_folder}/15y_LULC_1km\")\n",
    "\n",
    "hist = pts.reduceColumns(\n",
    "  reducer = ee.Reducer.histogram(),\n",
    "  selectors = [\"distance\"]\n",
    ").get('histogram')\n",
    "\n",
    "hist = hist.getInfo()\n",
    "\n",
    "# list(hist.keys())\n",
    "# Get the bin centers and bin counts\n",
    "bin_centers = hist['bucketMeans']\n",
    "bin_counts = hist['histogram']\n",
    "\n",
    "# # Plot the histogram\n",
    "plt.bar(bin_centers, bin_counts, width=1)\n",
    "plt.show()\n"
   ]
  },
  {
   "cell_type": "code",
   "execution_count": 20,
   "id": "4f36b613",
   "metadata": {},
   "outputs": [
    {
     "data": {
      "text/html": [
       "\n",
       "            <style>\n",
       "                .geemap-dark {\n",
       "                    --jp-widgets-color: white;\n",
       "                    --jp-widgets-label-color: white;\n",
       "                    --jp-ui-font-color1: white;\n",
       "                    --jp-layout-color2: #454545;\n",
       "                    background-color: #383838;\n",
       "                }\n",
       "\n",
       "                .geemap-dark .jupyter-button {\n",
       "                    --jp-layout-color3: #383838;\n",
       "                }\n",
       "\n",
       "                .geemap-colab {\n",
       "                    background-color: var(--colab-primary-surface-color, white);\n",
       "                }\n",
       "\n",
       "                .geemap-colab .jupyter-button {\n",
       "                    --jp-layout-color3: var(--colab-primary-surface-color, white);\n",
       "                }\n",
       "            </style>\n",
       "            "
      ],
      "text/plain": [
       "<IPython.core.display.HTML object>"
      ]
     },
     "metadata": {},
     "output_type": "display_data"
    }
   ],
   "source": [
    "mature_biomass = ee.Image(f\"{data_folder}/mature_biomass_1km\")\n",
    "mature_biomass = mature_biomass.updateMask(mature_biomass.gt(0))\n",
    "\n",
    "mature_biomass_negative = mature_biomass.unmask(-1)\n",
    "edge_detec = mature_biomass_negative.zeroCrossing()\n",
    "distance = edge_detec.fastDistanceTransform().sqrt().multiply(ee.Image.pixelArea().sqrt()).updateMask(mature_biomass).rename(\"distance_to_edge\")\n",
    "\n",
    "\n",
    "unified_data_fc = mature_biomass.sample(\n",
    "    numPixels = 10000, region = mature_biomass.geometry(), geometries=True\n",
    ")\n",
    "pts = distance.reduceRegions(unified_data_fc, ee.Reducer.first().setOutputs([\"distance\"]))\n",
    "pts = pts.map(buffer_and_calculate_mean)\n",
    "\n",
    "# Export an ee.FeatureCollection to Google Drive, adjusting the description based on the years\n",
    "task = ee.batch.Export.table.toDrive(\n",
    "    collection=pts, description=\"mat_for_biomass_and_distance\"\n",
    ")\n",
    "\n",
    "task.start()\n"
   ]
  },
  {
   "cell_type": "code",
   "execution_count": 5,
   "id": "74ebd284",
   "metadata": {},
   "outputs": [
    {
     "data": {
      "text/html": [
       "\n",
       "            <style>\n",
       "                .geemap-dark {\n",
       "                    --jp-widgets-color: white;\n",
       "                    --jp-widgets-label-color: white;\n",
       "                    --jp-ui-font-color1: white;\n",
       "                    --jp-layout-color2: #454545;\n",
       "                    background-color: #383838;\n",
       "                }\n",
       "\n",
       "                .geemap-dark .jupyter-button {\n",
       "                    --jp-layout-color3: #383838;\n",
       "                }\n",
       "\n",
       "                .geemap-colab {\n",
       "                    background-color: var(--colab-primary-surface-color, white);\n",
       "                }\n",
       "\n",
       "                .geemap-colab .jupyter-button {\n",
       "                    --jp-layout-color3: var(--colab-primary-surface-color, white);\n",
       "                }\n",
       "            </style>\n",
       "            "
      ],
      "text/plain": [
       "<IPython.core.display.HTML object>"
      ]
     },
     "metadata": {},
     "output_type": "display_data"
    },
    {
     "data": {
      "application/vnd.jupyter.widget-view+json": {
       "model_id": "1a1ccdb05e70419ea503a5b808b5eb4a",
       "version_major": 2,
       "version_minor": 0
      },
      "text/plain": [
       "Map(center=[0.0006306135584438607, -75.32069960585136], controls=(WidgetControl(options=['position', 'transpar…"
      ]
     },
     "execution_count": 5,
     "metadata": {},
     "output_type": "execute_result"
    }
   ],
   "source": [
    "import ee\n",
    "import geemap\n",
    "\n",
    "# Authenticate to Earth Engine\n",
    "try:\n",
    "    ee.Initialize()\n",
    "except Exception as e:\n",
    "    ee.Authenticate()\n",
    "    ee.Initialize()\n",
    "\n",
    "first_year = 1985\n",
    "last_year = 2020\n",
    "\n",
    "data_folder = \"projects/amazon-forest-regrowth/assets\"\n",
    "# This collection is not publicly accessible. To sign up for access,\n",
    "# please see https://developers.planet.com/docs/integrations/gee/nicfi\n",
    "nicfi = ee.ImageCollection('projects/planet-nicfi/assets/basemaps/americas')\n",
    "\n",
    "# Filter basemaps by date and get the first image from filtered results\n",
    "basemap = nicfi.filter(ee.Filter.date('2016-03-01', '2016-07-01')).first()\n",
    "basemap2 = nicfi.filter(ee.Filter.date('2018-03-01', '2018-07-01')).first()\n",
    "basemap3 = nicfi.filter(ee.Filter.date('2020-03-01', '2020-07-01')).first()\n",
    "\n",
    "sampled_points = ee.FeatureCollection(f\"{data_folder}/15y_nn_masked_mature\")\n",
    "mature_biomass = ee.Image(f\"{data_folder}/mature_biomass\")\n",
    "mature_biomass_1km = mature_biomass.unmask(0).focalMode(kernelType=\"circle\", radius=5000, units=\"meters\").selfMask()\n",
    "\n",
    "# Visualization parameters\n",
    "vis = {'bands': ['R', 'G', 'B'], 'min': 64, 'max': 5454, 'gamma': 1.8}\n",
    "vis_biomass = {'min': 0, 'max': 300, 'palette': ['black', 'brown', 'yellow', 'green']}\n",
    "\n",
    "Map = geemap.Map()\n",
    "Map.centerObject(basemap, 4)\n",
    "# Map.addLayer(basemap, vis, '2016 mosaic')\n",
    "Map.addLayer(basemap3, vis, '2020 mosaic')\n",
    "Map.addLayer(mature_biomass, vis_biomass, \"mature_biomass\")\n",
    "Map.addLayer(mature_biomass_1km, vis_biomass, \"Mature Biomass 1k\")\n",
    "Map"
   ]
  },
  {
   "cell_type": "code",
   "execution_count": 38,
   "id": "0aa59ea3",
   "metadata": {},
   "outputs": [
    {
     "data": {
      "text/html": [
       "\n",
       "            <style>\n",
       "                .geemap-dark {\n",
       "                    --jp-widgets-color: white;\n",
       "                    --jp-widgets-label-color: white;\n",
       "                    --jp-ui-font-color1: white;\n",
       "                    --jp-layout-color2: #454545;\n",
       "                    background-color: #383838;\n",
       "                }\n",
       "\n",
       "                .geemap-dark .jupyter-button {\n",
       "                    --jp-layout-color3: #383838;\n",
       "                }\n",
       "\n",
       "                .geemap-colab {\n",
       "                    background-color: var(--colab-primary-surface-color, white);\n",
       "                }\n",
       "\n",
       "                .geemap-colab .jupyter-button {\n",
       "                    --jp-layout-color3: var(--colab-primary-surface-color, white);\n",
       "                }\n",
       "            </style>\n",
       "            "
      ],
      "text/plain": [
       "<IPython.core.display.HTML object>"
      ]
     },
     "metadata": {},
     "output_type": "display_data"
    },
    {
     "data": {
      "image/png": "[encoded data removed]",
      "text/plain": [
       "<Figure size 640x480 with 1 Axes>"
      ]
     },
     "metadata": {},
     "output_type": "display_data"
    }
   ],
   "source": [
    "import matplotlib.pyplot as plt\n",
    "\n",
    "tst = age_agbd.select('age').updateMask(land_use_15_years.select(\"last_LU\")).updateMask(one_hectare_mask)\n",
    "\n",
    "# 19, 24, 29\n",
    "histogram_ee = mature_biomass.reduceRegion(\n",
    "    geometry = tst.geometry(), reducer = ee.Reducer.histogram(), maxPixels=1e13\n",
    ")\n",
    "\n",
    "hist = histogram_ee.getInfo()\n",
    "\n",
    "# list(hist.keys())\n",
    "# Get the bin centers and bin counts\n",
    "bin_centers = hist['mature_biomass']['bucketMeans']\n",
    "bin_counts = hist['mature_biomass']['histogram']\n",
    "\n",
    "# Plot the histogram\n",
    "plt.bar(bin_centers, bin_counts, width=1)\n",
    "plt.xlabel('Age')\n",
    "plt.ylabel('Count')\n",
    "plt.title('Histogram of Ages with 5 years of land use history or less')\n",
    "plt.show()\n"
   ]
  }
 ],
 "metadata": {
  "kernelspec": {
   "display_name": "Python 3 (ipykernel)",
   "language": "python",
   "name": "python3"
  },
  "language_info": {
   "codemirror_mode": {
    "name": "ipython",
    "version": 3
   },
   "file_extension": ".py",
   "mimetype": "text/x-python",
   "name": "python",
   "nbconvert_exporter": "python",
   "pygments_lexer": "ipython3",
   "version": "3.11.9"
  }
 },
 "nbformat": 4,
 "nbformat_minor": 5
}
