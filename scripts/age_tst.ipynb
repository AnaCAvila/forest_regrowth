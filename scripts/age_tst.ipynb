{
 "cells": [
  {
   "cell_type": "code",
   "execution_count": 1,
   "metadata": {
    "id": "cOBmvER1OjFM"
   },
   "outputs": [],
   "source": [
    "import ee\n",
    "import geemap\n",
    "\n",
    "# Authenticate to Earth Engine\n",
    "try:\n",
    "  ee.Initialize()\n",
    "except Exception as e:\n",
    "  ee.Authenticate()\n",
    "  ee.Initialize(project='ee-ana-zonia')\n",
    "    \n",
    "first_year = 1985\n",
    "last_year = 2020\n",
    "\n",
    "from utils import export_image\n",
    "from utils import map_image\n"
   ]
  },
  {
   "cell_type": "code",
   "execution_count": 2,
   "metadata": {},
   "outputs": [
    {
     "data": {
      "text/html": [
       "\n",
       "            <style>\n",
       "                .geemap-dark {\n",
       "                    --jp-widgets-color: white;\n",
       "                    --jp-widgets-label-color: white;\n",
       "                    --jp-ui-font-color1: white;\n",
       "                    --jp-layout-color2: #454545;\n",
       "                    background-color: #383838;\n",
       "                }\n",
       "                    \n",
       "                .geemap-dark .jupyter-button {\n",
       "                    --jp-layout-color3: #383838;\n",
       "                }\n",
       "                \n",
       "                .geemap-colab {\n",
       "                    background-color: var(--colab-primary-surface-color, white);\n",
       "                }\n",
       "                    \n",
       "                .geemap-colab .jupyter-button {\n",
       "                    --jp-layout-color3: var(--colab-primary-surface-color, white);\n",
       "                }\n",
       "            </style>\n",
       "            "
      ],
      "text/plain": [
       "<IPython.core.display.HTML object>"
      ]
     },
     "metadata": {},
     "output_type": "display_data"
    }
   ],
   "source": [
    "age = ee.Image('projects/mapbiomas-workspace/public/collection8/mapbiomas_collection80_secondary_vegetation_age_v1').select('secondary_vegetation_age_2020')\n",
    "\n",
    "age = age.unmask().focalMode(100, units = \"meters\").selfMask()\n",
    "\n",
    "\n",
    "roi = ee.FeatureCollection(\"projects/ee-ana-zonia/assets/br_biomes\").geometry().dissolve()\n",
    "\n",
    "ecoregions = ee.FeatureCollection(\"RESOLVE/ECOREGIONS/2017\").filterBounds(roi) \\\n",
    "                .map(lambda feature: feature.intersection(roi))\n",
    "\n",
    "biomass = ee.Image(\"projects/ee-ana-zonia/assets/biomass\")\n",
    "proj = biomass.projection().getInfo()\n",
    "crs = proj['crs']\n",
    "crsTransform = proj['transform']"
   ]
  },
  {
   "cell_type": "code",
   "execution_count": 3,
   "metadata": {},
   "outputs": [
    {
     "data": {
      "text/html": [
       "\n",
       "            <style>\n",
       "                .geemap-dark {\n",
       "                    --jp-widgets-color: white;\n",
       "                    --jp-widgets-label-color: white;\n",
       "                    --jp-ui-font-color1: white;\n",
       "                    --jp-layout-color2: #454545;\n",
       "                    background-color: #383838;\n",
       "                }\n",
       "                    \n",
       "                .geemap-dark .jupyter-button {\n",
       "                    --jp-layout-color3: #383838;\n",
       "                }\n",
       "                \n",
       "                .geemap-colab {\n",
       "                    background-color: var(--colab-primary-surface-color, white);\n",
       "                }\n",
       "                    \n",
       "                .geemap-colab .jupyter-button {\n",
       "                    --jp-layout-color3: var(--colab-primary-surface-color, white);\n",
       "                }\n",
       "            </style>\n",
       "            "
      ],
      "text/plain": [
       "<IPython.core.display.HTML object>"
      ]
     },
     "metadata": {},
     "output_type": "display_data"
    }
   ],
   "source": [
    "\n",
    "# Load images from MapBiomas Collection 8 for Land Use Land Cover and Burned Area\n",
    "lulc = ee.Image(\"projects/mapbiomas-workspace/public/collection8/mapbiomas_collection80_integration_v1\") \\\n",
    "  .select([f\"classification_{year}\" for year in range(first_year, last_year+1)]).byte()\n",
    "lulc_masked = lulc.updateMask(age)\n",
    "\n",
    "# Remove secondary forests with undesired histories\n",
    "LU_index_ee = ee.List([5,49,10,11,12,32,29,50,13,22,23,24,30,25,26,33,31,27])\n",
    "\n",
    "# Apply the function to each band in the image\n",
    "undesired_mask = lulc_masked.remap(LU_index_ee, ee.List.repeat(1, LU_index_ee.size()), 0)\n",
    "undesired_mask = undesired_mask.reduce(ee.Reducer.allNonZero())\n",
    "desired_mask = undesired_mask.Not()\n",
    "\n",
    "lulc_masked = lulc_masked.updateMask(desired_mask)\n",
    "age = age.updateMask(desired_mask)\n",
    "\n",
    "fire = ee.Image(\"projects/mapbiomas-workspace/public/collection7_1/mapbiomas-fire-collection2-annual-burned-coverage-1\") \\\n",
    "  .select([f\"burned_coverage_{year}\" for year in range(first_year, last_year)]).byte()\n",
    "fire = fire.updateMask(age)\n"
   ]
  },
  {
   "cell_type": "markdown",
   "metadata": {
    "id": "xq8psIdotwxG"
   },
   "source": [
    "## Mature Forests"
   ]
  },
  {
   "cell_type": "code",
   "execution_count": 4,
   "metadata": {
    "colab": {
     "base_uri": "https://localhost:8080/",
     "height": 17
    },
    "id": "rJzutbQTf76-",
    "outputId": "f15c5af8-75e4-4d4f-f161-fb71d9ec68bb",
    "scrolled": true
   },
   "outputs": [
    {
     "data": {
      "text/html": [
       "\n",
       "            <style>\n",
       "                .geemap-dark {\n",
       "                    --jp-widgets-color: white;\n",
       "                    --jp-widgets-label-color: white;\n",
       "                    --jp-ui-font-color1: white;\n",
       "                    --jp-layout-color2: #454545;\n",
       "                    background-color: #383838;\n",
       "                }\n",
       "                    \n",
       "                .geemap-dark .jupyter-button {\n",
       "                    --jp-layout-color3: #383838;\n",
       "                }\n",
       "                \n",
       "                .geemap-colab {\n",
       "                    background-color: var(--colab-primary-surface-color, white);\n",
       "                }\n",
       "                    \n",
       "                .geemap-colab .jupyter-button {\n",
       "                    --jp-layout-color3: var(--colab-primary-surface-color, white);\n",
       "                }\n",
       "            </style>\n",
       "            "
      ],
      "text/plain": [
       "<IPython.core.display.HTML object>"
      ]
     },
     "metadata": {},
     "output_type": "display_data"
    }
   ],
   "source": [
    "# Mask the image to keep only pixels with the value 3 in all bands\n",
    "mature_mask = lulc.updateMask(lulc.neq(5)).lt(7)\n",
    "mature_mask = mature_mask.reduce(ee.Reducer.allNonZero())\n",
    "mature_biomass = biomass.updateMask(mature_mask)\n",
    "\n",
    "# # Compute the mean biomass values for mature forest per ecoregion.\n",
    "median_mature = mature_biomass.reduceRegions(ecoregions, reducer=ee.Reducer.median(),\\\n",
    "                                             scale = 10000, crs = crs)\n",
    "\n",
    "# # Convert the FeatureCollection to an image.\n",
    "median_mature = median_mature.reduceToImage(['median'], ee.Reducer.first())"
   ]
  },
  {
   "cell_type": "markdown",
   "metadata": {},
   "source": [
    "### Last Land Use Type"
   ]
  },
  {
   "cell_type": "code",
   "execution_count": 5,
   "metadata": {},
   "outputs": [
    {
     "data": {
      "text/html": [
       "\n",
       "            <style>\n",
       "                .geemap-dark {\n",
       "                    --jp-widgets-color: white;\n",
       "                    --jp-widgets-label-color: white;\n",
       "                    --jp-ui-font-color1: white;\n",
       "                    --jp-layout-color2: #454545;\n",
       "                    background-color: #383838;\n",
       "                }\n",
       "                    \n",
       "                .geemap-dark .jupyter-button {\n",
       "                    --jp-layout-color3: #383838;\n",
       "                }\n",
       "                \n",
       "                .geemap-colab {\n",
       "                    background-color: var(--colab-primary-surface-color, white);\n",
       "                }\n",
       "                    \n",
       "                .geemap-colab .jupyter-button {\n",
       "                    --jp-layout-color3: var(--colab-primary-surface-color, white);\n",
       "                }\n",
       "            </style>\n",
       "            "
      ],
      "text/plain": [
       "<IPython.core.display.HTML object>"
      ]
     },
     "metadata": {},
     "output_type": "display_data"
    }
   ],
   "source": [
    "years = range(1986, 2020)\n",
    "\n",
    "last_LU = ee.Image()\n",
    "\n",
    "for yr in years:\n",
    "    year = f'classification_{yr}'\n",
    "    lu_yr = lulc_masked.select(year)\n",
    "    age_mask = age.eq(2020 - yr)\n",
    "    last_LU = last_LU.addBands(lu_yr.updateMask(age_mask).updateMask(lu_yr.neq(3)).updateMask(lu_yr.neq(6)))\n",
    "\n",
    "last_LU = last_LU.slice(1)\n",
    "\n",
    "# Convert ImageCollection to single Image\n",
    "last_LU = last_LU.reduce(ee.Reducer.sum()).rename('last_LU')\n"
   ]
  },
  {
   "cell_type": "markdown",
   "metadata": {},
   "source": [
    "### Fallow period length"
   ]
  },
  {
   "cell_type": "code",
   "execution_count": 6,
   "metadata": {},
   "outputs": [
    {
     "data": {
      "text/html": [
       "\n",
       "            <style>\n",
       "                .geemap-dark {\n",
       "                    --jp-widgets-color: white;\n",
       "                    --jp-widgets-label-color: white;\n",
       "                    --jp-ui-font-color1: white;\n",
       "                    --jp-layout-color2: #454545;\n",
       "                    background-color: #383838;\n",
       "                }\n",
       "                    \n",
       "                .geemap-dark .jupyter-button {\n",
       "                    --jp-layout-color3: #383838;\n",
       "                }\n",
       "                \n",
       "                .geemap-colab {\n",
       "                    background-color: var(--colab-primary-surface-color, white);\n",
       "                }\n",
       "                    \n",
       "                .geemap-colab .jupyter-button {\n",
       "                    --jp-layout-color3: var(--colab-primary-surface-color, white);\n",
       "                }\n",
       "            </style>\n",
       "            "
      ],
      "text/plain": [
       "<IPython.core.display.HTML object>"
      ]
     },
     "metadata": {},
     "output_type": "display_data"
    }
   ],
   "source": [
    "nat_cover = lulc_masked.updateMask(lulc.neq(5)).lt(7)\n",
    "nat_cover = nat_cover.reduce(ee.Reducer.sum())\n",
    "fallow = nat_cover.subtract(age).subtract(1).rename('fallow')"
   ]
  },
  {
   "cell_type": "markdown",
   "metadata": {},
   "source": [
    "### Total sum of land use types"
   ]
  },
  {
   "cell_type": "code",
   "execution_count": 7,
   "metadata": {},
   "outputs": [
    {
     "data": {
      "text/html": [
       "\n",
       "            <style>\n",
       "                .geemap-dark {\n",
       "                    --jp-widgets-color: white;\n",
       "                    --jp-widgets-label-color: white;\n",
       "                    --jp-ui-font-color1: white;\n",
       "                    --jp-layout-color2: #454545;\n",
       "                    background-color: #383838;\n",
       "                }\n",
       "                    \n",
       "                .geemap-dark .jupyter-button {\n",
       "                    --jp-layout-color3: #383838;\n",
       "                }\n",
       "                \n",
       "                .geemap-colab {\n",
       "                    background-color: var(--colab-primary-surface-color, white);\n",
       "                }\n",
       "                    \n",
       "                .geemap-colab .jupyter-button {\n",
       "                    --jp-layout-color3: var(--colab-primary-surface-color, white);\n",
       "                }\n",
       "            </style>\n",
       "            "
      ],
      "text/plain": [
       "<IPython.core.display.HTML object>"
      ]
     },
     "metadata": {},
     "output_type": "display_data"
    }
   ],
   "source": [
    "LU_index = [15, 39, 20, 40, 62, 41, 46, 47, 35, 48, 9]\n",
    "\n",
    "LU_sum = ee.Image()\n",
    "\n",
    "for val in LU_index:\n",
    "  lulc_val = lulc_masked.eq(val)\n",
    "  num_cells = lulc_val.reduce(ee.Reducer.sum()).rename(f'lulc_sum_{val}')\n",
    "  LU_sum = LU_sum.addBands(num_cells)\n",
    "\n",
    "LU_sum = LU_sum.slice(1).byte()"
   ]
  },
  {
   "cell_type": "markdown",
   "metadata": {
    "id": "c-achWUrvWPn"
   },
   "source": [
    "### Fire\n",
    "Note that fire has different transform than lulc, so the projection will need to be adjusted when exporting."
   ]
  },
  {
   "cell_type": "code",
   "execution_count": 8,
   "metadata": {
    "colab": {
     "base_uri": "https://localhost:8080/",
     "height": 17
    },
    "id": "qT39hKV1Z4J8",
    "outputId": "f8dc4425-8982-42be-df4d-b7e19e028d07"
   },
   "outputs": [
    {
     "data": {
      "text/html": [
       "\n",
       "            <style>\n",
       "                .geemap-dark {\n",
       "                    --jp-widgets-color: white;\n",
       "                    --jp-widgets-label-color: white;\n",
       "                    --jp-ui-font-color1: white;\n",
       "                    --jp-layout-color2: #454545;\n",
       "                    background-color: #383838;\n",
       "                }\n",
       "                    \n",
       "                .geemap-dark .jupyter-button {\n",
       "                    --jp-layout-color3: #383838;\n",
       "                }\n",
       "                \n",
       "                .geemap-colab {\n",
       "                    background-color: var(--colab-primary-surface-color, white);\n",
       "                }\n",
       "                    \n",
       "                .geemap-colab .jupyter-button {\n",
       "                    --jp-layout-color3: var(--colab-primary-surface-color, white);\n",
       "                }\n",
       "            </style>\n",
       "            "
      ],
      "text/plain": [
       "<IPython.core.display.HTML object>"
      ]
     },
     "metadata": {},
     "output_type": "display_data"
    }
   ],
   "source": [
    "# fire has the value of the land use type that burned.\n",
    "# Transforming into a fire mask:\n",
    "fire = fire.gt(0)\n",
    "num_fires = fire.reduce(ee.Reducer.sum()).rename('num_fires')\n",
    "\n",
    "# get fire frequency data from Mapbiomas - double check it.\n",
    "# fire_freq = ee.Image(\"projects/mapbiomas-workspace/public/collection7_1/mapbiomas-fire-collection2-fire-frequency-1\").clip(roi)\n",
    "# fire_freq = fire_freq.select('fire_frequency_1985_2020')\n",
    "\n",
    "# how many years ago was each fire? #############################\n",
    "# Get the number of bands\n",
    "num_bands = fire.bandNames().size()\n",
    "# Create a sequence of numbers from 1 to num_bands\n",
    "years_ago = ee.List.sequence(1, num_bands)\n",
    "years_ago = years_ago.reverse()\n",
    "\n",
    "# # # Map over the image and set values based on the band index\n",
    "constant_images = ee.ImageCollection.fromImages(\n",
    "    years_ago.map(lambda year: ee.Image.constant(year))).toBands()\n",
    "\n",
    "time_since_all_fires = fire.multiply(constant_images)\n",
    "\n",
    "old_names = time_since_all_fires.bandNames().getInfo()\n",
    "new_names = [name.replace('burned_coverage', 'time_since_fire') for name in old_names]\n",
    "time_since_all_fires = time_since_all_fires.select(old_names).rename(new_names)\n",
    "\n",
    "# how many years ago was the LAST fire? #############################\n",
    "last_fire = time_since_all_fires.reduce(ee.Reducer.lastNonNull()).rename('last_fire')\n",
    "\n",
    "# vis = {\n",
    "#     'min': 0,\n",
    "#     'max': 34,\n",
    "#     'palette': ['blue', 'red'],\n",
    "# }\n",
    "\n",
    "# Map = geemap.Map(center=[-10, -40], zoom=4)\n",
    "# Map.addLayer(num_fires, vis, 'num_fires')\n",
    "# Map.addLayer(age, vis, 'age')\n",
    "# Map.addLayer(LU_sum.select('lulc_sum_15'), vis, 'LU_sum')\n",
    "# Map.addLayer(last_fire, vis, 'last_fire')\n",
    "# Map\n",
    "\n"
   ]
  },
  {
   "cell_type": "code",
   "execution_count": 9,
   "metadata": {},
   "outputs": [
    {
     "data": {
      "text/html": [
       "\n",
       "            <style>\n",
       "                .geemap-dark {\n",
       "                    --jp-widgets-color: white;\n",
       "                    --jp-widgets-label-color: white;\n",
       "                    --jp-ui-font-color1: white;\n",
       "                    --jp-layout-color2: #454545;\n",
       "                    background-color: #383838;\n",
       "                }\n",
       "                    \n",
       "                .geemap-dark .jupyter-button {\n",
       "                    --jp-layout-color3: #383838;\n",
       "                }\n",
       "                \n",
       "                .geemap-colab {\n",
       "                    background-color: var(--colab-primary-surface-color, white);\n",
       "                }\n",
       "                    \n",
       "                .geemap-colab .jupyter-button {\n",
       "                    --jp-layout-color3: var(--colab-primary-surface-color, white);\n",
       "                }\n",
       "            </style>\n",
       "            "
      ],
      "text/plain": [
       "<IPython.core.display.HTML object>"
      ]
     },
     "metadata": {},
     "output_type": "display_data"
    }
   ],
   "source": [
    "# years = ee.List.sequence(1985, 2019)\n",
    "\n",
    "# terraclim = ee.ImageCollection('IDAHO_EPSCOR/TERRACLIMATE') \\\n",
    "#               .filterDate('1985-01-01', '2019-12-31') \\\n",
    "#               .map(lambda image : image.clip(roi)) \\\n",
    "#               .map(lambda image: image.reduceResolution(ee.Reducer.median(), bestEffort=True, maxPixels=1024) \\\n",
    "#                                        .reproject(crs='EPSG:4326', scale=10000))\n",
    "\n",
    "# maxtemp = terraclim.select('tmmx').map(lambda image: image.multiply(0.1))\n",
    "# mintemp = terraclim.select('tmmn').map(lambda image: image.multiply(0.1))\n",
    "# radiation = terraclim.select('srad').map(lambda image: image.multiply(0.1))\n",
    "\n",
    "# def mean_yearly(year):\n",
    "#     mean_year = radiation.filter(ee.Filter.calendarRange(year, year, 'year')).reduce(ee.Reducer.mean())\n",
    "#     return mean_year.set('year', year)\n",
    "\n",
    "# mean_rad = ee.ImageCollection.fromImages(years.map(mean_yearly)).toBands()\n",
    "\n",
    "# yearlist = range(1985, 2020) # Generate a list of years from 1985 to 2019\n",
    "# new_band_names = ['rad_{}'.format(year) for year in yearlist] # Append 'si_' to each year\n",
    "# mean_rad = mean_rad.rename(new_band_names)\n",
    "\n",
    "# vis = {\n",
    "#     'min': 0,\n",
    "#     'max': 5000,\n",
    "#     'palette': ['blue', 'red'],\n",
    "# }\n",
    "\n",
    "# Map = geemap.Map(center=[-10, -40], zoom=4)\n",
    "# Map.addLayer(mean_rad.select('rad_2010'), vis, 'rad')\n",
    "# Map\n"
   ]
  },
  {
   "cell_type": "markdown",
   "metadata": {
    "id": "7f5Xf6aEthTJ"
   },
   "source": [
    "## Export"
   ]
  },
  {
   "cell_type": "code",
   "execution_count": 10,
   "metadata": {
    "colab": {
     "base_uri": "https://localhost:8080/",
     "height": 17
    },
    "id": "duBKVyp4ZX8M",
    "outputId": "b1af62c1-c441-404d-c02f-68c689a34393"
   },
   "outputs": [
    {
     "data": {
      "text/html": [
       "\n",
       "            <style>\n",
       "                .geemap-dark {\n",
       "                    --jp-widgets-color: white;\n",
       "                    --jp-widgets-label-color: white;\n",
       "                    --jp-ui-font-color1: white;\n",
       "                    --jp-layout-color2: #454545;\n",
       "                    background-color: #383838;\n",
       "                }\n",
       "                    \n",
       "                .geemap-dark .jupyter-button {\n",
       "                    --jp-layout-color3: #383838;\n",
       "                }\n",
       "                \n",
       "                .geemap-colab {\n",
       "                    background-color: var(--colab-primary-surface-color, white);\n",
       "                }\n",
       "                    \n",
       "                .geemap-colab .jupyter-button {\n",
       "                    --jp-layout-color3: var(--colab-primary-surface-color, white);\n",
       "                }\n",
       "            </style>\n",
       "            "
      ],
      "text/plain": [
       "<IPython.core.display.HTML object>"
      ]
     },
     "metadata": {},
     "output_type": "display_data"
    }
   ],
   "source": [
    "frag = ee.Image('projects/ee-ana-zonia/assets/frag_2020')\n",
    "land_use = LU_sum.addBands([last_LU, last_fire, num_fires, fallow, frag, median_mature])\n",
    "\n",
    "ecoreg = ee.Image(\"projects/ee-ana-zonia/assets/ecoreg\")\n",
    "indig = ee.Image(\"projects/ee-ana-zonia/assets/indig\")\n",
    "soil = ee.Image(\"projects/ee-ana-zonia/assets/soil\")\n",
    "protec = ee.Image(\"projects/ee-ana-zonia/assets/protec\")\n",
    "biomes = ee.Image(\"projects/ee-ana-zonia/assets/biome_br\")\n",
    "categorical = ecoreg.addBands([indig, soil, protec, biomes])\n",
    "\n",
    "yearly_si = ee.Image(\"projects/ee-ana-zonia/assets/yearly_si\")\n",
    "mean_prec = ee.Image(\"projects/ee-ana-zonia/assets/mean_prec\")\n",
    "cwd_chave = ee.Image(\"projects/ee-ana-zonia/assets/cwd_chave\").clip(roi)\n",
    "climate = yearly_si.addBands([mean_prec, cwd_chave])\n",
    "\n",
    "img_export = age.addBands([biomass, land_use, climate, categorical, age.pixelLonLat()]).updateMask(age)\n"
   ]
  },
  {
   "cell_type": "code",
   "execution_count": 11,
   "metadata": {},
   "outputs": [
    {
     "data": {
      "text/html": [
       "\n",
       "            <style>\n",
       "                .geemap-dark {\n",
       "                    --jp-widgets-color: white;\n",
       "                    --jp-widgets-label-color: white;\n",
       "                    --jp-ui-font-color1: white;\n",
       "                    --jp-layout-color2: #454545;\n",
       "                    background-color: #383838;\n",
       "                }\n",
       "                    \n",
       "                .geemap-dark .jupyter-button {\n",
       "                    --jp-layout-color3: #383838;\n",
       "                }\n",
       "                \n",
       "                .geemap-colab {\n",
       "                    background-color: var(--colab-primary-surface-color, white);\n",
       "                }\n",
       "                    \n",
       "                .geemap-colab .jupyter-button {\n",
       "                    --jp-layout-color3: var(--colab-primary-surface-color, white);\n",
       "                }\n",
       "            </style>\n",
       "            "
      ],
      "text/plain": [
       "<IPython.core.display.HTML object>"
      ]
     },
     "metadata": {},
     "output_type": "display_data"
    }
   ],
   "source": [
    "fishnet = geemap.fishnet(roi, h_interval=2.0, v_interval=2.0, delta=0.5)\n",
    "# Set 'id' as a property of the features\n",
    "fishnet = fishnet.map(lambda feature: feature.set('id', feature.id()))\n",
    "fishnet_info = fishnet.getInfo()['features']\n",
    "\n",
    "for feature in fishnet_info:\n",
    "    id = feature['id']\n",
    "    grid_cell = fishnet.filter(ee.Filter.eq('id', id))\n",
    "    img = img_export.clip(grid_cell)\n",
    "    task = ee.batch.Export.image.toAsset(\n",
    "        image = img,\n",
    "        description = 'unified_data',\n",
    "        assetId = f'projects/ee-ana-zonia/assets/unified_data_{id}',\n",
    "        scale = 100,\n",
    "        crs = 'EPSG:4326',\n",
    "        maxPixels = 4e12\n",
    "    )\n",
    "    # Start the export task\n",
    "    task.start()\n"
   ]
  },
  {
   "cell_type": "code",
   "execution_count": null,
   "metadata": {},
   "outputs": [],
   "source": [
    "fc_sampled = img_export.stratifiedSample(10000, 'ecoreg')\n",
    "\n",
    "task = ee.batch.Export.table.toDrive(\n",
    "    collection = fc_sampled,\n",
    "    description = 'campo_dataset',\n",
    "    folder = 'fishnet_tiles'\n",
    ")\n",
    "\n",
    "task.start()\n"
   ]
  }
 ],
 "metadata": {
  "colab": {
   "provenance": []
  },
  "kernelspec": {
   "display_name": "Python 3 (ipykernel)",
   "language": "python",
   "name": "python3"
  },
  "language_info": {
   "codemirror_mode": {
    "name": "ipython",
    "version": 3
   },
   "file_extension": ".py",
   "mimetype": "text/x-python",
   "name": "python",
   "nbconvert_exporter": "python",
   "pygments_lexer": "ipython3",
   "version": "3.11.5"
  }
 },
 "nbformat": 4,
 "nbformat_minor": 4
}
