{
 "cells": [
  {
   "cell_type": "code",
   "execution_count": 63,
   "metadata": {
    "id": "cOBmvER1OjFM"
   },
   "outputs": [
    {
     "data": {
      "text/html": [
       "\n",
       "            <style>\n",
       "                .geemap-dark {\n",
       "                    --jp-widgets-color: white;\n",
       "                    --jp-widgets-label-color: white;\n",
       "                    --jp-ui-font-color1: white;\n",
       "                    --jp-layout-color2: #454545;\n",
       "                    background-color: #383838;\n",
       "                }\n",
       "                    \n",
       "                .geemap-dark .jupyter-button {\n",
       "                    --jp-layout-color3: #383838;\n",
       "                }\n",
       "                \n",
       "                .geemap-colab {\n",
       "                    background-color: var(--colab-primary-surface-color, white);\n",
       "                }\n",
       "                    \n",
       "                .geemap-colab .jupyter-button {\n",
       "                    --jp-layout-color3: var(--colab-primary-surface-color, white);\n",
       "                }\n",
       "            </style>\n",
       "            "
      ],
      "text/plain": [
       "<IPython.core.display.HTML object>"
      ]
     },
     "metadata": {},
     "output_type": "display_data"
    }
   ],
   "source": [
    "\"\"\"\n",
    "Generating data for \"Predicting Forest Regrowth in Amazonia given Land Use History\"\n",
    "Author: Ana Catarina Avila\n",
    "Date: Dec 2023\n",
    "\"\"\"\n",
    "\n",
    "import ee\n",
    "import geemap\n",
    "\n",
    "# Authenticate to Earth Engine\n",
    "try:\n",
    "  ee.Initialize()\n",
    "except Exception as e:\n",
    "  ee.Authenticate()\n",
    "  ee.Initialize(project='ee-ana-zonia')\n"
   ]
  },
  {
   "cell_type": "code",
   "execution_count": 64,
   "metadata": {
    "colab": {
     "base_uri": "https://localhost:8080/",
     "height": 17
    },
    "id": "9U1KEjuZlfgL",
    "outputId": "9964e001-f4a7-4846-bf9f-2c603a7a6588"
   },
   "outputs": [
    {
     "data": {
      "text/html": [
       "\n",
       "            <style>\n",
       "                .geemap-dark {\n",
       "                    --jp-widgets-color: white;\n",
       "                    --jp-widgets-label-color: white;\n",
       "                    --jp-ui-font-color1: white;\n",
       "                    --jp-layout-color2: #454545;\n",
       "                    background-color: #383838;\n",
       "                }\n",
       "                    \n",
       "                .geemap-dark .jupyter-button {\n",
       "                    --jp-layout-color3: #383838;\n",
       "                }\n",
       "                \n",
       "                .geemap-colab {\n",
       "                    background-color: var(--colab-primary-surface-color, white);\n",
       "                }\n",
       "                    \n",
       "                .geemap-colab .jupyter-button {\n",
       "                    --jp-layout-color3: var(--colab-primary-surface-color, white);\n",
       "                }\n",
       "            </style>\n",
       "            "
      ],
      "text/plain": [
       "<IPython.core.display.HTML object>"
      ]
     },
     "metadata": {},
     "output_type": "display_data"
    }
   ],
   "source": [
    "# Switches\n",
    "region = \"br\"\n",
    "\n",
    "# Choose year range\n",
    "first_year = 1985\n",
    "last_year = 2020 # year of biomass data\n",
    "\n",
    "plot_region = ee.Geometry.Rectangle([-47, -3.5, -46, -2.5])\n",
    "Map = geemap.Map(center=[-3, -46], zoom=9)"
   ]
  },
  {
   "cell_type": "code",
   "execution_count": 53,
   "metadata": {
    "colab": {
     "base_uri": "https://localhost:8080/",
     "height": 17
    },
    "id": "Js9LsEZy3v5r",
    "outputId": "c4b4d401-3e5e-4d12-e544-585dce15e5b3"
   },
   "outputs": [
    {
     "data": {
      "text/html": [
       "\n",
       "            <style>\n",
       "                .geemap-dark {\n",
       "                    --jp-widgets-color: white;\n",
       "                    --jp-widgets-label-color: white;\n",
       "                    --jp-ui-font-color1: white;\n",
       "                    --jp-layout-color2: #454545;\n",
       "                    background-color: #383838;\n",
       "                }\n",
       "                    \n",
       "                .geemap-dark .jupyter-button {\n",
       "                    --jp-layout-color3: #383838;\n",
       "                }\n",
       "                \n",
       "                .geemap-colab {\n",
       "                    background-color: var(--colab-primary-surface-color, white);\n",
       "                }\n",
       "                    \n",
       "                .geemap-colab .jupyter-button {\n",
       "                    --jp-layout-color3: var(--colab-primary-surface-color, white);\n",
       "                }\n",
       "            </style>\n",
       "            "
      ],
      "text/plain": [
       "<IPython.core.display.HTML object>"
      ]
     },
     "metadata": {},
     "output_type": "display_data"
    }
   ],
   "source": [
    "if region == \"br_amazon\":\n",
    "    roi = ee.FeatureCollection(\"projects/ee-ana-zonia/assets/br_biomes\").filter(ee.Filter.eq(\"id\", 18413)).geometry()\n",
    "elif region == \"br\":\n",
    "    roi = ee.FeatureCollection(\"projects/ee-ana-zonia/assets/br_biomes\").geometry().dissolve()\n",
    "else:\n",
    "    # land use for the pan amazonian dataset (spanning all amazonian countries)\n",
    "    lulc = ee.Image(\"projects/mapbiomas-raisg/public/collection1/mapbiomas_raisg_panamazonia_collection1_integration_v1\").byte()\n",
    "    # note: there's less land use categories here than for the Brazilian territory.\n",
    "\n",
    "# Load the images and feature collections\n",
    "if not region == \"panamaz\":\n",
    "  lulc = (ee.Image(\"projects/mapbiomas-workspace/public/collection8/mapbiomas_collection80_integration_v1\")\n",
    "      .clip(roi)\n",
    "      .select([f\"classification_{year}\" for year in range(first_year, last_year+1)])).byte()\n",
    "  fire = (ee.Image(\"projects/mapbiomas-workspace/public/collection7_1/mapbiomas-fire-collection2-annual-burned-coverage-1\")\n",
    "      .clip(roi)\n",
    "      .select([f\"burned_coverage_{year}\" for year in range(first_year, last_year)])).byte()"
   ]
  },
  {
   "cell_type": "markdown",
   "metadata": {
    "id": "tXMqSCNSHiOm"
   },
   "source": [
    "## Ages\n",
    "\n",
    "Rewriting the code for \"Benchmark maps of 33 years of secondary forest age for Brazil\" to run with Collection 8 and include only class 3."
   ]
  },
  {
   "cell_type": "code",
   "execution_count": 65,
   "metadata": {
    "colab": {
     "base_uri": "https://localhost:8080/",
     "height": 17
    },
    "id": "_n39m7fpatWT",
    "outputId": "5ca67d2b-8e3d-47e2-b8ca-a259dc6c4c39"
   },
   "outputs": [
    {
     "data": {
      "text/html": [
       "\n",
       "            <style>\n",
       "                .geemap-dark {\n",
       "                    --jp-widgets-color: white;\n",
       "                    --jp-widgets-label-color: white;\n",
       "                    --jp-ui-font-color1: white;\n",
       "                    --jp-layout-color2: #454545;\n",
       "                    background-color: #383838;\n",
       "                }\n",
       "                    \n",
       "                .geemap-dark .jupyter-button {\n",
       "                    --jp-layout-color3: #383838;\n",
       "                }\n",
       "                \n",
       "                .geemap-colab {\n",
       "                    background-color: var(--colab-primary-surface-color, white);\n",
       "                }\n",
       "                    \n",
       "                .geemap-colab .jupyter-button {\n",
       "                    --jp-layout-color3: var(--colab-primary-surface-color, white);\n",
       "                }\n",
       "            </style>\n",
       "            "
      ],
      "text/plain": [
       "<IPython.core.display.HTML object>"
      ]
     },
     "metadata": {},
     "output_type": "display_data"
    }
   ],
   "source": [
    "# making masks\n",
    "# Anthropic, urban and Water Mask\n",
    "\n",
    "LU_index = [15, 39, 20, 40, 62, 41, 46, 47, 35, 48, 9]\n",
    "# INDEX ## 3 = forest\n",
    "# 15 = pasture\n",
    "# 39 = soy\n",
    "# 20 = sugar cane\n",
    "# 40 = rice\n",
    "# 62 = cotton\n",
    "# 41 = other temporary crop\n",
    "# 46 = coffee\n",
    "# 47 = citrus\n",
    "# 35 = palm oil\n",
    "# 48 = other perennial crop\n",
    "# 9 = forest plantation\n",
    "lulc_palette = [\"#f1c232\", \"#FFFFB2\", \"#FFD966\", \"#E974ED\", \"#D5A6BD\", \"#e075ad\", \"#C27BA0\", \"#982c9e\", \"#e787f8\", \"#cd49e4\", \"#ad4413\"]\n",
    "\n",
    "empty = ee.Image().byte()\n",
    "\n",
    "for i in range(first_year, last_year + 1):\n",
    "    year = 'classification_' + str(i)\n",
    "    anthropic = lulc.select(year).remap(LU_index, [1] * len(LU_index), 0).rename(year)\n",
    "    empty = empty.addBands(anthropic)\n",
    "\n",
    "anthropic_mask = empty.select(empty.bandNames().slice(1)) # we only want areas that DO show anthropic activity this year\n",
    "\n",
    "# Replace 'YOUR_WATER_IMAGE_ID' with the actual water image ID you are working with\n",
    "w_mask  = ee.Image(\"JRC/GSW1_4/GlobalSurfaceWater\").select(\"max_extent\").clip(roi).remap([0,1],[1,0]);\n",
    "\n",
    "urban = ee.Image(\"DLR/WSF/WSF2015/v1\").clip(roi)\n",
    "inverse_mask = urban.eq(1).Not()  # This will invert the mask, city pixels will be False (or 0) and non-urban pixels will be True (or 1)\n",
    "urban = urban.updateMask(inverse_mask)  # This will replace 1 values (city pixels) with NA\n",
    "urban_mask = urban.unmask(1)  # This will replace NA values (non-urban pixels) with 1\n",
    "\n",
    "# Define a color palette\n",
    "# palette = ['blue', 'red']  # Blue for 0, Red for 1\n",
    "# vizpar2 = {'min': 1, 'max': len(LU_index), 'palette': ['blue', 'red']}  # Blue for 0, Red for 1\n",
    "# Add the layer to the map with the color palette\n",
    "# Map.addLayer(w_mask, {'min': 0, 'max': 1, 'palette': palette}, 'w_mask')\n",
    "# Map.addLayer(urban_mask, {'palette': palette}, 'urban_mask')\n",
    "# Map.addLayer(anthropic_mask.select('classification_2020'), vizpar2, \"anthropic\")\n",
    "# Map"
   ]
  },
  {
   "cell_type": "code",
   "execution_count": 66,
   "metadata": {
    "colab": {
     "base_uri": "https://localhost:8080/",
     "height": 17
    },
    "id": "jl-zsxXycgUv",
    "outputId": "d1771936-ebde-4d26-d708-461ee69a99bc"
   },
   "outputs": [
    {
     "data": {
      "text/html": [
       "\n",
       "            <style>\n",
       "                .geemap-dark {\n",
       "                    --jp-widgets-color: white;\n",
       "                    --jp-widgets-label-color: white;\n",
       "                    --jp-ui-font-color1: white;\n",
       "                    --jp-layout-color2: #454545;\n",
       "                    background-color: #383838;\n",
       "                }\n",
       "                    \n",
       "                .geemap-dark .jupyter-button {\n",
       "                    --jp-layout-color3: #383838;\n",
       "                }\n",
       "                \n",
       "                .geemap-colab {\n",
       "                    background-color: var(--colab-primary-surface-color, white);\n",
       "                }\n",
       "                    \n",
       "                .geemap-colab .jupyter-button {\n",
       "                    --jp-layout-color3: var(--colab-primary-surface-color, white);\n",
       "                }\n",
       "            </style>\n",
       "            "
      ],
      "text/plain": [
       "<IPython.core.display.HTML object>"
      ]
     },
     "metadata": {},
     "output_type": "display_data"
    }
   ],
   "source": [
    "# 1. Reclassifying MapBiomas Data # Step 1\n",
    "empty = ee.Image().byte();\n",
    "\n",
    "for i in range(first_year, last_year+1):\n",
    "    year = 'classification_' + str(i)\n",
    "    forest = lulc.select(year)\n",
    "    forest = forest.remap([3,6], [1,1], 0) # Forest Formation and Flooded Forest classes from MapBiomas Project\n",
    "    empty = empty.addBands(forest.rename(ee.String(year)))\n",
    "\n",
    "mapbiomas_forest = empty.select(empty.bandNames().slice(1))"
   ]
  },
  {
   "cell_type": "code",
   "execution_count": 67,
   "metadata": {
    "colab": {
     "base_uri": "https://localhost:8080/",
     "height": 17
    },
    "id": "RVug9E1vQ2Tk",
    "outputId": "7c747465-736d-4924-ce11-03d6efaec979"
   },
   "outputs": [
    {
     "data": {
      "text/html": [
       "\n",
       "            <style>\n",
       "                .geemap-dark {\n",
       "                    --jp-widgets-color: white;\n",
       "                    --jp-widgets-label-color: white;\n",
       "                    --jp-ui-font-color1: white;\n",
       "                    --jp-layout-color2: #454545;\n",
       "                    background-color: #383838;\n",
       "                }\n",
       "                    \n",
       "                .geemap-dark .jupyter-button {\n",
       "                    --jp-layout-color3: #383838;\n",
       "                }\n",
       "                \n",
       "                .geemap-colab {\n",
       "                    background-color: var(--colab-primary-surface-color, white);\n",
       "                }\n",
       "                    \n",
       "                .geemap-colab .jupyter-button {\n",
       "                    --jp-layout-color3: var(--colab-primary-surface-color, white);\n",
       "                }\n",
       "            </style>\n",
       "            "
      ],
      "text/plain": [
       "<IPython.core.display.HTML object>"
      ]
     },
     "metadata": {},
     "output_type": "display_data"
    }
   ],
   "source": [
    "# 2. Mapping the Annual Increment of Secondary Forests # Step 2\n",
    "regro = ee.Image().byte()\n",
    "defor = ee.Image().byte()\n",
    "\n",
    "for i in range(first_year, last_year):  # 1986-2020\n",
    "    year1 = f'classification_{i}'\n",
    "    year2 = f'classification_{i + 1}'\n",
    "    a_mask = anthropic_mask.select(year1);\n",
    "    forest1 = mapbiomas_forest.select(year1).remap([0, 1], [0, 2])  # Change forest pixels in 1985 to 2 years old\n",
    "    forest2 = mapbiomas_forest.select(year2)\n",
    "    # addition is 0 if was nonforest before and after; 1 if it was gained; 2 if it was forest before and then was lost; 3 if it was forest in both.\n",
    "    sforest = forest1.add(forest2).multiply(a_mask).multiply(w_mask).multiply(urban_mask)\n",
    "    for_gain = sforest.remap([0, 1, 2, 3], [0, 1, 0, 0]).rename(year2)\n",
    "    for_loss = sforest.remap([0, 1, 2, 3], [0, 0, 1, 0]).rename(year2)\n",
    "    regro = regro.addBands(for_gain)\n",
    "    defor = defor.addBands(for_loss)\n",
    "\n",
    "regro = regro.select(regro.bandNames().slice(1))  # Shows all years in which forest was gained.\n",
    "# here, we could just mask by pixels that are forest in 2020 and find the year of last gain."
   ]
  },
  {
   "cell_type": "code",
   "execution_count": 68,
   "metadata": {
    "colab": {
     "base_uri": "https://localhost:8080/",
     "height": 17
    },
    "id": "-oeXAPoLRFSy",
    "outputId": "3fd990f7-d8da-4047-cc1f-64cb778612a5"
   },
   "outputs": [
    {
     "data": {
      "text/html": [
       "\n",
       "            <style>\n",
       "                .geemap-dark {\n",
       "                    --jp-widgets-color: white;\n",
       "                    --jp-widgets-label-color: white;\n",
       "                    --jp-ui-font-color1: white;\n",
       "                    --jp-layout-color2: #454545;\n",
       "                    background-color: #383838;\n",
       "                }\n",
       "                    \n",
       "                .geemap-dark .jupyter-button {\n",
       "                    --jp-layout-color3: #383838;\n",
       "                }\n",
       "                \n",
       "                .geemap-colab {\n",
       "                    background-color: var(--colab-primary-surface-color, white);\n",
       "                }\n",
       "                    \n",
       "                .geemap-colab .jupyter-button {\n",
       "                    --jp-layout-color3: var(--colab-primary-surface-color, white);\n",
       "                }\n",
       "            </style>\n",
       "            "
      ],
      "text/plain": [
       "<IPython.core.display.HTML object>"
      ]
     },
     "metadata": {},
     "output_type": "display_data"
    }
   ],
   "source": [
    "# 3. Mapping the Annual Extent of Secondary Forests # Step 3\n",
    "extent = ee.Image().byte()\n",
    "# add pixels that gained forest in 1986\n",
    "extent = extent.addBands(regro.select('classification_1986').rename('classification_1986'))\n",
    "\n",
    "for i in range(first_year + 1, last_year): #1987 to 2020\n",
    "    year = f'classification_{i}' #1986\n",
    "    year2 = f'classification_{i + 1}' #1987\n",
    "    for_gain = regro.select(year2)\n",
    "    acm_forest = extent.select(year).add(for_gain) #pixels that gained forest in 1986 + pixels that gained forest in 1987\n",
    "    old_values = list(range(37))\n",
    "    new_values = [0, 1] + [1] * 35\n",
    "    remap = acm_forest.remap(old_values, new_values)\n",
    "    # mask (multiply) by pixels that were shown to be forest in 1987, hence eliminating any that may have regrown in 1986 but lost cover in 1987\n",
    "    extent = extent.addBands(remap.multiply(mapbiomas_forest.select(year2)).rename(year2))\n",
    "\n",
    "extent = extent.select(extent.bandNames().slice(1))"
   ]
  },
  {
   "cell_type": "code",
   "execution_count": 71,
   "metadata": {
    "colab": {
     "base_uri": "https://localhost:8080/",
     "height": 17
    },
    "id": "Gw2gpMcSRx6k",
    "outputId": "23fb2e4b-af2a-4cb9-df62-f89799ad80e5"
   },
   "outputs": [
    {
     "data": {
      "text/html": [
       "\n",
       "            <style>\n",
       "                .geemap-dark {\n",
       "                    --jp-widgets-color: white;\n",
       "                    --jp-widgets-label-color: white;\n",
       "                    --jp-ui-font-color1: white;\n",
       "                    --jp-layout-color2: #454545;\n",
       "                    background-color: #383838;\n",
       "                }\n",
       "                    \n",
       "                .geemap-dark .jupyter-button {\n",
       "                    --jp-layout-color3: #383838;\n",
       "                }\n",
       "                \n",
       "                .geemap-colab {\n",
       "                    background-color: var(--colab-primary-surface-color, white);\n",
       "                }\n",
       "                    \n",
       "                .geemap-colab .jupyter-button {\n",
       "                    --jp-layout-color3: var(--colab-primary-surface-color, white);\n",
       "                }\n",
       "            </style>\n",
       "            "
      ],
      "text/plain": [
       "<IPython.core.display.HTML object>"
      ]
     },
     "metadata": {},
     "output_type": "display_data"
    }
   ],
   "source": [
    "# 4. Calculating and Mapping the Age of Secondary Forests # Step 4\n",
    "ages = ee.Image().byte()\n",
    "ages = ages.addBands(extent.select('classification_1986').rename('classification_1986'))\n",
    "ages = ages.slice(1) # remove \"constant\" band\n",
    "age_total = ages # will use this as the \"last total age\" to keep iteratively adding values\n",
    "\n",
    "for i in range(first_year + 1, last_year):\n",
    "    year = f'classification_{i + 1}'# 1987-2020\n",
    "    sforest = extent.select(year) # forest cover in 1987\n",
    "    age_total = age_total.add(sforest) # 1 year old forests in 1986 + cover in 1987\n",
    "    f_year = mapbiomas_forest.select(year)\n",
    "    age_total = age_total.multiply(f_year) # mask by pixels that were forest that year, removing any forest loss\n",
    "    ages = ages.addBands(age_total.rename(year))\n",
    "\n",
    "ages = ages.updateMask(ages) #keep only values as ages or NA\n",
    "\n",
    "#ages range from 1 for those regrown in 2019-2020 to 35 for those regrown in 1985-1986\n",
    "age = ages.select('classification_2020').rename('age')\n",
    "\n",
    "# vizpar = {'min': 1, 'max': last_year - first_year, 'palette': ['blue', 'red']}  # Blue for 0, Red for 1\n",
    "# Map = geemap.Map(center=[-10, -40], zoom=4)\n",
    "# Map.add_basemap('Esri.WorldTopoMap')\n",
    "# Map.addLayer(age, vizpar, \"ages\")\n",
    "# Map\n",
    "\n"
   ]
  },
  {
   "cell_type": "code",
   "execution_count": 90,
   "metadata": {},
   "outputs": [
    {
     "data": {
      "text/html": [
       "\n",
       "            <style>\n",
       "                .geemap-dark {\n",
       "                    --jp-widgets-color: white;\n",
       "                    --jp-widgets-label-color: white;\n",
       "                    --jp-ui-font-color1: white;\n",
       "                    --jp-layout-color2: #454545;\n",
       "                    background-color: #383838;\n",
       "                }\n",
       "                    \n",
       "                .geemap-dark .jupyter-button {\n",
       "                    --jp-layout-color3: #383838;\n",
       "                }\n",
       "                \n",
       "                .geemap-colab {\n",
       "                    background-color: var(--colab-primary-surface-color, white);\n",
       "                }\n",
       "                    \n",
       "                .geemap-colab .jupyter-button {\n",
       "                    --jp-layout-color3: var(--colab-primary-surface-color, white);\n",
       "                }\n",
       "            </style>\n",
       "            "
      ],
      "text/plain": [
       "<IPython.core.display.HTML object>"
      ]
     },
     "metadata": {},
     "output_type": "display_data"
    },
    {
     "data": {
      "application/vnd.jupyter.widget-view+json": {
       "model_id": "82265e39068f40c391e99939348b00bc",
       "version_major": 2,
       "version_minor": 0
      },
      "text/plain": [
       "Map(center=[0, 0], controls=(WidgetControl(options=['position', 'transparent_bg'], widget=SearchDataGUI(childr…"
      ]
     },
     "execution_count": 90,
     "metadata": {},
     "output_type": "execute_result"
    }
   ],
   "source": [
    "#   last observed land use type - given secondary ages, get\n",
    "# if age is 1 in 2020, it was not forest in 2019\n",
    "# which means I want category in 2019\n",
    "# if age is 35 in 2020, it was not forest in 1985\n",
    "# which means I want category in 1985\n",
    "age_br = ee.Image('projects/ee-ana-zonia/assets/age_br')\n",
    "age = ee.Image('projects/ee-ana-zonia/assets/age')\n",
    "lulc = (ee.Image(\"projects/mapbiomas-workspace/public/collection8/mapbiomas_collection80_integration_v1\")\n",
    "  .select([f\"classification_{year}\" for year in range(first_year, last_year+1)])).byte()\n",
    "\n",
    "lulc_masked = lulc.updateMask(age)#.updateMask(age_br)\n",
    "age_values = ee.List.sequence(1,35)\n",
    "\n",
    "def get_last_lulc(age):\n",
    "    yr = 2020 - i\n",
    "    year = f'classification_{yr}'\n",
    "    lu_yr = lulc_masked.select(year)\n",
    "    return lu_yr.updateMask(lu_yr.neq(3)).updateMask(lu_yr.neq(6))\n",
    "\n",
    "last_LU = age_values.map(get_last_lulc)\n",
    "yearly_SI = ee.ImageCollection.fromImages(tst)\n",
    "\n",
    "# Convert ImageCollection to single Image\n",
    "yearly_SI_image = yearly_SI.toBands()\n",
    "new_band_names = ['si_{}'.format(year) for year in yearlist] # Append 'si_' to each year\n",
    "yearly_SI_image = yearly_SI_image.rename(new_band_names)\n",
    "\n",
    "\n",
    "vis = {\n",
    "    'min': 0,\n",
    "    'max': 62,\n",
    "    'palette': ['blue', 'red'],\n",
    "}\n",
    "\n",
    "Map = geemap.Map()\n",
    "Map.addLayer(tst, vis)\n",
    "Map\n",
    "\n",
    "\n",
    "\n",
    "# # Define the export parameters\n",
    "# export_params = {\n",
    "#     'image': last_LU,\n",
    "#     'description': 'last_LU',\n",
    "#     'assetId': 'projects/ee-ana-zonia/assets/last_LU',\n",
    "#     'scale': 30,\n",
    "#     'crs': 'EPSG:4326',\n",
    "#     'maxPixels': 4e10\n",
    "# }\n",
    "\n",
    "\n",
    "# # Create the export task\n",
    "# task = ee.batch.Export.image.toAsset(**export_params)\n",
    "\n",
    "# # Start the export task\n",
    "# task.start()\n"
   ]
  },
  {
   "cell_type": "code",
   "execution_count": 38,
   "metadata": {},
   "outputs": [
    {
     "data": {
      "text/html": [
       "\n",
       "            <style>\n",
       "                .geemap-dark {\n",
       "                    --jp-widgets-color: white;\n",
       "                    --jp-widgets-label-color: white;\n",
       "                    --jp-ui-font-color1: white;\n",
       "                    --jp-layout-color2: #454545;\n",
       "                    background-color: #383838;\n",
       "                }\n",
       "                    \n",
       "                .geemap-dark .jupyter-button {\n",
       "                    --jp-layout-color3: #383838;\n",
       "                }\n",
       "                \n",
       "                .geemap-colab {\n",
       "                    background-color: var(--colab-primary-surface-color, white);\n",
       "                }\n",
       "                    \n",
       "                .geemap-colab .jupyter-button {\n",
       "                    --jp-layout-color3: var(--colab-primary-surface-color, white);\n",
       "                }\n",
       "            </style>\n",
       "            "
      ],
      "text/plain": [
       "<IPython.core.display.HTML object>"
      ]
     },
     "metadata": {},
     "output_type": "display_data"
    }
   ],
   "source": [
    "lulc_masked = lulc.updateMask(age)\n",
    "\n",
    "LU_index = [15, 39, 20, 40, 62, 41, 46, 47, 35, 48, 9]\n",
    "\n",
    "LU_sum = ee.Image()\n",
    "\n",
    "for val in LU_index:\n",
    "  lulc_val = lulc_masked.eq(val)\n",
    "  num_cells = lulc_val.reduce(ee.Reducer.sum()).rename(f'lulc_sum_{val}')\n",
    "  LU_sum = LU_sum.addBands(num_cells)\n",
    "\n",
    "LU_sum = LU_sum.slice(1).byte()\n",
    "\n",
    "vis = {\n",
    "    'min': 0,\n",
    "    'max': 35,\n",
    "    'palette': ['blue', 'red'],\n",
    "}\n",
    "\n",
    "# tstage = age.clip(plot_region)\n",
    "# Map = geemap.Map()\n",
    "# Map.addLayer(LU_sum.select('lulc_sum_15'), vis)\n",
    "# Map\n",
    "\n",
    "\n",
    "\n",
    "# Define the export parameters\n",
    "export_params = {\n",
    "    'image': LU_sum,\n",
    "    'description': 'LU_sum_notamaz',\n",
    "    'assetId': 'projects/ee-ana-zonia/assets/LU_sum_notamaz',\n",
    "    'scale': 30,\n",
    "    'crs': 'EPSG:4326',\n",
    "    'region': roi,\n",
    "    'maxPixels': 4e10\n",
    "}\n",
    "\n",
    "# Create the export task\n",
    "task = ee.batch.Export.image.toAsset(**export_params)\n",
    "\n",
    "# Start the export task\n",
    "task.start()"
   ]
  },
  {
   "cell_type": "markdown",
   "metadata": {
    "id": "dQ6tNIlXrmSJ"
   },
   "source": [
    "## Biomass Edge Pixels\n",
    "Get mean biomass for edge pixels"
   ]
  },
  {
   "cell_type": "code",
   "execution_count": 32,
   "metadata": {
    "colab": {
     "base_uri": "https://localhost:8080/",
     "height": 17
    },
    "id": "_vrTeyuJrlev",
    "outputId": "1bdc3fc5-219e-4fea-b057-6c4ee2f1d909"
   },
   "outputs": [
    {
     "data": {
      "text/html": [
       "\n",
       "            <style>\n",
       "                .geemap-dark {\n",
       "                    --jp-widgets-color: white;\n",
       "                    --jp-widgets-label-color: white;\n",
       "                    --jp-ui-font-color1: white;\n",
       "                    --jp-layout-color2: #454545;\n",
       "                    background-color: #383838;\n",
       "                }\n",
       "                    \n",
       "                .geemap-dark .jupyter-button {\n",
       "                    --jp-layout-color3: #383838;\n",
       "                }\n",
       "                \n",
       "                .geemap-colab {\n",
       "                    background-color: var(--colab-primary-surface-color, white);\n",
       "                }\n",
       "                    \n",
       "                .geemap-colab .jupyter-button {\n",
       "                    --jp-layout-color3: var(--colab-primary-surface-color, white);\n",
       "                }\n",
       "            </style>\n",
       "            "
      ],
      "text/plain": [
       "<IPython.core.display.HTML object>"
      ]
     },
     "metadata": {},
     "output_type": "display_data"
    }
   ],
   "source": [
    "biomass = ee.Image(\"projects/ee-ana-zonia/assets/biomass_2020\").clip(roi)\n",
    "ecoregions = ee.FeatureCollection(\"RESOLVE/ECOREGIONS/2017\").filterBounds(roi) \\\n",
    "                .map(lambda feature: feature.intersection(roi))\n",
    "# # Reproject to 10m\n",
    "# biomass = biomass.reproject(crs=age.projection(), scale=10)\n",
    "# # Reaggregate to 30m (mean value)\n",
    "# biomass = biomass.reduceResolution(reducer=ee.Reducer.mean()).reproject(crs=age.projection())\n",
    "# # Mask only to regions with age greater than zero (secondary forests)\n",
    "# biomass = biomass.updateMask(age).float().rename('agbd')\n",
    "\n",
    "# vizpar = {'min': 1, 'max': 415, 'palette': ['blue', 'red']}  # Blue for 0, Red for 1\n",
    "\n",
    "# img_export.append(biomass)"
   ]
  },
  {
   "cell_type": "markdown",
   "metadata": {
    "id": "xq8psIdotwxG"
   },
   "source": [
    "## Mature Forests"
   ]
  },
  {
   "cell_type": "code",
   "execution_count": 37,
   "metadata": {
    "colab": {
     "base_uri": "https://localhost:8080/",
     "height": 17
    },
    "id": "rJzutbQTf76-",
    "outputId": "f15c5af8-75e4-4d4f-f161-fb71d9ec68bb",
    "scrolled": true
   },
   "outputs": [
    {
     "data": {
      "text/html": [
       "\n",
       "            <style>\n",
       "                .geemap-dark {\n",
       "                    --jp-widgets-color: white;\n",
       "                    --jp-widgets-label-color: white;\n",
       "                    --jp-ui-font-color1: white;\n",
       "                    --jp-layout-color2: #454545;\n",
       "                    background-color: #383838;\n",
       "                }\n",
       "                    \n",
       "                .geemap-dark .jupyter-button {\n",
       "                    --jp-layout-color3: #383838;\n",
       "                }\n",
       "                \n",
       "                .geemap-colab {\n",
       "                    background-color: var(--colab-primary-surface-color, white);\n",
       "                }\n",
       "                    \n",
       "                .geemap-colab .jupyter-button {\n",
       "                    --jp-layout-color3: var(--colab-primary-surface-color, white);\n",
       "                }\n",
       "            </style>\n",
       "            "
      ],
      "text/plain": [
       "<IPython.core.display.HTML object>"
      ]
     },
     "metadata": {},
     "output_type": "display_data"
    }
   ],
   "source": [
    "mature_mask = lulc.eq(3)\n",
    "# Mask the image to keep only pixels with the value 3 in all bands\n",
    "mature_mask = mature_mask.reduce(ee.Reducer.allNonZero())\n",
    "mature_biomass = biomass.updateMask(mature_mask).rename('mat_biomass')\n",
    "\n",
    "# Compute the mean biomass values for mature forest per ecoregion.\n",
    "median_mature = mature_biomass.reduceRegions(ecoregions, reducer=ee.Reducer.median(), scale = 10000, crs = mature_biomass.projection().crs())\n",
    "\n",
    "# Convert the FeatureCollection to an image.\n",
    "median_mature = median_mature.reduceToImage(['mat_biomass'], ee.Reducer.first())\n",
    "# display('Median band values, Santa Cruz Mountains ecoregions', median_mature)\n",
    "# Compute sum over round kernel\n",
    "# assuming that 99.7% of seeds come from forests within mat_neighbor distance, that's 3 standard deviations\n",
    "# sd = mat_neighbor/3\n",
    "# kernel = ee.Kernel.gaussian(radius = mat_neighbor, sigma = sd, units='meters', normalize = True)\n",
    "# weighed_sum_mature = mature_biomass.convolve(kernel).rename('weighted_sum_mature)\n",
    "\n",
    "# Define the export parameters\n",
    "export_params = {\n",
    "    'image': median_mature,\n",
    "    'description': 'mature_biomass_2',\n",
    "    'assetId': 'projects/ee-ana-zonia/assets/mature_biomass_2',\n",
    "    'scale': 10000,\n",
    "    'crs': 'EPSG:4326',\n",
    "    'region': roi,\n",
    "    'maxPixels': 4e10\n",
    "}\n",
    "\n",
    "# Create the export task\n",
    "task = ee.batch.Export.image.toAsset(**export_params)\n",
    "\n",
    "# Start the export task\n",
    "task.start()\n",
    "\n",
    "# img_export = img_export + [median_mature, weighed_sum_mature]"
   ]
  },
  {
   "cell_type": "markdown",
   "metadata": {
    "id": "aqktfGhDhqAN"
   },
   "source": [
    "## Land use and land cover"
   ]
  },
  {
   "cell_type": "code",
   "execution_count": null,
   "metadata": {
    "colab": {
     "base_uri": "https://localhost:8080/",
     "height": 17
    },
    "id": "dy2ERYALlCx5",
    "outputId": "2035c8db-13a4-4c0f-fb50-ba82a0652c78"
   },
   "outputs": [
    {
     "data": {
      "text/html": [
       "\n",
       "            <style>\n",
       "                .geemap-dark {\n",
       "                    --jp-widgets-color: white;\n",
       "                    --jp-widgets-label-color: white;\n",
       "                    --jp-ui-font-color1: white;\n",
       "                    --jp-layout-color2: #454545;\n",
       "                    background-color: #383838;\n",
       "                }\n",
       "                    \n",
       "                .geemap-dark .jupyter-button {\n",
       "                    --jp-layout-color3: #383838;\n",
       "                }\n",
       "                \n",
       "                .geemap-colab {\n",
       "                    background-color: var(--colab-primary-surface-color, white);\n",
       "                }\n",
       "                    \n",
       "                .geemap-colab .jupyter-button {\n",
       "                    --jp-layout-color3: var(--colab-primary-surface-color, white);\n",
       "                }\n",
       "            </style>\n",
       "            "
      ],
      "text/plain": [
       "<IPython.core.display.HTML object>"
      ]
     },
     "metadata": {},
     "output_type": "display_data"
    }
   ],
   "source": [
    "#   last observed land use type - given secondary ages, get\n",
    "# if age is 1 in 2020, it was not forest in 2019\n",
    "# which means I want category in 2019\n",
    "# if age is 35 in 2020, it was not forest in 1985\n",
    "# which means I want category in 1985\n",
    "lulc_masked = lulc.updateMask(age)\n",
    "\n",
    "last_LU = ee.Image().constant(0).byte().rename('last_LU')\n",
    "\n",
    "for i in range(first_year + 1, last_year):  # 1986-2020\n",
    "  year = f'classification_{i}'\n",
    "  age_mask = age.eq(last_year-i); #keep only the pixels with age equivalent to the correspondent year\n",
    "  last_LU_observation = lulc.select(year).updateMask(age_mask) #keeps only land use classes of the year before abandonment\n",
    "  last_LU = last_LU.add(last_LU_observation)"
   ]
  },
  {
   "cell_type": "code",
   "execution_count": null,
   "metadata": {
    "colab": {
     "base_uri": "https://localhost:8080/",
     "height": 17
    },
    "id": "nnifp814e-6h",
    "outputId": "8f5925fb-7658-4984-dc43-0e831db5d8ec"
   },
   "outputs": [
    {
     "data": {
      "text/html": [
       "\n",
       "            <style>\n",
       "                .geemap-dark {\n",
       "                    --jp-widgets-color: white;\n",
       "                    --jp-widgets-label-color: white;\n",
       "                    --jp-ui-font-color1: white;\n",
       "                    --jp-layout-color2: #454545;\n",
       "                    background-color: #383838;\n",
       "                }\n",
       "                    \n",
       "                .geemap-dark .jupyter-button {\n",
       "                    --jp-layout-color3: #383838;\n",
       "                }\n",
       "                \n",
       "                .geemap-colab {\n",
       "                    background-color: var(--colab-primary-surface-color, white);\n",
       "                }\n",
       "                    \n",
       "                .geemap-colab .jupyter-button {\n",
       "                    --jp-layout-color3: var(--colab-primary-surface-color, white);\n",
       "                }\n",
       "            </style>\n",
       "            "
      ],
      "text/plain": [
       "<IPython.core.display.HTML object>"
      ]
     },
     "metadata": {},
     "output_type": "display_data"
    }
   ],
   "source": [
    "LU_sum = ee.Image().byte()\n",
    "\n",
    "for val in LU_index:\n",
    "  lulc_val = lulc_masked.eq(val)\n",
    "  lulc_val_mask = lulc_val.mask()\n",
    "  num_cells = lulc_val.reduce(ee.Reducer.sum()).rename(f'lulc_sum_{val}')\n",
    "  LU_sum = LU_sum.addBands(num_cells)\n",
    "\n",
    "LU_sum = LU_sum.slice(1).rename('LU_sum')\n",
    "\n",
    "# Map = geemap.Map(center=[-10, -40], zoom=4)\n",
    "# vizpar_age = {'min': 1, 'max': last_year - first_year, 'palette': ['blue', 'red']}  # Blue for 0, Red for 1\n",
    "#vizpar_lulc = {'min': 1, 'max': max(LU_index), 'palette': lulc_palette}\n",
    "# Map.addLayer(age, vizpar_age, \"ages\")\n",
    "# Map.addLayer(num_cells, vizpar_age, \"lulc_masked\")\n",
    "# Map\n",
    "#img_export = img_export + [last_LU, LU_sum]"
   ]
  },
  {
   "cell_type": "markdown",
   "metadata": {
    "id": "c-achWUrvWPn"
   },
   "source": [
    "### Fire\n",
    "Note that fire has different transform than lulc, so the projection will need to be adjusted when exporting."
   ]
  },
  {
   "cell_type": "code",
   "execution_count": 40,
   "metadata": {
    "colab": {
     "base_uri": "https://localhost:8080/",
     "height": 17
    },
    "id": "qT39hKV1Z4J8",
    "outputId": "f8dc4425-8982-42be-df4d-b7e19e028d07"
   },
   "outputs": [
    {
     "data": {
      "text/html": [
       "\n",
       "            <style>\n",
       "                .geemap-dark {\n",
       "                    --jp-widgets-color: white;\n",
       "                    --jp-widgets-label-color: white;\n",
       "                    --jp-ui-font-color1: white;\n",
       "                    --jp-layout-color2: #454545;\n",
       "                    background-color: #383838;\n",
       "                }\n",
       "                    \n",
       "                .geemap-dark .jupyter-button {\n",
       "                    --jp-layout-color3: #383838;\n",
       "                }\n",
       "                \n",
       "                .geemap-colab {\n",
       "                    background-color: var(--colab-primary-surface-color, white);\n",
       "                }\n",
       "                    \n",
       "                .geemap-colab .jupyter-button {\n",
       "                    --jp-layout-color3: var(--colab-primary-surface-color, white);\n",
       "                }\n",
       "            </style>\n",
       "            "
      ],
      "text/plain": [
       "<IPython.core.display.HTML object>"
      ]
     },
     "metadata": {},
     "output_type": "display_data"
    }
   ],
   "source": [
    "# fire has the value of the land use type that burned.\n",
    "# Transforming into a fire mask:\n",
    "fire = fire.gt(0)\n",
    "num_fires = fire.reduce(ee.Reducer.sum()).rename('num_fires')\n",
    "\n",
    "# get fire frequency data from Mapbiomas - double check it.\n",
    "# fire_freq = ee.Image(\"projects/mapbiomas-workspace/public/collection7_1/mapbiomas-fire-collection2-fire-frequency-1\").clip(roi)\n",
    "# fire_freq = fire_freq.select('fire_frequency_1985_2020')\n",
    "\n",
    "# how many years ago was each fire? #############################\n",
    "# Get the number of bands\n",
    "num_bands = fire.bandNames().size()\n",
    "# Create a sequence of numbers from 1 to num_bands\n",
    "years_ago = ee.List.sequence(1, num_bands)\n",
    "years_ago = years_ago.reverse()\n",
    "\n",
    "# # # Map over the image and set values based on the band index\n",
    "constant_images = ee.ImageCollection.fromImages(\n",
    "    years_ago.map(lambda year: ee.Image.constant(year))).toBands()\n",
    "\n",
    "time_since_all_fires = fire.multiply(constant_images)\n",
    "\n",
    "old_names = time_since_all_fires.bandNames().getInfo()\n",
    "new_names = [name.replace('burned_coverage', 'time_since_fire') for name in old_names]\n",
    "time_since_all_fires = time_since_all_fires.select(old_names).rename(new_names)\n",
    "\n",
    "# how many years ago was the LAST fire? #############################\n",
    "last_fire = time_since_all_fires.reduce(ee.Reducer.lastNonNull()).rename('last_fire')\n",
    "\n",
    "# Map = geemap.Map(center=[-10, -40], zoom=4)\n",
    "# Map.addLayer(num_fires, {'min':0, 'max':35}, 'num_fires')\n",
    "# Map\n",
    "\n",
    "# # Define the export parameters\n",
    "# export_params = {\n",
    "#     'image': last_fire,\n",
    "#     'description': 'last_fire_notamaz',\n",
    "#     'assetId': 'projects/ee-ana-zonia/assets/last_fire_notamaz',\n",
    "#     'scale': 30,\n",
    "#     'crs': 'EPSG:4326',\n",
    "#     'region': roi,\n",
    "#     'maxPixels': 4e10\n",
    "# }\n",
    "\n",
    "# # Create the export task\n",
    "# task = ee.batch.Export.image.toAsset(**export_params)\n",
    "\n",
    "# # Start the export task\n",
    "# task.start()"
   ]
  },
  {
   "cell_type": "markdown",
   "metadata": {
    "id": "WS0xSMYLdJp8"
   },
   "source": [
    "## Climate\n",
    "Bring modis and calculate CWD.\n",
    "Also, bring temperature and precipitation."
   ]
  },
  {
   "cell_type": "code",
   "execution_count": null,
   "metadata": {
    "colab": {
     "base_uri": "https://localhost:8080/",
     "height": 17
    },
    "id": "FpDIKBQNAsdq",
    "outputId": "41bd5088-d521-4492-ae87-ce706e3ee93a"
   },
   "outputs": [
    {
     "data": {
      "text/html": [
       "\n",
       "            <style>\n",
       "                .geemap-dark {\n",
       "                    --jp-widgets-color: white;\n",
       "                    --jp-widgets-label-color: white;\n",
       "                    --jp-ui-font-color1: white;\n",
       "                    --jp-layout-color2: #454545;\n",
       "                    background-color: #383838;\n",
       "                }\n",
       "                    \n",
       "                .geemap-dark .jupyter-button {\n",
       "                    --jp-layout-color3: #383838;\n",
       "                }\n",
       "                \n",
       "                .geemap-colab {\n",
       "                    background-color: var(--colab-primary-surface-color, white);\n",
       "                }\n",
       "                    \n",
       "                .geemap-colab .jupyter-button {\n",
       "                    --jp-layout-color3: var(--colab-primary-surface-color, white);\n",
       "                }\n",
       "            </style>\n",
       "            "
      ],
      "text/plain": [
       "<IPython.core.display.HTML object>"
      ]
     },
     "metadata": {},
     "output_type": "display_data"
    }
   ],
   "source": [
    "# Function to calculate mean AET and add year property\n",
    "modis = (ee.ImageCollection(\"MODIS/061/MOD16A2GF\")\n",
    "         .filterBounds(roi)\n",
    "         .filterDate(\"2002-01-01\", \"2020-12-01\")\n",
    "         .select('ET', 'ET_QC')\n",
    "         .map(lambda image: image.multiply(0.0125))) # multiply by the scale 0.1, divide by 8 to get daily info\n",
    "\n",
    "# def getQABits(image, start, end, newName):\n",
    "#     # Compute the bits we need to extract.\n",
    "#     pattern = 0\n",
    "#     for i in range(start, end + 1):\n",
    "#         pattern += 2 ** i\n",
    "#     # Return a single band image of the extracted QA bits, giving the band a new name.\n",
    "#     return image.select([0], [newName]).bitwiseAnd(pattern).rightShift(start)\n",
    "\n",
    "# QA = modis.select('ET_QC');\n",
    "\n",
    "# cloud = getQABits(QA, 3, 4, 'cloud_state').expression(\"b(0) == 1 || b(0) == 2\")\n",
    "# qscore = getQABits(QA, 5, 7, 'quality score').expression(\"b(0) == 2 || b(0) == 3 || b(0)==4\")\n",
    "\n",
    "# Calculate the mean of the monthly sums\n",
    "# mean_monthly_et = modis.reduce(ee.Reducer.mean()).multiply(30)\n",
    "\n",
    "# # Assume 'image' is the ee.Image you are interested in, and 'roi' is the ee.Geometry that defines your region of interest\n",
    "# mean_dict = mean_monthly_et.reduceRegion(reducer=ee.Reducer.mean(), geometry=roi, scale=30, bestEffort = True)\n",
    "# print('Mean value:', mean_dict.getInfo())\n",
    "\n",
    "# Get the mean ET in mm/month for the ROI\n",
    "\n",
    "# samples = modis.sample(\n",
    "#     region=roi,\n",
    "#     scale=modis.projection().nominalScale(),\n",
    "#     numPixels=10000\n",
    "# )\n",
    "\n",
    "# display(samples)\n",
    "# # Create a histogram chart\n",
    "# hist_chart = ui.Chart.image.histogram(\n",
    "#     image.select(band_of_interest),\n",
    "#     region=roi,\n",
    "#     scale=image.projection().nominalScale(),\n",
    "#     maxBuckets=255\n",
    "# )\n",
    "\n",
    "# # Display the histogram chart\n",
    "# Image(url=hist_chart.dataURI())\n",
    "\n",
    "# Map = geemap.Map(center=[-10, -40], zoom=4)\n",
    "# Map.addLayer(mean_monthly_et, {'min':8, 'max':735, 'palette':['blue', 'red']}, 'modis')\n",
    "# Map"
   ]
  },
  {
   "cell_type": "code",
   "execution_count": null,
   "metadata": {
    "colab": {
     "base_uri": "https://localhost:8080/",
     "height": 17
    },
    "id": "cxW0T6D7uEbA",
    "outputId": "2b0937e4-cd42-4cbd-be70-938a32cfaea6"
   },
   "outputs": [
    {
     "data": {
      "text/html": [
       "\n",
       "            <style>\n",
       "                .geemap-dark {\n",
       "                    --jp-widgets-color: white;\n",
       "                    --jp-widgets-label-color: white;\n",
       "                    --jp-ui-font-color1: white;\n",
       "                    --jp-layout-color2: #454545;\n",
       "                    background-color: #383838;\n",
       "                }\n",
       "                    \n",
       "                .geemap-dark .jupyter-button {\n",
       "                    --jp-layout-color3: #383838;\n",
       "                }\n",
       "                \n",
       "                .geemap-colab {\n",
       "                    background-color: var(--colab-primary-surface-color, white);\n",
       "                }\n",
       "                    \n",
       "                .geemap-colab .jupyter-button {\n",
       "                    --jp-layout-color3: var(--colab-primary-surface-color, white);\n",
       "                }\n",
       "            </style>\n",
       "            "
      ],
      "text/plain": [
       "<IPython.core.display.HTML object>"
      ]
     },
     "metadata": {},
     "output_type": "display_data"
    }
   ],
   "source": [
    "terraclim = (ee.ImageCollection('IDAHO_EPSCOR/TERRACLIMATE')\n",
    "              .filterBounds(roi)\n",
    "              .filterDate('1985-01-01', '2019-12-01'))\n",
    "\n",
    "maxtemp = terraclim.select('tmmx')\n",
    "mintemp = terraclim.select('tmmn')\n",
    "prec = terraclim.select('pr')\n",
    "\n",
    "##### seasonality\n",
    "\n",
    "# # Calculate the mean monthly rainfall.\n",
    "# mean_monthly_rainfall = imageCollection.reduce(ee.Reducer.mean())\n",
    "\n",
    "# # Calculate the absolute deviations from the mean monthly rainfall.\n",
    "# absolute_deviations = imageCollection.map(lambda img: img.subtract(mean_monthly_rainfall).abs())\n",
    "\n",
    "# # Sum the absolute deviations.\n",
    "# sum_absolute_deviations = absolute_deviations.reduce(ee.Reducer.sum())\n",
    "\n",
    "# # Calculate the total annual precipitation.\n",
    "# total_annual_precipitation = imageCollection.reduce(ee.Reducer.sum())\n",
    "\n",
    "# # Calculate the SI index.\n",
    "# si_index = sum_absolute_deviations.divide(total_annual_precipitation)\n",
    "\n",
    "# # The result is an image where each pixel value is the SI index.\n",
    "# print(si_index.getInfo())\n",
    "\n",
    "\n",
    "\n",
    "# wd = prec.subtract(100)\n",
    "# print(terraclim.select(1).bandNames().getInfo())\n",
    "\n",
    "# MCWD Function\n",
    "\n",
    "# for i in range(1, wd.size()):\n",
    "#     wdn = wd.select(i)\n",
    "#     wdn1 = wd[i-1] if i > 0 else 0\n",
    "#     if i == 0:\n",
    "#         wd.select(i) = 0 if wdn > 0 else wdn\n",
    "#     else:\n",
    "#         cwd = wdn1 + wdn\n",
    "#         wd.select(i) = cwd if cwd < 0 else 0\n",
    "\n",
    "\n",
    "# # Applying the Function\n",
    "# # Assuming 'wd' is a numpy array\n",
    "# cwd = wd.map()\n",
    "\n",
    "# # Determining the Annual MCDW\n",
    "# ano = 2006 # Start Year of the Temporal Series\n",
    "# for i in range(0, 132, 12): # Replace 132 by the Total Months of the Time Series\n",
    "#     cwd_a = cwd[i:(i+12)]\n",
    "#     mcwd_a = np.min(cwd_a)"
   ]
  },
  {
   "cell_type": "markdown",
   "metadata": {
    "id": "7f5Xf6aEthTJ"
   },
   "source": [
    "## Export"
   ]
  },
  {
   "cell_type": "code",
   "execution_count": null,
   "metadata": {
    "colab": {
     "base_uri": "https://localhost:8080/",
     "height": 17
    },
    "id": "duBKVyp4ZX8M",
    "outputId": "b1af62c1-c441-404d-c02f-68c689a34393"
   },
   "outputs": [
    {
     "data": {
      "text/html": [
       "\n",
       "            <style>\n",
       "                .geemap-dark {\n",
       "                    --jp-widgets-color: white;\n",
       "                    --jp-widgets-label-color: white;\n",
       "                    --jp-ui-font-color1: white;\n",
       "                    --jp-layout-color2: #454545;\n",
       "                    background-color: #383838;\n",
       "                }\n",
       "                    \n",
       "                .geemap-dark .jupyter-button {\n",
       "                    --jp-layout-color3: #383838;\n",
       "                }\n",
       "                \n",
       "                .geemap-colab {\n",
       "                    background-color: var(--colab-primary-surface-color, white);\n",
       "                }\n",
       "                    \n",
       "                .geemap-colab .jupyter-button {\n",
       "                    --jp-layout-color3: var(--colab-primary-surface-color, white);\n",
       "                }\n",
       "            </style>\n",
       "            "
      ],
      "text/plain": [
       "<IPython.core.display.HTML object>"
      ]
     },
     "metadata": {},
     "output_type": "display_data"
    }
   ],
   "source": [
    "# cwd = ee.Image('projects/ee-ana-zonia/assets/cwd_chave').rename('cwd')\n",
    "# proj = age.projection().getInfo()\n",
    "\n",
    "#img_export.append(cwd)\n",
    "# Add the 'ECO_ID' property of ecoregions as a new band in the 'age' image.\n",
    "# img_export = [biomass, cwd, num_fires, last_LU, ecoregions_img]  #indig_land_img, mature_biomass, last_fire,\n",
    "\n",
    "img_export = age.addBands(biomass).updateMask(age)\n",
    "\n",
    "img_export = img_export.sample(scale = 30, numPixels = 150000)\n",
    "\n",
    "# empty = ee.Image().byte()\n",
    "# age_viz = empty.paint(img_export, 'age')\n",
    "# agbd_viz = empty.paint(img_export, 'agbd')\n",
    "\n",
    "task = ee.batch.Export.table.toAsset(img_export,\n",
    "    description='img_export',\n",
    "    assetId='projects/ee-ana-zonia/assets/img_export')\n",
    "\n",
    "task.start()\n",
    "\n",
    "\n",
    "# sampled_points = ecoregions.map(lambda feature: ee.FeatureCollection.randomPoints(feature.geometry(), 10000))\n",
    "# # Flatten the result to get a single FeatureCollection.\n",
    "# sampled_points = sampled_points.flatten()\n",
    "# # Convert the FeatureCollection to an image.\n",
    "# sampled_points = age2.paint(sampled_points).mask()\n",
    "# img2 = img.updateMask(sampled_points).float()\n",
    "\n",
    "# img_export = img_export.clip(plot_region)\n",
    "# agbd_viz = img_export.select('agbd')\n",
    "# age_viz = img_export.select('age')\n",
    "\n",
    "# img_export = img_export.filterBounds(plot_region)\n",
    "# empty = ee.Image().byte()\n",
    "# age_viz = empty.paint(img_export, 'age')\n",
    "# agbd_viz = empty.paint(img_export, 'agbd')\n",
    "\n",
    "# Map.addLayer(age_viz, {'min':0, 'max':35, 'palette':['blue', 'red']}, 'ages')\n",
    "# vizpar = {'min': 1, 'max': 415, 'palette': ['blue', 'red']}  # Blue for 0, Red for 1\n",
    "# Map.addLayer(agbd_viz, vizpar, \"biomass\")\n",
    "# Map"
   ]
  },
  {
   "cell_type": "code",
   "execution_count": null,
   "metadata": {
    "colab": {
     "base_uri": "https://localhost:8080/",
     "height": 17
    },
    "id": "lJtMbS3YyTXe",
    "outputId": "3f572120-8d08-4984-d7c2-ea4822afc2e4"
   },
   "outputs": [
    {
     "data": {
      "text/html": [
       "\n",
       "            <style>\n",
       "                .geemap-dark {\n",
       "                    --jp-widgets-color: white;\n",
       "                    --jp-widgets-label-color: white;\n",
       "                    --jp-ui-font-color1: white;\n",
       "                    --jp-layout-color2: #454545;\n",
       "                    background-color: #383838;\n",
       "                }\n",
       "                    \n",
       "                .geemap-dark .jupyter-button {\n",
       "                    --jp-layout-color3: #383838;\n",
       "                }\n",
       "                \n",
       "                .geemap-colab {\n",
       "                    background-color: var(--colab-primary-surface-color, white);\n",
       "                }\n",
       "                    \n",
       "                .geemap-colab .jupyter-button {\n",
       "                    --jp-layout-color3: var(--colab-primary-surface-color, white);\n",
       "                }\n",
       "            </style>\n",
       "            "
      ],
      "text/plain": [
       "<IPython.core.display.HTML object>"
      ]
     },
     "metadata": {},
     "output_type": "display_data"
    }
   ],
   "source": [
    "task = ee.batch.Export.table.toDrive(\n",
    "    collection=img_export,\n",
    "    description='export_subsample',\n",
    "    folder='drive_export',\n",
    "    fileFormat='CSV')\n",
    "task.start()"
   ]
  },
  {
   "cell_type": "code",
   "execution_count": null,
   "metadata": {
    "colab": {
     "base_uri": "https://localhost:8080/",
     "height": 17
    },
    "id": "RCJfA-1htiiw",
    "outputId": "804bc767-a6cd-4136-f062-ab2b89775c28"
   },
   "outputs": [
    {
     "data": {
      "text/html": [
       "\n",
       "            <style>\n",
       "                .geemap-dark {\n",
       "                    --jp-widgets-color: white;\n",
       "                    --jp-widgets-label-color: white;\n",
       "                    --jp-ui-font-color1: white;\n",
       "                    --jp-layout-color2: #454545;\n",
       "                    background-color: #383838;\n",
       "                }\n",
       "                    \n",
       "                .geemap-dark .jupyter-button {\n",
       "                    --jp-layout-color3: #383838;\n",
       "                }\n",
       "                \n",
       "                .geemap-colab {\n",
       "                    background-color: var(--colab-primary-surface-color, white);\n",
       "                }\n",
       "                    \n",
       "                .geemap-colab .jupyter-button {\n",
       "                    --jp-layout-color3: var(--colab-primary-surface-color, white);\n",
       "                }\n",
       "            </style>\n",
       "            "
      ],
      "text/plain": [
       "<IPython.core.display.HTML object>"
      ]
     },
     "metadata": {},
     "output_type": "display_data"
    }
   ],
   "source": [
    "proj = age.projection().getInfo()\n",
    "task = ee.batch.Export.image.toDrive(\n",
    "        image=img,\n",
    "        description=f\"img_export_sampled\",\n",
    "        folder=\"drive_export\",\n",
    "        region=roi,\n",
    "        crs=proj[\"crs\"],\n",
    "        crsTransform=proj[\"transform\"],\n",
    "        skipEmptyTiles = True,\n",
    "        maxPixels=4e10\n",
    "    )\n",
    "task.start()"
   ]
  }
 ],
 "metadata": {
  "colab": {
   "provenance": []
  },
  "kernelspec": {
   "display_name": "Python 3 (ipykernel)",
   "language": "python",
   "name": "python3"
  },
  "language_info": {
   "codemirror_mode": {
    "name": "ipython",
    "version": 3
   },
   "file_extension": ".py",
   "mimetype": "text/x-python",
   "name": "python",
   "nbconvert_exporter": "python",
   "pygments_lexer": "ipython3",
   "version": "3.11.5"
  }
 },
 "nbformat": 4,
 "nbformat_minor": 4
}
