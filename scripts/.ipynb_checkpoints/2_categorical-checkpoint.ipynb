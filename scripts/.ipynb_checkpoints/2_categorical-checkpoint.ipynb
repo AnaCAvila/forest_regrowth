{
 "cells": [
  {
   "cell_type": "code",
   "execution_count": 1,
   "id": "0736b659-ad92-47a3-9942-03433bba8fff",
   "metadata": {},
   "outputs": [],
   "source": [
    "import ee\n",
    "import geemap\n",
    "\n",
    "# Authenticate to Earth Engine\n",
    "try:\n",
    "  ee.Initialize()\n",
    "except Exception as e:\n",
    "  ee.Authenticate()\n",
    "  ee.Initialize(project='ee-ana-zonia')\n",
    "\n",
    "from utils import import_roi\n",
    "from utils import export_image_as_grid\n",
    "\n",
    "roi = import_roi('br_amazon')"
   ]
  },
  {
   "cell_type": "markdown",
   "id": "732540fb-8c7e-4d1a-b0b4-dde2d564ce90",
   "metadata": {
    "id": "dDZeM0WiqXHT"
   },
   "source": [
    "## Categorical Variables\n",
    "Indigenous land, ecoregion, and soil type."
   ]
  },
  {
   "cell_type": "code",
   "execution_count": 2,
   "id": "c3499feb-342b-49de-9280-dcf355e665de",
   "metadata": {
    "colab": {
     "base_uri": "https://localhost:8080/",
     "height": 17
    },
    "id": "Awk9nNDkqVQQ",
    "outputId": "a176e4db-968d-4d59-b46e-2b6ace635c09"
   },
   "outputs": [
    {
     "data": {
      "text/html": [
       "\n",
       "            <style>\n",
       "                .geemap-dark {\n",
       "                    --jp-widgets-color: white;\n",
       "                    --jp-widgets-label-color: white;\n",
       "                    --jp-ui-font-color1: white;\n",
       "                    --jp-layout-color2: #454545;\n",
       "                    background-color: #383838;\n",
       "                }\n",
       "                    \n",
       "                .geemap-dark .jupyter-button {\n",
       "                    --jp-layout-color3: #383838;\n",
       "                }\n",
       "                \n",
       "                .geemap-colab {\n",
       "                    background-color: var(--colab-primary-surface-color, white);\n",
       "                }\n",
       "                    \n",
       "                .geemap-colab .jupyter-button {\n",
       "                    --jp-layout-color3: var(--colab-primary-surface-color, white);\n",
       "                }\n",
       "            </style>\n",
       "            "
      ],
      "text/plain": [
       "<IPython.core.display.HTML object>"
      ]
     },
     "metadata": {},
     "output_type": "display_data"
    }
   ],
   "source": [
    "'''\n",
    "## Categorical Variables\n",
    "\n",
    "Intakes:\n",
    "    Indigenous land -> \n",
    "    Ecoregion ->\n",
    "    Protected areas ->\n",
    "    Soil type ->\n",
    "    \n",
    "Exports:\n",
    "images with binary masks for protected areas and indigenous land, or byte values for ecoregion and soil type.\n",
    "'''\n",
    "\n",
    "# Soil categories are strings, which Image objects can't handle, and ecoregion categories are large integers.\n",
    "# To transform the feature collection into an image, we convert the categories to bytes by creating a dictionary.\n",
    "\n",
    "'''\n",
    "fc_address -> GEE path to the feature collection\n",
    "column_name -> column that designates the value of the feature we want to extract (in this case, the ID)\n",
    "newname -> band name for the new image\n",
    "'''\n",
    "def categorical_convert(fc_address, column_name, newname):\n",
    "    # import feature collection and crop it to region of interest\n",
    "    fc = ee.FeatureCollection(fc_address).filterBounds(roi) \\\n",
    "                .map(lambda feature: feature.intersection(roi))\n",
    "    # create array with unique categories in the feature collection\n",
    "    unique_category = fc.select([column_name]).aggregate_array(column_name).distinct()\n",
    "    # assign numbers starting from 1 to each category\n",
    "    category_dict = ee.Dictionary.fromLists(unique_category, ee.List.sequence(1, unique_category.length()))\n",
    "    # reassign original category values to new values from dictionary (1 to total number of categories)\n",
    "    converted_fc = fc.remap(unique_category, category_dict.values(), column_name)\n",
    "    # return image with new values in byte type to facilitate exporting\n",
    "    return converted_fc.reduceToImage([column_name], ee.Reducer.first()).byte().rename(newname)"
   ]
  },
  {
   "cell_type": "code",
   "execution_count": 11,
   "id": "401d250b-2cd9-4fba-9dd4-7cf460c856a6",
   "metadata": {},
   "outputs": [
    {
     "data": {
      "text/html": [
       "\n",
       "            <style>\n",
       "                .geemap-dark {\n",
       "                    --jp-widgets-color: white;\n",
       "                    --jp-widgets-label-color: white;\n",
       "                    --jp-ui-font-color1: white;\n",
       "                    --jp-layout-color2: #454545;\n",
       "                    background-color: #383838;\n",
       "                }\n",
       "                    \n",
       "                .geemap-dark .jupyter-button {\n",
       "                    --jp-layout-color3: #383838;\n",
       "                }\n",
       "                \n",
       "                .geemap-colab {\n",
       "                    background-color: var(--colab-primary-surface-color, white);\n",
       "                }\n",
       "                    \n",
       "                .geemap-colab .jupyter-button {\n",
       "                    --jp-layout-color3: var(--colab-primary-surface-color, white);\n",
       "                }\n",
       "            </style>\n",
       "            "
      ],
      "text/plain": [
       "<IPython.core.display.HTML object>"
      ]
     },
     "metadata": {},
     "output_type": "display_data"
    }
   ],
   "source": [
    "ecoregions = (ee.FeatureCollection(\"RESOLVE/ECOREGIONS/2017\").filterBounds(roi)\n",
    "                .map(lambda feature: feature.intersection(roi)))\n",
    "ecoregions_img = ecoregions.reduceToImage(['ECO_ID'], ee.Reducer.first()).rename('ecoreg')\n",
    "\n",
    "soil_img = categorical_convert(\"projects/ee-ana-zonia/assets/DSMW\", \"DOMSOI\", 'soil')\n",
    "\n",
    "indig_land = ee.FeatureCollection(\"projects/ee-ana-zonia/assets/indig_land\").filterBounds(roi)\n",
    "indig_land_img = ee.Image().paint(indig_land, 1).rename(\"indig\").byte()\n",
    "\n",
    "protec = ee.FeatureCollection(\"projects/ee-ana-zonia/assets/unc_2021\").filterBounds(roi)\n",
    "protec_img = ee.Image().paint(protec, 1).rename(\"protec\").byte()\n",
    "\n",
    "# cat_var = ecoregions_img.addBands([soil_img, indig_land_img, protec_img])\n",
    "\n",
    "# export_image_as_grid(cat_var, 'cat_var', 'br_amazon')"
   ]
  },
  {
   "cell_type": "code",
   "execution_count": 12,
   "id": "568d2703-d784-49c1-a8fc-e66b0d49e4b0",
   "metadata": {},
   "outputs": [
    {
     "data": {
      "text/html": [
       "\n",
       "            <style>\n",
       "                .geemap-dark {\n",
       "                    --jp-widgets-color: white;\n",
       "                    --jp-widgets-label-color: white;\n",
       "                    --jp-ui-font-color1: white;\n",
       "                    --jp-layout-color2: #454545;\n",
       "                    background-color: #383838;\n",
       "                }\n",
       "                    \n",
       "                .geemap-dark .jupyter-button {\n",
       "                    --jp-layout-color3: #383838;\n",
       "                }\n",
       "                \n",
       "                .geemap-colab {\n",
       "                    background-color: var(--colab-primary-surface-color, white);\n",
       "                }\n",
       "                    \n",
       "                .geemap-colab .jupyter-button {\n",
       "                    --jp-layout-color3: var(--colab-primary-surface-color, white);\n",
       "                }\n",
       "            </style>\n",
       "            "
      ],
      "text/plain": [
       "<IPython.core.display.HTML object>"
      ]
     },
     "metadata": {},
     "output_type": "display_data"
    }
   ],
   "source": [
    "# Define the export parameters\n",
    "export_params = {\n",
    "    'image': ecoregions_img,\n",
    "    'description': 'ecoregions_img',\n",
    "    'assetId': 'projects/ee-ana-zonia/assets/ecoreg',\n",
    "    'scale': 1000,\n",
    "    'crs': 'EPSG:4326',\n",
    "    'region': roi\n",
    "}\n",
    "\n",
    "# Create the export task\n",
    "task = ee.batch.Export.image.toAsset(**export_params)\n",
    "\n",
    "# Start the export task\n",
    "task.start()"
   ]
  }
 ],
 "metadata": {
  "kernelspec": {
   "display_name": "Python 3 (ipykernel)",
   "language": "python",
   "name": "python3"
  },
  "language_info": {
   "codemirror_mode": {
    "name": "ipython",
    "version": 3
   },
   "file_extension": ".py",
   "mimetype": "text/x-python",
   "name": "python",
   "nbconvert_exporter": "python",
   "pygments_lexer": "ipython3",
   "version": "3.11.5"
  }
 },
 "nbformat": 4,
 "nbformat_minor": 5
}
