{
 "cells": [
  {
   "cell_type": "code",
   "execution_count": 187,
   "id": "06daa541-4195-4a5e-895f-b520ffa5c523",
   "metadata": {},
   "outputs": [
    {
     "data": {
      "text/html": [
       "\n",
       "            <style>\n",
       "                .geemap-dark {\n",
       "                    --jp-widgets-color: white;\n",
       "                    --jp-widgets-label-color: white;\n",
       "                    --jp-ui-font-color1: white;\n",
       "                    --jp-layout-color2: #454545;\n",
       "                    background-color: #383838;\n",
       "                }\n",
       "                    \n",
       "                .geemap-dark .jupyter-button {\n",
       "                    --jp-layout-color3: #383838;\n",
       "                }\n",
       "                \n",
       "                .geemap-colab {\n",
       "                    background-color: var(--colab-primary-surface-color, white);\n",
       "                }\n",
       "                    \n",
       "                .geemap-colab .jupyter-button {\n",
       "                    --jp-layout-color3: var(--colab-primary-surface-color, white);\n",
       "                }\n",
       "            </style>\n",
       "            "
      ],
      "text/plain": [
       "<IPython.core.display.HTML object>"
      ]
     },
     "metadata": {},
     "output_type": "display_data"
    }
   ],
   "source": [
    "import ee\n",
    "import geemap\n",
    "\n",
    "# Authenticate to Earth Engine\n",
    "try:\n",
    "  ee.Initialize()\n",
    "except Exception as e:\n",
    "  ee.Authenticate()\n",
    "  ee.Initialize(project='ee-ana-zonia')\n",
    "\n",
    "from utils import export_image\n",
    "from utils import map_image\n",
    "\n",
    "roi = ee.FeatureCollection(\"projects/ee-ana-zonia/assets/br_biomes\").geometry().dissolve()\n",
    "\n",
    "months = ee.List.sequence(1, 12)\n",
    "years = ee.List.sequence(1985, 2019)\n",
    "\n",
    "# mature_mask = ee.Image(\"projects/ee-ana-zonia/assets/mature_mask\").clip(roi)\n",
    "ecoregions = (ee.FeatureCollection(\"RESOLVE/ECOREGIONS/2017\").filterBounds(roi)\n",
    "                .map(lambda feature: feature.intersection(roi)))"
   ]
  },
  {
   "cell_type": "markdown",
   "id": "901f886b-a2c7-438b-91aa-82cf72212258",
   "metadata": {
    "id": "WS0xSMYLdJp8"
   },
   "source": [
    "### MODIS\n",
    "\n",
    "Calculate mean AET from MODIS and calculate CWD from the precipitation values as in Celso\n",
    "\n",
    "Since MODIS only goes back to 2000, for now we are stuck with a fixed value for ET\n"
   ]
  },
  {
   "cell_type": "code",
   "execution_count": 160,
   "id": "b8bdfdba-75f7-453c-b361-0ee904f3fa63",
   "metadata": {
    "colab": {
     "base_uri": "https://localhost:8080/",
     "height": 17
    },
    "id": "FpDIKBQNAsdq",
    "outputId": "41bd5088-d521-4492-ae87-ce706e3ee93a"
   },
   "outputs": [
    {
     "data": {
      "text/html": [
       "\n",
       "            <style>\n",
       "                .geemap-dark {\n",
       "                    --jp-widgets-color: white;\n",
       "                    --jp-widgets-label-color: white;\n",
       "                    --jp-ui-font-color1: white;\n",
       "                    --jp-layout-color2: #454545;\n",
       "                    background-color: #383838;\n",
       "                }\n",
       "                    \n",
       "                .geemap-dark .jupyter-button {\n",
       "                    --jp-layout-color3: #383838;\n",
       "                }\n",
       "                \n",
       "                .geemap-colab {\n",
       "                    background-color: var(--colab-primary-surface-color, white);\n",
       "                }\n",
       "                    \n",
       "                .geemap-colab .jupyter-button {\n",
       "                    --jp-layout-color3: var(--colab-primary-surface-color, white);\n",
       "                }\n",
       "            </style>\n",
       "            "
      ],
      "text/plain": [
       "<IPython.core.display.HTML object>"
      ]
     },
     "metadata": {},
     "output_type": "display_data"
    }
   ],
   "source": [
    "# Function to calculate mean AET and add year property\n",
    "# select for mature forests since the values can be put off by deforestation (causes lower ET)\n",
    "\n",
    "start = \"2002-01-01\"\n",
    "end = \"2019-12-31\"\n",
    "\n",
    "modis = ee.ImageCollection(\"MODIS/061/MOD16A2GF\") \\\n",
    "         .filterDate(start, end) \\\n",
    "         .select('ET', 'ET_QC').map(lambda image : image.clip(roi)) \\\n",
    "              .map(lambda image: image.reduceResolution(ee.Reducer.median(), bestEffort=True, maxPixels=1024) \\\n",
    "                                       .reproject(crs='EPSG:4326', scale=10000))"
   ]
  },
  {
   "cell_type": "code",
   "execution_count": 117,
   "id": "ca9ebdcd-7b3b-4de7-8b3b-28cba0abe05b",
   "metadata": {},
   "outputs": [
    {
     "data": {
      "text/html": [
       "\n",
       "            <style>\n",
       "                .geemap-dark {\n",
       "                    --jp-widgets-color: white;\n",
       "                    --jp-widgets-label-color: white;\n",
       "                    --jp-ui-font-color1: white;\n",
       "                    --jp-layout-color2: #454545;\n",
       "                    background-color: #383838;\n",
       "                }\n",
       "                    \n",
       "                .geemap-dark .jupyter-button {\n",
       "                    --jp-layout-color3: #383838;\n",
       "                }\n",
       "                \n",
       "                .geemap-colab {\n",
       "                    background-color: var(--colab-primary-surface-color, white);\n",
       "                }\n",
       "                    \n",
       "                .geemap-colab .jupyter-button {\n",
       "                    --jp-layout-color3: var(--colab-primary-surface-color, white);\n",
       "                }\n",
       "            </style>\n",
       "            "
      ],
      "text/plain": [
       "<IPython.core.display.HTML object>"
      ]
     },
     "metadata": {},
     "output_type": "display_data"
    }
   ],
   "source": [
    "# code sourced from https://spatialthoughts.com/2021/08/19/qa-bands-bitmasks-gee/\n",
    "def bitwise_extract(input, from_bit, to_bit):\n",
    "   mask_size = ee.Number(1).add(to_bit).subtract(from_bit)\n",
    "   mask = ee.Number(1).leftShift(mask_size).subtract(1)\n",
    "   return input.rightShift(from_bit).bitwiseAnd(mask)\n",
    "\n",
    "def apply_QA_mask (image):\n",
    "    QA = image.select('ET_QC')\n",
    "    ET = image.select('ET').multiply(0.0125)  # multiply by the scale 0.1, divide by 8 to get daily info\n",
    "    cloud_mask = bitwise_extract(QA, 3, 4).lte(0)\n",
    "    qa_mask = bitwise_extract(QA, 5, 7).lte(1)\n",
    "    mask = cloud_mask.And(qa_mask)\n",
    "    return ET.updateMask(mask).set('system:time_start', image.get('system:time_start'))\n",
    "\n",
    "# mask quality of pixels\n",
    "modis_masked = modis.map(apply_QA_mask).map(lambda image:image.updateMask(mature_mask))\n",
    "\n",
    "# Loop through the months and filter images\n",
    "def monthly_et(month):\n",
    "    eight_day_images = modis_masked.select('ET').filter(ee.Filter.calendarRange(month, month, 'month'))\n",
    "    month_et = eight_day_images.median().multiply(30).reduceRegions(ecoregions, \\\n",
    "                                                                      reducer = ee.Reducer.median(), scale = 10000)\n",
    "    month_et = month_et.reduceToImage(['month_et'], ee.Reducer.first())\n",
    "    return month_et.set('month', month)\n",
    "\n",
    "monthly_et_imgcol = ee.ImageCollection.fromImages(months.map(monthly_et))\n",
    "\n",
    "yearlist = range(2002, 2019) # Generate a list of years from 1985 to 2019\n",
    "monthlist = range(1, 12)\n",
    "new_band_names = []\n",
    "for year in yearlist:\n",
    "    for month in monthlist:\n",
    "        new_band_names = [f'mcwd_{month}_{year}']\n",
    "monthly_et_img = monthly_et_imgcol.toBands().rename(new_band_names)"
   ]
  },
  {
   "cell_type": "markdown",
   "id": "6a7c1cd4-3269-43eb-bac3-0699320107df",
   "metadata": {},
   "source": [
    "### Terraclim and seasonality\n",
    "\n",
    "Bring temperature and precipitation and calculate seasonality"
   ]
  },
  {
   "cell_type": "code",
   "execution_count": 197,
   "id": "9c416d85-0b1a-4da3-9f28-d498990b0860",
   "metadata": {
    "colab": {
     "base_uri": "https://localhost:8080/",
     "height": 17
    },
    "id": "cxW0T6D7uEbA",
    "outputId": "2b0937e4-cd42-4cbd-be70-938a32cfaea6"
   },
   "outputs": [
    {
     "data": {
      "text/html": [
       "\n",
       "            <style>\n",
       "                .geemap-dark {\n",
       "                    --jp-widgets-color: white;\n",
       "                    --jp-widgets-label-color: white;\n",
       "                    --jp-ui-font-color1: white;\n",
       "                    --jp-layout-color2: #454545;\n",
       "                    background-color: #383838;\n",
       "                }\n",
       "                    \n",
       "                .geemap-dark .jupyter-button {\n",
       "                    --jp-layout-color3: #383838;\n",
       "                }\n",
       "                \n",
       "                .geemap-colab {\n",
       "                    background-color: var(--colab-primary-surface-color, white);\n",
       "                }\n",
       "                    \n",
       "                .geemap-colab .jupyter-button {\n",
       "                    --jp-layout-color3: var(--colab-primary-surface-color, white);\n",
       "                }\n",
       "            </style>\n",
       "            "
      ],
      "text/plain": [
       "<IPython.core.display.HTML object>"
      ]
     },
     "metadata": {},
     "output_type": "display_data"
    }
   ],
   "source": [
    "terraclim = ee.ImageCollection('IDAHO_EPSCOR/TERRACLIMATE') \\\n",
    "              .filterDate('1985-01-01', '2019-12-31') \\\n",
    "              .map(lambda image : image.clip(roi)) \\\n",
    "              .map(lambda image: image.reduceResolution(ee.Reducer.median(), bestEffort=True, maxPixels=1024) \\\n",
    "                                       .reproject(crs='EPSG:4326', scale=10000))\n",
    "\n",
    "maxtemp = terraclim.select('tmmx').map(lambda image: image.multiply(0.1))\n",
    "mintemp = terraclim.select('tmmn').map(lambda image: image.multiply(0.1))\n",
    "radiation = terraclim.select('srad').map(lambda image: image.multiply(0.1))\n",
    "prec = terraclim.select('pr')"
   ]
  },
  {
   "cell_type": "code",
   "execution_count": 182,
   "id": "07820bed-1135-492b-9c17-0ae2b5273ec4",
   "metadata": {},
   "outputs": [
    {
     "data": {
      "text/html": [
       "\n",
       "            <style>\n",
       "                .geemap-dark {\n",
       "                    --jp-widgets-color: white;\n",
       "                    --jp-widgets-label-color: white;\n",
       "                    --jp-ui-font-color1: white;\n",
       "                    --jp-layout-color2: #454545;\n",
       "                    background-color: #383838;\n",
       "                }\n",
       "                    \n",
       "                .geemap-dark .jupyter-button {\n",
       "                    --jp-layout-color3: #383838;\n",
       "                }\n",
       "                \n",
       "                .geemap-colab {\n",
       "                    background-color: var(--colab-primary-surface-color, white);\n",
       "                }\n",
       "                    \n",
       "                .geemap-colab .jupyter-button {\n",
       "                    --jp-layout-color3: var(--colab-primary-surface-color, white);\n",
       "                }\n",
       "            </style>\n",
       "            "
      ],
      "text/plain": [
       "<IPython.core.display.HTML object>"
      ]
     },
     "metadata": {},
     "output_type": "display_data"
    }
   ],
   "source": [
    "\n",
    "\n",
    "def cwd_monthly(current_image, previous_dict):\n",
    "    current_image = ee.Image(current_image)\n",
    "    previous_dict = ee.Dictionary(previous_dict)\n",
    "    previous_image = ee.Image(previous_dict.get('result_image'))\n",
    "    result_image = previous_image.add(current_image).subtract(100)\n",
    "    result_image = result_image.where(result_image.gt(0), 0) \\\n",
    "                                   .set('system:time_start', current_image.get('system:time_start'))\n",
    "    return ee.Dictionary({\n",
    "        'result_image': ee.Image(result_image).toFloat(),\n",
    "        'cwd_list': ee.List(previous_dict.get('cwd_list')).add(result_image)})\n",
    "\n",
    "# Use iterate to apply the function to each image\n",
    "cwd_dict = ee.Dictionary(prec.iterate(cwd_monthly, ee.Dictionary({'result_image': ee.Image(0).toFloat(),\n",
    "                                                               'cwd_list': ee.List([])})))\n",
    "cwd_list = ee.List(cwd_dict.get('cwd_list'))\n",
    "# cwd_list = cwd_list.map(lambda image: image.toFloat())\n",
    "\n",
    "def mcwd_yearly(year):\n",
    "    # Calculate the start and end indices for the current year\n",
    "    start = ee.Number(year).subtract(1985).multiply(12)\n",
    "    end = start.add(12)\n",
    "    # Slice the list to get the images for the current year\n",
    "    yr = ee.List(cwd_list).slice(start, end)\n",
    "    cwd_a = ee.ImageCollection.fromImages(yr)\n",
    "    mcwd_a = cwd_a.reduce(ee.Reducer.min())\n",
    "    return mcwd_a.set('year', year)\n",
    "\n",
    "# Map the function over the range\n",
    "yearly_mcwd_img = ee.ImageCollection.fromImages(years.map(mcwd_yearly)).toBands()\n",
    "\n",
    "yearlist = range(1985, 2020) # Generate a list of years from 1985 to 2019\n",
    "new_band_names = ['mcwd_{}'.format(year) for year in yearlist] # Append 'si_' to each year\n",
    "yearly_mcwd_img = yearly_mcwd_img.rename(new_band_names)\n"
   ]
  },
  {
   "cell_type": "code",
   "execution_count": 179,
   "id": "eb354e92-f915-486e-aafa-d5cf12f8a71c",
   "metadata": {},
   "outputs": [
    {
     "data": {
      "text/html": [
       "\n",
       "            <style>\n",
       "                .geemap-dark {\n",
       "                    --jp-widgets-color: white;\n",
       "                    --jp-widgets-label-color: white;\n",
       "                    --jp-ui-font-color1: white;\n",
       "                    --jp-layout-color2: #454545;\n",
       "                    background-color: #383838;\n",
       "                }\n",
       "                    \n",
       "                .geemap-dark .jupyter-button {\n",
       "                    --jp-layout-color3: #383838;\n",
       "                }\n",
       "                \n",
       "                .geemap-colab {\n",
       "                    background-color: var(--colab-primary-surface-color, white);\n",
       "                }\n",
       "                    \n",
       "                .geemap-colab .jupyter-button {\n",
       "                    --jp-layout-color3: var(--colab-primary-surface-color, white);\n",
       "                }\n",
       "            </style>\n",
       "            "
      ],
      "text/plain": [
       "<IPython.core.display.HTML object>"
      ]
     },
     "metadata": {},
     "output_type": "display_data"
    },
    {
     "data": {
      "application/vnd.jupyter.widget-view+json": {
       "model_id": "b27195cd50ba4801bbca54913ca24c93",
       "version_major": 2,
       "version_minor": 0
      },
      "text/plain": [
       "Map(center=[-10.620466491933243, -53.18363392270694], controls=(WidgetControl(options=['position', 'transparen…"
      ]
     },
     "execution_count": 179,
     "metadata": {},
     "output_type": "execute_result"
    }
   ],
   "source": [
    "dataset = ee.ImageCollection('IDAHO_EPSCOR/TERRACLIMATE').select('pr')\n",
    "# .filter(ee.Filter.calendarRange(2007, 2007, 'year')\n",
    "# ).reduce(ee.Reducer.mean())\n",
    "\n",
    "vis = {\n",
    "    'min': -100,\n",
    "    'max': 300,\n",
    "    'palette': [\n",
    "        '1a3678',\n",
    "        '2955bc',\n",
    "        '5699ff',\n",
    "        '8dbae9',\n",
    "        'acd1ff',\n",
    "        'caebff',\n",
    "        'e5f9ff',\n",
    "        'fdffb4',\n",
    "        'ffe6a2',\n",
    "        'ffc969',\n",
    "        'ffa12d',\n",
    "        'ff7c1f',\n",
    "        'ca531a',\n",
    "        'ff0000',\n",
    "        'ab0000',\n",
    "    ],\n",
    "}\n",
    "\n",
    "\n",
    "mean_prec = prec.reduce(ee.Reducer.mean())\n",
    "sd_prec = prec.reduce(ee.Reducer.stdDev())\n",
    "\n",
    "# def prec_anomaly(month_prec):\n",
    "#     anom = month_prec.subtract(mean_prec).divide(sd_prec)\n",
    "#     drought_mask = anom.lt(0)\n",
    "#     return anom.updateMask(drought_mask)\n",
    "\n",
    "# monthly_anom = prec.map(prec_anomaly)\n",
    "\n",
    "# def anom_yearly(year):\n",
    "#     # get anomaly of the driest month of the year\n",
    "#     anom_year = monthly_anom.filter(ee.Filter.calendarRange(year, year, 'year')).reduce(ee.Reducer.min())\n",
    "#     return anom_year.set('year', year)\n",
    "\n",
    "# yearly_anom = ee.ImageCollection.fromImages(years.map(anom_yearly)).toBands()\n",
    "\n",
    "# new_band_names = ['yearly_anom_{}'.format(year) for year in yearlist]\n",
    "# yearly_anom = yearly_anom.rename(new_band_names)\n",
    "\n",
    "\n",
    "anom = prec.first().subtract(mean_prec).divide(sd_prec)\n",
    "# drought_mask = anom.lt(0)\n",
    "plot = anom.updateMask(drought_mask)\n",
    "\n",
    "\n",
    "m = geemap.Map()\n",
    "m.center_object(roi, 4)\n",
    "m.add_layer(\n",
    "    anom, vis, 'Maximum Temperature'\n",
    ")\n",
    "m"
   ]
  },
  {
   "cell_type": "code",
   "execution_count": 152,
   "id": "d0e7d199-e5df-4a08-b459-4482ae0a828e",
   "metadata": {},
   "outputs": [
    {
     "data": {
      "text/html": [
       "\n",
       "            <style>\n",
       "                .geemap-dark {\n",
       "                    --jp-widgets-color: white;\n",
       "                    --jp-widgets-label-color: white;\n",
       "                    --jp-ui-font-color1: white;\n",
       "                    --jp-layout-color2: #454545;\n",
       "                    background-color: #383838;\n",
       "                }\n",
       "                    \n",
       "                .geemap-dark .jupyter-button {\n",
       "                    --jp-layout-color3: #383838;\n",
       "                }\n",
       "                \n",
       "                .geemap-colab {\n",
       "                    background-color: var(--colab-primary-surface-color, white);\n",
       "                }\n",
       "                    \n",
       "                .geemap-colab .jupyter-button {\n",
       "                    --jp-layout-color3: var(--colab-primary-surface-color, white);\n",
       "                }\n",
       "            </style>\n",
       "            "
      ],
      "text/plain": [
       "<IPython.core.display.HTML object>"
      ]
     },
     "metadata": {},
     "output_type": "display_data"
    }
   ],
   "source": [
    "# https://agupubs.onlinelibrary.wiley.com/doi/10.1029/2006GL028946\n",
    "\n",
    "mean_prec = prec.reduce(ee.Reducer.mean())\n",
    "sd_prec = prec.reduce(ee.Reducer.stdDev())\n",
    "\n",
    "def prec_anomaly(month_prec):\n",
    "    anom = month_prec.subtract(mean_prec).divide(sd_prec)\n",
    "    drought_mask = anom.lt(0)\n",
    "    return anom.updateMask(drought_mask)\n",
    "\n",
    "monthly_anom = prec.map(prec_anomaly)\n",
    "\n",
    "def anom_yearly(year):\n",
    "    # get anomaly of the driest month of the year\n",
    "    anom_year = monthly_anom.filter(ee.Filter.calendarRange(year, year, 'year')).reduce(ee.Reducer.min())\n",
    "    return anom_year.set('year', year)\n",
    "\n",
    "yearly_anom = ee.ImageCollection.fromImages(years.map(anom_yearly)).toBands()\n",
    "\n",
    "# new_band_names = ['yearly_anom_{}'.format(year) for year in yearlist]\n",
    "# yearly_anom = yearly_anom.rename(new_band_names)\n",
    "\n",
    "\n"
   ]
  },
  {
   "cell_type": "code",
   "execution_count": 195,
   "id": "3b4fad9e-c719-4259-8b6f-9d648589af48",
   "metadata": {},
   "outputs": [
    {
     "data": {
      "text/html": [
       "\n",
       "            <style>\n",
       "                .geemap-dark {\n",
       "                    --jp-widgets-color: white;\n",
       "                    --jp-widgets-label-color: white;\n",
       "                    --jp-ui-font-color1: white;\n",
       "                    --jp-layout-color2: #454545;\n",
       "                    background-color: #383838;\n",
       "                }\n",
       "                    \n",
       "                .geemap-dark .jupyter-button {\n",
       "                    --jp-layout-color3: #383838;\n",
       "                }\n",
       "                \n",
       "                .geemap-colab {\n",
       "                    background-color: var(--colab-primary-surface-color, white);\n",
       "                }\n",
       "                    \n",
       "                .geemap-colab .jupyter-button {\n",
       "                    --jp-layout-color3: var(--colab-primary-surface-color, white);\n",
       "                }\n",
       "            </style>\n",
       "            "
      ],
      "text/plain": [
       "<IPython.core.display.HTML object>"
      ]
     },
     "metadata": {},
     "output_type": "display_data"
    }
   ],
   "source": [
    "def seasonality_calc(year):\n",
    "    # get mean monthly precipitation for the year\n",
    "    yr_prec = prec.filter(ee.Filter.calendarRange(year, year, 'year'))\n",
    "    mean_prec = yr_prec.reduce(ee.Reducer.mean())\n",
    "    # Calculate absolute deviations of monthly precipitation from mean\n",
    "    deviations = yr_prec.map(lambda month:month.subtract(mean_prec).abs())\n",
    "    # Calculate sum of absolute deviations for each month\n",
    "    sum_deviations = deviations.reduce(ee.Reducer.sum())\n",
    "    # Calculate total annual precipitation\n",
    "    total_annual_prec = yr_prec.reduce(ee.Reducer.sum())\n",
    "    # Calculate Seasonality Index (SI)\n",
    "    seasonality_index = sum_deviations.divide(total_annual_prec)\n",
    "    return seasonality_index\n",
    "\n",
    "tst = years.map(seasonality_calc)\n",
    "yearly_SI = ee.ImageCollection.fromImages(tst)\n",
    "\n",
    "# Convert ImageCollection to single Image\n",
    "yearly_SI_image = yearly_SI.toBands()\n",
    "new_band_names = ['si_{}'.format(year) for year in yearlist] # Append 'si_' to each year\n",
    "yearly_SI_image = yearly_SI_image.rename(new_band_names)"
   ]
  },
  {
   "cell_type": "code",
   "execution_count": 172,
   "id": "0722a989-2a89-4ec5-be13-111178ad747c",
   "metadata": {},
   "outputs": [
    {
     "data": {
      "text/html": [
       "\n",
       "            <style>\n",
       "                .geemap-dark {\n",
       "                    --jp-widgets-color: white;\n",
       "                    --jp-widgets-label-color: white;\n",
       "                    --jp-ui-font-color1: white;\n",
       "                    --jp-layout-color2: #454545;\n",
       "                    background-color: #383838;\n",
       "                }\n",
       "                    \n",
       "                .geemap-dark .jupyter-button {\n",
       "                    --jp-layout-color3: #383838;\n",
       "                }\n",
       "                \n",
       "                .geemap-colab {\n",
       "                    background-color: var(--colab-primary-surface-color, white);\n",
       "                }\n",
       "                    \n",
       "                .geemap-colab .jupyter-button {\n",
       "                    --jp-layout-color3: var(--colab-primary-surface-color, white);\n",
       "                }\n",
       "            </style>\n",
       "            "
      ],
      "text/plain": [
       "<IPython.core.display.HTML object>"
      ]
     },
     "metadata": {},
     "output_type": "display_data"
    }
   ],
   "source": [
    "def meantemp_calc(year):\n",
    "    # Filter both maxtemp and mintemp ImageCollections by year at once\n",
    "    yearly_maxtemp = maxtemp.filter(ee.Filter.calendarRange(year, year, 'year')).reduce(ee.Reducer.mean())\n",
    "    yearly_mintemp = mintemp.filter(ee.Filter.calendarRange(year, year, 'year')).reduce(ee.Reducer.mean())\n",
    "    # Calculate the mean temperature directly\n",
    "    mean_temp = yearly_maxtemp.add(yearly_mintemp).divide(2)\n",
    "    return mean_temp\n",
    "\n",
    "# Map the function over the years\n",
    "mean_temp = ee.ImageCollection.fromImages(years.map(meantemp_calc)).toBands()\n",
    "\n",
    "new_band_names = ['mean_temp_{}'.format(year) for year in yearlist] # Append 'si_' to each year\n",
    "mean_temp = mean_temp.rename(new_band_names)"
   ]
  },
  {
   "cell_type": "code",
   "execution_count": 196,
   "id": "5959e43e-74fd-4c36-9dc9-21ff23b0f63d",
   "metadata": {},
   "outputs": [
    {
     "data": {
      "text/html": [
       "\n",
       "            <style>\n",
       "                .geemap-dark {\n",
       "                    --jp-widgets-color: white;\n",
       "                    --jp-widgets-label-color: white;\n",
       "                    --jp-ui-font-color1: white;\n",
       "                    --jp-layout-color2: #454545;\n",
       "                    background-color: #383838;\n",
       "                }\n",
       "                    \n",
       "                .geemap-dark .jupyter-button {\n",
       "                    --jp-layout-color3: #383838;\n",
       "                }\n",
       "                \n",
       "                .geemap-colab {\n",
       "                    background-color: var(--colab-primary-surface-color, white);\n",
       "                }\n",
       "                    \n",
       "                .geemap-colab .jupyter-button {\n",
       "                    --jp-layout-color3: var(--colab-primary-surface-color, white);\n",
       "                }\n",
       "            </style>\n",
       "            "
      ],
      "text/plain": [
       "<IPython.core.display.HTML object>"
      ]
     },
     "metadata": {},
     "output_type": "display_data"
    }
   ],
   "source": [
    "def mean_yearly(year, imgcol):\n",
    "    mean_year = imgcol.filter(ee.Filter.calendarRange(year, year, 'year')).reduce(ee.Reducer.mean())\n",
    "    return mean_year.set('year', year)\n",
    "\n",
    "mean_prec = ee.ImageCollection.fromImages(years.map(prec_yearly)).toBands()\n",
    "\n",
    "yearlist = range(1985, 2020) # Generate a list of years from 1985 to 2019\n",
    "new_band_names = ['prec_{}'.format(year) for year in yearlist] # Append 'si_' to each year\n",
    "mean_prec = mean_prec.rename(new_band_names)\n"
   ]
  }
 ],
 "metadata": {
  "kernelspec": {
   "display_name": "Python 3 (ipykernel)",
   "language": "python",
   "name": "python3"
  },
  "language_info": {
   "codemirror_mode": {
    "name": "ipython",
    "version": 3
   },
   "file_extension": ".py",
   "mimetype": "text/x-python",
   "name": "python",
   "nbconvert_exporter": "python",
   "pygments_lexer": "ipython3",
   "version": "3.11.5"
  }
 },
 "nbformat": 4,
 "nbformat_minor": 5
}
