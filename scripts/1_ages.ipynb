{
 "cells": [
  {
   "cell_type": "code",
   "execution_count": 5,
   "id": "87cdcdb3-89ea-41b0-92e5-85614fb95717",
   "metadata": {},
   "outputs": [
    {
     "data": {
      "text/html": [
       "\n",
       "            <style>\n",
       "                .geemap-dark {\n",
       "                    --jp-widgets-color: white;\n",
       "                    --jp-widgets-label-color: white;\n",
       "                    --jp-ui-font-color1: white;\n",
       "                    --jp-layout-color2: #454545;\n",
       "                    background-color: #383838;\n",
       "                }\n",
       "                    \n",
       "                .geemap-dark .jupyter-button {\n",
       "                    --jp-layout-color3: #383838;\n",
       "                }\n",
       "                \n",
       "                .geemap-colab {\n",
       "                    background-color: var(--colab-primary-surface-color, white);\n",
       "                }\n",
       "                    \n",
       "                .geemap-colab .jupyter-button {\n",
       "                    --jp-layout-color3: var(--colab-primary-surface-color, white);\n",
       "                }\n",
       "            </style>\n",
       "            "
      ],
      "text/plain": [
       "<IPython.core.display.HTML object>"
      ]
     },
     "metadata": {},
     "output_type": "display_data"
    },
    {
     "ename": "NameError",
     "evalue": "name 'ee' is not defined",
     "output_type": "error",
     "traceback": [
      "\u001b[1;31m---------------------------------------------------------------------------\u001b[0m",
      "\u001b[1;31mNameError\u001b[0m                                 Traceback (most recent call last)",
      "Cell \u001b[1;32mIn[5], line 12\u001b[0m\n\u001b[0;32m      9\u001b[0m   ee\u001b[38;5;241m.\u001b[39mAuthenticate()\n\u001b[0;32m     10\u001b[0m   ee\u001b[38;5;241m.\u001b[39mInitialize(project\u001b[38;5;241m=\u001b[39m\u001b[38;5;124m'\u001b[39m\u001b[38;5;124mee-ana-zonia\u001b[39m\u001b[38;5;124m'\u001b[39m)\n\u001b[1;32m---> 12\u001b[0m \u001b[43mimport_data\u001b[49m\u001b[43m(\u001b[49m\u001b[38;5;124;43m'\u001b[39;49m\u001b[38;5;124;43mbr_amazon\u001b[39;49m\u001b[38;5;124;43m'\u001b[39;49m\u001b[43m)\u001b[49m\n",
      "File \u001b[1;32m~\\Desktop\\forest_regrowth\\scripts\\utils.py:12\u001b[0m, in \u001b[0;36mimport_data\u001b[1;34m(region)\u001b[0m\n\u001b[0;32m     10\u001b[0m \u001b[38;5;28;01mdef\u001b[39;00m \u001b[38;5;21mimport_data\u001b[39m(region):\n\u001b[0;32m     11\u001b[0m     \u001b[38;5;28;01mif\u001b[39;00m region \u001b[38;5;241m==\u001b[39m \u001b[38;5;124m\"\u001b[39m\u001b[38;5;124mbr_amazon\u001b[39m\u001b[38;5;124m\"\u001b[39m:\n\u001b[1;32m---> 12\u001b[0m         roi \u001b[38;5;241m=\u001b[39m \u001b[43mee\u001b[49m\u001b[38;5;241m.\u001b[39mFeatureCollection(\u001b[38;5;124m\"\u001b[39m\u001b[38;5;124mprojects/ee-ana-zonia/assets/br_biomes\u001b[39m\u001b[38;5;124m\"\u001b[39m)\u001b[38;5;241m.\u001b[39mfilter(ee\u001b[38;5;241m.\u001b[39mFilter\u001b[38;5;241m.\u001b[39meq(\u001b[38;5;124m\"\u001b[39m\u001b[38;5;124mid\u001b[39m\u001b[38;5;124m\"\u001b[39m, \u001b[38;5;241m18413\u001b[39m))\u001b[38;5;241m.\u001b[39mgeometry()\n\u001b[0;32m     13\u001b[0m     \u001b[38;5;28;01melif\u001b[39;00m region \u001b[38;5;241m==\u001b[39m \u001b[38;5;124m\"\u001b[39m\u001b[38;5;124mbr\u001b[39m\u001b[38;5;124m\"\u001b[39m:\n\u001b[0;32m     14\u001b[0m         roi \u001b[38;5;241m=\u001b[39m ee\u001b[38;5;241m.\u001b[39mFeatureCollection(\u001b[38;5;124m\"\u001b[39m\u001b[38;5;124mprojects/ee-ana-zonia/assets/br_shapefile\u001b[39m\u001b[38;5;124m\"\u001b[39m)\u001b[38;5;241m.\u001b[39mgeometry()\n",
      "\u001b[1;31mNameError\u001b[0m: name 'ee' is not defined"
     ]
    }
   ],
   "source": [
    "import ee\n",
    "import geemap\n",
    "from utils import import_data\n",
    "\n",
    "# Authenticate to Earth Engine\n",
    "try:\n",
    "  ee.Initialize()\n",
    "except Exception as e:\n",
    "  ee.Authenticate()\n",
    "  ee.Initialize(project='ee-ana-zonia')\n",
    "\n",
    "import_data('br_amazon')"
   ]
  },
  {
   "cell_type": "code",
   "execution_count": 2,
   "id": "af1137df-4f0b-4f3a-8b91-f34924d8dc0d",
   "metadata": {},
   "outputs": [
    {
     "data": {
      "text/html": [
       "\n",
       "            <style>\n",
       "                .geemap-dark {\n",
       "                    --jp-widgets-color: white;\n",
       "                    --jp-widgets-label-color: white;\n",
       "                    --jp-ui-font-color1: white;\n",
       "                    --jp-layout-color2: #454545;\n",
       "                    background-color: #383838;\n",
       "                }\n",
       "                    \n",
       "                .geemap-dark .jupyter-button {\n",
       "                    --jp-layout-color3: #383838;\n",
       "                }\n",
       "                \n",
       "                .geemap-colab {\n",
       "                    background-color: var(--colab-primary-surface-color, white);\n",
       "                }\n",
       "                    \n",
       "                .geemap-colab .jupyter-button {\n",
       "                    --jp-layout-color3: var(--colab-primary-surface-color, white);\n",
       "                }\n",
       "            </style>\n",
       "            "
      ],
      "text/plain": [
       "<IPython.core.display.HTML object>"
      ]
     },
     "metadata": {},
     "output_type": "display_data"
    },
    {
     "data": {
      "text/plain": [
       "'C:\\\\Users\\\\anaca\\\\Desktop\\\\forest_regrowth\\\\scripts'"
      ]
     },
     "execution_count": 2,
     "metadata": {},
     "output_type": "execute_result"
    }
   ],
   "source": [
    "import os\n",
    "os.getcwd()"
   ]
  },
  {
   "cell_type": "markdown",
   "id": "fbaf6e8d-a492-44eb-84cb-5730dde0ec98",
   "metadata": {
    "id": "tXMqSCNSHiOm"
   },
   "source": [
    "## Ages\n",
    "\n",
    "Rewriting the code for \"Benchmark maps of 33 years of secondary forest age for Brazil\" to run with Collection 8 and include only class 3."
   ]
  },
  {
   "cell_type": "code",
   "execution_count": 20,
   "id": "7b35cc0e-cbfe-4d7d-a8c3-04fab76f27fb",
   "metadata": {
    "colab": {
     "base_uri": "https://localhost:8080/",
     "height": 17
    },
    "id": "_n39m7fpatWT",
    "outputId": "5ca67d2b-8e3d-47e2-b8ca-a259dc6c4c39"
   },
   "outputs": [
    {
     "data": {
      "text/html": [
       "\n",
       "            <style>\n",
       "                .geemap-dark {\n",
       "                    --jp-widgets-color: white;\n",
       "                    --jp-widgets-label-color: white;\n",
       "                    --jp-ui-font-color1: white;\n",
       "                    --jp-layout-color2: #454545;\n",
       "                    background-color: #383838;\n",
       "                }\n",
       "                    \n",
       "                .geemap-dark .jupyter-button {\n",
       "                    --jp-layout-color3: #383838;\n",
       "                }\n",
       "                \n",
       "                .geemap-colab {\n",
       "                    background-color: var(--colab-primary-surface-color, white);\n",
       "                }\n",
       "                    \n",
       "                .geemap-colab .jupyter-button {\n",
       "                    --jp-layout-color3: var(--colab-primary-surface-color, white);\n",
       "                }\n",
       "            </style>\n",
       "            "
      ],
      "text/plain": [
       "<IPython.core.display.HTML object>"
      ]
     },
     "metadata": {},
     "output_type": "display_data"
    }
   ],
   "source": [
    "''' Making Masks\n",
    "Select pixels used to determine secondary forest ages, and excluding unwanted ones from the calculation\n",
    "\n",
    "We exclude:\n",
    "- water bodies (possible misclassifications)\n",
    "- urban areas\n",
    "'''\n",
    "\n",
    "# INDEX for land use types we are interested in\n",
    "# 15 = pasture\n",
    "# 39 = soy\n",
    "# 20 = sugar cane\n",
    "# 40 = rice\n",
    "# 62 = cotton\n",
    "# 41 = other temporary crop\n",
    "# 46 = coffee\n",
    "# 47 = citrus\n",
    "# 35 = palm oil\n",
    "# 48 = other perennial crop\n",
    "# 9 = forest plantation\n",
    "LU_index = [15, 39, 20, 40, 62, 41, 46, 47, 35, 48, 9]\n",
    "lulc_palette = [\"#f1c232\", \"#FFFFB2\", \"#FFD966\", \"#E974ED\", \"#D5A6BD\", \\\n",
    "                \"#e075ad\", \"#C27BA0\", \"#982c9e\", \"#e787f8\", \"#cd49e4\", \"#ad4413\"]\n",
    "\n",
    "# Create a binary mask with all pixels that have one of the anthropic land use classes we listed above\n",
    "# creates an anthropic_mask image with one band per year\n",
    "anthropic_mask = ee.Image().byte()\n",
    "for i in range(first_year, last_year + 1):\n",
    "    year = 'classification_' + str(i)\n",
    "    # replaces all values in LU_index list with 1 to create binary mask\n",
    "    anthropic = lulc.select(year).remap(LU_index, [1] * len(LU_index), 0).rename(year)\n",
    "    anthropic_mask = anthropic_mask.addBands(anthropic)\n",
    "anthropic_mask = anthropic_mask.select(anthropic_mask.bandNames().slice(1))\n",
    "\n",
    "# Create a binary mask for non-water bodies\n",
    "w_mask  = ee.Image(\"JRC/GSW1_4/GlobalSurfaceWater\").select(\"max_extent\").clip(roi).remap([0,1],[1,0]);\n",
    "\n",
    "# Create a binary mask for non-urban areas\n",
    "urban = ee.Image(\"DLR/WSF/WSF2015/v1\").clip(roi)\n",
    "# This will invert the mask, city pixels will be False (or 0) and non-urban pixels will be True (or 1)\n",
    "inverse_mask = urban.eq(1).Not()\n",
    "urban = urban.updateMask(inverse_mask)  # This will replace 1 values (city pixels) with NA\n",
    "urban_mask = urban.unmask(1)  # This will replace NA values (non-urban pixels) with 1"
   ]
  },
  {
   "cell_type": "code",
   "execution_count": 21,
   "id": "68e7d570-299d-4c4b-b3ee-aaf991ebc1a7",
   "metadata": {
    "colab": {
     "base_uri": "https://localhost:8080/",
     "height": 17
    },
    "id": "jl-zsxXycgUv",
    "outputId": "d1771936-ebde-4d26-d708-461ee69a99bc"
   },
   "outputs": [
    {
     "data": {
      "text/html": [
       "\n",
       "            <style>\n",
       "                .geemap-dark {\n",
       "                    --jp-widgets-color: white;\n",
       "                    --jp-widgets-label-color: white;\n",
       "                    --jp-ui-font-color1: white;\n",
       "                    --jp-layout-color2: #454545;\n",
       "                    background-color: #383838;\n",
       "                }\n",
       "                    \n",
       "                .geemap-dark .jupyter-button {\n",
       "                    --jp-layout-color3: #383838;\n",
       "                }\n",
       "                \n",
       "                .geemap-colab {\n",
       "                    background-color: var(--colab-primary-surface-color, white);\n",
       "                }\n",
       "                    \n",
       "                .geemap-colab .jupyter-button {\n",
       "                    --jp-layout-color3: var(--colab-primary-surface-color, white);\n",
       "                }\n",
       "            </style>\n",
       "            "
      ],
      "text/plain": [
       "<IPython.core.display.HTML object>"
      ]
     },
     "metadata": {},
     "output_type": "display_data"
    }
   ],
   "source": [
    "'''\n",
    "### Step 1 - Select Forested Areas Only\n",
    "\n",
    "Take only pixels classified as \"forest formation\" (class 3) and \"flooded forest\" (class 6) from MapBiomas land use Collection 8.\n",
    "\n",
    "Intakes:\n",
    "    lulc -> MapBiomas Collection 8 for Land Use Land Cover raw data\n",
    "\n",
    "Returns:\n",
    "    mapbiomas_forest -> Image with one band per year (1985 - 2020) and a binary mask for FORESTED PIXELS\n",
    "'''\n",
    "\n",
    "mapbiomas_forest = ee.Image()\n",
    "\n",
    "for i in range(first_year, last_year+1):\n",
    "    year = 'classification_' + str(i)\n",
    "    forest = lulc.select(year)\n",
    "    forest = forest.remap([3,6], [1,1], 0)\n",
    "    mapbiomas_forest = mapbiomas_forest.addBands(forest.rename(ee.String(year)))\n",
    "\n",
    "mapbiomas_forest = mapbiomas_forest.select(mapbiomas_forest.bandNames().slice(1)).byte()"
   ]
  },
  {
   "cell_type": "code",
   "execution_count": 22,
   "id": "de1e250a-4095-41af-81af-85a35935b348",
   "metadata": {
    "colab": {
     "base_uri": "https://localhost:8080/",
     "height": 17
    },
    "id": "RVug9E1vQ2Tk",
    "outputId": "7c747465-736d-4924-ce11-03d6efaec979"
   },
   "outputs": [
    {
     "data": {
      "text/html": [
       "\n",
       "            <style>\n",
       "                .geemap-dark {\n",
       "                    --jp-widgets-color: white;\n",
       "                    --jp-widgets-label-color: white;\n",
       "                    --jp-ui-font-color1: white;\n",
       "                    --jp-layout-color2: #454545;\n",
       "                    background-color: #383838;\n",
       "                }\n",
       "                    \n",
       "                .geemap-dark .jupyter-button {\n",
       "                    --jp-layout-color3: #383838;\n",
       "                }\n",
       "                \n",
       "                .geemap-colab {\n",
       "                    background-color: var(--colab-primary-surface-color, white);\n",
       "                }\n",
       "                    \n",
       "                .geemap-colab .jupyter-button {\n",
       "                    --jp-layout-color3: var(--colab-primary-surface-color, white);\n",
       "                }\n",
       "            </style>\n",
       "            "
      ],
      "text/plain": [
       "<IPython.core.display.HTML object>"
      ]
     },
     "metadata": {},
     "output_type": "display_data"
    }
   ],
   "source": [
    " '''\n",
    "### Step 2 - Mapping the Annual Increment of Secondary Forests\n",
    "\n",
    "Flags moments of regrowth and deforestation.\n",
    "\n",
    "Intakes:\n",
    "    mapbiomas_forest\n",
    "    anthropic_mask\n",
    "    w_mask\n",
    "    urban_mask\n",
    "\n",
    "Returns:\n",
    "    regro -> Image with one band per year (1986 - 2020) and binary mask for REGROWTH EVENTS\n",
    "    defor -> Image with one band per year (1986 - 2020) and binary mask for DEFORESTATION EVENTS\n",
    "'''\n",
    "\n",
    "regro = ee.Image()\n",
    "defor = ee.Image()\n",
    "\n",
    "for i in range(first_year, last_year):  # 1985-2019\n",
    "    year1 = f'classification_{i}'\n",
    "    year2 = f'classification_{i + 1}'\n",
    "    # select the anthropic classifications for year 1 (starting 2015)\n",
    "    # with the goal of keeping only forests regrowing on land of the desired previous LU types\n",
    "    # (listed on LU_index)\n",
    "    a_mask = anthropic_mask.select(year1)\n",
    "    # Change pixel values to facilitate flagging of forest change (see sforest)\n",
    "    forest1 = mapbiomas_forest.select(year1).remap([0, 1], [0, 2])\n",
    "    forest2 = mapbiomas_forest.select(year2)\n",
    "    # addition is 0 if was nonforest before and after; 1 if it was gained;\n",
    "    # 2 if it was forest before and then was lost; 3 if it was forest in both.\n",
    "    sforest = forest1.add(forest2).updateMask(w_mask).updateMask(urban_mask).updateMask(a_mask)\n",
    "    for_gain = sforest.remap([0, 1, 2, 3], [0, 1, 0, 0]).rename(year2)\n",
    "    for_loss = sforest.remap([0, 1, 2, 3], [0, 0, 1, 0]).rename(year2)\n",
    "    regro = regro.addBands(for_gain)\n",
    "    defor = defor.addBands(for_loss)\n",
    "\n",
    "# remove the first band as that's all zeroes\n",
    "regro = regro.select(regro.bandNames().slice(1)).byte()"
   ]
  },
  {
   "cell_type": "code",
   "execution_count": 23,
   "id": "9b8a54fa-c613-4785-9314-a0dacf72929d",
   "metadata": {
    "colab": {
     "base_uri": "https://localhost:8080/",
     "height": 17
    },
    "id": "-oeXAPoLRFSy",
    "outputId": "3fd990f7-d8da-4047-cc1f-64cb778612a5"
   },
   "outputs": [
    {
     "data": {
      "text/html": [
       "\n",
       "            <style>\n",
       "                .geemap-dark {\n",
       "                    --jp-widgets-color: white;\n",
       "                    --jp-widgets-label-color: white;\n",
       "                    --jp-ui-font-color1: white;\n",
       "                    --jp-layout-color2: #454545;\n",
       "                    background-color: #383838;\n",
       "                }\n",
       "                    \n",
       "                .geemap-dark .jupyter-button {\n",
       "                    --jp-layout-color3: #383838;\n",
       "                }\n",
       "                \n",
       "                .geemap-colab {\n",
       "                    background-color: var(--colab-primary-surface-color, white);\n",
       "                }\n",
       "                    \n",
       "                .geemap-colab .jupyter-button {\n",
       "                    --jp-layout-color3: var(--colab-primary-surface-color, white);\n",
       "                }\n",
       "            </style>\n",
       "            "
      ],
      "text/plain": [
       "<IPython.core.display.HTML object>"
      ]
     },
     "metadata": {},
     "output_type": "display_data"
    }
   ],
   "source": [
    "'''\n",
    "### Step 3 - Calculating and Mapping the Age of Secondary Forests\n",
    "\n",
    "Intakes:\n",
    "    regro -> Image with one band per year (1986 - 2020) and binary mask for REGROWTH EVENTS\n",
    "\n",
    "Returns:\n",
    "    extent -> Image with one band per year (1986 - 2020) and binary mask for CURRENTLY REGROWING forests\n",
    "'''\n",
    "\n",
    "extent = ee.Image()\n",
    "# add pixels that became regrowing forests in 1986\n",
    "extent = extent.addBands(regro.select('classification_1986').rename('classification_1986'))\n",
    "\n",
    "for i in range(first_year + 1, last_year): #1986 to 2020\n",
    "    year1 = f'classification_{i}'\n",
    "    year2 = f'classification_{i + 1}'\n",
    "    for_gain = regro.select(year2)\n",
    "    # accumulated forest = pixels that gained forest in year1 + pixels that gained forest in year2\n",
    "    acm_forest = extent.select(year1).add(for_gain)\n",
    "    # mask by pixels that were shown to be forest in year2,\n",
    "    # to eliminate any that may have regrown in 1986 but lost cover in 1987\n",
    "    extent = extent.addBands(acm_forest.updateMask(mapbiomas_forest.select(year2)).rename(year2))\n",
    "\n",
    "extent = extent.select(extent.bandNames().slice(1)).byte()"
   ]
  },
  {
   "cell_type": "code",
   "execution_count": 24,
   "id": "e9fbc366-bcf0-47dd-a488-547cb9636771",
   "metadata": {
    "colab": {
     "base_uri": "https://localhost:8080/",
     "height": 17
    },
    "id": "Gw2gpMcSRx6k",
    "outputId": "23fb2e4b-af2a-4cb9-df62-f89799ad80e5"
   },
   "outputs": [
    {
     "data": {
      "text/html": [
       "\n",
       "            <style>\n",
       "                .geemap-dark {\n",
       "                    --jp-widgets-color: white;\n",
       "                    --jp-widgets-label-color: white;\n",
       "                    --jp-ui-font-color1: white;\n",
       "                    --jp-layout-color2: #454545;\n",
       "                    background-color: #383838;\n",
       "                }\n",
       "                    \n",
       "                .geemap-dark .jupyter-button {\n",
       "                    --jp-layout-color3: #383838;\n",
       "                }\n",
       "                \n",
       "                .geemap-colab {\n",
       "                    background-color: var(--colab-primary-surface-color, white);\n",
       "                }\n",
       "                    \n",
       "                .geemap-colab .jupyter-button {\n",
       "                    --jp-layout-color3: var(--colab-primary-surface-color, white);\n",
       "                }\n",
       "            </style>\n",
       "            "
      ],
      "text/plain": [
       "<IPython.core.display.HTML object>"
      ]
     },
     "metadata": {},
     "output_type": "display_data"
    }
   ],
   "source": [
    "'''\n",
    "### Step 4 - Calculating and Mapping the Age of Secondary Forests\n",
    "\n",
    "Intakes:\n",
    "    extent -> Image with one band per year (1986 - 2020) and binary mask for CURRENTLY REGROWING forests\n",
    "\n",
    "Returns:\n",
    "    ages -> Image with one band per year (1986 - 2020) with age of forest at every year\n",
    "'''\n",
    "\n",
    "ages = ee.Image()\n",
    "ages = ages.addBands(extent.select('classification_1986').rename('classification_1986'))\n",
    "ages = ages.slice(1) # remove \"constant\" band\n",
    "age_total = ages # will use this as the \"last total age\" to keep iteratively adding values\n",
    "\n",
    "for i in range(first_year + 1, last_year):\n",
    "    year1 = f'classification_{i + 1}'# 1987-2020\n",
    "    sforest = extent.select(year1) # forest cover in 1987\n",
    "    age_total = age_total.add(sforest) # 1 year old forests in 1986 + cover in 1987\n",
    "    f_year = mapbiomas_forest.select(year1)\n",
    "    age_total = age_total.multiply(f_year) # mask by pixels that were forest that year, removing any forest loss\n",
    "    ages = ages.addBands(age_total.rename(year1))\n",
    "\n",
    "ages = ages.updateMask(ages) #keep only values as ages or NA\n",
    "\n",
    "#ages range from 1 for those regrown in 2019-2020 to 35 for those regrown in 1985-1986\n",
    "age = ages.select('classification_2020').rename('age')"
   ]
  }
 ],
 "metadata": {
  "kernelspec": {
   "display_name": "Python 3 (ipykernel)",
   "language": "python",
   "name": "python3"
  },
  "language_info": {
   "codemirror_mode": {
    "name": "ipython",
    "version": 3
   },
   "file_extension": ".py",
   "mimetype": "text/x-python",
   "name": "python",
   "nbconvert_exporter": "python",
   "pygments_lexer": "ipython3",
   "version": "3.11.5"
  }
 },
 "nbformat": 4,
 "nbformat_minor": 5
}
