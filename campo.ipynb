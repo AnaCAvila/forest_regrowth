{
 "cells": [
  {
   "cell_type": "code",
   "execution_count": 1,
   "metadata": {
    "id": "cOBmvER1OjFM"
   },
   "outputs": [],
   "source": [
    "\"\"\"\n",
    "Generating data for \"Predicting Forest Regrowth in Amazonia given Land Use History\"\n",
    "Author: Ana Catarina Avila\n",
    "Date: Dec 2023\n",
    "\"\"\"\n",
    "\n",
    "import ee\n",
    "import geemap\n",
    "#from geetools import batchvamo\n",
    "# import pandas as pd\n",
    "# import numpy as np\n",
    "# from osgeo import gdal\n",
    "# import os\n",
    "# import datetime\n",
    "\n",
    "# Authenticate to Earth Engine\n",
    "try:\n",
    "  ee.Initialize()\n",
    "except Exception as e:\n",
    "  ee.Authenticate()\n",
    "  ee.Initialize(project='ee-ana-zonia')\n"
   ]
  },
  {
   "cell_type": "code",
   "execution_count": 2,
   "metadata": {
    "colab": {
     "base_uri": "https://localhost:8080/",
     "height": 17
    },
    "id": "9U1KEjuZlfgL",
    "outputId": "9964e001-f4a7-4846-bf9f-2c603a7a6588"
   },
   "outputs": [
    {
     "data": {
      "text/html": [
       "\n",
       "            <style>\n",
       "                .geemap-dark {\n",
       "                    --jp-widgets-color: white;\n",
       "                    --jp-widgets-label-color: white;\n",
       "                    --jp-ui-font-color1: white;\n",
       "                    --jp-layout-color2: #454545;\n",
       "                    background-color: #383838;\n",
       "                }\n",
       "                    \n",
       "                .geemap-dark .jupyter-button {\n",
       "                    --jp-layout-color3: #383838;\n",
       "                }\n",
       "                \n",
       "                .geemap-colab {\n",
       "                    background-color: var(--colab-primary-surface-color, white);\n",
       "                }\n",
       "                    \n",
       "                .geemap-colab .jupyter-button {\n",
       "                    --jp-layout-color3: var(--colab-primary-surface-color, white);\n",
       "                }\n",
       "            </style>\n",
       "            "
      ],
      "text/plain": [
       "<IPython.core.display.HTML object>"
      ]
     },
     "metadata": {},
     "output_type": "display_data"
    }
   ],
   "source": [
    "# Switches\n",
    "region = \"br_amazon\"\n",
    "\n",
    "# Choose year range\n",
    "first_year = 1985\n",
    "last_year = 2020 # year of biomass data\n",
    "\n",
    "# how many meters around a secondary forest is considered a \"neighborhood\" for mature forest calculations\n",
    "mat_neighbor = 1000\n",
    "\n",
    "plot_region = ee.Geometry.Rectangle([-47, -3.5, -46, -2.5])\n",
    "Map = geemap.Map()\n",
    "Map.center_object(plot_region, zoom=9)"
   ]
  },
  {
   "cell_type": "code",
   "execution_count": 3,
   "metadata": {
    "colab": {
     "base_uri": "https://localhost:8080/",
     "height": 17
    },
    "id": "Js9LsEZy3v5r",
    "outputId": "c4b4d401-3e5e-4d12-e544-585dce15e5b3"
   },
   "outputs": [
    {
     "data": {
      "text/html": [
       "\n",
       "            <style>\n",
       "                .geemap-dark {\n",
       "                    --jp-widgets-color: white;\n",
       "                    --jp-widgets-label-color: white;\n",
       "                    --jp-ui-font-color1: white;\n",
       "                    --jp-layout-color2: #454545;\n",
       "                    background-color: #383838;\n",
       "                }\n",
       "                    \n",
       "                .geemap-dark .jupyter-button {\n",
       "                    --jp-layout-color3: #383838;\n",
       "                }\n",
       "                \n",
       "                .geemap-colab {\n",
       "                    background-color: var(--colab-primary-surface-color, white);\n",
       "                }\n",
       "                    \n",
       "                .geemap-colab .jupyter-button {\n",
       "                    --jp-layout-color3: var(--colab-primary-surface-color, white);\n",
       "                }\n",
       "            </style>\n",
       "            "
      ],
      "text/plain": [
       "<IPython.core.display.HTML object>"
      ]
     },
     "metadata": {},
     "output_type": "display_data"
    }
   ],
   "source": [
    "if region == \"br_amazon\":\n",
    "    roi = ee.FeatureCollection(\"projects/ee-ana-zonia/assets/br_biomes\").filter(ee.Filter.eq(\"id\", 18413)).geometry()\n",
    "elif region == \"br\":\n",
    "    roi = ee.FeatureCollection(\"projects/ee-ana-zonia/assets/br_shapefile\").geometry()\n",
    "else:\n",
    "    # land use for the pan amazonian dataset (spanning all amazonian countries)\n",
    "    lulc = ee.Image(\"projects/mapbiomas-raisg/public/collection1/mapbiomas_raisg_panamazonia_collection1_integration_v1\").byte()\n",
    "    # note: there's less land use categories here than for the Brazilian territory.\n",
    "\n",
    "# Load the images and feature collections\n",
    "if not region == \"panamaz\":\n",
    "  lulc = (ee.Image(\"projects/mapbiomas-workspace/public/collection8/mapbiomas_collection80_integration_v1\")\n",
    "      .clip(roi)\n",
    "      .select([f\"classification_{year}\" for year in range(first_year, last_year+1)])).byte()\n",
    "  fire = (ee.Image(\"projects/mapbiomas-workspace/public/collection7_1/mapbiomas-fire-collection2-annual-burned-coverage-1\")\n",
    "      .clip(roi)\n",
    "      .select([f\"burned_coverage_{year}\" for year in range(first_year, last_year)])).byte()"
   ]
  },
  {
   "cell_type": "markdown",
   "metadata": {
    "id": "tXMqSCNSHiOm"
   },
   "source": [
    "## Ages\n",
    "\n",
    "Rewriting the code for \"Benchmark maps of 33 years of secondary forest age for Brazil\" to run with Collection 8 and include only class 3."
   ]
  },
  {
   "cell_type": "code",
   "execution_count": 4,
   "metadata": {
    "colab": {
     "base_uri": "https://localhost:8080/",
     "height": 17
    },
    "id": "_n39m7fpatWT",
    "outputId": "5ca67d2b-8e3d-47e2-b8ca-a259dc6c4c39"
   },
   "outputs": [
    {
     "data": {
      "text/html": [
       "\n",
       "            <style>\n",
       "                .geemap-dark {\n",
       "                    --jp-widgets-color: white;\n",
       "                    --jp-widgets-label-color: white;\n",
       "                    --jp-ui-font-color1: white;\n",
       "                    --jp-layout-color2: #454545;\n",
       "                    background-color: #383838;\n",
       "                }\n",
       "                    \n",
       "                .geemap-dark .jupyter-button {\n",
       "                    --jp-layout-color3: #383838;\n",
       "                }\n",
       "                \n",
       "                .geemap-colab {\n",
       "                    background-color: var(--colab-primary-surface-color, white);\n",
       "                }\n",
       "                    \n",
       "                .geemap-colab .jupyter-button {\n",
       "                    --jp-layout-color3: var(--colab-primary-surface-color, white);\n",
       "                }\n",
       "            </style>\n",
       "            "
      ],
      "text/plain": [
       "<IPython.core.display.HTML object>"
      ]
     },
     "metadata": {},
     "output_type": "display_data"
    }
   ],
   "source": [
    "# making masks\n",
    "# Anthropic, urban and Water Mask\n",
    "\n",
    "LU_index = [15, 39, 20, 40, 62, 41, 46, 47, 35, 48, 9]\n",
    "# INDEX ## 3 = forest\n",
    "# 15 = pasture\n",
    "# 39 = soy\n",
    "# 20 = sugar cane\n",
    "# 40 = rice\n",
    "# 62 = cotton\n",
    "# 41 = other temporary crop\n",
    "# 46 = coffee\n",
    "# 47 = citrus\n",
    "# 35 = palm oil\n",
    "# 48 = other perennial crop\n",
    "# 9 = forest plantation\n",
    "lulc_palette = [\"#f1c232\", \"#FFFFB2\", \"#FFD966\", \"#E974ED\", \"#D5A6BD\", \"#e075ad\", \"#C27BA0\", \"#982c9e\", \"#e787f8\", \"#cd49e4\", \"#ad4413\"]\n",
    "\n",
    "empty = ee.Image().byte()\n",
    "\n",
    "for i in range(first_year, last_year + 1):\n",
    "    year = 'classification_' + str(i)\n",
    "    anthropic = lulc.select(year).remap(LU_index, [1] * len(LU_index), 0).rename(year)\n",
    "    empty = empty.addBands(anthropic)\n",
    "\n",
    "anthropic_mask = empty.select(empty.bandNames().slice(1)) # we only want areas that DO show anthropic activity this year\n",
    "\n",
    "# Replace 'YOUR_WATER_IMAGE_ID' with the actual water image ID you are working with\n",
    "w_mask  = ee.Image(\"JRC/GSW1_4/GlobalSurfaceWater\").select(\"max_extent\").clip(roi).remap([0,1],[1,0]);\n",
    "\n",
    "urban = ee.Image(\"DLR/WSF/WSF2015/v1\").clip(roi)\n",
    "inverse_mask = urban.eq(1).Not()  # This will invert the mask, city pixels will be False (or 0) and non-urban pixels will be True (or 1)\n",
    "urban = urban.updateMask(inverse_mask)  # This will replace 1 values (city pixels) with NA\n",
    "urban_mask = urban.unmask(1)  # This will replace NA values (non-urban pixels) with 1\n",
    "\n",
    "# Define a color palette\n",
    "# palette = ['blue', 'red']  # Blue for 0, Red for 1\n",
    "# vizpar2 = {'min': 1, 'max': len(LU_index), 'palette': ['blue', 'red']}  # Blue for 0, Red for 1\n",
    "# Add the layer to the map with the color palette\n",
    "# Map.addLayer(w_mask, {'min': 0, 'max': 1, 'palette': palette}, 'w_mask')\n",
    "# Map.addLayer(urban_mask, {'palette': palette}, 'urban_mask')\n",
    "# Map.addLayer(anthropic_mask.select('classification_2020'), vizpar2, \"anthropic\")\n",
    "# Map"
   ]
  },
  {
   "cell_type": "code",
   "execution_count": 5,
   "metadata": {
    "colab": {
     "base_uri": "https://localhost:8080/",
     "height": 17
    },
    "id": "jl-zsxXycgUv",
    "outputId": "d1771936-ebde-4d26-d708-461ee69a99bc"
   },
   "outputs": [
    {
     "data": {
      "text/html": [
       "\n",
       "            <style>\n",
       "                .geemap-dark {\n",
       "                    --jp-widgets-color: white;\n",
       "                    --jp-widgets-label-color: white;\n",
       "                    --jp-ui-font-color1: white;\n",
       "                    --jp-layout-color2: #454545;\n",
       "                    background-color: #383838;\n",
       "                }\n",
       "                    \n",
       "                .geemap-dark .jupyter-button {\n",
       "                    --jp-layout-color3: #383838;\n",
       "                }\n",
       "                \n",
       "                .geemap-colab {\n",
       "                    background-color: var(--colab-primary-surface-color, white);\n",
       "                }\n",
       "                    \n",
       "                .geemap-colab .jupyter-button {\n",
       "                    --jp-layout-color3: var(--colab-primary-surface-color, white);\n",
       "                }\n",
       "            </style>\n",
       "            "
      ],
      "text/plain": [
       "<IPython.core.display.HTML object>"
      ]
     },
     "metadata": {},
     "output_type": "display_data"
    }
   ],
   "source": [
    "# 1. Reclassifying MapBiomas Data # Step 1\n",
    "empty = ee.Image().byte();\n",
    "\n",
    "for i in range(first_year, last_year+1):\n",
    "    year = 'classification_' + str(i)\n",
    "    forest = lulc.select(year)\n",
    "    forest = forest.remap([3,6], [1,1], 0) # Forest Formation and Flooded Forest classes from MapBiomas Project\n",
    "    empty = empty.addBands(forest.rename(ee.String(year)))\n",
    "\n",
    "mapbiomas_forest = empty.select(empty.bandNames().slice(1))"
   ]
  },
  {
   "cell_type": "code",
   "execution_count": 6,
   "metadata": {
    "colab": {
     "base_uri": "https://localhost:8080/",
     "height": 17
    },
    "id": "RVug9E1vQ2Tk",
    "outputId": "7c747465-736d-4924-ce11-03d6efaec979"
   },
   "outputs": [
    {
     "data": {
      "text/html": [
       "\n",
       "            <style>\n",
       "                .geemap-dark {\n",
       "                    --jp-widgets-color: white;\n",
       "                    --jp-widgets-label-color: white;\n",
       "                    --jp-ui-font-color1: white;\n",
       "                    --jp-layout-color2: #454545;\n",
       "                    background-color: #383838;\n",
       "                }\n",
       "                    \n",
       "                .geemap-dark .jupyter-button {\n",
       "                    --jp-layout-color3: #383838;\n",
       "                }\n",
       "                \n",
       "                .geemap-colab {\n",
       "                    background-color: var(--colab-primary-surface-color, white);\n",
       "                }\n",
       "                    \n",
       "                .geemap-colab .jupyter-button {\n",
       "                    --jp-layout-color3: var(--colab-primary-surface-color, white);\n",
       "                }\n",
       "            </style>\n",
       "            "
      ],
      "text/plain": [
       "<IPython.core.display.HTML object>"
      ]
     },
     "metadata": {},
     "output_type": "display_data"
    }
   ],
   "source": [
    "# 2. Mapping the Annual Increment of Secondary Forests # Step 2\n",
    "regro = ee.Image().byte()\n",
    "defor = ee.Image().byte()\n",
    "\n",
    "for i in range(first_year, last_year):  # 1986-2020\n",
    "    year1 = f'classification_{i}'\n",
    "    year2 = f'classification_{i + 1}'\n",
    "    a_mask = anthropic_mask.select(year1);\n",
    "    forest1 = mapbiomas_forest.select(year1).remap([0, 1], [0, 2])  # Change forest pixels in 1985 to 2 years old\n",
    "    forest2 = mapbiomas_forest.select(year2)\n",
    "    # addition is 0 if was nonforest before and after; 1 if it was gained; 2 if it was forest before and then was lost; 3 if it was forest in both.\n",
    "    sforest = forest1.add(forest2).multiply(a_mask).multiply(w_mask).multiply(urban_mask)\n",
    "    for_gain = sforest.remap([0, 1, 2, 3], [0, 1, 0, 0]).rename(year2)\n",
    "    for_loss = sforest.remap([0, 1, 2, 3], [0, 0, 1, 0]).rename(year2)\n",
    "    regro = regro.addBands(for_gain)\n",
    "    defor = defor.addBands(for_loss)\n",
    "\n",
    "regro = regro.select(regro.bandNames().slice(1))  # Shows all years in which forest was gained.\n",
    "# here, we could just mask by pixels that are forest in 2020 and find the year of last gain."
   ]
  },
  {
   "cell_type": "code",
   "execution_count": 7,
   "metadata": {
    "colab": {
     "base_uri": "https://localhost:8080/",
     "height": 17
    },
    "id": "-oeXAPoLRFSy",
    "outputId": "3fd990f7-d8da-4047-cc1f-64cb778612a5"
   },
   "outputs": [
    {
     "data": {
      "text/html": [
       "\n",
       "            <style>\n",
       "                .geemap-dark {\n",
       "                    --jp-widgets-color: white;\n",
       "                    --jp-widgets-label-color: white;\n",
       "                    --jp-ui-font-color1: white;\n",
       "                    --jp-layout-color2: #454545;\n",
       "                    background-color: #383838;\n",
       "                }\n",
       "                    \n",
       "                .geemap-dark .jupyter-button {\n",
       "                    --jp-layout-color3: #383838;\n",
       "                }\n",
       "                \n",
       "                .geemap-colab {\n",
       "                    background-color: var(--colab-primary-surface-color, white);\n",
       "                }\n",
       "                    \n",
       "                .geemap-colab .jupyter-button {\n",
       "                    --jp-layout-color3: var(--colab-primary-surface-color, white);\n",
       "                }\n",
       "            </style>\n",
       "            "
      ],
      "text/plain": [
       "<IPython.core.display.HTML object>"
      ]
     },
     "metadata": {},
     "output_type": "display_data"
    }
   ],
   "source": [
    "# 3. Mapping the Annual Extent of Secondary Forests # Step 3\n",
    "extent = ee.Image().byte()\n",
    "# add pixels that gained forest in 1986\n",
    "extent = extent.addBands(regro.select('classification_1986').rename('classification_1986'))\n",
    "\n",
    "for i in range(first_year + 1, last_year): #1987 to 2020\n",
    "    year1 = f'classification_{i}' #1986\n",
    "    year2 = f'classification_{i + 1}' #1987\n",
    "    for_gain = regro.select(year2)\n",
    "    acm_forest = extent.select(year1).add(for_gain) #pixels that gained forest in 1986 + pixels that gained forest in 1987\n",
    "    old_values = list(range(37))\n",
    "    new_values = [0, 1] + [1] * 35\n",
    "    remap = acm_forest.remap(old_values, new_values)\n",
    "    # mask (multiply) by pixels that were shown to be forest in 1987, hence eliminating any that may have regrown in 1986 but lost cover in 1987\n",
    "    extent = extent.addBands(remap.multiply(mapbiomas_forest.select(year2)).rename(year2))\n",
    "\n",
    "extent = extent.select(extent.bandNames().slice(1))"
   ]
  },
  {
   "cell_type": "code",
   "execution_count": 8,
   "metadata": {
    "colab": {
     "base_uri": "https://localhost:8080/",
     "height": 17
    },
    "id": "Gw2gpMcSRx6k",
    "outputId": "23fb2e4b-af2a-4cb9-df62-f89799ad80e5"
   },
   "outputs": [
    {
     "data": {
      "text/html": [
       "\n",
       "            <style>\n",
       "                .geemap-dark {\n",
       "                    --jp-widgets-color: white;\n",
       "                    --jp-widgets-label-color: white;\n",
       "                    --jp-ui-font-color1: white;\n",
       "                    --jp-layout-color2: #454545;\n",
       "                    background-color: #383838;\n",
       "                }\n",
       "                    \n",
       "                .geemap-dark .jupyter-button {\n",
       "                    --jp-layout-color3: #383838;\n",
       "                }\n",
       "                \n",
       "                .geemap-colab {\n",
       "                    background-color: var(--colab-primary-surface-color, white);\n",
       "                }\n",
       "                    \n",
       "                .geemap-colab .jupyter-button {\n",
       "                    --jp-layout-color3: var(--colab-primary-surface-color, white);\n",
       "                }\n",
       "            </style>\n",
       "            "
      ],
      "text/plain": [
       "<IPython.core.display.HTML object>"
      ]
     },
     "metadata": {},
     "output_type": "display_data"
    }
   ],
   "source": [
    "# 4. Calculating and Mapping the Age of Secondary Forests # Step 4\n",
    "ages = ee.Image().byte()\n",
    "ages = ages.addBands(extent.select('classification_1986').rename('classification_1986'))\n",
    "ages = ages.slice(1) # remove \"constant\" band\n",
    "age_total = ages # will use this as the \"last total age\" to keep iteratively adding values\n",
    "\n",
    "for i in range(first_year + 1, last_year):\n",
    "    year1 = f'classification_{i + 1}'# 1987-2020\n",
    "    sforest = extent.select(year1) # forest cover in 1987\n",
    "    age_total = age_total.add(sforest) # 1 year old forests in 1986 + cover in 1987\n",
    "    f_year = mapbiomas_forest.select(year1)\n",
    "    age_total = age_total.multiply(f_year) # mask by pixels that were forest that year, removing any forest loss\n",
    "    ages = ages.addBands(age_total.rename(year1))\n",
    "\n",
    "ages = ages.updateMask(ages) #keep only values as ages or NA\n",
    "\n",
    "#ages range from 1 for those regrown in 2019-2020 to 35 for those regrown in 1985-1986\n",
    "age = ages.select('classification_2020').rename('age')\n",
    "\n",
    "# vizpar = {'min': 1, 'max': last_year - first_year, 'palette': ['blue', 'red']}  # Blue for 0, Red for 1\n",
    "# Map = geemap.Map(center=[-10, -40], zoom=4)\n",
    "# Map.addLayer(age, vizpar, \"ages\")\n",
    "# Map"
   ]
  },
  {
   "cell_type": "markdown",
   "metadata": {
    "id": "dDZeM0WiqXHT"
   },
   "source": [
    "## Categorical Variables\n",
    "Indigenous land, ecoregion, and soil type."
   ]
  },
  {
   "cell_type": "code",
   "execution_count": 9,
   "metadata": {
    "colab": {
     "base_uri": "https://localhost:8080/",
     "height": 17
    },
    "id": "Awk9nNDkqVQQ",
    "outputId": "a176e4db-968d-4d59-b46e-2b6ace635c09"
   },
   "outputs": [
    {
     "data": {
      "text/html": [
       "\n",
       "            <style>\n",
       "                .geemap-dark {\n",
       "                    --jp-widgets-color: white;\n",
       "                    --jp-widgets-label-color: white;\n",
       "                    --jp-ui-font-color1: white;\n",
       "                    --jp-layout-color2: #454545;\n",
       "                    background-color: #383838;\n",
       "                }\n",
       "                    \n",
       "                .geemap-dark .jupyter-button {\n",
       "                    --jp-layout-color3: #383838;\n",
       "                }\n",
       "                \n",
       "                .geemap-colab {\n",
       "                    background-color: var(--colab-primary-surface-color, white);\n",
       "                }\n",
       "                    \n",
       "                .geemap-colab .jupyter-button {\n",
       "                    --jp-layout-color3: var(--colab-primary-surface-color, white);\n",
       "                }\n",
       "            </style>\n",
       "            "
      ],
      "text/plain": [
       "<IPython.core.display.HTML object>"
      ]
     },
     "metadata": {},
     "output_type": "display_data"
    }
   ],
   "source": [
    "ecoregions = (ee.FeatureCollection(\"RESOLVE/ECOREGIONS/2017\").filterBounds(roi)\n",
    "                .map(lambda feature: feature.intersection(roi)))\n",
    "ecoregions_img = ecoregions.reduceToImage(['ECO_ID'], ee.Reducer.first()).rename('ecoreg')\n",
    "\n",
    "indig_land = ee.FeatureCollection(\"projects/ee-ana-zonia/assets/indig_land\").filterBounds(roi)\n",
    "indig_land_img = ee.Image().byte().paint(indig_land, 'gid').rename(\"indig\").mask()\n",
    "\n",
    "# palette = ['00FFFF', '0000FF']\n",
    "# # Create a map\n",
    "# Map = geemap.Map(center=[-10, -40], zoom=4)\n",
    "# # Add the layer to the map with the color palette\n",
    "# Map.addLayer(ecoregions_img, {'min': 0, 'max': 1000}, 'ecoregions_img')\n",
    "# Map.addLayer(indig_land_img, {}, 'indig_land_img')\n",
    "# # Display the map\n",
    "# Map"
   ]
  },
  {
   "cell_type": "markdown",
   "metadata": {
    "id": "VZIGY-RFuJtx"
   },
   "source": [
    "Soil categories are strings, which Image objects can't handle. To transform the feature collection into an image, we convert the strings to integers by creating a dictionary."
   ]
  },
  {
   "cell_type": "code",
   "execution_count": 10,
   "metadata": {
    "colab": {
     "base_uri": "https://localhost:8080/",
     "height": 17
    },
    "id": "emB75_jOwuWu",
    "outputId": "90a03ac3-fd04-49ad-81ee-e0e5356aa307"
   },
   "outputs": [
    {
     "data": {
      "text/html": [
       "\n",
       "            <style>\n",
       "                .geemap-dark {\n",
       "                    --jp-widgets-color: white;\n",
       "                    --jp-widgets-label-color: white;\n",
       "                    --jp-ui-font-color1: white;\n",
       "                    --jp-layout-color2: #454545;\n",
       "                    background-color: #383838;\n",
       "                }\n",
       "                    \n",
       "                .geemap-dark .jupyter-button {\n",
       "                    --jp-layout-color3: #383838;\n",
       "                }\n",
       "                \n",
       "                .geemap-colab {\n",
       "                    background-color: var(--colab-primary-surface-color, white);\n",
       "                }\n",
       "                    \n",
       "                .geemap-colab .jupyter-button {\n",
       "                    --jp-layout-color3: var(--colab-primary-surface-color, white);\n",
       "                }\n",
       "            </style>\n",
       "            "
      ],
      "text/plain": [
       "<IPython.core.display.HTML object>"
      ]
     },
     "metadata": {},
     "output_type": "display_data"
    }
   ],
   "source": [
    "soil = (ee.FeatureCollection('projects/ee-ana-zonia/assets/DSMW').filterBounds(roi)\n",
    "                .map(lambda feature: feature.intersection(roi)))\n",
    "\n",
    "unique_domsoi = soil.aggregate_array('DOMSOI').distinct()\n",
    "\n",
    "domsoi_dict = ee.Dictionary.fromLists(unique_domsoi, ee.List.sequence(1, unique_domsoi.length()))\n",
    "\n",
    "soil = soil.remap(unique_domsoi, domsoi_dict.values(), 'DOMSOI')\n",
    "\n",
    "soil_img = soil.reduceToImage(['DOMSOI'], ee.Reducer.first()).rename('soil')\n",
    "\n",
    "# palette = ['00FFFF', '0000FF']\n",
    "# # Create a map\n",
    "# Map = geemap.Map(center=[-10, -40], zoom=4)\n",
    "# # Add the layer to the map with the color palette\n",
    "# Map.addLayer(soil_img, {'min': 0, 'max': 17, 'palette': palette}, 'soil_img')\n",
    "# Map"
   ]
  },
  {
   "cell_type": "markdown",
   "metadata": {
    "id": "dQ6tNIlXrmSJ"
   },
   "source": [
    "## Biomass Edge Pixels\n",
    "Get mean biomass for edge pixels"
   ]
  },
  {
   "cell_type": "code",
   "execution_count": 11,
   "metadata": {
    "colab": {
     "base_uri": "https://localhost:8080/",
     "height": 17
    },
    "id": "_vrTeyuJrlev",
    "outputId": "1bdc3fc5-219e-4fea-b057-6c4ee2f1d909"
   },
   "outputs": [
    {
     "data": {
      "text/html": [
       "\n",
       "            <style>\n",
       "                .geemap-dark {\n",
       "                    --jp-widgets-color: white;\n",
       "                    --jp-widgets-label-color: white;\n",
       "                    --jp-ui-font-color1: white;\n",
       "                    --jp-layout-color2: #454545;\n",
       "                    background-color: #383838;\n",
       "                }\n",
       "                    \n",
       "                .geemap-dark .jupyter-button {\n",
       "                    --jp-layout-color3: #383838;\n",
       "                }\n",
       "                \n",
       "                .geemap-colab {\n",
       "                    background-color: var(--colab-primary-surface-color, white);\n",
       "                }\n",
       "                    \n",
       "                .geemap-colab .jupyter-button {\n",
       "                    --jp-layout-color3: var(--colab-primary-surface-color, white);\n",
       "                }\n",
       "            </style>\n",
       "            "
      ],
      "text/plain": [
       "<IPython.core.display.HTML object>"
      ]
     },
     "metadata": {},
     "output_type": "display_data"
    }
   ],
   "source": [
    "biomass = ee.Image(\"projects/ee-ana-zonia/assets/biomass_2020\").clip(roi)\n",
    "\n",
    "# Reproject to 10m\n",
    "biomass = biomass.reproject(crs=age.projection(), scale=10)\n",
    "# Reaggregate to 30m (mean value)\n",
    "biomass = biomass.reduceResolution(reducer=ee.Reducer.mean()).reproject(crs=age.projection())\n",
    "# Mask only to regions with age greater than zero (secondary forests)\n",
    "biomass = biomass.updateMask(age).float().rename('agbd')\n",
    "\n",
    "# vizpar = {'min': 1, 'max': 415, 'palette': ['blue', 'red']}  # Blue for 0, Red for 1\n",
    "# Map = geemap.Map(center=[-10, -40], zoom=4)\n",
    "# Map.addLayer(biomass, vizpar, \"biomass\")\n",
    "# Map\n",
    "\n",
    "# img_export.append(biomass)"
   ]
  },
  {
   "cell_type": "markdown",
   "metadata": {
    "id": "xq8psIdotwxG"
   },
   "source": [
    "## Mature Forests"
   ]
  },
  {
   "cell_type": "code",
   "execution_count": 12,
   "metadata": {
    "colab": {
     "base_uri": "https://localhost:8080/",
     "height": 17
    },
    "id": "rJzutbQTf76-",
    "outputId": "f15c5af8-75e4-4d4f-f161-fb71d9ec68bb"
   },
   "outputs": [
    {
     "data": {
      "text/html": [
       "\n",
       "            <style>\n",
       "                .geemap-dark {\n",
       "                    --jp-widgets-color: white;\n",
       "                    --jp-widgets-label-color: white;\n",
       "                    --jp-ui-font-color1: white;\n",
       "                    --jp-layout-color2: #454545;\n",
       "                    background-color: #383838;\n",
       "                }\n",
       "                    \n",
       "                .geemap-dark .jupyter-button {\n",
       "                    --jp-layout-color3: #383838;\n",
       "                }\n",
       "                \n",
       "                .geemap-colab {\n",
       "                    background-color: var(--colab-primary-surface-color, white);\n",
       "                }\n",
       "                    \n",
       "                .geemap-colab .jupyter-button {\n",
       "                    --jp-layout-color3: var(--colab-primary-surface-color, white);\n",
       "                }\n",
       "            </style>\n",
       "            "
      ],
      "text/plain": [
       "<IPython.core.display.HTML object>"
      ]
     },
     "metadata": {},
     "output_type": "display_data"
    }
   ],
   "source": [
    "mature_mask = lulc.eq(3)\n",
    "# Mask the image to keep only pixels with the value 3 in all bands\n",
    "mature_mask = mature_mask.reduce(ee.Reducer.allNonZero())\n",
    "mature_biomass = biomass.updateMask(mature_mask).rename('mat_biomass')\n",
    "\n",
    "# # Compute the median biomass values for mature forest per ecoregion.\n",
    "median_mature = mature_biomass.reduceRegions(ecoregions, reducer=ee.Reducer.median(), scale = 30, crs = mature_biomass.projection().crs())\n",
    "\n",
    "# Convert the FeatureCollection to an image.\n",
    "median_mature = median_mature.reduceToImage(['mat_biomass'], ee.Reducer.first())\n",
    "\n",
    "# display('Median band values, Santa Cruz Mountains ecoregions', median_mature)\n",
    "# Compute sum over round kernel\n",
    "# assuming that 99.7% of seeds come from forests within mat_neighbor distance, that's 3 standard deviations\n",
    "# sd = mat_neighbor/3\n",
    "# kernel = ee.Kernel.gaussian(radius = mat_neighbor, sigma = sd, units='meters', normalize = True)\n",
    "# weighed_sum_mature = mature_biomass.convolve(kernel).rename('weighted_sum_mature)\n",
    "\n",
    "# vizpar = {'min': 0, 'max': 400, 'palette': ['blue', 'red']}  # Blue for 0, Red for 1\n",
    "# Map = geemap.Map(center=[-10, -40], zoom=4)\n",
    "# Map.addLayer(median_mature, vizpar, \"biomass\")\n",
    "# Map\n",
    "\n",
    "# img_export = img_export + [median_mature, weighed_sum_mature]"
   ]
  },
  {
   "cell_type": "markdown",
   "metadata": {
    "id": "aqktfGhDhqAN",
    "jp-MarkdownHeadingCollapsed": true
   },
   "source": [
    "## Land use and land cover"
   ]
  },
  {
   "cell_type": "code",
   "execution_count": 13,
   "metadata": {
    "colab": {
     "base_uri": "https://localhost:8080/",
     "height": 17
    },
    "id": "dy2ERYALlCx5",
    "outputId": "2035c8db-13a4-4c0f-fb50-ba82a0652c78"
   },
   "outputs": [
    {
     "data": {
      "text/html": [
       "\n",
       "            <style>\n",
       "                .geemap-dark {\n",
       "                    --jp-widgets-color: white;\n",
       "                    --jp-widgets-label-color: white;\n",
       "                    --jp-ui-font-color1: white;\n",
       "                    --jp-layout-color2: #454545;\n",
       "                    background-color: #383838;\n",
       "                }\n",
       "                    \n",
       "                .geemap-dark .jupyter-button {\n",
       "                    --jp-layout-color3: #383838;\n",
       "                }\n",
       "                \n",
       "                .geemap-colab {\n",
       "                    background-color: var(--colab-primary-surface-color, white);\n",
       "                }\n",
       "                    \n",
       "                .geemap-colab .jupyter-button {\n",
       "                    --jp-layout-color3: var(--colab-primary-surface-color, white);\n",
       "                }\n",
       "            </style>\n",
       "            "
      ],
      "text/plain": [
       "<IPython.core.display.HTML object>"
      ]
     },
     "metadata": {},
     "output_type": "display_data"
    }
   ],
   "source": [
    "#   last observed land use type - given secondary ages, get\n",
    "# if age is 1 in 2020, it was not forest in 2019\n",
    "# which means I want category in 2019\n",
    "# if age is 35 in 2020, it was not forest in 1985\n",
    "# which means I want category in 1985\n",
    "lulc_masked = lulc.updateMask(age)\n",
    "\n",
    "last_LU = ee.Image().constant(0).byte().rename('last_LU')\n",
    "\n",
    "for i in range(first_year + 1, last_year):  # 1986-2020\n",
    "  year = f'classification_{i}'\n",
    "  age_mask = age.eq(last_year-i); #keep only the pixels with age equivalent to the correspondent year\n",
    "  last_LU_observation = lulc.select(year).updateMask(age_mask) #keeps only land use classes of the year before abandonment\n",
    "  last_LU = last_LU.add(last_LU_observation)"
   ]
  },
  {
   "cell_type": "code",
   "execution_count": 14,
   "metadata": {
    "colab": {
     "base_uri": "https://localhost:8080/",
     "height": 17
    },
    "id": "nnifp814e-6h",
    "outputId": "8f5925fb-7658-4984-dc43-0e831db5d8ec"
   },
   "outputs": [
    {
     "data": {
      "text/html": [
       "\n",
       "            <style>\n",
       "                .geemap-dark {\n",
       "                    --jp-widgets-color: white;\n",
       "                    --jp-widgets-label-color: white;\n",
       "                    --jp-ui-font-color1: white;\n",
       "                    --jp-layout-color2: #454545;\n",
       "                    background-color: #383838;\n",
       "                }\n",
       "                    \n",
       "                .geemap-dark .jupyter-button {\n",
       "                    --jp-layout-color3: #383838;\n",
       "                }\n",
       "                \n",
       "                .geemap-colab {\n",
       "                    background-color: var(--colab-primary-surface-color, white);\n",
       "                }\n",
       "                    \n",
       "                .geemap-colab .jupyter-button {\n",
       "                    --jp-layout-color3: var(--colab-primary-surface-color, white);\n",
       "                }\n",
       "            </style>\n",
       "            "
      ],
      "text/plain": [
       "<IPython.core.display.HTML object>"
      ]
     },
     "metadata": {},
     "output_type": "display_data"
    }
   ],
   "source": [
    "LU_sum = ee.Image().byte()\n",
    "\n",
    "for val in LU_index:\n",
    "  lulc_val = lulc_masked.eq(val)\n",
    "  lulc_val_mask = lulc_val.mask()\n",
    "  num_cells = lulc_val.reduce(ee.Reducer.sum()).rename(f'lulc_sum_{val}')\n",
    "  LU_sum = LU_sum.addBands(num_cells)\n",
    "\n",
    "LU_sum = LU_sum.slice(1).rename('LU_sum')\n",
    "\n",
    "# Map = geemap.Map(center=[-10, -40], zoom=4)\n",
    "# vizpar_age = {'min': 1, 'max': last_year - first_year, 'palette': ['blue', 'red']}  # Blue for 0, Red for 1\n",
    "#vizpar_lulc = {'min': 1, 'max': max(LU_index), 'palette': lulc_palette}\n",
    "# Map.addLayer(age, vizpar_age, \"ages\")\n",
    "# Map.addLayer(num_cells, vizpar_age, \"lulc_masked\")\n",
    "# Map\n",
    "#img_export = img_export + [last_LU, LU_sum]"
   ]
  },
  {
   "cell_type": "markdown",
   "metadata": {
    "id": "c-achWUrvWPn"
   },
   "source": [
    "### Fire\n",
    "Note that fire has different transform than lulc, so the projection will need to be adjusted when exporting."
   ]
  },
  {
   "cell_type": "code",
   "execution_count": 15,
   "metadata": {
    "colab": {
     "base_uri": "https://localhost:8080/",
     "height": 17
    },
    "id": "qT39hKV1Z4J8",
    "outputId": "f8dc4425-8982-42be-df4d-b7e19e028d07"
   },
   "outputs": [
    {
     "data": {
      "text/html": [
       "\n",
       "            <style>\n",
       "                .geemap-dark {\n",
       "                    --jp-widgets-color: white;\n",
       "                    --jp-widgets-label-color: white;\n",
       "                    --jp-ui-font-color1: white;\n",
       "                    --jp-layout-color2: #454545;\n",
       "                    background-color: #383838;\n",
       "                }\n",
       "                    \n",
       "                .geemap-dark .jupyter-button {\n",
       "                    --jp-layout-color3: #383838;\n",
       "                }\n",
       "                \n",
       "                .geemap-colab {\n",
       "                    background-color: var(--colab-primary-surface-color, white);\n",
       "                }\n",
       "                    \n",
       "                .geemap-colab .jupyter-button {\n",
       "                    --jp-layout-color3: var(--colab-primary-surface-color, white);\n",
       "                }\n",
       "            </style>\n",
       "            "
      ],
      "text/plain": [
       "<IPython.core.display.HTML object>"
      ]
     },
     "metadata": {},
     "output_type": "display_data"
    }
   ],
   "source": [
    "# fire has the value of the land use type that burned.\n",
    "# Transforming into a fire mask:\n",
    "fire = fire.gt(0)\n",
    "num_fires = fire.reduce(ee.Reducer.sum()).rename('num_fires')\n",
    "\n",
    "# get fire frequency data from Mapbiomas - double check it.\n",
    "# fire_freq = ee.Image(\"projects/mapbiomas-workspace/public/collection7_1/mapbiomas-fire-collection2-fire-frequency-1\").clip(roi)\n",
    "# fire_freq = fire_freq.select('fire_frequency_1985_2020')\n",
    "\n",
    "# how many years ago was each fire? #############################\n",
    "# Get the number of bands\n",
    "num_bands = fire.bandNames().size()\n",
    "# Create a sequence of numbers from 1 to num_bands\n",
    "years_ago = ee.List.sequence(1, num_bands)\n",
    "years_ago = years_ago.reverse()\n",
    "\n",
    "# # # Map over the image and set values based on the band index\n",
    "constant_images = ee.ImageCollection.fromImages(\n",
    "    years_ago.map(lambda year: ee.Image.constant(year))).toBands()\n",
    "\n",
    "time_since_all_fires = fire.multiply(constant_images)\n",
    "\n",
    "old_names = time_since_all_fires.bandNames().getInfo()\n",
    "new_names = [name.replace('burned_coverage', 'time_since_fire') for name in old_names]\n",
    "time_since_all_fires = time_since_all_fires.select(old_names).rename(new_names)\n",
    "\n",
    "# how many years ago was the LAST fire? #############################\n",
    "last_fire = time_since_all_fires.reduce(ee.Reducer.lastNonNull()).rename('last_fire')\n",
    "\n",
    "# Map = geemap.Map(center=[-10, -40], zoom=4)\n",
    "# Map.addLayer(num_fires, {'min':0, 'max':35}, 'num_fires')\n",
    "# Map\n",
    "\n",
    "# img_export = img_export + [num_fires, time_since_all_fires, last_fire]"
   ]
  },
  {
   "cell_type": "markdown",
   "metadata": {
    "id": "WS0xSMYLdJp8"
   },
   "source": [
    "## Climate\n",
    "\n",
    "### CWD\n",
    "\n",
    "Calculate mean AET from MODIS and calculate CWD from the precipitation values as in Celso\n",
    "\n",
    "Since MODIS only goes back to 2000, for now we are stuck with a fixed value for ET\n"
   ]
  },
  {
   "cell_type": "code",
   "execution_count": 19,
   "metadata": {
    "colab": {
     "base_uri": "https://localhost:8080/",
     "height": 17
    },
    "id": "FpDIKBQNAsdq",
    "outputId": "41bd5088-d521-4492-ae87-ce706e3ee93a"
   },
   "outputs": [
    {
     "data": {
      "text/html": [
       "\n",
       "            <style>\n",
       "                .geemap-dark {\n",
       "                    --jp-widgets-color: white;\n",
       "                    --jp-widgets-label-color: white;\n",
       "                    --jp-ui-font-color1: white;\n",
       "                    --jp-layout-color2: #454545;\n",
       "                    background-color: #383838;\n",
       "                }\n",
       "                    \n",
       "                .geemap-dark .jupyter-button {\n",
       "                    --jp-layout-color3: #383838;\n",
       "                }\n",
       "                \n",
       "                .geemap-colab {\n",
       "                    background-color: var(--colab-primary-surface-color, white);\n",
       "                }\n",
       "                    \n",
       "                .geemap-colab .jupyter-button {\n",
       "                    --jp-layout-color3: var(--colab-primary-surface-color, white);\n",
       "                }\n",
       "            </style>\n",
       "            "
      ],
      "text/plain": [
       "<IPython.core.display.HTML object>"
      ]
     },
     "metadata": {},
     "output_type": "display_data"
    }
   ],
   "source": [
    "# Function to calculate mean AET and add year property\n",
    "Map = geemap.Map()\n",
    "Map.center_object(plot_region, zoom=9)\n",
    "\n",
    "# select for mature forests since the values can be put off by deforestation (causes lower ET)\n",
    "# maybe it would be interesting to get mean ET per climatic region instead?\n",
    "\n",
    "start = \"2002-01-01\"\n",
    "end = \"2020-12-01\"\n",
    "\n",
    "modis = (ee.ImageCollection(\"MODIS/061/MOD16A2GF\")\n",
    "         .filterDate(start, end)\n",
    "         .select('ET', 'ET_QC').map(lambda image: image.clip(roi)))\n",
    "\n",
    "# code sourced from https://spatialthoughts.com/2021/08/19/qa-bands-bitmasks-gee/\n",
    "def bitwise_extract(input, from_bit, to_bit):\n",
    "   mask_size = ee.Number(1).add(to_bit).subtract(from_bit)\n",
    "   mask = ee.Number(1).leftShift(mask_size).subtract(1)\n",
    "   return input.rightShift(from_bit).bitwiseAnd(mask)\n",
    "\n",
    "def apply_QA_mask (image):\n",
    "    QA = image.select('ET_QC')\n",
    "    ET = image.select('ET').multiply(0.0125)  # multiply by the scale 0.1, divide by 8 to get daily info\n",
    "    cloud_mask = bitwise_extract(QA, 3, 4).lte(0)\n",
    "    qa_mask = bitwise_extract(QA, 5, 7).lte(1)\n",
    "    mask = cloud_mask.And(qa_mask)\n",
    "    return ET.updateMask(mask).set('system:time_start', image.get('system:time_start'))\n",
    "\n",
    "# mask mature forests\n",
    "modis_masked = modis.map(lambda image: image.mask(mature_mask))\n",
    "# mask quality of pixels\n",
    "modis_masked = modis_masked.map(apply_QA_mask)\n",
    "\n",
    "# get mean value per month and ecoregion\n",
    "\n",
    "months = range(1, 13)\n",
    "monthly_et_list = []\n",
    "\n",
    "# Loop through the months and filter images\n",
    "for month in months:\n",
    "    start_date = ee.Date.fromYMD(2002, month, 1)\n",
    "    end_date = ee.Date.fromYMD(2020, month, 1)\n",
    "    # print(end_date.getInfo())\n",
    "    eight_day_images = modis_masked.select('ET').filter(ee.Filter.calendarRange(month, month, 'month')).filterDate(start_date, end_date)\n",
    "    # print(eight_day_images.size().getInfo())\n",
    "    monthly_et = eight_day_images.median().multiply(30)\n",
    "    monthly_et_amaz = monthly_et.reduceRegion(roi, ee.Reducer.median(), scale = 500, bestEffort = True)\n",
    "    monthly_et_list.append(monthly_et.set('month', month))\n",
    "\n",
    "\n",
    "\n",
    "\n"
   ]
  },
  {
   "cell_type": "code",
   "execution_count": null,
   "metadata": {},
   "outputs": [
    {
     "data": {
      "text/html": [
       "\n",
       "            <style>\n",
       "                .geemap-dark {\n",
       "                    --jp-widgets-color: white;\n",
       "                    --jp-widgets-label-color: white;\n",
       "                    --jp-ui-font-color1: white;\n",
       "                    --jp-layout-color2: #454545;\n",
       "                    background-color: #383838;\n",
       "                }\n",
       "                    \n",
       "                .geemap-dark .jupyter-button {\n",
       "                    --jp-layout-color3: #383838;\n",
       "                }\n",
       "                \n",
       "                .geemap-colab {\n",
       "                    background-color: var(--colab-primary-surface-color, white);\n",
       "                }\n",
       "                    \n",
       "                .geemap-colab .jupyter-button {\n",
       "                    --jp-layout-color3: var(--colab-primary-surface-color, white);\n",
       "                }\n",
       "            </style>\n",
       "            "
      ],
      "text/plain": [
       "<IPython.core.display.HTML object>"
      ]
     },
     "metadata": {},
     "output_type": "display_data"
    }
   ],
   "source": [
    "# Function to calculate mean AET and add year property\n",
    "Map = geemap.Map()\n",
    "Map.center_object(plot_region, zoom=9)\n",
    "\n",
    "vis_params = {\n",
    "    'min': 0,\n",
    "    'max': 150,\n",
    "    'palette': ['006633', 'E5FFCC']\n",
    "}\n",
    "\n",
    "Map.addLayer(monthly_et_list[2], vis_params, 'Março')\n",
    "Map.addLayer(monthly_et_list[5], vis_params, 'Junho')\n",
    "Map.addLayer(monthly_et_list[8], vis_params, 'Sep')\n",
    "Map.addLayer(monthly_et_list[11], vis_params, 'Dez')\n",
    "Map\n"
   ]
  },
  {
   "cell_type": "markdown",
   "metadata": {},
   "source": [
    "### Terraclim and seasonality\n",
    "\n",
    "Bring temperature and precipitation and calculate seasonality"
   ]
  },
  {
   "cell_type": "code",
   "execution_count": null,
   "metadata": {
    "colab": {
     "base_uri": "https://localhost:8080/",
     "height": 17
    },
    "id": "cxW0T6D7uEbA",
    "outputId": "2b0937e4-cd42-4cbd-be70-938a32cfaea6"
   },
   "outputs": [
    {
     "data": {
      "text/html": [
       "\n",
       "            <style>\n",
       "                .geemap-dark {\n",
       "                    --jp-widgets-color: white;\n",
       "                    --jp-widgets-label-color: white;\n",
       "                    --jp-ui-font-color1: white;\n",
       "                    --jp-layout-color2: #454545;\n",
       "                    background-color: #383838;\n",
       "                }\n",
       "                    \n",
       "                .geemap-dark .jupyter-button {\n",
       "                    --jp-layout-color3: #383838;\n",
       "                }\n",
       "                \n",
       "                .geemap-colab {\n",
       "                    background-color: var(--colab-primary-surface-color, white);\n",
       "                }\n",
       "                    \n",
       "                .geemap-colab .jupyter-button {\n",
       "                    --jp-layout-color3: var(--colab-primary-surface-color, white);\n",
       "                }\n",
       "            </style>\n",
       "            "
      ],
      "text/plain": [
       "<IPython.core.display.HTML object>"
      ]
     },
     "metadata": {},
     "output_type": "display_data"
    }
   ],
   "source": [
    "terraclim = (ee.ImageCollection('IDAHO_EPSCOR/TERRACLIMATE')\n",
    "              .filterBounds(roi)\n",
    "              .filterDate('1985-01-01', '2019-12-01'))\n",
    "\n",
    "maxtemp = terraclim.select('tmmx').divide(10) # scale 0.1\n",
    "mintemp = terraclim.select('tmmn').divide(10)\n",
    "prec = terraclim.select('pr')\n"
   ]
  },
  {
   "cell_type": "code",
   "execution_count": null,
   "metadata": {},
   "outputs": [],
   "source": [
    "water_deficit = prec.subtract(100)\n",
    "print(terraclim.select(1).bandNames().getInfo())\n",
    "\n",
    "months = range(1, 13)\n",
    "years = range(1985, 2019)\n",
    "monthly_wd_list = []\n",
    "\n",
    "# Loop through the months and filter images\n",
    "for year in years:\n",
    "    for month in months:\n",
    "        start_date = ee.Date.fromYMD(year, month, 1)\n",
    "        end_date = start_date.advance(1, 'month')\n",
    "        monthly_rain = prec.filterDate(start_date, end_date)\n",
    "        monthly_wd = monthly_rain.subtract(monthly_means_list[month])\n",
    "        monthly_wd_list.append(monthly_wd.set('month', month))\n",
    "\n",
    "# def calculate_cwd():\n",
    "for i in range(1, length(monthly_wd_list)):\n",
    "    wdn = monthly_wd_list[i]\n",
    "    wdn1 = water_deficit[i-1] if i > 0 else 0\n",
    "    if i == 0:\n",
    "        water_deficit.select(i) = 0 if wdn > 0 else wdn\n",
    "    else:\n",
    "        cwd = wdn1 + wdn\n",
    "        water_deficit.select(i) = cwd if cwd < 0 else 0\n",
    "\n",
    "\n",
    "# Applying the Function\n",
    "cwd = water_deficit.map()\n",
    "\n",
    "# Determining the Annual MCDW\n",
    "ano = 1985 # Start Year of the Temporal Series\n",
    "for i in range(0, 132, 12): # Replace 132 by the Total Months of the Time Series\n",
    "    cwd_a = cwd[i:(i+12)]\n",
    "    mcwd_a = np.min(cwd_a)"
   ]
  },
  {
   "cell_type": "code",
   "execution_count": null,
   "metadata": {},
   "outputs": [],
   "source": [
    "\n",
    "#### seasonality\n",
    "\n",
    "# Calculate the mean monthly rainfall.\n",
    "mean_monthly_rainfall = imageCollection.reduce(ee.Reducer.mean())\n",
    "\n",
    "# Calculate the absolute deviations from the mean monthly rainfall.\n",
    "absolute_deviations = imageCollection.map(lambda img: img.subtract(mean_monthly_rainfall).abs())\n",
    "\n",
    "# Sum the absolute deviations.\n",
    "sum_absolute_deviations = absolute_deviations.reduce(ee.Reducer.sum())\n",
    "\n",
    "# Calculate the total annual precipitation.\n",
    "total_annual_precipitation = imageCollection.reduce(ee.Reducer.sum())\n",
    "\n",
    "# Calculate the SI index.\n",
    "si_index = sum_absolute_deviations.divide(total_annual_precipitation)\n",
    "\n",
    "# The result is an image where each pixel value is the SI index.\n",
    "print(si_index.getInfo())\n",
    "\n"
   ]
  },
  {
   "cell_type": "markdown",
   "metadata": {},
   "source": [
    "## Unify"
   ]
  },
  {
   "cell_type": "code",
   "execution_count": null,
   "metadata": {},
   "outputs": [],
   "source": [
    "# cwd = ee.Image('projects/ee-ana-zonia/assets/cwd_chave').rename('cwd')\n",
    "# proj = age.projection().getInfo()\n",
    "\n",
    "#img_export.append(cwd)\n",
    "# Add the 'ECO_ID' property of ecoregions as a new band in the 'age' image.\n",
    "img_export = [age.pixelLonLat().float(), biomass, num_fires, last_fire, last_LU, ecoregions_img, indig_land_img]\n",
    "# for eco_id in ecoregions.aggregate_array(\"ECO_ID\").getInfo():\n",
    "#     ecoreg =  ecoregions.filter(ee.Filter.eq(\"ECO_ID\",eco_id))"
   ]
  },
  {
   "cell_type": "markdown",
   "metadata": {
    "id": "7f5Xf6aEthTJ"
   },
   "source": [
    "## Export"
   ]
  },
  {
   "cell_type": "code",
   "execution_count": 80,
   "metadata": {},
   "outputs": [
    {
     "data": {
      "text/html": [
       "\n",
       "            <style>\n",
       "                .geemap-dark {\n",
       "                    --jp-widgets-color: white;\n",
       "                    --jp-widgets-label-color: white;\n",
       "                    --jp-ui-font-color1: white;\n",
       "                    --jp-layout-color2: #454545;\n",
       "                    background-color: #383838;\n",
       "                }\n",
       "                    \n",
       "                .geemap-dark .jupyter-button {\n",
       "                    --jp-layout-color3: #383838;\n",
       "                }\n",
       "                \n",
       "                .geemap-colab {\n",
       "                    background-color: var(--colab-primary-surface-color, white);\n",
       "                }\n",
       "                    \n",
       "                .geemap-colab .jupyter-button {\n",
       "                    --jp-layout-color3: var(--colab-primary-surface-color, white);\n",
       "                }\n",
       "            </style>\n",
       "            "
      ],
      "text/plain": [
       "<IPython.core.display.HTML object>"
      ]
     },
     "metadata": {},
     "output_type": "display_data"
    }
   ],
   "source": [
    "img_export = age.addBands(biomass).selfMask().float()\n",
    "\n",
    "fishnet = geemap.fishnet(roi, h_interval=2.0, v_interval=2.0, delta=0.5)\n",
    "# Set 'id' as a property of the features\n",
    "fishnet = fishnet.map(lambda feature: feature.set('id', feature.id()))\n",
    "fishnet_info = fishnet.getInfo()['features']\n",
    "\n",
    "for feature in fishnet_info:\n",
    "    id = feature['id']\n",
    "    grid_cell = fishnet.filter(ee.Filter.eq('id', id))\n",
    "    img = img_export.clip(grid_cell)\n",
    "    img = img.sample(grid_cell, scale = 30)\n",
    "    task = ee.batch.Export.table.toDrive(\n",
    "    collection=img,\n",
    "    description=f'{id}_age_agbd',\n",
    "    folder='drive_export',\n",
    "    fileFormat='CSV')\n",
    "    task.start()\n",
    "\n",
    "# Map.addLayer(age_viz, {'min':0, 'max':35, 'palette':['blue', 'red']}, 'ages')\n",
    "# vizpar = {'min': 1, 'max': 415, 'palette': ['blue', 'red']}  # Blue for 0, Red for 1\n",
    "# Map.addLayer(agbd_viz, vizpar, \"biomass\")\n",
    "# Map"
   ]
  }
 ],
 "metadata": {
  "colab": {
   "provenance": []
  },
  "kernelspec": {
   "display_name": "Python 3 (ipykernel)",
   "language": "python",
   "name": "python3"
  },
  "language_info": {
   "codemirror_mode": {
    "name": "ipython",
    "version": 3
   },
   "file_extension": ".py",
   "mimetype": "text/x-python",
   "name": "python",
   "nbconvert_exporter": "python",
   "pygments_lexer": "ipython3",
   "version": "3.11.5"
  }
 },
 "nbformat": 4,
 "nbformat_minor": 4
}
