{
 "cells": [
  {
   "cell_type": "code",
   "execution_count": null,
   "metadata": {},
   "outputs": [],
   "source": [
    "\n",
    "distance = mature_biomass_1k.fastDistanceTransform().sqrt() \\\n",
    "    .multiply(ee.Image.pixelArea().sqrt()).rename(\"distance\") \\\n",
    "    .updateMask(age_agbd.select(\"age\")).float().clip(roi)\n",
    "\n",
    "\n",
    "# Function to buffer and calculate mean\n",
    "def buffer_and_calculate_mean(f):\n",
    "    distance = ee.Number(f.get('distance'))\n",
    "    buffered = ee.Feature(f.buffer(distance.add(30), 1))\n",
    "    mean_value = mature_biomass.reduceRegion(ee.Reducer.mean().unweighted(), buffered.geometry(), 100, \\\n",
    "                                               maxPixels=1e13)\n",
    "    return buffered.set(mean_value)\n",
    "\n",
    "pts_dist = distance.reduceRegions(unified_data_fc, ee.Reducer.first().setOutputs([\"distance\"]))\n",
    "\n",
    "pts = pts_dist.map(buffer_and_calculate_mean)\n",
    "\n",
    "\n"
   ]
  },
  {
   "cell_type": "code",
   "execution_count": null,
   "metadata": {},
   "outputs": [],
   "source": [
    "# Create the export task\n",
    "task = ee.batch.Export.image.toAsset(\n",
    "    image=distance,\n",
    "    description=\"distance\",\n",
    "    assetId=\"projects/amazon-forest-regrowth/assets/distance_eucl_amaz_60000\",\n",
    "    region = distance.geometry(),\n",
    "    crs=\"EPSG:4326\",\n",
    "    scale = 1000,\n",
    "    maxPixels=5e10\n",
    ")\n",
    "\n",
    "# # Start the export task\n",
    "task.start()\n"
   ]
  },
  {
   "cell_type": "code",
   "execution_count": null,
   "metadata": {},
   "outputs": [],
   "source": [
    "age_agbd = ee.Image(f\"{data_folder}/age_agbd\")\n",
    "distance = ee.Image(f\"{data_folder}/distance_1000m_{region}\")\n",
    "\n",
    "# Sample the image to extract all points\n",
    "points = age_agbd.sample(\n",
    "    region=region_shp,\n",
    "    scale=30,  # Adjust the scale as needed\n",
    "    numPixels=1e13,  # Large number to ensure all points are sampled\n",
    "    geometries=True  # Include geometries in the output\n",
    ")\n",
    "\n",
    "pts_dist = distance.reduceRegions(points, ee.Reducer.first().setOutputs([\"distance\"]), scale = 1000)\n",
    "\n",
    "# pts_dist = pts_dist.map(lambda feature: ee.Feature(None, {'distance': feature.get('distance')}))\n",
    "\n",
    "# Function to buffer and calculate mean\n",
    "def buffer_and_calculate_mean(f):\n",
    "    distance = ee.Number(f.get('distance'))\n",
    "    buffered = ee.Feature(f.buffer(distance.add(1000), 1))\n",
    "    mean_value = mature_biomass_aggregated.reduceRegion(ee.Reducer.mean().unweighted(), \\\n",
    "                                                        buffered.geometry(), 1000, maxPixels=1e13)\n",
    "    return buffered.set(mean_value)\n",
    "\n",
    "pts = pts_dist.map(buffer_and_calculate_mean)\n",
    "\n",
    "pts_image = pts.reduceToImage(properties=['distance'], reducer=ee.Reducer.first())\n",
    "\n",
    "export_task = ee.batch.Export.image.toAsset(\n",
    "    image=pts_image,\n",
    "    assetId=f\"projects/amazon-forest-regrowth/assets/nearest_distance_1000m_countrywide_gee\",\n",
    "    description='nearest_distance_1000m_countrywide_gee',\n",
    "    region = region_shp,\n",
    "    scale=1000,\n",
    "    maxPixels=1e13\n",
    ")\n",
    "export_task.start()\n"
   ]
  }
 ],
 "metadata": {
  "language_info": {
   "name": "python"
  }
 },
 "nbformat": 4,
 "nbformat_minor": 2
}
