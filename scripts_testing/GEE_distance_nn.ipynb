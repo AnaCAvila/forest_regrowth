{
 "cells": [
  {
   "cell_type": "code",
   "execution_count": null,
   "metadata": {},
   "outputs": [],
   "source": [
    "\n",
    "distance = mature_biomass_1k.fastDistanceTransform().sqrt() \\\n",
    "    .multiply(ee.Image.pixelArea().sqrt()).rename(\"distance\") \\\n",
    "    .updateMask(age_agbd.select(\"age\")).float().clip(roi)\n",
    "\n",
    "\n",
    "# Function to buffer and calculate mean\n",
    "def buffer_and_calculate_mean(f):\n",
    "    distance = ee.Number(f.get('distance'))\n",
    "    buffered = ee.Feature(f.buffer(distance.add(30), 1))\n",
    "    mean_value = mature_biomass.reduceRegion(ee.Reducer.mean().unweighted(), buffered.geometry(), 100, \\\n",
    "                                               maxPixels=1e13)\n",
    "    return buffered.set(mean_value)\n",
    "\n",
    "pts_dist = distance.reduceRegions(unified_data_fc, ee.Reducer.first().setOutputs([\"distance\"]))\n",
    "\n",
    "pts = pts_dist.map(buffer_and_calculate_mean)\n",
    "\n",
    "\n"
   ]
  }
 ],
 "metadata": {
  "language_info": {
   "name": "python"
  }
 },
 "nbformat": 4,
 "nbformat_minor": 2
}
