{
 "cells": [
  {
   "cell_type": "code",
   "execution_count": null,
   "metadata": {},
   "outputs": [],
   "source": [
    "import ee\n",
    "import geemap\n",
    "\n",
    "# Authenticate to Earth Engine\n",
    "try:\n",
    "    ee.Initialize()\n",
    "except Exception as e:\n",
    "    ee.Authenticate()\n",
    "    ee.Initialize()\n",
    "\n",
    "first_year = 1985\n",
    "last_year = 2020\n",
    "\n",
    "data_folder = \"projects/amazon-forest-regrowth/assets\"\n",
    "# This collection is not publicly accessible. To sign up for access,\n",
    "# please see https://developers.planet.com/docs/integrations/gee/nicfi\n",
    "nicfi = ee.ImageCollection('projects/planet-nicfi/assets/basemaps/americas')\n",
    "\n",
    "# Filter basemaps by date and get the first image from filtered results\n",
    "basemap = nicfi.filter(ee.Filter.date('2016-03-01', '2016-07-01')).first()\n",
    "basemap2 = nicfi.filter(ee.Filter.date('2018-03-01', '2018-07-01')).first()\n",
    "basemap3 = nicfi.filter(ee.Filter.date('2020-03-01', '2020-07-01')).first()\n",
    "\n",
    "sampled_points = ee.FeatureCollection(f\"{data_folder}/15y_nn_masked_mature\")\n",
    "mature_biomass = ee.Image(f\"{data_folder}/mature_biomass\")\n",
    "mature_biomass_1km = mature_biomass.unmask(0).focalMode(kernelType=\"circle\", radius=5000, units=\"meters\").selfMask()\n",
    "\n",
    "# Visualization parameters\n",
    "vis = {'bands': ['R', 'G', 'B'], 'min': 64, 'max': 5454, 'gamma': 1.8}\n",
    "vis_biomass = {'min': 0, 'max': 300, 'palette': ['black', 'brown', 'yellow', 'green']}\n",
    "\n",
    "Map = geemap.Map()\n",
    "Map.centerObject(basemap, 4)\n",
    "# Map.addLayer(basemap, vis, '2016 mosaic')\n",
    "Map.addLayer(basemap3, vis, '2020 mosaic')\n",
    "Map.addLayer(mature_biomass, vis_biomass, \"mature_biomass\")\n",
    "Map.addLayer(mature_biomass_1km, vis_biomass, \"Mature Biomass 1k\")\n",
    "Map"
   ]
  }
 ],
 "metadata": {
  "language_info": {
   "name": "python"
  }
 },
 "nbformat": 4,
 "nbformat_minor": 2
}
