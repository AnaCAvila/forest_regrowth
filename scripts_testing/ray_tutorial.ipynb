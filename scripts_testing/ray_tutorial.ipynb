{
 "cells": [
  {
   "cell_type": "code",
   "execution_count": null,
   "metadata": {
    "id": "l3S1fVUZksY6"
   },
   "outputs": [],
   "source": [
    "import os\n",
    "import random\n",
    "\n",
    "import numpy as np\n",
    "import torch\n",
    "import torch.optim as optim\n",
    "import torch.nn as nn\n",
    "from torchvision import datasets, transforms\n",
    "from torch.utils.data import DataLoader\n",
    "import torch.nn.functional as F\n",
    "from matplotlib import pyplot as plt\n",
    "\n",
    "from ray import train, tune\n",
    "from ray.tune.schedulers import ASHAScheduler"
   ]
  },
  {
   "cell_type": "code",
   "execution_count": null,
   "metadata": {},
   "outputs": [],
   "source": [
    "random.seed(0)\n",
    "\n",
    "torch.manual_seed(0)\n",
    "torch.cuda.manual_seed(0)\n",
    "np.random.seed(0)\n",
    "\n",
    "# torch.use_deterministic_algorithms(True)\n",
    "torch.backends.cudnn.deterministic = True\n",
    "torch.backends.cudnn.benchmark = False\n",
    "# Set a fixed value for the hash seed\n",
    "os.environ[\"PYTHONHASHSEED\"] = str(0)\n"
   ]
  },
  {
   "cell_type": "code",
   "execution_count": null,
   "metadata": {
    "id": "XrNS_nHKlUbB"
   },
   "outputs": [],
   "source": [
    "class ConvNet(nn.Module):\n",
    "    def __init__(self):\n",
    "        super(ConvNet, self).__init__()\n",
    "        # In this example, we don't change the model architecture\n",
    "        # due to simplicity.\n",
    "        self.conv1 = nn.Conv2d(1, 3, kernel_size=3)\n",
    "        self.fc = nn.Linear(192, 10)\n",
    "\n",
    "    def forward(self, x):\n",
    "        x = F.relu(F.max_pool2d(self.conv1(x), 3))\n",
    "        x = x.view(-1, 192)\n",
    "        x = self.fc(x)\n",
    "        return F.log_softmax(x, dim=1)"
   ]
  },
  {
   "cell_type": "code",
   "execution_count": null,
   "metadata": {
    "id": "I75vOXtxlssS"
   },
   "outputs": [],
   "source": [
    "MAX_ITER = 2024\n",
    "TEST_SIZE = 256\n",
    "\n",
    "def train_epoch(model, optimizer, train_loader):\n",
    "    device = torch.device(\"cuda\" if torch.cuda.is_available() else \"cpu\")\n",
    "    model.train()\n",
    "    for batch_idx, (data, target) in enumerate(train_loader):\n",
    "        # We set this just for the example to run quickly.\n",
    "        if batch_idx  > MAX_ITER:\n",
    "            return\n",
    "        data, target = data.to(device), target.to(device)\n",
    "        optimizer.zero_grad()\n",
    "        output = model(data)\n",
    "        loss = F.nll_loss(output, target)\n",
    "        loss.backward()\n",
    "        optimizer.step()\n",
    "\n",
    "    # return model\n",
    "\n",
    "\n",
    "def validate(model, data_loader):\n",
    "    device = torch.device(\"cuda\" if torch.cuda.is_available() else \"cpu\")\n",
    "    model.eval()\n",
    "    correct = 0\n",
    "    total = 0\n",
    "    with torch.no_grad():\n",
    "        for batch_idx, (data, target) in enumerate(data_loader):\n",
    "            if batch_idx > TEST_SIZE:\n",
    "              break\n",
    "            data, target = data.to(device), target.to(device)\n",
    "            outputs = model(data)\n",
    "            _, predicted = torch.max(outputs.data, 1)\n",
    "            total += target.size(0)\n",
    "            correct += (predicted == target).sum().item()\n",
    "\n",
    "    return correct / total"
   ]
  },
  {
   "cell_type": "code",
   "execution_count": null,
   "metadata": {
    "colab": {
     "background_save": true
    },
    "id": "w0EM4uwblYG2"
   },
   "outputs": [],
   "source": [
    "def train_mnist(config):\n",
    "    # Data Setup\n",
    "    mnist_transforms = transforms.Compose(\n",
    "        [transforms.ToTensor(),\n",
    "         transforms.Normalize((0.1307, ), (0.3081, ))])\n",
    "\n",
    "    train_loader = DataLoader(\n",
    "        datasets.MNIST(\"~/data\", train=True, download=True, transform=mnist_transforms),\n",
    "        batch_size=64,\n",
    "        shuffle=True)\n",
    "    test_loader = DataLoader(\n",
    "        datasets.MNIST(\"~/data\", train=False, transform=mnist_transforms),\n",
    "        batch_size=64,\n",
    "        shuffle=True)\n",
    "\n",
    "    device = torch.device(\"cuda\" if torch.cuda.is_available() else \"cpu\")\n",
    "\n",
    "    model = ConvNet()\n",
    "    model.to(device)\n",
    "\n",
    "    optimizer = optim.SGD(\n",
    "        model.parameters(), lr=config[\"lr\"], momentum=config[\"momentum\"])\n",
    "    for i in range(5):\n",
    "        train_epoch(model, optimizer, train_loader)\n",
    "        acc = validate(model, test_loader)\n",
    "\n",
    "        # print(f\"Epoch {i+1}, Accuracy: {acc}\")\n",
    "        train.report({\"accuracy\": acc})#, checkpoint=checkpoint)\n"
   ]
  },
  {
   "cell_type": "code",
   "execution_count": null,
   "metadata": {
    "colab": {
     "background_save": true
    },
    "id": "iznykM3BnQSb",
    "outputId": "275ca95f-7b00-4d98-eebf-c38402437e8e"
   },
   "outputs": [],
   "source": [
    "# config = {\"lr\": 0.01, \"momentum\":0.95}\n",
    "# train_mnist(config)\n",
    "\n",
    "tuner = tune.Tuner(\n",
    "    train_mnist,\n",
    "    param_space={\"lr\": 0.01, \"momentum\":0.95},\n",
    ")\n",
    "results = tuner.fit()"
   ]
  },
  {
   "cell_type": "code",
   "execution_count": null,
   "metadata": {
    "colab": {
     "base_uri": "https://localhost:8080/"
    },
    "id": "AB1Ab-RupJDi",
    "outputId": "ed085914-a37b-4258-8b28-b0c0831bc8b5"
   },
   "outputs": [],
   "source": [
    "search_space = {\n",
    "    \"lr\": tune.grid_search([0.1, 0.01, 0.005, 0.001]),\n",
    "    \"momentum\": tune.grid_search([0.9, 0.95]),\n",
    "\n",
    "    # \"momentum\": tune.choice([0.9, 0.95, 0.99]),\n",
    "\n",
    "    # \"lr\": tune.sample_from([0.1, 0.01, 0.001]),\n",
    "    # \"momentum\": tune.uniform(0.9, 0.99),\n",
    "}\n",
    "\n",
    "trainable_with_cpu_gpu = tune.with_resources(train_mnist, {\"cpu\":1 , \"gpu\": 0.5})\n",
    "tuner = tune.Tuner(\n",
    "    trainable_with_cpu_gpu,\n",
    "    param_space=search_space,\n",
    ")\n",
    "results = tuner.fit()"
   ]
  },
  {
   "cell_type": "code",
   "execution_count": null,
   "metadata": {
    "colab": {
     "base_uri": "https://localhost:8080/",
     "height": 432
    },
    "id": "MuNUflJ509Oh",
    "outputId": "e0c01ded-1865-4fff-b11d-b2caa71e7241"
   },
   "outputs": [],
   "source": [
    "dfs = {result.path: result.metrics_dataframe for result in results}\n",
    "ax = None  # This plots everything on the same plot\n",
    "for d in dfs.values():\n",
    "    lr, m = d[[\"config/lr\",\"config/momentum\"]].iloc[0].tolist()\n",
    "    # if m ==0.95 and lr == 0.1:\n",
    "    #     continue\n",
    "    l = f\"lr:{lr},m:{m}\"\n",
    "    plt.plot(d.accuracy, label=l)\n",
    "    # ax = d.accuracy.plot(ax=ax)\n",
    "    # ax.legend(\"a\")\n",
    "plt.legend()"
   ]
  }
 ],
 "metadata": {
  "accelerator": "GPU",
  "colab": {
   "gpuType": "T4",
   "provenance": []
  },
  "kernelspec": {
   "display_name": "Python 3 (ipykernel)",
   "language": "python",
   "name": "python3"
  },
  "language_info": {
   "codemirror_mode": {
    "name": "ipython",
    "version": 3
   },
   "file_extension": ".py",
   "mimetype": "text/x-python",
   "name": "python",
   "nbconvert_exporter": "python",
   "pygments_lexer": "ipython3",
   "version": "3.9.19"
  }
 },
 "nbformat": 4,
 "nbformat_minor": 4
}
