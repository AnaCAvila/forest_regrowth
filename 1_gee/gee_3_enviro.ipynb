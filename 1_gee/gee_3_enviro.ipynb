{
 "cells": [
  {
   "cell_type": "code",
   "execution_count": null,
   "metadata": {},
   "outputs": [],
   "source": [
    "import ee\n",
    "import geemap\n",
    "\n",
    "import ee\n",
    "import geemap\n",
    "from gee_0_utils import *\n",
    "\n",
    "initialize()\n",
    "data_folder, roi = global_variables()"
   ]
  },
  {
   "cell_type": "code",
   "execution_count": null,
   "metadata": {},
   "outputs": [],
   "source": [
    "nitro = ee.Image(\"projects/soilgrids-isric/nitrogen_mean\").clip(age.geometry())\n",
    "cec = ee.Image(\"projects/soilgrids-isric/cec_mean\") # cation exchange capacity\n",
    "clay = ee.Image(\"projects/soilgrids-isric/clay_mean\").clip(age.geometry())\n",
    "sand = ee.Image(\"projects/soilgrids-isric/sand_mean\").clip(age.geometry())\n",
    "soc = ee.Image(\"projects/soilgrids-isric/soc_mean\").clip(age.geometry()) # soil organic carbon\n",
    "phh2o = ee.Image(\"projects/soilgrids-isric/phh2o_mean\").clip(age.geometry())\n",
    "\n",
    "ocd = ee.Image(\"projects/soilgrids-isric/ocd_mean\") # organic carbon density\n"
   ]
  }
 ],
 "metadata": {
  "language_info": {
   "name": "python"
  }
 },
 "nbformat": 4,
 "nbformat_minor": 2
}
