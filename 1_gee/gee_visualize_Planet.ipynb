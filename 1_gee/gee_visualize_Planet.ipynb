{
 "cells": [
  {
   "cell_type": "code",
   "execution_count": 12,
   "metadata": {},
   "outputs": [
    {
     "data": {
      "text/html": [
       "\n",
       "            <style>\n",
       "                .geemap-dark {\n",
       "                    --jp-widgets-color: white;\n",
       "                    --jp-widgets-label-color: white;\n",
       "                    --jp-ui-font-color1: white;\n",
       "                    --jp-layout-color2: #454545;\n",
       "                    background-color: #383838;\n",
       "                }\n",
       "\n",
       "                .geemap-dark .jupyter-button {\n",
       "                    --jp-layout-color3: #383838;\n",
       "                }\n",
       "\n",
       "                .geemap-colab {\n",
       "                    background-color: var(--colab-primary-surface-color, white);\n",
       "                }\n",
       "\n",
       "                .geemap-colab .jupyter-button {\n",
       "                    --jp-layout-color3: var(--colab-primary-surface-color, white);\n",
       "                }\n",
       "            </style>\n",
       "            "
      ],
      "text/plain": [
       "<IPython.core.display.HTML object>"
      ]
     },
     "metadata": {},
     "output_type": "display_data"
    },
    {
     "data": {
      "application/vnd.jupyter.widget-view+json": {
       "model_id": "1f049d66beb04c7f84f41ed7b04a08eb",
       "version_major": 2,
       "version_minor": 0
      },
      "text/plain": [
       "Map(center=[0.0006306135584438607, -75.32069960585136], controls=(WidgetControl(options=['position', 'transpar…"
      ]
     },
     "execution_count": 12,
     "metadata": {},
     "output_type": "execute_result"
    }
   ],
   "source": [
    "import ee\n",
    "import geemap\n",
    "\n",
    "# Authenticate to Earth Engine\n",
    "try:\n",
    "    ee.Initialize()\n",
    "except Exception as e:\n",
    "    ee.Authenticate()\n",
    "    ee.Initialize()\n",
    "\n",
    "first_year = 1985\n",
    "last_year = 2020\n",
    "\n",
    "data_folder = \"projects/amazon-forest-regrowth/assets\"\n",
    "# This collection is not publicly accessible. To sign up for access,\n",
    "# please see https://developers.planet.com/docs/integrations/gee/nicfi\n",
    "nicfi = ee.ImageCollection('projects/planet-nicfi/assets/basemaps/americas')\n",
    "\n",
    "# Filter basemaps by date and get the first image from filtered results\n",
    "basemap = nicfi.filter(ee.Filter.date('2016-03-01', '2016-07-01')).first()\n",
    "basemap2 = nicfi.filter(ee.Filter.date('2018-03-01', '2018-07-01')).first()\n",
    "basemap3 = nicfi.filter(ee.Filter.date('2020-03-01', '2020-07-01')).first()\n",
    "\n",
    "mature = ee.Image(f\"{data_folder}/mature_biomass\")\n",
    "agbd = ee.Image(f\"{data_folder}/age_agbd\").select('agbd')\n",
    "ages = ee.Image(f\"{data_folder}/age_agbd\").select('age')\n",
    "pantanal = ee.FeatureCollection(f\"{data_folder}/raw/biomes_br\") \\\n",
    "        .filter(ee.Filter.eq(\"CD_Bioma\", 6)).geometry()\n",
    "\n",
    "# import ages from MapBiomas\n",
    "age = ee.Image(\n",
    "    \"projects/mapbiomas-workspace/public/collection8/mapbiomas_collection80_secondary_vegetation_age_v2\"\n",
    ").select(\"secondary_vegetation_age_2020\")\n",
    "\n",
    "# Load images from MapBiomas Collection 8 for Land Use Land Cover and Burned Area\n",
    "lulc_raw = (\n",
    "    ee.Image(\n",
    "        \"projects/mapbiomas-workspace/public/collection8/mapbiomas_collection80_integration_v1\"\n",
    "    )\n",
    "    .select([f\"classification_{year}\" for year in range(first_year, last_year + 1)])\n",
    "    .byte()\n",
    "    .rename([str(year) for year in range(first_year, last_year + 1)])\n",
    ")\n",
    "\n",
    "# restricting to only the land use in pixels classified as secondary forests in 2020:\n",
    "# lulc_raw = lulc_raw.updateMask(age)\n",
    "# List the categories that are DESIRED to be maintained\n",
    "desired_values = ee.List([3, 6])\n",
    "mask_all_ones = ee.List.repeat(1, desired_values.size())\n",
    "\n",
    "# For each band, convert pixels with desired land use types to 1 - undesired types to zero\n",
    "def remap_band(band_name):\n",
    "    band = lulc_raw.select(ee.String(band_name))\n",
    "    new_band = band.remap(desired_values, mask_all_ones, 0)\n",
    "    return new_band.rename(ee.String(band_name))\n",
    "\n",
    "# Map the function over the band names\n",
    "remapped_image = lulc_raw.bandNames().map(remap_band)\n",
    "# make mask by adding all pixels that add up to the total number of years (all pixels with desired categories)\n",
    "remapped_image = ee.ImageCollection(remapped_image).toBands()\n",
    "desired_mask = remapped_image.reduce(\"sum\").eq(lulc_raw.bandNames().size().getInfo())\n",
    "\n",
    "# age = age.updateMask(desired_mask).rename(\"age\")\n",
    "lulc = lulc_raw.updateMask(desired_mask)\n",
    "\n",
    "# Visualization parameters\n",
    "vis_planet = {'bands': ['R', 'G', 'B'], 'min': 64, 'max': 5454, 'gamma': 1.8}\n",
    "vis_ages = {'min': 0, 'max': 35, 'palette': ['yellow', 'green']}\n",
    "vis_agbd = {'min': 0, 'max': 300, 'palette': ['yellow', 'green']}\n",
    "vis_mature = {'min': 0, 'max': 300, 'palette': ['blue', 'red']}\n",
    "vis_geom = {\n",
    "    'color': 'red',      # Color of the edge\n",
    "    'width': 2           # Width of the edge\n",
    "}\n",
    "\n",
    "Map = geemap.Map()\n",
    "Map.centerObject(basemap, 4)\n",
    "# Map.addLayer(basemap, vis, '2016 mosaic')\n",
    "Map.addLayer(basemap3, vis_planet, '2020 mosaic')\n",
    "Map.addLayer(pantanal, vis_geom, 'pantanal')\n",
    "Map.addLayer(ages, vis_ages, 'ages')\n",
    "Map.addLayer(lulc, {}, 'lulc')\n",
    "# Map.addLayer(agbd, vis_agbd, 'agbd')\n",
    "Map.addLayer(mature, vis_mature, 'mature')\n",
    "Map"
   ]
  }
 ],
 "metadata": {
  "kernelspec": {
   "display_name": "for_reg_env",
   "language": "python",
   "name": "python3"
  },
  "language_info": {
   "codemirror_mode": {
    "name": "ipython",
    "version": 3
   },
   "file_extension": ".py",
   "mimetype": "text/x-python",
   "name": "python",
   "nbconvert_exporter": "python",
   "pygments_lexer": "ipython3",
   "version": "3.11.9"
  }
 },
 "nbformat": 4,
 "nbformat_minor": 2
}
