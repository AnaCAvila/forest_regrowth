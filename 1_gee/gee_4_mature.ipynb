{
 "cells": [
  {
   "cell_type": "code",
   "execution_count": 1,
   "metadata": {},
   "outputs": [],
   "source": [
    "import ee\n",
    "import geemap\n",
    "from gee_0_utils import *\n",
    "\n",
    "initialize()\n",
    "config = ProjectConfig()\n",
    "\n",
    "roi = config.roi\n",
    "data_folder = config.data_folder\n",
    "_, lulc, _ = desired_lulc()\n",
    "\n",
    "biomass_raw = ee.Image(f\"{data_folder}/raw/biomass\")\n",
    "proj = biomass_raw.projection().getInfo()"
   ]
  },
  {
   "cell_type": "markdown",
   "metadata": {},
   "source": [
    "## Surrounding mature forests\n",
    "\n",
    "- Mean biomass of surrounding mature forests (interpolated with Gaussian kernel)\n",
    "- Mean fragmentation of surrounding mature forests (interpolated with Gaussian kernel)\n",
    "- Total surrounding mature forest cover (normalized from 0-1)"
   ]
  },
  {
   "cell_type": "code",
   "execution_count": 20,
   "metadata": {},
   "outputs": [
    {
     "data": {
      "text/html": [
       "\n",
       "            <style>\n",
       "                .geemap-dark {\n",
       "                    --jp-widgets-color: white;\n",
       "                    --jp-widgets-label-color: white;\n",
       "                    --jp-ui-font-color1: white;\n",
       "                    --jp-layout-color2: #454545;\n",
       "                    background-color: #383838;\n",
       "                }\n",
       "\n",
       "                .geemap-dark .jupyter-button {\n",
       "                    --jp-layout-color3: #383838;\n",
       "                }\n",
       "\n",
       "                .geemap-colab {\n",
       "                    background-color: var(--colab-primary-surface-color, white);\n",
       "                }\n",
       "\n",
       "                .geemap-colab .jupyter-button {\n",
       "                    --jp-layout-color3: var(--colab-primary-surface-color, white);\n",
       "                }\n",
       "            </style>\n",
       "            "
      ],
      "text/plain": [
       "<IPython.core.display.HTML object>"
      ]
     },
     "metadata": {},
     "output_type": "display_data"
    }
   ],
   "source": [
    "def get_mature_mask(method, lulc):\n",
    "    config = ProjectConfig()\n",
    "\n",
    "    if method == 'eu':\n",
    "        annual_changes = ee.ImageCollection('projects/JRC/TMF/v1_2023/AnnualChanges').mosaic().clip(config.roi)\n",
    "        return annual_changes.select('Dec2020').eq(1).selfMask()\n",
    "    elif method == 'mapbiomas':\n",
    "        return lulc.eq(3).reduce(ee.Reducer.allNonZero()).selfMask()\n",
    "\n",
    "def get_mature_biomass(method, biomass_raw, mature_mask):\n",
    "    if method == 'eu':\n",
    "        return biomass_raw.updateMask(mature_mask).rename(\"mature_biomass\")\n",
    "    elif method == 'mapbiomas':\n",
    "        edge_detec = mature_mask.unmask(-1).zeroCrossing()\n",
    "        distance_to_edge = edge_detec.fastDistanceTransform().sqrt() \\\n",
    "            .multiply(ee.Image.pixelArea().sqrt()).rename(\"distance_to_edge\")\n",
    "        distance_to_edge = distance_to_edge.gt(1000).selfMask().updateMask(mature_mask)\n",
    "        return biomass_raw.updateMask(distance_to_edge).rename(\"mature_biomass\")\n",
    "\n",
    "def export_mature_biomass(method, export = True):\n",
    "\n",
    "    biomass_raw = ee.Image(f\"{data_folder}/raw/biomass\")\n",
    "    proj = biomass_raw.projection().getInfo()\n",
    "\n",
    "    mature_mask = get_mature_mask(method, lulc)\n",
    "    sur_cover = mature_mask.unmask(0).focalMean(radius = 1000, units = \"meters\").float().rename(\"sur_cover\")\n",
    "    mature_biomass = get_mature_biomass(method, biomass_raw, mature_mask)\n",
    "\n",
    "    if export:\n",
    "        export_image(mature_biomass, \"mature_biomass1\", folder = method, crsTransform = proj['transform'])\n",
    "        export_image(mature_biomass, \"mature_biomass_5001\", folder = method, scale = 500)\n",
    "        export_image(sur_cover, \"sur_cover1\", folder = method, scale = 30)\n",
    "\n",
    "    return mature_biomass\n",
    "\n",
    "# export_mature_biomass('eu')\n",
    "# export_mature_biomass('mapbiomas')"
   ]
  },
  {
   "cell_type": "code",
   "execution_count": 5,
   "metadata": {},
   "outputs": [
    {
     "data": {
      "text/html": [
       "\n",
       "            <style>\n",
       "                .geemap-dark {\n",
       "                    --jp-widgets-color: white;\n",
       "                    --jp-widgets-label-color: white;\n",
       "                    --jp-ui-font-color1: white;\n",
       "                    --jp-layout-color2: #454545;\n",
       "                    background-color: #383838;\n",
       "                }\n",
       "\n",
       "                .geemap-dark .jupyter-button {\n",
       "                    --jp-layout-color3: #383838;\n",
       "                }\n",
       "\n",
       "                .geemap-colab {\n",
       "                    background-color: var(--colab-primary-surface-color, white);\n",
       "                }\n",
       "\n",
       "                .geemap-colab .jupyter-button {\n",
       "                    --jp-layout-color3: var(--colab-primary-surface-color, white);\n",
       "                }\n",
       "            </style>\n",
       "            "
      ],
      "text/plain": [
       "<IPython.core.display.HTML object>"
      ]
     },
     "metadata": {},
     "output_type": "display_data"
    }
   ],
   "source": [
    "def get_mature_biomass_vector(mature_biomass, method):\n",
    "    # there are time out issues with larger mature_biomass images.\n",
    "    # to get around it, we reduce to vectors over the geometries of the biomes we are considering\n",
    "    # and we exclude the pixels that are within the given search radius of the biome edges\n",
    "\n",
    "    biome = ee.FeatureCollection(f\"{data_folder}/raw/biomes_br\")\n",
    "    amaz_atla_pant = biome.filter(ee.Filter.inList('CD_Bioma', [1, 4, 6]))\n",
    "    mature_biomass = mature_biomass.clip(amaz_atla_pant)\n",
    "\n",
    "    mature_biomass_vector = mature_biomass.sample(region = mature_biomass.geometry(), scale = 1000, geometries = True)\n",
    "\n",
    "    # Export the mean_biomass_image as an asset\n",
    "    task = ee.batch.Export.table.toAsset(\n",
    "        collection = mature_biomass_vector,\n",
    "        assetId = f\"{data_folder}/{method}/mature_biomass_vector\",\n",
    "        description = \"mature_biomass_vector\"\n",
    "    )\n",
    "\n",
    "    task.start()\n",
    "\n",
    "mature_biomass = ee.Image(f\"{data_folder}/eu/mature_biomass\")\n",
    "get_mature_biomass_vector(mature_biomass, 'eu')\n"
   ]
  },
  {
   "cell_type": "code",
   "execution_count": 10,
   "metadata": {},
   "outputs": [
    {
     "data": {
      "text/html": [
       "\n",
       "            <style>\n",
       "                .geemap-dark {\n",
       "                    --jp-widgets-color: white;\n",
       "                    --jp-widgets-label-color: white;\n",
       "                    --jp-ui-font-color1: white;\n",
       "                    --jp-layout-color2: #454545;\n",
       "                    background-color: #383838;\n",
       "                }\n",
       "\n",
       "                .geemap-dark .jupyter-button {\n",
       "                    --jp-layout-color3: #383838;\n",
       "                }\n",
       "\n",
       "                .geemap-colab {\n",
       "                    background-color: var(--colab-primary-surface-color, white);\n",
       "                }\n",
       "\n",
       "                .geemap-colab .jupyter-button {\n",
       "                    --jp-layout-color3: var(--colab-primary-surface-color, white);\n",
       "                }\n",
       "            </style>\n",
       "            "
      ],
      "text/plain": [
       "<IPython.core.display.HTML object>"
      ]
     },
     "metadata": {},
     "output_type": "display_data"
    }
   ],
   "source": [
    "def get_distance_to_nearest_mature(method):\n",
    "\n",
    "    secondary = ee.Image(f\"{data_folder}/{method}/secondary\")\n",
    "    secondary = secondary.select(\"age\")\n",
    "\n",
    "    mature_biomass_vector = ee.FeatureCollection(f\"{data_folder}/{method}/mature_biomass_vector\")\n",
    "    # change radius depending on data resolution and patterns\n",
    "    distance_to_nearest_mature = mature_biomass_vector.distance(searchRadius = 10000)\\\n",
    "        .toInt().updateMask(secondary)\n",
    "\n",
    "    export_image(distance_to_nearest_mature, \"distance_to_nearest_mature\", \\\n",
    "                 folder = method, crsTransform = proj['transform'], scale = 1000)\n",
    "\n",
    "    return distance_to_nearest_mature\n",
    "\n",
    "distance_to_nearest_mature = get_distance_to_nearest_mature('eu')\n"
   ]
  },
  {
   "cell_type": "code",
   "execution_count": 12,
   "metadata": {},
   "outputs": [
    {
     "data": {
      "text/html": [
       "\n",
       "            <style>\n",
       "                .geemap-dark {\n",
       "                    --jp-widgets-color: white;\n",
       "                    --jp-widgets-label-color: white;\n",
       "                    --jp-ui-font-color1: white;\n",
       "                    --jp-layout-color2: #454545;\n",
       "                    background-color: #383838;\n",
       "                }\n",
       "\n",
       "                .geemap-dark .jupyter-button {\n",
       "                    --jp-layout-color3: #383838;\n",
       "                }\n",
       "\n",
       "                .geemap-colab {\n",
       "                    background-color: var(--colab-primary-surface-color, white);\n",
       "                }\n",
       "\n",
       "                .geemap-colab .jupyter-button {\n",
       "                    --jp-layout-color3: var(--colab-primary-surface-color, white);\n",
       "                }\n",
       "            </style>\n",
       "            "
      ],
      "text/plain": [
       "<IPython.core.display.HTML object>"
      ]
     },
     "metadata": {},
     "output_type": "display_data"
    }
   ],
   "source": [
    "def buffer_distance(f):\n",
    "    distance = ee.Number(f.get('distance'))\n",
    "    buffered = ee.Feature(f.buffer(distance.add(1000)))\n",
    "    return buffered\n",
    "\n",
    "def get_distances_vector_buffer(distance_to_nearest_mature, method):\n",
    "    categorical = ee.Image(f\"{data_folder}/categorical\")\n",
    "    \n",
    "    biome_mask = categorical.select('biome').eq(1) \\\n",
    "    .Or(categorical.select('biome').eq(4)) \\\n",
    "    .Or(categorical.select('biome').eq(6))\n",
    "\n",
    "    distance_to_nearest_mature = distance_to_nearest_mature \\\n",
    "        .addBands(biome_mask)\n",
    "\n",
    "    distances_vector = distance_to_nearest_mature.stratifiedSample(\n",
    "        numPoints = 50000, classBand = \"biome\", region = roi, geometries = True\n",
    "    )\n",
    "    \n",
    "    distances_vector_buffer = distances_vector.map(buffer_distance)\n",
    "\n",
    "    # Export the mean_biomass_image as an asset\n",
    "    task = ee.batch.Export.table.toAsset(\n",
    "        collection = distances_vector_buffer,\n",
    "        assetId = f\"{data_folder}/{method}/distances_vector_buffer\",\n",
    "        description = \"distances_vector_buffer\"\n",
    "    )\n",
    "\n",
    "    task.start()\n",
    "\n",
    "distance_to_nearest_mature = ee.Image(f\"{data_folder}/eu/distance_to_nearest_mature\")\n",
    "get_distances_vector_buffer(distance_to_nearest_mature, 'eu')"
   ]
  },
  {
   "cell_type": "code",
   "execution_count": 6,
   "metadata": {},
   "outputs": [
    {
     "data": {
      "text/html": [
       "\n",
       "            <style>\n",
       "                .geemap-dark {\n",
       "                    --jp-widgets-color: white;\n",
       "                    --jp-widgets-label-color: white;\n",
       "                    --jp-ui-font-color1: white;\n",
       "                    --jp-layout-color2: #454545;\n",
       "                    background-color: #383838;\n",
       "                }\n",
       "\n",
       "                .geemap-dark .jupyter-button {\n",
       "                    --jp-layout-color3: #383838;\n",
       "                }\n",
       "\n",
       "                .geemap-colab {\n",
       "                    background-color: var(--colab-primary-surface-color, white);\n",
       "                }\n",
       "\n",
       "                .geemap-colab .jupyter-button {\n",
       "                    --jp-layout-color3: var(--colab-primary-surface-color, white);\n",
       "                }\n",
       "            </style>\n",
       "            "
      ],
      "text/plain": [
       "<IPython.core.display.HTML object>"
      ]
     },
     "metadata": {},
     "output_type": "display_data"
    }
   ],
   "source": [
    "# mature_biomass = ee.Image(f\"{data_folder}/eu/mature_biomass\")\n",
    "# mature_biomass_vector = ee.FeatureCollection(f\"{data_folder}/eu/mature_biomass_vector\")\n",
    "# biome = ee.FeatureCollection(f\"{data_folder}/raw/biomes_br\")\n",
    "# amaz_atla_pant = biome.filter(ee.Filter.inList('CD_Bioma', [1, 4, 6]))\n",
    "# annual_changes = ee.ImageCollection('projects/JRC/TMF/v1_2023/AnnualChanges').mosaic().clip(config.roi)\n",
    "# nicfi = ee.ImageCollection('projects/planet-nicfi/assets/basemaps/americas')\n",
    "# basemap3 = nicfi.filter(ee.Filter.date('2020-07-01', '2020-12-01')).first()\n",
    "# distance_to_nearest_mature = ee.Image(f\"{data_folder}/eu/distance_to_nearest_mature\")\n",
    "# vis_planet = {'bands': ['R', 'G', 'B'], 'min': 64, 'max': 5454, 'gamma': 1.8}\n",
    "\n",
    "# map = geemap.Map()\n",
    "# map.addLayer(amaz_atla_pant, {}, 'amaz_atla_pant')\n",
    "# map.addLayer(annual_changes, {}, 'annual_changes')\n",
    "# map.addLayer(basemap3, vis_planet, 'basemap3')\n",
    "# map.addLayer(distance_to_nearest_mature, {'min': 0, 'max': 100000, 'palette': ['blue', 'red']}, 'distance_to_nearest_mature')\n",
    "# map.addLayer(mature_biomass, {'min': 0, 'max': 200, 'palette': ['yellow', 'green']}, 'mature_biomass')\n",
    "# map.addLayer(mature_biomass_vector, {}, 'mature_biomass_vector')\n",
    "# map"
   ]
  },
  {
   "cell_type": "code",
   "execution_count": 4,
   "metadata": {},
   "outputs": [
    {
     "data": {
      "text/html": [
       "\n",
       "            <style>\n",
       "                .geemap-dark {\n",
       "                    --jp-widgets-color: white;\n",
       "                    --jp-widgets-label-color: white;\n",
       "                    --jp-ui-font-color1: white;\n",
       "                    --jp-layout-color2: #454545;\n",
       "                    background-color: #383838;\n",
       "                }\n",
       "\n",
       "                .geemap-dark .jupyter-button {\n",
       "                    --jp-layout-color3: #383838;\n",
       "                }\n",
       "\n",
       "                .geemap-colab {\n",
       "                    background-color: var(--colab-primary-surface-color, white);\n",
       "                }\n",
       "\n",
       "                .geemap-colab .jupyter-button {\n",
       "                    --jp-layout-color3: var(--colab-primary-surface-color, white);\n",
       "                }\n",
       "            </style>\n",
       "            "
      ],
      "text/plain": [
       "<IPython.core.display.HTML object>"
      ]
     },
     "metadata": {},
     "output_type": "display_data"
    }
   ],
   "source": [
    "def export_nearest_mature_biomass(distances_vector_buffer, mature_biomass, method):\n",
    "\n",
    "    nearest_mature_biomass = mature_biomass.reduceRegions(distances_vector_buffer, ee.Reducer.firstNonNull(), \n",
    "                                            crs = proj['crs'], crsTransform = proj['transform'])\n",
    "\n",
    "    # Export the mean_biomass_image as an asset\n",
    "    task = ee.batch.Export.table.toAsset(\n",
    "        collection = nearest_mature_biomass,\n",
    "        assetId = f\"{data_folder}/{method}/nearest_mature_biomass\",\n",
    "        description = \"nearest_mature_biomass\"\n",
    "    )\n",
    "\n",
    "    task.start()\n",
    "\n",
    "mature_biomass = ee.Image(f\"{data_folder}/eu/mature_biomass_500\")\n",
    "distances_vector_buffer = ee.FeatureCollection(f\"{data_folder}/eu/distances_vector_buffer\")\n",
    "export_nearest_mature_biomass(distances_vector_buffer, mature_biomass, 'eu')"
   ]
  },
  {
   "cell_type": "code",
   "execution_count": 7,
   "metadata": {},
   "outputs": [
    {
     "data": {
      "text/html": [
       "\n",
       "            <style>\n",
       "                .geemap-dark {\n",
       "                    --jp-widgets-color: white;\n",
       "                    --jp-widgets-label-color: white;\n",
       "                    --jp-ui-font-color1: white;\n",
       "                    --jp-layout-color2: #454545;\n",
       "                    background-color: #383838;\n",
       "                }\n",
       "\n",
       "                .geemap-dark .jupyter-button {\n",
       "                    --jp-layout-color3: #383838;\n",
       "                }\n",
       "\n",
       "                .geemap-colab {\n",
       "                    background-color: var(--colab-primary-surface-color, white);\n",
       "                }\n",
       "\n",
       "                .geemap-colab .jupyter-button {\n",
       "                    --jp-layout-color3: var(--colab-primary-surface-color, white);\n",
       "                }\n",
       "            </style>\n",
       "            "
      ],
      "text/plain": [
       "<IPython.core.display.HTML object>"
      ]
     },
     "metadata": {},
     "output_type": "display_data"
    }
   ],
   "source": [
    "def export_nearest_mature_biomass_image(nearest_mature_biomass, method):\n",
    "\n",
    "    # change geometries from polygons to points\n",
    "    nearest_mature_biomass = nearest_mature_biomass.map(lambda f: ee.Feature(f.geometry().centroid()).copyProperties(f))\n",
    "\n",
    "    # Convert the FeatureCollection to an image\n",
    "    nearest_mature_biomass_image = nearest_mature_biomass.reduceToImage(\n",
    "        properties = ['first'],\n",
    "        reducer = ee.Reducer.first()\n",
    "    ).toInt16().rename('nearest_mature_biomass')\n",
    "\n",
    "    export_image(nearest_mature_biomass_image, \"nearest_mature_biomass_image\", \\\n",
    "                 folder = method, crsTransform = proj['transform'])\n",
    "\n",
    "nearest_mature_biomass = ee.FeatureCollection(f\"{data_folder}/eu/nearest_mature_biomass\")\n",
    "export_nearest_mature_biomass_image(nearest_mature_biomass, 'eu')\n"
   ]
  },
  {
   "cell_type": "code",
   "execution_count": null,
   "metadata": {},
   "outputs": [
    {
     "data": {
      "text/html": [
       "\n",
       "            <style>\n",
       "                .geemap-dark {\n",
       "                    --jp-widgets-color: white;\n",
       "                    --jp-widgets-label-color: white;\n",
       "                    --jp-ui-font-color1: white;\n",
       "                    --jp-layout-color2: #454545;\n",
       "                    background-color: #383838;\n",
       "                }\n",
       "\n",
       "                .geemap-dark .jupyter-button {\n",
       "                    --jp-layout-color3: #383838;\n",
       "                }\n",
       "\n",
       "                .geemap-colab {\n",
       "                    background-color: var(--colab-primary-surface-color, white);\n",
       "                }\n",
       "\n",
       "                .geemap-colab .jupyter-button {\n",
       "                    --jp-layout-color3: var(--colab-primary-surface-color, white);\n",
       "                }\n",
       "            </style>\n",
       "            "
      ],
      "text/plain": [
       "<IPython.core.display.HTML object>"
      ]
     },
     "metadata": {},
     "output_type": "display_data"
    }
   ],
   "source": [
    "gaus_kernel = ee.Kernel.gaussian(radius = 1000, sigma = 200, units = \"meters\")\n",
    "mat_gaus_ker = (\n",
    "    mature_biomass.focalMean(\n",
    "        radius = 1000, units = \"meters\", kernel = gaus_kernel, iterations = 1\n",
    "    )\n",
    "    .rename(\"mat_biomass\")\n",
    "    .float()\n",
    ")\n",
    "\n",
    "# the fragmentation data also does not cover the entire landscape - it is targeted towards mature forests.\n",
    "# frag file from Ma et al was originally reprojected in QGIS into WGS84 (original projection is not compatible with google earth engine)\n",
    "# frag values vary from 0 to 1\n",
    "frag = ee.Image(f\"{data_folder}/raw/frag\").rename(\"frag\").clip(age.geometry())\n",
    "frag_ker = frag.focalMean(radius = 5000, units = \"meters\").rename(\"frag\")\n",
    "\n",
    "# export_image(mat_gaus_ker, \"mat_gaus_ker\", scale = 30)\n",
    "# export_image(frag_ker, \"frag_ker\", scale = 30)\n"
   ]
  }
 ],
 "metadata": {
  "kernelspec": {
   "display_name": "for_reg_env",
   "language": "python",
   "name": "python3"
  },
  "language_info": {
   "codemirror_mode": {
    "name": "ipython",
    "version": 3
   },
   "file_extension": ".py",
   "mimetype": "text/x-python",
   "name": "python",
   "nbconvert_exporter": "python",
   "pygments_lexer": "ipython3",
   "version": "3.11.9"
  }
 },
 "nbformat": 4,
 "nbformat_minor": 2
}
