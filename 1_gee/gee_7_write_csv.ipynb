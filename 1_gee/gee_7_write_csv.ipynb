{
 "cells": [
  {
   "cell_type": "markdown",
   "id": "956cff3f-99f1-45ca-b0b0-90c38a6e2c08",
   "metadata": {},
   "source": [
    "# Processing the final dataset\n",
    "\n"
   ]
  },
  {
   "cell_type": "code",
   "execution_count": 2,
   "id": "a9594018-621b-427e-89d3-0633de81979a",
   "metadata": {},
   "outputs": [],
   "source": [
    "import ee\n",
    "import geemap\n",
    "from gee_0_utils import *\n",
    "\n",
    "initialize()\n",
    "config = ProjectConfig()\n",
    "roi = config.roi\n",
    "data_folder = config.data_folder"
   ]
  },
  {
   "cell_type": "code",
   "execution_count": 18,
   "id": "217cf492",
   "metadata": {},
   "outputs": [
    {
     "data": {
      "text/html": [
       "\n",
       "            <style>\n",
       "                .geemap-dark {\n",
       "                    --jp-widgets-color: white;\n",
       "                    --jp-widgets-label-color: white;\n",
       "                    --jp-ui-font-color1: white;\n",
       "                    --jp-layout-color2: #454545;\n",
       "                    background-color: #383838;\n",
       "                }\n",
       "\n",
       "                .geemap-dark .jupyter-button {\n",
       "                    --jp-layout-color3: #383838;\n",
       "                }\n",
       "\n",
       "                .geemap-colab {\n",
       "                    background-color: var(--colab-primary-surface-color, white);\n",
       "                }\n",
       "\n",
       "                .geemap-colab .jupyter-button {\n",
       "                    --jp-layout-color3: var(--colab-primary-surface-color, white);\n",
       "                }\n",
       "            </style>\n",
       "            "
      ],
      "text/plain": [
       "<IPython.core.display.HTML object>"
      ]
     },
     "metadata": {},
     "output_type": "display_data"
    },
    {
     "data": {
      "application/vnd.jupyter.widget-view+json": {
       "model_id": "82a1dad04ba246298185f7cce4dda30f",
       "version_major": 2,
       "version_minor": 0
      },
      "text/plain": [
       "Map(center=[0, 0], controls=(WidgetControl(options=['position', 'transparent_bg'], widget=SearchDataGUI(childr…"
      ]
     },
     "execution_count": 18,
     "metadata": {},
     "output_type": "execute_result"
    }
   ],
   "source": [
    "def keep_rare_lu_types(unified_data):\n",
    "    # Define the list of bands to check\n",
    "    bands_to_check = ['lulc_sum_20', 'lulc_sum_21', 'lulc_sum_35', \n",
    "                    'lulc_sum_39', 'lulc_sum_40', 'lulc_sum_41', \n",
    "                    'lulc_sum_46', 'lulc_sum_48', 'lulc_sum_9']\n",
    "\n",
    "    # Create a mask where at least one of the specified bands is non-zero\n",
    "    mask = unified_data.select(bands_to_check).reduce(ee.Reducer.anyNonZero())\n",
    "\n",
    "    # # Apply the mask to the unified_data\n",
    "    return unified_data.updateMask(mask)\n",
    "\n",
    "# to try and reduce some level of spatial autocorrelation:\n",
    "def sample_by_grid(unified_data):\n",
    "\n",
    "    region = unified_data.geometry()\n",
    "    grid = region.coveringGrid(region.projection(), 1000)\n",
    "\n",
    "    # Function to check if there's at least one cell of unified_data in the grid cell\n",
    "    def check_overlap(grid_cell):\n",
    "        geometry = grid_cell.geometry()\n",
    "        \n",
    "        sampled = unified_data.stratifiedSample(\n",
    "            numPoints = 1, classBand = 'biome', region = geometry, scale = 50000\n",
    "        )\n",
    "\n",
    "        return sampled.first()\n",
    "\n",
    "    # Apply the function to each grid cell\n",
    "    return grid.map(check_overlap, dropNulls = True)\n",
    "\n"
   ]
  },
  {
   "cell_type": "code",
   "execution_count": 10,
   "id": "7e05edb2",
   "metadata": {},
   "outputs": [
    {
     "data": {
      "text/html": [
       "\n",
       "            <style>\n",
       "                .geemap-dark {\n",
       "                    --jp-widgets-color: white;\n",
       "                    --jp-widgets-label-color: white;\n",
       "                    --jp-ui-font-color1: white;\n",
       "                    --jp-layout-color2: #454545;\n",
       "                    background-color: #383838;\n",
       "                }\n",
       "\n",
       "                .geemap-dark .jupyter-button {\n",
       "                    --jp-layout-color3: #383838;\n",
       "                }\n",
       "\n",
       "                .geemap-colab {\n",
       "                    background-color: var(--colab-primary-surface-color, white);\n",
       "                }\n",
       "\n",
       "                .geemap-colab .jupyter-button {\n",
       "                    --jp-layout-color3: var(--colab-primary-surface-color, white);\n",
       "                }\n",
       "            </style>\n",
       "            "
      ],
      "text/plain": [
       "<IPython.core.display.HTML object>"
      ]
     },
     "metadata": {},
     "output_type": "display_data"
    }
   ],
   "source": [
    "\n",
    "def export_csv(method, year = None):\n",
    "    \n",
    "    secondary = ee.Image(f\"{data_folder}/{method}/secondary\")\n",
    "    nearest_mature = ee.Image(f\"{data_folder}/{method}/nearest_mature_image\")\n",
    "    yearly_mean_prec = ee.Image(f\"{data_folder}/yearly_mean_prec\")\n",
    "    yearly_SI = ee.Image(f\"{data_folder}/yearly_SI\")\n",
    "    cwd = ee.Image(f\"{data_folder}/raw/cwd_chave\")\n",
    "    sur_cover = ee.Image(f\"{data_folder}/{method}/sur_cover\").rename(\"sur_cover\")\n",
    "\n",
    "    unified_data = (\n",
    "        secondary.addBands(\n",
    "            [nearest_mature, sur_cover, cwd, yearly_mean_prec, yearly_SI\n",
    "        ]).updateMask(nearest_mature)\n",
    "    )\n",
    "\n",
    "    if method == \"mapbiomas\":\n",
    "        if (aggregate_LU):\n",
    "            suffix = \"aggregated\"\n",
    "        else:\n",
    "            suffix = \"non_aggregated\"\n",
    "\n",
    "        if (year != 0):\n",
    "            suffix += f\"_{year}yr\"\n",
    "\n",
    "        land_use_years = ee.Image(f\"{data_folder}/{method}/land_use_{suffix}\")\n",
    "        unified_data = unified_data.addBands(land_use_years).updateMask(land_use_years.select(\"last_LU\"))\n",
    "\n",
    "    # unified_data = keep_rare_lu_types(unified_data)\n",
    "\n",
    "    unified_data_sampled = unified_data.stratifiedSample(\n",
    "        numPoints = 10000, classBand = 'biome', region = roi\n",
    "    )\n",
    "\n",
    "    # unified_data_sampled = sample_by_grid(unified_data)\n",
    "\n",
    "    task = ee.batch.Export.table.toDrive(\n",
    "        collection = unified_data_sampled, description = suffix, fileFormat = 'CSV'\n",
    "    )\n",
    "    task.start()\n",
    "\n",
    "    # task = ee.batch.Export.table.toAsset(\n",
    "    #     collection = unified_data_sampled, description = f\"{suffix}_toAsset\", \\\n",
    "    #     assetId = f\"{data_folder}/{method}/{suffix}\"\n",
    "    # )\n",
    "    # task.start()\n",
    "\n",
    "    return unified_data\n",
    "\n",
    "\n",
    "aggregate_LU = False\n",
    "# export_csv(\"mapbiomas\", 0)\n",
    "export_csv(\"eu\")"
   ]
  },
  {
   "cell_type": "code",
   "execution_count": null,
   "id": "cf924f32",
   "metadata": {},
   "outputs": [],
   "source": [
    "secondary_mapbiomas = ee.Image(f\"{data_folder}/mapbiomas/secondary\")\n",
    "secondary_eu = ee.Image(f\"{data_folder}/eu/secondary\")\n",
    "\n",
    "secondary_mapbiomas = secondary_mapbiomas.updateMask(secondary_eu.select(\"age\"))\n",
    "secondary_eu = secondary_eu.updateMask(secondary_mapbiomas.select(\"age\"))\n",
    "secondary_mapbiomas = secondary_mapbiomas.updateMask(secondary_eu.select(\"age\"))\n",
    "\n",
    "categorical = ee.Image(f\"{data_folder}/categorical\")\n",
    "biome_mask = categorical.select('biome').inList([1, 4, 6])\n",
    "categorical = categorical.updateMask(biome_mask)\n",
    "cwd = ee.Image(f\"{data_folder}/raw/cwd_chave\")\n",
    "\n",
    "unified_data = secondary_mapbiomas.addBands([categorical, cwd, \\\n",
    "                                             secondary_mapbiomas.select(\"age\").rename(\"age_eu\")])\\\n",
    "                                                .updateMask(secondary_mapbiomas.select(\"age\"))\n",
    "\n",
    "unified_data_sampled = unified_data.stratifiedSample(\n",
    "    numPoints = 10000, classBand = 'biome', region = roi\n",
    ")\n",
    "\n",
    "task = ee.batch.Export.table.toDrive(\n",
    "    collection = unified_data_sampled, description = \"mapbiomas_eu\", fileFormat = 'CSV'\n",
    ")\n",
    "task.start()\n"
   ]
  },
  {
   "cell_type": "code",
   "execution_count": 16,
   "id": "58af2eec",
   "metadata": {},
   "outputs": [
    {
     "data": {
      "text/html": [
       "\n",
       "            <style>\n",
       "                .geemap-dark {\n",
       "                    --jp-widgets-color: white;\n",
       "                    --jp-widgets-label-color: white;\n",
       "                    --jp-ui-font-color1: white;\n",
       "                    --jp-layout-color2: #454545;\n",
       "                    background-color: #383838;\n",
       "                }\n",
       "\n",
       "                .geemap-dark .jupyter-button {\n",
       "                    --jp-layout-color3: #383838;\n",
       "                }\n",
       "\n",
       "                .geemap-colab {\n",
       "                    background-color: var(--colab-primary-surface-color, white);\n",
       "                }\n",
       "\n",
       "                .geemap-colab .jupyter-button {\n",
       "                    --jp-layout-color3: var(--colab-primary-surface-color, white);\n",
       "                }\n",
       "            </style>\n",
       "            "
      ],
      "text/plain": [
       "<IPython.core.display.HTML object>"
      ]
     },
     "metadata": {},
     "output_type": "display_data"
    }
   ],
   "source": [
    "gaul = ee.FeatureCollection('FAO/GAUL_SIMPLIFIED_500m/2015/level0')\n",
    "\n",
    "south_american_countries = [\n",
    "    'Argentina', 'Bolivia', 'Chile', 'Colombia', 'Ecuador',\n",
    "    'French Guiana', 'Guyana', 'Paraguay', 'Peru', 'Suriname', 'Uruguay', 'Venezuela'\n",
    "]\n",
    "\n",
    "south_america = gaul.filter(ee.Filter.inList('ADM0_NAME', south_american_countries))\n",
    "sa = ee.Image.constant(1).clip(south_america).reproject(crs = 'EPSG:4326', scale = 5000)\n",
    "\n",
    "categorical = ee.Image(f\"{data_folder}/categorical\")\n",
    "\n",
    "biome_mask = categorical.select('biome').eq(1) \\\n",
    ".Or(categorical.select('biome').eq(4)) \\\n",
    ".Or(categorical.select('biome').eq(6)).reproject(crs = 'EPSG:4326', scale = 5000)\n",
    "\n",
    "new_sa = ee.Image(-1).where(sa.mask().Not(), 2) \\\n",
    "                      .where(biome_mask.gt(0), 1) \\\n",
    "                      .where(biome_mask.eq(0), -1)\n",
    "\n",
    "edge_detec = new_sa.zeroCrossing()\n",
    "distance_to_border = edge_detec.fastDistanceTransform().sqrt() \\\n",
    "    .multiply(ee.Image.pixelArea().sqrt()).updateMask(biome_mask).rename(\"distance_to_edge\")\n",
    "distance_to_border_mask = distance_to_border.gt(10000)\n",
    "\n",
    "# export_image(distance_to_border_mask, \"distance_to_border_mask_2\", scale = 5000)"
   ]
  },
  {
   "cell_type": "code",
   "execution_count": 17,
   "id": "312712a1",
   "metadata": {},
   "outputs": [
    {
     "data": {
      "text/html": [
       "\n",
       "            <style>\n",
       "                .geemap-dark {\n",
       "                    --jp-widgets-color: white;\n",
       "                    --jp-widgets-label-color: white;\n",
       "                    --jp-ui-font-color1: white;\n",
       "                    --jp-layout-color2: #454545;\n",
       "                    background-color: #383838;\n",
       "                }\n",
       "\n",
       "                .geemap-dark .jupyter-button {\n",
       "                    --jp-layout-color3: #383838;\n",
       "                }\n",
       "\n",
       "                .geemap-colab {\n",
       "                    background-color: var(--colab-primary-surface-color, white);\n",
       "                }\n",
       "\n",
       "                .geemap-colab .jupyter-button {\n",
       "                    --jp-layout-color3: var(--colab-primary-surface-color, white);\n",
       "                }\n",
       "            </style>\n",
       "            "
      ],
      "text/plain": [
       "<IPython.core.display.HTML object>"
      ]
     },
     "metadata": {},
     "output_type": "display_data"
    },
    {
     "data": {
      "application/vnd.jupyter.widget-view+json": {
       "model_id": "6ba9b21269fa47cab97dd296cbbc7687",
       "version_major": 2,
       "version_minor": 0
      },
      "text/plain": [
       "Map(center=[0, 0], controls=(WidgetControl(options=['position', 'transparent_bg'], widget=SearchDataGUI(childr…"
      ]
     },
     "execution_count": 17,
     "metadata": {},
     "output_type": "execute_result"
    }
   ],
   "source": [
    "# distance_to_border_mask = ee.Image(f\"{data_folder}/distance_to_border_mask\")\n",
    "# distance_to_border_mask_2 = ee.Image(f\"{data_folder}/distance_to_border_mask_2\")\n",
    "\n",
    "map = geemap.Map()\n",
    "# map.addLayer(biome_mask, {'min': 0, 'max':1, 'palette': ['white', 'black']}, 'biome_mask')\n",
    "# map.addLayer(distance_to_border_mask, {'min': 0, 'max':1, 'palette': ['white', 'red']}, 'distance_to_border_mask')\n",
    "map.addLayer(distance_to_border_mask_2, {'min': 0, 'max':1, 'palette': ['white', 'blue']}, 'distance_to_border_mask_2')\n",
    "# map.addLayer(edge_detec, {}, 'edge_detec')\n",
    "map.addLayer(distance_to_border_mask, {'min': 0, 'max':1, 'palette': ['white', 'blue']}, 'distance_to_border_mask')\n",
    "# map.addLayerControl()\n",
    "map\n"
   ]
  }
 ],
 "metadata": {
  "kernelspec": {
   "display_name": "Python 3 (ipykernel)",
   "language": "python",
   "name": "python3"
  },
  "language_info": {
   "codemirror_mode": {
    "name": "ipython",
    "version": 3
   },
   "file_extension": ".py",
   "mimetype": "text/x-python",
   "name": "python",
   "nbconvert_exporter": "python",
   "pygments_lexer": "ipython3",
   "version": "3.11.9"
  }
 },
 "nbformat": 4,
 "nbformat_minor": 5
}
