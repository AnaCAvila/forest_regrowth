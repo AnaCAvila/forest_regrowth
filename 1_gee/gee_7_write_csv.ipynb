{
 "cells": [
  {
   "cell_type": "markdown",
   "id": "956cff3f-99f1-45ca-b0b0-90c38a6e2c08",
   "metadata": {},
   "source": [
    "# Processing the final dataset\n",
    "\n"
   ]
  },
  {
   "cell_type": "code",
   "execution_count": 4,
   "id": "a9594018-621b-427e-89d3-0633de81979a",
   "metadata": {},
   "outputs": [
    {
     "data": {
      "text/html": [
       "\n",
       "            <style>\n",
       "                .geemap-dark {\n",
       "                    --jp-widgets-color: white;\n",
       "                    --jp-widgets-label-color: white;\n",
       "                    --jp-ui-font-color1: white;\n",
       "                    --jp-layout-color2: #454545;\n",
       "                    background-color: #383838;\n",
       "                }\n",
       "\n",
       "                .geemap-dark .jupyter-button {\n",
       "                    --jp-layout-color3: #383838;\n",
       "                }\n",
       "\n",
       "                .geemap-colab {\n",
       "                    background-color: var(--colab-primary-surface-color, white);\n",
       "                }\n",
       "\n",
       "                .geemap-colab .jupyter-button {\n",
       "                    --jp-layout-color3: var(--colab-primary-surface-color, white);\n",
       "                }\n",
       "            </style>\n",
       "            "
      ],
      "text/plain": [
       "<IPython.core.display.HTML object>"
      ]
     },
     "metadata": {},
     "output_type": "display_data"
    }
   ],
   "source": [
    "import ee\n",
    "import geemap\n",
    "from gee_0_utils import *\n",
    "\n",
    "initialize()\n",
    "config = ProjectConfig()\n",
    "roi = config.roi\n",
    "data_folder = config.data_folder"
   ]
  },
  {
   "cell_type": "code",
   "execution_count": 5,
   "id": "2c3b3516",
   "metadata": {},
   "outputs": [
    {
     "data": {
      "text/html": [
       "\n",
       "            <style>\n",
       "                .geemap-dark {\n",
       "                    --jp-widgets-color: white;\n",
       "                    --jp-widgets-label-color: white;\n",
       "                    --jp-ui-font-color1: white;\n",
       "                    --jp-layout-color2: #454545;\n",
       "                    background-color: #383838;\n",
       "                }\n",
       "\n",
       "                .geemap-dark .jupyter-button {\n",
       "                    --jp-layout-color3: #383838;\n",
       "                }\n",
       "\n",
       "                .geemap-colab {\n",
       "                    background-color: var(--colab-primary-surface-color, white);\n",
       "                }\n",
       "\n",
       "                .geemap-colab .jupyter-button {\n",
       "                    --jp-layout-color3: var(--colab-primary-surface-color, white);\n",
       "                }\n",
       "            </style>\n",
       "            "
      ],
      "text/plain": [
       "<IPython.core.display.HTML object>"
      ]
     },
     "metadata": {},
     "output_type": "display_data"
    }
   ],
   "source": [
    "export_distances = False\n",
    "aggregate_LU = False\n",
    "\n",
    "if (aggregate_LU):\n",
    "    prefix = \"aggregated\"\n",
    "else:\n",
    "    prefix = \"non_aggregated\""
   ]
  },
  {
   "cell_type": "code",
   "execution_count": null,
   "id": "368e4616",
   "metadata": {},
   "outputs": [],
   "source": [
    "age_mapbiomas = age.updateMask(age_eu).rename(\"age_mapbiomas\")\n",
    "age_eu = age_eu.updateMask(age_mapbiomas).rename(\"age_eu\")\n",
    "age_mapbiomas = age_mapbiomas.updateMask(age_eu).rename(\"age_mapbiomas\")\n",
    "\n",
    "biomass = biomass.updateMask(age_mapbiomas).int16().rename(\"agbd\")\n",
    "\n",
    "categorical = ee.Image(f\"{data_folder}/categorical\")\n",
    "biome_mask = categorical.select('biome').inList([1, 4, 6])\n",
    "categorical = categorical.updateMask(biome_mask)\n",
    "cwd = ee.Image(f\"{data_folder}/raw/cwd_chave\")\n",
    "\n",
    "unified_data = age_agbd.addBands([categorical, cwd]).updateMask(age_mapbiomas)\n",
    "\n",
    "unified_data_sampled = unified_data.stratifiedSample(\n",
    "    numPoints = 10000, classBand = 'biome', region = age_agbd.geometry()\n",
    ")\n",
    "\n",
    "task = ee.batch.Export.table.toDrive(\n",
    "    collection = unified_data_sampled, description = \"mapbiomas_eu_atl\", fileFormat = 'CSV'\n",
    ")\n",
    "task.start()\n"
   ]
  },
  {
   "cell_type": "code",
   "execution_count": 10,
   "id": "7e05edb2",
   "metadata": {},
   "outputs": [
    {
     "data": {
      "text/html": [
       "\n",
       "            <style>\n",
       "                .geemap-dark {\n",
       "                    --jp-widgets-color: white;\n",
       "                    --jp-widgets-label-color: white;\n",
       "                    --jp-ui-font-color1: white;\n",
       "                    --jp-layout-color2: #454545;\n",
       "                    background-color: #383838;\n",
       "                }\n",
       "\n",
       "                .geemap-dark .jupyter-button {\n",
       "                    --jp-layout-color3: #383838;\n",
       "                }\n",
       "\n",
       "                .geemap-colab {\n",
       "                    background-color: var(--colab-primary-surface-color, white);\n",
       "                }\n",
       "\n",
       "                .geemap-colab .jupyter-button {\n",
       "                    --jp-layout-color3: var(--colab-primary-surface-color, white);\n",
       "                }\n",
       "            </style>\n",
       "            "
      ],
      "text/plain": [
       "<IPython.core.display.HTML object>"
      ]
     },
     "metadata": {},
     "output_type": "display_data"
    }
   ],
   "source": [
    "\n",
    "def export_csv(method, prefix, year = None):\n",
    "    \n",
    "    secondary = ee.Image(f\"{data_folder}/{method}/secondary\")\n",
    "    nearest_mature = ee.Image(f\"{data_folder}/{method}/nearest_mature_image\")\n",
    "    yearly_mean_prec = ee.Image(f\"{data_folder}/yearly_mean_prec\")\n",
    "    yearly_SI = ee.Image(f\"{data_folder}/yearly_SI\")\n",
    "    cwd = ee.Image(f\"{data_folder}/raw/cwd_chave\")\n",
    "    sur_cover = ee.Image(f\"{data_folder}/{method}/sur_cover\").rename(\"sur_cover\")\n",
    "\n",
    "    unified_data = (\n",
    "        secondary.addBands(\n",
    "            [nearest_mature, sur_cover, cwd, yearly_mean_prec, yearly_SI\n",
    "        ]).updateMask(nearest_mature)\n",
    "    )\n",
    "\n",
    "    if method == \"mapbiomas\":\n",
    "        if (year != 0):\n",
    "            prefix += f\"_{year}yr\"\n",
    "\n",
    "        land_use_years = ee.Image(f\"{data_folder}/{method}/land_use_{prefix}\")\n",
    "        unified_data = unified_data.addBands(land_use_years).updateMask(land_use_years.select(\"last_LU\"))\n",
    "\n",
    "    unified_data_sampled = unified_data.stratifiedSample(\n",
    "        numPoints = 10000, classBand = 'biome', region = roi\n",
    "    )\n",
    "\n",
    "    task = ee.batch.Export.table.toDrive(\n",
    "        collection = unified_data_sampled, description = prefix, fileFormat = 'CSV'\n",
    "    )\n",
    "    task.start()\n",
    "\n",
    "    # task = ee.batch.Export.table.toAsset(\n",
    "    #     collection = unified_data_sampled, description = f\"{prefix}_toAsset\", assetId=f\"projects/amazon-forest-regrowth/assets/{prefix}\"\n",
    "    # )\n",
    "    # task.start()\n",
    "\n",
    "    return unified_data\n",
    "\n",
    "unified_data = export_csv(0, prefix)\n",
    "# export_csv(5, prefix)\n",
    "# export_csv(10, prefix)\n",
    "# export_csv(15, prefix)"
   ]
  },
  {
   "cell_type": "code",
   "execution_count": 18,
   "id": "217cf492",
   "metadata": {},
   "outputs": [
    {
     "data": {
      "text/html": [
       "\n",
       "            <style>\n",
       "                .geemap-dark {\n",
       "                    --jp-widgets-color: white;\n",
       "                    --jp-widgets-label-color: white;\n",
       "                    --jp-ui-font-color1: white;\n",
       "                    --jp-layout-color2: #454545;\n",
       "                    background-color: #383838;\n",
       "                }\n",
       "\n",
       "                .geemap-dark .jupyter-button {\n",
       "                    --jp-layout-color3: #383838;\n",
       "                }\n",
       "\n",
       "                .geemap-colab {\n",
       "                    background-color: var(--colab-primary-surface-color, white);\n",
       "                }\n",
       "\n",
       "                .geemap-colab .jupyter-button {\n",
       "                    --jp-layout-color3: var(--colab-primary-surface-color, white);\n",
       "                }\n",
       "            </style>\n",
       "            "
      ],
      "text/plain": [
       "<IPython.core.display.HTML object>"
      ]
     },
     "metadata": {},
     "output_type": "display_data"
    },
    {
     "data": {
      "application/vnd.jupyter.widget-view+json": {
       "model_id": "82a1dad04ba246298185f7cce4dda30f",
       "version_major": 2,
       "version_minor": 0
      },
      "text/plain": [
       "Map(center=[0, 0], controls=(WidgetControl(options=['position', 'transparent_bg'], widget=SearchDataGUI(childr…"
      ]
     },
     "execution_count": 18,
     "metadata": {},
     "output_type": "execute_result"
    }
   ],
   "source": [
    "def keep_rare_lu_types():\n",
    "    # Define the list of bands to check\n",
    "    bands_to_check = ['lulc_sum_20', 'lulc_sum_21', 'lulc_sum_35', \n",
    "                    'lulc_sum_39', 'lulc_sum_40', 'lulc_sum_41', \n",
    "                    'lulc_sum_46', 'lulc_sum_48', 'lulc_sum_9']\n",
    "\n",
    "    # Create a mask where at least one of the specified bands is non-zero\n",
    "    mask = unified_data.select(bands_to_check).reduce(ee.Reducer.anyNonZero())\n",
    "\n",
    "    # # Apply the mask to the unified_data\n",
    "    unified_data = unified_data.updateMask(mask)\n",
    "\n",
    "    unified_data_sampled = unified_data.stratifiedSample(\n",
    "        numPoints = 10000, classBand = 'biome', region = age_agbd.geometry()\n",
    "    )\n",
    "    \n",
    "    export_name = f\"{prefix}_neigh_reduced\"\n",
    "\n",
    "# to try and reduce some level of spatial autocorrelation:\n",
    "def sample_by_grid():\n",
    "\n",
    "    region = unified_data.geometry()\n",
    "    grid = region.coveringGrid(region.projection(), 1000)\n",
    "\n",
    "    # Function to check if there's at least one cell of unified_data in the grid cell\n",
    "    def check_overlap(grid_cell):\n",
    "        geometry = grid_cell.geometry()\n",
    "        \n",
    "        sampled = unified_data.stratifiedSample(\n",
    "            numPoints = 1, classBand = 'biome', region = geometry, scale=50000#, geometries = True\n",
    "        )\n",
    "\n",
    "        return sampled.first()\n",
    "\n",
    "\n",
    "    # Apply the function to each grid cell\n",
    "    unified_data_sampled = grid.map(check_overlap, dropNulls = True)\n",
    "\n"
   ]
  },
  {
   "cell_type": "code",
   "execution_count": 11,
   "id": "58af2eec",
   "metadata": {},
   "outputs": [
    {
     "data": {
      "text/html": [
       "\n",
       "            <style>\n",
       "                .geemap-dark {\n",
       "                    --jp-widgets-color: white;\n",
       "                    --jp-widgets-label-color: white;\n",
       "                    --jp-ui-font-color1: white;\n",
       "                    --jp-layout-color2: #454545;\n",
       "                    background-color: #383838;\n",
       "                }\n",
       "\n",
       "                .geemap-dark .jupyter-button {\n",
       "                    --jp-layout-color3: #383838;\n",
       "                }\n",
       "\n",
       "                .geemap-colab {\n",
       "                    background-color: var(--colab-primary-surface-color, white);\n",
       "                }\n",
       "\n",
       "                .geemap-colab .jupyter-button {\n",
       "                    --jp-layout-color3: var(--colab-primary-surface-color, white);\n",
       "                }\n",
       "            </style>\n",
       "            "
      ],
      "text/plain": [
       "<IPython.core.display.HTML object>"
      ]
     },
     "metadata": {},
     "output_type": "display_data"
    }
   ],
   "source": [
    "gaul = ee.FeatureCollection('FAO/GAUL_SIMPLIFIED_500m/2015/level0')\n",
    "br_shp = ee.FeatureCollection('projects/amazon-forest-regrowth/assets/raw/brasil_shp')\n",
    "\n",
    "# Convert the FeatureCollection to an image\n",
    "br_img = br_shp.reduceToImage(\n",
    "    properties=['AREA_KM2'],  # Assuming 'first' is the current property name\n",
    "    reducer=ee.Reducer.first()\n",
    ").rename('br_img')\n",
    "\n",
    "br_img = br_img.reproject(proj['crs'], proj['transform'])\n",
    "br_img = br_img.gt(0)\n",
    "\n",
    "\n",
    "south_american_countries = [\n",
    "    'Argentina', 'Bolivia', 'Chile', 'Colombia', 'Ecuador',\n",
    "    'French Guiana', 'Guyana', 'Paraguay', 'Peru', 'Suriname', 'Uruguay', 'Venezuela'\n",
    "]\n",
    "\n",
    "south_america = gaul.filter(ee.Filter.inList('ADM0_NAME', south_american_countries))\n",
    "\n",
    "south_america_merged = south_america.union().geometry()\n",
    "\n",
    "edge_detec = mature_mask.unmask(-1).zeroCrossing()\n",
    "distance_to_edge = edge_detec.fastDistanceTransform().sqrt() \\\n",
    "    .multiply(ee.Image.pixelArea().sqrt()).rename(\"distance_to_edge\")\n",
    "distance_to_edge = distance_to_edge.gt(1000).selfMask()\n",
    "\n",
    "\n",
    "# map = geemap.Map()\n",
    "# map.addLayer(br_img, {}, \"br_img\")\n",
    "# map.addLayer(brazil_buffer, {}, \"brazil_buffer\")\n",
    "# # map.addLayer(south_america_merged, {}, \"largest_polygon\")\n",
    "# map"
   ]
  }
 ],
 "metadata": {
  "kernelspec": {
   "display_name": "Python 3 (ipykernel)",
   "language": "python",
   "name": "python3"
  },
  "language_info": {
   "codemirror_mode": {
    "name": "ipython",
    "version": 3
   },
   "file_extension": ".py",
   "mimetype": "text/x-python",
   "name": "python",
   "nbconvert_exporter": "python",
   "pygments_lexer": "ipython3",
   "version": "3.11.9"
  }
 },
 "nbformat": 4,
 "nbformat_minor": 5
}
