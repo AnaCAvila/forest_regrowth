{
 "cells": [
  {
   "cell_type": "markdown",
   "id": "956cff3f-99f1-45ca-b0b0-90c38a6e2c08",
   "metadata": {},
   "source": [
    "# Processing the final dataset\n",
    "\n"
   ]
  },
  {
   "cell_type": "code",
   "execution_count": 4,
   "id": "a9594018-621b-427e-89d3-0633de81979a",
   "metadata": {},
   "outputs": [
    {
     "data": {
      "text/html": [
       "\n",
       "            <style>\n",
       "                .geemap-dark {\n",
       "                    --jp-widgets-color: white;\n",
       "                    --jp-widgets-label-color: white;\n",
       "                    --jp-ui-font-color1: white;\n",
       "                    --jp-layout-color2: #454545;\n",
       "                    background-color: #383838;\n",
       "                }\n",
       "\n",
       "                .geemap-dark .jupyter-button {\n",
       "                    --jp-layout-color3: #383838;\n",
       "                }\n",
       "\n",
       "                .geemap-colab {\n",
       "                    background-color: var(--colab-primary-surface-color, white);\n",
       "                }\n",
       "\n",
       "                .geemap-colab .jupyter-button {\n",
       "                    --jp-layout-color3: var(--colab-primary-surface-color, white);\n",
       "                }\n",
       "            </style>\n",
       "            "
      ],
      "text/plain": [
       "<IPython.core.display.HTML object>"
      ]
     },
     "metadata": {},
     "output_type": "display_data"
    }
   ],
   "source": [
    "import ee\n",
    "import geemap\n",
    "\n",
    "# Authenticate to Earth Engine\n",
    "try:\n",
    "    ee.Initialize()\n",
    "except Exception as e:\n",
    "    ee.Authenticate()\n",
    "    ee.Initialize()\n",
    "\n",
    "data_folder = \"projects/amazon-forest-regrowth/assets\"\n"
   ]
  },
  {
   "cell_type": "code",
   "execution_count": 5,
   "id": "2c3b3516",
   "metadata": {},
   "outputs": [
    {
     "data": {
      "text/html": [
       "\n",
       "            <style>\n",
       "                .geemap-dark {\n",
       "                    --jp-widgets-color: white;\n",
       "                    --jp-widgets-label-color: white;\n",
       "                    --jp-ui-font-color1: white;\n",
       "                    --jp-layout-color2: #454545;\n",
       "                    background-color: #383838;\n",
       "                }\n",
       "\n",
       "                .geemap-dark .jupyter-button {\n",
       "                    --jp-layout-color3: #383838;\n",
       "                }\n",
       "\n",
       "                .geemap-colab {\n",
       "                    background-color: var(--colab-primary-surface-color, white);\n",
       "                }\n",
       "\n",
       "                .geemap-colab .jupyter-button {\n",
       "                    --jp-layout-color3: var(--colab-primary-surface-color, white);\n",
       "                }\n",
       "            </style>\n",
       "            "
      ],
      "text/plain": [
       "<IPython.core.display.HTML object>"
      ]
     },
     "metadata": {},
     "output_type": "display_data"
    }
   ],
   "source": [
    "export_distances = False\n",
    "aggregate_LU = False\n",
    "\n",
    "if (aggregate_LU):\n",
    "    prefix = \"aggregated\"\n",
    "else:\n",
    "    prefix = \"non_aggregated\""
   ]
  },
  {
   "cell_type": "code",
   "execution_count": 6,
   "id": "312e7c9b",
   "metadata": {},
   "outputs": [
    {
     "data": {
      "text/html": [
       "\n",
       "            <style>\n",
       "                .geemap-dark {\n",
       "                    --jp-widgets-color: white;\n",
       "                    --jp-widgets-label-color: white;\n",
       "                    --jp-ui-font-color1: white;\n",
       "                    --jp-layout-color2: #454545;\n",
       "                    background-color: #383838;\n",
       "                }\n",
       "\n",
       "                .geemap-dark .jupyter-button {\n",
       "                    --jp-layout-color3: #383838;\n",
       "                }\n",
       "\n",
       "                .geemap-colab {\n",
       "                    background-color: var(--colab-primary-surface-color, white);\n",
       "                }\n",
       "\n",
       "                .geemap-colab .jupyter-button {\n",
       "                    --jp-layout-color3: var(--colab-primary-surface-color, white);\n",
       "                }\n",
       "            </style>\n",
       "            "
      ],
      "text/plain": [
       "<IPython.core.display.HTML object>"
      ]
     },
     "metadata": {},
     "output_type": "display_data"
    }
   ],
   "source": [
    "mature_biomass = ee.Image(f\"{data_folder}/mature_biomass_500m\")\n",
    "proj = mature_biomass.projection().getInfo()\n",
    "\n",
    "age_agbd = ee.Image(f\"{data_folder}/age_agbd\")\n",
    "secondary = age_agbd.select(\"age\")\n",
    "\n",
    "if (export_distances):\n",
    "    mature_biomass_vector = mature_biomass.reduceToVectors(geometry = secondary.geometry(), scale=500, maxPixels=1e13)\n",
    "    distances_image = mature_biomass_vector.distance(searchRadius = 500000).toInt().updateMask(secondary)\n",
    "\n",
    "    # Export the mean_biomass_image as an asset\n",
    "    task = ee.batch.Export.image.toAsset(\n",
    "        image=distances_image,\n",
    "        assetId = \"projects/amazon-forest-regrowth/assets/distance_to_mature_biomass\",\n",
    "        description=\"distance_to_mature_biomass\",\n",
    "        region=secondary.geometry(),\n",
    "        crs=proj['crs'],\n",
    "        crsTransform=proj['transform'],\n",
    "        maxPixels=1e13\n",
    "    )\n",
    "    task.start()\n",
    "\n"
   ]
  },
  {
   "cell_type": "code",
   "execution_count": 7,
   "id": "71ab1c41",
   "metadata": {},
   "outputs": [
    {
     "data": {
      "text/html": [
       "\n",
       "            <style>\n",
       "                .geemap-dark {\n",
       "                    --jp-widgets-color: white;\n",
       "                    --jp-widgets-label-color: white;\n",
       "                    --jp-ui-font-color1: white;\n",
       "                    --jp-layout-color2: #454545;\n",
       "                    background-color: #383838;\n",
       "                }\n",
       "\n",
       "                .geemap-dark .jupyter-button {\n",
       "                    --jp-layout-color3: #383838;\n",
       "                }\n",
       "\n",
       "                .geemap-colab {\n",
       "                    background-color: var(--colab-primary-surface-color, white);\n",
       "                }\n",
       "\n",
       "                .geemap-colab .jupyter-button {\n",
       "                    --jp-layout-color3: var(--colab-primary-surface-color, white);\n",
       "                }\n",
       "            </style>\n",
       "            "
      ],
      "text/plain": [
       "<IPython.core.display.HTML object>"
      ]
     },
     "metadata": {},
     "output_type": "display_data"
    }
   ],
   "source": [
    "\n",
    "# Function to buffer and calculate mean\n",
    "def buffer_distance(f):\n",
    "    distance = ee.Number(f.get('distance'))\n",
    "    buffered = ee.Feature(f.buffer(distance.add(2000)))\n",
    "    return buffered\n"
   ]
  },
  {
   "cell_type": "code",
   "execution_count": 8,
   "id": "f283236e",
   "metadata": {},
   "outputs": [
    {
     "data": {
      "text/html": [
       "\n",
       "            <style>\n",
       "                .geemap-dark {\n",
       "                    --jp-widgets-color: white;\n",
       "                    --jp-widgets-label-color: white;\n",
       "                    --jp-ui-font-color1: white;\n",
       "                    --jp-layout-color2: #454545;\n",
       "                    background-color: #383838;\n",
       "                }\n",
       "\n",
       "                .geemap-dark .jupyter-button {\n",
       "                    --jp-layout-color3: #383838;\n",
       "                }\n",
       "\n",
       "                .geemap-colab {\n",
       "                    background-color: var(--colab-primary-surface-color, white);\n",
       "                }\n",
       "\n",
       "                .geemap-colab .jupyter-button {\n",
       "                    --jp-layout-color3: var(--colab-primary-surface-color, white);\n",
       "                }\n",
       "            </style>\n",
       "            "
      ],
      "text/plain": [
       "<IPython.core.display.HTML object>"
      ]
     },
     "metadata": {},
     "output_type": "display_data"
    }
   ],
   "source": [
    "categorical = ee.Image(f\"{data_folder}/categorical\")\n",
    "distance = ee.Image(f\"{data_folder}/distance_to_mature_biomass\")\n",
    "one_hectare_mask = ee.Image(f\"{data_folder}/one_hectare_mask\")\n",
    "\n",
    "# Create masks for biomes 1 and 4\n",
    "biome_mask = categorical.select('biome').eq(1).Or(categorical.select('biome').eq(4)).Or(categorical.select('biome').eq(6))\n",
    "combined_mask = one_hectare_mask.And(biome_mask)\n",
    "categorical = categorical.updateMask(combined_mask)\n",
    "dist_cat = distance.addBands(combined_mask)\n"
   ]
  },
  {
   "cell_type": "code",
   "execution_count": 9,
   "id": "6a99b332",
   "metadata": {},
   "outputs": [
    {
     "data": {
      "text/html": [
       "\n",
       "            <style>\n",
       "                .geemap-dark {\n",
       "                    --jp-widgets-color: white;\n",
       "                    --jp-widgets-label-color: white;\n",
       "                    --jp-ui-font-color1: white;\n",
       "                    --jp-layout-color2: #454545;\n",
       "                    background-color: #383838;\n",
       "                }\n",
       "\n",
       "                .geemap-dark .jupyter-button {\n",
       "                    --jp-layout-color3: #383838;\n",
       "                }\n",
       "\n",
       "                .geemap-colab {\n",
       "                    background-color: var(--colab-primary-surface-color, white);\n",
       "                }\n",
       "\n",
       "                .geemap-colab .jupyter-button {\n",
       "                    --jp-layout-color3: var(--colab-primary-surface-color, white);\n",
       "                }\n",
       "            </style>\n",
       "            "
      ],
      "text/plain": [
       "<IPython.core.display.HTML object>"
      ]
     },
     "metadata": {},
     "output_type": "display_data"
    }
   ],
   "source": [
    "nearest_mature = ee.FeatureCollection(\"projects/amazon-forest-regrowth/assets/nearest_mature\")\n",
    "# change geometries from polygons to points\n",
    "nearest_mature = nearest_mature.map(lambda f: ee.Feature(f.geometry().centroid()).copyProperties(f))\n",
    "\n",
    "# Convert the FeatureCollection to an image\n",
    "nearest_mature_image = nearest_mature.reduceToImage(\n",
    "    properties=['first'],\n",
    "    reducer=ee.Reducer.first()\n",
    ").toInt16().rename('nearest_mature')\n",
    "\n",
    "export_task = ee.batch.Export.image.toAsset(\n",
    "    image=nearest_mature_image,\n",
    "    assetId = \"projects/amazon-forest-regrowth/assets/nearest_mature_image\",\n",
    "    description='nearest_mature_export',\n",
    "    crs=proj['crs'],\n",
    "    crsTransform=proj['transform'],\n",
    "    region = age_agbd.geometry(),\n",
    "    maxPixels=1e13\n",
    ")\n",
    "\n",
    "# export_task.start()"
   ]
  },
  {
   "cell_type": "code",
   "execution_count": 10,
   "id": "7e05edb2",
   "metadata": {},
   "outputs": [
    {
     "data": {
      "text/html": [
       "\n",
       "            <style>\n",
       "                .geemap-dark {\n",
       "                    --jp-widgets-color: white;\n",
       "                    --jp-widgets-label-color: white;\n",
       "                    --jp-ui-font-color1: white;\n",
       "                    --jp-layout-color2: #454545;\n",
       "                    background-color: #383838;\n",
       "                }\n",
       "\n",
       "                .geemap-dark .jupyter-button {\n",
       "                    --jp-layout-color3: #383838;\n",
       "                }\n",
       "\n",
       "                .geemap-colab {\n",
       "                    background-color: var(--colab-primary-surface-color, white);\n",
       "                }\n",
       "\n",
       "                .geemap-colab .jupyter-button {\n",
       "                    --jp-layout-color3: var(--colab-primary-surface-color, white);\n",
       "                }\n",
       "            </style>\n",
       "            "
      ],
      "text/plain": [
       "<IPython.core.display.HTML object>"
      ]
     },
     "metadata": {},
     "output_type": "display_data"
    }
   ],
   "source": [
    "\n",
    "def export_csv(year, prefix):\n",
    "\n",
    "    if (year != 0):\n",
    "        prefix += f\"_{year}yr\"\n",
    "\n",
    "    # Load the image collections\n",
    "    Transition = ee.ImageCollection('projects/JRC/TMF/v1_2023/TransitionMap_Subtypes').mosaic().clip(age.geometry())\n",
    "    AnnualChanges = ee.ImageCollection('projects/JRC/TMF/v1_2023/AnnualChanges').mosaic().clip(age.geometry())\n",
    "\n",
    "    # Define regrowth and degraded conditions\n",
    "    regrowth = Transition.gte(31).And(Transition.lte(33))  # include classes 63, 64 if you want to add regrowing mangroves\n",
    "\n",
    "    # Initialize AgeRegrowth and AgeDegraded\n",
    "    AgeRegrowth = ee.Image.constant(0)\n",
    "\n",
    "    # Calculate AgeRegrowth\n",
    "    for i in range(1990, 2024):\n",
    "        year = 'Dec' + str(i)\n",
    "        AnnualChangesYear = AnnualChanges.select(year)\n",
    "        condition = AnnualChangesYear.eq(4).And(regrowth)\n",
    "        AgeRegrowth = AgeRegrowth.add(condition.eq(1))\n",
    "\n",
    "    # land_use_years = ee.Image(f\"{data_folder}/land_use_{prefix}\")\n",
    "    # nearest_mature = ee.Image(f\"{data_folder}/nearest_mature_image\").toInt16()\n",
    "    # yearly_mean_prec = ee.Image(f\"{data_folder}/yearly_mean_prec\")\n",
    "    # yearly_SI = ee.Image(f\"{data_folder}/yearly_SI\")\n",
    "    cwd = ee.Image(f\"{data_folder}/raw/cwd_chave\")\n",
    "    # sur_cover = ee.Image(f\"{data_folder}/sur_cover\").rename(\"sur_cover\")\n",
    "\n",
    "    # combined_mask = land_use_years.select(\"last_LU\").And(nearest_mature)\n",
    "\n",
    "    # unified_data = (\n",
    "    #     age_agbd.addBands(\n",
    "    #         [distance, nearest_mature, categorical, land_use_years, cwd, sur_cover, yearly_mean_prec, yearly_SI\n",
    "    #     ]).updateMask(combined_mask)\n",
    "    # )\n",
    "\n",
    "    unified_data = (\n",
    "        AgeRegrowth.selfMask().addBands(cwd)\n",
    "    )\n",
    "\n",
    "    region = unified_data.geometry()\n",
    "    grid = region.coveringGrid(region.projection(), 1000)\n",
    "\n",
    "    # Function to check if there's at least one cell of unified_data in the grid cell\n",
    "    def check_overlap(grid_cell):\n",
    "        geometry = grid_cell.geometry()\n",
    "        \n",
    "        sampled = unified_data.stratifiedSample(\n",
    "            numPoints = 1, classBand = 'biome', region = geometry, scale=50000#, geometries = True\n",
    "        )\n",
    "\n",
    "        return sampled.first()\n",
    "\n",
    "\n",
    "    # Apply the function to each grid cell\n",
    "    unified_data_sampled = grid.map(check_overlap, dropNulls = True)\n",
    "\n",
    "    # # Define the list of bands to check\n",
    "    # bands_to_check = ['lulc_sum_20', 'lulc_sum_21', 'lulc_sum_35', \n",
    "    #                 'lulc_sum_39', 'lulc_sum_40', 'lulc_sum_41', \n",
    "    #                 'lulc_sum_46', 'lulc_sum_48', 'lulc_sum_9']\n",
    "\n",
    "    # # Create a mask where at least one of the specified bands is non-zero\n",
    "    # mask = unified_data.select(bands_to_check).reduce(ee.Reducer.anyNonZero())\n",
    "\n",
    "    # # # Apply the mask to the unified_data\n",
    "    # unified_data = unified_data.updateMask(mask)\n",
    "\n",
    "    # unified_data_sampled = unified_data.stratifiedSample(\n",
    "    #     numPoints = 10000, classBand = 'biome', region = age_agbd.geometry()\n",
    "    # )\n",
    "    \n",
    "    # export_name = f\"{prefix}_neigh_reduced\"\n",
    "\n",
    "    task = ee.batch.Export.table.toDrive(\n",
    "        collection = unified_data_sampled, description = prefix, fileFormat = 'CSV'\n",
    "    )\n",
    "    task.start()\n",
    "\n",
    "    # task = ee.batch.Export.table.toAsset(\n",
    "    #     collection = unified_data_sampled, description = f\"{prefix}_toAsset\", assetId=f\"projects/amazon-forest-regrowth/assets/{prefix}\"\n",
    "    # )\n",
    "    # task.start()\n",
    "\n",
    "    return unified_data\n",
    "\n",
    "unified_data = export_csv(0, prefix)\n",
    "# export_csv(5, prefix)\n",
    "# export_csv(10, prefix)\n",
    "# export_csv(15, prefix)"
   ]
  },
  {
   "cell_type": "code",
   "execution_count": 18,
   "id": "217cf492",
   "metadata": {},
   "outputs": [
    {
     "data": {
      "text/html": [
       "\n",
       "            <style>\n",
       "                .geemap-dark {\n",
       "                    --jp-widgets-color: white;\n",
       "                    --jp-widgets-label-color: white;\n",
       "                    --jp-ui-font-color1: white;\n",
       "                    --jp-layout-color2: #454545;\n",
       "                    background-color: #383838;\n",
       "                }\n",
       "\n",
       "                .geemap-dark .jupyter-button {\n",
       "                    --jp-layout-color3: #383838;\n",
       "                }\n",
       "\n",
       "                .geemap-colab {\n",
       "                    background-color: var(--colab-primary-surface-color, white);\n",
       "                }\n",
       "\n",
       "                .geemap-colab .jupyter-button {\n",
       "                    --jp-layout-color3: var(--colab-primary-surface-color, white);\n",
       "                }\n",
       "            </style>\n",
       "            "
      ],
      "text/plain": [
       "<IPython.core.display.HTML object>"
      ]
     },
     "metadata": {},
     "output_type": "display_data"
    },
    {
     "data": {
      "application/vnd.jupyter.widget-view+json": {
       "model_id": "82a1dad04ba246298185f7cce4dda30f",
       "version_major": 2,
       "version_minor": 0
      },
      "text/plain": [
       "Map(center=[0, 0], controls=(WidgetControl(options=['position', 'transparent_bg'], widget=SearchDataGUI(childr…"
      ]
     },
     "execution_count": 18,
     "metadata": {},
     "output_type": "execute_result"
    }
   ],
   "source": [
    "year = 5\n",
    "if (year != 0):\n",
    "    prefix += f\"_{year}yr\"\n",
    "\n",
    "land_use_years = ee.Image(f\"{data_folder}/land_use_{prefix}\")\n",
    "nearest_mature = ee.Image(f\"{data_folder}/nearest_mature_image\").toInt16()\n",
    "yearly_mean_prec = ee.Image(f\"{data_folder}/yearly_mean_prec\")\n",
    "yearly_SI = ee.Image(f\"{data_folder}/yearly_SI\")\n",
    "cwd = ee.Image(f\"{data_folder}/raw/cwd_chave\")\n",
    "sur_cover = ee.Image(f\"{data_folder}/sur_cover\").rename(\"sur_cover\")\n",
    "\n",
    "combined_mask = land_use_years.select(\"last_LU\").And(nearest_mature)\n",
    "\n",
    "unified_data = (\n",
    "    age_agbd.addBands(\n",
    "        [distance, nearest_mature, categorical, land_use_years, cwd, sur_cover, yearly_mean_prec, yearly_SI\n",
    "    ]).updateMask(combined_mask)\n",
    ")\n",
    "\n",
    "# unified_data = unified_data.reduceNeighborhood(\n",
    "#     ee.Reducer.firstNonNull(),\n",
    "#     ee.Kernel.square(radius = 500)\n",
    "# )\n",
    "\n",
    "# Define the list of bands to check\n",
    "bands_to_check = ['lulc_sum_20', 'lulc_sum_21', 'lulc_sum_35', \n",
    "                'lulc_sum_39', 'lulc_sum_40', 'lulc_sum_41', \n",
    "                'lulc_sum_46', 'lulc_sum_48', 'lulc_sum_9']\n",
    "\n",
    "# Create a mask where at least one of the specified bands is non-zero\n",
    "mask = unified_data.select(bands_to_check).reduce(ee.Reducer.anyNonZero())\n",
    "\n",
    "# # Apply the mask to the unified_data\n",
    "unified_data = unified_data.updateMask(mask)\n",
    "\n",
    "map = geemap.Map()\n",
    "map.addLayer(unified_data, {}, \"unified_data\")\n",
    "map"
   ]
  },
  {
   "cell_type": "code",
   "execution_count": 11,
   "id": "58af2eec",
   "metadata": {},
   "outputs": [
    {
     "data": {
      "text/html": [
       "\n",
       "            <style>\n",
       "                .geemap-dark {\n",
       "                    --jp-widgets-color: white;\n",
       "                    --jp-widgets-label-color: white;\n",
       "                    --jp-ui-font-color1: white;\n",
       "                    --jp-layout-color2: #454545;\n",
       "                    background-color: #383838;\n",
       "                }\n",
       "\n",
       "                .geemap-dark .jupyter-button {\n",
       "                    --jp-layout-color3: #383838;\n",
       "                }\n",
       "\n",
       "                .geemap-colab {\n",
       "                    background-color: var(--colab-primary-surface-color, white);\n",
       "                }\n",
       "\n",
       "                .geemap-colab .jupyter-button {\n",
       "                    --jp-layout-color3: var(--colab-primary-surface-color, white);\n",
       "                }\n",
       "            </style>\n",
       "            "
      ],
      "text/plain": [
       "<IPython.core.display.HTML object>"
      ]
     },
     "metadata": {},
     "output_type": "display_data"
    }
   ],
   "source": [
    "gaul = ee.FeatureCollection('FAO/GAUL_SIMPLIFIED_500m/2015/level0')\n",
    "br_shp = ee.FeatureCollection('projects/amazon-forest-regrowth/assets/raw/brasil_shp')\n",
    "\n",
    "# Convert the FeatureCollection to an image\n",
    "br_img = br_shp.reduceToImage(\n",
    "    properties=['AREA_KM2'],  # Assuming 'first' is the current property name\n",
    "    reducer=ee.Reducer.first()\n",
    ").rename('br_img')\n",
    "\n",
    "br_img = br_img.reproject(proj['crs'], proj['transform'])\n",
    "br_img = br_img.gt(0)\n",
    "\n",
    "\n",
    "south_american_countries = [\n",
    "    'Argentina', 'Bolivia', 'Brazil', 'Chile', 'Colombia', 'Ecuador',\n",
    "    'French Guiana', 'Guyana', 'Paraguay', 'Peru', 'Suriname', 'Uruguay', 'Venezuela'\n",
    "]\n",
    "\n",
    "south_america = gaul.filter(ee.Filter.inList('ADM0_NAME', south_american_countries))\n",
    "\n",
    "south_america_merged = south_america.union().geometry()\n",
    "\n",
    "br_buffer = br_shp.geometry().buffer(-1000, maxError=5)\n",
    "sa_buffer = south_america_merged.buffer(-1000, maxError=5)\n",
    "\n",
    "remove_mask = br_buffer.symmetricDifference(sa_buffer)\n",
    "\n",
    "remove_mask = ee.FeatureCollection(ee.Feature(remove_mask))\n",
    "\n",
    "# Export the mean_biomass_image as an asset\n",
    "task = ee.batch.Export.table.toAsset(\n",
    "    collection=remove_mask,\n",
    "    assetId = \"projects/amazon-forest-regrowth/assets/remove_mask\",\n",
    "    description=\"remove_mask\"\n",
    ")\n",
    "task.start()\n",
    "\n",
    "# map = geemap.Map()\n",
    "# map.addLayer(br_img, {}, \"br_img\")\n",
    "# map.addLayer(brazil_buffer, {}, \"brazil_buffer\")\n",
    "# # map.addLayer(south_america_merged, {}, \"largest_polygon\")\n",
    "# map"
   ]
  },
  {
   "cell_type": "code",
   "execution_count": 57,
   "id": "6cb0f6fa",
   "metadata": {},
   "outputs": [
    {
     "data": {
      "text/html": [
       "\n",
       "            <style>\n",
       "                .geemap-dark {\n",
       "                    --jp-widgets-color: white;\n",
       "                    --jp-widgets-label-color: white;\n",
       "                    --jp-ui-font-color1: white;\n",
       "                    --jp-layout-color2: #454545;\n",
       "                    background-color: #383838;\n",
       "                }\n",
       "\n",
       "                .geemap-dark .jupyter-button {\n",
       "                    --jp-layout-color3: #383838;\n",
       "                }\n",
       "\n",
       "                .geemap-colab {\n",
       "                    background-color: var(--colab-primary-surface-color, white);\n",
       "                }\n",
       "\n",
       "                .geemap-colab .jupyter-button {\n",
       "                    --jp-layout-color3: var(--colab-primary-surface-color, white);\n",
       "                }\n",
       "            </style>\n",
       "            "
      ],
      "text/plain": [
       "<IPython.core.display.HTML object>"
      ]
     },
     "metadata": {},
     "output_type": "display_data"
    }
   ],
   "source": [
    "\n",
    "# Convert the MultiPolygon to a FeatureCollection of individual polygons\n",
    "geometry_fc = ee.FeatureCollection(south_america_merged.geometries().map(lambda geom: ee.Feature(ee.Geometry(geom))))\n",
    "\n",
    "# Calculate the area of each polygon and add it as a property\n",
    "area_fc = geometry_fc.map(lambda f: f.set('area', f.geometry().area()))\n",
    "\n",
    "# Sort the polygons by area in descending order\n",
    "sorted_fc = area_fc.sort('area', False)\n",
    "\n",
    "# Get the largest polygon (the first feature in the sorted collection)\n",
    "largest_polygon = ee.Feature(sorted_fc.first()).geometry()\n"
   ]
  }
 ],
 "metadata": {
  "kernelspec": {
   "display_name": "Python 3 (ipykernel)",
   "language": "python",
   "name": "python3"
  },
  "language_info": {
   "codemirror_mode": {
    "name": "ipython",
    "version": 3
   },
   "file_extension": ".py",
   "mimetype": "text/x-python",
   "name": "python",
   "nbconvert_exporter": "python",
   "pygments_lexer": "ipython3",
   "version": "3.11.9"
  }
 },
 "nbformat": 4,
 "nbformat_minor": 5
}
