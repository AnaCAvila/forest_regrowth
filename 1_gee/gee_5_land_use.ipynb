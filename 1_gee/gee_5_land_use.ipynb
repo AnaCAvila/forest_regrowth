{
 "cells": [
  {
   "cell_type": "code",
   "execution_count": 16,
   "metadata": {},
   "outputs": [
    {
     "data": {
      "text/html": [
       "\n",
       "            <style>\n",
       "                .geemap-dark {\n",
       "                    --jp-widgets-color: white;\n",
       "                    --jp-widgets-label-color: white;\n",
       "                    --jp-ui-font-color1: white;\n",
       "                    --jp-layout-color2: #454545;\n",
       "                    background-color: #383838;\n",
       "                }\n",
       "\n",
       "                .geemap-dark .jupyter-button {\n",
       "                    --jp-layout-color3: #383838;\n",
       "                }\n",
       "\n",
       "                .geemap-colab {\n",
       "                    background-color: var(--colab-primary-surface-color, white);\n",
       "                }\n",
       "\n",
       "                .geemap-colab .jupyter-button {\n",
       "                    --jp-layout-color3: var(--colab-primary-surface-color, white);\n",
       "                }\n",
       "            </style>\n",
       "            "
      ],
      "text/plain": [
       "<IPython.core.display.HTML object>"
      ]
     },
     "metadata": {},
     "output_type": "display_data"
    }
   ],
   "source": [
    "import ee\n",
    "import geemap\n",
    "from gee_0_utils import *\n",
    "\n",
    "initialize()\n",
    "\n",
    "config = ProjectConfig()\n",
    "roi = config.roi\n",
    "data_folder = config.data_folder\n",
    "\n",
    "age, lulc, fire = desired_lulc()\n",
    "\n",
    "history_interval = 5\n",
    "\n",
    "aggregate_LU_types = False\n",
    "\n",
    "name = \"\"\n",
    "if history_interval > 0:\n",
    "    name += f\"_{history_interval}_yr\"\n",
    "if aggregate_LU_types:\n",
    "    name_LU = f\"{name}_aggregated\"\n",
    "else:\n",
    "    name_LU = f\"{name}_non_aggregated\""
   ]
  },
  {
   "cell_type": "markdown",
   "metadata": {},
   "source": [
    "## Land Use Land Cover\n",
    "\n",
    "### Grouping land use types (if aggregation is desired)\n",
    "\n",
    "- annual_crops = 39, 20, 40, 62, 41\n",
    "- perennial_crops = 46, 47, 35, 48\n",
    "- pasture = 15\n",
    "- mosaic = 21\n",
    "- forest plantation = 9\n"
   ]
  },
  {
   "cell_type": "code",
   "execution_count": 17,
   "metadata": {},
   "outputs": [
    {
     "data": {
      "text/html": [
       "\n",
       "            <style>\n",
       "                .geemap-dark {\n",
       "                    --jp-widgets-color: white;\n",
       "                    --jp-widgets-label-color: white;\n",
       "                    --jp-ui-font-color1: white;\n",
       "                    --jp-layout-color2: #454545;\n",
       "                    background-color: #383838;\n",
       "                }\n",
       "\n",
       "                .geemap-dark .jupyter-button {\n",
       "                    --jp-layout-color3: #383838;\n",
       "                }\n",
       "\n",
       "                .geemap-colab {\n",
       "                    background-color: var(--colab-primary-surface-color, white);\n",
       "                }\n",
       "\n",
       "                .geemap-colab .jupyter-button {\n",
       "                    --jp-layout-color3: var(--colab-primary-surface-color, white);\n",
       "                }\n",
       "            </style>\n",
       "            "
      ],
      "text/plain": [
       "<IPython.core.display.HTML object>"
      ]
     },
     "metadata": {},
     "output_type": "display_data"
    }
   ],
   "source": [
    "\n",
    "# Listing land use types that are NOT forest\n",
    "if (aggregate_LU_types):\n",
    "    \n",
    "    LU_index = [10,20,30,40,50]\n",
    "\n",
    "    # A flat list of pixel values to replace.\n",
    "    from_list = [15, 46, 47, 35, 48, 39, 20, 40, 62, 41, 21, 9, 3]\n",
    "\n",
    "    # A corresponding list of new values.\n",
    "    to_list = [10, 20, 20, 20, 20, 30, 30, 30, 30, 30, 40, 50, 3]\n",
    "\n",
    "    # for each forest age, mask the lulc of the year immediately preceding abandonment\n",
    "    lulc_aggregated = ee.Image()\n",
    "    for band in lulc.bandNames().getInfo():\n",
    "        lu_yr = lulc.select(band)\n",
    "        remapped_band = lu_yr.remap(from_list, to_list).rename(band)\n",
    "        lulc_aggregated = lulc_aggregated.addBands(remapped_band)\n",
    "\n",
    "    lulc = lulc_aggregated.slice(1).byte()\n",
    "else:\n",
    "    LU_index = [15, 39, 20, 40, 62, 41, 46, 47, 35, 48, 9, 21]\n",
    "\n"
   ]
  },
  {
   "cell_type": "markdown",
   "metadata": {},
   "source": [
    "### Restricting history to n years before abandonment\n",
    "\n",
    "Since we only have land use history dating back to 1985, the data is censored. In order to restrict history to exclude pixels with possible long histories of anthropogenic use pre-1985 which could not be included in the analysis:\n",
    "\n",
    "- Make a mask with regrowing pixels that were forested in 1985 (keep only the patches that were forested in 1985, then subsequently deforested, and regrew after that).\n",
    "\n",
    "- Making a mask including only pixels that have a specified number of bands (hist_interval) between the first and the last occurrence of an anthropogenic pixel (desired extent of land use history to include)"
   ]
  },
  {
   "cell_type": "code",
   "execution_count": 18,
   "metadata": {},
   "outputs": [
    {
     "data": {
      "text/html": [
       "\n",
       "            <style>\n",
       "                .geemap-dark {\n",
       "                    --jp-widgets-color: white;\n",
       "                    --jp-widgets-label-color: white;\n",
       "                    --jp-ui-font-color1: white;\n",
       "                    --jp-layout-color2: #454545;\n",
       "                    background-color: #383838;\n",
       "                }\n",
       "\n",
       "                .geemap-dark .jupyter-button {\n",
       "                    --jp-layout-color3: #383838;\n",
       "                }\n",
       "\n",
       "                .geemap-colab {\n",
       "                    background-color: var(--colab-primary-surface-color, white);\n",
       "                }\n",
       "\n",
       "                .geemap-colab .jupyter-button {\n",
       "                    --jp-layout-color3: var(--colab-primary-surface-color, white);\n",
       "                }\n",
       "            </style>\n",
       "            "
      ],
      "text/plain": [
       "<IPython.core.display.HTML object>"
      ]
     },
     "metadata": {},
     "output_type": "display_data"
    }
   ],
   "source": [
    "\n",
    "# for each year, make a mask for all anthropogenic pixels, and multiply by the year to have the\n",
    "# pixel value be the year of observation of that land use type.\n",
    "non_forest_years = ee.Image()\n",
    "for yr in range(1985, 2020):\n",
    "    year = f\"{yr}\"\n",
    "    lu_yr = lulc.select(year).neq(3).multiply(yr)\n",
    "    non_forest_years = non_forest_years.addBands(lu_yr)\n",
    "\n",
    "# find the minimum and maximum non-zero value per pixel across all bands\n",
    "# (first and last year of anthropogenic land use)\n",
    "first_anthro = non_forest_years.selfMask().reduce(ee.Reducer.min())\n",
    "last_anthro = non_forest_years.reduce(ee.Reducer.max())\n",
    "# get total of continuous years from the first and last observation of anthropogenic land use\n",
    "anthro_gaps = last_anthro.subtract(first_anthro).add(1)\n",
    "\n"
   ]
  },
  {
   "cell_type": "code",
   "execution_count": 19,
   "metadata": {},
   "outputs": [
    {
     "data": {
      "text/html": [
       "\n",
       "            <style>\n",
       "                .geemap-dark {\n",
       "                    --jp-widgets-color: white;\n",
       "                    --jp-widgets-label-color: white;\n",
       "                    --jp-ui-font-color1: white;\n",
       "                    --jp-layout-color2: #454545;\n",
       "                    background-color: #383838;\n",
       "                }\n",
       "\n",
       "                .geemap-dark .jupyter-button {\n",
       "                    --jp-layout-color3: #383838;\n",
       "                }\n",
       "\n",
       "                .geemap-colab {\n",
       "                    background-color: var(--colab-primary-surface-color, white);\n",
       "                }\n",
       "\n",
       "                .geemap-colab .jupyter-button {\n",
       "                    --jp-layout-color3: var(--colab-primary-surface-color, white);\n",
       "                }\n",
       "            </style>\n",
       "            "
      ],
      "text/plain": [
       "<IPython.core.display.HTML object>"
      ]
     },
     "metadata": {},
     "output_type": "display_data"
    },
    {
     "data": {
      "application/vnd.jupyter.widget-view+json": {
       "model_id": "5e3fba9985bd4ab283ca193943c00578",
       "version_major": 2,
       "version_minor": 0
      },
      "text/plain": [
       "Map(center=[0, 0], controls=(WidgetControl(options=['position', 'transparent_bg'], widget=SearchDataGUI(childr…"
      ]
     },
     "execution_count": 19,
     "metadata": {},
     "output_type": "execute_result"
    }
   ],
   "source": [
    "\n",
    "# Establishing a specific range for land use history for analysis\n",
    "if history_interval > 0:\n",
    "    first_year_considered = 1984 + history_interval\n",
    "    age = age.updateMask(age.lte(2020 - first_year_considered))\n",
    "    years_regrowth_considered = range(first_year_considered, 2020)\n",
    "\n",
    "\n",
    "\n",
    "\n",
    "\n",
    "else:\n",
    "    years_regrowth_considered = config.range_1985_2019\n",
    "\n",
    "\n",
    "if use_hard_cutoff:\n",
    "def edit_lulc_based_on_age(lulc, age, history_interval):\n",
    "    \"\"\"\n",
    "    Edits the lulc image collection based on age and history_interval.\n",
    "    For every pixel, sets the values of lulc for years before (2020 - age - history_interval) to NA.\n",
    "\n",
    "    Args:\n",
    "        lulc (ee.Image): Land use/land cover image with yearly bands.\n",
    "        age (ee.Image): Image representing the age of each pixel.\n",
    "        history_interval (int): Number of years to consider in the history.\n",
    "\n",
    "    Returns:\n",
    "        ee.Image: Edited LULC image with masked values.\n",
    "    \"\"\"\n",
    "    # Calculate the cutoff year for each pixel\n",
    "    cutoff_year = ee.Image.constant(2021).subtract(age).subtract(ee.Number(history_interval))\n",
    "    band_names = lulc.bandNames()\n",
    "    years = ee.Image.constant(list(range(1985, 2021))).rename(band_names)\n",
    "    mask = years.gte(cutoff_year)\n",
    "    masked_lulc = lulc.updateMask(mask)\n",
    "    return masked_lulc\n",
    "\n",
    "else:\n",
    "    # select pixels that were forested in 1985\n",
    "    # and that have at most history_interval years of anthropogenic land use\n",
    "    lulc = lulc.updateMask(lulc.select(\"1985\").eq(3)).selfMask() \\\n",
    "    .updateMask(age).updateMask(anthro_gaps.lte(history_interval))\n",
    "\n",
    "# # Apply the function to edit lulc based on age and history_interval\n",
    "lulc = edit_lulc_based_on_age(lulc, age, history_interval)\n",
    "\n",
    "# # Visualize the results\n",
    "map = geemap.Map()\n",
    "map.addLayer(age.updateMask(age.gt(28)), {'min': 28, 'max': 31, 'palette': ['red', 'yellow', 'blue']}, \"Age\")\n",
    "# map.addLayer(lulc, {'opacity':0.1}, \"Original LULC 2019\")\n",
    "map.addLayer(edited_lulc, {'opacity':0.1}, \"Edited LULC 2019\")\n",
    "map\n"
   ]
  },
  {
   "cell_type": "markdown",
   "metadata": {},
   "source": [
    "### Total sum of years under each desired land use type\n",
    "\n",
    "For each desired land use type, the total occurrences per pixel are summed"
   ]
  },
  {
   "cell_type": "code",
   "execution_count": 99,
   "metadata": {},
   "outputs": [
    {
     "data": {
      "text/html": [
       "\n",
       "            <style>\n",
       "                .geemap-dark {\n",
       "                    --jp-widgets-color: white;\n",
       "                    --jp-widgets-label-color: white;\n",
       "                    --jp-ui-font-color1: white;\n",
       "                    --jp-layout-color2: #454545;\n",
       "                    background-color: #383838;\n",
       "                }\n",
       "\n",
       "                .geemap-dark .jupyter-button {\n",
       "                    --jp-layout-color3: #383838;\n",
       "                }\n",
       "\n",
       "                .geemap-colab {\n",
       "                    background-color: var(--colab-primary-surface-color, white);\n",
       "                }\n",
       "\n",
       "                .geemap-colab .jupyter-button {\n",
       "                    --jp-layout-color3: var(--colab-primary-surface-color, white);\n",
       "                }\n",
       "            </style>\n",
       "            "
      ],
      "text/plain": [
       "<IPython.core.display.HTML object>"
      ]
     },
     "metadata": {},
     "output_type": "display_data"
    }
   ],
   "source": [
    "LU_sum = ee.Image()\n",
    "for val in LU_index:\n",
    "    lulc_val = lulc.eq(val)\n",
    "    num_cells = lulc_val.reduce(ee.Reducer.sum()).rename(f\"lulc_sum_{val}\")\n",
    "    LU_sum = LU_sum.addBands(num_cells)\n",
    "\n",
    "# removes the first (empty) band\n",
    "LU_sum = LU_sum.slice(1).byte()"
   ]
  },
  {
   "cell_type": "markdown",
   "metadata": {},
   "source": [
    "### Last Land Use Type\n",
    "\n",
    "Finds what was the last land use type observed before abandonment."
   ]
  },
  {
   "cell_type": "code",
   "execution_count": 100,
   "metadata": {},
   "outputs": [
    {
     "data": {
      "text/html": [
       "\n",
       "            <style>\n",
       "                .geemap-dark {\n",
       "                    --jp-widgets-color: white;\n",
       "                    --jp-widgets-label-color: white;\n",
       "                    --jp-ui-font-color1: white;\n",
       "                    --jp-layout-color2: #454545;\n",
       "                    background-color: #383838;\n",
       "                }\n",
       "\n",
       "                .geemap-dark .jupyter-button {\n",
       "                    --jp-layout-color3: #383838;\n",
       "                }\n",
       "\n",
       "                .geemap-colab {\n",
       "                    background-color: var(--colab-primary-surface-color, white);\n",
       "                }\n",
       "\n",
       "                .geemap-colab .jupyter-button {\n",
       "                    --jp-layout-color3: var(--colab-primary-surface-color, white);\n",
       "                }\n",
       "            </style>\n",
       "            "
      ],
      "text/plain": [
       "<IPython.core.display.HTML object>"
      ]
     },
     "metadata": {},
     "output_type": "display_data"
    }
   ],
   "source": [
    "# for each forest age, mask the lulc of the year immediately preceding abandonment\n",
    "last_LU = ee.Image()\n",
    "for yr in config.range_1986_2019:\n",
    "    year = f\"{yr}\"\n",
    "    lu_yr = lulc.select(year)\n",
    "    age_mask = age.eq(config.last_year - yr)\n",
    "    last_LU = last_LU.addBands(lu_yr.updateMask(age_mask))\n",
    "\n",
    "# remove first empty band\n",
    "# merge all images by adding them up\n",
    "last_LU = last_LU.slice(1).reduce(ee.Reducer.sum()).rename(\"last_LU\").byte()"
   ]
  },
  {
   "cell_type": "markdown",
   "metadata": {},
   "source": [
    "### Fallow period length\n",
    "\n",
    "Finds the total number of years that land was left fallow (classified as forest before regrowth)"
   ]
  },
  {
   "cell_type": "code",
   "execution_count": 101,
   "metadata": {},
   "outputs": [
    {
     "data": {
      "text/html": [
       "\n",
       "            <style>\n",
       "                .geemap-dark {\n",
       "                    --jp-widgets-color: white;\n",
       "                    --jp-widgets-label-color: white;\n",
       "                    --jp-ui-font-color1: white;\n",
       "                    --jp-layout-color2: #454545;\n",
       "                    background-color: #383838;\n",
       "                }\n",
       "\n",
       "                .geemap-dark .jupyter-button {\n",
       "                    --jp-layout-color3: #383838;\n",
       "                }\n",
       "\n",
       "                .geemap-colab {\n",
       "                    background-color: var(--colab-primary-surface-color, white);\n",
       "                }\n",
       "\n",
       "                .geemap-colab .jupyter-button {\n",
       "                    --jp-layout-color3: var(--colab-primary-surface-color, white);\n",
       "                }\n",
       "            </style>\n",
       "            "
      ],
      "text/plain": [
       "<IPython.core.display.HTML object>"
      ]
     },
     "metadata": {},
     "output_type": "display_data"
    }
   ],
   "source": [
    "nat_cover = lulc.eq(3)\n",
    "nat_cover = nat_cover.reduce(ee.Reducer.sum())\n",
    "forest_before_first_anthro = first_anthro.subtract(1985)\n",
    "nat_cover_export = nat_cover.subtract(forest_before_first_anthro).subtract(age).rename(\"fallow\").byte()\n",
    "\n",
    "if history_interval > 0:\n",
    "    # mature forest years only makes sense if we are considering fixed history periods\n",
    "    mat_for_years = anthro_gaps.subtract(history_interval).multiply(-1).rename(\"mat_for_years\").byte()\n",
    "    nat_cover_export = nat_cover\n",
    "    nat_cover_export = nat_cover_export.addBands(mat_for_years)\n",
    "\n",
    "# map = geemap.Map()\n",
    "# map.addLayer(anthro_gaps, {\"opacity\": 0.1}, \"anthro_gaps\")\n",
    "# # map.addLayer(mat_for_years.updateMask(mat_for_years.gt(0)), {}, \"mat_for_years\")\n",
    "# map.addLayer(fallow.updateMask(fallow.gt(0)), {}, \"fallow\")\n",
    "# # map.addLayer(final_mask, {}, \"final_mask\")\n",
    "# map.addLayer(lulc, {\"opacity\": 0.1}, \"lulc\")\n",
    "# map"
   ]
  },
  {
   "cell_type": "markdown",
   "metadata": {},
   "source": [
    "### Export land_use"
   ]
  },
  {
   "cell_type": "code",
   "execution_count": 95,
   "metadata": {},
   "outputs": [
    {
     "data": {
      "text/html": [
       "\n",
       "            <style>\n",
       "                .geemap-dark {\n",
       "                    --jp-widgets-color: white;\n",
       "                    --jp-widgets-label-color: white;\n",
       "                    --jp-ui-font-color1: white;\n",
       "                    --jp-layout-color2: #454545;\n",
       "                    background-color: #383838;\n",
       "                }\n",
       "\n",
       "                .geemap-dark .jupyter-button {\n",
       "                    --jp-layout-color3: #383838;\n",
       "                }\n",
       "\n",
       "                .geemap-colab {\n",
       "                    background-color: var(--colab-primary-surface-color, white);\n",
       "                }\n",
       "\n",
       "                .geemap-colab .jupyter-button {\n",
       "                    --jp-layout-color3: var(--colab-primary-surface-color, white);\n",
       "                }\n",
       "            </style>\n",
       "            "
      ],
      "text/plain": [
       "<IPython.core.display.HTML object>"
      ]
     },
     "metadata": {},
     "output_type": "display_data"
    }
   ],
   "source": [
    "land_use = LU_sum.addBands([last_LU, nat_cover_export])\n",
    "\n",
    "# map = geemap.Map()\n",
    "# map.addLayer(land_use, {}, \"land_use\")\n",
    "# map.addLayer(lulc, {\"opacity\": 0.1}, \"lulc\")\n",
    "# map\n",
    "\n",
    "export_image(land_use, f\"land_use{name_LU}\", scale = 30, folder = \"mapbiomas\")"
   ]
  },
  {
   "cell_type": "markdown",
   "metadata": {},
   "source": [
    "## Fire\n",
    "\n",
    "### Total number of fires per pixel\n",
    "\n",
    "Each burned pixel contains the value of the land use type that burned (such as the desired_values vector specified in the land use section) - unburned pixels are zero.\n",
    "\n",
    "There are instances of fires:\n",
    "- after the first observation of anthropogenic land use\n",
    "- before the first observation of anthropogenic land use (forest fire)\n",
    "- after the last observation of anthropogenic land use (burn in regrowing forest)\n",
    "\n",
    "*Note that fire has different transform than lulc, and the projections will be adjusted when exporting.*\n",
    "\n",
    "### How many years ago was the last fire?\n",
    "\n",
    "Make one image with 34 bands, each with the number of years from the instance of burn to 2020.\n",
    "Each pixel is 0 if unburned, and \"time since fire\" in number of years if it's burned."
   ]
  },
  {
   "cell_type": "code",
   "execution_count": 35,
   "metadata": {},
   "outputs": [
    {
     "data": {
      "text/html": [
       "\n",
       "            <style>\n",
       "                .geemap-dark {\n",
       "                    --jp-widgets-color: white;\n",
       "                    --jp-widgets-label-color: white;\n",
       "                    --jp-ui-font-color1: white;\n",
       "                    --jp-layout-color2: #454545;\n",
       "                    background-color: #383838;\n",
       "                }\n",
       "\n",
       "                .geemap-dark .jupyter-button {\n",
       "                    --jp-layout-color3: #383838;\n",
       "                }\n",
       "\n",
       "                .geemap-colab {\n",
       "                    background-color: var(--colab-primary-surface-color, white);\n",
       "                }\n",
       "\n",
       "                .geemap-colab .jupyter-button {\n",
       "                    --jp-layout-color3: var(--colab-primary-surface-color, white);\n",
       "                }\n",
       "            </style>\n",
       "            "
      ],
      "text/plain": [
       "<IPython.core.display.HTML object>"
      ]
     },
     "metadata": {},
     "output_type": "display_data"
    }
   ],
   "source": [
    "# Making a fire mask with pixels of value 1 for burned pixels and 0 otherwise\n",
    "fire = fire.gt(0)\n",
    "\n",
    "\"\"\"\n",
    "Establishing a specific range for land use history for analysis, \n",
    "the ages of forests regrowing are also restricted.\n",
    "For example, if we have a fixed 10 years of history:\n",
    "1985 ---------- 10 years ----------- 1995 ----------- 25 years -----------2020\n",
    "the regrowing forests have started regrowing in 1995 at the very earliest.\n",
    "\n",
    "Then, the years of regrowth considered are:\n",
    "\"\"\"\n",
    "\n",
    "# Initialize images\n",
    "num_fires_before_regrowth = ee.Image()\n",
    "num_fires_after_regrowth = ee.Image()\n",
    "\n",
    "# Calculate burn information and add yearly bands to the corresponding images\n",
    "for yr in years_regrowth_considered:\n",
    "    yrs_ago = 2020 - yr\n",
    "    age_mask = age.eq(yrs_ago).selfMask()\n",
    "    \n",
    "    if yr < 2019:\n",
    "        # Add bands for after regrowth\n",
    "        bands_after = fire.select([str(year) for year in range(yr + 1, 2020)]).updateMask(age_mask)\n",
    "        num_fires_after_regrowth = num_fires_after_regrowth.addBands(\n",
    "            bands_after.reduce(ee.Reducer.sum()).byte().rename(f\"{yrs_ago}\")\n",
    "        )\n",
    "    \n",
    "    # if yr > 1985:\n",
    "    # Add bands for before regrowth\n",
    "    bands_before = fire.select([str(year) for year in range(1985, yr+1)]).updateMask(age_mask)\n",
    "    num_fires_before_regrowth = num_fires_before_regrowth.addBands(\n",
    "        bands_before.reduce(ee.Reducer.sum()).byte().rename(f\"{yrs_ago}\")\n",
    "    )\n",
    "\n",
    "# Remove the first band (assuming it's an unwanted initial band)\n",
    "num_fires_before_regrowth = num_fires_before_regrowth.slice(1).reduce(ee.Reducer.sum()).rename(\"num_fires_before_regrowth\")\n",
    "num_fires_after_regrowth = num_fires_after_regrowth.slice(1).reduce(ee.Reducer.sum()).rename(\"num_fires_after_regrowth\")\n",
    "\n",
    "# Combine the before and after regrowth fire counts\n",
    "num_fires = num_fires_before_regrowth.addBands(num_fires_after_regrowth).byte()\n",
    "\n",
    "# Unmask to fill any missing values with 0\n",
    "num_fires = num_fires.unmask(0)"
   ]
  },
  {
   "cell_type": "code",
   "execution_count": 38,
   "metadata": {},
   "outputs": [
    {
     "data": {
      "text/html": [
       "\n",
       "            <style>\n",
       "                .geemap-dark {\n",
       "                    --jp-widgets-color: white;\n",
       "                    --jp-widgets-label-color: white;\n",
       "                    --jp-ui-font-color1: white;\n",
       "                    --jp-layout-color2: #454545;\n",
       "                    background-color: #383838;\n",
       "                }\n",
       "\n",
       "                .geemap-dark .jupyter-button {\n",
       "                    --jp-layout-color3: #383838;\n",
       "                }\n",
       "\n",
       "                .geemap-colab {\n",
       "                    background-color: var(--colab-primary-surface-color, white);\n",
       "                }\n",
       "\n",
       "                .geemap-colab .jupyter-button {\n",
       "                    --jp-layout-color3: var(--colab-primary-surface-color, white);\n",
       "                }\n",
       "            </style>\n",
       "            "
      ],
      "text/plain": [
       "<IPython.core.display.HTML object>"
      ]
     },
     "metadata": {},
     "output_type": "display_data"
    }
   ],
   "source": [
    "export_image(num_fires, f\"num_fires{name}\", scale = 30, folder = \"mapbiomas\")"
   ]
  }
 ],
 "metadata": {
  "kernelspec": {
   "display_name": "for_reg_env",
   "language": "python",
   "name": "python3"
  },
  "language_info": {
   "codemirror_mode": {
    "name": "ipython",
    "version": 3
   },
   "file_extension": ".py",
   "mimetype": "text/x-python",
   "name": "python",
   "nbconvert_exporter": "python",
   "pygments_lexer": "ipython3",
   "version": "3.11.9"
  }
 },
 "nbformat": 4,
 "nbformat_minor": 2
}
