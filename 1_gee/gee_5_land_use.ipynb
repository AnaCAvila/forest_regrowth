{
 "cells": [
  {
   "cell_type": "code",
   "execution_count": null,
   "metadata": {},
   "outputs": [],
   "source": [
    "import ee\n",
    "import geemap\n",
    "from gee_0_utils import *\n",
    "from gee_1_age_agbd import desired_lulc\n",
    "\n",
    "initialize()\n",
    "\n",
    "config = ProjectConfig()\n",
    "roi = config.roi\n",
    "data_folder = config.data_folder\n",
    "\n",
    "age, lulc, fire = desired_lulc()\n",
    "mask_1985 = False\n",
    "history_interval = 5\n",
    "aggregate_LU_types = True"
   ]
  },
  {
   "cell_type": "markdown",
   "metadata": {},
   "source": [
    "## Land Use Land Cover\n",
    "\n",
    "### Grouping land use types (if aggregation is desired)\n",
    "\n",
    "- annual_crops = 39, 20, 40, 62, 41\n",
    "- perennial_crops = 46, 47, 35, 48\n",
    "- pasture = 15\n",
    "- mosaic = 21\n",
    "- forest plantation = 9\n"
   ]
  },
  {
   "cell_type": "code",
   "execution_count": null,
   "metadata": {},
   "outputs": [
    {
     "data": {
      "text/html": [
       "\n",
       "            <style>\n",
       "                .geemap-dark {\n",
       "                    --jp-widgets-color: white;\n",
       "                    --jp-widgets-label-color: white;\n",
       "                    --jp-ui-font-color1: white;\n",
       "                    --jp-layout-color2: #454545;\n",
       "                    background-color: #383838;\n",
       "                }\n",
       "\n",
       "                .geemap-dark .jupyter-button {\n",
       "                    --jp-layout-color3: #383838;\n",
       "                }\n",
       "\n",
       "                .geemap-colab {\n",
       "                    background-color: var(--colab-primary-surface-color, white);\n",
       "                }\n",
       "\n",
       "                .geemap-colab .jupyter-button {\n",
       "                    --jp-layout-color3: var(--colab-primary-surface-color, white);\n",
       "                }\n",
       "            </style>\n",
       "            "
      ],
      "text/plain": [
       "<IPython.core.display.HTML object>"
      ]
     },
     "metadata": {},
     "output_type": "display_data"
    }
   ],
   "source": [
    "\n",
    "# Listing land use types that are NOT forest\n",
    "if (aggregate_LU_types):\n",
    "    \n",
    "    LU_index = [10,20,30,40,50]\n",
    "\n",
    "    # A flat list of pixel values to replace.\n",
    "    from_list = [15, 46, 47, 35, 48, 39, 20, 40, 62, 41, 21, 9, 3]\n",
    "\n",
    "    # A corresponding list of new values.\n",
    "    to_list = [10, 20, 20, 20, 20, 30, 30, 30, 30, 30, 40, 50, 3]\n",
    "\n",
    "    # for each forest age, mask the lulc of the year immediately preceding abandonment\n",
    "    lulc_aggregated = ee.Image()\n",
    "    for band in lulc.bandNames().getInfo():\n",
    "        lu_yr = lulc.select(band)\n",
    "        remapped_band = lu_yr.remap(from_list, to_list).rename(band)\n",
    "        lulc_aggregated = lulc_aggregated.addBands(remapped_band)\n",
    "\n",
    "    lulc = lulc_aggregated.slice(1).byte()\n",
    "else:\n",
    "    LU_index = [15, 39, 20, 40, 62, 41, 46, 47, 35, 48, 9, 21]\n",
    "\n"
   ]
  },
  {
   "cell_type": "markdown",
   "metadata": {},
   "source": [
    "### Restricting history to n years before abandonment\n",
    "\n",
    "Since we only have land use history dating back to 1985, the data is censored. In order to restrict history to exclude pixels with possible long histories of anthropogenic use pre-1985 which could not be included in the analysis:\n",
    "\n",
    "- Make a mask with regrowing pixels that were forested in 1985 (keep only the patches that were forested in 1985, then subsequently deforested, and regrew after that).\n",
    "\n",
    "- Making a mask including only pixels that have a specified number of bands (hist_interval) between the first and the last occurrence of an anthropogenic pixel (desired extent of land use history to include)"
   ]
  },
  {
   "cell_type": "code",
   "execution_count": null,
   "metadata": {},
   "outputs": [
    {
     "data": {
      "text/html": [
       "\n",
       "            <style>\n",
       "                .geemap-dark {\n",
       "                    --jp-widgets-color: white;\n",
       "                    --jp-widgets-label-color: white;\n",
       "                    --jp-ui-font-color1: white;\n",
       "                    --jp-layout-color2: #454545;\n",
       "                    background-color: #383838;\n",
       "                }\n",
       "\n",
       "                .geemap-dark .jupyter-button {\n",
       "                    --jp-layout-color3: #383838;\n",
       "                }\n",
       "\n",
       "                .geemap-colab {\n",
       "                    background-color: var(--colab-primary-surface-color, white);\n",
       "                }\n",
       "\n",
       "                .geemap-colab .jupyter-button {\n",
       "                    --jp-layout-color3: var(--colab-primary-surface-color, white);\n",
       "                }\n",
       "            </style>\n",
       "            "
      ],
      "text/plain": [
       "<IPython.core.display.HTML object>"
      ]
     },
     "metadata": {},
     "output_type": "display_data"
    }
   ],
   "source": [
    "\n",
    "# for each year, make a mask for all anthropogenic pixels, and multiply by the year to have the\n",
    "# pixel value be the year of observation of that land use type.\n",
    "non_forest_years = ee.Image()\n",
    "for yr in range(1985, 2020):\n",
    "    year = f\"{yr}\"\n",
    "    lu_yr = lulc.select(year).neq(3).multiply(yr)\n",
    "    non_forest_years = non_forest_years.addBands(lu_yr)\n",
    "\n",
    "# find the minimum and maximum non-zero value per pixel across all bands\n",
    "# (first and last year of anthropogenic land use)\n",
    "first_anthro = non_forest_years.selfMask().reduce(ee.Reducer.min())\n",
    "\n",
    "if mask_1985:\n",
    "    last_anthro = non_forest_years.reduce(ee.Reducer.max())\n",
    "    # get total of continuous years from the first and last observation of anthropogenic land use\n",
    "    anthro_gaps = last_anthro.subtract(first_anthro).add(1)\n",
    "\n",
    "    # select pixels that were forested in 1985\n",
    "    # and that have at least history_interval years of anthropogenic land use\n",
    "    lulc = lulc.updateMask(lulc.select(\"1985\").eq(3)).selfMask() \\\n",
    "    .updateMask(age.lt(35-history_interval)).updateMask(anthro_gaps.lte(history_interval))\n"
   ]
  },
  {
   "cell_type": "markdown",
   "metadata": {},
   "source": [
    "### Total sum of years under each desired land use type\n",
    "\n",
    "For each desired land use type, the total occurrences per pixel are summed"
   ]
  },
  {
   "cell_type": "code",
   "execution_count": null,
   "metadata": {},
   "outputs": [
    {
     "data": {
      "text/html": [
       "\n",
       "            <style>\n",
       "                .geemap-dark {\n",
       "                    --jp-widgets-color: white;\n",
       "                    --jp-widgets-label-color: white;\n",
       "                    --jp-ui-font-color1: white;\n",
       "                    --jp-layout-color2: #454545;\n",
       "                    background-color: #383838;\n",
       "                }\n",
       "\n",
       "                .geemap-dark .jupyter-button {\n",
       "                    --jp-layout-color3: #383838;\n",
       "                }\n",
       "\n",
       "                .geemap-colab {\n",
       "                    background-color: var(--colab-primary-surface-color, white);\n",
       "                }\n",
       "\n",
       "                .geemap-colab .jupyter-button {\n",
       "                    --jp-layout-color3: var(--colab-primary-surface-color, white);\n",
       "                }\n",
       "            </style>\n",
       "            "
      ],
      "text/plain": [
       "<IPython.core.display.HTML object>"
      ]
     },
     "metadata": {},
     "output_type": "display_data"
    }
   ],
   "source": [
    "LU_sum = ee.Image()\n",
    "for val in LU_index:\n",
    "    lulc_val = lulc.eq(val)\n",
    "    num_cells = lulc_val.reduce(ee.Reducer.sum()).rename(f\"lulc_sum_{val}\")\n",
    "    LU_sum = LU_sum.addBands(num_cells)\n",
    "\n",
    "# removes the first (empty) band\n",
    "LU_sum = LU_sum.slice(1).byte()"
   ]
  },
  {
   "cell_type": "markdown",
   "metadata": {},
   "source": [
    "### Last Land Use Type\n",
    "\n",
    "Finds what was the last land use type observed before abandonment."
   ]
  },
  {
   "cell_type": "code",
   "execution_count": null,
   "metadata": {},
   "outputs": [
    {
     "data": {
      "text/html": [
       "\n",
       "            <style>\n",
       "                .geemap-dark {\n",
       "                    --jp-widgets-color: white;\n",
       "                    --jp-widgets-label-color: white;\n",
       "                    --jp-ui-font-color1: white;\n",
       "                    --jp-layout-color2: #454545;\n",
       "                    background-color: #383838;\n",
       "                }\n",
       "\n",
       "                .geemap-dark .jupyter-button {\n",
       "                    --jp-layout-color3: #383838;\n",
       "                }\n",
       "\n",
       "                .geemap-colab {\n",
       "                    background-color: var(--colab-primary-surface-color, white);\n",
       "                }\n",
       "\n",
       "                .geemap-colab .jupyter-button {\n",
       "                    --jp-layout-color3: var(--colab-primary-surface-color, white);\n",
       "                }\n",
       "            </style>\n",
       "            "
      ],
      "text/plain": [
       "<IPython.core.display.HTML object>"
      ]
     },
     "metadata": {},
     "output_type": "display_data"
    }
   ],
   "source": [
    "# for each forest age, mask the lulc of the year immediately preceding abandonment\n",
    "last_LU = ee.Image()\n",
    "for yr in config.range_1986_2019:\n",
    "    year = f\"{yr}\"\n",
    "    lu_yr = lulc.select(year)\n",
    "    age_mask = age.eq(config.config.last_year - yr)\n",
    "    last_LU = last_LU.addBands(lu_yr.updateMask(age_mask))\n",
    "\n",
    "# remove first empty band\n",
    "# merge all images by adding them up\n",
    "last_LU = last_LU.slice(1).reduce(ee.Reducer.sum()).rename(\"last_LU\").byte()"
   ]
  },
  {
   "cell_type": "markdown",
   "metadata": {},
   "source": [
    "### Fallow period length\n",
    "\n",
    "Finds the total number of years that land was left fallow (classified as forest before regrowth)"
   ]
  },
  {
   "cell_type": "code",
   "execution_count": null,
   "metadata": {},
   "outputs": [
    {
     "data": {
      "text/html": [
       "\n",
       "            <style>\n",
       "                .geemap-dark {\n",
       "                    --jp-widgets-color: white;\n",
       "                    --jp-widgets-label-color: white;\n",
       "                    --jp-ui-font-color1: white;\n",
       "                    --jp-layout-color2: #454545;\n",
       "                    background-color: #383838;\n",
       "                }\n",
       "\n",
       "                .geemap-dark .jupyter-button {\n",
       "                    --jp-layout-color3: #383838;\n",
       "                }\n",
       "\n",
       "                .geemap-colab {\n",
       "                    background-color: var(--colab-primary-surface-color, white);\n",
       "                }\n",
       "\n",
       "                .geemap-colab .jupyter-button {\n",
       "                    --jp-layout-color3: var(--colab-primary-surface-color, white);\n",
       "                }\n",
       "            </style>\n",
       "            "
      ],
      "text/plain": [
       "<IPython.core.display.HTML object>"
      ]
     },
     "metadata": {},
     "output_type": "display_data"
    }
   ],
   "source": [
    "nat_cover = lulc.eq(3)\n",
    "total_nat_cover = nat_cover.reduce(ee.Reducer.sum())\n",
    "mat_for_years = anthro_gaps.subtract(history_interval).multiply(-1).rename(\"mat_for_years\").byte()\n",
    "fallow = total_nat_cover.subtract(36).subtract(mat_for_years).add(10).rename(\"fallow\").byte()\n",
    "\n",
    "nat_cover = fallow.addBands(mat_for_years)"
   ]
  },
  {
   "cell_type": "markdown",
   "metadata": {},
   "source": [
    "## Fire\n",
    "\n",
    "### Total number of fires per pixel\n",
    "\n",
    "Each burned pixel contains the value of the land use type that burned (such as the desired_values vector specified in the land use section) - unburned pixels are zero.\n",
    "\n",
    "There are instances of fires:\n",
    "- after the first observation of anthropogenic land use\n",
    "- before the first observation of anthropogenic land use (forest fire)\n",
    "- after the last observation of anthropogenic land use (burn in regrowing forest)\n",
    "\n",
    "*Note that fire has different transform than lulc, and the projections will be adjusted when exporting.*\n",
    "\n",
    "### How many years ago was the last fire?\n",
    "\n",
    "Make one image with 34 bands, each with the number of years from the instance of burn to 2020.\n",
    "Each pixel is 0 if unburned, and \"time since fire\" in number of years if it's burned."
   ]
  },
  {
   "cell_type": "code",
   "execution_count": null,
   "metadata": {},
   "outputs": [
    {
     "data": {
      "text/html": [
       "\n",
       "            <style>\n",
       "                .geemap-dark {\n",
       "                    --jp-widgets-color: white;\n",
       "                    --jp-widgets-label-color: white;\n",
       "                    --jp-ui-font-color1: white;\n",
       "                    --jp-layout-color2: #454545;\n",
       "                    background-color: #383838;\n",
       "                }\n",
       "\n",
       "                .geemap-dark .jupyter-button {\n",
       "                    --jp-layout-color3: #383838;\n",
       "                }\n",
       "\n",
       "                .geemap-colab {\n",
       "                    background-color: var(--colab-primary-surface-color, white);\n",
       "                }\n",
       "\n",
       "                .geemap-colab .jupyter-button {\n",
       "                    --jp-layout-color3: var(--colab-primary-surface-color, white);\n",
       "                }\n",
       "            </style>\n",
       "            "
      ],
      "text/plain": [
       "<IPython.core.display.HTML object>"
      ]
     },
     "metadata": {},
     "output_type": "display_data"
    }
   ],
   "source": [
    "# Making a fire mask with pixels of value 1 for burned pixels and 0 otherwise instead:\n",
    "fire = fire.gt(0)\n",
    "\n",
    "\"\"\"\n",
    "Establishing a specific range for land use history for analysis, the ages of forests regrowing are also restricted.\n",
    "For example, if we have a fixed 10 years of history:\n",
    "1985 ---------- 10 years ----------- 1995 ----------- 25 years -----------2020\n",
    "the regrowing forests have started regrowing in 1995 at the very earliest.\n",
    "\n",
    "Then, the years of regrowth considered are:\n",
    "\"\"\"\n",
    "\n",
    "if mask_1985 == True:\n",
    "    first_year_anthro = config.first_year + 1 + history_interval\n",
    "    years_regrowth_considered = range((first_year_anthro), config.last_year)\n",
    "else:\n",
    "    years_regrowth_considered = years\n",
    "\n",
    "# Initialize images\n",
    "num_fires_before_regrowth = ee.Image()\n",
    "num_fires_after_regrowth = ee.Image()\n",
    "\n",
    "ts_fire_before_regrowth = ee.Image()\n",
    "ts_fire_after_regrowth = ee.Image()\n",
    "\n",
    "num_fires_before_first_anthro = ee.Image()\n",
    "num_fires_during_anthro = ee.Image()\n",
    "\n",
    "ts_all_fires = ee.Image()\n",
    "\n",
    "\"\"\"\n",
    "for each year, multiply the fire mask by the year to have the pixel value be the year of observation of each fire\n",
    "\"\"\"\n",
    "for yr in range(1985, 2020):\n",
    "    ts_all_fires = ts_all_fires.addBands(\n",
    "        fire.select([f\"{yr}\"]).multiply(config.last_year - yr)\n",
    "    )\n",
    "\n",
    "\n",
    "def add_fire_bands(image, start_year, end_year, mask, input):\n",
    "    \"\"\"\n",
    "    Adds bands to an image for a range of years, applying a mask and a reducer.\n",
    "    \"\"\"\n",
    "\n",
    "    bands = input.select(\n",
    "        [f\"{year}\" for year in range(start_year, end_year)]\n",
    "    ).updateMask(mask)\n",
    "\n",
    "    if input == ts_all_fires:\n",
    "        return image.addBands(bands.reduce(ee.Reducer.lastNonNull()).byte())\n",
    "    else:\n",
    "        return image.addBands(bands.reduce(ee.Reducer.sum()).byte())\n",
    "\n",
    "\n",
    "\"\"\"\n",
    "Calculate burn information and add yearly bands to the corresponding images\n",
    "\"\"\"\n",
    "for yr in years_regrowth_considered:\n",
    "    yrs_ago = config.last_year - yr\n",
    "    age_mask = age.eq(yrs_ago)\n",
    "\n",
    "    # Add bands for after regrowth\n",
    "    num_fires_after_regrowth = add_fire_bands(\n",
    "        num_fires_after_regrowth, yr, config.last_year, age_mask, fire\n",
    "    )\n",
    "    # Add bands for before regrowth\n",
    "    num_fires_before_regrowth = add_fire_bands(\n",
    "        num_fires_before_regrowth, config.first_year, yr, age_mask, fire\n",
    "    )\n",
    "\n",
    "    # Add bands for after regrowth\n",
    "    ts_fire_after_regrowth = add_fire_bands(\n",
    "        ts_fire_after_regrowth, yr, config.last_year, age_mask, ts_all_fires\n",
    "    )\n",
    "    # Add bands for before regrowth\n",
    "    ts_fire_before_regrowth = add_fire_bands(\n",
    "        ts_fire_before_regrowth, config.first_year, yr, age_mask, ts_all_fires\n",
    "    )\n",
    "\n",
    "    if mask_1985:\n",
    "        # Add bands for before first anthro\n",
    "        num_fires_before_first_anthro = add_fire_bands(\n",
    "            num_fires_before_first_anthro,\n",
    "            config.first_year,\n",
    "            yr - history_interval,\n",
    "            age_mask,\n",
    "            fire,\n",
    "        )\n",
    "        # Add bands for during anthro\n",
    "        num_fires_during_anthro = add_fire_bands(\n",
    "            num_fires_during_anthro, yr - history_interval, yr, age_mask, fire\n",
    "        )\n",
    "\n",
    "def process_band(band, name):\n",
    "    \"\"\"\n",
    "    For all images, we have one band per year. Across these bands, there is only one value per pixel.\n",
    "    To get all the pixels into a single layer, we can sum the values across bands.\n",
    "    \"\"\"\n",
    "    return band.slice(1).reduce(ee.Reducer.sum()).rename(name)\n",
    "\n",
    "\n",
    "# Apply the helper function to each band\n",
    "fires = (\n",
    "    process_band(num_fires_after_regrowth, \"num_fires_after_regrowth\")\n",
    "    .addBands(\n",
    "        [\n",
    "            process_band(num_fires_before_regrowth, \"num_fires_before_regrowth\"),\n",
    "            process_band(ts_fire_before_regrowth, \"ts_fire_before_regrowth\"),\n",
    "            process_band(ts_fire_after_regrowth, \"ts_fire_after_regrowth\"),\n",
    "        ]\n",
    "    )\n",
    "    .byte()\n",
    ")\n",
    "\n",
    "# Slice and reduce the final image\n",
    "if mask_1985:\n",
    "    fires = fires.addBands(\n",
    "        [\n",
    "            process_band(num_fires_during_anthro, \"num_fires_during_anthro\"),\n",
    "            process_band(\n",
    "                num_fires_before_first_anthro, \"num_fires_before_first_anthro\"\n",
    "            ),\n",
    "        ]\n",
    "    ).byte()\n",
    "\n",
    "\n",
    "fires = fires.unmask(0)"
   ]
  },
  {
   "cell_type": "markdown",
   "metadata": {},
   "source": [
    "### Export land_use"
   ]
  },
  {
   "cell_type": "code",
   "execution_count": null,
   "metadata": {},
   "outputs": [
    {
     "data": {
      "text/html": [
       "\n",
       "            <style>\n",
       "                .geemap-dark {\n",
       "                    --jp-widgets-color: white;\n",
       "                    --jp-widgets-label-color: white;\n",
       "                    --jp-ui-font-color1: white;\n",
       "                    --jp-layout-color2: #454545;\n",
       "                    background-color: #383838;\n",
       "                }\n",
       "\n",
       "                .geemap-dark .jupyter-button {\n",
       "                    --jp-layout-color3: #383838;\n",
       "                }\n",
       "\n",
       "                .geemap-colab {\n",
       "                    background-color: var(--colab-primary-surface-color, white);\n",
       "                }\n",
       "\n",
       "                .geemap-colab .jupyter-button {\n",
       "                    --jp-layout-color3: var(--colab-primary-surface-color, white);\n",
       "                }\n",
       "            </style>\n",
       "            "
      ],
      "text/plain": [
       "<IPython.core.display.HTML object>"
      ]
     },
     "metadata": {},
     "output_type": "display_data"
    }
   ],
   "source": [
    "land_use = LU_sum.addBands([last_LU, nat_cover, fires])\n",
    "\n",
    "name = \"\"\n",
    "if aggregate_LU_types:\n",
    "    name += \"_aggregated\"\n",
    "if mask_1985:\n",
    "    name += f\"_{history_interval}_yr\"\n",
    "\n",
    "export_image(land_use, f\"land_use{name}\", scale = 30)"
   ]
  }
 ],
 "metadata": {
  "language_info": {
   "name": "python"
  }
 },
 "nbformat": 4,
 "nbformat_minor": 2
}
