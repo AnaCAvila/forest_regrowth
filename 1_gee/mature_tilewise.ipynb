{
 "cells": [
  {
   "cell_type": "code",
   "execution_count": 4,
   "metadata": {},
   "outputs": [
    {
     "data": {
      "text/html": [
       "\n",
       "            <style>\n",
       "                .geemap-dark {\n",
       "                    --jp-widgets-color: white;\n",
       "                    --jp-widgets-label-color: white;\n",
       "                    --jp-ui-font-color1: white;\n",
       "                    --jp-layout-color2: #454545;\n",
       "                    background-color: #383838;\n",
       "                }\n",
       "\n",
       "                .geemap-dark .jupyter-button {\n",
       "                    --jp-layout-color3: #383838;\n",
       "                }\n",
       "\n",
       "                .geemap-colab {\n",
       "                    background-color: var(--colab-primary-surface-color, white);\n",
       "                }\n",
       "\n",
       "                .geemap-colab .jupyter-button {\n",
       "                    --jp-layout-color3: var(--colab-primary-surface-color, white);\n",
       "                }\n",
       "            </style>\n",
       "            "
      ],
      "text/plain": [
       "<IPython.core.display.HTML object>"
      ]
     },
     "metadata": {},
     "output_type": "display_data"
    }
   ],
   "source": [
    "import ee\n",
    "import geemap\n",
    "from gee_0_utils import *\n",
    "\n",
    "initialize()\n",
    "config = ProjectConfig()\n",
    "\n",
    "roi = config.roi\n",
    "data_folder = config.data_folder\n",
    "\n",
    "biomass_raw = ee.Image(f\"{data_folder}/raw/biomass\")\n",
    "proj = biomass_raw.projection().getInfo()\n",
    "method = 'mapbiomas'\n",
    "\n",
    "panama = False\n",
    "if panama:\n",
    "    roi = ee.FeatureCollection(\"USDOS/LSIB_SIMPLE/2017\").filterMetadata(\"country_na\", \"equals\", \"Panama\").geometry()\n",
    "    folder = \"panama\"\n",
    "else:\n",
    "    folder = method"
   ]
  },
  {
   "cell_type": "code",
   "execution_count": 9,
   "metadata": {},
   "outputs": [
    {
     "data": {
      "text/html": [
       "\n",
       "            <style>\n",
       "                .geemap-dark {\n",
       "                    --jp-widgets-color: white;\n",
       "                    --jp-widgets-label-color: white;\n",
       "                    --jp-ui-font-color1: white;\n",
       "                    --jp-layout-color2: #454545;\n",
       "                    background-color: #383838;\n",
       "                }\n",
       "\n",
       "                .geemap-dark .jupyter-button {\n",
       "                    --jp-layout-color3: #383838;\n",
       "                }\n",
       "\n",
       "                .geemap-colab {\n",
       "                    background-color: var(--colab-primary-surface-color, white);\n",
       "                }\n",
       "\n",
       "                .geemap-colab .jupyter-button {\n",
       "                    --jp-layout-color3: var(--colab-primary-surface-color, white);\n",
       "                }\n",
       "            </style>\n",
       "            "
      ],
      "text/plain": [
       "<IPython.core.display.HTML object>"
      ]
     },
     "metadata": {},
     "output_type": "display_data"
    }
   ],
   "source": [
    "mature_biomass = ee.Image(f\"{data_folder}/{method}/mature_biomass_500\")\n",
    "mature_biomass_vector = ee.FeatureCollection(f\"{data_folder}/{folder}/mature_biomass_vector\")\n",
    "\n",
    "one_hectare_mask = ee.Image(f\"{data_folder}/{method}/one_hectare_mask\")\n",
    "secondary = ee.Image(f\"{data_folder}/{method}/secondary\")\n",
    "secondary = secondary.select(\"age\").updateMask(one_hectare_mask)\n",
    "\n",
    "def buffer_distance(f):\n",
    "    distance = ee.Number(f.get('distance'))\n",
    "    buffered = ee.Feature(f.buffer(distance.add(1000)))\n",
    "    return buffered\n",
    "\n",
    "# Load region of interest (ROI) and create a grid over the ROI\n",
    "grid = roi.coveringGrid(\"EPSG:4326\", 1000000).filterBounds(roi)\n",
    "tile_ids = grid.aggregate_array('system:index').getInfo()\n",
    "count = 0\n",
    "\n",
    "# Loop over IDs\n",
    "for feature_id in tile_ids:\n",
    "    count = count + 1\n",
    "    # Find the feature again by its ID in the collection.\n",
    "    feat = grid.filter(ee.Filter.eq('system:index', feature_id)).first()\n",
    "\n",
    "    # change radius depending on data resolution and patterns\n",
    "    distance_to_nearest_mature = mature_biomass_vector.distance(searchRadius = 10000)\\\n",
    "        .toInt().clip(feat.geometry()).updateMask(secondary)\n",
    "\n",
    "    distances_vector = distance_to_nearest_mature.sample(region = roi, scale = 1000, geometries = True)\n",
    "\n",
    "    distances_vector_buffer = distances_vector.map(buffer_distance)\n",
    "\n",
    "    nearest_mature_biomass = mature_biomass.reduceRegions(distances_vector_buffer, ee.Reducer.firstNonNull(), \n",
    "                                            crs = proj['crs'], crsTransform = proj['transform'])\n",
    "\n",
    "    # change geometries from polygons to points\n",
    "    nearest_mature_biomass = nearest_mature_biomass.map(lambda f: ee.Feature(f.geometry().centroid()).copyProperties(f))\n",
    "\n",
    "    # Convert the FeatureCollection to an image\n",
    "    nearest_mature_biomass_image = nearest_mature_biomass.reduceToImage(\n",
    "        properties = ['first'],\n",
    "        reducer = ee.Reducer.first()\n",
    "    ).toInt16().rename('nearest_mature_biomass')\n",
    "\n",
    "    export_image(nearest_mature_biomass_image, f\"nearest_mature_biomass_{count}\", \\\n",
    "                    region = roi, folder = method, crsTransform = proj['transform'])"
   ]
  },
  {
   "cell_type": "code",
   "execution_count": 17,
   "metadata": {},
   "outputs": [
    {
     "data": {
      "text/html": [
       "\n",
       "            <style>\n",
       "                .geemap-dark {\n",
       "                    --jp-widgets-color: white;\n",
       "                    --jp-widgets-label-color: white;\n",
       "                    --jp-ui-font-color1: white;\n",
       "                    --jp-layout-color2: #454545;\n",
       "                    background-color: #383838;\n",
       "                }\n",
       "\n",
       "                .geemap-dark .jupyter-button {\n",
       "                    --jp-layout-color3: #383838;\n",
       "                }\n",
       "\n",
       "                .geemap-colab {\n",
       "                    background-color: var(--colab-primary-surface-color, white);\n",
       "                }\n",
       "\n",
       "                .geemap-colab .jupyter-button {\n",
       "                    --jp-layout-color3: var(--colab-primary-surface-color, white);\n",
       "                }\n",
       "            </style>\n",
       "            "
      ],
      "text/plain": [
       "<IPython.core.display.HTML object>"
      ]
     },
     "metadata": {},
     "output_type": "display_data"
    },
    {
     "data": {
      "application/vnd.jupyter.widget-view+json": {
       "model_id": "77572a690e364bf3818ff2cc4ece9a66",
       "version_major": 2,
       "version_minor": 0
      },
      "text/plain": [
       "Map(center=[0, 0], controls=(WidgetControl(options=['position', 'transparent_bg'], widget=SearchDataGUI(childr…"
      ]
     },
     "execution_count": 17,
     "metadata": {},
     "output_type": "execute_result"
    }
   ],
   "source": [
    "grid = roi.coveringGrid(\"EPSG:4326\", 1000000).filterBounds(roi)\n",
    "\n",
    "feat = grid.filter(ee.Filter.eq('system:index', '-7,-4'))\n",
    "# '-7,-4'\n",
    "#  '-5,-3'\n",
    "mature_biomass = ee.Image(f\"{data_folder}/{method}/mature_biomass_500\").clip(feat.geometry())\n",
    "\n",
    "map = geemap.Map()\n",
    "map.addLayer(roi.coveringGrid(\"EPSG:4326\", 1000000), {}, 'roi')\n",
    "# map.addLayer(mature_biomass, {}, 'mature_biomass')\n",
    "map"
   ]
  },
  {
   "cell_type": "code",
   "execution_count": null,
   "metadata": {},
   "outputs": [],
   "source": [
    "\n",
    "gaus_kernel = ee.Kernel.gaussian(radius = 10000, sigma = 200, units = \"meters\")\n",
    "\n",
    "mat_gaus_ker = (\n",
    "    mature_biomass.focalMean(kernel = gaus_kernel, iterations = 1)\n",
    "    .rename(\"mat_biomass\")\n",
    "    .float()\n",
    ")\n",
    "\n",
    "export_image(mat_gaus_ker, \"mat_gaus_ker\", region = roi, folder = method, crsTransform = proj['transform'])\n"
   ]
  }
 ],
 "metadata": {
  "kernelspec": {
   "display_name": "for_reg_env",
   "language": "python",
   "name": "python3"
  },
  "language_info": {
   "codemirror_mode": {
    "name": "ipython",
    "version": 3
   },
   "file_extension": ".py",
   "mimetype": "text/x-python",
   "name": "python",
   "nbconvert_exporter": "python",
   "pygments_lexer": "ipython3",
   "version": "3.11.9"
  }
 },
 "nbformat": 4,
 "nbformat_minor": 2
}
