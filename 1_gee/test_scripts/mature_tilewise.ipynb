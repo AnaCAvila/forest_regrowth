{
 "cells": [
  {
   "cell_type": "code",
   "execution_count": 2,
   "metadata": {},
   "outputs": [
    {
     "data": {
      "text/html": [
       "\n",
       "            <style>\n",
       "                .geemap-dark {\n",
       "                    --jp-widgets-color: white;\n",
       "                    --jp-widgets-label-color: white;\n",
       "                    --jp-ui-font-color1: white;\n",
       "                    --jp-layout-color2: #454545;\n",
       "                    background-color: #383838;\n",
       "                }\n",
       "\n",
       "                .geemap-dark .jupyter-button {\n",
       "                    --jp-layout-color3: #383838;\n",
       "                }\n",
       "\n",
       "                .geemap-colab {\n",
       "                    background-color: var(--colab-primary-surface-color, white);\n",
       "                }\n",
       "\n",
       "                .geemap-colab .jupyter-button {\n",
       "                    --jp-layout-color3: var(--colab-primary-surface-color, white);\n",
       "                }\n",
       "            </style>\n",
       "            "
      ],
      "text/plain": [
       "<IPython.core.display.HTML object>"
      ]
     },
     "metadata": {},
     "output_type": "display_data"
    }
   ],
   "source": [
    "import ee\n",
    "import geemap\n",
    "from gee_0_utils import *\n",
    "\n",
    "initialize()\n",
    "config = ProjectConfig()\n",
    "\n",
    "roi = config.roi\n",
    "data_folder = config.data_folder\n",
    "\n",
    "age, _, _ = desired_lulc()\n",
    "\n",
    "lulc = (ee.Image(\"projects/mapbiomas-public/assets/brazil/lulc/collection9/mapbiomas_collection90_integration_v1\")\n",
    "        .select([f\"classification_{year}\" for year in config.range_1985_2020])\n",
    "        .byte()\n",
    "        .rename([str(year) for year in config.range_1985_2020]))\n",
    "\n",
    "biomass_raw = ee.Image(f\"{data_folder}/raw/biomass\")\n",
    "proj = biomass_raw.projection().getInfo()\n",
    "method = 'mapbiomas'\n",
    "export = False"
   ]
  },
  {
   "cell_type": "code",
   "execution_count": 3,
   "metadata": {},
   "outputs": [
    {
     "data": {
      "text/html": [
       "\n",
       "            <style>\n",
       "                .geemap-dark {\n",
       "                    --jp-widgets-color: white;\n",
       "                    --jp-widgets-label-color: white;\n",
       "                    --jp-ui-font-color1: white;\n",
       "                    --jp-layout-color2: #454545;\n",
       "                    background-color: #383838;\n",
       "                }\n",
       "\n",
       "                .geemap-dark .jupyter-button {\n",
       "                    --jp-layout-color3: #383838;\n",
       "                }\n",
       "\n",
       "                .geemap-colab {\n",
       "                    background-color: var(--colab-primary-surface-color, white);\n",
       "                }\n",
       "\n",
       "                .geemap-colab .jupyter-button {\n",
       "                    --jp-layout-color3: var(--colab-primary-surface-color, white);\n",
       "                }\n",
       "            </style>\n",
       "            "
      ],
      "text/plain": [
       "<IPython.core.display.HTML object>"
      ]
     },
     "metadata": {},
     "output_type": "display_data"
    }
   ],
   "source": [
    "\n",
    "biomass_raw = ee.Image(f\"{data_folder}/raw/biomass\")\n",
    "proj = biomass_raw.projection().getInfo()\n",
    "\n",
    "if method == 'eu':\n",
    "    mature_mask = annual_changes = ee.ImageCollection('projects/JRC/TMF/v1_2023/AnnualChanges').mosaic().clip(config.roi)\n",
    "    annual_changes.select('Dec2020').eq(1).selfMask()\n",
    "    mature_biomass = biomass_raw.updateMask(mature_mask).rename(\"mature_biomass\")\n",
    "\n",
    "elif method == 'mapbiomas':\n",
    "    mature_mask = lulc.eq(3).reduce(ee.Reducer.allNonZero()).selfMask()\n",
    "    # keep only forests that are 1000m away from any non-forest area\n",
    "    edge_detec = mature_mask.unmask(-1).zeroCrossing()\n",
    "    distance_to_edge = edge_detec.fastDistanceTransform().sqrt() \\\n",
    "        .multiply(ee.Image.pixelArea().sqrt()).rename(\"distance_to_edge\")\n",
    "    distance_to_edge = distance_to_edge.gt(1000).selfMask().updateMask(mature_mask)\n",
    "    mature_biomass = biomass_raw.updateMask(distance_to_edge).rename(\"mature_biomass\")\n",
    "\n",
    "sur_cover = mature_mask.unmask(0).focalMean(radius = 1000, units = \"meters\").float().rename(\"sur_cover\")\n",
    "\n",
    "if export:\n",
    "    export_image(mature_biomass, \"mature_biomass\", folder = method, crsTransform = proj['transform'])\n",
    "    # export_image(mature_biomass, \"mature_biomass_500\", folder = method, scale = 500)\n",
    "    export_image(sur_cover, \"sur_cover\", folder = method, scale = 30).updateMask(age)\n",
    "\n"
   ]
  },
  {
   "cell_type": "code",
   "execution_count": null,
   "metadata": {},
   "outputs": [],
   "source": [
    "mature_biomass = ee.Image(f\"{data_folder}/{method}/mature_biomass_500\")\n",
    "\n",
    "biome = ee.FeatureCollection(f\"{data_folder}/raw/biomes_br\")\n",
    "amaz_atla_pant = biome.filter(ee.Filter.inList('CD_Bioma', [1, 4, 6]))\n",
    "mature_biomass = mature_biomass.clip(amaz_atla_pant)\n",
    "\n",
    "mature_biomass_vector = mature_biomass.sample(region = mature_biomass.geometry(), scale = 1000, geometries = True)\n",
    "\n",
    "secondary = ee.Image(f\"{data_folder}/{method}/secondary\")\n",
    "secondary = secondary.select(\"age\")\n",
    "\n",
    "\n",
    "\n",
    "# change radius depending on data resolution and patterns\n",
    "distance_to_nearest_mature = mature_biomass_vector.distance(searchRadius = 10000)\\\n",
    "    .toInt().updateMask(secondary)\n",
    "\n",
    "def buffer_distance(f):\n",
    "    distance = ee.Number(f.get('distance'))\n",
    "    buffered = ee.Feature(f.buffer(distance.add(1000)))\n",
    "    return buffered\n",
    "\n",
    "categorical = ee.Image(f\"{data_folder}/categorical\")\n",
    "biome_mask = categorical.select('biome').eq(1) \\\n",
    ".Or(categorical.select('biome').eq(4)) \\\n",
    ".Or(categorical.select('biome').eq(6))\n",
    "\n",
    "distance_to_nearest_mature = distance_to_nearest_mature \\\n",
    "    .addBands(biome_mask)\n",
    "\n",
    "distances_vector = distance_to_nearest_mature.stratifiedSample(\n",
    "    numPoints = 50000, classBand = \"biome\", region = roi, geometries = True\n",
    ")\n",
    "\n",
    "distances_vector_buffer = distances_vector.map(buffer_distance)\n",
    "\n",
    "nearest_mature_biomass = mature_biomass.reduceRegions(distances_vector_buffer, ee.Reducer.firstNonNull(), \n",
    "                                        crs = proj['crs'], crsTransform = proj['transform'])\n",
    "\n",
    "\n",
    "# change geometries from polygons to points\n",
    "nearest_mature_biomass = nearest_mature_biomass.map(lambda f: ee.Feature(f.geometry().centroid()).copyProperties(f))\n",
    "\n",
    "# Convert the FeatureCollection to an image\n",
    "nearest_mature_biomass_image = nearest_mature_biomass.reduceToImage(\n",
    "    properties = ['first'],\n",
    "    reducer = ee.Reducer.first()\n",
    ").toInt16().rename('nearest_mature_biomass')\n",
    "\n",
    "export_image(nearest_mature_biomass_image, \"nearest_mature_biomass_image\", \\\n",
    "                folder = method, crsTransform = proj['transform'])"
   ]
  }
 ],
 "metadata": {
  "kernelspec": {
   "display_name": "for_reg_env",
   "language": "python",
   "name": "python3"
  },
  "language_info": {
   "codemirror_mode": {
    "name": "ipython",
    "version": 3
   },
   "file_extension": ".py",
   "mimetype": "text/x-python",
   "name": "python",
   "nbconvert_exporter": "python",
   "pygments_lexer": "ipython3",
   "version": "3.11.9"
  }
 },
 "nbformat": 4,
 "nbformat_minor": 2
}
