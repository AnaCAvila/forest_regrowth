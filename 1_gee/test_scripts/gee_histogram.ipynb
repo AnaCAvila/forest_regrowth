{
 "cells": [
  {
   "cell_type": "code",
   "execution_count": 1,
   "metadata": {},
   "outputs": [],
   "source": [
    "import ee\n",
    "import geemap\n",
    "\n",
    "# Authenticate to Earth Engine\n",
    "try:\n",
    "    ee.Initialize()\n",
    "except Exception as e:\n",
    "    ee.Authenticate()\n",
    "    ee.Initialize()\n",
    "\n",
    "import matplotlib.pyplot as plt\n",
    "\n",
    "data_folder = \"projects/amazon-forest-regrowth/assets\""
   ]
  },
  {
   "cell_type": "code",
   "execution_count": 3,
   "metadata": {},
   "outputs": [
    {
     "data": {
      "text/html": [
       "\n",
       "            <style>\n",
       "                .geemap-dark {\n",
       "                    --jp-widgets-color: white;\n",
       "                    --jp-widgets-label-color: white;\n",
       "                    --jp-ui-font-color1: white;\n",
       "                    --jp-layout-color2: #454545;\n",
       "                    background-color: #383838;\n",
       "                }\n",
       "\n",
       "                .geemap-dark .jupyter-button {\n",
       "                    --jp-layout-color3: #383838;\n",
       "                }\n",
       "\n",
       "                .geemap-colab {\n",
       "                    background-color: var(--colab-primary-surface-color, white);\n",
       "                }\n",
       "\n",
       "                .geemap-colab .jupyter-button {\n",
       "                    --jp-layout-color3: var(--colab-primary-surface-color, white);\n",
       "                }\n",
       "            </style>\n",
       "            "
      ],
      "text/plain": [
       "<IPython.core.display.HTML object>"
      ]
     },
     "metadata": {},
     "output_type": "display_data"
    },
    {
     "data": {
      "image/png": "[encoded data removed]",
      "text/plain": [
       "<Figure size 640x480 with 1 Axes>"
      ]
     },
     "metadata": {},
     "output_type": "display_data"
    }
   ],
   "source": [
    "distance = ee.Image(f\"{data_folder}/eu/distance_to_nearest_mature\")\n",
    "\n",
    "# tst = age_agbd.select('age').updateMask(land_use_15_years.select(\"last_LU\")).updateMask(one_hectare_mask)\n",
    "\n",
    "# 19, 24, 29\n",
    "histogram_ee = distance.reduceRegion(\n",
    "    geometry = distance.geometry(), reducer = ee.Reducer.histogram(), maxPixels=1e13\n",
    ")\n",
    "\n",
    "hist = histogram_ee.getInfo()\n",
    "\n",
    "# list(hist.keys())\n",
    "# Get the bin centers and bin counts\n",
    "bin_centers = hist['distance']['bucketMeans']\n",
    "bin_counts = hist['distance']['histogram']\n",
    "\n",
    "# Plot the histogram\n",
    "# plt.xlabel('Age')\n",
    "plt.bar(bin_centers, bin_counts, width=1)\n",
    "plt.xlim(0, 10000)  # Limit x-axis between 0 and 10000\n",
    "plt.ylabel('Count')\n",
    "# plt.title('Histogram of Ages with 5 years of land use history or less')\n",
    "plt.show()\n"
   ]
  }
 ],
 "metadata": {
  "kernelspec": {
   "display_name": "for_reg_env",
   "language": "python",
   "name": "python3"
  },
  "language_info": {
   "codemirror_mode": {
    "name": "ipython",
    "version": 3
   },
   "file_extension": ".py",
   "mimetype": "text/x-python",
   "name": "python",
   "nbconvert_exporter": "python",
   "pygments_lexer": "ipython3",
   "version": "3.11.9"
  }
 },
 "nbformat": 4,
 "nbformat_minor": 2
}
