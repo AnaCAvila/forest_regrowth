{
 "cells": [
  {
   "cell_type": "code",
   "execution_count": 1,
   "metadata": {},
   "outputs": [
    {
     "data": {
      "text/html": [
       "<p>To authorize access needed by Earth Engine, open the following\n",
       "        URL in a web browser and follow the instructions:</p>\n",
       "        <p><a href=https://code.earthengine.google.com/client-auth?scopes=https%3A//www.googleapis.com/auth/earthengine%20https%3A//www.googleapis.com/auth/cloud-platform%20https%3A//www.googleapis.com/auth/devstorage.full_control&request_id=tUNDWq7tol4tFvN2oCif75IDV1quR63UldHE_gEAtfM&tc=bJI59lnlI0QQYhIKUXVfcLC18X3lakTOOsRNB6sxoxg&cc=8tf0bKBcA0oDwfFqySAi63pH2xJ9NBqXOPrG1a0usbE>https://code.earthengine.google.com/client-auth?scopes=https%3A//www.googleapis.com/auth/earthengine%20https%3A//www.googleapis.com/auth/cloud-platform%20https%3A//www.googleapis.com/auth/devstorage.full_control&request_id=tUNDWq7tol4tFvN2oCif75IDV1quR63UldHE_gEAtfM&tc=bJI59lnlI0QQYhIKUXVfcLC18X3lakTOOsRNB6sxoxg&cc=8tf0bKBcA0oDwfFqySAi63pH2xJ9NBqXOPrG1a0usbE</a></p>\n",
       "        <p>The authorization workflow will generate a code, which you should paste in the box below.</p>\n",
       "        "
      ],
      "text/plain": [
       "<IPython.core.display.HTML object>"
      ]
     },
     "metadata": {},
     "output_type": "display_data"
    },
    {
     "name": "stdout",
     "output_type": "stream",
     "text": [
      "\n",
      "Successfully saved authorization token.\n"
     ]
    },
    {
     "name": "stderr",
     "output_type": "stream",
     "text": [
      "*** Earth Engine *** Share your feedback by taking our Annual Developer Satisfaction Survey: https://google.qualtrics.com/jfe/form/SV_0JLhFqfSY1uiEaW?source=Init\n"
     ]
    }
   ],
   "source": [
    "import ee\n",
    "import geemap\n",
    "\n",
    "# Authenticate to Earth Engine\n",
    "try:\n",
    "    ee.Initialize()\n",
    "except Exception as e:\n",
    "    ee.Authenticate()\n",
    "    ee.Initialize()\n",
    "\n",
    "first_year = 1985\n",
    "last_year = 2020\n",
    "\n",
    "data_folder = \"projects/amazon-forest-regrowth/assets\"\n",
    "\n"
   ]
  },
  {
   "cell_type": "code",
   "execution_count": 4,
   "metadata": {},
   "outputs": [
    {
     "data": {
      "text/html": [
       "\n",
       "            <style>\n",
       "                .geemap-dark {\n",
       "                    --jp-widgets-color: white;\n",
       "                    --jp-widgets-label-color: white;\n",
       "                    --jp-ui-font-color1: white;\n",
       "                    --jp-layout-color2: #454545;\n",
       "                    background-color: #383838;\n",
       "                }\n",
       "\n",
       "                .geemap-dark .jupyter-button {\n",
       "                    --jp-layout-color3: #383838;\n",
       "                }\n",
       "\n",
       "                .geemap-colab {\n",
       "                    background-color: var(--colab-primary-surface-color, white);\n",
       "                }\n",
       "\n",
       "                .geemap-colab .jupyter-button {\n",
       "                    --jp-layout-color3: var(--colab-primary-surface-color, white);\n",
       "                }\n",
       "            </style>\n",
       "            "
      ],
      "text/plain": [
       "<IPython.core.display.HTML object>"
      ]
     },
     "metadata": {},
     "output_type": "display_data"
    }
   ],
   "source": [
    "# This collection is not publicly accessible. To sign up for access,\n",
    "# please see https://developers.planet.com/docs/integrations/gee/nicfi\n",
    "nicfi = ee.ImageCollection('projects/planet-nicfi/assets/basemaps/americas')\n",
    "\n",
    "# # Filter basemaps by date and get the first image from filtered results\n",
    "# basemap = nicfi.filter(ee.Filter.date('2016-03-01', '2016-07-01')).first()\n",
    "# basemap2 = nicfi.filter(ee.Filter.date('2018-03-01', '2018-07-01')).first()\n",
    "basemap = nicfi.filter(ee.Filter.date('2023-01-01', '2023-07-01')).first()\n",
    "\n",
    "vis_planet = {'bands': ['R', 'G', 'B'], 'min': 64, 'max': 5454, 'gamma': 1.8}\n",
    "\n"
   ]
  },
  {
   "cell_type": "code",
   "execution_count": 6,
   "metadata": {},
   "outputs": [
    {
     "data": {
      "text/html": [
       "\n",
       "            <style>\n",
       "                .geemap-dark {\n",
       "                    --jp-widgets-color: white;\n",
       "                    --jp-widgets-label-color: white;\n",
       "                    --jp-ui-font-color1: white;\n",
       "                    --jp-layout-color2: #454545;\n",
       "                    background-color: #383838;\n",
       "                }\n",
       "\n",
       "                .geemap-dark .jupyter-button {\n",
       "                    --jp-layout-color3: #383838;\n",
       "                }\n",
       "\n",
       "                .geemap-colab {\n",
       "                    background-color: var(--colab-primary-surface-color, white);\n",
       "                }\n",
       "\n",
       "                .geemap-colab .jupyter-button {\n",
       "                    --jp-layout-color3: var(--colab-primary-surface-color, white);\n",
       "                }\n",
       "            </style>\n",
       "            "
      ],
      "text/plain": [
       "<IPython.core.display.HTML object>"
      ]
     },
     "metadata": {},
     "output_type": "display_data"
    },
    {
     "data": {
      "application/vnd.jupyter.widget-view+json": {
       "model_id": "c8ac6939d20243b197eaeb2540d6297a",
       "version_major": 2,
       "version_minor": 0
      },
      "text/plain": [
       "Map(center=[-0.0013335310118573354, -73.54611700899127], controls=(WidgetControl(options=['position', 'transpa…"
      ]
     },
     "execution_count": 6,
     "metadata": {},
     "output_type": "execute_result"
    }
   ],
   "source": [
    "roi = ee.FeatureCollection(\"USDOS/LSIB_SIMPLE/2017\").filterMetadata(\"country_na\", \"equals\", \"Panama\").geometry()\n",
    "\n",
    "# Load the image collections\n",
    "transition = ee.ImageCollection('projects/JRC/TMF/v1_2023/TransitionMap_Subtypes').mosaic().clip(roi)\n",
    "annual_changes = ee.ImageCollection('projects/JRC/TMF/v1_2023/AnnualChanges').mosaic().clip(roi)\n",
    "\n",
    "# Define regrowth and degraded conditions\n",
    "regrowth = transition.gte(31).And(transition.lte(33))\n",
    "\n",
    "# Initialize AgeRegrowth and AgeDegraded\n",
    "age = ee.Image.constant(0)\n",
    "\n",
    "# Calculate AgeRegrowth\n",
    "for i in range(1990, 2023):\n",
    "    year = 'Dec' + str(i)\n",
    "    annual_changes_year = annual_changes.select(year)\n",
    "    condition = annual_changes_year.eq(4).And(regrowth) # were regrowing then AND are regrowing now\n",
    "    age = age.add(condition.eq(1))\n",
    "\n",
    "age = age.selfMask().rename(\"age\")\n",
    "\n",
    "# Visualization parameters\n",
    "vis_ages = {'min': 0, 'max': 35, 'palette': ['yellow', 'red']}\n",
    "\n",
    "Map = geemap.Map()\n",
    "Map.centerObject(basemap, 4)\n",
    "Map.addLayer(basemap, vis_planet, '2023 mosaic')\n",
    "Map.addLayer(age, vis_ages, 'ages')\n",
    "Map"
   ]
  },
  {
   "cell_type": "code",
   "execution_count": 9,
   "metadata": {},
   "outputs": [
    {
     "data": {
      "text/html": [
       "\n",
       "            <style>\n",
       "                .geemap-dark {\n",
       "                    --jp-widgets-color: white;\n",
       "                    --jp-widgets-label-color: white;\n",
       "                    --jp-ui-font-color1: white;\n",
       "                    --jp-layout-color2: #454545;\n",
       "                    background-color: #383838;\n",
       "                }\n",
       "\n",
       "                .geemap-dark .jupyter-button {\n",
       "                    --jp-layout-color3: #383838;\n",
       "                }\n",
       "\n",
       "                .geemap-colab {\n",
       "                    background-color: var(--colab-primary-surface-color, white);\n",
       "                }\n",
       "\n",
       "                .geemap-colab .jupyter-button {\n",
       "                    --jp-layout-color3: var(--colab-primary-surface-color, white);\n",
       "                }\n",
       "            </style>\n",
       "            "
      ],
      "text/plain": [
       "<IPython.core.display.HTML object>"
      ]
     },
     "metadata": {},
     "output_type": "display_data"
    },
    {
     "data": {
      "application/vnd.jupyter.widget-view+json": {
       "model_id": "11d7ef35026a498ba7c4778bc6fde676",
       "version_major": 2,
       "version_minor": 0
      },
      "text/plain": [
       "Map(center=[-0.03247460684437231, -73.82115720575285], controls=(WidgetControl(options=['position', 'transpare…"
      ]
     },
     "execution_count": 9,
     "metadata": {},
     "output_type": "execute_result"
    }
   ],
   "source": [
    "mature = ee.Image(f\"{data_folder}/mature_biomass\")\n",
    "agbd = ee.Image(f\"{data_folder}/age_agbd\").select('agbd')\n",
    "mask = ee.Image(f\"{data_folder}/mapbiomas/one_hectare_mask\")\n",
    "ages = ee.Image(f\"{data_folder}/mapbiomas/secondary\").select('age').updateMask(mask)\n",
    "pantanal = ee.FeatureCollection(f\"{data_folder}/raw/biomes_br\") \\\n",
    "        .filter(ee.Filter.eq(\"CD_Bioma\", 6)).geometry()\n",
    "\n",
    "# Visualization parameters\n",
    "vis_ages = {'min': 0, 'max': 35, 'palette': ['yellow', 'red']}\n",
    "vis_agbd = {'min': 0, 'max': 300, 'palette': ['yellow', 'green']}\n",
    "vis_mature = {'min': 0, 'max': 300, 'palette': ['blue', 'red']}\n",
    "vis_geom = {\n",
    "    'color': 'red',      # Color of the edge\n",
    "    'width': 2           # Width of the edge\n",
    "}\n",
    "\n",
    "Map = geemap.Map()\n",
    "Map.centerObject(basemap, 4)\n",
    "# Map.addLayer(basemap, vis, '2016 mosaic')\n",
    "Map.addLayer(basemap, vis_planet, '2020 mosaic')\n",
    "# Map.addLayer(pantanal, vis_geom, 'pantanal')\n",
    "Map.addLayer(ages, vis_ages, 'ages')\n",
    "# Map.addLayer(lulc, {}, 'lulc')\n",
    "# Map.addLayer(agbd, vis_agbd, 'agbd')\n",
    "# Map.addLayer(mature, vis_mature, 'mature')\n",
    "Map"
   ]
  }
 ],
 "metadata": {
  "kernelspec": {
   "display_name": "for_reg_env",
   "language": "python",
   "name": "python3"
  },
  "language_info": {
   "codemirror_mode": {
    "name": "ipython",
    "version": 3
   },
   "file_extension": ".py",
   "mimetype": "text/x-python",
   "name": "python",
   "nbconvert_exporter": "python",
   "pygments_lexer": "ipython3",
   "version": "3.11.9"
  }
 },
 "nbformat": 4,
 "nbformat_minor": 2
}
