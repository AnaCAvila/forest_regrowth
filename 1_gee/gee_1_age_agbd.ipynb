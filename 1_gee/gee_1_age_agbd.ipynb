{
 "cells": [
  {
   "cell_type": "markdown",
   "metadata": {},
   "source": [
    "## Satellite Data\n",
    "\n",
    "This script outputs the satellite-based rasters into the Google Earth Engine Cloud.\n",
    "\n",
    "Inputs:\n",
    "\n",
    "    - From MAPBIOMAS:\n",
    "        - secondary forest age\n",
    "        - land use land cover\n",
    "        - fire\n",
    "    - From ESA CCI Biomass:\n",
    "        - biomass (Mg C/hectare)\n",
    "\n",
    "Outputs:\n",
    "\n",
    "    - From MAPBIOMAS:\n",
    "        - last observed land use type\n",
    "        - number of years under each land use type\n",
    "        - number of fires\n",
    "        - time since last fire\n",
    "        - fallow period length\n",
    "\n"
   ]
  },
  {
   "cell_type": "code",
   "execution_count": 1,
   "metadata": {
    "id": "cOBmvER1OjFM"
   },
   "outputs": [],
   "source": [
    "import ee\n",
    "import geemap\n",
    "from gee_0_utils import *\n",
    "\n",
    "initialize()\n",
    "data_folder, roi, years, first_year, last_year = global_variables()\n"
   ]
  },
  {
   "cell_type": "markdown",
   "metadata": {},
   "source": [
    "## Removing pixels with undesired land use categories\n",
    "\n",
    "Some land use categories are not relevant to the model (such as rocky surfaces or mangroves)\n",
    "\n",
    "All pixels with **at least one observation of the undesired land use history** are used to make a mask, to leave behind only pixels with occurrences of only desired land use types.\n",
    "\n",
    "\n",
    "Land use types we are interested in:\n",
    "\n",
    "    3 = forest\n",
    "    15 = pasture\n",
    "    39 = soy\n",
    "    20 = sugar cane\n",
    "    21 = mosaic of uses\n",
    "    40 = rice\n",
    "    62 = cotton\n",
    "    41 = other temporary crop\n",
    "    46 = coffee\n",
    "    47 = citrus\n",
    "    35 = palm oil\n",
    "    48 = other perennial crop\n",
    "    9 = forest plantationantation"
   ]
  },
  {
   "cell_type": "code",
   "execution_count": 3,
   "metadata": {},
   "outputs": [
    {
     "data": {
      "text/html": [
       "\n",
       "            <style>\n",
       "                .geemap-dark {\n",
       "                    --jp-widgets-color: white;\n",
       "                    --jp-widgets-label-color: white;\n",
       "                    --jp-ui-font-color1: white;\n",
       "                    --jp-layout-color2: #454545;\n",
       "                    background-color: #383838;\n",
       "                }\n",
       "\n",
       "                .geemap-dark .jupyter-button {\n",
       "                    --jp-layout-color3: #383838;\n",
       "                }\n",
       "\n",
       "                .geemap-colab {\n",
       "                    background-color: var(--colab-primary-surface-color, white);\n",
       "                }\n",
       "\n",
       "                .geemap-colab .jupyter-button {\n",
       "                    --jp-layout-color3: var(--colab-primary-surface-color, white);\n",
       "                }\n",
       "            </style>\n",
       "            "
      ],
      "text/plain": [
       "<IPython.core.display.HTML object>"
      ]
     },
     "metadata": {},
     "output_type": "display_data"
    }
   ],
   "source": [
    "# For each band, convert pixels with desired land use types to 1 - undesired types to zero\n",
    "def remap_band(band_name):\n",
    "    # List the categories that are DESIRED to be maintained\n",
    "    desired_values = ee.List([3, 6, 15, 39, 20, 40, 62, 41, 46, 47, 35, 48, 9, 21])\n",
    "    mask_all_ones = ee.List.repeat(1, desired_values.size())\n",
    "\n",
    "    band = lulc_raw.select(ee.String(band_name))\n",
    "    new_band = band.remap(desired_values, mask_all_ones, 0)\n",
    "    return new_band.rename(ee.String(band_name))\n",
    "\n",
    "def desired_lulc():\n",
    "\n",
    "    # import ages from MapBiomas\n",
    "    age = ee.Image(\n",
    "        \"projects/mapbiomas-workspace/public/collection8/mapbiomas_collection80_secondary_vegetation_age_v2\"\n",
    "    ).select(\"secondary_vegetation_age_2020\")\n",
    "\n",
    "    # Load images from MapBiomas Collection 8 for Land Use Land Cover and Burned Area\n",
    "    lulc_all = (\n",
    "        ee.Image(\n",
    "            \"projects/mapbiomas-workspace/public/collection8/mapbiomas_collection80_integration_v1\"\n",
    "        )\n",
    "        .select([f\"classification_{year}\" for year in range(first_year, last_year + 1)])\n",
    "        .byte()\n",
    "        .rename([str(year) for year in range(first_year, last_year + 1)])\n",
    "    )\n",
    "\n",
    "    # restricting to only the land use in pixels classified as secondary forests in 2020:\n",
    "    lulc_raw = lulc_all.updateMask(age)\n",
    "\n",
    "    fire = (\n",
    "        ee.Image(\n",
    "            \"projects/mapbiomas-public/assets/brazil/fire/collection3/mapbiomas_fire_collection3_annual_burned_coverage_v1\"\n",
    "        )\n",
    "        .select([f\"burned_coverage_{year}\" for year in range(first_year, last_year)])\n",
    "        .byte()\n",
    "        .rename([str(year) for year in range(first_year, last_year)])\n",
    "        .updateMask(age)\n",
    "    )\n",
    "\n",
    "\n",
    "    # Map the function over the band names\n",
    "    remapped_image = lulc_raw.bandNames().map(remap_band)\n",
    "    # make mask by adding all pixels that add up to the total number of years (all pixels with desired categories)\n",
    "    remapped_image = ee.ImageCollection(remapped_image).toBands()\n",
    "    desired_mask = remapped_image.reduce(\"sum\").eq(lulc_raw.bandNames().size().getInfo())\n",
    "\n",
    "    age = age.updateMask(desired_mask).rename(\"age\")\n",
    "    lulc = lulc_raw.updateMask(desired_mask)\n",
    "    fire = fire.updateMask(desired_mask)\n",
    "\n",
    "    return age, lulc, fire\n",
    "\n",
    "age, lulc, fire = desired_lulc()"
   ]
  },
  {
   "cell_type": "code",
   "execution_count": null,
   "metadata": {},
   "outputs": [],
   "source": [
    "# This collection is not publicly accessible. To sign up for access,\n",
    "# please see https://developers.planet.com/docs/integrations/gee/nicfi\n",
    "nicfi = ee.ImageCollection('projects/planet-nicfi/assets/basemaps/americas')\n",
    "basemap = nicfi.filter(ee.Filter.date('2018-03-01', '2018-07-01')).first()\n",
    "vis_planet = {'bands': ['R', 'G', 'B'], 'min': 64, 'max': 5454, 'gamma': 1.8}\n",
    "\n",
    "celso_ages = ee.Image(\"projects/amazon-forest-regrowth/assets/celso_ages/file\")"
   ]
  },
  {
   "cell_type": "code",
   "execution_count": 47,
   "metadata": {},
   "outputs": [
    {
     "data": {
      "text/html": [
       "\n",
       "            <style>\n",
       "                .geemap-dark {\n",
       "                    --jp-widgets-color: white;\n",
       "                    --jp-widgets-label-color: white;\n",
       "                    --jp-ui-font-color1: white;\n",
       "                    --jp-layout-color2: #454545;\n",
       "                    background-color: #383838;\n",
       "                }\n",
       "\n",
       "                .geemap-dark .jupyter-button {\n",
       "                    --jp-layout-color3: #383838;\n",
       "                }\n",
       "\n",
       "                .geemap-colab {\n",
       "                    background-color: var(--colab-primary-surface-color, white);\n",
       "                }\n",
       "\n",
       "                .geemap-colab .jupyter-button {\n",
       "                    --jp-layout-color3: var(--colab-primary-surface-color, white);\n",
       "                }\n",
       "            </style>\n",
       "            "
      ],
      "text/plain": [
       "<IPython.core.display.HTML object>"
      ]
     },
     "metadata": {},
     "output_type": "display_data"
    }
   ],
   "source": [
    "# Load the image collections\n",
    "Transition = ee.ImageCollection('projects/JRC/TMF/v1_2023/TransitionMap_Subtypes').mosaic().clip(age.geometry())\n",
    "AnnualChanges = ee.ImageCollection('projects/JRC/TMF/v1_2023/AnnualChanges').mosaic().clip(age.geometry())\n",
    "\n",
    "# Define regrowth and degraded conditions\n",
    "regrowth = Transition.gte(31).And(Transition.lte(33))  # include classes 63, 64 if you want to add regrowing mangroves\n",
    "\n",
    "# Initialize AgeRegrowth and AgeDegraded\n",
    "AgeRegrowth = ee.Image.constant(0)\n",
    "\n",
    "# Calculate AgeRegrowth\n",
    "for i in range(1990, 2020):\n",
    "    year = 'Dec' + str(i)\n",
    "    AnnualChangesYear = AnnualChanges.select(year)\n",
    "    condition = AnnualChangesYear.eq(4).And(regrowth) # were regrowing then AND are regrowing now\n",
    "    AgeRegrowth = AgeRegrowth.add(condition.eq(1))\n",
    "\n",
    "age_eu = AgeRegrowth.selfMask()\n",
    "\n"
   ]
  },
  {
   "cell_type": "code",
   "execution_count": 66,
   "metadata": {},
   "outputs": [
    {
     "data": {
      "text/html": [
       "\n",
       "            <style>\n",
       "                .geemap-dark {\n",
       "                    --jp-widgets-color: white;\n",
       "                    --jp-widgets-label-color: white;\n",
       "                    --jp-ui-font-color1: white;\n",
       "                    --jp-layout-color2: #454545;\n",
       "                    background-color: #383838;\n",
       "                }\n",
       "\n",
       "                .geemap-dark .jupyter-button {\n",
       "                    --jp-layout-color3: #383838;\n",
       "                }\n",
       "\n",
       "                .geemap-colab {\n",
       "                    background-color: var(--colab-primary-surface-color, white);\n",
       "                }\n",
       "\n",
       "                .geemap-colab .jupyter-button {\n",
       "                    --jp-layout-color3: var(--colab-primary-surface-color, white);\n",
       "                }\n",
       "            </style>\n",
       "            "
      ],
      "text/plain": [
       "<IPython.core.display.HTML object>"
      ]
     },
     "metadata": {},
     "output_type": "display_data"
    }
   ],
   "source": [
    "mature = AnnualChanges.select('Dec2020').eq(1).selfMask()\n",
    "\n",
    "Map.addLayer(mature, {'min': 0, 'max': 1, 'palette': ['white', 'green']}, 'Mature Forests')"
   ]
  },
  {
   "cell_type": "markdown",
   "metadata": {},
   "source": [
    "## Biomass - Export age_agbd\n",
    "\n",
    "Biomass data is in hectares, but mapbiomas data is 30m resolution.\n",
    "\n",
    "To deal with edge pixels, we reproject biomass values to 10m resolution and then reaggregate to 30m by using the mean (so there is a buffer for land use pixels caught in between two biomass values)."
   ]
  },
  {
   "cell_type": "code",
   "execution_count": 54,
   "metadata": {},
   "outputs": [
    {
     "data": {
      "text/html": [
       "\n",
       "            <style>\n",
       "                .geemap-dark {\n",
       "                    --jp-widgets-color: white;\n",
       "                    --jp-widgets-label-color: white;\n",
       "                    --jp-ui-font-color1: white;\n",
       "                    --jp-layout-color2: #454545;\n",
       "                    background-color: #383838;\n",
       "                }\n",
       "\n",
       "                .geemap-dark .jupyter-button {\n",
       "                    --jp-layout-color3: #383838;\n",
       "                }\n",
       "\n",
       "                .geemap-colab {\n",
       "                    background-color: var(--colab-primary-surface-color, white);\n",
       "                }\n",
       "\n",
       "                .geemap-colab .jupyter-button {\n",
       "                    --jp-layout-color3: var(--colab-primary-surface-color, white);\n",
       "                }\n",
       "            </style>\n",
       "            "
      ],
      "text/plain": [
       "<IPython.core.display.HTML object>"
      ]
     },
     "metadata": {},
     "output_type": "display_data"
    }
   ],
   "source": [
    "# biomass for 2020 comes from CCI Biomass\n",
    "biomass_all = ee.Image(f\"{data_folder}/raw/biomass\")\n",
    "proj = biomass_all.projection().getInfo()\n",
    "\n",
    "# Reproject to 10m\n",
    "biomass = biomass_all.reproject(crs=age.projection(), scale=10)\n",
    "# Reaggregate to 30m (mean value)\n",
    "biomass = biomass.reduceResolution(reducer=ee.Reducer.mean()).reproject(\n",
    "    crs = age.projection()\n",
    ")\n",
    "\n",
    "age_mapbiomas = age.updateMask(age_eu).rename(\"age_mapbiomas\")\n",
    "age_eu = age_eu.updateMask(age_mapbiomas).rename(\"age_eu\")\n",
    "age_mapbiomas = age_mapbiomas.updateMask(age_eu).rename(\"age_mapbiomas\")\n",
    "\n",
    "biomass = biomass.updateMask(age_mapbiomas).int16().rename(\"agbd\")\n",
    "\n",
    "\n",
    "age_agbd = age_mapbiomas.updateMask(biomass).addBands([biomass, age_eu]).addBands(age_mapbiomas.pixelLonLat().float())\n",
    "\n",
    "if export_age_agbd:\n",
    "    export_image(age_agbd, \"age_agbd_eu_mapb\", scale = 30)"
   ]
  },
  {
   "cell_type": "code",
   "execution_count": 64,
   "metadata": {},
   "outputs": [
    {
     "data": {
      "text/html": [
       "\n",
       "            <style>\n",
       "                .geemap-dark {\n",
       "                    --jp-widgets-color: white;\n",
       "                    --jp-widgets-label-color: white;\n",
       "                    --jp-ui-font-color1: white;\n",
       "                    --jp-layout-color2: #454545;\n",
       "                    background-color: #383838;\n",
       "                }\n",
       "\n",
       "                .geemap-dark .jupyter-button {\n",
       "                    --jp-layout-color3: #383838;\n",
       "                }\n",
       "\n",
       "                .geemap-colab {\n",
       "                    background-color: var(--colab-primary-surface-color, white);\n",
       "                }\n",
       "\n",
       "                .geemap-colab .jupyter-button {\n",
       "                    --jp-layout-color3: var(--colab-primary-surface-color, white);\n",
       "                }\n",
       "            </style>\n",
       "            "
      ],
      "text/plain": [
       "<IPython.core.display.HTML object>"
      ]
     },
     "metadata": {},
     "output_type": "display_data"
    }
   ],
   "source": [
    "categorical = ee.Image(f\"{data_folder}/categorical\")\n",
    "# Create masks for biomes 1 and 4\n",
    "biome_mask = categorical.select('biome').eq(4)#.Or(categorical.select('biome').eq(4)).Or(categorical.select('biome').eq(6))\n",
    "categorical = categorical.updateMask(biome_mask)\n",
    "\n",
    "cwd = ee.Image(f\"{data_folder}/raw/cwd_chave\")\n",
    "\n",
    "unified_data = age_agbd.addBands([categorical, cwd]).updateMask(age_mapbiomas)\n",
    "\n",
    "unified_data_sampled = unified_data.stratifiedSample(\n",
    "    numPoints = 30000, classBand = 'biome', region = age_agbd.geometry()\n",
    ")\n",
    "\n",
    "task = ee.batch.Export.table.toDrive(\n",
    "    collection = unified_data_sampled, description = \"mapbiomas_eu_atl\", fileFormat = 'CSV'\n",
    ")\n",
    "task.start()\n"
   ]
  },
  {
   "cell_type": "markdown",
   "metadata": {},
   "source": [
    "## Remove isolated pixels - Export one_hectare_mask\n",
    "\n",
    "In the map, there were isolated pixels, often around the edges of forest patches. These would likely be due to misclassification, or follow different behaviors due to edge effects.\n",
    "\n",
    "To avoid this issue, a kernel is applied here to include only secondary forest patches that are mostly surrounded by other secondary forest pixels."
   ]
  },
  {
   "cell_type": "code",
   "execution_count": 55,
   "metadata": {},
   "outputs": [
    {
     "data": {
      "text/html": [
       "\n",
       "            <style>\n",
       "                .geemap-dark {\n",
       "                    --jp-widgets-color: white;\n",
       "                    --jp-widgets-label-color: white;\n",
       "                    --jp-ui-font-color1: white;\n",
       "                    --jp-layout-color2: #454545;\n",
       "                    background-color: #383838;\n",
       "                }\n",
       "\n",
       "                .geemap-dark .jupyter-button {\n",
       "                    --jp-layout-color3: #383838;\n",
       "                }\n",
       "\n",
       "                .geemap-colab {\n",
       "                    background-color: var(--colab-primary-surface-color, white);\n",
       "                }\n",
       "\n",
       "                .geemap-colab .jupyter-button {\n",
       "                    --jp-layout-color3: var(--colab-primary-surface-color, white);\n",
       "                }\n",
       "            </style>\n",
       "            "
      ],
      "text/plain": [
       "<IPython.core.display.HTML object>"
      ]
     },
     "metadata": {},
     "output_type": "display_data"
    }
   ],
   "source": [
    "# convert non-forest pixels from NA to zero\n",
    "# check what is the most frequent value within each hectare - if it's zero, it means the pixel is surrounded by non-forest cover\n",
    "one_hectare_mask = age.unmask(0).focalMode(kernelType = \"circle\", radius = 100, units = \"meters\").selfMask()\n",
    "\n",
    "if export_age_area_mask:\n",
    "    export_image(one_hectare_mask, \"one_hectare_mask\", scale=30)"
   ]
  }
 ],
 "metadata": {
  "colab": {
   "provenance": []
  },
  "kernelspec": {
   "display_name": "Python 3 (ipykernel)",
   "language": "python",
   "name": "python3"
  },
  "language_info": {
   "codemirror_mode": {
    "name": "ipython",
    "version": 3
   },
   "file_extension": ".py",
   "mimetype": "text/x-python",
   "name": "python",
   "nbconvert_exporter": "python",
   "pygments_lexer": "ipython3",
   "version": "3.11.9"
  }
 },
 "nbformat": 4,
 "nbformat_minor": 4
}
