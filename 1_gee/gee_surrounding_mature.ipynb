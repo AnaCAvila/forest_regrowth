{
 "cells": [
  {
   "cell_type": "code",
   "execution_count": null,
   "metadata": {},
   "outputs": [],
   "source": [
    "import ee\n",
    "import geemap\n",
    "from gee_0_utils import *\n",
    "\n",
    "initialize()\n",
    "data_folder, roi = global_variables()"
   ]
  },
  {
   "cell_type": "markdown",
   "metadata": {},
   "source": [
    "## Surrounding mature forests\n",
    "\n",
    "- Mean biomass of surrounding mature forests (interpolated with Gaussian kernel)\n",
    "- Mean fragmentation of surrounding mature forests (interpolated with Gaussian kernel)\n",
    "- Total surrounding mature forest cover (normalized from 0-1)"
   ]
  },
  {
   "cell_type": "code",
   "execution_count": null,
   "metadata": {},
   "outputs": [
    {
     "data": {
      "text/html": [
       "\n",
       "            <style>\n",
       "                .geemap-dark {\n",
       "                    --jp-widgets-color: white;\n",
       "                    --jp-widgets-label-color: white;\n",
       "                    --jp-ui-font-color1: white;\n",
       "                    --jp-layout-color2: #454545;\n",
       "                    background-color: #383838;\n",
       "                }\n",
       "\n",
       "                .geemap-dark .jupyter-button {\n",
       "                    --jp-layout-color3: #383838;\n",
       "                }\n",
       "\n",
       "                .geemap-colab {\n",
       "                    background-color: var(--colab-primary-surface-color, white);\n",
       "                }\n",
       "\n",
       "                .geemap-colab .jupyter-button {\n",
       "                    --jp-layout-color3: var(--colab-primary-surface-color, white);\n",
       "                }\n",
       "            </style>\n",
       "            "
      ],
      "text/plain": [
       "<IPython.core.display.HTML object>"
      ]
     },
     "metadata": {},
     "output_type": "display_data"
    }
   ],
   "source": [
    "mature_mask = lulc_all.eq(3).reduce(ee.Reducer.allNonZero()).selfMask()\n",
    "edge_detec = mature_mask.unmask(-1).zeroCrossing()\n",
    "distance_to_edge = edge_detec.fastDistanceTransform().sqrt() \\\n",
    "    .multiply(ee.Image.pixelArea().sqrt()).rename(\"distance_to_edge\")\n",
    "distance_to_edge = distance_to_edge.gt(1000).selfMask()\n",
    "distance_to_edge = distance_to_edge.updateMask(mature_mask)\n",
    "mature_biomass = biomass_all.updateMask(distance_to_edge).rename(\"mature_biomass\")\n",
    "\n",
    "sur_cover = mature_mask.unmask(0).focalMean(radius=1000, units=\"meters\").rename(\"sur_cover\")\n",
    "\n",
    "if export_mature_forests:\n",
    "\n",
    "    task = ee.batch.Export.image.toAsset(\n",
    "        image=mature_biomass,\n",
    "        description=\"mature_biomass\",\n",
    "        assetId=\"projects/amazon-forest-regrowth/assets/mature_biomass\",\n",
    "        region=age.geometry(),\n",
    "        crs=\"EPSG:4326\",\n",
    "        crsTransform=proj['transform'],\n",
    "        maxPixels=4e12\n",
    "    )\n",
    "    # Start the export task\n",
    "    task.start()\n",
    "\n",
    "    export_image(sur_cover, \"mature_biomass_500m\", scale = 500)\n",
    "\n",
    "    export_image(sur_cover, \"sur_cover\", scale = 30)"
   ]
  },
  {
   "cell_type": "code",
   "execution_count": null,
   "metadata": {},
   "outputs": [
    {
     "data": {
      "text/html": [
       "\n",
       "            <style>\n",
       "                .geemap-dark {\n",
       "                    --jp-widgets-color: white;\n",
       "                    --jp-widgets-label-color: white;\n",
       "                    --jp-ui-font-color1: white;\n",
       "                    --jp-layout-color2: #454545;\n",
       "                    background-color: #383838;\n",
       "                }\n",
       "\n",
       "                .geemap-dark .jupyter-button {\n",
       "                    --jp-layout-color3: #383838;\n",
       "                }\n",
       "\n",
       "                .geemap-colab {\n",
       "                    background-color: var(--colab-primary-surface-color, white);\n",
       "                }\n",
       "\n",
       "                .geemap-colab .jupyter-button {\n",
       "                    --jp-layout-color3: var(--colab-primary-surface-color, white);\n",
       "                }\n",
       "            </style>\n",
       "            "
      ],
      "text/plain": [
       "<IPython.core.display.HTML object>"
      ]
     },
     "metadata": {},
     "output_type": "display_data"
    }
   ],
   "source": [
    "gaus_kernel = ee.Kernel.gaussian(radius=1000, sigma=200, units=\"meters\")\n",
    "mat_gaus_ker = (\n",
    "    mature_biomass.focalMean(\n",
    "        radius = 1000, units = \"meters\", kernel = gaus_kernel, iterations = 1\n",
    "    )\n",
    "    .rename(\"mat_biomass\")\n",
    "    .float()\n",
    ")\n",
    "\n",
    "\n",
    "# the fragmentation data also does not cover the entire landscape - it is targeted towards mature forests.\n",
    "# frag file from Ma et al was originally reprojected in QGIS into WGS84 (original projection is not compatible with google earth engine)\n",
    "# frag values vary from 0 to 1\n",
    "frag = ee.Image(f\"{data_folder}/raw/frag\").rename(\"frag\").clip(age.geometry())\n",
    "frag_ker = frag.focalMean(radius=5000, units=\"meters\").rename(\"frag\")\n",
    "\n",
    "\n",
    "\n",
    "if export_mature_forests:\n",
    "    export_image(mat_gaus_ker, \"mat_gaus_ker\", scale=30)\n",
    "    export_image(frag_ker, \"frag_ker\", scale=30)\n"
   ]
  }
 ],
 "metadata": {
  "language_info": {
   "name": "python"
  }
 },
 "nbformat": 4,
 "nbformat_minor": 2
}
