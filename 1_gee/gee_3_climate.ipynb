{
 "cells": [
  {
   "cell_type": "markdown",
   "id": "78575f01-dc60-42bf-bee3-e7d3b867635e",
   "metadata": {},
   "source": [
    "<!-- ## Climatic data\n",
    " -->\n"
   ]
  },
  {
   "cell_type": "code",
   "execution_count": 2,
   "id": "06daa541-4195-4a5e-895f-b520ffa5c523",
   "metadata": {},
   "outputs": [],
   "source": [
    "import ee\n",
    "import geemap\n",
    "from gee_0_utils import *\n",
    "import re\n",
    "\n",
    "initialize()\n",
    "config = ProjectConfig()\n",
    "roi = config.roi\n",
    "data_folder = config.data_folder"
   ]
  },
  {
   "cell_type": "markdown",
   "id": "6a7c1cd4-3269-43eb-bac3-0699320107df",
   "metadata": {},
   "source": [
    "<!-- # Terraclim\n",
    "  https://developers.google.com/earth-engine/datasets/catalog/IDAHO_EPSCOR_TERRACLIMATE\n",
    "Bring temperature and precipitation and calculate seasonality -->"
   ]
  },
  {
   "attachments": {},
   "cell_type": "markdown",
   "id": "86c662b3-c1e5-4e48-bd37-9e09c5c0b958",
   "metadata": {},
   "source": [
    "<!-- ## Seasonality index\n",
    "\n",
    "Walsh and Lawler 1981 -->"
   ]
  },
  {
   "cell_type": "code",
   "execution_count": 3,
   "id": "3b4fad9e-c719-4259-8b6f-9d648589af48",
   "metadata": {},
   "outputs": [
    {
     "data": {
      "text/html": [
       "\n",
       "            <style>\n",
       "                .geemap-dark {\n",
       "                    --jp-widgets-color: white;\n",
       "                    --jp-widgets-label-color: white;\n",
       "                    --jp-ui-font-color1: white;\n",
       "                    --jp-layout-color2: #454545;\n",
       "                    background-color: #383838;\n",
       "                }\n",
       "\n",
       "                .geemap-dark .jupyter-button {\n",
       "                    --jp-layout-color3: #383838;\n",
       "                }\n",
       "\n",
       "                .geemap-colab {\n",
       "                    background-color: var(--colab-primary-surface-color, white);\n",
       "                }\n",
       "\n",
       "                .geemap-colab .jupyter-button {\n",
       "                    --jp-layout-color3: var(--colab-primary-surface-color, white);\n",
       "                }\n",
       "            </style>\n",
       "            "
      ],
      "text/plain": [
       "<IPython.core.display.HTML object>"
      ]
     },
     "metadata": {},
     "output_type": "display_data"
    }
   ],
   "source": [
    "terraclim = (\n",
    "    ee.ImageCollection(\"IDAHO_EPSCOR/TERRACLIMATE\")\n",
    "    .filterDate(\"1985-01-01\", \"2019-12-31\")\n",
    "    .map(lambda image: image.reduceResolution(ee.Reducer.median(), bestEffort=True, maxPixels=1024)\n",
    "    .reproject(crs=\"EPSG:4326\", scale=10000))\n",
    ")\n",
    "\n",
    "# Function to calculate yearly metrics with scaling applied after filtering\n",
    "def calculate_yearly_metrics(year):\n",
    "\n",
    "    def scale_and_aggregate(var, reducer):\n",
    "        data = terraclim.select(var).filter(ee.Filter.calendarRange(year, year, \"year\"))\n",
    "        if var != \"pr\":\n",
    "            data = data.map(lambda img: img.multiply(0.1))\n",
    "        return data.reduce(reducer).toInt16().rename(f\"{var}_{year}\")\n",
    "\n",
    "    # Define which variables are processed with sum or mean reducers\n",
    "    sum_vars = [\"srad\", \"soil\", \"pr\"]\n",
    "    mean_vars = [\"vpd\", \"aet\"]\n",
    "\n",
    "    # Aggregate sum variables (radiation, soil, precipitation)\n",
    "    processed_vars = {var: scale_and_aggregate(var, ee.Reducer.sum()) for var in sum_vars}\n",
    "    \n",
    "    # Aggregate mean temperature (average of max and min)\n",
    "    maxtemp = scale_and_aggregate(\"tmmx\", ee.Reducer.mean())\n",
    "    mintemp = scale_and_aggregate(\"tmmn\", ee.Reducer.mean())\n",
    "    processed_vars[\"temp\"] = maxtemp.addBands(mintemp).reduce(ee.Reducer.mean()).rename(f\"temp_{year}\")\n",
    "    \n",
    "    # Aggregate other mean variables (vpd, aet)\n",
    "    processed_vars.update({var: scale_and_aggregate(var, ee.Reducer.mean()) for var in mean_vars})\n",
    "\n",
    "    # Calculate Seasonality Index (SI)\n",
    "    mean_prec = processed_vars[\"pr\"].divide(12)\n",
    "    deviations = terraclim.select(\"pr\").filter(ee.Filter.calendarRange(year, year, \"year\")) \\\n",
    "        .map(lambda img: img.multiply(0.1))\\\n",
    "        .map(lambda month: month.subtract(mean_prec).abs())\n",
    "    si_band = deviations.reduce(ee.Reducer.sum()).divide(processed_vars[\"pr\"]).rename(f\"si_{year}\")\n",
    "\n",
    "    return ee.Image.cat([*processed_vars.values(), si_band])\n",
    "\n",
    "# Create a dictionary for variables with filtering and scaling applied after\n",
    "vars = {var: terraclim.select(var) for var in [\"tmmx\", \"tmmn\", \"srad\", \"vpd\", \"soil\", \"aet\", \"pr\"]}\n",
    "\n",
    "# Calculate yearly metrics and combine into a single image\n",
    "yearly_metrics = ee.Image.cat([calculate_yearly_metrics(year) for year in config.range_1985_2019])\n",
    "\n",
    "# Function to calculate the mean for a given band pattern\n",
    "def calculate_mean(band_pattern, new_name):\n",
    "    return yearly_metrics.select(band_pattern).reduce(ee.Reducer.mean()).rename(new_name)\n",
    "\n",
    "# Calculate the mean across all years for the desired variables\n",
    "mean_metrics = {name: calculate_mean(f\".*{name}.*\", f\"mean_{name}\") for name in [\"pr\", \"srad\", \"temp\", \"vpd\", \"soil\", \"aet\", \"si\"]}\n",
    "\n",
    "# Combine the mean layers into a single image\n",
    "yearly_terraclim = ee.Image.cat([yearly_metrics, *mean_metrics.values()])\n",
    "\n",
    "# Export the final image\n",
    "export_image(yearly_terraclim, \"yearly_terraclim\", scale=10000)\n"
   ]
  },
  {
   "cell_type": "code",
   "execution_count": 5,
   "id": "07820bed-1135-492b-9c17-0ae2b5273ec4",
   "metadata": {},
   "outputs": [
    {
     "data": {
      "text/html": [
       "\n",
       "            <style>\n",
       "                .geemap-dark {\n",
       "                    --jp-widgets-color: white;\n",
       "                    --jp-widgets-label-color: white;\n",
       "                    --jp-ui-font-color1: white;\n",
       "                    --jp-layout-color2: #454545;\n",
       "                    background-color: #383838;\n",
       "                }\n",
       "\n",
       "                .geemap-dark .jupyter-button {\n",
       "                    --jp-layout-color3: #383838;\n",
       "                }\n",
       "\n",
       "                .geemap-colab {\n",
       "                    background-color: var(--colab-primary-surface-color, white);\n",
       "                }\n",
       "\n",
       "                .geemap-colab .jupyter-button {\n",
       "                    --jp-layout-color3: var(--colab-primary-surface-color, white);\n",
       "                }\n",
       "            </style>\n",
       "            "
      ],
      "text/plain": [
       "<IPython.core.display.HTML object>"
      ]
     },
     "metadata": {},
     "output_type": "display_data"
    }
   ],
   "source": [
    "# # Filter precipitation data for the specific year\n",
    "# prec_img = terraclim.select(\"pr\").filter(ee.Filter.calendarRange(1985, 2020, 'year')).toBands()\n",
    "# names = prec_img.bandNames().getInfo()\n",
    "\n",
    "# # Initialize CWD with the first month's precipitation\n",
    "# cwd = ee.Image(prec_img.select(names[0])).subtract(100).max(0).rename('cwd_1')\n",
    "\n",
    "# for i in range(1, len(names)):\n",
    "#     current_image = prec_img.select(names[i])\n",
    "#     # Get the previous month's CWD by its band name\n",
    "#     previous_val = cwd.select(f'cwd_{i}')  # Access the previous band\n",
    "#     result_image = previous_val.add(current_image).subtract(100).max(0).rename(f'cwd_{i + 1}')\n",
    "#     # Add the current month's result as a new band\n",
    "#     cwd = cwd.addBands(result_image)\n",
    "\n",
    "# # Now calculate the minimum CWD (MCWD) for each year (group of 12 bands)\n",
    "# band_names = cwd.bandNames().getInfo()\n",
    "# mcwd = ee.Image()\n",
    "\n",
    "# # Function to calculate the minimum CWD for each year (group of 12 bands)\n",
    "# def calculate_mcwd(year):\n",
    "#     start_idx = (year - 1985) * 12\n",
    "#     year_bands = band_names.slice(start_idx, start_idx + 12)\n",
    "#     mcwd_year = cwd.select(year_bands).reduce(ee.Reducer.min()).rename(f'mcwd_{year}')\n",
    "#     return mcwd_year\n",
    "\n",
    "# export_image(cwd, \"cwd_terraclim\", scale = 10000)"
   ]
  },
  {
   "cell_type": "markdown",
   "id": "71821788-5a9d-41cc-9c46-1bdd7c8eef24",
   "metadata": {},
   "source": [
    "<!-- ## Yearly CWD\n",
    "\n",
    "Calculated as in Malhi et al 2009 and Aragão et al 2007, considering ET fixed as 100mm/month.\n",
    "\n",
    "[equations](https://imgur.com/o4lVmM7) -->"
   ]
  },
  {
   "cell_type": "code",
   "execution_count": 93,
   "id": "3095b522",
   "metadata": {},
   "outputs": [
    {
     "data": {
      "text/html": [
       "\n",
       "            <style>\n",
       "                .geemap-dark {\n",
       "                    --jp-widgets-color: white;\n",
       "                    --jp-widgets-label-color: white;\n",
       "                    --jp-ui-font-color1: white;\n",
       "                    --jp-layout-color2: #454545;\n",
       "                    background-color: #383838;\n",
       "                }\n",
       "\n",
       "                .geemap-dark .jupyter-button {\n",
       "                    --jp-layout-color3: #383838;\n",
       "                }\n",
       "\n",
       "                .geemap-colab {\n",
       "                    background-color: var(--colab-primary-surface-color, white);\n",
       "                }\n",
       "\n",
       "                .geemap-colab .jupyter-button {\n",
       "                    --jp-layout-color3: var(--colab-primary-surface-color, white);\n",
       "                }\n",
       "            </style>\n",
       "            "
      ],
      "text/plain": [
       "<IPython.core.display.HTML object>"
      ]
     },
     "metadata": {},
     "output_type": "display_data"
    }
   ],
   "source": [
    "vars = ['volumetric_soil_water_layer_2_min', 'surface_pressure', 'surface_net_solar_radiation_sum', 'temperature_2m']\n",
    "var_names = ['sm', 'vpd', 'radiation', 'temp_2m']\n",
    "\n",
    "ERA5_L = ee.Image()\n",
    "\n",
    "for var, var_name in zip(vars, var_names):\n",
    "    dataset = ee.ImageCollection('ECMWF/ERA5_LAND/MONTHLY_AGGR').select(var)\n",
    "\n",
    "    yearly_means = ee.Image()\n",
    "    for year in range(1985, 2020):\n",
    "        # Filter images for the specific year\n",
    "        images_in_year = dataset.filter(ee.Filter.eq('year', year))\n",
    "        # Reduce (average) the images to get the mean temperature for that year\n",
    "        mean_image = images_in_year.mean().set('year', year).toInt16().rename(f'{var_name}_{year}')\n",
    "        yearly_means = yearly_means.addBands(mean_image)\n",
    "    \n",
    "    yearly_means = yearly_means.slice(1).toInt16()\n",
    "    total_mean = yearly_means.reduce(ee.Reducer.mean()).toInt16().rename(f'{var_name}_mean')\n",
    "    ERA5_L = ERA5_L.addBands([total_mean, yearly_means])\n",
    "\n",
    "export_image(ERA5_L.slice(1), \"ERA5_L\", scale = 11132) # default by ERA5-Land"
   ]
  }
 ],
 "metadata": {
  "kernelspec": {
   "display_name": "Python 3 (ipykernel)",
   "language": "python",
   "name": "python3"
  },
  "language_info": {
   "codemirror_mode": {
    "name": "ipython",
    "version": 3
   },
   "file_extension": ".py",
   "mimetype": "text/x-python",
   "name": "python",
   "nbconvert_exporter": "python",
   "pygments_lexer": "ipython3",
   "version": "3.11.9"
  }
 },
 "nbformat": 4,
 "nbformat_minor": 5
}
