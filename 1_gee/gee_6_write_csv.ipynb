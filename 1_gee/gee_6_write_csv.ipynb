{
 "cells": [
  {
   "cell_type": "markdown",
   "id": "956cff3f-99f1-45ca-b0b0-90c38a6e2c08",
   "metadata": {},
   "source": [
    "<!-- # Processing the final dataset\n",
    " -->\n"
   ]
  },
  {
   "cell_type": "code",
   "execution_count": 1,
   "id": "a9594018-621b-427e-89d3-0633de81979a",
   "metadata": {},
   "outputs": [],
   "source": [
    "import ee\n",
    "import geemap\n",
    "from gee_0_utils import *\n",
    "\n",
    "initialize()\n",
    "config = ProjectConfig()\n",
    "roi = config.roi\n",
    "data_folder = config.data_folder"
   ]
  },
  {
   "cell_type": "code",
   "execution_count": 3,
   "id": "217cf492",
   "metadata": {},
   "outputs": [
    {
     "data": {
      "text/html": [
       "\n",
       "            <style>\n",
       "                .geemap-dark {\n",
       "                    --jp-widgets-color: white;\n",
       "                    --jp-widgets-label-color: white;\n",
       "                    --jp-ui-font-color1: white;\n",
       "                    --jp-layout-color2: #454545;\n",
       "                    background-color: #383838;\n",
       "                }\n",
       "\n",
       "                .geemap-dark .jupyter-button {\n",
       "                    --jp-layout-color3: #383838;\n",
       "                }\n",
       "\n",
       "                .geemap-colab {\n",
       "                    background-color: var(--colab-primary-surface-color, white);\n",
       "                }\n",
       "\n",
       "                .geemap-colab .jupyter-button {\n",
       "                    --jp-layout-color3: var(--colab-primary-surface-color, white);\n",
       "                }\n",
       "            </style>\n",
       "            "
      ],
      "text/plain": [
       "<IPython.core.display.HTML object>"
      ]
     },
     "metadata": {},
     "output_type": "display_data"
    }
   ],
   "source": [
    "def keep_rare_lu_types(unified_data):\n",
    "    # Define the list of bands to check\n",
    "    bands_to_check = ['lulc_sum_20', 'lulc_sum_21', 'lulc_sum_35', \n",
    "                    'lulc_sum_39', 'lulc_sum_40', 'lulc_sum_41', \n",
    "                    'lulc_sum_46', 'lulc_sum_48', 'lulc_sum_9']\n",
    "\n",
    "    # Create a mask where at least one of the specified bands is non-zero\n",
    "    mask = unified_data.select(bands_to_check).reduce(ee.Reducer.anyNonZero())\n",
    "\n",
    "    # # Apply the mask to the unified_data\n",
    "    return unified_data.updateMask(mask)\n",
    "\n",
    "# to try and reduce some level of spatial autocorrelation:\n",
    "def sample_by_grid(unified_data):\n",
    "\n",
    "    region = unified_data.geometry()\n",
    "    grid = region.coveringGrid(region.projection(), 1000)\n",
    "\n",
    "    # Function to check if there's at least one cell of unified_data in the grid cell\n",
    "    def check_overlap(grid_cell):\n",
    "        geometry = grid_cell.geometry()\n",
    "        \n",
    "        sampled = unified_data.stratifiedSample(\n",
    "            numPoints = 1, classBand = 'biome', region = geometry, scale = 50000\n",
    "        )\n",
    "\n",
    "        return sampled.first()\n",
    "\n",
    "    # Apply the function to each grid cell\n",
    "    return grid.map(check_overlap, dropNulls = True)\n",
    "\n"
   ]
  },
  {
   "cell_type": "code",
   "execution_count": 6,
   "id": "7e05edb2",
   "metadata": {},
   "outputs": [
    {
     "data": {
      "text/html": [
       "\n",
       "            <style>\n",
       "                .geemap-dark {\n",
       "                    --jp-widgets-color: white;\n",
       "                    --jp-widgets-label-color: white;\n",
       "                    --jp-ui-font-color1: white;\n",
       "                    --jp-layout-color2: #454545;\n",
       "                    background-color: #383838;\n",
       "                }\n",
       "\n",
       "                .geemap-dark .jupyter-button {\n",
       "                    --jp-layout-color3: #383838;\n",
       "                }\n",
       "\n",
       "                .geemap-colab {\n",
       "                    background-color: var(--colab-primary-surface-color, white);\n",
       "                }\n",
       "\n",
       "                .geemap-colab .jupyter-button {\n",
       "                    --jp-layout-color3: var(--colab-primary-surface-color, white);\n",
       "                }\n",
       "            </style>\n",
       "            "
      ],
      "text/plain": [
       "<IPython.core.display.HTML object>"
      ]
     },
     "metadata": {},
     "output_type": "display_data"
    },
    {
     "name": "stdout",
     "output_type": "stream",
     "text": [
      "Started export task for tile -7,-4\n"
     ]
    }
   ],
   "source": [
    "# Load region of interest (ROI) and create a grid over the ROI\n",
    "roi_bounds = roi.bounds()\n",
    "grid = roi_bounds.coveringGrid(\"EPSG:4326\", 1000000).filterBounds(roi)\n",
    "tile_ids = grid.aggregate_array('system:index').getInfo()\n",
    "\n",
    "# Function to preprocess images and create the unified data image\n",
    "def create_unified_data(method, year):\n",
    "    secondary = ee.Image(f\"{data_folder}/{method}/secondary\")\n",
    "    nearest_mature = ee.Image(f\"{data_folder}/{method}/nearest_mature_biomass_image\").rename(\"nearest_mature_biomass\")\n",
    "    # distance_to_nearest_mature = ee.Image(f\"{data_folder}/{method}/distance_to_nearest_mature\")\n",
    "    cwd = ee.Image(f\"{data_folder}/raw/cwd_chave\").int16()\n",
    "    sur_cover = ee.Image(f\"{data_folder}/{method}/sur_cover\")\n",
    "    categorical = ee.Image(f\"{data_folder}/categorical\").select([\"biome\", \"ecoreg\", \"protec\", \"indig\"])\n",
    "    topography = ee.Image(\"CSP/ERGo/1_0/Global/ALOS_landforms\").rename(\"topography\")\n",
    "    soil = ee.Image(f\"{data_folder}/soilgrids\").select(['nitro', 'sand', 'phh2o'])  # Dropping multicollinear bands\n",
    "    climate = ee.Image(f\"{data_folder}/yearly_terraclim\")\n",
    "\n",
    "    distance_to_border_mask = ee.Image(f\"{data_folder}/distance_to_border_mask\").byte()\n",
    "    one_hectare_mask = ee.Image(f\"{data_folder}/{method}/one_hectare_mask\").selfMask()\n",
    "\n",
    "    # Combine all bands with additional masking conditions\n",
    "    combined_mask = nearest_mature.mask().And(distance_to_border_mask).And(one_hectare_mask)\n",
    "\n",
    "    unified_data = secondary.addBands([\n",
    "        nearest_mature, sur_cover, cwd, #distance_to_nearest_mature, \n",
    "        categorical, soil, topography, climate\n",
    "    ]).updateMask(combined_mask)\n",
    "\n",
    "    if method == \"mapbiomas\":\n",
    "\n",
    "        if (aggregate_LU):\n",
    "            suffix = \"aggregated\"\n",
    "        else:\n",
    "            suffix = \"non_aggregated\"\n",
    "\n",
    "        if (year != 0):\n",
    "            suffix += f\"_{year}yr\"\n",
    "        else:\n",
    "            suffix += \"_all\"\n",
    "\n",
    "        land_use = ee.Image(f\"{data_folder}/{method}/land_use_{suffix}\")\n",
    "        unburned_mask = land_use.select(\"num_fires_after_regrowth\").eq(0)\n",
    "        unified_data = unified_data.addBands([land_use]).updateMask(unburned_mask)\n",
    "\n",
    "    else:\n",
    "        suffix = \"eu\"\n",
    "\n",
    "    return unified_data, suffix\n",
    "\n",
    "\n",
    "# Main Function to run tile-wise exports\n",
    "def run_tilewise_exports(method, year):\n",
    "    # Generate unified data image with selected layers\n",
    "    unified_data, suffix = create_unified_data(method, year)\n",
    "\n",
    "    # Loop through each tile and export data\n",
    "    for i, tile_id in enumerate(tile_ids):\n",
    "        print(f\"Processing tile {tile_id} ({i + 1}/{len(tile_ids)})\")\n",
    "\n",
    "        feature = ee.Feature(grid.toList(1, i).get(0))\n",
    "        geometry = feature.geometry()\n",
    "\n",
    "        # Clip unified data to tile geometry\n",
    "        unified_data = unified_data.clip(geometry)\n",
    "\n",
    "        # Sample within the tile geometry\n",
    "        unified_data_sampled = unified_data.stratifiedSample(\n",
    "            numPoints = 1000, classBand='biome', geometries=False\n",
    "        )\n",
    "\n",
    "        # Filter properties to export\n",
    "        to_remove = ['.geo', 'system:index']\n",
    "        all_properties = unified_data.bandNames().getInfo()\n",
    "        properties_to_export = [p for p in all_properties if p not in to_remove]\n",
    "\n",
    "        # Export task to Google Drive\n",
    "        task = ee.batch.Export.table.toDrive(\n",
    "            collection=unified_data_sampled,\n",
    "            description=f'{suffix}_{tile_id}',\n",
    "            folder = f'{method}_{suffix}',\n",
    "            fileFormat='CSV',\n",
    "            selectors=properties_to_export\n",
    "        )\n",
    "        task.start()\n",
    "        print(f'Started export task for tile {tile_id}')\n",
    "\n",
    "\n",
    "# Run the tile-wise export process\n",
    "# Constants\n",
    "aggregate_LU = True\n",
    "run_tilewise_exports('mapbiomas', 0)\n",
    "# run_tilewise_exports('mapbiomas', 0)\n",
    "# run_tilewise_exports('mapbiomas', 0)\n",
    "# run_tilewise_exports('mapbiomas', 0)"
   ]
  },
  {
   "cell_type": "code",
   "execution_count": 8,
   "id": "cf924f32",
   "metadata": {},
   "outputs": [
    {
     "data": {
      "text/html": [
       "\n",
       "            <style>\n",
       "                .geemap-dark {\n",
       "                    --jp-widgets-color: white;\n",
       "                    --jp-widgets-label-color: white;\n",
       "                    --jp-ui-font-color1: white;\n",
       "                    --jp-layout-color2: #454545;\n",
       "                    background-color: #383838;\n",
       "                }\n",
       "\n",
       "                .geemap-dark .jupyter-button {\n",
       "                    --jp-layout-color3: #383838;\n",
       "                }\n",
       "\n",
       "                .geemap-colab {\n",
       "                    background-color: var(--colab-primary-surface-color, white);\n",
       "                }\n",
       "\n",
       "                .geemap-colab .jupyter-button {\n",
       "                    --jp-layout-color3: var(--colab-primary-surface-color, white);\n",
       "                }\n",
       "            </style>\n",
       "            "
      ],
      "text/plain": [
       "<IPython.core.display.HTML object>"
      ]
     },
     "metadata": {},
     "output_type": "display_data"
    }
   ],
   "source": [
    "secondary_mapbiomas = ee.Image(f\"{data_folder}/mapbiomas/secondary\")\n",
    "secondary_eu = ee.Image(f\"{data_folder}/eu/secondary\")\n",
    "\n",
    "secondary_mapbiomas = secondary_mapbiomas.updateMask(secondary_eu.select(\"age\"))\n",
    "secondary_eu = secondary_eu.updateMask(secondary_mapbiomas.select(\"age\"))\n",
    "secondary_mapbiomas = secondary_mapbiomas.updateMask(secondary_eu.select(\"age\"))\n",
    "\n",
    "categorical = ee.Image(f\"{data_folder}/categorical\")\n",
    "biome_mask = categorical.select('biome').eq(1) \\\n",
    "               .Or(categorical.select('biome').eq(4)) \\\n",
    "               .Or(categorical.select('biome').eq(6))\n",
    "categorical = categorical.updateMask(biome_mask)\n",
    "cwd = ee.Image(f\"{data_folder}/raw/cwd_chave\")\n",
    "\n",
    "unified_data = secondary_mapbiomas.addBands([categorical, cwd, \\\n",
    "                                             secondary_mapbiomas.select(\"age\").rename(\"age_eu\")])\\\n",
    "                                                .updateMask(secondary_mapbiomas.select(\"age\"))\n",
    "\n",
    "unified_data_sampled = unified_data.stratifiedSample(\n",
    "    numPoints = 10000, classBand = 'biome', region = roi\n",
    ")\n",
    "\n",
    "task = ee.batch.Export.table.toDrive(\n",
    "    collection = unified_data_sampled, description = \"mapbiomas_eu\", fileFormat = 'CSV'\n",
    ")\n",
    "task.start()"
   ]
  },
  {
   "cell_type": "code",
   "execution_count": null,
   "id": "ef8e2a5c",
   "metadata": {},
   "outputs": [],
   "source": [
    "# to get the data from current agricultural land, to predict its regrowth potential:\n",
    "\n",
    "# get all land use history for all plots that are currently agricultural land\n",
    "# get the nearest mature biomass for each of these plots\n",
    "# get the same predictors and run the model for these pixels."
   ]
  }
 ],
 "metadata": {
  "kernelspec": {
   "display_name": "for_reg_env",
   "language": "python",
   "name": "python3"
  },
  "language_info": {
   "codemirror_mode": {
    "name": "ipython",
    "version": 3
   },
   "file_extension": ".py",
   "mimetype": "text/x-python",
   "name": "python",
   "nbconvert_exporter": "python",
   "pygments_lexer": "ipython3",
   "version": "3.11.9"
  }
 },
 "nbformat": 4,
 "nbformat_minor": 5
}
