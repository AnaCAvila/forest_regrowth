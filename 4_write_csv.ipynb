{
 "cells": [
  {
   "cell_type": "markdown",
   "id": "956cff3f-99f1-45ca-b0b0-90c38a6e2c08",
   "metadata": {},
   "source": [
    "# Processing the final dataset\n",
    "\n"
   ]
  },
  {
   "cell_type": "code",
   "execution_count": 2,
   "id": "a9594018-621b-427e-89d3-0633de81979a",
   "metadata": {},
   "outputs": [],
   "source": [
    "import ee\n",
    "import geemap\n",
    "\n",
    "# Authenticate to Earth Engine\n",
    "try:\n",
    "    ee.Initialize()\n",
    "except Exception as e:\n",
    "    ee.Authenticate()\n",
    "    ee.Initialize()\n",
    "\n",
    "data_folder = \"projects/amazon-forest-regrowth/assets\""
   ]
  },
  {
   "cell_type": "code",
   "execution_count": 13,
   "id": "713f7879-6ed1-4b8c-a638-abd8fe97d0b4",
   "metadata": {},
   "outputs": [
    {
     "data": {
      "text/html": [
       "\n",
       "            <style>\n",
       "                .geemap-dark {\n",
       "                    --jp-widgets-color: white;\n",
       "                    --jp-widgets-label-color: white;\n",
       "                    --jp-ui-font-color1: white;\n",
       "                    --jp-layout-color2: #454545;\n",
       "                    background-color: #383838;\n",
       "                }\n",
       "\n",
       "                .geemap-dark .jupyter-button {\n",
       "                    --jp-layout-color3: #383838;\n",
       "                }\n",
       "\n",
       "                .geemap-colab {\n",
       "                    background-color: var(--colab-primary-surface-color, white);\n",
       "                }\n",
       "\n",
       "                .geemap-colab .jupyter-button {\n",
       "                    --jp-layout-color3: var(--colab-primary-surface-color, white);\n",
       "                }\n",
       "            </style>\n",
       "            "
      ],
      "text/plain": [
       "<IPython.core.display.HTML object>"
      ]
     },
     "metadata": {},
     "output_type": "display_data"
    }
   ],
   "source": [
    "# region of interest is Amazonia\n",
    "roi = ee.FeatureCollection(f\"{data_folder}/raw/biomes_br\").filter(ee.Filter.eq(\"CD_Bioma\", 1)).geometry()\n",
    "\n",
    "# For specific biomes, the feature \"CD_Bioma\" is:\n",
    "# 1 = Amazonia\n",
    "# 2 = Caatinga\n",
    "# 3 = Cerrado\n",
    "# 4 = Mata Atlantica\n",
    "# 5 = Pampa\n",
    "# 6 = Pantanal"
   ]
  },
  {
   "cell_type": "code",
   "execution_count": 33,
   "id": "7e05edb2",
   "metadata": {},
   "outputs": [
    {
     "data": {
      "text/html": [
       "\n",
       "            <style>\n",
       "                .geemap-dark {\n",
       "                    --jp-widgets-color: white;\n",
       "                    --jp-widgets-label-color: white;\n",
       "                    --jp-ui-font-color1: white;\n",
       "                    --jp-layout-color2: #454545;\n",
       "                    background-color: #383838;\n",
       "                }\n",
       "\n",
       "                .geemap-dark .jupyter-button {\n",
       "                    --jp-layout-color3: #383838;\n",
       "                }\n",
       "\n",
       "                .geemap-colab {\n",
       "                    background-color: var(--colab-primary-surface-color, white);\n",
       "                }\n",
       "\n",
       "                .geemap-colab .jupyter-button {\n",
       "                    --jp-layout-color3: var(--colab-primary-surface-color, white);\n",
       "                }\n",
       "            </style>\n",
       "            "
      ],
      "text/plain": [
       "<IPython.core.display.HTML object>"
      ]
     },
     "metadata": {},
     "output_type": "display_data"
    }
   ],
   "source": [
    "years = 15\n",
    "\n",
    "if (years == 0):\n",
    "    land_use_years = ee.Image(f\"{data_folder}/land_use\")\n",
    "    name = \"all_LULC\"\n",
    "else:\n",
    "    land_use_years = ee.Image(f\"{data_folder}/land_use_{years}_years\")\n",
    "    name = f\"{years}y_LULC\"\n",
    "\n",
    "\n",
    "age_agbd = ee.Image(f\"{data_folder}/age_agbd\")\n",
    "categorical = ee.Image(f\"{data_folder}/categorical\")\n",
    "sur_cover = ee.Image(f\"{data_folder}/sur_cover\").rename(\"sur_cover\")\n",
    "one_hectare_mask = ee.Image(f\"{data_folder}/one_hectare_mask\")\n",
    "mature_biomass = ee.Image(f\"{data_folder}/mature_biomass_1km_100m\")\n",
    "cwd = ee.Image(f\"{data_folder}/raw/cwd_chave\").float().rename(\"cwd\")\n",
    "yearly_mean_prec = ee.Image(f\"{data_folder}/yearly_mean_prec\")\n",
    "yearly_SI = ee.Image(f\"{data_folder}/yearly_SI\")\n",
    "\n",
    "distance = ee.Image(f\"{data_folder}/distance_amaz_500\")\n",
    "distance = distance.updateMask(distance.lt(5000).selfMask())\n",
    "\n",
    "# distance = mature_biomass.fastDistanceTransform().sqrt() \\\n",
    "#     .multiply(ee.Image.pixelArea().sqrt()).rename(\"distance\").reproject(\n",
    "#     crs = age_agbd.projection(), scale = 500\n",
    "# )\n",
    "\n",
    "combined_mask = one_hectare_mask#.And(land_use_years.select(\"last_LU\")).And(distance)\n",
    "\n",
    "unified_data = (\n",
    "    age_agbd.select(\"age\").addBands(\n",
    "        [categorical.select(\"ecoreg\")#, land_use_years, cwd, sur_cover, yearly_mean_prec, yearly_SI\n",
    "    ])\n",
    "    .updateMask(combined_mask).clip(roi)\n",
    ")\n",
    "\n",
    "unified_data_fc = unified_data.stratifiedSample(\n",
    "    numPoints = 1000, classBand = 'ecoreg', region = unified_data.geometry(), geometries=True\n",
    ")\n",
    "\n",
    "# unified_data_fc = unified_data.sample(\n",
    "#     numPixels = 150000, region = unified_data.geometry(), geometries=True\n",
    "# )\n",
    "\n",
    "# # Function to buffer and calculate mean\n",
    "# def buffer_and_calculate_mean(f):\n",
    "#     distance = ee.Number(f.get('distance'))\n",
    "#     buffered = ee.Feature(f.buffer(distance.add(30), 1))\n",
    "#     mean_value = mature_biomass.reduceRegion(ee.Reducer.mean().unweighted(), buffered.geometry(), 100, \\\n",
    "#                                                maxPixels=1e13)\n",
    "#     return buffered.set(mean_value)\n",
    "\n",
    "# pts_dist = distance.reduceRegions(unified_data_fc, ee.Reducer.first().setOutputs([\"distance\"]))\n",
    "\n",
    "# pts = pts_dist.map(buffer_and_calculate_mean)\n",
    "\n",
    "# Export an ee.FeatureCollection to Google Drive, adjusting the description based on the years\n",
    "task = ee.batch.Export.table.toDrive(\n",
    "    collection=unified_data_fc, description=name, fileFormat = \"SHP\"\n",
    ")\n",
    "task.start()\n",
    "\n",
    "# # Export an ee.FeatureCollection to Google Drive, adjusting the description based on the years\n",
    "# task = ee.batch.Export.table.toAsset(\n",
    "#     collection=pts, description=name, assetId=f\"{data_folder}/{name}_30m\"\n",
    "# )\n",
    "\n",
    "# task.start()\n",
    "\n",
    "\n",
    "# # Export an ee.FeatureCollection to Google Drive, adjusting the description based on the years\n",
    "# task = ee.batch.Export.table.toAsset(\n",
    "#     collection=pts, description=name, assetId=f\"{data_folder}/{name}_100m\"\n",
    "# )\n",
    "\n",
    "# task.start()\n"
   ]
  },
  {
   "cell_type": "code",
   "execution_count": 32,
   "id": "aa584b94",
   "metadata": {},
   "outputs": [
    {
     "data": {
      "text/html": [
       "\n",
       "            <style>\n",
       "                .geemap-dark {\n",
       "                    --jp-widgets-color: white;\n",
       "                    --jp-widgets-label-color: white;\n",
       "                    --jp-ui-font-color1: white;\n",
       "                    --jp-layout-color2: #454545;\n",
       "                    background-color: #383838;\n",
       "                }\n",
       "\n",
       "                .geemap-dark .jupyter-button {\n",
       "                    --jp-layout-color3: #383838;\n",
       "                }\n",
       "\n",
       "                .geemap-colab {\n",
       "                    background-color: var(--colab-primary-surface-color, white);\n",
       "                }\n",
       "\n",
       "                .geemap-colab .jupyter-button {\n",
       "                    --jp-layout-color3: var(--colab-primary-surface-color, white);\n",
       "                }\n",
       "            </style>\n",
       "            "
      ],
      "text/plain": [
       "<IPython.core.display.HTML object>"
      ]
     },
     "metadata": {},
     "output_type": "display_data"
    },
    {
     "data": {
      "text/html": [
       "<div><style>:root {\n",
       "  --font-color-primary: var(--jp-content-font-color0, rgba(0, 0, 0, 1));\n",
       "  --font-color-secondary: var(--jp-content-font-color2, rgba(0, 0, 0, 0.6));\n",
       "  --font-color-accent: rgba(123, 31, 162, 1);\n",
       "  --border-color: var(--jp-border-color2, #e0e0e0);\n",
       "  --background-color: var(--jp-layout-color0, white);\n",
       "  --background-color-row-even: var(--jp-layout-color1, white);\n",
       "  --background-color-row-odd: var(--jp-layout-color2, #eeeeee);\n",
       "}\n",
       "\n",
       "html[theme=\"dark\"],\n",
       "body[data-theme=\"dark\"],\n",
       "body.vscode-dark {\n",
       "  --font-color-primary: rgba(255, 255, 255, 1);\n",
       "  --font-color-secondary: rgba(255, 255, 255, 0.6);\n",
       "  --font-color-accent: rgb(173, 132, 190);\n",
       "  --border-color: #2e2e2e;\n",
       "  --background-color: #111111;\n",
       "  --background-color-row-even: #111111;\n",
       "  --background-color-row-odd: #313131;\n",
       "}\n",
       "\n",
       ".ee {\n",
       "  padding: 1em;\n",
       "  line-height: 1.5em;\n",
       "  min-width: 300px;\n",
       "  max-width: 1200px;\n",
       "  overflow-y: scroll;\n",
       "  max-height: 600px;\n",
       "  border: 1px solid var(--border-color);\n",
       "  font-family: monospace;\n",
       "}\n",
       "\n",
       ".ee li {\n",
       "  list-style-type: none;\n",
       "}\n",
       "\n",
       ".ee ul {\n",
       "  padding-left: 1.5em !important;\n",
       "  margin: 0;\n",
       "}\n",
       "\n",
       ".ee > ul {\n",
       "  padding-left: 0 !important;\n",
       "}\n",
       "\n",
       ".ee-open,\n",
       ".ee-shut {\n",
       "  color: var(--font-color-secondary);\n",
       "  cursor: pointer;\n",
       "  margin: 0;\n",
       "}\n",
       "\n",
       ".ee-open:hover,\n",
       ".ee-shut:hover {\n",
       "  color: var(--font-color-primary);\n",
       "}\n",
       "\n",
       ".ee-k {\n",
       "  color: var(--font-color-accent);\n",
       "  margin-right: 6px;\n",
       "}\n",
       "\n",
       ".ee-v {\n",
       "  color: var(--font-color-primary);\n",
       "}\n",
       "\n",
       ".ee-toggle {\n",
       "  display: none;\n",
       "}\n",
       "\n",
       ".ee-shut + ul {\n",
       "  display: none;\n",
       "}\n",
       "\n",
       ".ee-open + ul {\n",
       "  display: block;\n",
       "}\n",
       "\n",
       ".ee-shut::before {\n",
       "  display: inline-block;\n",
       "  content: \"▼\";\n",
       "  margin-right: 6px;\n",
       "  transform: rotate(-90deg);\n",
       "  transition: transform 0.2s;\n",
       "}\n",
       "\n",
       ".ee-open::before {\n",
       "  transform: rotate(0deg);\n",
       "  display: inline-block;\n",
       "  content: \"▼\";\n",
       "  margin-right: 6px;\n",
       "  transition: transform 0.2s;\n",
       "}\n",
       "</style><div class='ee'><ul><li><label class='ee-shut'>Image projects/amazon-forest-regrowth/assets/age_agbd (4 bands)<input type='checkbox' class='ee-toggle'></label><ul><li><span class='ee-k'>type:</span><span class='ee-v'>Image</span></li><li><span class='ee-k'>id:</span><span class='ee-v'>projects/amazon-forest-regrowth/assets/age_agbd</span></li><li><span class='ee-k'>version:</span><span class='ee-v'>1716076947123592</span></li><li><label class='ee-shut'>bands: List (4 elements)<input type='checkbox' class='ee-toggle'></label><ul><li><label class='ee-shut'>0: \"age\", unsigned int8, EPSG:4326, 155241x158828 px<input type='checkbox' class='ee-toggle'></label><ul><li><span class='ee-k'>id:</span><span class='ee-v'>age</span></li><li><span class='ee-k'>crs:</span><span class='ee-v'>EPSG:4326</span></li><li><label class='ee-shut'>crs_transform: List (6 elements)<input type='checkbox' class='ee-toggle'></label><ul><li><span class='ee-k'>0:</span><span class='ee-v'>0.00026949458523585647</span></li><li><span class='ee-k'>1:</span><span class='ee-v'>0</span></li><li><span class='ee-k'>2:</span><span class='ee-v'>-74.897665634164</span></li><li><span class='ee-k'>3:</span><span class='ee-v'>0</span></li><li><span class='ee-k'>4:</span><span class='ee-v'>-0.00026949458523585647</span></li><li><span class='ee-k'>5:</span><span class='ee-v'>7.93742401895168</span></li></ul></li><li><label class='ee-shut'>data_type: unsigned int8<input type='checkbox' class='ee-toggle'></label><ul><li><span class='ee-k'>type:</span><span class='ee-v'>PixelType</span></li><li><span class='ee-k'>max:</span><span class='ee-v'>255</span></li><li><span class='ee-k'>min:</span><span class='ee-v'>0</span></li><li><span class='ee-k'>precision:</span><span class='ee-v'>int</span></li></ul></li><li><label class='ee-shut'>dimensions: [155241, 158828]<input type='checkbox' class='ee-toggle'></label><ul><li><span class='ee-k'>0:</span><span class='ee-v'>155241</span></li><li><span class='ee-k'>1:</span><span class='ee-v'>158828</span></li></ul></li></ul></li><li><label class='ee-shut'>1: \"agbd\", signed int16, EPSG:4326, 155241x158828 px<input type='checkbox' class='ee-toggle'></label><ul><li><span class='ee-k'>id:</span><span class='ee-v'>agbd</span></li><li><span class='ee-k'>crs:</span><span class='ee-v'>EPSG:4326</span></li><li><label class='ee-shut'>crs_transform: List (6 elements)<input type='checkbox' class='ee-toggle'></label><ul><li><span class='ee-k'>0:</span><span class='ee-v'>0.00026949458523585647</span></li><li><span class='ee-k'>1:</span><span class='ee-v'>0</span></li><li><span class='ee-k'>2:</span><span class='ee-v'>-74.897665634164</span></li><li><span class='ee-k'>3:</span><span class='ee-v'>0</span></li><li><span class='ee-k'>4:</span><span class='ee-v'>-0.00026949458523585647</span></li><li><span class='ee-k'>5:</span><span class='ee-v'>7.93742401895168</span></li></ul></li><li><label class='ee-shut'>data_type: signed int16<input type='checkbox' class='ee-toggle'></label><ul><li><span class='ee-k'>type:</span><span class='ee-v'>PixelType</span></li><li><span class='ee-k'>max:</span><span class='ee-v'>32767</span></li><li><span class='ee-k'>min:</span><span class='ee-v'>-32768</span></li><li><span class='ee-k'>precision:</span><span class='ee-v'>int</span></li></ul></li><li><label class='ee-shut'>dimensions: [155241, 158828]<input type='checkbox' class='ee-toggle'></label><ul><li><span class='ee-k'>0:</span><span class='ee-v'>155241</span></li><li><span class='ee-k'>1:</span><span class='ee-v'>158828</span></li></ul></li></ul></li><li><label class='ee-shut'>2: \"longitude\", float, EPSG:4326, 155241x158828 px<input type='checkbox' class='ee-toggle'></label><ul><li><span class='ee-k'>id:</span><span class='ee-v'>longitude</span></li><li><span class='ee-k'>crs:</span><span class='ee-v'>EPSG:4326</span></li><li><label class='ee-shut'>crs_transform: List (6 elements)<input type='checkbox' class='ee-toggle'></label><ul><li><span class='ee-k'>0:</span><span class='ee-v'>0.00026949458523585647</span></li><li><span class='ee-k'>1:</span><span class='ee-v'>0</span></li><li><span class='ee-k'>2:</span><span class='ee-v'>-74.897665634164</span></li><li><span class='ee-k'>3:</span><span class='ee-v'>0</span></li><li><span class='ee-k'>4:</span><span class='ee-v'>-0.00026949458523585647</span></li><li><span class='ee-k'>5:</span><span class='ee-v'>7.93742401895168</span></li></ul></li><li><label class='ee-shut'>data_type: float<input type='checkbox' class='ee-toggle'></label><ul><li><span class='ee-k'>type:</span><span class='ee-v'>PixelType</span></li><li><span class='ee-k'>precision:</span><span class='ee-v'>float</span></li></ul></li><li><label class='ee-shut'>dimensions: [155241, 158828]<input type='checkbox' class='ee-toggle'></label><ul><li><span class='ee-k'>0:</span><span class='ee-v'>155241</span></li><li><span class='ee-k'>1:</span><span class='ee-v'>158828</span></li></ul></li></ul></li><li><label class='ee-shut'>3: \"latitude\", float, EPSG:4326, 155241x158828 px<input type='checkbox' class='ee-toggle'></label><ul><li><span class='ee-k'>id:</span><span class='ee-v'>latitude</span></li><li><span class='ee-k'>crs:</span><span class='ee-v'>EPSG:4326</span></li><li><label class='ee-shut'>crs_transform: List (6 elements)<input type='checkbox' class='ee-toggle'></label><ul><li><span class='ee-k'>0:</span><span class='ee-v'>0.00026949458523585647</span></li><li><span class='ee-k'>1:</span><span class='ee-v'>0</span></li><li><span class='ee-k'>2:</span><span class='ee-v'>-74.897665634164</span></li><li><span class='ee-k'>3:</span><span class='ee-v'>0</span></li><li><span class='ee-k'>4:</span><span class='ee-v'>-0.00026949458523585647</span></li><li><span class='ee-k'>5:</span><span class='ee-v'>7.93742401895168</span></li></ul></li><li><label class='ee-shut'>data_type: float<input type='checkbox' class='ee-toggle'></label><ul><li><span class='ee-k'>type:</span><span class='ee-v'>PixelType</span></li><li><span class='ee-k'>precision:</span><span class='ee-v'>float</span></li></ul></li><li><label class='ee-shut'>dimensions: [155241, 158828]<input type='checkbox' class='ee-toggle'></label><ul><li><span class='ee-k'>0:</span><span class='ee-v'>155241</span></li><li><span class='ee-k'>1:</span><span class='ee-v'>158828</span></li></ul></li></ul></li></ul></li><li><label class='ee-shut'>properties: Object (2 properties)<input type='checkbox' class='ee-toggle'></label><ul><li><span class='ee-k'>system:asset_size:</span><span class='ee-v'>3451996264</span></li><li><label class='ee-shut'>system:footprint: LinearRing (17 vertices)<input type='checkbox' class='ee-toggle'></label><ul><li><span class='ee-k'>type:</span><span class='ee-v'>LinearRing</span></li><li><label class='ee-shut'>coordinates: List (17 elements)<input type='checkbox' class='ee-toggle'></label><ul><li><label class='ee-shut'>0: [-52.508552404083574, -34.86599720250564]<input type='checkbox' class='ee-toggle'></label><ul><li><span class='ee-k'>0:</span><span class='ee-v'>-52.508552404083574</span></li><li><span class='ee-k'>1:</span><span class='ee-v'>-34.86599720250564</span></li></ul></li><li><label class='ee-shut'>1: [-48.91324197999829, -34.86599716923694]<input type='checkbox' class='ee-toggle'></label><ul><li><span class='ee-k'>0:</span><span class='ee-v'>-48.91324197999829</span></li><li><span class='ee-k'>1:</span><span class='ee-v'>-34.86599716923694</span></li></ul></li><li><label class='ee-shut'>2: [-43.683699538623145, -34.86599714550248]<input type='checkbox' class='ee-toggle'></label><ul><li><span class='ee-k'>0:</span><span class='ee-v'>-43.683699538623145</span></li><li><span class='ee-k'>1:</span><span class='ee-v'>-34.86599714550248</span></li></ul></li><li><label class='ee-shut'>3: [-36.329655521244575, -34.865997189915994]<input type='checkbox' class='ee-toggle'></label><ul><li><span class='ee-k'>0:</span><span class='ee-v'>-36.329655521244575</span></li><li><span class='ee-k'>1:</span><span class='ee-v'>-34.865997189915994</span></li></ul></li><li><label class='ee-shut'>4: [-33.06086246804157, -34.865996939646344]<input type='checkbox' class='ee-toggle'></label><ul><li><span class='ee-k'>0:</span><span class='ee-v'>-33.06086246804157</span></li><li><span class='ee-k'>1:</span><span class='ee-v'>-34.865996939646344</span></li></ul></li><li><label class='ee-shut'>5: [-33.06091888679625, 7.937559164301689]<input type='checkbox' class='ee-toggle'></label><ul><li><span class='ee-k'>0:</span><span class='ee-v'>-33.06091888679625</span></li><li><span class='ee-k'>1:</span><span class='ee-v'>7.937559164301689</span></li></ul></li><li><label class='ee-shut'>6: [-40.578658682726385, 7.9375592237863035]<input type='checkbox' class='ee-toggle'></label><ul><li><span class='ee-k'>0:</span><span class='ee-v'>-40.578658682726385</span></li><li><span class='ee-k'>1:</span><span class='ee-v'>7.9375592237863035</span></li></ul></li><li><label class='ee-shut'>7: [-51.691436374160965, 7.937559237260218]<input type='checkbox' class='ee-toggle'></label><ul><li><span class='ee-k'>0:</span><span class='ee-v'>-51.691436374160965</span></li><li><span class='ee-k'>1:</span><span class='ee-v'>7.937559237260218</span></li></ul></li><li><label class='ee-shut'>8: [-59.862596437285646, 7.937559256328121]<input type='checkbox' class='ee-toggle'></label><ul><li><span class='ee-k'>0:</span><span class='ee-v'>-59.862596437285646</span></li><li><span class='ee-k'>1:</span><span class='ee-v'>7.937559256328121</span></li></ul></li><li><label class='ee-shut'>9: [-66.07267806311584, 7.937559214555583]<input type='checkbox' class='ee-toggle'></label><ul><li><span class='ee-k'>0:</span><span class='ee-v'>-66.07267806311584</span></li><li><span class='ee-k'>1:</span><span class='ee-v'>7.937559214555583</span></li></ul></li><li><label class='ee-shut'>10: [-74.8978034508879, 7.937559150098069]<input type='checkbox' class='ee-toggle'></label><ul><li><span class='ee-k'>0:</span><span class='ee-v'>-74.8978034508879</span></li><li><span class='ee-k'>1:</span><span class='ee-v'>7.937559150098069</span></li></ul></li><li><label class='ee-shut'>11: [-74.89785992190862, -34.86599698043478]<input type='checkbox' class='ee-toggle'></label><ul><li><span class='ee-k'>0:</span><span class='ee-v'>-74.89785992190862</span></li><li><span class='ee-k'>1:</span><span class='ee-v'>-34.86599698043478</span></li></ul></li><li><label class='ee-shut'>12: [-69.99483483927376, -34.86599721079048]<input type='checkbox' class='ee-toggle'></label><ul><li><span class='ee-k'>0:</span><span class='ee-v'>-69.99483483927376</span></li><li><span class='ee-k'>1:</span><span class='ee-v'>-34.86599721079048</span></li></ul></li><li><label class='ee-shut'>13: [-65.09213887219269, -34.86599720891968]<input type='checkbox' class='ee-toggle'></label><ul><li><span class='ee-k'>0:</span><span class='ee-v'>-65.09213887219269</span></li><li><span class='ee-k'>1:</span><span class='ee-v'>-34.86599720891968</span></li></ul></li><li><label class='ee-shut'>14: [-61.66025162329108, -34.86599717246458]<input type='checkbox' class='ee-toggle'></label><ul><li><span class='ee-k'>0:</span><span class='ee-v'>-61.66025162329108</span></li><li><span class='ee-k'>1:</span><span class='ee-v'>-34.86599717246458</span></li></ul></li><li><label class='ee-shut'>15: [-56.92097879420941, -34.86599719682812]<input type='checkbox' class='ee-toggle'></label><ul><li><span class='ee-k'>0:</span><span class='ee-v'>-56.92097879420941</span></li><li><span class='ee-k'>1:</span><span class='ee-v'>-34.86599719682812</span></li></ul></li><li><label class='ee-shut'>16: [-52.508552404083574, -34.86599720250564]<input type='checkbox' class='ee-toggle'></label><ul><li><span class='ee-k'>0:</span><span class='ee-v'>-52.508552404083574</span></li><li><span class='ee-k'>1:</span><span class='ee-v'>-34.86599720250564</span></li></ul></li></ul></li></ul></li></ul></li></ul></li></ul></div><script>function toggleHeader() {\n",
       "    const parent = this.parentElement;\n",
       "    parent.className = parent.className === \"ee-open\" ? \"ee-shut\" : \"ee-open\";\n",
       "}\n",
       "\n",
       "for (let c of document.getElementsByClassName(\"ee-toggle\")) {\n",
       "    c.onclick = toggleHeader;\n",
       "}</script></div>"
      ],
      "text/plain": [
       "<ee.image.Image at 0x7f0cab267fd0>"
      ]
     },
     "execution_count": 32,
     "metadata": {},
     "output_type": "execute_result"
    }
   ],
   "source": [
    "age_agbd"
   ]
  },
  {
   "cell_type": "code",
   "execution_count": 20,
   "id": "cde0a1b5",
   "metadata": {},
   "outputs": [
    {
     "data": {
      "text/html": [
       "\n",
       "            <style>\n",
       "                .geemap-dark {\n",
       "                    --jp-widgets-color: white;\n",
       "                    --jp-widgets-label-color: white;\n",
       "                    --jp-ui-font-color1: white;\n",
       "                    --jp-layout-color2: #454545;\n",
       "                    background-color: #383838;\n",
       "                }\n",
       "\n",
       "                .geemap-dark .jupyter-button {\n",
       "                    --jp-layout-color3: #383838;\n",
       "                }\n",
       "\n",
       "                .geemap-colab {\n",
       "                    background-color: var(--colab-primary-surface-color, white);\n",
       "                }\n",
       "\n",
       "                .geemap-colab .jupyter-button {\n",
       "                    --jp-layout-color3: var(--colab-primary-surface-color, white);\n",
       "                }\n",
       "            </style>\n",
       "            "
      ],
      "text/plain": [
       "<IPython.core.display.HTML object>"
      ]
     },
     "metadata": {},
     "output_type": "display_data"
    },
    {
     "data": {
      "application/vnd.jupyter.widget-view+json": {
       "model_id": "10e96e4e2a084f2ebb90b5af64e5bbc1",
       "version_major": 2,
       "version_minor": 0
      },
      "text/plain": [
       "Map(center=[0, 0], controls=(WidgetControl(options=['position', 'transparent_bg'], widget=SearchDataGUI(childr…"
      ]
     },
     "execution_count": 20,
     "metadata": {},
     "output_type": "execute_result"
    }
   ],
   "source": [
    "# distance = ee.Image(f\"{data_folder}/distance_mat_1km\")\n",
    "age_agbd = ee.Image(f\"{data_folder}/age_agbd\")\n",
    "one_hectare_mask = ee.Image(f\"{data_folder}/one_hectare_mask\")\n",
    "\n",
    "mature_biomass_1k = ee.Image(f\"{data_folder}/mature_biomass_1km_100m\")\n",
    "# distance = ee.Image(f\"{data_folder}/distance_mat_1km\")\n",
    "\n",
    "distance = ee.Image(f\"{data_folder}/distance_amaz_500\")\n",
    "distance = distance.updateMask(distance.lt(90000).selfMask())\n",
    "\n",
    "# mature_biomass = ee.Image(f\"{data_folder}/mature_biomass\")\n",
    "\n",
    "# point = ee.Geometry.Point(-52.24192958984864, 3.19472356067846)\n",
    "\n",
    "map = geemap.Map()\n",
    "map.addLayer(distance, {\"min\": 0, \"max\": 170000, \"palette\":[\"blue\", \"red\"]}, \"distance\")\n",
    "# map.addLayer(age_agbd.select(\"age\").updateMask(one_hectare_mask), {}, \"age_agbd\")\n",
    "# # map.addLayer(mature_biomass, {\"min\": 0, \"max\": 400, \"palette\":[\"green\", \"yellow\"]}, \"mature_biomass\")\n",
    "# map.addLayer(mature_biomass_1k, {\"min\": 0, \"max\": 400, \"palette\":[\"green\", \"yellow\"]}, \"mature_biomass_1k\")\n",
    "# # map.centerObject(point, 15)\n",
    "map"
   ]
  },
  {
   "cell_type": "code",
   "execution_count": 5,
   "id": "74ebd284",
   "metadata": {},
   "outputs": [
    {
     "data": {
      "text/html": [
       "\n",
       "            <style>\n",
       "                .geemap-dark {\n",
       "                    --jp-widgets-color: white;\n",
       "                    --jp-widgets-label-color: white;\n",
       "                    --jp-ui-font-color1: white;\n",
       "                    --jp-layout-color2: #454545;\n",
       "                    background-color: #383838;\n",
       "                }\n",
       "\n",
       "                .geemap-dark .jupyter-button {\n",
       "                    --jp-layout-color3: #383838;\n",
       "                }\n",
       "\n",
       "                .geemap-colab {\n",
       "                    background-color: var(--colab-primary-surface-color, white);\n",
       "                }\n",
       "\n",
       "                .geemap-colab .jupyter-button {\n",
       "                    --jp-layout-color3: var(--colab-primary-surface-color, white);\n",
       "                }\n",
       "            </style>\n",
       "            "
      ],
      "text/plain": [
       "<IPython.core.display.HTML object>"
      ]
     },
     "metadata": {},
     "output_type": "display_data"
    },
    {
     "data": {
      "application/vnd.jupyter.widget-view+json": {
       "model_id": "1a1ccdb05e70419ea503a5b808b5eb4a",
       "version_major": 2,
       "version_minor": 0
      },
      "text/plain": [
       "Map(center=[0.0006306135584438607, -75.32069960585136], controls=(WidgetControl(options=['position', 'transpar…"
      ]
     },
     "execution_count": 5,
     "metadata": {},
     "output_type": "execute_result"
    }
   ],
   "source": [
    "import ee\n",
    "import geemap\n",
    "\n",
    "# Authenticate to Earth Engine\n",
    "try:\n",
    "    ee.Initialize()\n",
    "except Exception as e:\n",
    "    ee.Authenticate()\n",
    "    ee.Initialize()\n",
    "\n",
    "first_year = 1985\n",
    "last_year = 2020\n",
    "\n",
    "data_folder = \"projects/amazon-forest-regrowth/assets\"\n",
    "# This collection is not publicly accessible. To sign up for access,\n",
    "# please see https://developers.planet.com/docs/integrations/gee/nicfi\n",
    "nicfi = ee.ImageCollection('projects/planet-nicfi/assets/basemaps/americas')\n",
    "\n",
    "# Filter basemaps by date and get the first image from filtered results\n",
    "basemap = nicfi.filter(ee.Filter.date('2016-03-01', '2016-07-01')).first()\n",
    "basemap2 = nicfi.filter(ee.Filter.date('2018-03-01', '2018-07-01')).first()\n",
    "basemap3 = nicfi.filter(ee.Filter.date('2020-03-01', '2020-07-01')).first()\n",
    "\n",
    "sampled_points = ee.FeatureCollection(f\"{data_folder}/15y_nn_masked_mature\")\n",
    "mature_biomass = ee.Image(f\"{data_folder}/mature_biomass\")\n",
    "mature_biomass_1km = mature_biomass.unmask(0).focalMode(kernelType=\"circle\", radius=5000, units=\"meters\").selfMask()\n",
    "\n",
    "# Visualization parameters\n",
    "vis = {'bands': ['R', 'G', 'B'], 'min': 64, 'max': 5454, 'gamma': 1.8}\n",
    "vis_biomass = {'min': 0, 'max': 300, 'palette': ['black', 'brown', 'yellow', 'green']}\n",
    "\n",
    "Map = geemap.Map()\n",
    "Map.centerObject(basemap, 4)\n",
    "# Map.addLayer(basemap, vis, '2016 mosaic')\n",
    "Map.addLayer(basemap3, vis, '2020 mosaic')\n",
    "Map.addLayer(mature_biomass, vis_biomass, \"mature_biomass\")\n",
    "Map.addLayer(mature_biomass_1km, vis_biomass, \"Mature Biomass 1k\")\n",
    "Map"
   ]
  },
  {
   "cell_type": "code",
   "execution_count": 38,
   "id": "0aa59ea3",
   "metadata": {},
   "outputs": [
    {
     "data": {
      "text/html": [
       "\n",
       "            <style>\n",
       "                .geemap-dark {\n",
       "                    --jp-widgets-color: white;\n",
       "                    --jp-widgets-label-color: white;\n",
       "                    --jp-ui-font-color1: white;\n",
       "                    --jp-layout-color2: #454545;\n",
       "                    background-color: #383838;\n",
       "                }\n",
       "\n",
       "                .geemap-dark .jupyter-button {\n",
       "                    --jp-layout-color3: #383838;\n",
       "                }\n",
       "\n",
       "                .geemap-colab {\n",
       "                    background-color: var(--colab-primary-surface-color, white);\n",
       "                }\n",
       "\n",
       "                .geemap-colab .jupyter-button {\n",
       "                    --jp-layout-color3: var(--colab-primary-surface-color, white);\n",
       "                }\n",
       "            </style>\n",
       "            "
      ],
      "text/plain": [
       "<IPython.core.display.HTML object>"
      ]
     },
     "metadata": {},
     "output_type": "display_data"
    },
    {
     "data": {
      "image/png": "[encoded data removed]",
      "text/plain": [
       "<Figure size 640x480 with 1 Axes>"
      ]
     },
     "metadata": {},
     "output_type": "display_data"
    }
   ],
   "source": [
    "import matplotlib.pyplot as plt\n",
    "\n",
    "tst = age_agbd.select('age').updateMask(land_use_15_years.select(\"last_LU\")).updateMask(one_hectare_mask)\n",
    "\n",
    "# 19, 24, 29\n",
    "histogram_ee = mature_biomass.reduceRegion(\n",
    "    geometry = tst.geometry(), reducer = ee.Reducer.histogram(), maxPixels=1e13\n",
    ")\n",
    "\n",
    "hist = histogram_ee.getInfo()\n",
    "\n",
    "# list(hist.keys())\n",
    "# Get the bin centers and bin counts\n",
    "bin_centers = hist['mature_biomass']['bucketMeans']\n",
    "bin_counts = hist['mature_biomass']['histogram']\n",
    "\n",
    "# Plot the histogram\n",
    "plt.bar(bin_centers, bin_counts, width=1)\n",
    "plt.xlabel('Age')\n",
    "plt.ylabel('Count')\n",
    "plt.title('Histogram of Ages with 5 years of land use history or less')\n",
    "plt.show()\n"
   ]
  }
 ],
 "metadata": {
  "kernelspec": {
   "display_name": "Python 3 (ipykernel)",
   "language": "python",
   "name": "python3"
  },
  "language_info": {
   "codemirror_mode": {
    "name": "ipython",
    "version": 3
   },
   "file_extension": ".py",
   "mimetype": "text/x-python",
   "name": "python",
   "nbconvert_exporter": "python",
   "pygments_lexer": "ipython3",
   "version": "3.11.9"
  }
 },
 "nbformat": 4,
 "nbformat_minor": 5
}
