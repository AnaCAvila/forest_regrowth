{
 "cells": [
  {
   "cell_type": "markdown",
   "id": "956cff3f-99f1-45ca-b0b0-90c38a6e2c08",
   "metadata": {},
   "source": [
    "# Processing the final dataset\n",
    "\n"
   ]
  },
  {
   "cell_type": "code",
   "execution_count": 1,
   "id": "a9594018-621b-427e-89d3-0633de81979a",
   "metadata": {},
   "outputs": [
    {
     "data": {
      "text/html": [
       "<p>To authorize access needed by Earth Engine, open the following\n",
       "        URL in a web browser and follow the instructions:</p>\n",
       "        <p><a href=https://code.earthengine.google.com/client-auth?scopes=https%3A//www.googleapis.com/auth/earthengine%20https%3A//www.googleapis.com/auth/cloud-platform%20https%3A//www.googleapis.com/auth/devstorage.full_control&request_id=huy_z2Iq-l_72G4EO0HK6Qpn-ZoC-ehajmgEhIIpv9s&tc=f33h07cNxQCE8rKq_CBtdBnntfyEHvr3EiGEUXgoht4&cc=UnieHlOy3OJYdIqI_lX70IFG0fztvMi3Jl1dc2_TSJc>https://code.earthengine.google.com/client-auth?scopes=https%3A//www.googleapis.com/auth/earthengine%20https%3A//www.googleapis.com/auth/cloud-platform%20https%3A//www.googleapis.com/auth/devstorage.full_control&request_id=huy_z2Iq-l_72G4EO0HK6Qpn-ZoC-ehajmgEhIIpv9s&tc=f33h07cNxQCE8rKq_CBtdBnntfyEHvr3EiGEUXgoht4&cc=UnieHlOy3OJYdIqI_lX70IFG0fztvMi3Jl1dc2_TSJc</a></p>\n",
       "        <p>The authorization workflow will generate a code, which you should paste in the box below.</p>\n",
       "        "
      ],
      "text/plain": [
       "<IPython.core.display.HTML object>"
      ]
     },
     "metadata": {},
     "output_type": "display_data"
    },
    {
     "name": "stdin",
     "output_type": "stream",
     "text": [
      "Enter verification code:  4/1AdLIrYe5IQFn48ZSR-nKLctcVuBtT00bIRWzfEa520WJHO8CMGrTCSvEpRg\n"
     ]
    },
    {
     "name": "stdout",
     "output_type": "stream",
     "text": [
      "\n",
      "Successfully saved authorization token.\n"
     ]
    }
   ],
   "source": [
    "import ee\n",
    "import geemap\n",
    "\n",
    "# Authenticate to Earth Engine\n",
    "try:\n",
    "    ee.Initialize()\n",
    "except Exception as e:\n",
    "    ee.Authenticate()\n",
    "    ee.Initialize()\n",
    "\n",
    "data_folder = \"projects/amazon-forest-regrowth/assets\""
   ]
  },
  {
   "cell_type": "code",
   "execution_count": 3,
   "id": "713f7879-6ed1-4b8c-a638-abd8fe97d0b4",
   "metadata": {},
   "outputs": [
    {
     "data": {
      "text/html": [
       "\n",
       "            <style>\n",
       "                .geemap-dark {\n",
       "                    --jp-widgets-color: white;\n",
       "                    --jp-widgets-label-color: white;\n",
       "                    --jp-ui-font-color1: white;\n",
       "                    --jp-layout-color2: #454545;\n",
       "                    background-color: #383838;\n",
       "                }\n",
       "\n",
       "                .geemap-dark .jupyter-button {\n",
       "                    --jp-layout-color3: #383838;\n",
       "                }\n",
       "\n",
       "                .geemap-colab {\n",
       "                    background-color: var(--colab-primary-surface-color, white);\n",
       "                }\n",
       "\n",
       "                .geemap-colab .jupyter-button {\n",
       "                    --jp-layout-color3: var(--colab-primary-surface-color, white);\n",
       "                }\n",
       "            </style>\n",
       "            "
      ],
      "text/plain": [
       "<IPython.core.display.HTML object>"
      ]
     },
     "metadata": {},
     "output_type": "display_data"
    }
   ],
   "source": [
    "# region of interest is Amazonia\n",
    "# roi = ee.FeatureCollection(f\"{data_folder}/biomes_br\").first().geometry()\n",
    "# For specific biomes, the feature \"CD_Bioma\" is:\n",
    "# 0 = Amazonia\n",
    "# 1 = Caatinga\n",
    "# 2 = Cerrado\n",
    "# 3 = Mata Atlantica\n",
    "# 4 = Pampa\n",
    "# 5 = Pantanal"
   ]
  },
  {
   "cell_type": "code",
   "execution_count": 30,
   "id": "f8a5841f-cb08-492d-8586-5495d8347cbc",
   "metadata": {},
   "outputs": [
    {
     "data": {
      "text/html": [
       "\n",
       "            <style>\n",
       "                .geemap-dark {\n",
       "                    --jp-widgets-color: white;\n",
       "                    --jp-widgets-label-color: white;\n",
       "                    --jp-ui-font-color1: white;\n",
       "                    --jp-layout-color2: #454545;\n",
       "                    background-color: #383838;\n",
       "                }\n",
       "\n",
       "                .geemap-dark .jupyter-button {\n",
       "                    --jp-layout-color3: #383838;\n",
       "                }\n",
       "\n",
       "                .geemap-colab {\n",
       "                    background-color: var(--colab-primary-surface-color, white);\n",
       "                }\n",
       "\n",
       "                .geemap-colab .jupyter-button {\n",
       "                    --jp-layout-color3: var(--colab-primary-surface-color, white);\n",
       "                }\n",
       "            </style>\n",
       "            "
      ],
      "text/plain": [
       "<IPython.core.display.HTML object>"
      ]
     },
     "metadata": {},
     "output_type": "display_data"
    }
   ],
   "source": [
    "age_agbd = ee.Image(f\"{data_folder}/age_agbd\")\n",
    "categorical = ee.Image(f\"{data_folder}/categorical\")\n",
    "sur_cover = ee.Image(f\"{data_folder}/sur_cover\")\n",
    "one_hectare_mask = ee.Image(f\"{data_folder}/one_hectare_mask\")\n",
    "land_use = ee.Image(f\"{data_folder}/land_use\")\n",
    "land_use_5_years = ee.Image(f\"{data_folder}/land_use_5_years\")\n",
    "land_use_10_years = ee.Image(f\"{data_folder}/land_use_10_years\")\n",
    "land_use_15_years = ee.Image(f\"{data_folder}/land_use_15_years\")\n",
    "\n",
    "zuquim_soil = ee.Image(f\"{data_folder}/raw/zuquim_amazon_soil_SB\")\n",
    "cwd = ee.Image(f\"{data_folder}/raw/cwd_chave\").float()\n",
    "yearly_mean_prec = ee.Image(f\"{data_folder}/yearly_mean_prec\")\n",
    "yearly_SI = ee.Image(f\"{data_folder}/yearly_SI\")\n",
    "\n",
    "\n",
    "# unified_data = age_agbd.addBands([land_use_10_years, cwd]).updateMask(land_use_10_years.select('last_LU')).updateMask(one_hectare_mask)\n",
    "unified_data = (\n",
    "    age_agbd.addBands(\n",
    "        [land_use_5_years, cwd, categorical, sur_cover, yearly_mean_prec, yearly_SI]\n",
    "    )\n",
    "    .updateMask(land_use_5_years.select(\"last_LU\"))\n",
    "    .updateMask(one_hectare_mask)\n",
    ")"
   ]
  },
  {
   "cell_type": "code",
   "execution_count": 31,
   "id": "df79aab8-77c2-4090-8dc1-69c3e06d8934",
   "metadata": {},
   "outputs": [
    {
     "data": {
      "text/html": [
       "\n",
       "            <style>\n",
       "                .geemap-dark {\n",
       "                    --jp-widgets-color: white;\n",
       "                    --jp-widgets-label-color: white;\n",
       "                    --jp-ui-font-color1: white;\n",
       "                    --jp-layout-color2: #454545;\n",
       "                    background-color: #383838;\n",
       "                }\n",
       "\n",
       "                .geemap-dark .jupyter-button {\n",
       "                    --jp-layout-color3: #383838;\n",
       "                }\n",
       "\n",
       "                .geemap-colab {\n",
       "                    background-color: var(--colab-primary-surface-color, white);\n",
       "                }\n",
       "\n",
       "                .geemap-colab .jupyter-button {\n",
       "                    --jp-layout-color3: var(--colab-primary-surface-color, white);\n",
       "                }\n",
       "            </style>\n",
       "            "
      ],
      "text/plain": [
       "<IPython.core.display.HTML object>"
      ]
     },
     "metadata": {},
     "output_type": "display_data"
    },
    {
     "data": {
      "application/vnd.jupyter.widget-view+json": {
       "model_id": "f7c1f0071ab042b7b49aa724e6239b75",
       "version_major": 2,
       "version_minor": 0
      },
      "text/plain": [
       "Map(center=[0, 0], controls=(WidgetControl(options=['position', 'transparent_bg'], widget=SearchDataGUI(childr…"
      ]
     },
     "execution_count": 31,
     "metadata": {},
     "output_type": "execute_result"
    }
   ],
   "source": [
    "Map = geemap.Map()\n",
    "\n",
    "# Set the map center and zoom level.\n",
    "Map.centerObject(age_agbd)\n",
    "\n",
    "# Add the layer to the map.\n",
    "Map.addLayer(unified_data.select(\"age\"))\n",
    "Map.addLayer(age_agbd.select(\"age\"))\n",
    "\n",
    "Map"
   ]
  },
  {
   "cell_type": "code",
   "execution_count": 29,
   "id": "6513269c-8deb-4d66-987a-e6f96a8f2015",
   "metadata": {},
   "outputs": [
    {
     "data": {
      "text/html": [
       "\n",
       "            <style>\n",
       "                .geemap-dark {\n",
       "                    --jp-widgets-color: white;\n",
       "                    --jp-widgets-label-color: white;\n",
       "                    --jp-ui-font-color1: white;\n",
       "                    --jp-layout-color2: #454545;\n",
       "                    background-color: #383838;\n",
       "                }\n",
       "\n",
       "                .geemap-dark .jupyter-button {\n",
       "                    --jp-layout-color3: #383838;\n",
       "                }\n",
       "\n",
       "                .geemap-colab {\n",
       "                    background-color: var(--colab-primary-surface-color, white);\n",
       "                }\n",
       "\n",
       "                .geemap-colab .jupyter-button {\n",
       "                    --jp-layout-color3: var(--colab-primary-surface-color, white);\n",
       "                }\n",
       "            </style>\n",
       "            "
      ],
      "text/plain": [
       "<IPython.core.display.HTML object>"
      ]
     },
     "metadata": {},
     "output_type": "display_data"
    }
   ],
   "source": [
    "# ## stratify sample points per feature\n",
    "# stratified = final.stratifiedSample(\n",
    "#     numPoints = 10000,\n",
    "#     classBand = 'ecoreg',\n",
    "#     geometries = True\n",
    "# )\n",
    "\n",
    "unified_data_fc = unified_data.reduceRegion(\n",
    "    geometry=unified_data.geometry(), reducer=ee.Reducer.first()\n",
    ")\n",
    "\n",
    "# Export an ee.FeatureCollection as an Earth Engine asset.\n",
    "task = ee.batch.Export.table.toDrive(\n",
    "    collection=unified_data_fc, description=\"unified_data\"\n",
    ")\n",
    "task.start()"
   ]
  },
  {
   "cell_type": "code",
   "execution_count": 31,
   "id": "dcd7f0d1-a1a2-4712-98f9-041c013f73e7",
   "metadata": {},
   "outputs": [
    {
     "data": {
      "text/html": [
       "\n",
       "            <style>\n",
       "                .geemap-dark {\n",
       "                    --jp-widgets-color: white;\n",
       "                    --jp-widgets-label-color: white;\n",
       "                    --jp-ui-font-color1: white;\n",
       "                    --jp-layout-color2: #454545;\n",
       "                    background-color: #383838;\n",
       "                }\n",
       "\n",
       "                .geemap-dark .jupyter-button {\n",
       "                    --jp-layout-color3: #383838;\n",
       "                }\n",
       "\n",
       "                .geemap-colab {\n",
       "                    background-color: var(--colab-primary-surface-color, white);\n",
       "                }\n",
       "\n",
       "                .geemap-colab .jupyter-button {\n",
       "                    --jp-layout-color3: var(--colab-primary-surface-color, white);\n",
       "                }\n",
       "            </style>\n",
       "            "
      ],
      "text/plain": [
       "<IPython.core.display.HTML object>"
      ]
     },
     "metadata": {},
     "output_type": "display_data"
    }
   ],
   "source": [
    "img = unified_data\n",
    "name = \"unified_data\"\n",
    "\n",
    "# Create the export task\n",
    "task = ee.batch.Export.image.toDrive(\n",
    "    image=img,\n",
    "    description=f\"{name}\",\n",
    "    crs=\"EPSG:4326\",\n",
    "    maxPixels=4e12,\n",
    "    region=img.geometry(),\n",
    ")\n",
    "\n",
    "# Start the export task\n",
    "task.start()"
   ]
  },
  {
   "cell_type": "code",
   "execution_count": 24,
   "id": "0b51be2c-b6a6-4e0f-bb8e-99f0caf20076",
   "metadata": {},
   "outputs": [
    {
     "data": {
      "text/html": [
       "\n",
       "            <style>\n",
       "                .geemap-dark {\n",
       "                    --jp-widgets-color: white;\n",
       "                    --jp-widgets-label-color: white;\n",
       "                    --jp-ui-font-color1: white;\n",
       "                    --jp-layout-color2: #454545;\n",
       "                    background-color: #383838;\n",
       "                }\n",
       "\n",
       "                .geemap-dark .jupyter-button {\n",
       "                    --jp-layout-color3: #383838;\n",
       "                }\n",
       "\n",
       "                .geemap-colab {\n",
       "                    background-color: var(--colab-primary-surface-color, white);\n",
       "                }\n",
       "\n",
       "                .geemap-colab .jupyter-button {\n",
       "                    --jp-layout-color3: var(--colab-primary-surface-color, white);\n",
       "                }\n",
       "            </style>\n",
       "            "
      ],
      "text/plain": [
       "<IPython.core.display.HTML object>"
      ]
     },
     "metadata": {},
     "output_type": "display_data"
    }
   ],
   "source": [
    "# # Select the WORLDCLIM dataset and specifically the 'bio01' band which represents annual mean temperature.\n",
    "# dataset = ee.Image('WORLDCLIM/V1/BIO')\n",
    "# annual_mean_temperature = dataset.select('bio15').multiply(0.1)\n",
    "# https://developers.google.com/earth-engine/datasets/catalog/WORLDCLIM_V1_BIO#bands\n",
    "# # # Define visualization parameters.\n",
    "# # vis_params = {\n",
    "# #     'min': 0,\n",
    "# #     'max': 15,\n",
    "# #     'palette': ['blue', 'purple', 'cyan', 'green', 'yellow', 'red']\n",
    "# # }\n",
    "\n",
    "\n",
    "# # Map = geemap.Map()\n",
    "\n",
    "# # # Set the map center and zoom level.\n",
    "# # Map.centerObject(age_agbd)\n",
    "\n",
    "# # # Add the layer to the map.\n",
    "# # Map.addLayer(annual_mean_temperature, vis_params, 'Annual Mean Temperature')\n",
    "# # Map"
   ]
  }
 ],
 "metadata": {
  "kernelspec": {
   "display_name": "Python 3 (ipykernel)",
   "language": "python",
   "name": "python3"
  },
  "language_info": {
   "codemirror_mode": {
    "name": "ipython",
    "version": 3
   },
   "file_extension": ".py",
   "mimetype": "text/x-python",
   "name": "python",
   "nbconvert_exporter": "python",
   "pygments_lexer": "ipython3",
   "version": "3.12.3"
  }
 },
 "nbformat": 4,
 "nbformat_minor": 5
}
