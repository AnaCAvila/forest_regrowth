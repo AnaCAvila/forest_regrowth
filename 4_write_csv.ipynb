{
 "cells": [
  {
   "cell_type": "markdown",
   "id": "956cff3f-99f1-45ca-b0b0-90c38a6e2c08",
   "metadata": {},
   "source": [
    "# Processing the final dataset\n",
    "\n"
   ]
  },
  {
   "cell_type": "code",
   "execution_count": 1,
   "id": "a9594018-621b-427e-89d3-0633de81979a",
   "metadata": {},
   "outputs": [],
   "source": [
    "import ee\n",
    "import geemap\n",
    "\n",
    "# Authenticate to Earth Engine\n",
    "try:\n",
    "  ee.Initialize(project='ee-ana-zonia')\n",
    "except Exception as e:\n",
    "  ee.Authenticate()\n",
    "  ee.Initialize(project='ee-ana-zonia')\n",
    "\n",
    "from utils import export_image\n",
    "from utils import map_image"
   ]
  },
  {
   "cell_type": "code",
   "execution_count": 57,
   "id": "713f7879-6ed1-4b8c-a638-abd8fe97d0b4",
   "metadata": {},
   "outputs": [
    {
     "data": {
      "text/html": [
       "\n",
       "            <style>\n",
       "                .geemap-dark {\n",
       "                    --jp-widgets-color: white;\n",
       "                    --jp-widgets-label-color: white;\n",
       "                    --jp-ui-font-color1: white;\n",
       "                    --jp-layout-color2: #454545;\n",
       "                    background-color: #383838;\n",
       "                }\n",
       "                    \n",
       "                .geemap-dark .jupyter-button {\n",
       "                    --jp-layout-color3: #383838;\n",
       "                }\n",
       "                \n",
       "                .geemap-colab {\n",
       "                    background-color: var(--colab-primary-surface-color, white);\n",
       "                }\n",
       "                    \n",
       "                .geemap-colab .jupyter-button {\n",
       "                    --jp-layout-color3: var(--colab-primary-surface-color, white);\n",
       "                }\n",
       "            </style>\n",
       "            "
      ],
      "text/plain": [
       "<IPython.core.display.HTML object>"
      ]
     },
     "metadata": {},
     "output_type": "display_data"
    }
   ],
   "source": [
    "# region of interest is Amazonia\n",
    "roi = ee.FeatureCollection(\"projects/ee-ana-zonia/assets/raw/biomes_ibge\").first().geometry()\n",
    "# For specific biomes, the feature \"id\" is:\n",
    "    # 18413 = Amazon\n",
    "    # 18414 = Caatinga\n",
    "    # 18415 = Cerrado\n",
    "    # 18416 = Mata Atlantica\n",
    "    # 18417 = Pampa\n",
    "    # 18418 = Pantanal"
   ]
  },
  {
   "cell_type": "code",
   "execution_count": 106,
   "id": "f8a5841f-cb08-492d-8586-5495d8347cbc",
   "metadata": {},
   "outputs": [
    {
     "data": {
      "text/html": [
       "\n",
       "            <style>\n",
       "                .geemap-dark {\n",
       "                    --jp-widgets-color: white;\n",
       "                    --jp-widgets-label-color: white;\n",
       "                    --jp-ui-font-color1: white;\n",
       "                    --jp-layout-color2: #454545;\n",
       "                    background-color: #383838;\n",
       "                }\n",
       "                    \n",
       "                .geemap-dark .jupyter-button {\n",
       "                    --jp-layout-color3: #383838;\n",
       "                }\n",
       "                \n",
       "                .geemap-colab {\n",
       "                    background-color: var(--colab-primary-surface-color, white);\n",
       "                }\n",
       "                    \n",
       "                .geemap-colab .jupyter-button {\n",
       "                    --jp-layout-color3: var(--colab-primary-surface-color, white);\n",
       "                }\n",
       "            </style>\n",
       "            "
      ],
      "text/plain": [
       "<IPython.core.display.HTML object>"
      ]
     },
     "metadata": {},
     "output_type": "display_data"
    },
    {
     "ename": "NameError",
     "evalue": "name 'lulc' is not defined",
     "output_type": "error",
     "traceback": [
      "\u001b[1;31m---------------------------------------------------------------------------\u001b[0m",
      "\u001b[1;31mNameError\u001b[0m                                 Traceback (most recent call last)",
      "Cell \u001b[1;32mIn[106], line 25\u001b[0m\n\u001b[0;32m     22\u001b[0m biomass \u001b[38;5;241m=\u001b[39m ee\u001b[38;5;241m.\u001b[39mImage(\u001b[38;5;124m'\u001b[39m\u001b[38;5;124mprojects/ee-ana-zonia/assets/biomass_masked\u001b[39m\u001b[38;5;124m'\u001b[39m)\n\u001b[0;32m     23\u001b[0m total_export \u001b[38;5;241m=\u001b[39m categorical\u001b[38;5;241m.\u001b[39maddBands([land_use, climate, biomass])\u001b[38;5;241m.\u001b[39mupdateMask(mask)\n\u001b[1;32m---> 25\u001b[0m nat_cover \u001b[38;5;241m=\u001b[39m \u001b[43mlulc\u001b[49m\u001b[38;5;241m.\u001b[39mselect(\u001b[38;5;124m'\u001b[39m\u001b[38;5;124mclassification_1985\u001b[39m\u001b[38;5;124m'\u001b[39m)\u001b[38;5;241m.\u001b[39mupdateMask((lulc\u001b[38;5;241m.\u001b[39mneq(\u001b[38;5;241m1\u001b[39m)\u001b[38;5;241m.\u001b[39mneq(\u001b[38;5;241m4\u001b[39m))\u001b[38;5;241m.\u001b[39mneq(\u001b[38;5;241m5\u001b[39m))\u001b[38;5;241m.\u001b[39mlt(\u001b[38;5;241m7\u001b[39m)\n\u001b[0;32m     26\u001b[0m total_export \u001b[38;5;241m=\u001b[39m total_export\u001b[38;5;241m.\u001b[39mupdateMask(nat_cover)\n",
      "\u001b[1;31mNameError\u001b[0m: name 'lulc' is not defined"
     ]
    }
   ],
   "source": [
    "LU_sum = ee.Image('projects/ee-ana-zonia/assets/LU_sum')\n",
    "fallow = ee.Image('projects/ee-ana-zonia/assets/fallow')\n",
    "last_fire = ee.Image('projects/ee-ana-zonia/assets/last_fire')\n",
    "num_fires = ee.Image('projects/ee-ana-zonia/assets/num_fires')\n",
    "frag = ee.Image('projects/ee-ana-zonia/assets/frag_2020')\n",
    "med_mat = ee.Image('projects/ee-ana-zonia/assets/median_mature')\n",
    "last_LU = ee.Image('projects/ee-ana-zonia/assets/last_LU')\n",
    "\n",
    "land_use = LU_sum.addBands([last_LU, fallow, last_fire, num_fires, frag, med_mat])\n",
    "\n",
    "ecoreg = ee.Image(\"projects/ee-ana-zonia/assets/ecoregions_br\")\n",
    "indig = ee.Image(\"projects/ee-ana-zonia/assets/indig\")\n",
    "soil = ee.Image(\"projects/ee-ana-zonia/assets/soil\")\n",
    "protec = ee.Image(\"projects/ee-ana-zonia/assets/protec\")\n",
    "biomes = ee.Image(\"projects/ee-ana-zonia/assets/biome_br\")\n",
    "categorical = ecoreg.addBands([indig, soil, protec, biomes])\n",
    "\n",
    "yearly_si = ee.Image(\"projects/ee-ana-zonia/assets/yearly_si\").float()\n",
    "mean_prec = ee.Image(\"projects/ee-ana-zonia/assets/mean_prec\").float()\n",
    "cwd = ee.Image(\"projects/ee-ana-zonia/assets/raw/cwd_chave\").float()\n",
    "climate = yearly_si.addBands([mean_prec])\n",
    "\n",
    "biomass = ee.Image('projects/ee-ana-zonia/assets/biomass_masked')\n",
    "total_export = categorical.addBands([land_use, climate, biomass]).updateMask(mask)\n",
    "\n",
    "nat_cover = lulc.select('classification_1985').updateMask((lulc.neq(1).neq(4)).neq(5)).lt(7)\n",
    "total_export = total_export.updateMask(nat_cover)"
   ]
  },
  {
   "cell_type": "code",
   "execution_count": 61,
   "id": "dcd7f0d1-a1a2-4712-98f9-041c013f73e7",
   "metadata": {},
   "outputs": [
    {
     "data": {
      "text/html": [
       "\n",
       "            <style>\n",
       "                .geemap-dark {\n",
       "                    --jp-widgets-color: white;\n",
       "                    --jp-widgets-label-color: white;\n",
       "                    --jp-ui-font-color1: white;\n",
       "                    --jp-layout-color2: #454545;\n",
       "                    background-color: #383838;\n",
       "                }\n",
       "                    \n",
       "                .geemap-dark .jupyter-button {\n",
       "                    --jp-layout-color3: #383838;\n",
       "                }\n",
       "                \n",
       "                .geemap-colab {\n",
       "                    background-color: var(--colab-primary-surface-color, white);\n",
       "                }\n",
       "                    \n",
       "                .geemap-colab .jupyter-button {\n",
       "                    --jp-layout-color3: var(--colab-primary-surface-color, white);\n",
       "                }\n",
       "            </style>\n",
       "            "
      ],
      "text/plain": [
       "<IPython.core.display.HTML object>"
      ]
     },
     "metadata": {},
     "output_type": "display_data"
    }
   ],
   "source": [
    "img = total_export\n",
    "name = \"total_export\"\n",
    "\n",
    "# Create the export task\n",
    "task = ee.batch.Export.image.toAsset(\n",
    "    image = img,\n",
    "    description = f'{name}',\n",
    "    assetId = f'projects/ee-ana-zonia/assets/{name}',\n",
    "    crs = 'EPSG:4326',\n",
    "    crsTransform = \n",
    "    maxPixels = 4e12,\n",
    "    region=img.geometry()\n",
    ")\n",
    "\n",
    "# Start the export task\n",
    "task.start()"
   ]
  },
  {
   "cell_type": "code",
   "execution_count": 102,
   "id": "17274e78-0e1d-41df-87ff-08a3c2309f75",
   "metadata": {},
   "outputs": [
    {
     "data": {
      "text/html": [
       "\n",
       "            <style>\n",
       "                .geemap-dark {\n",
       "                    --jp-widgets-color: white;\n",
       "                    --jp-widgets-label-color: white;\n",
       "                    --jp-ui-font-color1: white;\n",
       "                    --jp-layout-color2: #454545;\n",
       "                    background-color: #383838;\n",
       "                }\n",
       "                    \n",
       "                .geemap-dark .jupyter-button {\n",
       "                    --jp-layout-color3: #383838;\n",
       "                }\n",
       "                \n",
       "                .geemap-colab {\n",
       "                    background-color: var(--colab-primary-surface-color, white);\n",
       "                }\n",
       "                    \n",
       "                .geemap-colab .jupyter-button {\n",
       "                    --jp-layout-color3: var(--colab-primary-surface-color, white);\n",
       "                }\n",
       "            </style>\n",
       "            "
      ],
      "text/plain": [
       "<IPython.core.display.HTML object>"
      ]
     },
     "metadata": {},
     "output_type": "display_data"
    }
   ],
   "source": [
    "## stratify sample points per feature\n",
    "stratified = final.stratifiedSample(\n",
    "    numPoints = 10000,\n",
    "    classBand = 'ecoreg',\n",
    "    geometries = True\n",
    ")\n",
    "\n",
    "# Export an ee.FeatureCollection as an Earth Engine asset.\n",
    "task = ee.batch.Export.table.toDrive(\n",
    "    collection=stratified,\n",
    "    description='final_w_biomass'\n",
    ")\n",
    "task.start()\n"
   ]
  },
  {
   "cell_type": "code",
   "execution_count": 2,
   "id": "f9535f6b-933c-4daf-a760-fcecfe16f972",
   "metadata": {},
   "outputs": [
    {
     "data": {
      "text/html": [
       "\n",
       "            <style>\n",
       "                .geemap-dark {\n",
       "                    --jp-widgets-color: white;\n",
       "                    --jp-widgets-label-color: white;\n",
       "                    --jp-ui-font-color1: white;\n",
       "                    --jp-layout-color2: #454545;\n",
       "                    background-color: #383838;\n",
       "                }\n",
       "                    \n",
       "                .geemap-dark .jupyter-button {\n",
       "                    --jp-layout-color3: #383838;\n",
       "                }\n",
       "                \n",
       "                .geemap-colab {\n",
       "                    background-color: var(--colab-primary-surface-color, white);\n",
       "                }\n",
       "                    \n",
       "                .geemap-colab .jupyter-button {\n",
       "                    --jp-layout-color3: var(--colab-primary-surface-color, white);\n",
       "                }\n",
       "            </style>\n",
       "            "
      ],
      "text/plain": [
       "<IPython.core.display.HTML object>"
      ]
     },
     "metadata": {},
     "output_type": "display_data"
    }
   ],
   "source": [
    "# Load a landsat image and select three bands.\n",
    "landsat = ee.Image('LANDSAT/LC08/C02/T1_TOA/LC08_123032_20140515').select(\n",
    "    ['B4', 'B3', 'B2']\n",
    ")\n",
    "\n",
    "# Create a geometry representing an export region.\n",
    "geometry = ee.Geometry.Rectangle([116.2621, 39.8412, 116.4849, 40.01236])\n",
    "\n",
    "\n",
    "# Retrieve the projection information from a band of the original image.\n",
    "# Call getInfo() on the projection to request a client-side object containing\n",
    "# the crs and transform information needed for the client-side Export function.\n",
    "projection = landsat.select('B2').projection().getInfo()\n",
    "\n",
    "# Export the image, specifying the CRS, transform, and region.\n",
    "task = ee.batch.Export.image.toDrive(\n",
    "    image=landsat,\n",
    "    description='imageToDriveExample_transform',\n",
    "    crs=projection['crs'],\n",
    "    crsTransform=projection['transform'],\n",
    "    region=geometry,\n",
    ")\n",
    "task.start()"
   ]
  }
 ],
 "metadata": {
  "kernelspec": {
   "display_name": "Python 3 (ipykernel)",
   "language": "python",
   "name": "python3"
  },
  "language_info": {
   "codemirror_mode": {
    "name": "ipython",
    "version": 3
   },
   "file_extension": ".py",
   "mimetype": "text/x-python",
   "name": "python",
   "nbconvert_exporter": "python",
   "pygments_lexer": "ipython3",
   "version": "3.11.5"
  }
 },
 "nbformat": 4,
 "nbformat_minor": 5
}
