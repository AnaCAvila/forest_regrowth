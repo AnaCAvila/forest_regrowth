{
 "cells": [
  {
   "cell_type": "markdown",
   "id": "956cff3f-99f1-45ca-b0b0-90c38a6e2c08",
   "metadata": {},
   "source": [
    "# Processing the final dataset\n",
    "\n"
   ]
  },
  {
   "cell_type": "code",
   "execution_count": 1,
   "id": "a9594018-621b-427e-89d3-0633de81979a",
   "metadata": {},
   "outputs": [
    {
     "ename": "ModuleNotFoundError",
     "evalue": "No module named 'ee'",
     "output_type": "error",
     "traceback": [
      "\u001b[1;31m---------------------------------------------------------------------------\u001b[0m",
      "\u001b[1;31mModuleNotFoundError\u001b[0m                       Traceback (most recent call last)",
      "Cell \u001b[1;32mIn[1], line 1\u001b[0m\n\u001b[1;32m----> 1\u001b[0m \u001b[38;5;28;01mimport\u001b[39;00m \u001b[38;5;21;01mee\u001b[39;00m\n\u001b[0;32m      2\u001b[0m \u001b[38;5;28;01mimport\u001b[39;00m \u001b[38;5;21;01mgeemap\u001b[39;00m\n\u001b[0;32m      4\u001b[0m \u001b[38;5;66;03m# Authenticate to Earth Engine\u001b[39;00m\n",
      "\u001b[1;31mModuleNotFoundError\u001b[0m: No module named 'ee'"
     ]
    }
   ],
   "source": [
    "import ee\n",
    "import geemap\n",
    "\n",
    "# Authenticate to Earth Engine\n",
    "try:\n",
    "  ee.Initialize()\n",
    "except Exception as e:\n",
    "  ee.Authenticate()\n",
    "  ee.Initialize()\n",
    "\n",
    "data_folder = 'projects/amazon-forest-regrowth/assets'\n"
   ]
  },
  {
   "cell_type": "code",
   "execution_count": 3,
   "id": "713f7879-6ed1-4b8c-a638-abd8fe97d0b4",
   "metadata": {},
   "outputs": [
    {
     "data": {
      "text/html": [
       "\n",
       "            <style>\n",
       "                .geemap-dark {\n",
       "                    --jp-widgets-color: white;\n",
       "                    --jp-widgets-label-color: white;\n",
       "                    --jp-ui-font-color1: white;\n",
       "                    --jp-layout-color2: #454545;\n",
       "                    background-color: #383838;\n",
       "                }\n",
       "\n",
       "                .geemap-dark .jupyter-button {\n",
       "                    --jp-layout-color3: #383838;\n",
       "                }\n",
       "\n",
       "                .geemap-colab {\n",
       "                    background-color: var(--colab-primary-surface-color, white);\n",
       "                }\n",
       "\n",
       "                .geemap-colab .jupyter-button {\n",
       "                    --jp-layout-color3: var(--colab-primary-surface-color, white);\n",
       "                }\n",
       "            </style>\n",
       "            "
      ],
      "text/plain": [
       "<IPython.core.display.HTML object>"
      ]
     },
     "metadata": {},
     "output_type": "display_data"
    }
   ],
   "source": [
    "# region of interest is Amazonia\n",
    "# roi = ee.FeatureCollection(f\"{data_folder}/biomes_br\").first().geometry()\n",
    "# For specific biomes, the feature \"CD_Bioma\" is:\n",
    "    # 0 = Amazonia\n",
    "    # 1 = Caatinga\n",
    "    # 2 = Cerrado\n",
    "    # 3 = Mata Atlantica\n",
    "    # 4 = Pampa\n",
    "    # 5 = Pantanal"
   ]
  },
  {
   "cell_type": "code",
   "execution_count": 26,
   "id": "f8a5841f-cb08-492d-8586-5495d8347cbc",
   "metadata": {},
   "outputs": [
    {
     "data": {
      "text/html": [
       "\n",
       "            <style>\n",
       "                .geemap-dark {\n",
       "                    --jp-widgets-color: white;\n",
       "                    --jp-widgets-label-color: white;\n",
       "                    --jp-ui-font-color1: white;\n",
       "                    --jp-layout-color2: #454545;\n",
       "                    background-color: #383838;\n",
       "                }\n",
       "\n",
       "                .geemap-dark .jupyter-button {\n",
       "                    --jp-layout-color3: #383838;\n",
       "                }\n",
       "\n",
       "                .geemap-colab {\n",
       "                    background-color: var(--colab-primary-surface-color, white);\n",
       "                }\n",
       "\n",
       "                .geemap-colab .jupyter-button {\n",
       "                    --jp-layout-color3: var(--colab-primary-surface-color, white);\n",
       "                }\n",
       "            </style>\n",
       "            "
      ],
      "text/plain": [
       "<IPython.core.display.HTML object>"
      ]
     },
     "metadata": {},
     "output_type": "display_data"
    }
   ],
   "source": [
    "age_agbd = ee.Image(f\"{data_folder}/age_agbd\")\n",
    "categorical = ee.Image(f\"{data_folder}/categorical\")\n",
    "sur_cover = ee.Image(f\"{data_folder}/sur_cover\")\n",
    "one_hectare_mask = ee.Image(f\"{data_folder}/one_hectare_mask\")\n",
    "land_use = ee.Image(f\"{data_folder}/land_use\")\n",
    "land_use_5_years = ee.Image(f\"{data_folder}/land_use_5_years\")\n",
    "land_use_10_years = ee.Image(f\"{data_folder}/land_use_10_years\")\n",
    "land_use_15_years = ee.Image(f\"{data_folder}/land_use_15_years\")\n",
    "\n",
    "zuquim_soil = ee.Image(f\"{data_folder}/raw/zuquim_amazon_soil_SB\")\n",
    "cwd = ee.Image(f\"{data_folder}/raw/cwd_chave\").float()\n",
    "\n",
    "# unified_data = age_agbd.addBands([land_use_10_years, cwd]).updateMask(land_use_10_years.select('last_LU')).updateMask(one_hectare_mask)\n",
    "unified_data = age_agbd.addBands([land_use, cwd, categorical, sur_cover]).updateMask(land_use.select('last_LU')).updateMask(one_hectare_mask)\n",
    "\n"
   ]
  },
  {
   "cell_type": "code",
   "execution_count": null,
   "id": "6513269c-8deb-4d66-987a-e6f96a8f2015",
   "metadata": {},
   "outputs": [],
   "source": [
    "\n",
    "# ## stratify sample points per feature\n",
    "# stratified = final.stratifiedSample(\n",
    "#     numPoints = 10000,\n",
    "#     classBand = 'ecoreg',\n",
    "#     geometries = True\n",
    "# )\n",
    "\n",
    "\n",
    "unified_data_fc = unified_data.sample(\n",
    "    region = unified_data.geometry()\n",
    ")\n",
    "\n",
    "# Export an ee.FeatureCollection as an Earth Engine asset.\n",
    "task = ee.batch.Export.table.toDrive(\n",
    "    collection=unified_data_fc,\n",
    "    description='unified_data'\n",
    ")\n",
    "task.start()\n"
   ]
  },
  {
   "cell_type": "code",
   "execution_count": 31,
   "id": "dcd7f0d1-a1a2-4712-98f9-041c013f73e7",
   "metadata": {},
   "outputs": [
    {
     "data": {
      "text/html": [
       "\n",
       "            <style>\n",
       "                .geemap-dark {\n",
       "                    --jp-widgets-color: white;\n",
       "                    --jp-widgets-label-color: white;\n",
       "                    --jp-ui-font-color1: white;\n",
       "                    --jp-layout-color2: #454545;\n",
       "                    background-color: #383838;\n",
       "                }\n",
       "\n",
       "                .geemap-dark .jupyter-button {\n",
       "                    --jp-layout-color3: #383838;\n",
       "                }\n",
       "\n",
       "                .geemap-colab {\n",
       "                    background-color: var(--colab-primary-surface-color, white);\n",
       "                }\n",
       "\n",
       "                .geemap-colab .jupyter-button {\n",
       "                    --jp-layout-color3: var(--colab-primary-surface-color, white);\n",
       "                }\n",
       "            </style>\n",
       "            "
      ],
      "text/plain": [
       "<IPython.core.display.HTML object>"
      ]
     },
     "metadata": {},
     "output_type": "display_data"
    }
   ],
   "source": [
    "img = unified_data\n",
    "name = \"unified_data\"\n",
    "\n",
    "# Create the export task\n",
    "task = ee.batch.Export.image.toDrive(\n",
    "    image = img,\n",
    "    description = f'{name}',\n",
    "    crs = 'EPSG:4326',\n",
    "    maxPixels = 4e12,\n",
    "    region=img.geometry()\n",
    ")\n",
    "\n",
    "# Start the export task\n",
    "task.start()"
   ]
  },
  {
   "cell_type": "code",
   "execution_count": 14,
   "id": "17274e78-0e1d-41df-87ff-08a3c2309f75",
   "metadata": {},
   "outputs": [
    {
     "data": {
      "text/html": [
       "\n",
       "            <style>\n",
       "                .geemap-dark {\n",
       "                    --jp-widgets-color: white;\n",
       "                    --jp-widgets-label-color: white;\n",
       "                    --jp-ui-font-color1: white;\n",
       "                    --jp-layout-color2: #454545;\n",
       "                    background-color: #383838;\n",
       "                }\n",
       "\n",
       "                .geemap-dark .jupyter-button {\n",
       "                    --jp-layout-color3: #383838;\n",
       "                }\n",
       "\n",
       "                .geemap-colab {\n",
       "                    background-color: var(--colab-primary-surface-color, white);\n",
       "                }\n",
       "\n",
       "                .geemap-colab .jupyter-button {\n",
       "                    --jp-layout-color3: var(--colab-primary-surface-color, white);\n",
       "                }\n",
       "            </style>\n",
       "            "
      ],
      "text/plain": [
       "<IPython.core.display.HTML object>"
      ]
     },
     "metadata": {},
     "output_type": "display_data"
    }
   ],
   "source": [
    "# ## stratify sample points per feature\n",
    "# stratified = final.stratifiedSample(\n",
    "#     numPoints = 10000,\n",
    "#     classBand = 'ecoreg',\n",
    "#     geometries = True\n",
    "# )\n",
    "\n",
    "unified_data_fc = unified_data.sample(\n",
    "    region = unified_data.geometry()\n",
    ")\n",
    "\n",
    "# Export an ee.FeatureCollection as an Earth Engine asset.\n",
    "task = ee.batch.Export.table.toDrive(\n",
    "    collection=unified_data_fc,\n",
    "    description='unified_data_10_years'\n",
    ")\n",
    "task.start()\n"
   ]
  }
 ],
 "metadata": {
  "kernelspec": {
   "display_name": "Python 3 (ipykernel)",
   "language": "python",
   "name": "python3"
  },
  "language_info": {
   "codemirror_mode": {
    "name": "ipython",
    "version": 3
   },
   "file_extension": ".py",
   "mimetype": "text/x-python",
   "name": "python",
   "nbconvert_exporter": "python",
   "pygments_lexer": "ipython3",
   "version": "3.12.0"
  }
 },
 "nbformat": 4,
 "nbformat_minor": 5
}
