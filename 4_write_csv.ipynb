{
 "cells": [
  {
   "cell_type": "markdown",
   "id": "956cff3f-99f1-45ca-b0b0-90c38a6e2c08",
   "metadata": {},
   "source": [
    "# Processing the final dataset\n",
    "\n"
   ]
  },
  {
   "cell_type": "code",
   "execution_count": 1,
   "id": "a9594018-621b-427e-89d3-0633de81979a",
   "metadata": {},
   "outputs": [
    {
     "name": "stdout",
     "output_type": "stream",
     "text": [
      "Please restart Jupyter kernel after installation if you encounter any errors when importing geemap.\n"
     ]
    },
    {
     "ename": "ModuleNotFoundError",
     "evalue": "No module named 'pkg_resources'",
     "output_type": "error",
     "traceback": [
      "\u001b[0;31m---------------------------------------------------------------------------\u001b[0m",
      "\u001b[0;31mModuleNotFoundError\u001b[0m                       Traceback (most recent call last)",
      "Cell \u001b[0;32mIn[1], line 2\u001b[0m\n\u001b[1;32m      1\u001b[0m \u001b[38;5;28;01mimport\u001b[39;00m \u001b[38;5;21;01mee\u001b[39;00m\n\u001b[0;32m----> 2\u001b[0m \u001b[38;5;28;01mimport\u001b[39;00m \u001b[38;5;21;01mgeemap\u001b[39;00m\n\u001b[1;32m      4\u001b[0m \u001b[38;5;66;03m# Authenticate to Earth Engine\u001b[39;00m\n\u001b[1;32m      5\u001b[0m \u001b[38;5;28;01mtry\u001b[39;00m:\n",
      "File \u001b[0;32m~/Documents/forest_regrowth/forest_env/lib64/python3.12/site-packages/geemap/__init__.py:55\u001b[0m\n\u001b[1;32m     51\u001b[0m         \u001b[38;5;28;01melse\u001b[39;00m:\n\u001b[1;32m     52\u001b[0m             \u001b[38;5;28mprint\u001b[39m(\n\u001b[1;32m     53\u001b[0m                 \u001b[38;5;124m\"\u001b[39m\u001b[38;5;124mPlease restart Jupyter kernel after installation if you encounter any errors when importing geemap.\u001b[39m\u001b[38;5;124m\"\u001b[39m\n\u001b[1;32m     54\u001b[0m             )\n\u001b[0;32m---> 55\u001b[0m         \u001b[38;5;28;01mraise\u001b[39;00m e\n\u001b[1;32m     57\u001b[0m \u001b[38;5;28;01mif\u001b[39;00m _use_eerepr():\n\u001b[1;32m     58\u001b[0m     \u001b[38;5;28;01mimport\u001b[39;00m \u001b[38;5;21;01meerepr\u001b[39;00m\n",
      "File \u001b[0;32m~/Documents/forest_regrowth/forest_env/lib64/python3.12/site-packages/geemap/__init__.py:45\u001b[0m\n\u001b[1;32m     43\u001b[0m \u001b[38;5;28;01melse\u001b[39;00m:\n\u001b[1;32m     44\u001b[0m     \u001b[38;5;28;01mtry\u001b[39;00m:\n\u001b[0;32m---> 45\u001b[0m         \u001b[38;5;28;01mfrom\u001b[39;00m \u001b[38;5;21;01m.\u001b[39;00m\u001b[38;5;21;01mgeemap\u001b[39;00m \u001b[38;5;28;01mimport\u001b[39;00m \u001b[38;5;241m*\u001b[39m\n\u001b[1;32m     46\u001b[0m     \u001b[38;5;28;01mexcept\u001b[39;00m \u001b[38;5;167;01mException\u001b[39;00m \u001b[38;5;28;01mas\u001b[39;00m e:\n\u001b[1;32m     47\u001b[0m         \u001b[38;5;28;01mif\u001b[39;00m in_colab_shell():\n",
      "File \u001b[0;32m~/Documents/forest_regrowth/forest_env/lib64/python3.12/site-packages/geemap/geemap.py:28\u001b[0m\n\u001b[1;32m     26\u001b[0m \u001b[38;5;28;01mfrom\u001b[39;00m \u001b[38;5;21;01m.\u001b[39;00m\u001b[38;5;21;01mbasemaps\u001b[39;00m \u001b[38;5;28;01mimport\u001b[39;00m get_xyz_dict, xyz_to_leaflet\n\u001b[1;32m     27\u001b[0m \u001b[38;5;28;01mfrom\u001b[39;00m \u001b[38;5;21;01m.\u001b[39;00m\u001b[38;5;21;01mcommon\u001b[39;00m \u001b[38;5;28;01mimport\u001b[39;00m \u001b[38;5;241m*\u001b[39m\n\u001b[0;32m---> 28\u001b[0m \u001b[38;5;28;01mfrom\u001b[39;00m \u001b[38;5;21;01m.\u001b[39;00m\u001b[38;5;21;01mconversion\u001b[39;00m \u001b[38;5;28;01mimport\u001b[39;00m \u001b[38;5;241m*\u001b[39m\n\u001b[1;32m     29\u001b[0m \u001b[38;5;28;01mfrom\u001b[39;00m \u001b[38;5;21;01m.\u001b[39;00m\u001b[38;5;21;01mee_tile_layers\u001b[39;00m \u001b[38;5;28;01mimport\u001b[39;00m \u001b[38;5;241m*\u001b[39m\n\u001b[1;32m     30\u001b[0m \u001b[38;5;28;01mfrom\u001b[39;00m \u001b[38;5;21;01m.\u001b[39;00m \u001b[38;5;28;01mimport\u001b[39;00m core\n",
      "File \u001b[0;32m~/Documents/forest_regrowth/forest_env/lib64/python3.12/site-packages/geemap/conversion.py:22\u001b[0m\n\u001b[1;32m     19\u001b[0m \u001b[38;5;28;01mfrom\u001b[39;00m \u001b[38;5;21;01mcollections\u001b[39;00m \u001b[38;5;28;01mimport\u001b[39;00m deque\n\u001b[1;32m     20\u001b[0m \u001b[38;5;28;01mfrom\u001b[39;00m \u001b[38;5;21;01mpathlib\u001b[39;00m \u001b[38;5;28;01mimport\u001b[39;00m Path\n\u001b[0;32m---> 22\u001b[0m \u001b[38;5;28;01mimport\u001b[39;00m \u001b[38;5;21;01mpkg_resources\u001b[39;00m\n\u001b[1;32m     24\u001b[0m \u001b[38;5;28;01mfrom\u001b[39;00m \u001b[38;5;21;01m.\u001b[39;00m\u001b[38;5;21;01mcommon\u001b[39;00m \u001b[38;5;28;01mimport\u001b[39;00m \u001b[38;5;241m*\u001b[39m\n\u001b[1;32m     27\u001b[0m \u001b[38;5;28;01mdef\u001b[39;00m \u001b[38;5;21mfind_matching_bracket\u001b[39m(lines, start_line_index, start_char_index, matching_char\u001b[38;5;241m=\u001b[39m\u001b[38;5;124m\"\u001b[39m\u001b[38;5;124m{\u001b[39m\u001b[38;5;124m\"\u001b[39m):\n",
      "\u001b[0;31mModuleNotFoundError\u001b[0m: No module named 'pkg_resources'"
     ]
    }
   ],
   "source": [
    "import ee\n",
    "import geemap\n",
    "\n",
    "# Authenticate to Earth Engine\n",
    "try:\n",
    "    ee.Initialize()\n",
    "except Exception as e:\n",
    "    ee.Authenticate()\n",
    "    ee.Initialize()\n",
    "\n",
    "data_folder = \"projects/amazon-forest-regrowth/assets\""
   ]
  },
  {
   "cell_type": "code",
   "execution_count": 3,
   "id": "713f7879-6ed1-4b8c-a638-abd8fe97d0b4",
   "metadata": {},
   "outputs": [
    {
     "data": {
      "text/html": [
       "\n",
       "            <style>\n",
       "                .geemap-dark {\n",
       "                    --jp-widgets-color: white;\n",
       "                    --jp-widgets-label-color: white;\n",
       "                    --jp-ui-font-color1: white;\n",
       "                    --jp-layout-color2: #454545;\n",
       "                    background-color: #383838;\n",
       "                }\n",
       "\n",
       "                .geemap-dark .jupyter-button {\n",
       "                    --jp-layout-color3: #383838;\n",
       "                }\n",
       "\n",
       "                .geemap-colab {\n",
       "                    background-color: var(--colab-primary-surface-color, white);\n",
       "                }\n",
       "\n",
       "                .geemap-colab .jupyter-button {\n",
       "                    --jp-layout-color3: var(--colab-primary-surface-color, white);\n",
       "                }\n",
       "            </style>\n",
       "            "
      ],
      "text/plain": [
       "<IPython.core.display.HTML object>"
      ]
     },
     "metadata": {},
     "output_type": "display_data"
    }
   ],
   "source": [
    "# region of interest is Amazonia\n",
    "# roi = ee.FeatureCollection(f\"{data_folder}/biomes_br\").first().geometry()\n",
    "# For specific biomes, the feature \"CD_Bioma\" is:\n",
    "# 0 = Amazonia\n",
    "# 1 = Caatinga\n",
    "# 2 = Cerrado\n",
    "# 3 = Mata Atlantica\n",
    "# 4 = Pampa\n",
    "# 5 = Pantanal"
   ]
  },
  {
   "cell_type": "code",
   "execution_count": 3,
   "id": "f8a5841f-cb08-492d-8586-5495d8347cbc",
   "metadata": {},
   "outputs": [
    {
     "ename": "NameError",
     "evalue": "name 'data_folder' is not defined",
     "output_type": "error",
     "traceback": [
      "\u001b[0;31m---------------------------------------------------------------------------\u001b[0m",
      "\u001b[0;31mNameError\u001b[0m                                 Traceback (most recent call last)",
      "Cell \u001b[0;32mIn[3], line 1\u001b[0m\n\u001b[0;32m----> 1\u001b[0m age_agbd \u001b[38;5;241m=\u001b[39m ee\u001b[38;5;241m.\u001b[39mImage(\u001b[38;5;124mf\u001b[39m\u001b[38;5;124m\"\u001b[39m\u001b[38;5;132;01m{\u001b[39;00m\u001b[43mdata_folder\u001b[49m\u001b[38;5;132;01m}\u001b[39;00m\u001b[38;5;124m/age_agbd\u001b[39m\u001b[38;5;124m\"\u001b[39m)\n\u001b[1;32m      2\u001b[0m categorical \u001b[38;5;241m=\u001b[39m ee\u001b[38;5;241m.\u001b[39mImage(\u001b[38;5;124mf\u001b[39m\u001b[38;5;124m\"\u001b[39m\u001b[38;5;132;01m{\u001b[39;00mdata_folder\u001b[38;5;132;01m}\u001b[39;00m\u001b[38;5;124m/categorical\u001b[39m\u001b[38;5;124m\"\u001b[39m)\n\u001b[1;32m      3\u001b[0m sur_cover \u001b[38;5;241m=\u001b[39m ee\u001b[38;5;241m.\u001b[39mImage(\u001b[38;5;124mf\u001b[39m\u001b[38;5;124m\"\u001b[39m\u001b[38;5;132;01m{\u001b[39;00mdata_folder\u001b[38;5;132;01m}\u001b[39;00m\u001b[38;5;124m/sur_cover\u001b[39m\u001b[38;5;124m\"\u001b[39m)\n",
      "\u001b[0;31mNameError\u001b[0m: name 'data_folder' is not defined"
     ]
    }
   ],
   "source": [
    "age_agbd = ee.Image(f\"{data_folder}/age_agbd\")\n",
    "categorical = ee.Image(f\"{data_folder}/categorical\")\n",
    "sur_cover = ee.Image(f\"{data_folder}/sur_cover\")\n",
    "one_hectare_mask = ee.Image(f\"{data_folder}/one_hectare_mask\")\n",
    "land_use = ee.Image(f\"{data_folder}/land_use\")\n",
    "land_use_5_years = ee.Image(f\"{data_folder}/land_use_5_years\")\n",
    "land_use_10_years = ee.Image(f\"{data_folder}/land_use_10_years\")\n",
    "land_use_15_years = ee.Image(f\"{data_folder}/land_use_15_years\")\n",
    "\n",
    "zuquim_soil = ee.Image(f\"{data_folder}/raw/zuquim_amazon_soil_SB\")\n",
    "cwd = ee.Image(f\"{data_folder}/raw/cwd_chave\").float()\n",
    "yearly_mean_prec = ee.Image(f\"{data_folder}/yearly_mean_prec\")\n",
    "yearly_SI = ee.Image(f\"{data_folder}/yearly_SI\")\n",
    "\n",
    "\n",
    "# unified_data = age_agbd.addBands([land_use_10_years, cwd]).updateMask(land_use_10_years.select('last_LU')).updateMask(one_hectare_mask)\n",
    "unified_data = (\n",
    "    age_agbd.addBands(\n",
    "        [land_use_5_years, cwd, categorical, sur_cover, yearly_mean_prec, yearly_SI]\n",
    "    )\n",
    "    .updateMask(land_use_5_years.select(\"last_LU\"))\n",
    "    .updateMask(one_hectare_mask)\n",
    ")"
   ]
  },
  {
   "cell_type": "code",
   "execution_count": 2,
   "id": "6513269c-8deb-4d66-987a-e6f96a8f2015",
   "metadata": {},
   "outputs": [
    {
     "ename": "NameError",
     "evalue": "name 'unified_data' is not defined",
     "output_type": "error",
     "traceback": [
      "\u001b[0;31m---------------------------------------------------------------------------\u001b[0m",
      "\u001b[0;31mNameError\u001b[0m                                 Traceback (most recent call last)",
      "Cell \u001b[0;32mIn[2], line 8\u001b[0m\n\u001b[1;32m      1\u001b[0m \u001b[38;5;66;03m# ## stratify sample points per feature\u001b[39;00m\n\u001b[1;32m      2\u001b[0m \u001b[38;5;66;03m# stratified = final.stratifiedSample(\u001b[39;00m\n\u001b[1;32m      3\u001b[0m \u001b[38;5;66;03m#     numPoints = 10000,\u001b[39;00m\n\u001b[1;32m      4\u001b[0m \u001b[38;5;66;03m#     classBand = 'ecoreg',\u001b[39;00m\n\u001b[1;32m      5\u001b[0m \u001b[38;5;66;03m#     geometries = True\u001b[39;00m\n\u001b[1;32m      6\u001b[0m \u001b[38;5;66;03m# )\u001b[39;00m\n\u001b[0;32m----> 8\u001b[0m unified_data_fc \u001b[38;5;241m=\u001b[39m \u001b[43munified_data\u001b[49m\u001b[38;5;241m.\u001b[39msample(\n\u001b[1;32m      9\u001b[0m     geometry \u001b[38;5;241m=\u001b[39m unified_data\u001b[38;5;241m.\u001b[39mgeometry(), projection \u001b[38;5;241m=\u001b[39m age_agbd\u001b[38;5;241m.\u001b[39mprojection(), scale \u001b[38;5;241m=\u001b[39m \u001b[38;5;241m30\u001b[39m, geometries \u001b[38;5;241m=\u001b[39m \u001b[38;5;28;01mTrue\u001b[39;00m\n\u001b[1;32m     10\u001b[0m )\n\u001b[1;32m     12\u001b[0m \u001b[38;5;66;03m# Export an ee.FeatureCollection as an Earth Engine asset.\u001b[39;00m\n\u001b[1;32m     13\u001b[0m task \u001b[38;5;241m=\u001b[39m ee\u001b[38;5;241m.\u001b[39mbatch\u001b[38;5;241m.\u001b[39mExport\u001b[38;5;241m.\u001b[39mtable\u001b[38;5;241m.\u001b[39mtoDrive(\n\u001b[1;32m     14\u001b[0m     collection\u001b[38;5;241m=\u001b[39munified_data_fc, description\u001b[38;5;241m=\u001b[39m\u001b[38;5;124m\"\u001b[39m\u001b[38;5;124munified_data\u001b[39m\u001b[38;5;124m\"\u001b[39m\n\u001b[1;32m     15\u001b[0m )\n",
      "\u001b[0;31mNameError\u001b[0m: name 'unified_data' is not defined"
     ]
    }
   ],
   "source": [
    "# ## stratify sample points per feature\n",
    "# stratified = final.stratifiedSample(\n",
    "#     numPoints = 10000,\n",
    "#     classBand = 'ecoreg',\n",
    "#     geometries = True\n",
    "# )\n",
    "\n",
    "unified_data_fc = unified_data.sample(\n",
    "    geometry = unified_data.geometry(), projection = age_agbd.projection(), scale = 30, geometries = True\n",
    ")\n",
    "\n",
    "# Export an ee.FeatureCollection as an Earth Engine asset.\n",
    "task = ee.batch.Export.table.toDrive(\n",
    "    collection=unified_data_fc, description=\"unified_data\"\n",
    ")\n",
    "task.start()"
   ]
  },
  {
   "cell_type": "code",
   "execution_count": 31,
   "id": "dcd7f0d1-a1a2-4712-98f9-041c013f73e7",
   "metadata": {},
   "outputs": [
    {
     "data": {
      "text/html": [
       "\n",
       "            <style>\n",
       "                .geemap-dark {\n",
       "                    --jp-widgets-color: white;\n",
       "                    --jp-widgets-label-color: white;\n",
       "                    --jp-ui-font-color1: white;\n",
       "                    --jp-layout-color2: #454545;\n",
       "                    background-color: #383838;\n",
       "                }\n",
       "\n",
       "                .geemap-dark .jupyter-button {\n",
       "                    --jp-layout-color3: #383838;\n",
       "                }\n",
       "\n",
       "                .geemap-colab {\n",
       "                    background-color: var(--colab-primary-surface-color, white);\n",
       "                }\n",
       "\n",
       "                .geemap-colab .jupyter-button {\n",
       "                    --jp-layout-color3: var(--colab-primary-surface-color, white);\n",
       "                }\n",
       "            </style>\n",
       "            "
      ],
      "text/plain": [
       "<IPython.core.display.HTML object>"
      ]
     },
     "metadata": {},
     "output_type": "display_data"
    }
   ],
   "source": [
    "img = unified_data\n",
    "name = \"unified_data\"\n",
    "\n",
    "# Create the export task\n",
    "task = ee.batch.Export.image.toDrive(\n",
    "    image=img,\n",
    "    description=f\"{name}\",\n",
    "    crs=\"EPSG:4326\",\n",
    "    maxPixels=4e12,\n",
    "    region=img.geometry(),\n",
    ")\n",
    "\n",
    "# Start the export task\n",
    "task.start()"
   ]
  },
  {
   "cell_type": "code",
   "execution_count": 24,
   "id": "0b51be2c-b6a6-4e0f-bb8e-99f0caf20076",
   "metadata": {},
   "outputs": [
    {
     "data": {
      "text/html": [
       "\n",
       "            <style>\n",
       "                .geemap-dark {\n",
       "                    --jp-widgets-color: white;\n",
       "                    --jp-widgets-label-color: white;\n",
       "                    --jp-ui-font-color1: white;\n",
       "                    --jp-layout-color2: #454545;\n",
       "                    background-color: #383838;\n",
       "                }\n",
       "\n",
       "                .geemap-dark .jupyter-button {\n",
       "                    --jp-layout-color3: #383838;\n",
       "                }\n",
       "\n",
       "                .geemap-colab {\n",
       "                    background-color: var(--colab-primary-surface-color, white);\n",
       "                }\n",
       "\n",
       "                .geemap-colab .jupyter-button {\n",
       "                    --jp-layout-color3: var(--colab-primary-surface-color, white);\n",
       "                }\n",
       "            </style>\n",
       "            "
      ],
      "text/plain": [
       "<IPython.core.display.HTML object>"
      ]
     },
     "metadata": {},
     "output_type": "display_data"
    }
   ],
   "source": [
    "# # Select the WORLDCLIM dataset and specifically the 'bio01' band which represents annual mean temperature.\n",
    "# dataset = ee.Image('WORLDCLIM/V1/BIO')\n",
    "# annual_mean_temperature = dataset.select('bio15').multiply(0.1)\n",
    "# https://developers.google.com/earth-engine/datasets/catalog/WORLDCLIM_V1_BIO#bands\n",
    "# # # Define visualization parameters.\n",
    "# # vis_params = {\n",
    "# #     'min': 0,\n",
    "# #     'max': 15,\n",
    "# #     'palette': ['blue', 'purple', 'cyan', 'green', 'yellow', 'red']\n",
    "# # }\n",
    "\n",
    "\n",
    "# # Map = geemap.Map()\n",
    "\n",
    "# # # Set the map center and zoom level.\n",
    "# # Map.centerObject(age_agbd)\n",
    "\n",
    "# # # Add the layer to the map.\n",
    "# # Map.addLayer(annual_mean_temperature, vis_params, 'Annual Mean Temperature')\n",
    "# # Map"
   ]
  }
 ],
 "metadata": {
  "kernelspec": {
   "display_name": "Python 3 (ipykernel)",
   "language": "python",
   "name": "python3"
  },
  "language_info": {
   "codemirror_mode": {
    "name": "ipython",
    "version": 3
   },
   "file_extension": ".py",
   "mimetype": "text/x-python",
   "name": "python",
   "nbconvert_exporter": "python",
   "pygments_lexer": "ipython3",
   "version": "3.12.3"
  }
 },
 "nbformat": 4,
 "nbformat_minor": 5
}
