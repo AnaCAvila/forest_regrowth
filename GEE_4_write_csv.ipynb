{
 "cells": [
  {
   "cell_type": "markdown",
   "id": "956cff3f-99f1-45ca-b0b0-90c38a6e2c08",
   "metadata": {},
   "source": [
    "# Processing the final dataset\n",
    "\n"
   ]
  },
  {
   "cell_type": "code",
   "execution_count": 1,
   "id": "a9594018-621b-427e-89d3-0633de81979a",
   "metadata": {},
   "outputs": [],
   "source": [
    "import ee\n",
    "import geemap\n",
    "\n",
    "# Authenticate to Earth Engine\n",
    "try:\n",
    "    ee.Initialize()\n",
    "except Exception as e:\n",
    "    ee.Authenticate()\n",
    "    ee.Initialize()\n",
    "\n",
    "data_folder = \"projects/amazon-forest-regrowth/assets\""
   ]
  },
  {
   "cell_type": "code",
   "execution_count": null,
   "id": "30cca4cb",
   "metadata": {},
   "outputs": [],
   "source": [
    "biomass_all = ee.Image(f\"{data_folder}/raw/biomass\")\n",
    "proj = biomass_all.projection().getInfo()\n",
    "\n",
    "mature_biomass = ee.Image(f\"{data_folder}/mature_biomass_1km\").reproject(\n",
    "    crs = proj[\"crs\"], crsTransform = proj[\"transform\"]\n",
    ")\n",
    "\n",
    "# scale = biomass_all.projection().nominalScale().getInfo()\n",
    "\n",
    "task = ee.batch.Export.image.toDrive(\n",
    "    image = mature_biomass_1k,\n",
    "    description = 'mature_biomass_1k',\n",
    "    region = mature_biomass_1k.geometry(),\n",
    "    scale = 500,\n",
    "    maxPixels = 1e13\n",
    ")\n",
    "task.start()\n"
   ]
  },
  {
   "cell_type": "code",
   "execution_count": 11,
   "id": "7e05edb2",
   "metadata": {},
   "outputs": [
    {
     "data": {
      "text/html": [
       "\n",
       "            <style>\n",
       "                .geemap-dark {\n",
       "                    --jp-widgets-color: white;\n",
       "                    --jp-widgets-label-color: white;\n",
       "                    --jp-ui-font-color1: white;\n",
       "                    --jp-layout-color2: #454545;\n",
       "                    background-color: #383838;\n",
       "                }\n",
       "\n",
       "                .geemap-dark .jupyter-button {\n",
       "                    --jp-layout-color3: #383838;\n",
       "                }\n",
       "\n",
       "                .geemap-colab {\n",
       "                    background-color: var(--colab-primary-surface-color, white);\n",
       "                }\n",
       "\n",
       "                .geemap-colab .jupyter-button {\n",
       "                    --jp-layout-color3: var(--colab-primary-surface-color, white);\n",
       "                }\n",
       "            </style>\n",
       "            "
      ],
      "text/plain": [
       "<IPython.core.display.HTML object>"
      ]
     },
     "metadata": {},
     "output_type": "display_data"
    }
   ],
   "source": [
    "years = 0\n",
    "\n",
    "if (years == 0):\n",
    "    land_use_years = ee.Image(f\"{data_folder}/land_use\")\n",
    "    name = \"all_LULC_dist_amaz_500\"\n",
    "else:\n",
    "    land_use_years = ee.Image(f\"{data_folder}/land_use_{years}_years\")\n",
    "    name = f\"{years}y_LULC_dist_amaz_500\"\n",
    "\n",
    "age_agbd = ee.Image(f\"{data_folder}/age_agbd\")\n",
    "categorical = ee.Image(f\"{data_folder}/categorical\")\n",
    "sur_cover = ee.Image(f\"{data_folder}/sur_cover\").rename(\"sur_cover\")\n",
    "one_hectare_mask = ee.Image(f\"{data_folder}/one_hectare_mask\").rename(\"one_hectare_mask\")\n",
    "cwd = ee.Image(f\"{data_folder}/raw/cwd_chave\").float().rename(\"cwd\")\n",
    "yearly_mean_prec = ee.Image(f\"{data_folder}/yearly_mean_prec\")\n",
    "yearly_SI = ee.Image(f\"{data_folder}/yearly_SI\")\n",
    "distance = ee.Image(f\"{data_folder}/distance_amaz_500\")\n",
    "\n",
    "combined_mask = one_hectare_mask.And(land_use_years.select(\"last_LU\")).And(distance)\n",
    "\n",
    "unified_data = (\n",
    "    age_agbd.addBands(\n",
    "        [categorical, land_use_years, cwd, distance, sur_cover, yearly_mean_prec, yearly_SI\n",
    "    ]).updateMask(combined_mask)\n",
    ")\n",
    "\n",
    "unified_data_fc = unified_data.stratifiedSample(\n",
    "    numPoints = 5000, classBand = 'ecoreg', region = unified_data.geometry()\n",
    ")\n",
    "\n",
    "# Export an ee.FeatureCollection to Google Drive, adjusting the description based on the years\n",
    "task = ee.batch.Export.table.toDrive(\n",
    "    collection=unified_data_fc, description=name\n",
    ")\n",
    "task.start()\n"
   ]
  }
 ],
 "metadata": {
  "kernelspec": {
   "display_name": "Python 3 (ipykernel)",
   "language": "python",
   "name": "python3"
  },
  "language_info": {
   "codemirror_mode": {
    "name": "ipython",
    "version": 3
   },
   "file_extension": ".py",
   "mimetype": "text/x-python",
   "name": "python",
   "nbconvert_exporter": "python",
   "pygments_lexer": "ipython3",
   "version": "3.10.12"
  }
 },
 "nbformat": 4,
 "nbformat_minor": 5
}
