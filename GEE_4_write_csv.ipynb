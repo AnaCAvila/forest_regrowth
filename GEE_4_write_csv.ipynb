{
 "cells": [
  {
   "cell_type": "markdown",
   "id": "956cff3f-99f1-45ca-b0b0-90c38a6e2c08",
   "metadata": {},
   "source": [
    "# Processing the final dataset\n",
    "\n"
   ]
  },
  {
   "cell_type": "code",
   "execution_count": 2,
   "id": "a9594018-621b-427e-89d3-0633de81979a",
   "metadata": {},
   "outputs": [],
   "source": [
    "import ee\n",
    "import geemap\n",
    "\n",
    "# Authenticate to Earth Engine\n",
    "try:\n",
    "    ee.Initialize()\n",
    "except Exception as e:\n",
    "    ee.Authenticate()\n",
    "    ee.Initialize()\n",
    "\n",
    "data_folder = \"projects/amazon-forest-regrowth/assets\"\n",
    "\n"
   ]
  },
  {
   "cell_type": "code",
   "execution_count": 15,
   "id": "491b78aa",
   "metadata": {},
   "outputs": [
    {
     "data": {
      "text/html": [
       "\n",
       "            <style>\n",
       "                .geemap-dark {\n",
       "                    --jp-widgets-color: white;\n",
       "                    --jp-widgets-label-color: white;\n",
       "                    --jp-ui-font-color1: white;\n",
       "                    --jp-layout-color2: #454545;\n",
       "                    background-color: #383838;\n",
       "                }\n",
       "\n",
       "                .geemap-dark .jupyter-button {\n",
       "                    --jp-layout-color3: #383838;\n",
       "                }\n",
       "\n",
       "                .geemap-colab {\n",
       "                    background-color: var(--colab-primary-surface-color, white);\n",
       "                }\n",
       "\n",
       "                .geemap-colab .jupyter-button {\n",
       "                    --jp-layout-color3: var(--colab-primary-surface-color, white);\n",
       "                }\n",
       "            </style>\n",
       "            "
      ],
      "text/plain": [
       "<IPython.core.display.HTML object>"
      ]
     },
     "metadata": {},
     "output_type": "display_data"
    }
   ],
   "source": [
    "gaul = ee.FeatureCollection('FAO/GAUL/2015/level0')\n",
    "\n",
    "# List of South American country names\n",
    "south_american_countries = [\n",
    "    'Argentina', 'Bolivia', 'Brazil', 'Chile', 'Colombia', 'Ecuador',\n",
    "    'French Guiana', 'Guyana', 'Paraguay', 'Peru', 'Suriname', 'Uruguay', 'Venezuela'\n",
    "]\n",
    "\n",
    "# Filter the GAUL dataset for South American countries using ADM0_NAME\n",
    "south_america = gaul.filter(ee.Filter.inList('ADM0_NAME', south_american_countries))\n",
    "# # Merge all South American features into a single feature\n",
    "south_america_merged = south_america.union().geometry()\n",
    "\n",
    "# Extract Brazil separately\n",
    "brazil = gaul.filter(ee.Filter.eq('ADM0_NAME', 'Brazil')).first().geometry()\n",
    "\n",
    "\n",
    "# edge_mask = brazil_buffer.difference(south_america_merged.geometry())\n",
    "# secondary_notedge = secondary.updateMask(secondary.mask(brazil_buffer))\n",
    "\n",
    "# map = geemap.Map()\n",
    "# map.addLayer(south_america_merged, {}, \"tst\")\n",
    "# map\n",
    "\n",
    "# Create a mask by subtracting the buffered area from the South America feature\n",
    "\n",
    "# # Export the mean_biomass_image as an asset\n",
    "# task = ee.batch.Export.table.toAsset(\n",
    "#     collection=brazil_buffer,\n",
    "#     assetId = \"projects/amazon-forest-regrowth/assets/brazil_buffer\",\n",
    "#     description=\"brazil_buffer\"\n",
    "# )\n",
    "# task.start()"
   ]
  },
  {
   "cell_type": "code",
   "execution_count": 25,
   "id": "312e7c9b",
   "metadata": {},
   "outputs": [
    {
     "data": {
      "text/html": [
       "\n",
       "            <style>\n",
       "                .geemap-dark {\n",
       "                    --jp-widgets-color: white;\n",
       "                    --jp-widgets-label-color: white;\n",
       "                    --jp-ui-font-color1: white;\n",
       "                    --jp-layout-color2: #454545;\n",
       "                    background-color: #383838;\n",
       "                }\n",
       "\n",
       "                .geemap-dark .jupyter-button {\n",
       "                    --jp-layout-color3: #383838;\n",
       "                }\n",
       "\n",
       "                .geemap-colab {\n",
       "                    background-color: var(--colab-primary-surface-color, white);\n",
       "                }\n",
       "\n",
       "                .geemap-colab .jupyter-button {\n",
       "                    --jp-layout-color3: var(--colab-primary-surface-color, white);\n",
       "                }\n",
       "            </style>\n",
       "            "
      ],
      "text/plain": [
       "<IPython.core.display.HTML object>"
      ]
     },
     "metadata": {},
     "output_type": "display_data"
    }
   ],
   "source": [
    "mature_biomass = ee.Image(f\"{data_folder}/mature_biomass_500m_countrywide\")#.clip(roi)\n",
    "mature_biomass_vector = mature_biomass.reduceToVectors(geometry=roi, scale=500, maxPixels=1e13)\n",
    "proj = mature_biomass.projection().getInfo()\n",
    "\n",
    "secondary = ee.Image(f\"{data_folder}/age_agbd\").select(\"age\")\n",
    "# distances_image = mature_biomass_vector.distance(searchRadius = 500000).toInt().updateMask(secondary)\n",
    "\n",
    "\n",
    "# # Export the mean_biomass_image as an asset\n",
    "# task = ee.batch.Export.image.toAsset(\n",
    "#     image=distances_image,\n",
    "#     assetId = \"projects/amazon-forest-regrowth/assets/distance_to_mature_biomass\",\n",
    "#     description=\"distance_to_mature_biomass\",\n",
    "#     region=roi,\n",
    "#     scale=500,\n",
    "#     crs=proj.crs(),\n",
    "#     crsTransform=proj.transform(),\n",
    "#     maxPixels=1e13\n",
    "# )\n",
    "# task.start()\n"
   ]
  },
  {
   "cell_type": "code",
   "execution_count": 14,
   "id": "e8e78196",
   "metadata": {},
   "outputs": [
    {
     "data": {
      "text/html": [
       "\n",
       "            <style>\n",
       "                .geemap-dark {\n",
       "                    --jp-widgets-color: white;\n",
       "                    --jp-widgets-label-color: white;\n",
       "                    --jp-ui-font-color1: white;\n",
       "                    --jp-layout-color2: #454545;\n",
       "                    background-color: #383838;\n",
       "                }\n",
       "\n",
       "                .geemap-dark .jupyter-button {\n",
       "                    --jp-layout-color3: #383838;\n",
       "                }\n",
       "\n",
       "                .geemap-colab {\n",
       "                    background-color: var(--colab-primary-surface-color, white);\n",
       "                }\n",
       "\n",
       "                .geemap-colab .jupyter-button {\n",
       "                    --jp-layout-color3: var(--colab-primary-surface-color, white);\n",
       "                }\n",
       "            </style>\n",
       "            "
      ],
      "text/plain": [
       "<IPython.core.display.HTML object>"
      ]
     },
     "metadata": {},
     "output_type": "display_data"
    }
   ],
   "source": [
    "distance = ee.Image(f\"{data_folder}/distance_to_mature_biomass\")#.clip(roi)\n",
    "\n",
    "distances_vector = distance.sample(region = roi, numPixels = 10, geometries = True)\n",
    "\n",
    "\n",
    "# Export the mean_biomass_image as an asset\n",
    "task = ee.batch.Export.table.toAsset(\n",
    "    collection=distances_vector,\n",
    "    assetId = \"projects/amazon-forest-regrowth/assets/distances_vector_sample\",\n",
    "    description=\"distances_vector_sample\"\n",
    ")\n",
    "\n",
    "task.start()\n"
   ]
  },
  {
   "cell_type": "code",
   "execution_count": 23,
   "id": "71ab1c41",
   "metadata": {},
   "outputs": [
    {
     "data": {
      "text/html": [
       "\n",
       "            <style>\n",
       "                .geemap-dark {\n",
       "                    --jp-widgets-color: white;\n",
       "                    --jp-widgets-label-color: white;\n",
       "                    --jp-ui-font-color1: white;\n",
       "                    --jp-layout-color2: #454545;\n",
       "                    background-color: #383838;\n",
       "                }\n",
       "\n",
       "                .geemap-dark .jupyter-button {\n",
       "                    --jp-layout-color3: #383838;\n",
       "                }\n",
       "\n",
       "                .geemap-colab {\n",
       "                    background-color: var(--colab-primary-surface-color, white);\n",
       "                }\n",
       "\n",
       "                .geemap-colab .jupyter-button {\n",
       "                    --jp-layout-color3: var(--colab-primary-surface-color, white);\n",
       "                }\n",
       "            </style>\n",
       "            "
      ],
      "text/plain": [
       "<IPython.core.display.HTML object>"
      ]
     },
     "metadata": {},
     "output_type": "display_data"
    }
   ],
   "source": [
    "categorical = ee.Image(f\"{data_folder}/categorical\")\n",
    "mask = categorical.select('biome').eq(1).Or(categorical.select('biome').eq(4))\n",
    "\n",
    "# Apply the mask to the original image\n",
    "categorical = categorical.updateMask(mask)\n",
    "unified = distance.addBands(categorical)\n",
    "\n",
    "distances_vector = unified.stratifiedSample(\n",
    "    numPoints = 10, classBand = 'biome', region = age_agbd.geometry(), geometries = True\n",
    ")\n",
    "\n",
    "# # Export the mean_biomass_image as an asset\n",
    "# task = ee.batch.Export.table.toAsset(\n",
    "#     collection=distances_vector,\n",
    "#     assetId = \"projects/amazon-forest-regrowth/assets/distances_vector\",\n",
    "#     description=\"distances_vector\"\n",
    "# )\n",
    "\n",
    "# task.start()\n"
   ]
  },
  {
   "cell_type": "code",
   "execution_count": 22,
   "id": "9718d0b0",
   "metadata": {},
   "outputs": [
    {
     "data": {
      "text/html": [
       "\n",
       "            <style>\n",
       "                .geemap-dark {\n",
       "                    --jp-widgets-color: white;\n",
       "                    --jp-widgets-label-color: white;\n",
       "                    --jp-ui-font-color1: white;\n",
       "                    --jp-layout-color2: #454545;\n",
       "                    background-color: #383838;\n",
       "                }\n",
       "\n",
       "                .geemap-dark .jupyter-button {\n",
       "                    --jp-layout-color3: #383838;\n",
       "                }\n",
       "\n",
       "                .geemap-colab {\n",
       "                    background-color: var(--colab-primary-surface-color, white);\n",
       "                }\n",
       "\n",
       "                .geemap-colab .jupyter-button {\n",
       "                    --jp-layout-color3: var(--colab-primary-surface-color, white);\n",
       "                }\n",
       "            </style>\n",
       "            "
      ],
      "text/plain": [
       "<IPython.core.display.HTML object>"
      ]
     },
     "metadata": {},
     "output_type": "display_data"
    },
    {
     "data": {
      "text/plain": [
       "{'type': 'Polygon',\n",
       " 'coordinates': [[[-52.508552404083574, -34.86599720250564],\n",
       "   [-48.91324197999829, -34.86599716923694],\n",
       "   [-43.683699538623145, -34.86599714550248],\n",
       "   [-36.329655521244575, -34.865997189915994],\n",
       "   [-33.06086246804157, -34.865996939646344],\n",
       "   [-33.06091888679625, 7.937559164301689],\n",
       "   [-40.578658682726385, 7.9375592237863035],\n",
       "   [-51.691436374160965, 7.937559237260218],\n",
       "   [-59.862596437285646, 7.937559256328121],\n",
       "   [-66.07267806311584, 7.937559214555583],\n",
       "   [-74.8978034508879, 7.937559150098069],\n",
       "   [-74.89785992190862, -34.86599698043478],\n",
       "   [-69.99483483927376, -34.86599721079048],\n",
       "   [-65.09213887219269, -34.86599720891968],\n",
       "   [-61.66025162329108, -34.86599717246458],\n",
       "   [-56.92097879420941, -34.86599719682812],\n",
       "   [-52.508552404083574, -34.86599720250564]]]}"
      ]
     },
     "execution_count": 22,
     "metadata": {},
     "output_type": "execute_result"
    }
   ],
   "source": [
    "# distance = ee.Image(f\"{data_folder}/distance_to_mature_biomass\").clip(roi)\n",
    "age_agbd = ee.Image(f\"{data_folder}/age_agbd\")\n",
    "\n",
    "age_agbd.geometry().getInfo()\n",
    "# map = geemap.Map()\n",
    "# map.addLayer(roi, {}, \"roi\")\n",
    "# map.addLayer(distance, {\"min\": 0, \"max\": 10000}, \"distance\")\n",
    "# map.addLayer(distances_vector, {}, \"distances_vector\")\n",
    "# map"
   ]
  },
  {
   "cell_type": "code",
   "execution_count": 24,
   "id": "a2e925b3",
   "metadata": {},
   "outputs": [
    {
     "data": {
      "text/html": [
       "\n",
       "            <style>\n",
       "                .geemap-dark {\n",
       "                    --jp-widgets-color: white;\n",
       "                    --jp-widgets-label-color: white;\n",
       "                    --jp-ui-font-color1: white;\n",
       "                    --jp-layout-color2: #454545;\n",
       "                    background-color: #383838;\n",
       "                }\n",
       "\n",
       "                .geemap-dark .jupyter-button {\n",
       "                    --jp-layout-color3: #383838;\n",
       "                }\n",
       "\n",
       "                .geemap-colab {\n",
       "                    background-color: var(--colab-primary-surface-color, white);\n",
       "                }\n",
       "\n",
       "                .geemap-colab .jupyter-button {\n",
       "                    --jp-layout-color3: var(--colab-primary-surface-color, white);\n",
       "                }\n",
       "            </style>\n",
       "            "
      ],
      "text/plain": [
       "<IPython.core.display.HTML object>"
      ]
     },
     "metadata": {},
     "output_type": "display_data"
    }
   ],
   "source": [
    "# Function to buffer and calculate mean\n",
    "def buffer_and_calculate_mean(f):\n",
    "    distance = ee.Number(f.get('distance'))\n",
    "    buffered = ee.Feature(f.buffer(distance.add(2500)))\n",
    "    return buffered\n",
    "\n",
    "distances_vector_buffer = distances_vector.map(buffer_and_calculate_mean)\n",
    "\n",
    "\n",
    "\n",
    "\n",
    "\n"
   ]
  },
  {
   "cell_type": "code",
   "execution_count": 30,
   "id": "d0b216e8",
   "metadata": {},
   "outputs": [
    {
     "data": {
      "text/html": [
       "\n",
       "            <style>\n",
       "                .geemap-dark {\n",
       "                    --jp-widgets-color: white;\n",
       "                    --jp-widgets-label-color: white;\n",
       "                    --jp-ui-font-color1: white;\n",
       "                    --jp-layout-color2: #454545;\n",
       "                    background-color: #383838;\n",
       "                }\n",
       "\n",
       "                .geemap-dark .jupyter-button {\n",
       "                    --jp-layout-color3: #383838;\n",
       "                }\n",
       "\n",
       "                .geemap-colab {\n",
       "                    background-color: var(--colab-primary-surface-color, white);\n",
       "                }\n",
       "\n",
       "                .geemap-colab .jupyter-button {\n",
       "                    --jp-layout-color3: var(--colab-primary-surface-color, white);\n",
       "                }\n",
       "            </style>\n",
       "            "
      ],
      "text/plain": [
       "<IPython.core.display.HTML object>"
      ]
     },
     "metadata": {},
     "output_type": "display_data"
    }
   ],
   "source": [
    "\n",
    "nearest_biomass = mature_biomass.reduceRegions(distances_vector_buffer, ee.Reducer.firstNonNull(), \n",
    "                                          crs = proj['crs'], crsTransform = proj['transform']\n",
    ")\n",
    "\n",
    "# Export the mean_biomass_image as an asset\n",
    "task = ee.batch.Export.table.toAsset(\n",
    "    collection=nearest_biomass,\n",
    "    assetId = \"projects/amazon-forest-regrowth/assets/nearest_biomass\",\n",
    "    description=\"nearest_biomass\"\n",
    ")\n",
    "\n",
    "task.start()\n"
   ]
  },
  {
   "cell_type": "code",
   "execution_count": 24,
   "id": "7e05edb2",
   "metadata": {},
   "outputs": [
    {
     "data": {
      "text/html": [
       "\n",
       "            <style>\n",
       "                .geemap-dark {\n",
       "                    --jp-widgets-color: white;\n",
       "                    --jp-widgets-label-color: white;\n",
       "                    --jp-ui-font-color1: white;\n",
       "                    --jp-layout-color2: #454545;\n",
       "                    background-color: #383838;\n",
       "                }\n",
       "\n",
       "                .geemap-dark .jupyter-button {\n",
       "                    --jp-layout-color3: #383838;\n",
       "                }\n",
       "\n",
       "                .geemap-colab {\n",
       "                    background-color: var(--colab-primary-surface-color, white);\n",
       "                }\n",
       "\n",
       "                .geemap-colab .jupyter-button {\n",
       "                    --jp-layout-color3: var(--colab-primary-surface-color, white);\n",
       "                }\n",
       "            </style>\n",
       "            "
      ],
      "text/plain": [
       "<IPython.core.display.HTML object>"
      ]
     },
     "metadata": {},
     "output_type": "display_data"
    }
   ],
   "source": [
    "mature_biomass = ee.Image(f\"{data_folder}/mature_biomass_500m_countrywide\").clip(roi)\n",
    "\n",
    "# def export_csv(year):\n",
    "year = 10\n",
    "if (year == 0):\n",
    "    land_use_years = ee.Image(f\"{data_folder}/land_use\")\n",
    "    name = f\"{region}_all\"\n",
    "else:\n",
    "    land_use_years = ee.Image(f\"{data_folder}/land_use_{year}_years\")\n",
    "    name = f\"{region}_{year}yr\"\n",
    "\n",
    "age_agbd = ee.Image(f\"{data_folder}/age_agbd\")\n",
    "categorical = ee.Image(f\"{data_folder}/categorical\")\n",
    "yearly_mean_prec = ee.Image(f\"{data_folder}/yearly_mean_prec\")\n",
    "yearly_SI = ee.Image(f\"{data_folder}/yearly_SI\")\n",
    "cwd = ee.Image(f\"{data_folder}/raw/cwd_chave\")\n",
    "sur_cover = ee.Image(f\"{data_folder}/sur_cover\").rename(\"sur_cover\")\n",
    "one_hectare_mask = ee.Image(f\"{data_folder}/one_hectare_mask\")\n",
    "distance = ee.Image(f\"{data_folder}/distance_to_mature_biomass\")\n",
    "\n",
    "combined_mask = one_hectare_mask.And(land_use_years.select(\"last_LU\"))\n",
    "\n",
    "unified_data = (\n",
    "    age_agbd.addBands(\n",
    "        [distance, categorical, land_use_years, cwd, sur_cover, yearly_mean_prec, yearly_SI\n",
    "    ]).updateMask(combined_mask)\n",
    ")\n",
    "\n",
    "unified_data_fc = unified_data.stratifiedSample(\n",
    "    numPoints = 10000, classBand = 'biome', region = roi.geometry(), geometries = True\n",
    ")\n",
    "\n",
    "pts_bm = unified_data_fc.map(buffer_and_calculate_mean)\n",
    "\n",
    "task = ee.batch.Export.table.toDrive(\n",
    "    collection=pts_bm, description=name\n",
    ")\n",
    "task.start()\n",
    "\n",
    "task = ee.batch.Export.table.toAsset(\n",
    "    collection=pts_bm, description=name, assetId=f\"projects/amazon-forest-regrowth/assets/{name}\"\n",
    ")\n",
    "task.start()\n",
    "\n",
    "# export_csv(0)\n",
    "# export_csv(5)\n",
    "# export_csv(10)\n",
    "# export_csv(15)\n",
    "\n"
   ]
  },
  {
   "cell_type": "code",
   "execution_count": 37,
   "id": "84cac8e2",
   "metadata": {},
   "outputs": [
    {
     "data": {
      "text/html": [
       "\n",
       "            <style>\n",
       "                .geemap-dark {\n",
       "                    --jp-widgets-color: white;\n",
       "                    --jp-widgets-label-color: white;\n",
       "                    --jp-ui-font-color1: white;\n",
       "                    --jp-layout-color2: #454545;\n",
       "                    background-color: #383838;\n",
       "                }\n",
       "\n",
       "                .geemap-dark .jupyter-button {\n",
       "                    --jp-layout-color3: #383838;\n",
       "                }\n",
       "\n",
       "                .geemap-colab {\n",
       "                    background-color: var(--colab-primary-surface-color, white);\n",
       "                }\n",
       "\n",
       "                .geemap-colab .jupyter-button {\n",
       "                    --jp-layout-color3: var(--colab-primary-surface-color, white);\n",
       "                }\n",
       "            </style>\n",
       "            "
      ],
      "text/plain": [
       "<IPython.core.display.HTML object>"
      ]
     },
     "metadata": {},
     "output_type": "display_data"
    }
   ],
   "source": [
    "# mature_biomass = ee.Image(f\"{data_folder}/mature_biomass\")\n",
    "# mature_biomass_500m_countrywide = ee.Image(f\"{data_folder}/mature_biomass_500m_countrywide\")\n",
    "# biomass_all = ee.Image(f\"{data_folder}/raw/biomass\")\n",
    "\n",
    "\n",
    "# map = geemap.Map()\n",
    "# map.addLayer(biomass_all, {\"min\": 0, \"max\": 400, \"palette\": [\"blue\", \"red\"]}, 'biomass_all')\n",
    "# map.addLayer(mature_biomass, {\"min\": 0, \"max\": 400, \"palette\": [\"blue\", \"red\"]}, 'mature_biomass')\n",
    "# map.addLayer(mature_biomass_100m, {\"min\": 0, \"max\": 400, \"palette\": [\"blue\", \"red\"]}, 'mature_biomass_100m')\n",
    "# map"
   ]
  }
 ],
 "metadata": {
  "kernelspec": {
   "display_name": "Python 3 (ipykernel)",
   "language": "python",
   "name": "python3"
  },
  "language_info": {
   "codemirror_mode": {
    "name": "ipython",
    "version": 3
   },
   "file_extension": ".py",
   "mimetype": "text/x-python",
   "name": "python",
   "nbconvert_exporter": "python",
   "pygments_lexer": "ipython3",
<<<<<<< HEAD
<<<<<<< HEAD
   "version": "3.10.12"
=======
   "version": "3.12.3"
>>>>>>> gee
=======
   "version": "3.12.3"
>>>>>>> gee
  }
 },
 "nbformat": 4,
 "nbformat_minor": 5
}
