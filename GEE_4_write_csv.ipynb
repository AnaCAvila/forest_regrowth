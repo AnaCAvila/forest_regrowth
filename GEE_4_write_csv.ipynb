{
 "cells": [
  {
   "cell_type": "markdown",
   "id": "956cff3f-99f1-45ca-b0b0-90c38a6e2c08",
   "metadata": {},
   "source": [
    "# Processing the final dataset\n",
    "\n"
   ]
  },
  {
   "cell_type": "code",
   "execution_count": 1,
   "id": "a9594018-621b-427e-89d3-0633de81979a",
   "metadata": {},
   "outputs": [],
   "source": [
    "import ee\n",
    "import geemap\n",
    "\n",
    "# Authenticate to Earth Engine\n",
    "try:\n",
    "    ee.Initialize()\n",
    "except Exception as e:\n",
    "    ee.Authenticate()\n",
    "    ee.Initialize()\n",
    "\n",
    "data_folder = \"projects/amazon-forest-regrowth/assets\"\n",
    "\n"
   ]
  },
  {
   "cell_type": "code",
   "execution_count": 2,
   "id": "39280865",
   "metadata": {},
   "outputs": [
    {
     "data": {
      "text/html": [
       "\n",
       "            <style>\n",
       "                .geemap-dark {\n",
       "                    --jp-widgets-color: white;\n",
       "                    --jp-widgets-label-color: white;\n",
       "                    --jp-ui-font-color1: white;\n",
       "                    --jp-layout-color2: #454545;\n",
       "                    background-color: #383838;\n",
       "                }\n",
       "\n",
       "                .geemap-dark .jupyter-button {\n",
       "                    --jp-layout-color3: #383838;\n",
       "                }\n",
       "\n",
       "                .geemap-colab {\n",
       "                    background-color: var(--colab-primary-surface-color, white);\n",
       "                }\n",
       "\n",
       "                .geemap-colab .jupyter-button {\n",
       "                    --jp-layout-color3: var(--colab-primary-surface-color, white);\n",
       "                }\n",
       "            </style>\n",
       "            "
      ],
      "text/plain": [
       "<IPython.core.display.HTML object>"
      ]
     },
     "metadata": {},
     "output_type": "display_data"
    }
   ],
   "source": [
    "# 1 = Amazonia\n",
    "# 2 = Caatinga\n",
    "# 3 = Cerrado\n",
    "# 4 = Mata Atlantica\n",
    "# 5 = Pampa\n",
    "# 6 = Pantanal\n",
    "\n",
    "# region = \"countrywide\"\n",
    "# region = \"amaz\" #for Amazonia\n",
    "region = \"atl\" #for Mata Atlantica\n",
    "# region = \"cerr\" #for Cerrado\n"
   ]
  },
  {
   "cell_type": "code",
   "execution_count": 3,
   "id": "d5e84af4",
   "metadata": {},
   "outputs": [
    {
     "data": {
      "text/html": [
       "\n",
       "            <style>\n",
       "                .geemap-dark {\n",
       "                    --jp-widgets-color: white;\n",
       "                    --jp-widgets-label-color: white;\n",
       "                    --jp-ui-font-color1: white;\n",
       "                    --jp-layout-color2: #454545;\n",
       "                    background-color: #383838;\n",
       "                }\n",
       "\n",
       "                .geemap-dark .jupyter-button {\n",
       "                    --jp-layout-color3: #383838;\n",
       "                }\n",
       "\n",
       "                .geemap-colab {\n",
       "                    background-color: var(--colab-primary-surface-color, white);\n",
       "                }\n",
       "\n",
       "                .geemap-colab .jupyter-button {\n",
       "                    --jp-layout-color3: var(--colab-primary-surface-color, white);\n",
       "                }\n",
       "            </style>\n",
       "            "
      ],
      "text/plain": [
       "<IPython.core.display.HTML object>"
      ]
     },
     "metadata": {},
     "output_type": "display_data"
    }
   ],
   "source": [
    "\n",
    "export_mature_biomass = False\n",
    "export_distance = False\n",
    "\n",
    "biomes_br = ee.FeatureCollection(f\"{data_folder}/raw/biomes_br\")\n",
    "\n",
    "if region == \"countrywide\":\n",
    "    # Countrywide\n",
    "    region_shp = biomes_br.geometry().dissolve()\n",
    "elif region == \"amaz\":\n",
    "    # Amazonia = 1\n",
    "    region_shp = biomes_br.filter(ee.Filter.eq(\"CD_Bioma\", 1))\n",
    "elif region == \"cerr\":\n",
    "    region_shp = biomes_br.filter(ee.Filter.eq(\"CD_Bioma\", 3))\n",
    "elif region == \"atl\":\n",
    "    region_shp = biomes_br.filter(ee.Filter.eq(\"CD_Bioma\", 4))\n",
    "\n"
   ]
  },
  {
   "cell_type": "code",
   "execution_count": 5,
   "id": "e8e78196",
   "metadata": {},
   "outputs": [
    {
     "data": {
      "text/html": [
       "\n",
       "            <style>\n",
       "                .geemap-dark {\n",
       "                    --jp-widgets-color: white;\n",
       "                    --jp-widgets-label-color: white;\n",
       "                    --jp-ui-font-color1: white;\n",
       "                    --jp-layout-color2: #454545;\n",
       "                    background-color: #383838;\n",
       "                }\n",
       "\n",
       "                .geemap-dark .jupyter-button {\n",
       "                    --jp-layout-color3: #383838;\n",
       "                }\n",
       "\n",
       "                .geemap-colab {\n",
       "                    background-color: var(--colab-primary-surface-color, white);\n",
       "                }\n",
       "\n",
       "                .geemap-colab .jupyter-button {\n",
       "                    --jp-layout-color3: var(--colab-primary-surface-color, white);\n",
       "                }\n",
       "            </style>\n",
       "            "
      ],
      "text/plain": [
       "<IPython.core.display.HTML object>"
      ]
     },
     "metadata": {},
     "output_type": "display_data"
    }
   ],
   "source": [
    "mature_biomass = ee.Image(f\"{data_folder}/mature_biomass_500m_countrywide\").clip(region_shp)\n",
    "mature_biomass_vector = mature_biomass.gt(1).reduceToVectors(geometry=region_shp, scale=500, maxPixels=1e13)\n",
    "\n",
    "secondary = ee.Image(f\"{data_folder}/age_agbd\").select(\"age\")\n",
    "distances_image = mature_biomass_vector.distance(searchRadius = 500000).toInt().updateMask(secondary)\n",
    "\n",
    "def get_nearest_biomass(feature):\n",
    "    agbd_value = mature_biomass.reduceRegion(\n",
    "        reducer=ee.Reducer.first(),\n",
    "        geometry=feature.geometry(),\n",
    "        scale=500,\n",
    "        maxPixels=1e13\n",
    "    )\n",
    "    return feature.set(agbd_value)\n",
    "\n",
    "# Function to buffer and calculate mean\n",
    "def buffer_and_calculate_mean(f):\n",
    "    distance = ee.Number(f.get('distance'))\n",
    "    buffered = ee.Feature(f.buffer(distance.add(500), 1))\n",
    "    mean_value = mature_biomass.reduceRegion(ee.Reducer.mean().unweighted(), \\\n",
    "                                                        buffered.geometry(), 500, maxPixels=1e13)\n",
    "    return buffered.set(mean_value)\n",
    "\n",
    "distances_vector = distances_image.sample(region = region_shp, scale=500, numPixels = 10)\n",
    "\n",
    "# nearest_biomass = distances_vector.map(get_nearest_biomass)\n",
    "nearest_biomass = distances_vector.map(buffer_and_calculate_mean)\n",
    "\n",
    "# # Export an ee.FeatureCollection to Google Drive, adjusting the description based on the years\n",
    "task = ee.batch.Export.table.toAsset(\n",
    "    collection=nearest_biomass, assetId = f\"projects/amazon-forest-regrowth/assets/nearest_biomass_atl\", \\\n",
    "          description=\"near_mat_biomass\"\n",
    ")\n",
    "task.start()\n",
    "\n",
    "# map = geemap.Map()\n",
    "# # # map.addLayer(mature_biomass, {\"min\": 0, \"max\":400, 'palette':['blue', 'red']}, \"mature_biomass\")\n",
    "# map.addLayer(distances_image, {\"min\": 0, \"max\":100000, 'palette':['blue', 'red']}, \"dist\")\n",
    "# map.addLayer(nearest_biomass_image, {\"min\": 0, \"max\":400, 'palette':['blue', 'red']}, \"nearest_biomass\")\n",
    "# map"
   ]
  },
  {
   "cell_type": "code",
   "execution_count": 4,
   "id": "7e05edb2",
   "metadata": {},
   "outputs": [
    {
     "data": {
      "text/html": [
       "\n",
       "            <style>\n",
       "                .geemap-dark {\n",
       "                    --jp-widgets-color: white;\n",
       "                    --jp-widgets-label-color: white;\n",
       "                    --jp-ui-font-color1: white;\n",
       "                    --jp-layout-color2: #454545;\n",
       "                    background-color: #383838;\n",
       "                }\n",
       "\n",
       "                .geemap-dark .jupyter-button {\n",
       "                    --jp-layout-color3: #383838;\n",
       "                }\n",
       "\n",
       "                .geemap-colab {\n",
       "                    background-color: var(--colab-primary-surface-color, white);\n",
       "                }\n",
       "\n",
       "                .geemap-colab .jupyter-button {\n",
       "                    --jp-layout-color3: var(--colab-primary-surface-color, white);\n",
       "                }\n",
       "            </style>\n",
       "            "
      ],
      "text/plain": [
       "<IPython.core.display.HTML object>"
      ]
     },
     "metadata": {},
     "output_type": "display_data"
    }
   ],
   "source": [
    "mature_biomass = ee.Image(f\"{data_folder}/mature_biomass_500m_countrywide\").clip(region_shp)\n",
    "mature_biomass_vector = mature_biomass.gt(1).reduceToVectors(geometry=region_shp, scale=500, maxPixels=1e13)\n",
    "distances = mature_biomass_vector.distance(searchRadius = 500000).toInt()\n",
    "\n",
    "# Function to buffer and calculate mean\n",
    "def buffer_and_calculate_mean(f):\n",
    "    distance = ee.Number(f.get('distance'))\n",
    "    buffered = ee.Feature(f.buffer(distance.add(500), 1))\n",
    "    mean_value = mature_biomass.reduceRegion(ee.Reducer.mean().unweighted(), \\\n",
    "                                                        buffered.geometry(), 500, maxPixels=1e13)\n",
    "    return buffered.set(mean_value)\n",
    "\n",
    "\n",
    "def get_nearest_biomass(feature):\n",
    "    agbd_value = mature_biomass.reduceRegion(\n",
    "        reducer=ee.Reducer.first(),\n",
    "        geometry=feature.geometry(),\n",
    "        scale=500,\n",
    "        maxPixels=1e13\n",
    "    )\n",
    "    return feature.set(agbd_value)\n",
    "\n",
    "\n",
    "# def export_csv(year):\n",
    "year = 0\n",
    "if (year == 0):\n",
    "    land_use_years = ee.Image(f\"{data_folder}/land_use\")\n",
    "    name = f\"{region}_all\"\n",
    "else:\n",
    "    land_use_years = ee.Image(f\"{data_folder}/land_use_{year}_years\")\n",
    "    name = f\"{region}_{year}yr\"\n",
    "\n",
    "age_agbd = ee.Image(f\"{data_folder}/age_agbd\")\n",
    "categorical = ee.Image(f\"{data_folder}/categorical\")\n",
    "yearly_mean_prec = ee.Image(f\"{data_folder}/yearly_mean_prec\")\n",
    "yearly_SI = ee.Image(f\"{data_folder}/yearly_SI\")\n",
    "cwd = ee.Image(f\"{data_folder}/raw/cwd_chave\")\n",
    "sur_cover = ee.Image(f\"{data_folder}/sur_cover\").rename(\"sur_cover\")\n",
    "one_hectare_mask = ee.Image(f\"{data_folder}/one_hectare_mask\")\n",
    "\n",
    "combined_mask = one_hectare_mask.And(land_use_years.select(\"last_LU\"))\n",
    "\n",
    "unified_data = (\n",
    "    age_agbd.addBands(\n",
    "        [distances, categorical, land_use_years, cwd, sur_cover, yearly_mean_prec, yearly_SI\n",
    "    ]).updateMask(combined_mask)\n",
    ")\n",
    "\n",
    "unified_data_fc = unified_data.stratifiedSample(\n",
    "    numPoints = 500, classBand = 'ecoreg', region = unified_data.geometry()\n",
    ")\n",
    "\n",
    "pts_bm = unified_data_fc.map(get_nearest_biomass)\n",
    "\n",
    "task = ee.batch.Export.table.toDrive(\n",
    "    collection=pts_bm, description=name\n",
    ")\n",
    "task.start()\n",
    "\n",
    "task = ee.batch.Export.table.toAsset(\n",
    "    collection=pts_bm, description=name, assetId=f\"projects/amazon-forest-regrowth/assets/{name}\"\n",
    ")\n",
    "task.start()\n",
    "\n",
    "# export_csv(0)\n",
    "# export_csv(5)\n",
    "# export_csv(10)\n",
    "# export_csv(15)"
   ]
  }
 ],
 "metadata": {
  "kernelspec": {
   "display_name": "Python 3 (ipykernel)",
   "language": "python",
   "name": "python3"
  },
  "language_info": {
   "codemirror_mode": {
    "name": "ipython",
    "version": 3
   },
   "file_extension": ".py",
   "mimetype": "text/x-python",
   "name": "python",
   "nbconvert_exporter": "python",
   "pygments_lexer": "ipython3",
   "version": "3.12.3"
  }
 },
 "nbformat": 4,
 "nbformat_minor": 5
}
