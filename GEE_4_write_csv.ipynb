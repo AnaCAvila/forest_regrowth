{
 "cells": [
  {
   "cell_type": "markdown",
   "id": "956cff3f-99f1-45ca-b0b0-90c38a6e2c08",
   "metadata": {},
   "source": [
    "# Processing the final dataset\n",
    "\n"
   ]
  },
  {
   "cell_type": "code",
   "execution_count": 1,
   "id": "a9594018-621b-427e-89d3-0633de81979a",
   "metadata": {},
   "outputs": [],
   "source": [
    "import ee\n",
    "import geemap\n",
    "\n",
    "# Authenticate to Earth Engine\n",
    "try:\n",
    "    ee.Initialize()\n",
    "except Exception as e:\n",
    "    ee.Authenticate()\n",
    "    ee.Initialize()\n",
    "\n",
    "data_folder = \"projects/amazon-forest-regrowth/assets\"\n"
   ]
  },
  {
   "cell_type": "code",
   "execution_count": 36,
   "id": "d5e84af4",
   "metadata": {},
   "outputs": [
    {
     "data": {
      "text/html": [
       "\n",
       "            <style>\n",
       "                .geemap-dark {\n",
       "                    --jp-widgets-color: white;\n",
       "                    --jp-widgets-label-color: white;\n",
       "                    --jp-ui-font-color1: white;\n",
       "                    --jp-layout-color2: #454545;\n",
       "                    background-color: #383838;\n",
       "                }\n",
       "\n",
       "                .geemap-dark .jupyter-button {\n",
       "                    --jp-layout-color3: #383838;\n",
       "                }\n",
       "\n",
       "                .geemap-colab {\n",
       "                    background-color: var(--colab-primary-surface-color, white);\n",
       "                }\n",
       "\n",
       "                .geemap-colab .jupyter-button {\n",
       "                    --jp-layout-color3: var(--colab-primary-surface-color, white);\n",
       "                }\n",
       "            </style>\n",
       "            "
      ],
      "text/plain": [
       "<IPython.core.display.HTML object>"
      ]
     },
     "metadata": {},
     "output_type": "display_data"
    }
   ],
   "source": [
    "roi = ee.FeatureCollection(f\"{data_folder}/raw/biomes_br\") \\\n",
    "    .filter(ee.Filter.eq(\"CD_Bioma\", 6)).geometry()"
   ]
  },
  {
   "cell_type": "code",
   "execution_count": 31,
   "id": "30cca4cb",
   "metadata": {},
   "outputs": [
    {
     "data": {
      "text/html": [
       "\n",
       "            <style>\n",
       "                .geemap-dark {\n",
       "                    --jp-widgets-color: white;\n",
       "                    --jp-widgets-label-color: white;\n",
       "                    --jp-ui-font-color1: white;\n",
       "                    --jp-layout-color2: #454545;\n",
       "                    background-color: #383838;\n",
       "                }\n",
       "\n",
       "                .geemap-dark .jupyter-button {\n",
       "                    --jp-layout-color3: #383838;\n",
       "                }\n",
       "\n",
       "                .geemap-colab {\n",
       "                    background-color: var(--colab-primary-surface-color, white);\n",
       "                }\n",
       "\n",
       "                .geemap-colab .jupyter-button {\n",
       "                    --jp-layout-color3: var(--colab-primary-surface-color, white);\n",
       "                }\n",
       "            </style>\n",
       "            "
      ],
      "text/plain": [
       "<IPython.core.display.HTML object>"
      ]
     },
     "metadata": {},
     "output_type": "display_data"
    }
   ],
   "source": [
    "mature_biomass = ee.Image(f\"{data_folder}/mature_biomass\")#.clip(roi)\n",
    "\n",
    "task = ee.batch.Export.image.toDrive(\n",
    "    image = mature_biomass,\n",
    "    description = 'mature_biomass_500m_todrive',\n",
    "    fileNamePrefix = 'mature_biomass_500m',\n",
    "    region = mature_biomass.geometry(),\n",
    "    scale = 500,\n",
    "    crs=\"EPSG:4326\",\n",
    "    maxPixels = 1e13\n",
    ")\n",
    "task.start()\n",
    "\n",
    "# Create the export task\n",
    "task = ee.batch.Export.image.toAsset(\n",
    "    image=mature_biomass,\n",
    "    description=\"mature_biomass_500m\",\n",
    "    assetId=f\"projects/amazon-forest-regrowth/assets/mature_biomass_500m\",\n",
    "    scale=500,\n",
    "    crs=\"EPSG:4326\",\n",
    "    maxPixels = 1e13\n",
    ")\n",
    "# Start the export task\n",
    "task.start()"
   ]
  },
  {
   "cell_type": "code",
   "execution_count": 38,
   "id": "c0bf7c42",
   "metadata": {},
   "outputs": [
    {
     "data": {
      "text/html": [
       "\n",
       "            <style>\n",
       "                .geemap-dark {\n",
       "                    --jp-widgets-color: white;\n",
       "                    --jp-widgets-label-color: white;\n",
       "                    --jp-ui-font-color1: white;\n",
       "                    --jp-layout-color2: #454545;\n",
       "                    background-color: #383838;\n",
       "                }\n",
       "\n",
       "                .geemap-dark .jupyter-button {\n",
       "                    --jp-layout-color3: #383838;\n",
       "                }\n",
       "\n",
       "                .geemap-colab {\n",
       "                    background-color: var(--colab-primary-surface-color, white);\n",
       "                }\n",
       "\n",
       "                .geemap-colab .jupyter-button {\n",
       "                    --jp-layout-color3: var(--colab-primary-surface-color, white);\n",
       "                }\n",
       "            </style>\n",
       "            "
      ],
      "text/plain": [
       "<IPython.core.display.HTML object>"
      ]
     },
     "metadata": {},
     "output_type": "display_data"
    },
    {
     "data": {
      "application/vnd.jupyter.widget-view+json": {
       "model_id": "d28a66d5ec724437bff78bc8eeb00ccc",
       "version_major": 2,
       "version_minor": 0
      },
      "text/plain": [
       "Map(center=[0, 0], controls=(WidgetControl(options=['position', 'transparent_bg'], widget=SearchDataGUI(childr…"
      ]
     },
     "execution_count": 38,
     "metadata": {},
     "output_type": "execute_result"
    }
   ],
   "source": [
    "age_agbd = ee.Image(f\"{data_folder}/age_agbd\")\n",
    "\n",
    "mature_biomass_aggregated = ee.Image(f\"{data_folder}/mature_biomass_100m\")\n",
    "\n",
    "distance = mature_biomass_aggregated.fastDistanceTransform().sqrt() \\\n",
    "    .multiply(ee.Image.pixelArea().sqrt()).rename(\"distance\") \\\n",
    "    .updateMask(age_agbd.select(\"age\")).float()#.clip(roi)\n",
    "\n",
    "tst = ee.Image(f\"{data_folder}/distance_500m_amaz\")\n",
    "map = geemap.Map()\n",
    "map.addLayer(tst, {\"min\": 0, \"max\": 10000}, \"distance\")\n",
    "map.addLayer(mature_biomass_aggregated, {\"min\": 0, \"max\": 300}, \"mature_biomass_aggregated\")\n",
    "map\n",
    "\n",
    "# # Create the export task\n",
    "# task = ee.batch.Export.image.toAsset(\n",
    "#     image=distance,\n",
    "#     description=\"distance_500m_toasset\",\n",
    "#     assetId=f\"projects/amazon-forest-regrowth/assets/distance_1000m\",\n",
    "#     scale=1000,\n",
    "#     crs=\"EPSG:4326\",\n",
    "#     maxPixels = 1e13\n",
    "# )\n",
    "# # Start the export task\n",
    "# task.start()\n",
    "\n",
    "# task = ee.batch.Export.image.toDrive(\n",
    "#     image = distance,\n",
    "#     description = 'distance_1000m_todrive',\n",
    "#     fileNamePrefix = 'distance_1000m',\n",
    "#     region = distance.geometry(),\n",
    "#     scale = 1000,\n",
    "#     crs=\"EPSG:4326\",\n",
    "#     maxPixels = 1e13\n",
    "# )\n",
    "# task.start()"
   ]
  },
  {
   "cell_type": "code",
   "execution_count": 27,
   "id": "7e05edb2",
   "metadata": {},
   "outputs": [
    {
     "data": {
      "text/html": [
       "\n",
       "            <style>\n",
       "                .geemap-dark {\n",
       "                    --jp-widgets-color: white;\n",
       "                    --jp-widgets-label-color: white;\n",
       "                    --jp-ui-font-color1: white;\n",
       "                    --jp-layout-color2: #454545;\n",
       "                    background-color: #383838;\n",
       "                }\n",
       "\n",
       "                .geemap-dark .jupyter-button {\n",
       "                    --jp-layout-color3: #383838;\n",
       "                }\n",
       "\n",
       "                .geemap-colab {\n",
       "                    background-color: var(--colab-primary-surface-color, white);\n",
       "                }\n",
       "\n",
       "                .geemap-colab .jupyter-button {\n",
       "                    --jp-layout-color3: var(--colab-primary-surface-color, white);\n",
       "                }\n",
       "            </style>\n",
       "            "
      ],
      "text/plain": [
       "<IPython.core.display.HTML object>"
      ]
     },
     "metadata": {},
     "output_type": "display_data"
    }
   ],
   "source": [
    "def export_csv(year):\n",
    "    if (year == 0):\n",
    "        land_use_years = ee.Image(f\"{data_folder}/land_use\")\n",
    "        name = \"all_LULC_1000_countrywide\"\n",
    "    else:\n",
    "        land_use_years = ee.Image(f\"{data_folder}/land_use_{year}_years\")\n",
    "        name = f\"{year}y_LULC_1000_countrywide\"\n",
    "\n",
    "    age_agbd = ee.Image(f\"{data_folder}/age_agbd\")\n",
    "    categorical = ee.Image(f\"{data_folder}/categorical\")\n",
    "    sur_cover = ee.Image(f\"{data_folder}/sur_cover\").rename(\"sur_cover\")\n",
    "    one_hectare_mask = ee.Image(f\"{data_folder}/one_hectare_mask\").rename(\"one_hectare_mask\")\n",
    "    cwd = ee.Image(f\"{data_folder}/raw/cwd_chave\").float().rename(\"cwd\")\n",
    "    yearly_mean_prec = ee.Image(f\"{data_folder}/yearly_mean_prec\")\n",
    "    yearly_SI = ee.Image(f\"{data_folder}/yearly_SI\")\n",
    "    mat = ee.Image(f\"{data_folder}/nearest_mat_biomass_1000_countrywide\").rename(\"distance\", \"mature_biomass\")\n",
    "\n",
    "    combined_mask = one_hectare_mask.And(land_use_years.select(\"last_LU\")) \\\n",
    "        .And(mat.select(\"distance\"))\n",
    "\n",
    "    unified_data = (\n",
    "        age_agbd.addBands(\n",
    "            [mat, distance, categorical, land_use_years, cwd, sur_cover, yearly_mean_prec, yearly_SI\n",
    "        ]).updateMask(combined_mask)\n",
    "    )\n",
    "\n",
    "\n",
    "    unified_data_fc = unified_data.stratifiedSample(\n",
    "        numPoints = 5000, classBand = 'ecoreg', region = unified_data.geometry()\n",
    "    )\n",
    "\n",
    "\n",
    "    # Export an ee.FeatureCollection to Google Drive, adjusting the description based on the years\n",
    "    task = ee.batch.Export.table.toDrive(\n",
    "        collection=unified_data_fc, description=name\n",
    "    )\n",
    "    task.start()\n",
    "\n",
    "export_csv(0)\n",
    "export_csv(5)\n",
    "export_csv(10)\n",
    "export_csv(15)"
   ]
  }
 ],
 "metadata": {
  "kernelspec": {
   "display_name": "Python 3 (ipykernel)",
   "language": "python",
   "name": "python3"
  },
  "language_info": {
   "codemirror_mode": {
    "name": "ipython",
    "version": 3
   },
   "file_extension": ".py",
   "mimetype": "text/x-python",
   "name": "python",
   "nbconvert_exporter": "python",
   "pygments_lexer": "ipython3",
   "version": "3.11.9"
  }
 },
 "nbformat": 4,
 "nbformat_minor": 5
}
