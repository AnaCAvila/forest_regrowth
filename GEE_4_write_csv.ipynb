{
 "cells": [
  {
   "cell_type": "markdown",
   "id": "956cff3f-99f1-45ca-b0b0-90c38a6e2c08",
   "metadata": {},
   "source": [
    "# Processing the final dataset\n",
    "\n"
   ]
  },
  {
   "cell_type": "code",
   "execution_count": 21,
   "id": "a9594018-621b-427e-89d3-0633de81979a",
   "metadata": {},
   "outputs": [
    {
     "data": {
      "text/html": [
       "\n",
       "            <style>\n",
       "                .geemap-dark {\n",
       "                    --jp-widgets-color: white;\n",
       "                    --jp-widgets-label-color: white;\n",
       "                    --jp-ui-font-color1: white;\n",
       "                    --jp-layout-color2: #454545;\n",
       "                    background-color: #383838;\n",
       "                }\n",
       "\n",
       "                .geemap-dark .jupyter-button {\n",
       "                    --jp-layout-color3: #383838;\n",
       "                }\n",
       "\n",
       "                .geemap-colab {\n",
       "                    background-color: var(--colab-primary-surface-color, white);\n",
       "                }\n",
       "\n",
       "                .geemap-colab .jupyter-button {\n",
       "                    --jp-layout-color3: var(--colab-primary-surface-color, white);\n",
       "                }\n",
       "            </style>\n",
       "            "
      ],
      "text/plain": [
       "<IPython.core.display.HTML object>"
      ]
     },
     "metadata": {},
     "output_type": "display_data"
    },
    {
     "data": {
      "text/html": [
       "<p>To authorize access needed by Earth Engine, open the following\n",
       "        URL in a web browser and follow the instructions:</p>\n",
       "        <p><a href=https://code.earthengine.google.com/client-auth?scopes=https%3A//www.googleapis.com/auth/earthengine%20https%3A//www.googleapis.com/auth/cloud-platform%20https%3A//www.googleapis.com/auth/devstorage.full_control&request_id=VF9WjmMxpSKLXIJXhxu80YZvn1-zbiQlR51H2Csd2sM&tc=UIB_807E5EXIfCyyeWAQS9ty26tDEc3s6Jxu3R_Pd40&cc=atrcstsl7Ig9JaVGnvnWVI4Y51zm2Uk-yyU5REaaoEM>https://code.earthengine.google.com/client-auth?scopes=https%3A//www.googleapis.com/auth/earthengine%20https%3A//www.googleapis.com/auth/cloud-platform%20https%3A//www.googleapis.com/auth/devstorage.full_control&request_id=VF9WjmMxpSKLXIJXhxu80YZvn1-zbiQlR51H2Csd2sM&tc=UIB_807E5EXIfCyyeWAQS9ty26tDEc3s6Jxu3R_Pd40&cc=atrcstsl7Ig9JaVGnvnWVI4Y51zm2Uk-yyU5REaaoEM</a></p>\n",
       "        <p>The authorization workflow will generate a code, which you should paste in the box below.</p>\n",
       "        "
      ],
      "text/plain": [
       "<IPython.core.display.HTML object>"
      ]
     },
     "metadata": {},
     "output_type": "display_data"
    },
    {
     "name": "stdout",
     "output_type": "stream",
     "text": [
      "\n",
      "Successfully saved authorization token.\n"
     ]
    }
   ],
   "source": [
    "import ee\n",
    "import geemap\n",
    "\n",
    "# Authenticate to Earth Engine\n",
    "try:\n",
    "    ee.Initialize()\n",
    "except Exception as e:\n",
    "    ee.Authenticate()\n",
    "    ee.Initialize()\n",
    "\n",
    "data_folder = \"projects/amazon-forest-regrowth/assets\"\n",
    "\n"
   ]
  },
  {
   "cell_type": "code",
   "execution_count": 2,
   "id": "2c3b3516",
   "metadata": {},
   "outputs": [
    {
     "data": {
      "text/html": [
       "\n",
       "            <style>\n",
       "                .geemap-dark {\n",
       "                    --jp-widgets-color: white;\n",
       "                    --jp-widgets-label-color: white;\n",
       "                    --jp-ui-font-color1: white;\n",
       "                    --jp-layout-color2: #454545;\n",
       "                    background-color: #383838;\n",
       "                }\n",
       "\n",
       "                .geemap-dark .jupyter-button {\n",
       "                    --jp-layout-color3: #383838;\n",
       "                }\n",
       "\n",
       "                .geemap-colab {\n",
       "                    background-color: var(--colab-primary-surface-color, white);\n",
       "                }\n",
       "\n",
       "                .geemap-colab .jupyter-button {\n",
       "                    --jp-layout-color3: var(--colab-primary-surface-color, white);\n",
       "                }\n",
       "            </style>\n",
       "            "
      ],
      "text/plain": [
       "<IPython.core.display.HTML object>"
      ]
     },
     "metadata": {},
     "output_type": "display_data"
    }
   ],
   "source": [
    "export_distances = False\n",
    "aggregate_LU = False\n",
    "\n",
    "if (aggregate_LU):\n",
    "    prefix = \"aggregated\"\n",
    "else:\n",
    "    prefix = \"non_aggregated\""
   ]
  },
  {
   "cell_type": "code",
   "execution_count": 3,
   "id": "312e7c9b",
   "metadata": {},
   "outputs": [
    {
     "data": {
      "text/html": [
       "\n",
       "            <style>\n",
       "                .geemap-dark {\n",
       "                    --jp-widgets-color: white;\n",
       "                    --jp-widgets-label-color: white;\n",
       "                    --jp-ui-font-color1: white;\n",
       "                    --jp-layout-color2: #454545;\n",
       "                    background-color: #383838;\n",
       "                }\n",
       "\n",
       "                .geemap-dark .jupyter-button {\n",
       "                    --jp-layout-color3: #383838;\n",
       "                }\n",
       "\n",
       "                .geemap-colab {\n",
       "                    background-color: var(--colab-primary-surface-color, white);\n",
       "                }\n",
       "\n",
       "                .geemap-colab .jupyter-button {\n",
       "                    --jp-layout-color3: var(--colab-primary-surface-color, white);\n",
       "                }\n",
       "            </style>\n",
       "            "
      ],
      "text/plain": [
       "<IPython.core.display.HTML object>"
      ]
     },
     "metadata": {},
     "output_type": "display_data"
    }
   ],
   "source": [
    "mature_biomass = ee.Image(f\"{data_folder}/mature_biomass_500m_countrywide\")\n",
    "proj = mature_biomass.projection().getInfo()\n",
    "\n",
    "age_agbd = ee.Image(f\"{data_folder}/age_agbd\")\n",
    "secondary = age_agbd.select(\"age\")\n",
    "\n",
    "if (export_distances):\n",
    "    mature_biomass_vector = mature_biomass.reduceToVectors(geometry = secondary.geometry(), scale=500, maxPixels=1e13)\n",
    "    distances_image = mature_biomass_vector.distance(searchRadius = 500000).toInt().updateMask(secondary)\n",
    "\n",
    "    # Export the mean_biomass_image as an asset\n",
    "    task = ee.batch.Export.image.toAsset(\n",
    "        image=distances_image,\n",
    "        assetId = \"projects/amazon-forest-regrowth/assets/distance_to_mature_biomass\",\n",
    "        description=\"distance_to_mature_biomass\",\n",
    "        region=secondary.geometry(),\n",
    "        crs=proj['crs'],\n",
    "        crsTransform=proj['transform'],\n",
    "        maxPixels=1e13\n",
    "    )\n",
    "    task.start()\n",
    "\n"
   ]
  },
  {
   "cell_type": "code",
   "execution_count": 4,
   "id": "71ab1c41",
   "metadata": {},
   "outputs": [
    {
     "data": {
      "text/html": [
       "\n",
       "            <style>\n",
       "                .geemap-dark {\n",
       "                    --jp-widgets-color: white;\n",
       "                    --jp-widgets-label-color: white;\n",
       "                    --jp-ui-font-color1: white;\n",
       "                    --jp-layout-color2: #454545;\n",
       "                    background-color: #383838;\n",
       "                }\n",
       "\n",
       "                .geemap-dark .jupyter-button {\n",
       "                    --jp-layout-color3: #383838;\n",
       "                }\n",
       "\n",
       "                .geemap-colab {\n",
       "                    background-color: var(--colab-primary-surface-color, white);\n",
       "                }\n",
       "\n",
       "                .geemap-colab .jupyter-button {\n",
       "                    --jp-layout-color3: var(--colab-primary-surface-color, white);\n",
       "                }\n",
       "            </style>\n",
       "            "
      ],
      "text/plain": [
       "<IPython.core.display.HTML object>"
      ]
     },
     "metadata": {},
     "output_type": "display_data"
    }
   ],
   "source": [
    "\n",
    "# Function to buffer and calculate mean\n",
    "def buffer_distance(f):\n",
    "    distance = ee.Number(f.get('distance'))\n",
    "    buffered = ee.Feature(f.buffer(distance.add(2000)))\n",
    "    return buffered\n"
   ]
  },
  {
   "cell_type": "code",
   "execution_count": 39,
   "id": "f283236e",
   "metadata": {},
   "outputs": [
    {
     "data": {
      "text/html": [
       "\n",
       "            <style>\n",
       "                .geemap-dark {\n",
       "                    --jp-widgets-color: white;\n",
       "                    --jp-widgets-label-color: white;\n",
       "                    --jp-ui-font-color1: white;\n",
       "                    --jp-layout-color2: #454545;\n",
       "                    background-color: #383838;\n",
       "                }\n",
       "\n",
       "                .geemap-dark .jupyter-button {\n",
       "                    --jp-layout-color3: #383838;\n",
       "                }\n",
       "\n",
       "                .geemap-colab {\n",
       "                    background-color: var(--colab-primary-surface-color, white);\n",
       "                }\n",
       "\n",
       "                .geemap-colab .jupyter-button {\n",
       "                    --jp-layout-color3: var(--colab-primary-surface-color, white);\n",
       "                }\n",
       "            </style>\n",
       "            "
      ],
      "text/plain": [
       "<IPython.core.display.HTML object>"
      ]
     },
     "metadata": {},
     "output_type": "display_data"
    }
   ],
   "source": [
    "categorical = ee.Image(f\"{data_folder}/categorical\")\n",
    "distance = ee.Image(f\"{data_folder}/distance_to_mature_biomass\")\n",
    "\n",
    "one_hectare_mask = ee.Image(f\"{data_folder}/one_hectare_mask\")\n",
    "biome_mask = categorical.select('biome').eq(1).Or(categorical.select('biome').eq(4))\n",
    "combined_mask = one_hectare_mask.And(biome_mask)\n",
    "\n",
    "categorical = categorical.updateMask(combined_mask)\n",
    "\n",
    "dist_cat = distance.addBands(combined_mask)\n",
    "\n",
    "dist_cat_sampled = dist_cat.stratifiedSample(\n",
    "    numPoints = 1000000, classBand = 'one_hectare_mask', region = age_agbd.geometry(), geometries = True\n",
    ")\n",
    "\n",
    "dist_cat_sampled_buffered = dist_cat_sampled.map(buffer_distance)\n",
    "\n",
    "nearest_mature = mature_biomass.reduceRegions(dist_cat_sampled_buffered, ee.Reducer.firstNonNull(), \n",
    "                                        crs = proj['crs'], crsTransform = proj['transform']\n",
    ")\n",
    "\n",
    "# Export the mean_biomass_image as an asset\n",
    "task = ee.batch.Export.table.toAsset(\n",
    "    collection=nearest_mature,\n",
    "    assetId = \"projects/amazon-forest-regrowth/assets/nearest_mature1\",\n",
    "    description=\"nearest_mature\"\n",
    ")\n",
    "\n",
    "task.start()"
   ]
  },
  {
   "cell_type": "code",
   "execution_count": 19,
   "id": "6a99b332",
   "metadata": {},
   "outputs": [
    {
     "data": {
      "text/html": [
       "\n",
       "            <style>\n",
       "                .geemap-dark {\n",
       "                    --jp-widgets-color: white;\n",
       "                    --jp-widgets-label-color: white;\n",
       "                    --jp-ui-font-color1: white;\n",
       "                    --jp-layout-color2: #454545;\n",
       "                    background-color: #383838;\n",
       "                }\n",
       "\n",
       "                .geemap-dark .jupyter-button {\n",
       "                    --jp-layout-color3: #383838;\n",
       "                }\n",
       "\n",
       "                .geemap-colab {\n",
       "                    background-color: var(--colab-primary-surface-color, white);\n",
       "                }\n",
       "\n",
       "                .geemap-colab .jupyter-button {\n",
       "                    --jp-layout-color3: var(--colab-primary-surface-color, white);\n",
       "                }\n",
       "            </style>\n",
       "            "
      ],
      "text/plain": [
       "<IPython.core.display.HTML object>"
      ]
     },
     "metadata": {},
     "output_type": "display_data"
    }
   ],
   "source": [
    "nearest_mature = ee.FeatureCollection(\"projects/amazon-forest-regrowth/assets/nearest_mature\")\n",
    "\n",
    "nearest_mature = nearest_mature.map(lambda f: ee.Feature(f.geometry().centroid()).copyProperties(f))\n",
    "\n",
    "# Convert the FeatureCollection to an image\n",
    "nearest_mature_image = nearest_mature.reduceToImage(\n",
    "    properties=['first'],\n",
    "    reducer=ee.Reducer.first()\n",
    ").toInt16().rename('nearest_mature')\n",
    "\n",
    "export_task = ee.batch.Export.image.toAsset(\n",
    "    image=nearest_mature_image,\n",
    "    assetId = \"projects/amazon-forest-regrowth/assets/nearest_mature_image\",\n",
    "    description='nearest_mature_export',\n",
    "    crs=proj['crs'],\n",
    "    crsTransform=proj['transform'],\n",
    "    region = age_agbd.geometry(),\n",
    "    maxPixels=1e13\n",
    ")\n",
    "\n",
    "export_task.start()"
   ]
  },
  {
   "cell_type": "code",
   "execution_count": 38,
   "id": "7e05edb2",
   "metadata": {},
   "outputs": [
    {
     "data": {
      "text/html": [
       "\n",
       "            <style>\n",
       "                .geemap-dark {\n",
       "                    --jp-widgets-color: white;\n",
       "                    --jp-widgets-label-color: white;\n",
       "                    --jp-ui-font-color1: white;\n",
       "                    --jp-layout-color2: #454545;\n",
       "                    background-color: #383838;\n",
       "                }\n",
       "\n",
       "                .geemap-dark .jupyter-button {\n",
       "                    --jp-layout-color3: #383838;\n",
       "                }\n",
       "\n",
       "                .geemap-colab {\n",
       "                    background-color: var(--colab-primary-surface-color, white);\n",
       "                }\n",
       "\n",
       "                .geemap-colab .jupyter-button {\n",
       "                    --jp-layout-color3: var(--colab-primary-surface-color, white);\n",
       "                }\n",
       "            </style>\n",
       "            "
      ],
      "text/plain": [
       "<IPython.core.display.HTML object>"
      ]
     },
     "metadata": {},
     "output_type": "display_data"
    },
    {
     "ename": "TypeError",
     "evalue": "Filter.neq() missing 1 required positional argument: 'value'",
     "output_type": "error",
     "traceback": [
      "\u001b[0;31m---------------------------------------------------------------------------\u001b[0m",
      "\u001b[0;31mTypeError\u001b[0m                                 Traceback (most recent call last)",
      "Cell \u001b[0;32mIn[38], line 46\u001b[0m\n\u001b[1;32m     34\u001b[0m     \u001b[38;5;28mprint\u001b[39m(unified_data_filtered\u001b[38;5;241m.\u001b[39mfirst()\u001b[38;5;241m.\u001b[39mpropertyNames()\u001b[38;5;241m.\u001b[39mgetInfo())\n\u001b[1;32m     36\u001b[0m \u001b[38;5;66;03m#     task = ee.batch.Export.table.toDrive(\u001b[39;00m\n\u001b[1;32m     37\u001b[0m \u001b[38;5;66;03m#         collection=unified_data_sampled, description=name\u001b[39;00m\n\u001b[1;32m     38\u001b[0m \u001b[38;5;66;03m#     )\u001b[39;00m\n\u001b[0;32m   (...)\u001b[0m\n\u001b[1;32m     43\u001b[0m \u001b[38;5;66;03m# # )\u001b[39;00m\n\u001b[1;32m     44\u001b[0m \u001b[38;5;66;03m# # task.start()\u001b[39;00m\n\u001b[0;32m---> 46\u001b[0m \u001b[43mexport_csv\u001b[49m\u001b[43m(\u001b[49m\u001b[38;5;241;43m0\u001b[39;49m\u001b[43m)\u001b[49m\n\u001b[1;32m     47\u001b[0m \u001b[38;5;66;03m# export_csv(5)\u001b[39;00m\n\u001b[1;32m     48\u001b[0m \u001b[38;5;66;03m# export_csv(10)\u001b[39;00m\n\u001b[1;32m     49\u001b[0m \u001b[38;5;66;03m# export_csv(15)\u001b[39;00m\n",
      "Cell \u001b[0;32mIn[38], line 28\u001b[0m, in \u001b[0;36mexport_csv\u001b[0;34m(year)\u001b[0m\n\u001b[1;32m     23\u001b[0m unified_data_sampled \u001b[38;5;241m=\u001b[39m unified_data\u001b[38;5;241m.\u001b[39mstratifiedSample(\n\u001b[1;32m     24\u001b[0m     numPoints \u001b[38;5;241m=\u001b[39m \u001b[38;5;241m10000\u001b[39m, classBand \u001b[38;5;241m=\u001b[39m \u001b[38;5;124m'\u001b[39m\u001b[38;5;124mbiome\u001b[39m\u001b[38;5;124m'\u001b[39m, region \u001b[38;5;241m=\u001b[39m age_agbd\u001b[38;5;241m.\u001b[39mgeometry())\n\u001b[1;32m     26\u001b[0m \u001b[38;5;66;03m# First, select all properties except 'system:index' and '.geo'\u001b[39;00m\n\u001b[1;32m     27\u001b[0m properties_to_export \u001b[38;5;241m=\u001b[39m unified_data_sampled\u001b[38;5;241m.\u001b[39mfirst()\u001b[38;5;241m.\u001b[39mpropertyNames()\u001b[38;5;241m.\u001b[39mfilter(\n\u001b[0;32m---> 28\u001b[0m     \u001b[43mee\u001b[49m\u001b[38;5;241;43m.\u001b[39;49m\u001b[43mFilter\u001b[49m\u001b[38;5;241;43m.\u001b[39;49m\u001b[43mneq\u001b[49m\u001b[43m(\u001b[49m\u001b[38;5;124;43m'\u001b[39;49m\u001b[38;5;124;43msystem:index\u001b[39;49m\u001b[38;5;124;43m'\u001b[39;49m\u001b[43m)\u001b[49m\n\u001b[1;32m     29\u001b[0m )\n\u001b[1;32m     31\u001b[0m \u001b[38;5;66;03m# Create a new feature collection with only the desired properties\u001b[39;00m\n\u001b[1;32m     32\u001b[0m unified_data_filtered \u001b[38;5;241m=\u001b[39m unified_data_sampled\u001b[38;5;241m.\u001b[39mselect(properties_to_export)\n",
      "\u001b[0;31mTypeError\u001b[0m: Filter.neq() missing 1 required positional argument: 'value'"
     ]
    }
   ],
   "source": [
    "\n",
    "def export_csv(year):\n",
    "    if (year == 0):\n",
    "        land_use_years = ee.Image(f\"{data_folder}/land_use\")\n",
    "        name = f\"{prefix}_all\"\n",
    "    else:\n",
    "        land_use_years = ee.Image(f\"{data_folder}/land_use_{year}_years\")\n",
    "        name = f\"{prefix}_{year}yr\"\n",
    "\n",
    "    nearest_mature = ee.Image(f\"{data_folder}/nearest_mature_image\").toInt16()\n",
    "    yearly_mean_prec = ee.Image(f\"{data_folder}/yearly_mean_prec\")\n",
    "    yearly_SI = ee.Image(f\"{data_folder}/yearly_SI\")\n",
    "    cwd = ee.Image(f\"{data_folder}/raw/cwd_chave\")\n",
    "    sur_cover = ee.Image(f\"{data_folder}/sur_cover\").rename(\"sur_cover\")\n",
    "\n",
    "    combined_mask = land_use_years.select(\"last_LU\").And(nearest_mature)\n",
    "\n",
    "    unified_data = (\n",
    "        age_agbd.addBands(\n",
    "            [distance, nearest_mature, categorical, land_use_years, cwd, sur_cover, yearly_mean_prec, yearly_SI\n",
    "        ]).updateMask(combined_mask)\n",
    "    )\n",
    "\n",
    "    unified_data_sampled = unified_data.stratifiedSample(\n",
    "        numPoints = 10000, classBand = 'biome', region = age_agbd.geometry()\n",
    "    )\n",
    "\n",
    "    task = ee.batch.Export.table.toDrive(\n",
    "        collection=unified_data_sampled, description=name\n",
    "    )\n",
    "    task.start()\n",
    "\n",
    "# task = ee.batch.Export.table.toAsset(\n",
    "#     collection=pts_bm, description=name, assetId=f\"projects/amazon-forest-regrowth/assets/{name}\"\n",
    "# )\n",
    "# task.start()\n",
    "\n",
    "export_csv(0)\n",
    "export_csv(5)\n",
    "export_csv(10)\n",
    "export_csv(15)"
   ]
  },
  {
   "cell_type": "code",
   "execution_count": 13,
   "id": "58af2eec",
   "metadata": {},
   "outputs": [
    {
     "data": {
      "text/html": [
       "\n",
       "            <style>\n",
       "                .geemap-dark {\n",
       "                    --jp-widgets-color: white;\n",
       "                    --jp-widgets-label-color: white;\n",
       "                    --jp-ui-font-color1: white;\n",
       "                    --jp-layout-color2: #454545;\n",
       "                    background-color: #383838;\n",
       "                }\n",
       "\n",
       "                .geemap-dark .jupyter-button {\n",
       "                    --jp-layout-color3: #383838;\n",
       "                }\n",
       "\n",
       "                .geemap-colab {\n",
       "                    background-color: var(--colab-primary-surface-color, white);\n",
       "                }\n",
       "\n",
       "                .geemap-colab .jupyter-button {\n",
       "                    --jp-layout-color3: var(--colab-primary-surface-color, white);\n",
       "                }\n",
       "            </style>\n",
       "            "
      ],
      "text/plain": [
       "<IPython.core.display.HTML object>"
      ]
     },
     "metadata": {},
     "output_type": "display_data"
    }
   ],
   "source": [
    "gaul = ee.FeatureCollection('FAO/GAUL_SIMPLIFIED_500m/2015/level0')\n",
    "br_shp = ee.FeatureCollection('projects/amazon-forest-regrowth/assets/raw/brasil_shp')\n",
    "\n",
    "# Convert the FeatureCollection to an image\n",
    "br_img = br_shp.reduceToImage(\n",
    "    properties=['AREA_KM2'],  # Assuming 'first' is the current property name\n",
    "    reducer=ee.Reducer.first()\n",
    ").rename('br_img')\n",
    "\n",
    "br_img = br_img.reproject(proj['crs'], proj['transform'])\n",
    "br_img = br_img.gt(0)\n",
    "\n",
    "\n",
    "south_american_countries = [\n",
    "    'Argentina', 'Bolivia', 'Brazil', 'Chile', 'Colombia', 'Ecuador',\n",
    "    'French Guiana', 'Guyana', 'Paraguay', 'Peru', 'Suriname', 'Uruguay', 'Venezuela'\n",
    "]\n",
    "\n",
    "south_america = gaul.filter(ee.Filter.inList('ADM0_NAME', south_american_countries))\n",
    "\n",
    "south_america_merged = south_america.union().geometry()\n",
    "\n",
    "br_buffer = br_shp.geometry().buffer(-1000, maxError=5)\n",
    "sa_buffer = south_america_merged.buffer(-1000, maxError=5)\n",
    "\n",
    "remove_mask = br_buffer.symmetricDifference(sa_buffer)\n",
    "\n",
    "# Export the mean_biomass_image as an asset\n",
    "task = ee.batch.Export.table.toAsset(\n",
    "    collection=remove_mask,\n",
    "    assetId = \"projects/amazon-forest-regrowth/assets/remove_mask\",\n",
    "    description=\"remove_mask\"\n",
    ")\n",
    "task.start()\n",
    "\n",
    "# map = geemap.Map()\n",
    "# map.addLayer(br_img, {}, \"br_img\")\n",
    "# map.addLayer(brazil_buffer, {}, \"brazil_buffer\")\n",
    "# # map.addLayer(south_america_merged, {}, \"largest_polygon\")\n",
    "# map"
   ]
  },
  {
   "cell_type": "code",
   "execution_count": 57,
   "id": "6cb0f6fa",
   "metadata": {},
   "outputs": [
    {
     "data": {
      "text/html": [
       "\n",
       "            <style>\n",
       "                .geemap-dark {\n",
       "                    --jp-widgets-color: white;\n",
       "                    --jp-widgets-label-color: white;\n",
       "                    --jp-ui-font-color1: white;\n",
       "                    --jp-layout-color2: #454545;\n",
       "                    background-color: #383838;\n",
       "                }\n",
       "\n",
       "                .geemap-dark .jupyter-button {\n",
       "                    --jp-layout-color3: #383838;\n",
       "                }\n",
       "\n",
       "                .geemap-colab {\n",
       "                    background-color: var(--colab-primary-surface-color, white);\n",
       "                }\n",
       "\n",
       "                .geemap-colab .jupyter-button {\n",
       "                    --jp-layout-color3: var(--colab-primary-surface-color, white);\n",
       "                }\n",
       "            </style>\n",
       "            "
      ],
      "text/plain": [
       "<IPython.core.display.HTML object>"
      ]
     },
     "metadata": {},
     "output_type": "display_data"
    }
   ],
   "source": [
    "\n",
    "# Convert the MultiPolygon to a FeatureCollection of individual polygons\n",
    "geometry_fc = ee.FeatureCollection(south_america_merged.geometries().map(lambda geom: ee.Feature(ee.Geometry(geom))))\n",
    "\n",
    "# Calculate the area of each polygon and add it as a property\n",
    "area_fc = geometry_fc.map(lambda f: f.set('area', f.geometry().area()))\n",
    "\n",
    "# Sort the polygons by area in descending order\n",
    "sorted_fc = area_fc.sort('area', False)\n",
    "\n",
    "# Get the largest polygon (the first feature in the sorted collection)\n",
    "largest_polygon = ee.Feature(sorted_fc.first()).geometry()\n"
   ]
  },
  {
   "cell_type": "code",
   "execution_count": 14,
   "id": "84cac8e2",
   "metadata": {},
   "outputs": [
    {
     "data": {
      "text/html": [
       "\n",
       "            <style>\n",
       "                .geemap-dark {\n",
       "                    --jp-widgets-color: white;\n",
       "                    --jp-widgets-label-color: white;\n",
       "                    --jp-ui-font-color1: white;\n",
       "                    --jp-layout-color2: #454545;\n",
       "                    background-color: #383838;\n",
       "                }\n",
       "\n",
       "                .geemap-dark .jupyter-button {\n",
       "                    --jp-layout-color3: #383838;\n",
       "                }\n",
       "\n",
       "                .geemap-colab {\n",
       "                    background-color: var(--colab-primary-surface-color, white);\n",
       "                }\n",
       "\n",
       "                .geemap-colab .jupyter-button {\n",
       "                    --jp-layout-color3: var(--colab-primary-surface-color, white);\n",
       "                }\n",
       "            </style>\n",
       "            "
      ],
      "text/plain": [
       "<IPython.core.display.HTML object>"
      ]
     },
     "metadata": {},
     "output_type": "display_data"
    }
   ],
   "source": [
    "# mature_biomass = ee.Image(f\"{data_folder}/mature_biomass\")\n",
    "# # mature_biomass_500m_countrywide = ee.Image(f\"{data_folder}/mature_biomass_500m_countrywide\")\n",
    "# tst = ee.FeatureCollection(\"projects/amazon-forest-regrowth/assets/nearest_mature\")\n",
    "\n",
    "\n",
    "# map = geemap.Map()\n",
    "# map.addLayer(tst, {}, 'tst')\n",
    "# map.addLayer(mature_biomass, {\"min\": 0, \"max\": 400, \"palette\": [\"blue\", \"red\"]}, 'mature_biomass')\n",
    "# # map.addLayer(mature_biomass_100m, {\"min\": 0, \"max\": 400, \"palette\": [\"blue\", \"red\"]}, 'mature_biomass_100m')\n",
    "# map"
   ]
  }
 ],
 "metadata": {
  "kernelspec": {
   "display_name": "Python 3 (ipykernel)",
   "language": "python",
   "name": "python3"
  },
  "language_info": {
   "codemirror_mode": {
    "name": "ipython",
    "version": 3
   },
   "file_extension": ".py",
   "mimetype": "text/x-python",
   "name": "python",
   "nbconvert_exporter": "python",
   "pygments_lexer": "ipython3",
   "version": "3.12.3"
  }
 },
 "nbformat": 4,
 "nbformat_minor": 5
}
