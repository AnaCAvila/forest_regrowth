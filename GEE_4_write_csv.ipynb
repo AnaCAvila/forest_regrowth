{
 "cells": [
  {
   "cell_type": "markdown",
   "id": "956cff3f-99f1-45ca-b0b0-90c38a6e2c08",
   "metadata": {},
   "source": [
    "# Processing the final dataset\n",
    "\n"
   ]
  },
  {
   "cell_type": "code",
   "execution_count": 1,
   "id": "a9594018-621b-427e-89d3-0633de81979a",
   "metadata": {},
   "outputs": [
    {
     "data": {
      "text/html": [
       "<p>To authorize access needed by Earth Engine, open the following\n",
       "        URL in a web browser and follow the instructions:</p>\n",
       "        <p><a href=https://code.earthengine.google.com/client-auth?scopes=https%3A//www.googleapis.com/auth/earthengine%20https%3A//www.googleapis.com/auth/cloud-platform%20https%3A//www.googleapis.com/auth/devstorage.full_control&request_id=FK-X1eLltJMpjjoQ6M-Jc3QrpiW3tToD4FCd7rp8NZM&tc=7xVO-lGxG697x5tG_kTjvWs2dmYU6jhgF68mvlcxQCc&cc=hbCbGwm97gmQPjocEqkoZNtWs4t9j2q8aKVd3mukwkE>https://code.earthengine.google.com/client-auth?scopes=https%3A//www.googleapis.com/auth/earthengine%20https%3A//www.googleapis.com/auth/cloud-platform%20https%3A//www.googleapis.com/auth/devstorage.full_control&request_id=FK-X1eLltJMpjjoQ6M-Jc3QrpiW3tToD4FCd7rp8NZM&tc=7xVO-lGxG697x5tG_kTjvWs2dmYU6jhgF68mvlcxQCc&cc=hbCbGwm97gmQPjocEqkoZNtWs4t9j2q8aKVd3mukwkE</a></p>\n",
       "        <p>The authorization workflow will generate a code, which you should paste in the box below.</p>\n",
       "        "
      ],
      "text/plain": [
       "<IPython.core.display.HTML object>"
      ]
     },
     "metadata": {},
     "output_type": "display_data"
    },
    {
     "name": "stdout",
     "output_type": "stream",
     "text": [
      "\n",
      "Successfully saved authorization token.\n"
     ]
    }
   ],
   "source": [
    "import ee\n",
    "import geemap\n",
    "\n",
    "# Authenticate to Earth Engine\n",
    "try:\n",
    "    ee.Initialize()\n",
    "except Exception as e:\n",
    "    ee.Authenticate()\n",
    "    ee.Initialize()\n",
    "\n",
    "data_folder = \"projects/amazon-forest-regrowth/assets\"\n",
    "\n"
   ]
  },
  {
   "cell_type": "code",
   "execution_count": 31,
   "id": "d5e84af4",
   "metadata": {},
   "outputs": [
    {
     "data": {
      "text/html": [
       "\n",
       "            <style>\n",
       "                .geemap-dark {\n",
       "                    --jp-widgets-color: white;\n",
       "                    --jp-widgets-label-color: white;\n",
       "                    --jp-ui-font-color1: white;\n",
       "                    --jp-layout-color2: #454545;\n",
       "                    background-color: #383838;\n",
       "                }\n",
       "\n",
       "                .geemap-dark .jupyter-button {\n",
       "                    --jp-layout-color3: #383838;\n",
       "                }\n",
       "\n",
       "                .geemap-colab {\n",
       "                    background-color: var(--colab-primary-surface-color, white);\n",
       "                }\n",
       "\n",
       "                .geemap-colab .jupyter-button {\n",
       "                    --jp-layout-color3: var(--colab-primary-surface-color, white);\n",
       "                }\n",
       "            </style>\n",
       "            "
      ],
      "text/plain": [
       "<IPython.core.display.HTML object>"
      ]
     },
     "metadata": {},
     "output_type": "display_data"
    }
   ],
   "source": [
    "# region = \"countrywide\"\n",
    "# region = \"amaz\" #for Amazonia\n",
    "region = \"atl\" #for Mata Atlantica\n",
    "\n",
    "export_mature_biomass = False\n",
    "export_distance = False\n",
    "\n",
    "if region == \"countrywide\":\n",
    "    # Countrywide\n",
    "    region_shp = ee.FeatureCollection(f\"{data_folder}/raw/biomes_br\").geometry().dissolve()\n",
    "elif region == \"amaz\":\n",
    "    # Amazonia = 1\n",
    "    region_shp = ee.FeatureCollection(f\"{data_folder}/raw/biomes_br\") \\\n",
    "        .filter(ee.Filter.eq(\"CD_Bioma\", 1)).geometry()\n",
    "elif region == \"atl\":\n",
    "    region_shp = ee.FeatureCollection(f\"{data_folder}/raw/biomes_br\") \\\n",
    "        .filter(ee.Filter.eq(\"CD_Bioma\", 3)).geometry()\n"
   ]
  },
  {
   "cell_type": "code",
   "execution_count": 7,
   "id": "89172327",
   "metadata": {},
   "outputs": [
    {
     "data": {
      "text/html": [
       "\n",
       "            <style>\n",
       "                .geemap-dark {\n",
       "                    --jp-widgets-color: white;\n",
       "                    --jp-widgets-label-color: white;\n",
       "                    --jp-ui-font-color1: white;\n",
       "                    --jp-layout-color2: #454545;\n",
       "                    background-color: #383838;\n",
       "                }\n",
       "\n",
       "                .geemap-dark .jupyter-button {\n",
       "                    --jp-layout-color3: #383838;\n",
       "                }\n",
       "\n",
       "                .geemap-colab {\n",
       "                    background-color: var(--colab-primary-surface-color, white);\n",
       "                }\n",
       "\n",
       "                .geemap-colab .jupyter-button {\n",
       "                    --jp-layout-color3: var(--colab-primary-surface-color, white);\n",
       "                }\n",
       "            </style>\n",
       "            "
      ],
      "text/plain": [
       "<IPython.core.display.HTML object>"
      ]
     },
     "metadata": {},
     "output_type": "display_data"
    },
    {
     "data": {
      "application/vnd.jupyter.widget-view+json": {
       "model_id": "9d2d3ffae06744f5abcda6a9d89ec9ab",
       "version_major": 2,
       "version_minor": 0
      },
      "text/plain": [
       "Map(center=[-12, -55], controls=(WidgetControl(options=['position', 'transparent_bg'], widget=SearchDataGUI(ch…"
      ]
     },
     "execution_count": 7,
     "metadata": {},
     "output_type": "execute_result"
    }
   ],
   "source": [
    "mature_biomass1 = ee.Image(f\"{data_folder}/nearest_mat_biomass_1000m_countrywide\").select('mature_biomass')#.clip(region_shp)\n",
    "mature_biomass2 = ee.Image(f\"{data_folder}/nearest_mat_biomass_500m_amaz\").select('b2')#.clip(region_shp)\n",
    "mature_biomass = ee.Image(f\"{data_folder}/mature_biomass_100m_countrywide\")\n",
    "distance = ee.Image(f\"{data_folder}/distance_1000m_countrywide\")\n",
    "mature_biomass_500m_countrywide = ee.Image(f\"{data_folder}/mature_biomass_500m_countrywide\")\n",
    "\n",
    "map = geemap.Map(center=(-12, -55), zoom=4)\n",
    "map.addLayer(mature_biomass, {'min':0, 'max': 400, 'palette':['blue', 'red']}, \"mature_biomass\")\n",
    "map.addLayer(mature_biomass1, {'min':0, 'max': 400, 'palette':['blue', 'red']}, \"mature_biomass1\")\n",
    "map.addLayer(mature_biomass2, {'min':0, 'max': 400, 'palette':['blue', 'red']}, \"mature_biomass2\")\n",
    "map.addLayer(distance, {'min':0, 'max': 40000, 'palette':['blue', 'red']}, \"distance\")\n",
    "map.addLayer(mature_biomass_500m_countrywide, {'min':0, 'max': 400, 'palette':['blue', 'red']}, \"mature_biomass_500m_countrywide\")\n",
    "map"
   ]
  },
  {
   "cell_type": "code",
   "execution_count": 40,
   "id": "30cca4cb",
   "metadata": {},
   "outputs": [
    {
     "data": {
      "text/html": [
       "\n",
       "            <style>\n",
       "                .geemap-dark {\n",
       "                    --jp-widgets-color: white;\n",
       "                    --jp-widgets-label-color: white;\n",
       "                    --jp-ui-font-color1: white;\n",
       "                    --jp-layout-color2: #454545;\n",
       "                    background-color: #383838;\n",
       "                }\n",
       "\n",
       "                .geemap-dark .jupyter-button {\n",
       "                    --jp-layout-color3: #383838;\n",
       "                }\n",
       "\n",
       "                .geemap-colab {\n",
       "                    background-color: var(--colab-primary-surface-color, white);\n",
       "                }\n",
       "\n",
       "                .geemap-colab .jupyter-button {\n",
       "                    --jp-layout-color3: var(--colab-primary-surface-color, white);\n",
       "                }\n",
       "            </style>\n",
       "            "
      ],
      "text/plain": [
       "<IPython.core.display.HTML object>"
      ]
     },
     "metadata": {},
     "output_type": "display_data"
    }
   ],
   "source": [
    "def export_clipped_image(image, scale, export_type, image_name=None):\n",
    "    \"\"\"\n",
    "    Clips and exports image to Google Earth Engine asset and/or Google Drive.\n",
    "\n",
    "    Parameters:\n",
    "    - image: ee.Image, the image to export.\n",
    "    - scale: int, the scale in meters.\n",
    "    - region: str, 'amaz' or 'all_country'.\n",
    "    - export_type: str, 'asset', 'drive', or 'both'.\n",
    "    \"\"\"\n",
    "    \n",
    "    # Prepare export parameters\n",
    "    export_params = {\n",
    "        'image': image.clip(region_shp),\n",
    "        'scale': scale,\n",
    "        'region': region_shp,\n",
    "        'crs': \"EPSG:4326\",\n",
    "        'maxPixels': 1e13\n",
    "    }\n",
    "    \n",
    "    # Set additional parameters for each export type\n",
    "    if export_type in ['asset', 'both']:\n",
    "        asset_params = export_params.copy()\n",
    "        asset_params['assetId'] = f\"projects/amazon-forest-regrowth/assets/{image_name}_{scale}m_{region}\"\n",
    "        asset_params['description'] = f\"{image_name}_{scale}m_{region}_toAsset\"\n",
    "        asset_task = ee.batch.Export.image.toAsset(**asset_params)\n",
    "        asset_task.start()\n",
    "        print(f\"Asset export task for {image_name} in {region} started.\")\n",
    "    \n",
    "    if export_type in ['drive', 'both']:\n",
    "        drive_params = export_params.copy()\n",
    "        drive_params['fileNamePrefix'] = f'{image_name}_{scale}m_{region}'\n",
    "        drive_params['description'] = f\"{image_name}_{scale}m_{region}_toDrive\"\n",
    "        drive_task = ee.batch.Export.image.toDrive(**drive_params)\n",
    "        drive_task.start()\n",
    "        print(f\"Drive export task for {image_name} in {region} started.\")\n",
    "\n"
   ]
  },
  {
   "cell_type": "code",
   "execution_count": 42,
   "id": "c0bf7c42",
   "metadata": {},
   "outputs": [
    {
     "data": {
      "text/html": [
       "\n",
       "            <style>\n",
       "                .geemap-dark {\n",
       "                    --jp-widgets-color: white;\n",
       "                    --jp-widgets-label-color: white;\n",
       "                    --jp-ui-font-color1: white;\n",
       "                    --jp-layout-color2: #454545;\n",
       "                    background-color: #383838;\n",
       "                }\n",
       "\n",
       "                .geemap-dark .jupyter-button {\n",
       "                    --jp-layout-color3: #383838;\n",
       "                }\n",
       "\n",
       "                .geemap-colab {\n",
       "                    background-color: var(--colab-primary-surface-color, white);\n",
       "                }\n",
       "\n",
       "                .geemap-colab .jupyter-button {\n",
       "                    --jp-layout-color3: var(--colab-primary-surface-color, white);\n",
       "                }\n",
       "            </style>\n",
       "            "
      ],
      "text/plain": [
       "<IPython.core.display.HTML object>"
      ]
     },
     "metadata": {},
     "output_type": "display_data"
    }
   ],
   "source": [
    "mature_biomass = ee.Image(f\"{data_folder}/mature_biomass_30m_countrywide\").clip(region_shp)\n",
    "\n",
    "if export_mature_biomass:\n",
    "    export_clipped_image(mature_biomass, 500, 'both', f\"mature_biomass_500m_{region}\")"
   ]
  },
  {
   "cell_type": "code",
   "execution_count": 18,
   "id": "7bfc8e4e",
   "metadata": {},
   "outputs": [
    {
     "data": {
      "text/html": [
       "\n",
       "            <style>\n",
       "                .geemap-dark {\n",
       "                    --jp-widgets-color: white;\n",
       "                    --jp-widgets-label-color: white;\n",
       "                    --jp-ui-font-color1: white;\n",
       "                    --jp-layout-color2: #454545;\n",
       "                    background-color: #383838;\n",
       "                }\n",
       "\n",
       "                .geemap-dark .jupyter-button {\n",
       "                    --jp-layout-color3: #383838;\n",
       "                }\n",
       "\n",
       "                .geemap-colab {\n",
       "                    background-color: var(--colab-primary-surface-color, white);\n",
       "                }\n",
       "\n",
       "                .geemap-colab .jupyter-button {\n",
       "                    --jp-layout-color3: var(--colab-primary-surface-color, white);\n",
       "                }\n",
       "            </style>\n",
       "            "
      ],
      "text/plain": [
       "<IPython.core.display.HTML object>"
      ]
     },
     "metadata": {},
     "output_type": "display_data"
    }
   ],
   "source": [
    "mature_biomass_aggregated = ee.Image(f\"{data_folder}/mature_biomass_500m_{region}\")\n",
    "\n",
    "age_agbd = ee.Image(f\"{data_folder}/age_agbd\")\n",
    "\n",
    "distance = mature_biomass_aggregated.fastDistanceTransform().sqrt() \\\n",
    "    .multiply(ee.Image.pixelArea().sqrt()).rename(\"distance\") \\\n",
    "    .updateMask(age_agbd.select(\"age\")).float()\n",
    "\n",
    "if export_distance:\n",
    "    export_clipped_image(distance, 1000, 'both', 'distance')"
   ]
  },
  {
   "cell_type": "code",
   "execution_count": 30,
   "id": "d2efe52a",
   "metadata": {},
   "outputs": [
    {
     "data": {
      "text/html": [
       "\n",
       "            <style>\n",
       "                .geemap-dark {\n",
       "                    --jp-widgets-color: white;\n",
       "                    --jp-widgets-label-color: white;\n",
       "                    --jp-ui-font-color1: white;\n",
       "                    --jp-layout-color2: #454545;\n",
       "                    background-color: #383838;\n",
       "                }\n",
       "\n",
       "                .geemap-dark .jupyter-button {\n",
       "                    --jp-layout-color3: #383838;\n",
       "                }\n",
       "\n",
       "                .geemap-colab {\n",
       "                    background-color: var(--colab-primary-surface-color, white);\n",
       "                }\n",
       "\n",
       "                .geemap-colab .jupyter-button {\n",
       "                    --jp-layout-color3: var(--colab-primary-surface-color, white);\n",
       "                }\n",
       "            </style>\n",
       "            "
      ],
      "text/plain": [
       "<IPython.core.display.HTML object>"
      ]
     },
     "metadata": {},
     "output_type": "display_data"
    }
   ],
   "source": [
    "distance = ee.Image(f\"{data_folder}/distance_1000m_{region}\")\n",
    "\n",
    "export_task = ee.batch.Export.image.toDrive(\n",
    "    image=distance,\n",
    "    description='distance_1000m_countrywide',\n",
    "    region = region_shp,\n",
    "    scale=1000,\n",
    "    maxPixels=1e13\n",
    ")\n",
    "export_task.start()"
   ]
  },
  {
   "cell_type": "code",
   "execution_count": 25,
   "id": "0a62d160",
   "metadata": {},
   "outputs": [
    {
     "data": {
      "text/html": [
       "\n",
       "            <style>\n",
       "                .geemap-dark {\n",
       "                    --jp-widgets-color: white;\n",
       "                    --jp-widgets-label-color: white;\n",
       "                    --jp-ui-font-color1: white;\n",
       "                    --jp-layout-color2: #454545;\n",
       "                    background-color: #383838;\n",
       "                }\n",
       "\n",
       "                .geemap-dark .jupyter-button {\n",
       "                    --jp-layout-color3: #383838;\n",
       "                }\n",
       "\n",
       "                .geemap-colab {\n",
       "                    background-color: var(--colab-primary-surface-color, white);\n",
       "                }\n",
       "\n",
       "                .geemap-colab .jupyter-button {\n",
       "                    --jp-layout-color3: var(--colab-primary-surface-color, white);\n",
       "                }\n",
       "            </style>\n",
       "            "
      ],
      "text/plain": [
       "<IPython.core.display.HTML object>"
      ]
     },
     "metadata": {},
     "output_type": "display_data"
    }
   ],
   "source": [
    "age_agbd = ee.Image(f\"{data_folder}/age_agbd\")\n",
    "distance = ee.Image(f\"{data_folder}/distance_1000m_{region}\")\n",
    "\n",
    "# Sample the image to extract all points\n",
    "points = age_agbd.sample(\n",
    "    region=region_shp,\n",
    "    scale=30,  # Adjust the scale as needed\n",
    "    numPixels=1e13,  # Large number to ensure all points are sampled\n",
    "    geometries=True  # Include geometries in the output\n",
    ")\n",
    "\n",
    "pts_dist = distance.reduceRegions(points, ee.Reducer.first().setOutputs([\"distance\"]), scale = 1000)\n",
    "\n",
    "# pts_dist = pts_dist.map(lambda feature: ee.Feature(None, {'distance': feature.get('distance')}))\n",
    "\n",
    "# Function to buffer and calculate mean\n",
    "def buffer_and_calculate_mean(f):\n",
    "    distance = ee.Number(f.get('distance'))\n",
    "    buffered = ee.Feature(f.buffer(distance.add(1000), 1))\n",
    "    mean_value = mature_biomass_aggregated.reduceRegion(ee.Reducer.mean().unweighted(), \\\n",
    "                                                        buffered.geometry(), 1000, maxPixels=1e13)\n",
    "    return buffered.set(mean_value)\n",
    "\n",
    "pts = pts_dist.map(buffer_and_calculate_mean)\n",
    "\n",
    "pts_image = pts.reduceToImage(properties=['distance'], reducer=ee.Reducer.first())\n",
    "\n",
    "export_task = ee.batch.Export.image.toAsset(\n",
    "    image=pts_image,\n",
    "    assetId=f\"projects/amazon-forest-regrowth/assets/nearest_distance_1000m_countrywide_gee\",\n",
    "    description='nearest_distance_1000m_countrywide_gee',\n",
    "    region = region_shp,\n",
    "    scale=1000,\n",
    "    maxPixels=1e13\n",
    ")\n",
    "export_task.start()\n"
   ]
  },
  {
   "cell_type": "code",
   "execution_count": 7,
   "id": "7e05edb2",
   "metadata": {},
   "outputs": [
    {
     "data": {
      "text/html": [
       "\n",
       "            <style>\n",
       "                .geemap-dark {\n",
       "                    --jp-widgets-color: white;\n",
       "                    --jp-widgets-label-color: white;\n",
       "                    --jp-ui-font-color1: white;\n",
       "                    --jp-layout-color2: #454545;\n",
       "                    background-color: #383838;\n",
       "                }\n",
       "\n",
       "                .geemap-dark .jupyter-button {\n",
       "                    --jp-layout-color3: #383838;\n",
       "                }\n",
       "\n",
       "                .geemap-colab {\n",
       "                    background-color: var(--colab-primary-surface-color, white);\n",
       "                }\n",
       "\n",
       "                .geemap-colab .jupyter-button {\n",
       "                    --jp-layout-color3: var(--colab-primary-surface-color, white);\n",
       "                }\n",
       "            </style>\n",
       "            "
      ],
      "text/plain": [
       "<IPython.core.display.HTML object>"
      ]
     },
     "metadata": {},
     "output_type": "display_data"
    }
   ],
   "source": [
    "def export_csv(year):\n",
    "    if (year == 0):\n",
    "        land_use_years = ee.Image(f\"{data_folder}/land_use\")\n",
    "        name = f\"{region}_all\"\n",
    "    else:\n",
    "        land_use_years = ee.Image(f\"{data_folder}/land_use_{year}_years\")\n",
    "        name = f\"{region}_{year}yr\"\n",
    "\n",
    "    age_agbd = ee.Image(f\"{data_folder}/age_agbd\")\n",
    "    categorical = ee.Image(f\"{data_folder}/categorical\")\n",
    "    yearly_mean_prec = ee.Image(f\"{data_folder}/yearly_mean_prec\")\n",
    "    yearly_SI = ee.Image(f\"{data_folder}/yearly_SI\")\n",
    "    cwd = ee.Image(f\"{data_folder}/raw/cwd_chave\")\n",
    "    sur_cover = ee.Image(f\"{data_folder}/sur_cover\").rename(\"sur_cover\")\n",
    "    one_hectare_mask = ee.Image(f\"{data_folder}/one_hectare_mask\")\n",
    "    mat = ee.Image(f\"{data_folder}/nearest_mat_biomass_1000m_{region}\").rename(\"distance\", \"mature_biomass\")\n",
    "    \n",
    "    combined_mask = one_hectare_mask.And(land_use_years.select(\"last_LU\")) \\\n",
    "        .And(mat.select(\"distance\"))\n",
    "\n",
    "    unified_data = (\n",
    "        age_agbd.addBands(\n",
    "            [mat, categorical, land_use_years, cwd, sur_cover, yearly_mean_prec, yearly_SI\n",
    "        ]).updateMask(combined_mask)\n",
    "    )\n",
    "\n",
    "    unified_data_fc = unified_data.stratifiedSample(\n",
    "        numPoints = 5000, classBand = 'ecoreg', region = unified_data.geometry()\n",
    "    )\n",
    "\n",
    "    # Export an ee.FeatureCollection to Google Drive, adjusting the description based on the years\n",
    "    task = ee.batch.Export.table.toDrive(\n",
    "        collection=unified_data_fc, description=name\n",
    "    )\n",
    "    task.start()\n",
    "\n",
    "export_csv(0)\n",
    "export_csv(5)\n",
    "export_csv(10)\n",
    "export_csv(15)"
   ]
  },
  {
   "cell_type": "code",
   "execution_count": 16,
   "id": "c558997c",
   "metadata": {},
   "outputs": [
    {
     "data": {
      "text/html": [
       "\n",
       "            <style>\n",
       "                .geemap-dark {\n",
       "                    --jp-widgets-color: white;\n",
       "                    --jp-widgets-label-color: white;\n",
       "                    --jp-ui-font-color1: white;\n",
       "                    --jp-layout-color2: #454545;\n",
       "                    background-color: #383838;\n",
       "                }\n",
       "\n",
       "                .geemap-dark .jupyter-button {\n",
       "                    --jp-layout-color3: #383838;\n",
       "                }\n",
       "\n",
       "                .geemap-colab {\n",
       "                    background-color: var(--colab-primary-surface-color, white);\n",
       "                }\n",
       "\n",
       "                .geemap-colab .jupyter-button {\n",
       "                    --jp-layout-color3: var(--colab-primary-surface-color, white);\n",
       "                }\n",
       "            </style>\n",
       "            "
      ],
      "text/plain": [
       "<IPython.core.display.HTML object>"
      ]
     },
     "metadata": {},
     "output_type": "display_data"
    },
    {
     "data": {
      "application/vnd.jupyter.widget-view+json": {
       "model_id": "1c2c165ffc984fc8b89a2b43e12eed3d",
       "version_major": 2,
       "version_minor": 0
      },
      "text/plain": [
       "Map(center=[0, 0], controls=(WidgetControl(options=['position', 'transparent_bg'], widget=SearchDataGUI(childr…"
      ]
     },
     "execution_count": 16,
     "metadata": {},
     "output_type": "execute_result"
    }
   ],
   "source": [
    "ecoregion = ee.Image(f\"{data_folder}/categorical\").select(\"ecoreg\")\n",
    "biome_ecoreg = ee.Image(f\"{data_folder}/categorical\").select(\"biome\")\n",
    "biome_ibge = ee.FeatureCollection(f\"{data_folder}/raw/biomes_br\")\n",
    "age_agbd = ee.Image(f\"{data_folder}/age_agbd\")\n",
    "\n",
    "map = geemap.Map()\n",
    "map.addLayer(ecoregion, {'min': 400, 'max':620, 'palette':['red', 'blue']}, \"ecoregion\")\n",
    "map.addLayer(biome_ecoreg, {'min': 1, 'max':6, 'palette':['red', 'blue']}, \"biome_ecoreg\")\n",
    "map.addLayer(biome_ibge, {}, \"biomes\")\n",
    "map.addLayer(age_agbd.select(\"age\"), {}, \"age_agbd\")\n",
    "map\n"
   ]
  }
 ],
 "metadata": {
  "kernelspec": {
   "display_name": "Python 3 (ipykernel)",
   "language": "python",
   "name": "python3"
  },
  "language_info": {
   "codemirror_mode": {
    "name": "ipython",
    "version": 3
   },
   "file_extension": ".py",
   "mimetype": "text/x-python",
   "name": "python",
   "nbconvert_exporter": "python",
   "pygments_lexer": "ipython3",
   "version": "3.11.9"
  }
 },
 "nbformat": 4,
 "nbformat_minor": 5
}
