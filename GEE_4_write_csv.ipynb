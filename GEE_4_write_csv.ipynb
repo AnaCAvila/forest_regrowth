{
 "cells": [
  {
   "cell_type": "markdown",
   "id": "956cff3f-99f1-45ca-b0b0-90c38a6e2c08",
   "metadata": {},
   "source": [
    "# Processing the final dataset\n",
    "\n"
   ]
  },
  {
   "cell_type": "code",
   "execution_count": 1,
   "id": "a9594018-621b-427e-89d3-0633de81979a",
   "metadata": {},
   "outputs": [],
   "source": [
    "import ee\n",
    "import geemap\n",
    "\n",
    "# Authenticate to Earth Engine\n",
    "try:\n",
    "    ee.Initialize()\n",
    "except Exception as e:\n",
    "    ee.Authenticate()\n",
    "    ee.Initialize()\n",
    "\n",
    "data_folder = \"projects/amazon-forest-regrowth/assets\"\n",
    "\n"
   ]
  },
  {
   "cell_type": "code",
   "execution_count": 22,
   "id": "d5e84af4",
   "metadata": {},
   "outputs": [
    {
     "data": {
      "text/html": [
       "\n",
       "            <style>\n",
       "                .geemap-dark {\n",
       "                    --jp-widgets-color: white;\n",
       "                    --jp-widgets-label-color: white;\n",
       "                    --jp-ui-font-color1: white;\n",
       "                    --jp-layout-color2: #454545;\n",
       "                    background-color: #383838;\n",
       "                }\n",
       "\n",
       "                .geemap-dark .jupyter-button {\n",
       "                    --jp-layout-color3: #383838;\n",
       "                }\n",
       "\n",
       "                .geemap-colab {\n",
       "                    background-color: var(--colab-primary-surface-color, white);\n",
       "                }\n",
       "\n",
       "                .geemap-colab .jupyter-button {\n",
       "                    --jp-layout-color3: var(--colab-primary-surface-color, white);\n",
       "                }\n",
       "            </style>\n",
       "            "
      ],
      "text/plain": [
       "<IPython.core.display.HTML object>"
      ]
     },
     "metadata": {},
     "output_type": "display_data"
    }
   ],
   "source": [
    "# 1 = Amazonia\n",
    "# 2 = Caatinga\n",
    "# 3 = Cerrado\n",
    "# 4 = Mata Atlantica\n",
    "# 5 = Pampa\n",
    "# 6 = Pantanal\n",
    "\n",
    "# region = \"countrywide\"\n",
    "# region = \"amaz\" #for Amazonia\n",
    "region = \"atl\" #for Mata Atlantica\n",
    "# region = \"cerr\" #for Cerrado\n",
    "\n",
    "biomes_br = ee.FeatureCollection(f\"{data_folder}/raw/biomes_br\")\n",
    "\n",
    "if region == \"countrywide\":\n",
    "    # Countrywide\n",
    "    roi = biomes_br.geometry().dissolve()\n",
    "elif region == \"amaz\":\n",
    "    # Amazonia = 1\n",
    "    roi = biomes_br.filter(ee.Filter.eq(\"CD_Bioma\", 1))\n",
    "elif region == \"cerr\":\n",
    "    roi = biomes_br.filter(ee.Filter.eq(\"CD_Bioma\", 3))\n",
    "elif region == \"atl\":\n",
    "    roi = biomes_br.filter(ee.Filter.eq(\"CD_Bioma\", 4))\n",
    "\n"
   ]
  },
  {
   "cell_type": "code",
   "execution_count": 4,
   "id": "312e7c9b",
   "metadata": {},
   "outputs": [
    {
     "data": {
      "text/html": [
       "\n",
       "            <style>\n",
       "                .geemap-dark {\n",
       "                    --jp-widgets-color: white;\n",
       "                    --jp-widgets-label-color: white;\n",
       "                    --jp-ui-font-color1: white;\n",
       "                    --jp-layout-color2: #454545;\n",
       "                    background-color: #383838;\n",
       "                }\n",
       "\n",
       "                .geemap-dark .jupyter-button {\n",
       "                    --jp-layout-color3: #383838;\n",
       "                }\n",
       "\n",
       "                .geemap-colab {\n",
       "                    background-color: var(--colab-primary-surface-color, white);\n",
       "                }\n",
       "\n",
       "                .geemap-colab .jupyter-button {\n",
       "                    --jp-layout-color3: var(--colab-primary-surface-color, white);\n",
       "                }\n",
       "            </style>\n",
       "            "
      ],
      "text/plain": [
       "<IPython.core.display.HTML object>"
      ]
     },
     "metadata": {},
     "output_type": "display_data"
    }
   ],
   "source": [
    "mature_biomass = ee.Image(f\"{data_folder}/mature_biomass_500m_countrywide\").clip(roi)\n",
    "mature_biomass_vector = mature_biomass.reduceToVectors(geometry=roi, scale=500, maxPixels=1e13)\n",
    "\n",
    "secondary = ee.Image(f\"{data_folder}/age_agbd\").select(\"age\")\n",
    "distances_image = mature_biomass_vector.distance(searchRadius = 500000).toInt().updateMask(secondary)\n",
    "\n",
    "projection = mature_biomass.projection().getInfo()\n",
    "\n",
    "# # Export the mean_biomass_image as an asset\n",
    "# task = ee.batch.Export.image.toAsset(\n",
    "#     image=distances_image,\n",
    "#     assetId = \"projects/amazon-forest-regrowth/assets/distance_to_mature_biomass\",\n",
    "#     description=\"distance_to_mature_biomass\",\n",
    "#     region=roi,\n",
    "#     scale=500,\n",
    "#     crs=projection['crs'],\n",
    "#     crsTransform=projection['transform'],\n",
    "#     maxPixels=1e13\n",
    "# )\n",
    "# task.start()"
   ]
  },
  {
   "cell_type": "code",
   "execution_count": 34,
   "id": "cac6546d",
   "metadata": {},
   "outputs": [
    {
     "data": {
      "text/html": [
       "\n",
       "            <style>\n",
       "                .geemap-dark {\n",
       "                    --jp-widgets-color: white;\n",
       "                    --jp-widgets-label-color: white;\n",
       "                    --jp-ui-font-color1: white;\n",
       "                    --jp-layout-color2: #454545;\n",
       "                    background-color: #383838;\n",
       "                }\n",
       "\n",
       "                .geemap-dark .jupyter-button {\n",
       "                    --jp-layout-color3: #383838;\n",
       "                }\n",
       "\n",
       "                .geemap-colab {\n",
       "                    background-color: var(--colab-primary-surface-color, white);\n",
       "                }\n",
       "\n",
       "                .geemap-colab .jupyter-button {\n",
       "                    --jp-layout-color3: var(--colab-primary-surface-color, white);\n",
       "                }\n",
       "            </style>\n",
       "            "
      ],
      "text/plain": [
       "<IPython.core.display.HTML object>"
      ]
     },
     "metadata": {},
     "output_type": "display_data"
    },
    {
     "data": {
      "text/plain": [
       "{'type': 'Projection',\n",
       " 'crs': 'EPSG:4326',\n",
       " 'transform': [0.004491576420597608,\n",
       "  0,\n",
       "  -73.9852468000838,\n",
       "  0,\n",
       "  -0.004491576420597608,\n",
       "  5.2731107177815915]}"
      ]
     },
     "execution_count": 34,
     "metadata": {},
     "output_type": "execute_result"
    }
   ],
   "source": [
    "proj"
   ]
  },
  {
   "cell_type": "code",
   "execution_count": 39,
   "id": "e8e78196",
   "metadata": {},
   "outputs": [
    {
     "data": {
      "text/html": [
       "\n",
       "            <style>\n",
       "                .geemap-dark {\n",
       "                    --jp-widgets-color: white;\n",
       "                    --jp-widgets-label-color: white;\n",
       "                    --jp-ui-font-color1: white;\n",
       "                    --jp-layout-color2: #454545;\n",
       "                    background-color: #383838;\n",
       "                }\n",
       "\n",
       "                .geemap-dark .jupyter-button {\n",
       "                    --jp-layout-color3: #383838;\n",
       "                }\n",
       "\n",
       "                .geemap-colab {\n",
       "                    background-color: var(--colab-primary-surface-color, white);\n",
       "                }\n",
       "\n",
       "                .geemap-colab .jupyter-button {\n",
       "                    --jp-layout-color3: var(--colab-primary-surface-color, white);\n",
       "                }\n",
       "            </style>\n",
       "            "
      ],
      "text/plain": [
       "<IPython.core.display.HTML object>"
      ]
     },
     "metadata": {},
     "output_type": "display_data"
    }
   ],
   "source": [
    "distance = ee.Image(f\"{data_folder}/distance_to_mature_biomass\").clip(roi)\n",
    "mature_biomass = ee.Image(f\"{data_folder}/mature_biomass_500m_countrywide\").clip(roi)\n",
    "proj = mature_biomass.projection().getInfo()\n",
    "\n",
    "# Function to buffer and calculate mean\n",
    "def buffer_and_calculate_mean(f):\n",
    "    distance = ee.Number(f.get('distance'))\n",
    "    buffered = ee.Feature(f.buffer(distance.add(2500)))\n",
    "    \n",
    "    return buffered\n",
    "    # # Calculate mean mature biomass within buffer\n",
    "    # mean_value = mature_biomass.reduceRegion(\n",
    "    #     reducer = ee.Reducer.mean().unweighted(),\n",
    "    #     geometry = buffered.geometry(),\n",
    "    #     crs = proj['crs'],\n",
    "    #     crsTransform = proj['transform'],\n",
    "    #     maxPixels = 1e13)\n",
    "\n",
    "    # Extract mean value and set as property\n",
    "\n",
    "distances_vector = distance.stratifiedSample(\n",
    "    numPoints = 100, region = roi.geometry(), geometries = True\n",
    ")\n",
    "\n",
    "distances_vector = distances_vector.map(buffer_and_calculate_mean)\n",
    "\n",
    "# nearest_biomass = mature_biomass.reduceRegions(distances_vector_buffer, ee.Reducer.first(), \n",
    "#                                           crs = proj['crs'], crsTransform = proj['transform'])\n",
    "\n",
    "# Export the mean_biomass_image as an asset\n",
    "task = ee.batch.Export.table.toAsset(\n",
    "    collection=distances_vector,\n",
    "    assetId = \"projects/amazon-forest-regrowth/assets/distances_vector\",\n",
    "    description=\"distances_vector\"\n",
    ")\n",
    "\n",
    "task.start()\n"
   ]
  },
  {
   "cell_type": "code",
   "execution_count": 40,
   "id": "b2451874",
   "metadata": {},
   "outputs": [
    {
     "data": {
      "text/html": [
       "\n",
       "            <style>\n",
       "                .geemap-dark {\n",
       "                    --jp-widgets-color: white;\n",
       "                    --jp-widgets-label-color: white;\n",
       "                    --jp-ui-font-color1: white;\n",
       "                    --jp-layout-color2: #454545;\n",
       "                    background-color: #383838;\n",
       "                }\n",
       "\n",
       "                .geemap-dark .jupyter-button {\n",
       "                    --jp-layout-color3: #383838;\n",
       "                }\n",
       "\n",
       "                .geemap-colab {\n",
       "                    background-color: var(--colab-primary-surface-color, white);\n",
       "                }\n",
       "\n",
       "                .geemap-colab .jupyter-button {\n",
       "                    --jp-layout-color3: var(--colab-primary-surface-color, white);\n",
       "                }\n",
       "            </style>\n",
       "            "
      ],
      "text/plain": [
       "<IPython.core.display.HTML object>"
      ]
     },
     "metadata": {},
     "output_type": "display_data"
    }
   ],
   "source": [
    "distances_vector_buffer = ee.FeatureCollection('projects/amazon-forest-regrowth/assets/mean_biomass_tst_100')\n",
    "\n",
    "nearest_biomass = mature_biomass.reduceRegions(distances_vector_buffer, ee.Reducer.mean().unweighted(), \n",
    "                                          crs = proj['crs'], crsTransform = proj['transform'])\n",
    "\n",
    "# Export the mean_biomass_image as an asset\n",
    "task = ee.batch.Export.table.toAsset(\n",
    "    collection=nearest_biomass,\n",
    "    assetId = \"projects/amazon-forest-regrowth/assets/nearest_biomass\",\n",
    "    description=\"nearest_biomass\"\n",
    ")\n",
    "\n",
    "task.start()"
   ]
  },
  {
   "cell_type": "code",
   "execution_count": 24,
   "id": "7e05edb2",
   "metadata": {},
   "outputs": [
    {
     "data": {
      "text/html": [
       "\n",
       "            <style>\n",
       "                .geemap-dark {\n",
       "                    --jp-widgets-color: white;\n",
       "                    --jp-widgets-label-color: white;\n",
       "                    --jp-ui-font-color1: white;\n",
       "                    --jp-layout-color2: #454545;\n",
       "                    background-color: #383838;\n",
       "                }\n",
       "\n",
       "                .geemap-dark .jupyter-button {\n",
       "                    --jp-layout-color3: #383838;\n",
       "                }\n",
       "\n",
       "                .geemap-colab {\n",
       "                    background-color: var(--colab-primary-surface-color, white);\n",
       "                }\n",
       "\n",
       "                .geemap-colab .jupyter-button {\n",
       "                    --jp-layout-color3: var(--colab-primary-surface-color, white);\n",
       "                }\n",
       "            </style>\n",
       "            "
      ],
      "text/plain": [
       "<IPython.core.display.HTML object>"
      ]
     },
     "metadata": {},
     "output_type": "display_data"
    }
   ],
   "source": [
    "mature_biomass = ee.Image(f\"{data_folder}/mature_biomass_500m_countrywide\").clip(roi)\n",
    "\n",
    "# def export_csv(year):\n",
    "year = 10\n",
    "if (year == 0):\n",
    "    land_use_years = ee.Image(f\"{data_folder}/land_use\")\n",
    "    name = f\"{region}_all\"\n",
    "else:\n",
    "    land_use_years = ee.Image(f\"{data_folder}/land_use_{year}_years\")\n",
    "    name = f\"{region}_{year}yr\"\n",
    "\n",
    "age_agbd = ee.Image(f\"{data_folder}/age_agbd\")\n",
    "categorical = ee.Image(f\"{data_folder}/categorical\")\n",
    "yearly_mean_prec = ee.Image(f\"{data_folder}/yearly_mean_prec\")\n",
    "yearly_SI = ee.Image(f\"{data_folder}/yearly_SI\")\n",
    "cwd = ee.Image(f\"{data_folder}/raw/cwd_chave\")\n",
    "sur_cover = ee.Image(f\"{data_folder}/sur_cover\").rename(\"sur_cover\")\n",
    "one_hectare_mask = ee.Image(f\"{data_folder}/one_hectare_mask\")\n",
    "distance = ee.Image(f\"{data_folder}/distance_to_mature_biomass\")\n",
    "\n",
    "combined_mask = one_hectare_mask.And(land_use_years.select(\"last_LU\"))\n",
    "\n",
    "unified_data = (\n",
    "    age_agbd.addBands(\n",
    "        [distance, categorical, land_use_years, cwd, sur_cover, yearly_mean_prec, yearly_SI\n",
    "    ]).updateMask(combined_mask)\n",
    ")\n",
    "\n",
    "unified_data_fc = unified_data.stratifiedSample(\n",
    "    numPoints = 10000, classBand = 'biome', region = roi.geometry(), geometries = True\n",
    ")\n",
    "\n",
    "pts_bm = unified_data_fc.map(buffer_and_calculate_mean)\n",
    "\n",
    "task = ee.batch.Export.table.toDrive(\n",
    "    collection=pts_bm, description=name\n",
    ")\n",
    "task.start()\n",
    "\n",
    "task = ee.batch.Export.table.toAsset(\n",
    "    collection=pts_bm, description=name, assetId=f\"projects/amazon-forest-regrowth/assets/{name}\"\n",
    ")\n",
    "task.start()\n",
    "\n",
    "# export_csv(0)\n",
    "# export_csv(5)\n",
    "# export_csv(10)\n",
    "# export_csv(15)\n",
    "\n"
   ]
  },
  {
   "cell_type": "code",
   "execution_count": 37,
   "id": "84cac8e2",
   "metadata": {},
   "outputs": [
    {
     "data": {
      "text/html": [
       "\n",
       "            <style>\n",
       "                .geemap-dark {\n",
       "                    --jp-widgets-color: white;\n",
       "                    --jp-widgets-label-color: white;\n",
       "                    --jp-ui-font-color1: white;\n",
       "                    --jp-layout-color2: #454545;\n",
       "                    background-color: #383838;\n",
       "                }\n",
       "\n",
       "                .geemap-dark .jupyter-button {\n",
       "                    --jp-layout-color3: #383838;\n",
       "                }\n",
       "\n",
       "                .geemap-colab {\n",
       "                    background-color: var(--colab-primary-surface-color, white);\n",
       "                }\n",
       "\n",
       "                .geemap-colab .jupyter-button {\n",
       "                    --jp-layout-color3: var(--colab-primary-surface-color, white);\n",
       "                }\n",
       "            </style>\n",
       "            "
      ],
      "text/plain": [
       "<IPython.core.display.HTML object>"
      ]
     },
     "metadata": {},
     "output_type": "display_data"
    }
   ],
   "source": [
    "# mature_biomass = ee.Image(f\"{data_folder}/mature_biomass\")\n",
    "# mature_biomass_500m_countrywide = ee.Image(f\"{data_folder}/mature_biomass_500m_countrywide\")\n",
    "# biomass_all = ee.Image(f\"{data_folder}/raw/biomass\")\n",
    "\n",
    "\n",
    "# map = geemap.Map()\n",
    "# map.addLayer(biomass_all, {\"min\": 0, \"max\": 400, \"palette\": [\"blue\", \"red\"]}, 'biomass_all')\n",
    "# map.addLayer(mature_biomass, {\"min\": 0, \"max\": 400, \"palette\": [\"blue\", \"red\"]}, 'mature_biomass')\n",
    "# map.addLayer(mature_biomass_100m, {\"min\": 0, \"max\": 400, \"palette\": [\"blue\", \"red\"]}, 'mature_biomass_100m')\n",
    "# map"
   ]
  },
  {
   "cell_type": "code",
   "execution_count": 43,
   "id": "7ec3af5e",
   "metadata": {},
   "outputs": [
    {
     "data": {
      "text/html": [
       "\n",
       "            <style>\n",
       "                .geemap-dark {\n",
       "                    --jp-widgets-color: white;\n",
       "                    --jp-widgets-label-color: white;\n",
       "                    --jp-ui-font-color1: white;\n",
       "                    --jp-layout-color2: #454545;\n",
       "                    background-color: #383838;\n",
       "                }\n",
       "\n",
       "                .geemap-dark .jupyter-button {\n",
       "                    --jp-layout-color3: #383838;\n",
       "                }\n",
       "\n",
       "                .geemap-colab {\n",
       "                    background-color: var(--colab-primary-surface-color, white);\n",
       "                }\n",
       "\n",
       "                .geemap-colab .jupyter-button {\n",
       "                    --jp-layout-color3: var(--colab-primary-surface-color, white);\n",
       "                }\n",
       "            </style>\n",
       "            "
      ],
      "text/plain": [
       "<IPython.core.display.HTML object>"
      ]
     },
     "metadata": {},
     "output_type": "display_data"
    },
    {
     "data": {
      "application/vnd.jupyter.widget-view+json": {
       "model_id": "fa240da4cdf448bd9ab0f7a99cecce48",
       "version_major": 2,
       "version_minor": 0
      },
      "text/plain": [
       "Map(center=[0, 0], controls=(WidgetControl(options=['position', 'transparent_bg'], widget=SearchDataGUI(childr…"
      ]
     },
     "execution_count": 43,
     "metadata": {},
     "output_type": "execute_result"
    }
   ],
   "source": [
    "# # remove everything within 500m of the edge\n",
    "distance_Tst = ee.FeatureCollection(\"projects/amazon-forest-regrowth/assets/mean_biomass_tst_100\")\n",
    "# distance_Tst = distance_Tst.filter(ee.Filter.eq('mature_biomass', None))\n",
    "\n",
    "mature_biomass = ee.Image(f\"{data_folder}/mature_biomass_500m_countrywide\").clip(roi)\n",
    "mature_biomass_vector = mature_biomass.reduceToVectors(geometry=roi, scale=500, maxPixels=1e13)\n",
    "\n",
    "nearest_biomass = mature_biomass.reduceRegions(distance_Tst, ee.Reducer.firstNonNull(), \n",
    "                                          crs = proj['crs'], crsTransform = proj['transform'])\n",
    "\n",
    "\n",
    "map = geemap.Map()\n",
    "map.addLayer(distance_Tst, {}, 'dist')\n",
    "# map.addLayer(secondary, {\"min\": 0, \"max\": 35, \"palette\": [\"white\", \"red\"]}, 'age')\n",
    "map.addLayer(mature_biomass, {\"min\": 0, \"max\": 400, \"palette\": [\"blue\", \"red\"]}, 'mature_biomass')\n",
    "map.addLayer(nearest_biomass, {}, 'nearest_biomass')\n",
    "\n",
    "map"
   ]
  },
  {
   "cell_type": "code",
   "execution_count": 25,
   "id": "84b726b3",
   "metadata": {},
   "outputs": [
    {
     "data": {
      "text/html": [
       "\n",
       "            <style>\n",
       "                .geemap-dark {\n",
       "                    --jp-widgets-color: white;\n",
       "                    --jp-widgets-label-color: white;\n",
       "                    --jp-ui-font-color1: white;\n",
       "                    --jp-layout-color2: #454545;\n",
       "                    background-color: #383838;\n",
       "                }\n",
       "\n",
       "                .geemap-dark .jupyter-button {\n",
       "                    --jp-layout-color3: #383838;\n",
       "                }\n",
       "\n",
       "                .geemap-colab {\n",
       "                    background-color: var(--colab-primary-surface-color, white);\n",
       "                }\n",
       "\n",
       "                .geemap-colab .jupyter-button {\n",
       "                    --jp-layout-color3: var(--colab-primary-surface-color, white);\n",
       "                }\n",
       "            </style>\n",
       "            "
      ],
      "text/plain": [
       "<IPython.core.display.HTML object>"
      ]
     },
     "metadata": {},
     "output_type": "display_data"
    }
   ],
   "source": [
    "gaul = ee.FeatureCollection('FAO/GAUL/2015/level0')\n",
    "\n",
    "# List of South American country names\n",
    "south_american_countries = [\n",
    "    'Argentina', 'Bolivia', 'Brazil', 'Chile', 'Colombia', 'Ecuador',\n",
    "    'French Guiana', 'Guyana', 'Paraguay', 'Peru', 'Suriname', 'Uruguay', 'Venezuela'\n",
    "]\n",
    "\n",
    "# Filter the GAUL dataset for South American countries using ADM0_NAME\n",
    "south_america = gaul.filter(ee.Filter.inList('ADM0_NAME', south_american_countries))\n",
    "# # Merge all South American features into a single feature\n",
    "south_america_merged = south_america.union().geometry()\n",
    "\n",
    "# Extract Brazil separately\n",
    "brazil = gaul.filter(ee.Filter.eq('ADM0_NAME', 'Brazil')).first().geometry()\n",
    "\n",
    "\n",
    "distance_to_edge = edge_detec.fastDistanceTransform().sqrt() \\\n",
    "    .multiply(ee.Image.pixelArea().sqrt()).rename(\"distance_to_edge\")\n",
    "\n",
    "# edge_mask = brazil_buffer.difference(south_america_merged.geometry())\n",
    "secondary_notedge = secondary.updateMask(secondary.mask(brazil_buffer))\n",
    "\n",
    "# map = geemap.Map()\n",
    "# map.addLayer(secondary_notedge, {}, \"secondary_not edge buffer\")\n",
    "# map\n",
    "\n",
    "# Create a mask by subtracting the buffered area from the South America feature\n",
    "\n",
    "# Export the mean_biomass_image as an asset\n",
    "task = ee.batch.Export.table.toAsset(\n",
    "    collection=brazil_buffer,\n",
    "    assetId = \"projects/amazon-forest-regrowth/assets/brazil_buffer\",\n",
    "    description=\"brazil_buffer\"\n",
    ")\n",
    "task.start()"
   ]
  }
 ],
 "metadata": {
  "kernelspec": {
   "display_name": "Python 3 (ipykernel)",
   "language": "python",
   "name": "python3"
  },
  "language_info": {
   "codemirror_mode": {
    "name": "ipython",
    "version": 3
   },
   "file_extension": ".py",
   "mimetype": "text/x-python",
   "name": "python",
   "nbconvert_exporter": "python",
   "pygments_lexer": "ipython3",
   "version": "3.12.3"
  }
 },
 "nbformat": 4,
 "nbformat_minor": 5
}
