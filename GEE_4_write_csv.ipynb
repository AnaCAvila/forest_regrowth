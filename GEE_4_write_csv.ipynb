{
 "cells": [
  {
   "cell_type": "markdown",
   "id": "956cff3f-99f1-45ca-b0b0-90c38a6e2c08",
   "metadata": {},
   "source": [
    "# Processing the final dataset\n",
    "\n"
   ]
  },
  {
   "cell_type": "code",
   "execution_count": 2,
   "id": "a9594018-621b-427e-89d3-0633de81979a",
   "metadata": {},
   "outputs": [],
   "source": [
    "import ee\n",
    "import geemap\n",
    "\n",
    "# Authenticate to Earth Engine\n",
    "try:\n",
    "    ee.Initialize()\n",
    "except Exception as e:\n",
    "    ee.Authenticate()\n",
    "    ee.Initialize()\n",
    "\n",
    "data_folder = \"projects/amazon-forest-regrowth/assets\"\n",
    "\n",
    "region = \"countrywide\"\n",
    "# region = \"amaz\" #for Amazonia"
   ]
  },
  {
   "cell_type": "code",
   "execution_count": 5,
   "id": "d5e84af4",
   "metadata": {},
   "outputs": [
    {
     "data": {
      "text/html": [
       "\n",
       "            <style>\n",
       "                .geemap-dark {\n",
       "                    --jp-widgets-color: white;\n",
       "                    --jp-widgets-label-color: white;\n",
       "                    --jp-ui-font-color1: white;\n",
       "                    --jp-layout-color2: #454545;\n",
       "                    background-color: #383838;\n",
       "                }\n",
       "\n",
       "                .geemap-dark .jupyter-button {\n",
       "                    --jp-layout-color3: #383838;\n",
       "                }\n",
       "\n",
       "                .geemap-colab {\n",
       "                    background-color: var(--colab-primary-surface-color, white);\n",
       "                }\n",
       "\n",
       "                .geemap-colab .jupyter-button {\n",
       "                    --jp-layout-color3: var(--colab-primary-surface-color, white);\n",
       "                }\n",
       "            </style>\n",
       "            "
      ],
      "text/plain": [
       "<IPython.core.display.HTML object>"
      ]
     },
     "metadata": {},
     "output_type": "display_data"
    }
   ],
   "source": [
    "if region == \"countrywide\":\n",
    "    # Countrywide\n",
    "    region_shp = ee.FeatureCollection(f\"{data_folder}/raw/biomes_br\").geometry().dissolve()\n",
    "else:\n",
    "    # Amazonia = 1\n",
    "    region_shp = ee.FeatureCollection(f\"{data_folder}/raw/biomes_br\") \\\n",
    "        .filter(ee.Filter.eq(\"CD_Bioma\", 1)).geometry()\n",
    "\n"
   ]
  },
  {
   "cell_type": "code",
   "execution_count": 28,
   "id": "30cca4cb",
   "metadata": {},
   "outputs": [
    {
     "data": {
      "text/html": [
       "\n",
       "            <style>\n",
       "                .geemap-dark {\n",
       "                    --jp-widgets-color: white;\n",
       "                    --jp-widgets-label-color: white;\n",
       "                    --jp-ui-font-color1: white;\n",
       "                    --jp-layout-color2: #454545;\n",
       "                    background-color: #383838;\n",
       "                }\n",
       "\n",
       "                .geemap-dark .jupyter-button {\n",
       "                    --jp-layout-color3: #383838;\n",
       "                }\n",
       "\n",
       "                .geemap-colab {\n",
       "                    background-color: var(--colab-primary-surface-color, white);\n",
       "                }\n",
       "\n",
       "                .geemap-colab .jupyter-button {\n",
       "                    --jp-layout-color3: var(--colab-primary-surface-color, white);\n",
       "                }\n",
       "            </style>\n",
       "            "
      ],
      "text/plain": [
       "<IPython.core.display.HTML object>"
      ]
     },
     "metadata": {},
     "output_type": "display_data"
    }
   ],
   "source": [
    "def export_clipped_image(image, scale, export_type, image_name=None):\n",
    "    \"\"\"\n",
    "    Clips and exports image to Google Earth Engine asset and/or Google Drive.\n",
    "\n",
    "    Parameters:\n",
    "    - image: ee.Image, the image to export.\n",
    "    - scale: int, the scale in meters.\n",
    "    - region: str, 'amaz' or 'all_country'.\n",
    "    - export_type: str, 'asset', 'drive', or 'both'.\n",
    "    \"\"\"\n",
    "    \n",
    "    # Get the image name for exports\n",
    "    # Attempt to retrieve the image name from system:id\n",
    "    if image_name is None:\n",
    "        try:\n",
    "            image_name = image.get('system:id').getInfo().split('/')[-1]\n",
    "        except:\n",
    "            raise ValueError(\"Image name not found in system:id. Please define image_name parameter.\")\n",
    "    \n",
    "    # Prepare export parameters\n",
    "    export_params = {\n",
    "        'image': image.clip(region_shp),\n",
    "        'scale': scale,\n",
    "        'region': region_shp,\n",
    "        'crs': \"EPSG:4326\",\n",
    "        'maxPixels': 1e13\n",
    "    }\n",
    "    \n",
    "    # Set additional parameters for each export type\n",
    "    if export_type in ['asset', 'both']:\n",
    "        asset_params = export_params.copy()\n",
    "        asset_params['assetId'] = f\"projects/amazon-forest-regrowth/assets/{image_name}_{scale}m_{region}\"\n",
    "        asset_params['description'] = f\"{image_name}_{scale}m_{region}_toAsset\"\n",
    "        asset_task = ee.batch.Export.image.toAsset(**asset_params)\n",
    "        asset_task.start()\n",
    "        print(f\"Asset export task for {image_name} in {region} started.\")\n",
    "    \n",
    "    if export_type in ['drive', 'both']:\n",
    "        drive_params = export_params.copy()\n",
    "        drive_params['fileNamePrefix'] = f'{image_name}_{scale}m_{region}'\n",
    "        drive_params['description'] = f\"{image_name}_{scale}m_{region}_toDrive\"\n",
    "        drive_task = ee.batch.Export.image.toDrive(**drive_params)\n",
    "        drive_task.start()\n",
    "        print(f\"Drive export task for {image_name} in {region} started.\")\n",
    "\n"
   ]
  },
  {
   "cell_type": "code",
   "execution_count": 24,
   "id": "c0bf7c42",
   "metadata": {},
   "outputs": [
    {
     "data": {
      "text/html": [
       "\n",
       "            <style>\n",
       "                .geemap-dark {\n",
       "                    --jp-widgets-color: white;\n",
       "                    --jp-widgets-label-color: white;\n",
       "                    --jp-ui-font-color1: white;\n",
       "                    --jp-layout-color2: #454545;\n",
       "                    background-color: #383838;\n",
       "                }\n",
       "\n",
       "                .geemap-dark .jupyter-button {\n",
       "                    --jp-layout-color3: #383838;\n",
       "                }\n",
       "\n",
       "                .geemap-colab {\n",
       "                    background-color: var(--colab-primary-surface-color, white);\n",
       "                }\n",
       "\n",
       "                .geemap-colab .jupyter-button {\n",
       "                    --jp-layout-color3: var(--colab-primary-surface-color, white);\n",
       "                }\n",
       "            </style>\n",
       "            "
      ],
      "text/plain": [
       "<IPython.core.display.HTML object>"
      ]
     },
     "metadata": {},
     "output_type": "display_data"
    },
    {
     "name": "stdout",
     "output_type": "stream",
     "text": [
      "Asset export task for mature_biomass in all_country started.\n",
      "Drive export task for mature_biomass in all_country started.\n"
     ]
    }
   ],
   "source": [
    "mature_biomass = ee.Image(f\"{data_folder}/mature_biomass\")\n",
    "\n",
    "# Export to Drive for all country\n",
    "export_clipped_image(mature_biomass, 500, 'both')"
   ]
  },
  {
   "cell_type": "code",
   "execution_count": 29,
   "id": "7bfc8e4e",
   "metadata": {},
   "outputs": [
    {
     "data": {
      "text/html": [
       "\n",
       "            <style>\n",
       "                .geemap-dark {\n",
       "                    --jp-widgets-color: white;\n",
       "                    --jp-widgets-label-color: white;\n",
       "                    --jp-ui-font-color1: white;\n",
       "                    --jp-layout-color2: #454545;\n",
       "                    background-color: #383838;\n",
       "                }\n",
       "\n",
       "                .geemap-dark .jupyter-button {\n",
       "                    --jp-layout-color3: #383838;\n",
       "                }\n",
       "\n",
       "                .geemap-colab {\n",
       "                    background-color: var(--colab-primary-surface-color, white);\n",
       "                }\n",
       "\n",
       "                .geemap-colab .jupyter-button {\n",
       "                    --jp-layout-color3: var(--colab-primary-surface-color, white);\n",
       "                }\n",
       "            </style>\n",
       "            "
      ],
      "text/plain": [
       "<IPython.core.display.HTML object>"
      ]
     },
     "metadata": {},
     "output_type": "display_data"
    },
    {
     "name": "stdout",
     "output_type": "stream",
     "text": [
      "Asset export task for distance in all_country started.\n",
      "Drive export task for distance in all_country started.\n"
     ]
    }
   ],
   "source": [
    "mature_biomass_aggregated = ee.Image(f\"{data_folder}/mature_biomass_500m\")\n",
    "\n",
    "age_agbd = ee.Image(f\"{data_folder}/age_agbd\")\n",
    "\n",
    "distance = mature_biomass_aggregated.fastDistanceTransform().sqrt() \\\n",
    "    .multiply(ee.Image.pixelArea().sqrt()).rename(\"distance\") \\\n",
    "    .updateMask(age_agbd.select(\"age\")).float()\n",
    "\n",
    "# Export to Drive for all country\n",
    "export_clipped_image(distance, 1000, 'both', 'distance')\n",
    "\n"
   ]
  },
  {
   "cell_type": "code",
   "execution_count": 12,
   "id": "60fffca9",
   "metadata": {},
   "outputs": [
    {
     "data": {
      "text/html": [
       "\n",
       "            <style>\n",
       "                .geemap-dark {\n",
       "                    --jp-widgets-color: white;\n",
       "                    --jp-widgets-label-color: white;\n",
       "                    --jp-ui-font-color1: white;\n",
       "                    --jp-layout-color2: #454545;\n",
       "                    background-color: #383838;\n",
       "                }\n",
       "\n",
       "                .geemap-dark .jupyter-button {\n",
       "                    --jp-layout-color3: #383838;\n",
       "                }\n",
       "\n",
       "                .geemap-colab {\n",
       "                    background-color: var(--colab-primary-surface-color, white);\n",
       "                }\n",
       "\n",
       "                .geemap-colab .jupyter-button {\n",
       "                    --jp-layout-color3: var(--colab-primary-surface-color, white);\n",
       "                }\n",
       "            </style>\n",
       "            "
      ],
      "text/plain": [
       "<IPython.core.display.HTML object>"
      ]
     },
     "metadata": {},
     "output_type": "display_data"
    }
   ],
   "source": [
    "sur_cover = ee.Image(f\"{data_folder}/sur_cover\").rename(\"sur_cover\")\n",
    "one_hectare_mask = ee.Image(f\"{data_folder}/one_hectare_mask\").rename(\"one_hectare_mask\")\n",
    "cwd = ee.Image(f\"{data_folder}/raw/cwd_chave\").float().rename(\"cwd\")\n",
    "\n",
    "asset_task = ee.batch.Export.image.toAsset(sur_cover,\n",
    "    **{'assetId': f\"projects/amazon-forest-regrowth/assets/sur_cover_1\",\n",
    "    'region': region_shp,\n",
    "    # 'scale': 1000,\n",
    "    'description': \"sur_cover\",\n",
    "    'maxPixels': 1e13\n",
    "})\n",
    "\n",
    "asset_task.start()"
   ]
  },
  {
   "cell_type": "code",
   "execution_count": 38,
   "id": "7e05edb2",
   "metadata": {},
   "outputs": [
    {
     "data": {
      "text/html": [
       "\n",
       "            <style>\n",
       "                .geemap-dark {\n",
       "                    --jp-widgets-color: white;\n",
       "                    --jp-widgets-label-color: white;\n",
       "                    --jp-ui-font-color1: white;\n",
       "                    --jp-layout-color2: #454545;\n",
       "                    background-color: #383838;\n",
       "                }\n",
       "\n",
       "                .geemap-dark .jupyter-button {\n",
       "                    --jp-layout-color3: #383838;\n",
       "                }\n",
       "\n",
       "                .geemap-colab {\n",
       "                    background-color: var(--colab-primary-surface-color, white);\n",
       "                }\n",
       "\n",
       "                .geemap-colab .jupyter-button {\n",
       "                    --jp-layout-color3: var(--colab-primary-surface-color, white);\n",
       "                }\n",
       "            </style>\n",
       "            "
      ],
      "text/plain": [
       "<IPython.core.display.HTML object>"
      ]
     },
     "metadata": {},
     "output_type": "display_data"
    }
   ],
   "source": [
    "def export_csv(year):\n",
    "    if (year == 0):\n",
    "        land_use_years = ee.Image(f\"{data_folder}/land_use\")\n",
    "        name = f\"{region}_all\"\n",
    "    else:\n",
    "        land_use_years = ee.Image(f\"{data_folder}/land_use_{year}_years\")\n",
    "        name = f\"{region}_{year}yr\"\n",
    "\n",
    "    age_agbd = ee.Image(f\"{data_folder}/age_agbd\")\n",
    "    categorical = ee.Image(f\"{data_folder}/categorical\")\n",
    "    yearly_mean_prec = ee.Image(f\"{data_folder}/yearly_mean_prec\")\n",
    "    yearly_SI = ee.Image(f\"{data_folder}/yearly_SI\")\n",
    "    cwd = ee.Image(f\"{data_folder}/raw/cwd_chave\")\n",
    "    sur_cover = ee.Image(f\"{data_folder}/sur_cover\")\n",
    "    one_hectare_mask = ee.Image(f\"{data_folder}/one_hectare_mask\")\n",
    "    mat = ee.Image(f\"{data_folder}/nearest_mat_biomass_1000m_{region}\")\n",
    "\n",
    "    combined_mask = one_hectare_mask.And(land_use_years.select(\"last_LU\")) \\\n",
    "        .And(mat.select(\"distance\"))\n",
    "\n",
    "    unified_data = (\n",
    "        age_agbd.addBands(\n",
    "            [mat, categorical, land_use_years, cwd, sur_cover, yearly_mean_prec, yearly_SI\n",
    "        ]).updateMask(combined_mask)\n",
    "    )\n",
    "\n",
    "    unified_data_fc = unified_data.stratifiedSample(\n",
    "        numPoints = 5000, classBand = 'ecoreg', region = unified_data.geometry()\n",
    "    )\n",
    "\n",
    "    # Export an ee.FeatureCollection to Google Drive, adjusting the description based on the years\n",
    "    task = ee.batch.Export.table.toDrive(\n",
    "        collection=unified_data_fc, description=name\n",
    "    )\n",
    "    task.start()\n",
    "\n",
    "export_csv(0)\n",
    "export_csv(5)\n",
    "export_csv(10)\n",
    "export_csv(15)"
   ]
  }
 ],
 "metadata": {
  "kernelspec": {
   "display_name": "Python 3 (ipykernel)",
   "language": "python",
   "name": "python3"
  },
  "language_info": {
   "codemirror_mode": {
    "name": "ipython",
    "version": 3
   },
   "file_extension": ".py",
   "mimetype": "text/x-python",
   "name": "python",
   "nbconvert_exporter": "python",
   "pygments_lexer": "ipython3",
   "version": "3.11.9"
  }
 },
 "nbformat": 4,
 "nbformat_minor": 5
}
